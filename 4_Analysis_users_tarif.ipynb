{
 "cells": [
  {
   "cell_type": "markdown",
   "metadata": {},
   "source": [
    "# Определение перспективного тарифа для телеком компании"
   ]
  },
  {
   "cell_type": "markdown",
   "metadata": {},
   "source": [
    "## Откройте файл с данными и изучите общую информацию"
   ]
  },
  {
   "cell_type": "code",
   "execution_count": 1,
   "metadata": {},
   "outputs": [],
   "source": [
    "#загрузим нужыне в работе билблиотеки\n",
    "import pandas as pd\n",
    "import numpy as np\n",
    "import matplotlib.pyplot as plt\n",
    "import math\n",
    "from datetime import datetime\n",
    "from scipy import stats as st\n",
    "\n",
    "#кол-во колонок на просмотре\n",
    "pd.set_option('display.max_columns', 25)\n",
    "#большие числа показывать без плавующей точки\n",
    "pd.set_option('display.float_format', lambda x: '%.2f' % x)"
   ]
  },
  {
   "cell_type": "code",
   "execution_count": 2,
   "metadata": {},
   "outputs": [],
   "source": [
    "# загружаем данные по всем таблицам\n",
    "# серверный путь\n",
    "try:\n",
    "    users = pd.read_csv('/datasets/users.csv')\n",
    "    calls = pd.read_csv('/datasets/calls.csv')\n",
    "    messages = pd.read_csv('/datasets/messages.csv')\n",
    "    internet = pd.read_csv('/datasets/internet.csv')\n",
    "    tariffs = pd.read_csv('/datasets/tariffs.csv')\n",
    "# локальный путь\n",
    "except:\n",
    "    users = pd.read_csv('C:/Dev/Jupyter/dist/projects//datasets/users.csv')\n",
    "    calls = pd.read_csv('C:/Dev/Jupyter/dist/projects//datasets/calls.csv')\n",
    "    messages = pd.read_csv('C:/Dev/Jupyter/dist/projects//datasets/messages.csv')\n",
    "    internet = pd.read_csv('C:/Dev/Jupyter/dist/projects//datasets/internet.csv')\n",
    "    tariffs = pd.read_csv('C:/Dev/Jupyter/dist/projects//datasets/tariffs.csv')\n",
    "    "
   ]
  },
  {
   "cell_type": "markdown",
   "metadata": {},
   "source": [
    "Посмотрим какие данные и их тип есть "
   ]
  },
  {
   "cell_type": "code",
   "execution_count": 3,
   "metadata": {},
   "outputs": [
    {
     "data": {
      "text/html": [
       "<div>\n",
       "<style scoped>\n",
       "    .dataframe tbody tr th:only-of-type {\n",
       "        vertical-align: middle;\n",
       "    }\n",
       "\n",
       "    .dataframe tbody tr th {\n",
       "        vertical-align: top;\n",
       "    }\n",
       "\n",
       "    .dataframe thead th {\n",
       "        text-align: right;\n",
       "    }\n",
       "</style>\n",
       "<table border=\"1\" class=\"dataframe\">\n",
       "  <thead>\n",
       "    <tr style=\"text-align: right;\">\n",
       "      <th></th>\n",
       "      <th>user_id</th>\n",
       "      <th>age</th>\n",
       "      <th>churn_date</th>\n",
       "      <th>city</th>\n",
       "      <th>first_name</th>\n",
       "      <th>last_name</th>\n",
       "      <th>reg_date</th>\n",
       "      <th>tariff</th>\n",
       "    </tr>\n",
       "  </thead>\n",
       "  <tbody>\n",
       "    <tr>\n",
       "      <td>0</td>\n",
       "      <td>1000</td>\n",
       "      <td>52</td>\n",
       "      <td>NaN</td>\n",
       "      <td>Краснодар</td>\n",
       "      <td>Рафаил</td>\n",
       "      <td>Верещагин</td>\n",
       "      <td>2018-05-25</td>\n",
       "      <td>ultra</td>\n",
       "    </tr>\n",
       "    <tr>\n",
       "      <td>1</td>\n",
       "      <td>1001</td>\n",
       "      <td>41</td>\n",
       "      <td>NaN</td>\n",
       "      <td>Москва</td>\n",
       "      <td>Иван</td>\n",
       "      <td>Ежов</td>\n",
       "      <td>2018-11-01</td>\n",
       "      <td>smart</td>\n",
       "    </tr>\n",
       "    <tr>\n",
       "      <td>2</td>\n",
       "      <td>1002</td>\n",
       "      <td>59</td>\n",
       "      <td>NaN</td>\n",
       "      <td>Стерлитамак</td>\n",
       "      <td>Евгений</td>\n",
       "      <td>Абрамович</td>\n",
       "      <td>2018-06-17</td>\n",
       "      <td>smart</td>\n",
       "    </tr>\n",
       "    <tr>\n",
       "      <td>3</td>\n",
       "      <td>1003</td>\n",
       "      <td>23</td>\n",
       "      <td>NaN</td>\n",
       "      <td>Москва</td>\n",
       "      <td>Белла</td>\n",
       "      <td>Белякова</td>\n",
       "      <td>2018-08-17</td>\n",
       "      <td>ultra</td>\n",
       "    </tr>\n",
       "    <tr>\n",
       "      <td>4</td>\n",
       "      <td>1004</td>\n",
       "      <td>68</td>\n",
       "      <td>NaN</td>\n",
       "      <td>Новокузнецк</td>\n",
       "      <td>Татьяна</td>\n",
       "      <td>Авдеенко</td>\n",
       "      <td>2018-05-14</td>\n",
       "      <td>ultra</td>\n",
       "    </tr>\n",
       "    <tr>\n",
       "      <td>5</td>\n",
       "      <td>1005</td>\n",
       "      <td>67</td>\n",
       "      <td>NaN</td>\n",
       "      <td>Набережные Челны</td>\n",
       "      <td>Афанасий</td>\n",
       "      <td>Горлов</td>\n",
       "      <td>2018-01-25</td>\n",
       "      <td>smart</td>\n",
       "    </tr>\n",
       "    <tr>\n",
       "      <td>6</td>\n",
       "      <td>1006</td>\n",
       "      <td>21</td>\n",
       "      <td>NaN</td>\n",
       "      <td>Ульяновск</td>\n",
       "      <td>Леонид</td>\n",
       "      <td>Ермолаев</td>\n",
       "      <td>2018-02-26</td>\n",
       "      <td>smart</td>\n",
       "    </tr>\n",
       "    <tr>\n",
       "      <td>7</td>\n",
       "      <td>1007</td>\n",
       "      <td>65</td>\n",
       "      <td>NaN</td>\n",
       "      <td>Москва</td>\n",
       "      <td>Юна</td>\n",
       "      <td>Березина</td>\n",
       "      <td>2018-04-19</td>\n",
       "      <td>smart</td>\n",
       "    </tr>\n",
       "    <tr>\n",
       "      <td>8</td>\n",
       "      <td>1008</td>\n",
       "      <td>63</td>\n",
       "      <td>NaN</td>\n",
       "      <td>Челябинск</td>\n",
       "      <td>Рустэм</td>\n",
       "      <td>Пономарёв</td>\n",
       "      <td>2018-12-19</td>\n",
       "      <td>smart</td>\n",
       "    </tr>\n",
       "    <tr>\n",
       "      <td>9</td>\n",
       "      <td>1009</td>\n",
       "      <td>24</td>\n",
       "      <td>NaN</td>\n",
       "      <td>Пермь</td>\n",
       "      <td>Василиса</td>\n",
       "      <td>Блинова</td>\n",
       "      <td>2018-03-22</td>\n",
       "      <td>smart</td>\n",
       "    </tr>\n",
       "  </tbody>\n",
       "</table>\n",
       "</div>"
      ],
      "text/plain": [
       "   user_id  age churn_date              city first_name  last_name  \\\n",
       "0     1000   52        NaN         Краснодар     Рафаил  Верещагин   \n",
       "1     1001   41        NaN            Москва       Иван       Ежов   \n",
       "2     1002   59        NaN       Стерлитамак    Евгений  Абрамович   \n",
       "3     1003   23        NaN            Москва      Белла   Белякова   \n",
       "4     1004   68        NaN       Новокузнецк    Татьяна   Авдеенко   \n",
       "5     1005   67        NaN  Набережные Челны   Афанасий     Горлов   \n",
       "6     1006   21        NaN         Ульяновск     Леонид   Ермолаев   \n",
       "7     1007   65        NaN            Москва        Юна   Березина   \n",
       "8     1008   63        NaN         Челябинск     Рустэм  Пономарёв   \n",
       "9     1009   24        NaN             Пермь   Василиса    Блинова   \n",
       "\n",
       "     reg_date tariff  \n",
       "0  2018-05-25  ultra  \n",
       "1  2018-11-01  smart  \n",
       "2  2018-06-17  smart  \n",
       "3  2018-08-17  ultra  \n",
       "4  2018-05-14  ultra  \n",
       "5  2018-01-25  smart  \n",
       "6  2018-02-26  smart  \n",
       "7  2018-04-19  smart  \n",
       "8  2018-12-19  smart  \n",
       "9  2018-03-22  smart  "
      ]
     },
     "metadata": {},
     "output_type": "display_data"
    },
    {
     "name": "stdout",
     "output_type": "stream",
     "text": [
      "<class 'pandas.core.frame.DataFrame'>\n",
      "RangeIndex: 500 entries, 0 to 499\n",
      "Data columns (total 8 columns):\n",
      "user_id       500 non-null int64\n",
      "age           500 non-null int64\n",
      "churn_date    38 non-null object\n",
      "city          500 non-null object\n",
      "first_name    500 non-null object\n",
      "last_name     500 non-null object\n",
      "reg_date      500 non-null object\n",
      "tariff        500 non-null object\n",
      "dtypes: int64(2), object(6)\n",
      "memory usage: 31.4+ KB\n",
      "None\n",
      "\n"
     ]
    },
    {
     "data": {
      "text/html": [
       "<div>\n",
       "<style scoped>\n",
       "    .dataframe tbody tr th:only-of-type {\n",
       "        vertical-align: middle;\n",
       "    }\n",
       "\n",
       "    .dataframe tbody tr th {\n",
       "        vertical-align: top;\n",
       "    }\n",
       "\n",
       "    .dataframe thead th {\n",
       "        text-align: right;\n",
       "    }\n",
       "</style>\n",
       "<table border=\"1\" class=\"dataframe\">\n",
       "  <thead>\n",
       "    <tr style=\"text-align: right;\">\n",
       "      <th></th>\n",
       "      <th>id</th>\n",
       "      <th>call_date</th>\n",
       "      <th>duration</th>\n",
       "      <th>user_id</th>\n",
       "    </tr>\n",
       "  </thead>\n",
       "  <tbody>\n",
       "    <tr>\n",
       "      <td>0</td>\n",
       "      <td>1000_0</td>\n",
       "      <td>2018-07-25</td>\n",
       "      <td>0.00</td>\n",
       "      <td>1000</td>\n",
       "    </tr>\n",
       "    <tr>\n",
       "      <td>1</td>\n",
       "      <td>1000_1</td>\n",
       "      <td>2018-08-17</td>\n",
       "      <td>0.00</td>\n",
       "      <td>1000</td>\n",
       "    </tr>\n",
       "    <tr>\n",
       "      <td>2</td>\n",
       "      <td>1000_2</td>\n",
       "      <td>2018-06-11</td>\n",
       "      <td>2.85</td>\n",
       "      <td>1000</td>\n",
       "    </tr>\n",
       "    <tr>\n",
       "      <td>3</td>\n",
       "      <td>1000_3</td>\n",
       "      <td>2018-09-21</td>\n",
       "      <td>13.80</td>\n",
       "      <td>1000</td>\n",
       "    </tr>\n",
       "    <tr>\n",
       "      <td>4</td>\n",
       "      <td>1000_4</td>\n",
       "      <td>2018-12-15</td>\n",
       "      <td>5.18</td>\n",
       "      <td>1000</td>\n",
       "    </tr>\n",
       "    <tr>\n",
       "      <td>5</td>\n",
       "      <td>1000_5</td>\n",
       "      <td>2018-11-02</td>\n",
       "      <td>0.00</td>\n",
       "      <td>1000</td>\n",
       "    </tr>\n",
       "    <tr>\n",
       "      <td>6</td>\n",
       "      <td>1000_6</td>\n",
       "      <td>2018-10-18</td>\n",
       "      <td>0.00</td>\n",
       "      <td>1000</td>\n",
       "    </tr>\n",
       "    <tr>\n",
       "      <td>7</td>\n",
       "      <td>1000_7</td>\n",
       "      <td>2018-08-22</td>\n",
       "      <td>18.31</td>\n",
       "      <td>1000</td>\n",
       "    </tr>\n",
       "    <tr>\n",
       "      <td>8</td>\n",
       "      <td>1000_8</td>\n",
       "      <td>2018-09-15</td>\n",
       "      <td>18.44</td>\n",
       "      <td>1000</td>\n",
       "    </tr>\n",
       "    <tr>\n",
       "      <td>9</td>\n",
       "      <td>1000_9</td>\n",
       "      <td>2018-08-15</td>\n",
       "      <td>0.00</td>\n",
       "      <td>1000</td>\n",
       "    </tr>\n",
       "  </tbody>\n",
       "</table>\n",
       "</div>"
      ],
      "text/plain": [
       "       id   call_date  duration  user_id\n",
       "0  1000_0  2018-07-25      0.00     1000\n",
       "1  1000_1  2018-08-17      0.00     1000\n",
       "2  1000_2  2018-06-11      2.85     1000\n",
       "3  1000_3  2018-09-21     13.80     1000\n",
       "4  1000_4  2018-12-15      5.18     1000\n",
       "5  1000_5  2018-11-02      0.00     1000\n",
       "6  1000_6  2018-10-18      0.00     1000\n",
       "7  1000_7  2018-08-22     18.31     1000\n",
       "8  1000_8  2018-09-15     18.44     1000\n",
       "9  1000_9  2018-08-15      0.00     1000"
      ]
     },
     "metadata": {},
     "output_type": "display_data"
    },
    {
     "name": "stdout",
     "output_type": "stream",
     "text": [
      "<class 'pandas.core.frame.DataFrame'>\n",
      "RangeIndex: 202607 entries, 0 to 202606\n",
      "Data columns (total 4 columns):\n",
      "id           202607 non-null object\n",
      "call_date    202607 non-null object\n",
      "duration     202607 non-null float64\n",
      "user_id      202607 non-null int64\n",
      "dtypes: float64(1), int64(1), object(2)\n",
      "memory usage: 6.2+ MB\n",
      "None\n",
      "\n"
     ]
    },
    {
     "data": {
      "text/html": [
       "<div>\n",
       "<style scoped>\n",
       "    .dataframe tbody tr th:only-of-type {\n",
       "        vertical-align: middle;\n",
       "    }\n",
       "\n",
       "    .dataframe tbody tr th {\n",
       "        vertical-align: top;\n",
       "    }\n",
       "\n",
       "    .dataframe thead th {\n",
       "        text-align: right;\n",
       "    }\n",
       "</style>\n",
       "<table border=\"1\" class=\"dataframe\">\n",
       "  <thead>\n",
       "    <tr style=\"text-align: right;\">\n",
       "      <th></th>\n",
       "      <th>Unnamed: 0</th>\n",
       "      <th>id</th>\n",
       "      <th>mb_used</th>\n",
       "      <th>session_date</th>\n",
       "      <th>user_id</th>\n",
       "    </tr>\n",
       "  </thead>\n",
       "  <tbody>\n",
       "    <tr>\n",
       "      <td>0</td>\n",
       "      <td>0</td>\n",
       "      <td>1000_0</td>\n",
       "      <td>112.95</td>\n",
       "      <td>2018-11-25</td>\n",
       "      <td>1000</td>\n",
       "    </tr>\n",
       "    <tr>\n",
       "      <td>1</td>\n",
       "      <td>1</td>\n",
       "      <td>1000_1</td>\n",
       "      <td>1052.81</td>\n",
       "      <td>2018-09-07</td>\n",
       "      <td>1000</td>\n",
       "    </tr>\n",
       "    <tr>\n",
       "      <td>2</td>\n",
       "      <td>2</td>\n",
       "      <td>1000_2</td>\n",
       "      <td>1197.26</td>\n",
       "      <td>2018-06-25</td>\n",
       "      <td>1000</td>\n",
       "    </tr>\n",
       "    <tr>\n",
       "      <td>3</td>\n",
       "      <td>3</td>\n",
       "      <td>1000_3</td>\n",
       "      <td>550.27</td>\n",
       "      <td>2018-08-22</td>\n",
       "      <td>1000</td>\n",
       "    </tr>\n",
       "    <tr>\n",
       "      <td>4</td>\n",
       "      <td>4</td>\n",
       "      <td>1000_4</td>\n",
       "      <td>302.56</td>\n",
       "      <td>2018-09-24</td>\n",
       "      <td>1000</td>\n",
       "    </tr>\n",
       "    <tr>\n",
       "      <td>5</td>\n",
       "      <td>5</td>\n",
       "      <td>1000_5</td>\n",
       "      <td>399.97</td>\n",
       "      <td>2018-10-02</td>\n",
       "      <td>1000</td>\n",
       "    </tr>\n",
       "    <tr>\n",
       "      <td>6</td>\n",
       "      <td>6</td>\n",
       "      <td>1000_6</td>\n",
       "      <td>540.08</td>\n",
       "      <td>2018-09-07</td>\n",
       "      <td>1000</td>\n",
       "    </tr>\n",
       "    <tr>\n",
       "      <td>7</td>\n",
       "      <td>7</td>\n",
       "      <td>1000_7</td>\n",
       "      <td>415.70</td>\n",
       "      <td>2018-07-11</td>\n",
       "      <td>1000</td>\n",
       "    </tr>\n",
       "    <tr>\n",
       "      <td>8</td>\n",
       "      <td>8</td>\n",
       "      <td>1000_8</td>\n",
       "      <td>505.40</td>\n",
       "      <td>2018-10-08</td>\n",
       "      <td>1000</td>\n",
       "    </tr>\n",
       "    <tr>\n",
       "      <td>9</td>\n",
       "      <td>9</td>\n",
       "      <td>1000_9</td>\n",
       "      <td>345.54</td>\n",
       "      <td>2018-09-03</td>\n",
       "      <td>1000</td>\n",
       "    </tr>\n",
       "  </tbody>\n",
       "</table>\n",
       "</div>"
      ],
      "text/plain": [
       "   Unnamed: 0      id  mb_used session_date  user_id\n",
       "0           0  1000_0   112.95   2018-11-25     1000\n",
       "1           1  1000_1  1052.81   2018-09-07     1000\n",
       "2           2  1000_2  1197.26   2018-06-25     1000\n",
       "3           3  1000_3   550.27   2018-08-22     1000\n",
       "4           4  1000_4   302.56   2018-09-24     1000\n",
       "5           5  1000_5   399.97   2018-10-02     1000\n",
       "6           6  1000_6   540.08   2018-09-07     1000\n",
       "7           7  1000_7   415.70   2018-07-11     1000\n",
       "8           8  1000_8   505.40   2018-10-08     1000\n",
       "9           9  1000_9   345.54   2018-09-03     1000"
      ]
     },
     "metadata": {},
     "output_type": "display_data"
    },
    {
     "name": "stdout",
     "output_type": "stream",
     "text": [
      "<class 'pandas.core.frame.DataFrame'>\n",
      "RangeIndex: 149396 entries, 0 to 149395\n",
      "Data columns (total 5 columns):\n",
      "Unnamed: 0      149396 non-null int64\n",
      "id              149396 non-null object\n",
      "mb_used         149396 non-null float64\n",
      "session_date    149396 non-null object\n",
      "user_id         149396 non-null int64\n",
      "dtypes: float64(1), int64(2), object(2)\n",
      "memory usage: 5.7+ MB\n",
      "None\n",
      "\n"
     ]
    },
    {
     "data": {
      "text/html": [
       "<div>\n",
       "<style scoped>\n",
       "    .dataframe tbody tr th:only-of-type {\n",
       "        vertical-align: middle;\n",
       "    }\n",
       "\n",
       "    .dataframe tbody tr th {\n",
       "        vertical-align: top;\n",
       "    }\n",
       "\n",
       "    .dataframe thead th {\n",
       "        text-align: right;\n",
       "    }\n",
       "</style>\n",
       "<table border=\"1\" class=\"dataframe\">\n",
       "  <thead>\n",
       "    <tr style=\"text-align: right;\">\n",
       "      <th></th>\n",
       "      <th>id</th>\n",
       "      <th>message_date</th>\n",
       "      <th>user_id</th>\n",
       "    </tr>\n",
       "  </thead>\n",
       "  <tbody>\n",
       "    <tr>\n",
       "      <td>0</td>\n",
       "      <td>1000_0</td>\n",
       "      <td>2018-06-27</td>\n",
       "      <td>1000</td>\n",
       "    </tr>\n",
       "    <tr>\n",
       "      <td>1</td>\n",
       "      <td>1000_1</td>\n",
       "      <td>2018-10-08</td>\n",
       "      <td>1000</td>\n",
       "    </tr>\n",
       "    <tr>\n",
       "      <td>2</td>\n",
       "      <td>1000_2</td>\n",
       "      <td>2018-08-04</td>\n",
       "      <td>1000</td>\n",
       "    </tr>\n",
       "    <tr>\n",
       "      <td>3</td>\n",
       "      <td>1000_3</td>\n",
       "      <td>2018-06-16</td>\n",
       "      <td>1000</td>\n",
       "    </tr>\n",
       "    <tr>\n",
       "      <td>4</td>\n",
       "      <td>1000_4</td>\n",
       "      <td>2018-12-05</td>\n",
       "      <td>1000</td>\n",
       "    </tr>\n",
       "    <tr>\n",
       "      <td>5</td>\n",
       "      <td>1000_5</td>\n",
       "      <td>2018-06-20</td>\n",
       "      <td>1000</td>\n",
       "    </tr>\n",
       "    <tr>\n",
       "      <td>6</td>\n",
       "      <td>1000_6</td>\n",
       "      <td>2018-11-19</td>\n",
       "      <td>1000</td>\n",
       "    </tr>\n",
       "    <tr>\n",
       "      <td>7</td>\n",
       "      <td>1000_7</td>\n",
       "      <td>2018-10-29</td>\n",
       "      <td>1000</td>\n",
       "    </tr>\n",
       "    <tr>\n",
       "      <td>8</td>\n",
       "      <td>1000_8</td>\n",
       "      <td>2018-06-25</td>\n",
       "      <td>1000</td>\n",
       "    </tr>\n",
       "    <tr>\n",
       "      <td>9</td>\n",
       "      <td>1000_9</td>\n",
       "      <td>2018-12-18</td>\n",
       "      <td>1000</td>\n",
       "    </tr>\n",
       "  </tbody>\n",
       "</table>\n",
       "</div>"
      ],
      "text/plain": [
       "       id message_date  user_id\n",
       "0  1000_0   2018-06-27     1000\n",
       "1  1000_1   2018-10-08     1000\n",
       "2  1000_2   2018-08-04     1000\n",
       "3  1000_3   2018-06-16     1000\n",
       "4  1000_4   2018-12-05     1000\n",
       "5  1000_5   2018-06-20     1000\n",
       "6  1000_6   2018-11-19     1000\n",
       "7  1000_7   2018-10-29     1000\n",
       "8  1000_8   2018-06-25     1000\n",
       "9  1000_9   2018-12-18     1000"
      ]
     },
     "metadata": {},
     "output_type": "display_data"
    },
    {
     "name": "stdout",
     "output_type": "stream",
     "text": [
      "<class 'pandas.core.frame.DataFrame'>\n",
      "RangeIndex: 123036 entries, 0 to 123035\n",
      "Data columns (total 3 columns):\n",
      "id              123036 non-null object\n",
      "message_date    123036 non-null object\n",
      "user_id         123036 non-null int64\n",
      "dtypes: int64(1), object(2)\n",
      "memory usage: 2.8+ MB\n",
      "None\n",
      "\n"
     ]
    },
    {
     "data": {
      "text/html": [
       "<div>\n",
       "<style scoped>\n",
       "    .dataframe tbody tr th:only-of-type {\n",
       "        vertical-align: middle;\n",
       "    }\n",
       "\n",
       "    .dataframe tbody tr th {\n",
       "        vertical-align: top;\n",
       "    }\n",
       "\n",
       "    .dataframe thead th {\n",
       "        text-align: right;\n",
       "    }\n",
       "</style>\n",
       "<table border=\"1\" class=\"dataframe\">\n",
       "  <thead>\n",
       "    <tr style=\"text-align: right;\">\n",
       "      <th></th>\n",
       "      <th>messages_included</th>\n",
       "      <th>mb_per_month_included</th>\n",
       "      <th>minutes_included</th>\n",
       "      <th>rub_monthly_fee</th>\n",
       "      <th>rub_per_gb</th>\n",
       "      <th>rub_per_message</th>\n",
       "      <th>rub_per_minute</th>\n",
       "      <th>tariff_name</th>\n",
       "    </tr>\n",
       "  </thead>\n",
       "  <tbody>\n",
       "    <tr>\n",
       "      <td>0</td>\n",
       "      <td>50</td>\n",
       "      <td>15360</td>\n",
       "      <td>500</td>\n",
       "      <td>550</td>\n",
       "      <td>200</td>\n",
       "      <td>3</td>\n",
       "      <td>3</td>\n",
       "      <td>smart</td>\n",
       "    </tr>\n",
       "    <tr>\n",
       "      <td>1</td>\n",
       "      <td>1000</td>\n",
       "      <td>30720</td>\n",
       "      <td>3000</td>\n",
       "      <td>1950</td>\n",
       "      <td>150</td>\n",
       "      <td>1</td>\n",
       "      <td>1</td>\n",
       "      <td>ultra</td>\n",
       "    </tr>\n",
       "  </tbody>\n",
       "</table>\n",
       "</div>"
      ],
      "text/plain": [
       "   messages_included  mb_per_month_included  minutes_included  \\\n",
       "0                 50                  15360               500   \n",
       "1               1000                  30720              3000   \n",
       "\n",
       "   rub_monthly_fee  rub_per_gb  rub_per_message  rub_per_minute tariff_name  \n",
       "0              550         200                3               3       smart  \n",
       "1             1950         150                1               1       ultra  "
      ]
     },
     "metadata": {},
     "output_type": "display_data"
    },
    {
     "name": "stdout",
     "output_type": "stream",
     "text": [
      "<class 'pandas.core.frame.DataFrame'>\n",
      "RangeIndex: 2 entries, 0 to 1\n",
      "Data columns (total 8 columns):\n",
      "messages_included        2 non-null int64\n",
      "mb_per_month_included    2 non-null int64\n",
      "minutes_included         2 non-null int64\n",
      "rub_monthly_fee          2 non-null int64\n",
      "rub_per_gb               2 non-null int64\n",
      "rub_per_message          2 non-null int64\n",
      "rub_per_minute           2 non-null int64\n",
      "tariff_name              2 non-null object\n",
      "dtypes: int64(7), object(1)\n",
      "memory usage: 256.0+ bytes\n",
      "None\n",
      "\n"
     ]
    }
   ],
   "source": [
    "for item in (\n",
    "    [users, calls, internet, messages,\n",
    "    tariffs]):\n",
    "    display(item.head(10))\n",
    "    print(item.info())\n",
    "    print()"
   ]
  },
  {
   "cell_type": "markdown",
   "metadata": {},
   "source": [
    "Описание данных \n",
    "\n",
    "**Таблица users (информация о пользователях):** \\\n",
    "user_id — уникальный идентификатор пользователя \\\n",
    "first_name — имя пользователя \\\n",
    "last_name — фамилия пользователя \\\n",
    "age — возраст пользователя (годы) \\\n",
    "reg_date — дата подключения тарифа (день, месяц, год) \\\n",
    "churn_date — дата прекращения пользования тарифом (если значение пропущено, то тариф ещё действовал на момент выгрузки данных) \\\n",
    "city — город проживания пользователя \\\n",
    "tarif — название тарифного плана \n",
    "\n",
    "\n",
    "*Из данных видим, что 38 пользователей прекратили пользование тарифами. Также необходимо будет привести столбцы reg_date, churn_date к правильному типу данных - даты. Остутсвующие значения в churn_date для работы заменим на 1 - что значит, тариф ативен, и не явлеются ошибкой, но для работы с этой колонкой их нужно заменить.Данный в user_id нужно перевести в целые int*\n",
    "\n",
    "\n",
    "**Таблица calls (звонки):** \n",
    "\n",
    "id — уникальный номер звонка \\ \n",
    "call_date — дата звонка \\\n",
    "duration — длительность звонка в минутах  \\\n",
    "user_id — идентификатор пользователя, сделавшего звонок \n",
    "\n",
    "*В этой таблице необходимо будет привести к нужым типам столбцы: 'call_date' - дата, 'id' - , 'duration'. Чтобы верно посчиать длительность в минутах, также нужно будет окрудлить секунды в бльшуюю сторону*\n",
    "\n",
    "\n",
    "**Таблица messages (информация о сообщениях):**  \n",
    "\n",
    "id — уникальный номер звонка\n",
    "message_date — дата сообщения\n",
    "user_id — идентификатор пользователя, отправившего сообщение \n",
    "\n",
    "*Тут также надо будет привести к нужному типу данных message_date и user_id*\n",
    "\n",
    "**Таблица internet (информация об интернет-сессиях**\n",
    "\n",
    "id — уникальный номер сессии \\\n",
    "mb_used — объём потраченного за сессию интернет-трафика (в мегабайтах) \\\n",
    "session_date — дата интернет-сессии \\\n",
    "user_id — идентификатор пользователя \n",
    "\n",
    "*Такая же проблема видится как и в предудыщей таблице(даты и id)*\n",
    "\n",
    "**Таблица tariffs (информация о тарифах)**\n",
    " \n",
    "tariff_name — название тарифа \\\n",
    "rub_monthly_fee — ежемесячная абонентская плата в рублях \\\n",
    "minutes_included — количество минут разговора в месяц, включённых в абонентскую плату \\\n",
    "messages_included — количество сообщений в месяц, включённых в абонентскую плату \\\n",
    "mb_per_month_included — объём интернет-трафика, включённого в абонентскую плату (в мегабайтах) \\\n",
    "rub_per_minute — стоимость минуты разговора сверх тарифного пакета (например, если в тарифе 100 минут разговора в месяц, то со 101 минуты будет взиматься плата) \\\n",
    "rub_per_message — стоимость отправки сообщения сверх тарифного пакета \\\n",
    "rub_per_gb — стоимость дополнительного гигабайта интернет-трафика сверх тарифного пакета (1 гигабайт = 1024 мегабайта)  \n",
    "\n",
    "*Кроме того, что название колонки tariff_name нужно изменить на tariff как он назвается в таблице users*\n",
    "\n",
    "Данные по всем таблицам загружены, видно что пропуск в данных churn_date — дата прекращения пользования тарифом не явлеются ошибкой, однкао для работы с этой колонкой их нужно заменить, также тип данных замиенить с объекта на дату. "
   ]
  },
  {
   "cell_type": "markdown",
   "metadata": {},
   "source": [
    "## Подготовьте данные"
   ]
  },
  {
   "cell_type": "markdown",
   "metadata": {},
   "source": [
    "### Приведение данных к нужным типам"
   ]
  },
  {
   "cell_type": "markdown",
   "metadata": {},
   "source": [
    "Pанее при анализе мы обнаружили, что дата по столбцам call_date', 'churn_date', 'message_date', 'reg_date', 'session_date не приведена к формату datetime - исправим это. "
   ]
  },
  {
   "cell_type": "code",
   "execution_count": 4,
   "metadata": {},
   "outputs": [],
   "source": [
    "users['churn_date'] = pd.to_datetime(users['churn_date'], format=\"%Y-%m-%d\")\n",
    "users['reg_date'] = pd.to_datetime(users['reg_date'], format=\"%Y-%m-%d\")\n",
    "\n",
    "calls['call_date'] = pd.to_datetime(calls['call_date'], format=\"%Y-%m-%d\")\n",
    "calls['id'] = calls['id'].astype('int')\n",
    "calls['duration'] = calls['duration'].astype('int')\n",
    "\n",
    "messages['id'] = messages['id'].astype('int')\n",
    "messages['message_date'] = pd.to_datetime(messages['message_date'], format=\"%Y-%m-%d\")\n",
    "\n",
    "internet['id'] = internet['id'].astype('int')\n",
    "internet['session_date'] = pd.to_datetime(internet['session_date'], format=\"%Y-%m-%d\")"
   ]
  },
  {
   "cell_type": "markdown",
   "metadata": {},
   "source": [
    "### Исправление ошибок в данных"
   ]
  },
  {
   "cell_type": "markdown",
   "metadata": {},
   "source": [
    "Для рассчета нам потребется окргилть звонки в веерх округлим  В данных есть не нужная колонка Unnamed: 0' - удалим ее. Также по  'tariff_name', изменим название "
   ]
  },
  {
   "cell_type": "markdown",
   "metadata": {},
   "source": [
    "Округлим длительность звонков вверх, по данные оператора  нулевые звонки это входящие или звонки длительностью в до 1 минуты и что по уловию тарифа звонки меньше 1 минуты не тарифицируются"
   ]
  },
  {
   "cell_type": "code",
   "execution_count": 5,
   "metadata": {},
   "outputs": [],
   "source": [
    "#Unnamed: 0' - удалим\n",
    "internet.drop(['Unnamed: 0'], axis='columns', inplace=True)"
   ]
  },
  {
   "cell_type": "code",
   "execution_count": 6,
   "metadata": {},
   "outputs": [],
   "source": [
    "#округлим длительность звонков вверх\n",
    "calls['duration'] = calls['duration'].apply(np.ceil)\n",
    "#исправим название колонки для удобства в дальнейшей работе\n",
    "tariffs = tariffs.rename(columns={'tariff_name':'tariff'})"
   ]
  },
  {
   "cell_type": "markdown",
   "metadata": {},
   "source": [
    "### Подсчет данных по каждому пользователю"
   ]
  },
  {
   "cell_type": "markdown",
   "metadata": {},
   "source": [
    "Выведем сгруппированные данные по звонкам по месяцу, для пользователей"
   ]
  },
  {
   "cell_type": "markdown",
   "metadata": {},
   "source": [
    "#### Количество сделанных звонков и израсходованных минут разговора по месяцам"
   ]
  },
  {
   "cell_type": "code",
   "execution_count": 7,
   "metadata": {},
   "outputs": [
    {
     "data": {
      "text/html": [
       "<div>\n",
       "<style scoped>\n",
       "    .dataframe tbody tr th:only-of-type {\n",
       "        vertical-align: middle;\n",
       "    }\n",
       "\n",
       "    .dataframe tbody tr th {\n",
       "        vertical-align: top;\n",
       "    }\n",
       "\n",
       "    .dataframe thead th {\n",
       "        text-align: right;\n",
       "    }\n",
       "</style>\n",
       "<table border=\"1\" class=\"dataframe\">\n",
       "  <thead>\n",
       "    <tr style=\"text-align: right;\">\n",
       "      <th></th>\n",
       "      <th>user_id</th>\n",
       "      <th>month</th>\n",
       "      <th>calls_duration</th>\n",
       "      <th>calls_total</th>\n",
       "    </tr>\n",
       "  </thead>\n",
       "  <tbody>\n",
       "    <tr>\n",
       "      <td>0</td>\n",
       "      <td>1000</td>\n",
       "      <td>5</td>\n",
       "      <td>142.00</td>\n",
       "      <td>22</td>\n",
       "    </tr>\n",
       "    <tr>\n",
       "      <td>1</td>\n",
       "      <td>1000</td>\n",
       "      <td>6</td>\n",
       "      <td>144.00</td>\n",
       "      <td>43</td>\n",
       "    </tr>\n",
       "    <tr>\n",
       "      <td>2</td>\n",
       "      <td>1000</td>\n",
       "      <td>7</td>\n",
       "      <td>299.00</td>\n",
       "      <td>47</td>\n",
       "    </tr>\n",
       "    <tr>\n",
       "      <td>3</td>\n",
       "      <td>1000</td>\n",
       "      <td>8</td>\n",
       "      <td>367.00</td>\n",
       "      <td>52</td>\n",
       "    </tr>\n",
       "    <tr>\n",
       "      <td>4</td>\n",
       "      <td>1000</td>\n",
       "      <td>9</td>\n",
       "      <td>421.00</td>\n",
       "      <td>58</td>\n",
       "    </tr>\n",
       "  </tbody>\n",
       "</table>\n",
       "</div>"
      ],
      "text/plain": [
       "   user_id  month  calls_duration  calls_total\n",
       "0     1000      5          142.00           22\n",
       "1     1000      6          144.00           43\n",
       "2     1000      7          299.00           47\n",
       "3     1000      8          367.00           52\n",
       "4     1000      9          421.00           58"
      ]
     },
     "execution_count": 7,
     "metadata": {},
     "output_type": "execute_result"
    }
   ],
   "source": [
    "\n",
    "\n",
    "\n",
    "\n",
    "#считаем количество звонков и израсходованных минут по месяцам:\n",
    "calls['month'] = calls['call_date'].dt.month\n",
    "user_calls = calls.groupby(['user_id', 'month'])\\\n",
    "                  .agg({'duration':'sum', 'id':'count'})\\\n",
    "                  .reset_index()\\\n",
    "                  .rename(columns={'duration':'calls_duration','id':'calls_total'})\n",
    "user_calls.head()"
   ]
  },
  {
   "cell_type": "code",
   "execution_count": 8,
   "metadata": {},
   "outputs": [
    {
     "data": {
      "text/plain": [
       "array([[<matplotlib.axes._subplots.AxesSubplot object at 0x7efe32ad6590>]],\n",
       "      dtype=object)"
      ]
     },
     "execution_count": 8,
     "metadata": {},
     "output_type": "execute_result"
    },
    {
     "data": {
      "image/png": "[encoded data removed]",
      "text/plain": [
       "<Figure size 432x288 with 1 Axes>"
      ]
     },
     "metadata": {
      "needs_background": "light"
     },
     "output_type": "display_data"
    }
   ],
   "source": [
    "user_calls.hist('calls_total', bins=20)"
   ]
  },
  {
   "cell_type": "markdown",
   "metadata": {},
   "source": [
    "#### Количество сообщений  по месяцам"
   ]
  },
  {
   "cell_type": "code",
   "execution_count": 9,
   "metadata": {},
   "outputs": [
    {
     "data": {
      "text/html": [
       "<div>\n",
       "<style scoped>\n",
       "    .dataframe tbody tr th:only-of-type {\n",
       "        vertical-align: middle;\n",
       "    }\n",
       "\n",
       "    .dataframe tbody tr th {\n",
       "        vertical-align: top;\n",
       "    }\n",
       "\n",
       "    .dataframe thead th {\n",
       "        text-align: right;\n",
       "    }\n",
       "</style>\n",
       "<table border=\"1\" class=\"dataframe\">\n",
       "  <thead>\n",
       "    <tr style=\"text-align: right;\">\n",
       "      <th></th>\n",
       "      <th>user_id</th>\n",
       "      <th>month</th>\n",
       "      <th>sms_total</th>\n",
       "    </tr>\n",
       "  </thead>\n",
       "  <tbody>\n",
       "    <tr>\n",
       "      <td>0</td>\n",
       "      <td>1000</td>\n",
       "      <td>5</td>\n",
       "      <td>22</td>\n",
       "    </tr>\n",
       "    <tr>\n",
       "      <td>1</td>\n",
       "      <td>1000</td>\n",
       "      <td>6</td>\n",
       "      <td>60</td>\n",
       "    </tr>\n",
       "    <tr>\n",
       "      <td>2</td>\n",
       "      <td>1000</td>\n",
       "      <td>7</td>\n",
       "      <td>75</td>\n",
       "    </tr>\n",
       "    <tr>\n",
       "      <td>3</td>\n",
       "      <td>1000</td>\n",
       "      <td>8</td>\n",
       "      <td>81</td>\n",
       "    </tr>\n",
       "    <tr>\n",
       "      <td>4</td>\n",
       "      <td>1000</td>\n",
       "      <td>9</td>\n",
       "      <td>57</td>\n",
       "    </tr>\n",
       "  </tbody>\n",
       "</table>\n",
       "</div>"
      ],
      "text/plain": [
       "   user_id  month  sms_total\n",
       "0     1000      5         22\n",
       "1     1000      6         60\n",
       "2     1000      7         75\n",
       "3     1000      8         81\n",
       "4     1000      9         57"
      ]
     },
     "execution_count": 9,
     "metadata": {},
     "output_type": "execute_result"
    }
   ],
   "source": [
    "messages['month'] = messages['message_date'].dt.month\n",
    "user_messages = messages.groupby(['user_id', 'month'])\\\n",
    "                        .agg({'id':'count'})\\\n",
    "                        .reset_index()\\\n",
    "                        .rename(columns={'id':'sms_total'})\n",
    "user_messages.head()"
   ]
  },
  {
   "cell_type": "markdown",
   "metadata": {},
   "source": [
    "#### Количество интренет-трафика  по месяцам"
   ]
  },
  {
   "cell_type": "code",
   "execution_count": 10,
   "metadata": {},
   "outputs": [
    {
     "data": {
      "text/html": [
       "<div>\n",
       "<style scoped>\n",
       "    .dataframe tbody tr th:only-of-type {\n",
       "        vertical-align: middle;\n",
       "    }\n",
       "\n",
       "    .dataframe tbody tr th {\n",
       "        vertical-align: top;\n",
       "    }\n",
       "\n",
       "    .dataframe thead th {\n",
       "        text-align: right;\n",
       "    }\n",
       "</style>\n",
       "<table border=\"1\" class=\"dataframe\">\n",
       "  <thead>\n",
       "    <tr style=\"text-align: right;\">\n",
       "      <th></th>\n",
       "      <th>user_id</th>\n",
       "      <th>month</th>\n",
       "      <th>mb_total</th>\n",
       "    </tr>\n",
       "  </thead>\n",
       "  <tbody>\n",
       "    <tr>\n",
       "      <td>0</td>\n",
       "      <td>1000</td>\n",
       "      <td>5</td>\n",
       "      <td>2253.49</td>\n",
       "    </tr>\n",
       "    <tr>\n",
       "      <td>1</td>\n",
       "      <td>1000</td>\n",
       "      <td>6</td>\n",
       "      <td>23233.77</td>\n",
       "    </tr>\n",
       "    <tr>\n",
       "      <td>2</td>\n",
       "      <td>1000</td>\n",
       "      <td>7</td>\n",
       "      <td>14003.64</td>\n",
       "    </tr>\n",
       "    <tr>\n",
       "      <td>3</td>\n",
       "      <td>1000</td>\n",
       "      <td>8</td>\n",
       "      <td>14055.93</td>\n",
       "    </tr>\n",
       "    <tr>\n",
       "      <td>4</td>\n",
       "      <td>1000</td>\n",
       "      <td>9</td>\n",
       "      <td>14568.91</td>\n",
       "    </tr>\n",
       "  </tbody>\n",
       "</table>\n",
       "</div>"
      ],
      "text/plain": [
       "   user_id  month  mb_total\n",
       "0     1000      5   2253.49\n",
       "1     1000      6  23233.77\n",
       "2     1000      7  14003.64\n",
       "3     1000      8  14055.93\n",
       "4     1000      9  14568.91"
      ]
     },
     "execution_count": 10,
     "metadata": {},
     "output_type": "execute_result"
    }
   ],
   "source": [
    "internet['month'] = internet['session_date'].dt.month\n",
    "user_internet = internet.groupby(['user_id', 'month'])\\\n",
    "                        .agg({'mb_used':'sum'})\\\n",
    "                        .reset_index()\\\n",
    "                        .rename(columns={'mb_used':'mb_total'})\n",
    "user_internet.head()"
   ]
  },
  {
   "cell_type": "code",
   "execution_count": null,
   "metadata": {},
   "outputs": [],
   "source": []
  },
  {
   "cell_type": "markdown",
   "metadata": {},
   "source": [
    "### Создание одной рабочей таблицы"
   ]
  },
  {
   "cell_type": "markdown",
   "metadata": {},
   "source": [
    "Объединим таблицы для дальнеших расчетов. Обявим новую переменную."
   ]
  },
  {
   "cell_type": "code",
   "execution_count": 11,
   "metadata": {},
   "outputs": [
    {
     "data": {
      "text/html": [
       "<div>\n",
       "<style scoped>\n",
       "    .dataframe tbody tr th:only-of-type {\n",
       "        vertical-align: middle;\n",
       "    }\n",
       "\n",
       "    .dataframe tbody tr th {\n",
       "        vertical-align: top;\n",
       "    }\n",
       "\n",
       "    .dataframe thead th {\n",
       "        text-align: right;\n",
       "    }\n",
       "</style>\n",
       "<table border=\"1\" class=\"dataframe\">\n",
       "  <thead>\n",
       "    <tr style=\"text-align: right;\">\n",
       "      <th></th>\n",
       "      <th>user_id</th>\n",
       "      <th>month</th>\n",
       "      <th>calls_duration</th>\n",
       "      <th>calls_total</th>\n",
       "      <th>sms_total</th>\n",
       "      <th>mb_total</th>\n",
       "      <th>age</th>\n",
       "      <th>churn_date</th>\n",
       "      <th>city</th>\n",
       "      <th>first_name</th>\n",
       "      <th>last_name</th>\n",
       "      <th>reg_date</th>\n",
       "      <th>tariff</th>\n",
       "      <th>messages_included</th>\n",
       "      <th>mb_per_month_included</th>\n",
       "      <th>minutes_included</th>\n",
       "      <th>rub_monthly_fee</th>\n",
       "      <th>rub_per_gb</th>\n",
       "      <th>rub_per_message</th>\n",
       "      <th>rub_per_minute</th>\n",
       "    </tr>\n",
       "  </thead>\n",
       "  <tbody>\n",
       "    <tr>\n",
       "      <td>0</td>\n",
       "      <td>1000</td>\n",
       "      <td>5</td>\n",
       "      <td>142.00</td>\n",
       "      <td>22.00</td>\n",
       "      <td>22.00</td>\n",
       "      <td>2253.49</td>\n",
       "      <td>52</td>\n",
       "      <td>NaT</td>\n",
       "      <td>Краснодар</td>\n",
       "      <td>Рафаил</td>\n",
       "      <td>Верещагин</td>\n",
       "      <td>2018-05-25</td>\n",
       "      <td>ultra</td>\n",
       "      <td>1000</td>\n",
       "      <td>30720</td>\n",
       "      <td>3000</td>\n",
       "      <td>1950</td>\n",
       "      <td>150</td>\n",
       "      <td>1</td>\n",
       "      <td>1</td>\n",
       "    </tr>\n",
       "    <tr>\n",
       "      <td>1</td>\n",
       "      <td>1000</td>\n",
       "      <td>6</td>\n",
       "      <td>144.00</td>\n",
       "      <td>43.00</td>\n",
       "      <td>60.00</td>\n",
       "      <td>23233.77</td>\n",
       "      <td>52</td>\n",
       "      <td>NaT</td>\n",
       "      <td>Краснодар</td>\n",
       "      <td>Рафаил</td>\n",
       "      <td>Верещагин</td>\n",
       "      <td>2018-05-25</td>\n",
       "      <td>ultra</td>\n",
       "      <td>1000</td>\n",
       "      <td>30720</td>\n",
       "      <td>3000</td>\n",
       "      <td>1950</td>\n",
       "      <td>150</td>\n",
       "      <td>1</td>\n",
       "      <td>1</td>\n",
       "    </tr>\n",
       "    <tr>\n",
       "      <td>2</td>\n",
       "      <td>1000</td>\n",
       "      <td>7</td>\n",
       "      <td>299.00</td>\n",
       "      <td>47.00</td>\n",
       "      <td>75.00</td>\n",
       "      <td>14003.64</td>\n",
       "      <td>52</td>\n",
       "      <td>NaT</td>\n",
       "      <td>Краснодар</td>\n",
       "      <td>Рафаил</td>\n",
       "      <td>Верещагин</td>\n",
       "      <td>2018-05-25</td>\n",
       "      <td>ultra</td>\n",
       "      <td>1000</td>\n",
       "      <td>30720</td>\n",
       "      <td>3000</td>\n",
       "      <td>1950</td>\n",
       "      <td>150</td>\n",
       "      <td>1</td>\n",
       "      <td>1</td>\n",
       "    </tr>\n",
       "    <tr>\n",
       "      <td>3</td>\n",
       "      <td>1000</td>\n",
       "      <td>8</td>\n",
       "      <td>367.00</td>\n",
       "      <td>52.00</td>\n",
       "      <td>81.00</td>\n",
       "      <td>14055.93</td>\n",
       "      <td>52</td>\n",
       "      <td>NaT</td>\n",
       "      <td>Краснодар</td>\n",
       "      <td>Рафаил</td>\n",
       "      <td>Верещагин</td>\n",
       "      <td>2018-05-25</td>\n",
       "      <td>ultra</td>\n",
       "      <td>1000</td>\n",
       "      <td>30720</td>\n",
       "      <td>3000</td>\n",
       "      <td>1950</td>\n",
       "      <td>150</td>\n",
       "      <td>1</td>\n",
       "      <td>1</td>\n",
       "    </tr>\n",
       "    <tr>\n",
       "      <td>4</td>\n",
       "      <td>1000</td>\n",
       "      <td>9</td>\n",
       "      <td>421.00</td>\n",
       "      <td>58.00</td>\n",
       "      <td>57.00</td>\n",
       "      <td>14568.91</td>\n",
       "      <td>52</td>\n",
       "      <td>NaT</td>\n",
       "      <td>Краснодар</td>\n",
       "      <td>Рафаил</td>\n",
       "      <td>Верещагин</td>\n",
       "      <td>2018-05-25</td>\n",
       "      <td>ultra</td>\n",
       "      <td>1000</td>\n",
       "      <td>30720</td>\n",
       "      <td>3000</td>\n",
       "      <td>1950</td>\n",
       "      <td>150</td>\n",
       "      <td>1</td>\n",
       "      <td>1</td>\n",
       "    </tr>\n",
       "  </tbody>\n",
       "</table>\n",
       "</div>"
      ],
      "text/plain": [
       "   user_id  month  calls_duration  calls_total  sms_total  mb_total  age  \\\n",
       "0     1000      5          142.00        22.00      22.00   2253.49   52   \n",
       "1     1000      6          144.00        43.00      60.00  23233.77   52   \n",
       "2     1000      7          299.00        47.00      75.00  14003.64   52   \n",
       "3     1000      8          367.00        52.00      81.00  14055.93   52   \n",
       "4     1000      9          421.00        58.00      57.00  14568.91   52   \n",
       "\n",
       "  churn_date       city first_name  last_name   reg_date tariff  \\\n",
       "0        NaT  Краснодар     Рафаил  Верещагин 2018-05-25  ultra   \n",
       "1        NaT  Краснодар     Рафаил  Верещагин 2018-05-25  ultra   \n",
       "2        NaT  Краснодар     Рафаил  Верещагин 2018-05-25  ultra   \n",
       "3        NaT  Краснодар     Рафаил  Верещагин 2018-05-25  ultra   \n",
       "4        NaT  Краснодар     Рафаил  Верещагин 2018-05-25  ultra   \n",
       "\n",
       "   messages_included  mb_per_month_included  minutes_included  \\\n",
       "0               1000                  30720              3000   \n",
       "1               1000                  30720              3000   \n",
       "2               1000                  30720              3000   \n",
       "3               1000                  30720              3000   \n",
       "4               1000                  30720              3000   \n",
       "\n",
       "   rub_monthly_fee  rub_per_gb  rub_per_message  rub_per_minute  \n",
       "0             1950         150                1               1  \n",
       "1             1950         150                1               1  \n",
       "2             1950         150                1               1  \n",
       "3             1950         150                1               1  \n",
       "4             1950         150                1               1  "
      ]
     },
     "execution_count": 11,
     "metadata": {},
     "output_type": "execute_result"
    }
   ],
   "source": [
    "#подсчитаем месячную выручку с каждого пользователя\n",
    "df = user_calls.merge(user_messages, on=['user_id','month'], how='outer')\n",
    "df = df.merge(user_internet, on=['user_id','month'], how = 'outer')\n",
    "df = df.merge(users, on='user_id', how='left')\n",
    "df = df.merge(tariffs, on='tariff', how='left')\n",
    "df.head()"
   ]
  },
  {
   "cell_type": "code",
   "execution_count": 12,
   "metadata": {},
   "outputs": [
    {
     "data": {
      "text/plain": [
       "user_id                 0.00\n",
       "month                   0.00\n",
       "calls_duration          0.01\n",
       "calls_total             0.01\n",
       "sms_total               0.15\n",
       "mb_total                0.00\n",
       "age                     0.00\n",
       "churn_date              0.94\n",
       "city                    0.00\n",
       "first_name              0.00\n",
       "last_name               0.00\n",
       "reg_date                0.00\n",
       "tariff                  0.00\n",
       "messages_included       0.00\n",
       "mb_per_month_included   0.00\n",
       "minutes_included        0.00\n",
       "rub_monthly_fee         0.00\n",
       "rub_per_gb              0.00\n",
       "rub_per_message         0.00\n",
       "rub_per_minute          0.00\n",
       "dtype: float64"
      ]
     },
     "execution_count": 12,
     "metadata": {},
     "output_type": "execute_result"
    }
   ],
   "source": [
    "# проверим новую таблицу на пропуски\n",
    "df.isna().mean()"
   ]
  },
  {
   "cell_type": "code",
   "execution_count": 13,
   "metadata": {},
   "outputs": [],
   "source": [
    "# пропещенный данные по кол-ву усгугам СМС, кол-во тарфика говорят о том, что ими непользоатлись, заменим их на нули\n",
    "df['sms_total'] = df['sms_total'].fillna(0)\n",
    "df['mb_total'] = df['mb_total'].fillna(0)\n",
    "df['month_calls'] = df['calls_duration'].fillna(0)\n",
    "#df['calls_total'] = df['calls_total'].fillna(0)"
   ]
  },
  {
   "cell_type": "markdown",
   "metadata": {},
   "source": [
    "### Помесячная выручку с каждого пользователя \n"
   ]
  },
  {
   "cell_type": "markdown",
   "metadata": {},
   "source": [
    "Для этого вычтем бесплатный лимит из суммарного количества звонков, сообщений и интернет-трафика; остаток умножьте на значение из тарифного плана; прибавьте абонентскую плату, соответствующую тарифному плану)"
   ]
  },
  {
   "cell_type": "code",
   "execution_count": 14,
   "metadata": {},
   "outputs": [],
   "source": [
    "#напишем функцию для подсчета выручки за месяц, сразу переведем трафик в Гб\n",
    "def revenue(row):\n",
    "    sms = (row['sms_total'] - row['messages_included']) * row['rub_per_message']\n",
    "    mins = (row['calls_duration'] - row['minutes_included']) * row['rub_per_minute']\n",
    "    mbs = np.ceil((row['mb_total'] - row['mb_per_month_included']) * row['rub_per_gb'] / 1024)\n",
    "    total = 0\n",
    "    for i in [sms, mins, mbs]:\n",
    "        if i > 0:\n",
    "            total += i\n",
    "    return total"
   ]
  },
  {
   "cell_type": "code",
   "execution_count": 15,
   "metadata": {},
   "outputs": [
    {
     "data": {
      "text/html": [
       "<div>\n",
       "<style scoped>\n",
       "    .dataframe tbody tr th:only-of-type {\n",
       "        vertical-align: middle;\n",
       "    }\n",
       "\n",
       "    .dataframe tbody tr th {\n",
       "        vertical-align: top;\n",
       "    }\n",
       "\n",
       "    .dataframe thead th {\n",
       "        text-align: right;\n",
       "    }\n",
       "</style>\n",
       "<table border=\"1\" class=\"dataframe\">\n",
       "  <thead>\n",
       "    <tr style=\"text-align: right;\">\n",
       "      <th></th>\n",
       "      <th>user_id</th>\n",
       "      <th>month</th>\n",
       "      <th>calls_duration</th>\n",
       "      <th>calls_total</th>\n",
       "      <th>sms_total</th>\n",
       "      <th>mb_total</th>\n",
       "      <th>age</th>\n",
       "      <th>churn_date</th>\n",
       "      <th>city</th>\n",
       "      <th>first_name</th>\n",
       "      <th>last_name</th>\n",
       "      <th>reg_date</th>\n",
       "      <th>tariff</th>\n",
       "      <th>messages_included</th>\n",
       "      <th>mb_per_month_included</th>\n",
       "      <th>minutes_included</th>\n",
       "      <th>rub_monthly_fee</th>\n",
       "      <th>rub_per_gb</th>\n",
       "      <th>rub_per_message</th>\n",
       "      <th>rub_per_minute</th>\n",
       "      <th>month_calls</th>\n",
       "      <th>revenue</th>\n",
       "      <th>total_paid</th>\n",
       "    </tr>\n",
       "  </thead>\n",
       "  <tbody>\n",
       "    <tr>\n",
       "      <td>1793</td>\n",
       "      <td>1286</td>\n",
       "      <td>12</td>\n",
       "      <td>658.00</td>\n",
       "      <td>95.00</td>\n",
       "      <td>68.00</td>\n",
       "      <td>35108.07</td>\n",
       "      <td>19</td>\n",
       "      <td>NaT</td>\n",
       "      <td>Москва</td>\n",
       "      <td>Рашид</td>\n",
       "      <td>Троицкий</td>\n",
       "      <td>2018-11-27</td>\n",
       "      <td>smart</td>\n",
       "      <td>50</td>\n",
       "      <td>15360</td>\n",
       "      <td>500</td>\n",
       "      <td>550</td>\n",
       "      <td>200</td>\n",
       "      <td>3</td>\n",
       "      <td>3</td>\n",
       "      <td>658.00</td>\n",
       "      <td>4386.00</td>\n",
       "      <td>4936.00</td>\n",
       "    </tr>\n",
       "    <tr>\n",
       "      <td>260</td>\n",
       "      <td>1042</td>\n",
       "      <td>12</td>\n",
       "      <td>634.00</td>\n",
       "      <td>121.00</td>\n",
       "      <td>75.00</td>\n",
       "      <td>37165.69</td>\n",
       "      <td>42</td>\n",
       "      <td>NaT</td>\n",
       "      <td>Хабаровск</td>\n",
       "      <td>Константин</td>\n",
       "      <td>Добрынин</td>\n",
       "      <td>2018-11-25</td>\n",
       "      <td>smart</td>\n",
       "      <td>50</td>\n",
       "      <td>15360</td>\n",
       "      <td>500</td>\n",
       "      <td>550</td>\n",
       "      <td>200</td>\n",
       "      <td>3</td>\n",
       "      <td>3</td>\n",
       "      <td>634.00</td>\n",
       "      <td>4736.00</td>\n",
       "      <td>5286.00</td>\n",
       "    </tr>\n",
       "    <tr>\n",
       "      <td>1622</td>\n",
       "      <td>1261</td>\n",
       "      <td>12</td>\n",
       "      <td>962.00</td>\n",
       "      <td>141.00</td>\n",
       "      <td>22.00</td>\n",
       "      <td>32650.91</td>\n",
       "      <td>46</td>\n",
       "      <td>NaT</td>\n",
       "      <td>Казань</td>\n",
       "      <td>Мадина</td>\n",
       "      <td>Пантелеева</td>\n",
       "      <td>2018-10-30</td>\n",
       "      <td>smart</td>\n",
       "      <td>50</td>\n",
       "      <td>15360</td>\n",
       "      <td>500</td>\n",
       "      <td>550</td>\n",
       "      <td>200</td>\n",
       "      <td>3</td>\n",
       "      <td>3</td>\n",
       "      <td>962.00</td>\n",
       "      <td>4764.00</td>\n",
       "      <td>5314.00</td>\n",
       "    </tr>\n",
       "    <tr>\n",
       "      <td>3105</td>\n",
       "      <td>1486</td>\n",
       "      <td>11</td>\n",
       "      <td>681.00</td>\n",
       "      <td>108.00</td>\n",
       "      <td>96.00</td>\n",
       "      <td>36266.11</td>\n",
       "      <td>35</td>\n",
       "      <td>NaT</td>\n",
       "      <td>Нижний Новгород</td>\n",
       "      <td>Матвей</td>\n",
       "      <td>Моргунов</td>\n",
       "      <td>2018-10-31</td>\n",
       "      <td>smart</td>\n",
       "      <td>50</td>\n",
       "      <td>15360</td>\n",
       "      <td>500</td>\n",
       "      <td>550</td>\n",
       "      <td>200</td>\n",
       "      <td>3</td>\n",
       "      <td>3</td>\n",
       "      <td>681.00</td>\n",
       "      <td>4765.00</td>\n",
       "      <td>5315.00</td>\n",
       "    </tr>\n",
       "    <tr>\n",
       "      <td>3106</td>\n",
       "      <td>1486</td>\n",
       "      <td>12</td>\n",
       "      <td>892.00</td>\n",
       "      <td>133.00</td>\n",
       "      <td>83.00</td>\n",
       "      <td>38552.45</td>\n",
       "      <td>35</td>\n",
       "      <td>NaT</td>\n",
       "      <td>Нижний Новгород</td>\n",
       "      <td>Матвей</td>\n",
       "      <td>Моргунов</td>\n",
       "      <td>2018-10-31</td>\n",
       "      <td>smart</td>\n",
       "      <td>50</td>\n",
       "      <td>15360</td>\n",
       "      <td>500</td>\n",
       "      <td>550</td>\n",
       "      <td>200</td>\n",
       "      <td>3</td>\n",
       "      <td>3</td>\n",
       "      <td>892.00</td>\n",
       "      <td>5805.00</td>\n",
       "      <td>6355.00</td>\n",
       "    </tr>\n",
       "  </tbody>\n",
       "</table>\n",
       "</div>"
      ],
      "text/plain": [
       "      user_id  month  calls_duration  calls_total  sms_total  mb_total  age  \\\n",
       "1793     1286     12          658.00        95.00      68.00  35108.07   19   \n",
       "260      1042     12          634.00       121.00      75.00  37165.69   42   \n",
       "1622     1261     12          962.00       141.00      22.00  32650.91   46   \n",
       "3105     1486     11          681.00       108.00      96.00  36266.11   35   \n",
       "3106     1486     12          892.00       133.00      83.00  38552.45   35   \n",
       "\n",
       "     churn_date             city  first_name   last_name   reg_date tariff  \\\n",
       "1793        NaT           Москва       Рашид    Троицкий 2018-11-27  smart   \n",
       "260         NaT        Хабаровск  Константин    Добрынин 2018-11-25  smart   \n",
       "1622        NaT           Казань      Мадина  Пантелеева 2018-10-30  smart   \n",
       "3105        NaT  Нижний Новгород      Матвей    Моргунов 2018-10-31  smart   \n",
       "3106        NaT  Нижний Новгород      Матвей    Моргунов 2018-10-31  smart   \n",
       "\n",
       "      messages_included  mb_per_month_included  minutes_included  \\\n",
       "1793                 50                  15360               500   \n",
       "260                  50                  15360               500   \n",
       "1622                 50                  15360               500   \n",
       "3105                 50                  15360               500   \n",
       "3106                 50                  15360               500   \n",
       "\n",
       "      rub_monthly_fee  rub_per_gb  rub_per_message  rub_per_minute  \\\n",
       "1793              550         200                3               3   \n",
       "260               550         200                3               3   \n",
       "1622              550         200                3               3   \n",
       "3105              550         200                3               3   \n",
       "3106              550         200                3               3   \n",
       "\n",
       "      month_calls  revenue  total_paid  \n",
       "1793       658.00  4386.00     4936.00  \n",
       "260        634.00  4736.00     5286.00  \n",
       "1622       962.00  4764.00     5314.00  \n",
       "3105       681.00  4765.00     5315.00  \n",
       "3106       892.00  5805.00     6355.00  "
      ]
     },
     "execution_count": 15,
     "metadata": {},
     "output_type": "execute_result"
    }
   ],
   "source": [
    "df['revenue'] = df.apply(lambda x: revenue(x), axis=1)\n",
    "df['total_paid'] = df['rub_monthly_fee'] + df['revenue']\n",
    "df.sort_values(by='total_paid').tail()"
   ]
  },
  {
   "cell_type": "code",
   "execution_count": 16,
   "metadata": {},
   "outputs": [
    {
     "data": {
      "text/plain": [
       "user_id                     0\n",
       "month                       0\n",
       "calls_duration             40\n",
       "calls_total                40\n",
       "sms_total                   0\n",
       "mb_total                    0\n",
       "age                         0\n",
       "churn_date               3027\n",
       "city                        0\n",
       "first_name                  0\n",
       "last_name                   0\n",
       "reg_date                    0\n",
       "tariff                      0\n",
       "messages_included           0\n",
       "mb_per_month_included       0\n",
       "minutes_included            0\n",
       "rub_monthly_fee             0\n",
       "rub_per_gb                  0\n",
       "rub_per_message             0\n",
       "rub_per_minute              0\n",
       "month_calls                 0\n",
       "revenue                     0\n",
       "total_paid                  0\n",
       "dtype: int64"
      ]
     },
     "metadata": {},
     "output_type": "display_data"
    }
   ],
   "source": [
    "# проверим новую таблицу на пропуски\n",
    "display(df.isna().sum())"
   ]
  },
  {
   "cell_type": "code",
   "execution_count": 17,
   "metadata": {},
   "outputs": [
    {
     "data": {
      "text/html": [
       "<div>\n",
       "<style scoped>\n",
       "    .dataframe tbody tr th:only-of-type {\n",
       "        vertical-align: middle;\n",
       "    }\n",
       "\n",
       "    .dataframe tbody tr th {\n",
       "        vertical-align: top;\n",
       "    }\n",
       "\n",
       "    .dataframe thead th {\n",
       "        text-align: right;\n",
       "    }\n",
       "</style>\n",
       "<table border=\"1\" class=\"dataframe\">\n",
       "  <thead>\n",
       "    <tr style=\"text-align: right;\">\n",
       "      <th></th>\n",
       "      <th>user_id</th>\n",
       "      <th>month</th>\n",
       "      <th>calls_duration</th>\n",
       "      <th>calls_total</th>\n",
       "      <th>sms_total</th>\n",
       "      <th>mb_total</th>\n",
       "      <th>age</th>\n",
       "      <th>churn_date</th>\n",
       "      <th>city</th>\n",
       "      <th>first_name</th>\n",
       "      <th>last_name</th>\n",
       "      <th>reg_date</th>\n",
       "      <th>tariff</th>\n",
       "      <th>messages_included</th>\n",
       "      <th>mb_per_month_included</th>\n",
       "      <th>minutes_included</th>\n",
       "      <th>rub_monthly_fee</th>\n",
       "      <th>rub_per_gb</th>\n",
       "      <th>rub_per_message</th>\n",
       "      <th>rub_per_minute</th>\n",
       "      <th>month_calls</th>\n",
       "      <th>revenue</th>\n",
       "      <th>total_paid</th>\n",
       "    </tr>\n",
       "  </thead>\n",
       "  <tbody>\n",
       "    <tr>\n",
       "      <td>1793</td>\n",
       "      <td>1286</td>\n",
       "      <td>12</td>\n",
       "      <td>658.00</td>\n",
       "      <td>95.00</td>\n",
       "      <td>68.00</td>\n",
       "      <td>35108.07</td>\n",
       "      <td>19</td>\n",
       "      <td>NaT</td>\n",
       "      <td>Москва</td>\n",
       "      <td>Рашид</td>\n",
       "      <td>Троицкий</td>\n",
       "      <td>2018-11-27</td>\n",
       "      <td>smart</td>\n",
       "      <td>50</td>\n",
       "      <td>15360</td>\n",
       "      <td>500</td>\n",
       "      <td>550</td>\n",
       "      <td>200</td>\n",
       "      <td>3</td>\n",
       "      <td>3</td>\n",
       "      <td>658.00</td>\n",
       "      <td>4386.00</td>\n",
       "      <td>4936.00</td>\n",
       "    </tr>\n",
       "    <tr>\n",
       "      <td>260</td>\n",
       "      <td>1042</td>\n",
       "      <td>12</td>\n",
       "      <td>634.00</td>\n",
       "      <td>121.00</td>\n",
       "      <td>75.00</td>\n",
       "      <td>37165.69</td>\n",
       "      <td>42</td>\n",
       "      <td>NaT</td>\n",
       "      <td>Хабаровск</td>\n",
       "      <td>Константин</td>\n",
       "      <td>Добрынин</td>\n",
       "      <td>2018-11-25</td>\n",
       "      <td>smart</td>\n",
       "      <td>50</td>\n",
       "      <td>15360</td>\n",
       "      <td>500</td>\n",
       "      <td>550</td>\n",
       "      <td>200</td>\n",
       "      <td>3</td>\n",
       "      <td>3</td>\n",
       "      <td>634.00</td>\n",
       "      <td>4736.00</td>\n",
       "      <td>5286.00</td>\n",
       "    </tr>\n",
       "    <tr>\n",
       "      <td>1622</td>\n",
       "      <td>1261</td>\n",
       "      <td>12</td>\n",
       "      <td>962.00</td>\n",
       "      <td>141.00</td>\n",
       "      <td>22.00</td>\n",
       "      <td>32650.91</td>\n",
       "      <td>46</td>\n",
       "      <td>NaT</td>\n",
       "      <td>Казань</td>\n",
       "      <td>Мадина</td>\n",
       "      <td>Пантелеева</td>\n",
       "      <td>2018-10-30</td>\n",
       "      <td>smart</td>\n",
       "      <td>50</td>\n",
       "      <td>15360</td>\n",
       "      <td>500</td>\n",
       "      <td>550</td>\n",
       "      <td>200</td>\n",
       "      <td>3</td>\n",
       "      <td>3</td>\n",
       "      <td>962.00</td>\n",
       "      <td>4764.00</td>\n",
       "      <td>5314.00</td>\n",
       "    </tr>\n",
       "    <tr>\n",
       "      <td>3105</td>\n",
       "      <td>1486</td>\n",
       "      <td>11</td>\n",
       "      <td>681.00</td>\n",
       "      <td>108.00</td>\n",
       "      <td>96.00</td>\n",
       "      <td>36266.11</td>\n",
       "      <td>35</td>\n",
       "      <td>NaT</td>\n",
       "      <td>Нижний Новгород</td>\n",
       "      <td>Матвей</td>\n",
       "      <td>Моргунов</td>\n",
       "      <td>2018-10-31</td>\n",
       "      <td>smart</td>\n",
       "      <td>50</td>\n",
       "      <td>15360</td>\n",
       "      <td>500</td>\n",
       "      <td>550</td>\n",
       "      <td>200</td>\n",
       "      <td>3</td>\n",
       "      <td>3</td>\n",
       "      <td>681.00</td>\n",
       "      <td>4765.00</td>\n",
       "      <td>5315.00</td>\n",
       "    </tr>\n",
       "    <tr>\n",
       "      <td>3106</td>\n",
       "      <td>1486</td>\n",
       "      <td>12</td>\n",
       "      <td>892.00</td>\n",
       "      <td>133.00</td>\n",
       "      <td>83.00</td>\n",
       "      <td>38552.45</td>\n",
       "      <td>35</td>\n",
       "      <td>NaT</td>\n",
       "      <td>Нижний Новгород</td>\n",
       "      <td>Матвей</td>\n",
       "      <td>Моргунов</td>\n",
       "      <td>2018-10-31</td>\n",
       "      <td>smart</td>\n",
       "      <td>50</td>\n",
       "      <td>15360</td>\n",
       "      <td>500</td>\n",
       "      <td>550</td>\n",
       "      <td>200</td>\n",
       "      <td>3</td>\n",
       "      <td>3</td>\n",
       "      <td>892.00</td>\n",
       "      <td>5805.00</td>\n",
       "      <td>6355.00</td>\n",
       "    </tr>\n",
       "  </tbody>\n",
       "</table>\n",
       "</div>"
      ],
      "text/plain": [
       "      user_id  month  calls_duration  calls_total  sms_total  mb_total  age  \\\n",
       "1793     1286     12          658.00        95.00      68.00  35108.07   19   \n",
       "260      1042     12          634.00       121.00      75.00  37165.69   42   \n",
       "1622     1261     12          962.00       141.00      22.00  32650.91   46   \n",
       "3105     1486     11          681.00       108.00      96.00  36266.11   35   \n",
       "3106     1486     12          892.00       133.00      83.00  38552.45   35   \n",
       "\n",
       "     churn_date             city  first_name   last_name   reg_date tariff  \\\n",
       "1793        NaT           Москва       Рашид    Троицкий 2018-11-27  smart   \n",
       "260         NaT        Хабаровск  Константин    Добрынин 2018-11-25  smart   \n",
       "1622        NaT           Казань      Мадина  Пантелеева 2018-10-30  smart   \n",
       "3105        NaT  Нижний Новгород      Матвей    Моргунов 2018-10-31  smart   \n",
       "3106        NaT  Нижний Новгород      Матвей    Моргунов 2018-10-31  smart   \n",
       "\n",
       "      messages_included  mb_per_month_included  minutes_included  \\\n",
       "1793                 50                  15360               500   \n",
       "260                  50                  15360               500   \n",
       "1622                 50                  15360               500   \n",
       "3105                 50                  15360               500   \n",
       "3106                 50                  15360               500   \n",
       "\n",
       "      rub_monthly_fee  rub_per_gb  rub_per_message  rub_per_minute  \\\n",
       "1793              550         200                3               3   \n",
       "260               550         200                3               3   \n",
       "1622              550         200                3               3   \n",
       "3105              550         200                3               3   \n",
       "3106              550         200                3               3   \n",
       "\n",
       "      month_calls  revenue  total_paid  \n",
       "1793       658.00  4386.00     4936.00  \n",
       "260        634.00  4736.00     5286.00  \n",
       "1622       962.00  4764.00     5314.00  \n",
       "3105       681.00  4765.00     5315.00  \n",
       "3106       892.00  5805.00     6355.00  "
      ]
     },
     "execution_count": 17,
     "metadata": {},
     "output_type": "execute_result"
    }
   ],
   "source": [
    "df['revenue'] = df.apply(lambda x: revenue(x), axis=1)\n",
    "df['total_paid'] = df['rub_monthly_fee'] + df['revenue']\n",
    "df.sort_values(by='total_paid').tail()"
   ]
  },
  {
   "cell_type": "markdown",
   "metadata": {},
   "source": [
    "## Проанализируйте данные"
   ]
  },
  {
   "cell_type": "markdown",
   "metadata": {},
   "source": [
    "### Cравним общий платеж с абонентской платой на тарифах"
   ]
  },
  {
   "cell_type": "code",
   "execution_count": 18,
   "metadata": {},
   "outputs": [
    {
     "data": {
      "text/html": [
       "<div>\n",
       "<style scoped>\n",
       "    .dataframe tbody tr th:only-of-type {\n",
       "        vertical-align: middle;\n",
       "    }\n",
       "\n",
       "    .dataframe tbody tr th {\n",
       "        vertical-align: top;\n",
       "    }\n",
       "\n",
       "    .dataframe thead th {\n",
       "        text-align: right;\n",
       "    }\n",
       "</style>\n",
       "<table border=\"1\" class=\"dataframe\">\n",
       "  <thead>\n",
       "    <tr style=\"text-align: right;\">\n",
       "      <th></th>\n",
       "      <th>revenue</th>\n",
       "      <th>total_paid</th>\n",
       "    </tr>\n",
       "  </thead>\n",
       "  <tbody>\n",
       "    <tr>\n",
       "      <td>count</td>\n",
       "      <td>3214.00</td>\n",
       "      <td>3214.00</td>\n",
       "    </tr>\n",
       "    <tr>\n",
       "      <td>mean</td>\n",
       "      <td>464.57</td>\n",
       "      <td>1443.64</td>\n",
       "    </tr>\n",
       "    <tr>\n",
       "      <td>std</td>\n",
       "      <td>697.51</td>\n",
       "      <td>773.84</td>\n",
       "    </tr>\n",
       "    <tr>\n",
       "      <td>min</td>\n",
       "      <td>0.00</td>\n",
       "      <td>550.00</td>\n",
       "    </tr>\n",
       "    <tr>\n",
       "      <td>25%</td>\n",
       "      <td>0.00</td>\n",
       "      <td>634.00</td>\n",
       "    </tr>\n",
       "    <tr>\n",
       "      <td>50%</td>\n",
       "      <td>54.00</td>\n",
       "      <td>1475.00</td>\n",
       "    </tr>\n",
       "    <tr>\n",
       "      <td>75%</td>\n",
       "      <td>775.25</td>\n",
       "      <td>1950.00</td>\n",
       "    </tr>\n",
       "    <tr>\n",
       "      <td>max</td>\n",
       "      <td>5805.00</td>\n",
       "      <td>6355.00</td>\n",
       "    </tr>\n",
       "  </tbody>\n",
       "</table>\n",
       "</div>"
      ],
      "text/plain": [
       "       revenue  total_paid\n",
       "count  3214.00     3214.00\n",
       "mean    464.57     1443.64\n",
       "std     697.51      773.84\n",
       "min       0.00      550.00\n",
       "25%       0.00      634.00\n",
       "50%      54.00     1475.00\n",
       "75%     775.25     1950.00\n",
       "max    5805.00     6355.00"
      ]
     },
     "execution_count": 18,
     "metadata": {},
     "output_type": "execute_result"
    }
   ],
   "source": [
    "# общий платеж с абонентской платой на тарифах\n",
    "df[['revenue', 'total_paid']].describe()"
   ]
  },
  {
   "cell_type": "markdown",
   "metadata": {},
   "source": [
    "Узнаем кол-во пользвателей каждого тарифа"
   ]
  },
  {
   "cell_type": "code",
   "execution_count": 19,
   "metadata": {},
   "outputs": [
    {
     "data": {
      "text/plain": [
       "smart    2229\n",
       "ultra     985\n",
       "Name: tariff, dtype: int64"
      ]
     },
     "execution_count": 19,
     "metadata": {},
     "output_type": "execute_result"
    }
   ],
   "source": [
    "df['tariff'].value_counts()"
   ]
  },
  {
   "cell_type": "markdown",
   "metadata": {},
   "source": [
    "И посмотрим распредление к-во платежей по каждому тарифу"
   ]
  },
  {
   "cell_type": "code",
   "execution_count": 20,
   "metadata": {},
   "outputs": [
    {
     "data": {
      "image/png": "[encoded data removed]",
      "text/plain": [
       "<Figure size 432x288 with 1 Axes>"
      ]
     },
     "metadata": {
      "needs_background": "light"
     },
     "output_type": "display_data"
    }
   ],
   "source": [
    "df[df['tariff'] == 'ultra']['total_paid'].plot(kind='hist', bins=10)\n",
    "plt.show();"
   ]
  },
  {
   "cell_type": "code",
   "execution_count": 21,
   "metadata": {},
   "outputs": [
    {
     "data": {
      "image/png": "[encoded data removed]",
      "text/plain": [
       "<Figure size 432x288 with 1 Axes>"
      ]
     },
     "metadata": {
      "needs_background": "light"
     },
     "output_type": "display_data"
    }
   ],
   "source": [
    "df[df['tariff'] == 'smart']['total_paid'].plot(kind='hist', bins=10)\n",
    "plt.show()"
   ]
  },
  {
   "cell_type": "code",
   "execution_count": 22,
   "metadata": {},
   "outputs": [
    {
     "data": {
      "text/html": [
       "<style  type=\"text/css\" >\n",
       "</style><table id=\"T_5f9d3260_8b2e_11ec_a5c3_02420a392ada\" ><thead>    <tr>        <th class=\"blank level0\" ></th>        <th class=\"col_heading level0 col0\" colspan=4>total_paid</th>    </tr>    <tr>        <th class=\"blank level1\" ></th>        <th class=\"col_heading level1 col0\" >median</th>        <th class=\"col_heading level1 col1\" >mean</th>        <th class=\"col_heading level1 col2\" >var</th>        <th class=\"col_heading level1 col3\" >std</th>    </tr>    <tr>        <th class=\"index_name level0\" >tariff</th>        <th class=\"blank\" ></th>        <th class=\"blank\" ></th>        <th class=\"blank\" ></th>        <th class=\"blank\" ></th>    </tr></thead><tbody>\n",
       "                <tr>\n",
       "                        <th id=\"T_5f9d3260_8b2e_11ec_a5c3_02420a392adalevel0_row0\" class=\"row_heading level0 row0\" >smart</th>\n",
       "                        <td id=\"T_5f9d3260_8b2e_11ec_a5c3_02420a392adarow0_col0\" class=\"data row0 col0\" >890.00</td>\n",
       "                        <td id=\"T_5f9d3260_8b2e_11ec_a5c3_02420a392adarow0_col1\" class=\"data row0 col1\" >1171.29</td>\n",
       "                        <td id=\"T_5f9d3260_8b2e_11ec_a5c3_02420a392adarow0_col2\" class=\"data row0 col2\" >565784.09</td>\n",
       "                        <td id=\"T_5f9d3260_8b2e_11ec_a5c3_02420a392adarow0_col3\" class=\"data row0 col3\" >752.19</td>\n",
       "            </tr>\n",
       "            <tr>\n",
       "                        <th id=\"T_5f9d3260_8b2e_11ec_a5c3_02420a392adalevel0_row1\" class=\"row_heading level0 row1\" >ultra</th>\n",
       "                        <td id=\"T_5f9d3260_8b2e_11ec_a5c3_02420a392adarow1_col0\" class=\"data row1 col0\" >1950.00</td>\n",
       "                        <td id=\"T_5f9d3260_8b2e_11ec_a5c3_02420a392adarow1_col1\" class=\"data row1 col1\" >2059.94</td>\n",
       "                        <td id=\"T_5f9d3260_8b2e_11ec_a5c3_02420a392adarow1_col2\" class=\"data row1 col2\" >126033.25</td>\n",
       "                        <td id=\"T_5f9d3260_8b2e_11ec_a5c3_02420a392adarow1_col3\" class=\"data row1 col3\" >355.01</td>\n",
       "            </tr>\n",
       "    </tbody></table>"
      ],
      "text/plain": [
       "<pandas.io.formats.style.Styler at 0x7efe14503f50>"
      ]
     },
     "execution_count": 22,
     "metadata": {},
     "output_type": "execute_result"
    }
   ],
   "source": [
    "df.groupby('tariff').agg({'total_paid':['median','mean','var','std']}).style.format(\"{:.2f}\")"
   ]
  },
  {
   "cell_type": "markdown",
   "metadata": {},
   "source": [
    "Можно сделать аткой вывод по тарифу \"Ультра\" абоненты в основном укладываются в абонентскую плату, в тоже время на \"Смарте\" довольно чаще платять суммы превыщающие ее."
   ]
  },
  {
   "cell_type": "markdown",
   "metadata": {},
   "source": [
    "### Изучим длительность звонков"
   ]
  },
  {
   "cell_type": "code",
   "execution_count": 23,
   "metadata": {},
   "outputs": [
    {
     "data": {
      "text/html": [
       "<style  type=\"text/css\" >\n",
       "</style><table id=\"T_5fa17320_8b2e_11ec_a5c3_02420a392ada\" ><thead>    <tr>        <th class=\"blank level0\" ></th>        <th class=\"col_heading level0 col0\" colspan=4>calls_duration</th>    </tr>    <tr>        <th class=\"blank level1\" ></th>        <th class=\"col_heading level1 col0\" >median</th>        <th class=\"col_heading level1 col1\" >mean</th>        <th class=\"col_heading level1 col2\" >var</th>        <th class=\"col_heading level1 col3\" >std</th>    </tr>    <tr>        <th class=\"index_name level0\" >tariff</th>        <th class=\"blank\" ></th>        <th class=\"blank\" ></th>        <th class=\"blank\" ></th>        <th class=\"blank\" ></th>    </tr></thead><tbody>\n",
       "                <tr>\n",
       "                        <th id=\"T_5fa17320_8b2e_11ec_a5c3_02420a392adalevel0_row0\" class=\"row_heading level0 row0\" >smart</th>\n",
       "                        <td id=\"T_5fa17320_8b2e_11ec_a5c3_02420a392adarow0_col0\" class=\"data row0 col0\" >375.00</td>\n",
       "                        <td id=\"T_5fa17320_8b2e_11ec_a5c3_02420a392adarow0_col1\" class=\"data row0 col1\" >372.45</td>\n",
       "                        <td id=\"T_5fa17320_8b2e_11ec_a5c3_02420a392adarow0_col2\" class=\"data row0 col2\" >28565.31</td>\n",
       "                        <td id=\"T_5fa17320_8b2e_11ec_a5c3_02420a392adarow0_col3\" class=\"data row0 col3\" >169.01</td>\n",
       "            </tr>\n",
       "            <tr>\n",
       "                        <th id=\"T_5fa17320_8b2e_11ec_a5c3_02420a392adalevel0_row1\" class=\"row_heading level0 row1\" >ultra</th>\n",
       "                        <td id=\"T_5fa17320_8b2e_11ec_a5c3_02420a392adarow1_col0\" class=\"data row1 col0\" >468.00</td>\n",
       "                        <td id=\"T_5fa17320_8b2e_11ec_a5c3_02420a392adarow1_col1\" class=\"data row1 col1\" >484.65</td>\n",
       "                        <td id=\"T_5fa17320_8b2e_11ec_a5c3_02420a392adarow1_col2\" class=\"data row1 col2\" >74640.05</td>\n",
       "                        <td id=\"T_5fa17320_8b2e_11ec_a5c3_02420a392adarow1_col3\" class=\"data row1 col3\" >273.20</td>\n",
       "            </tr>\n",
       "    </tbody></table>"
      ],
      "text/plain": [
       "<pandas.io.formats.style.Styler at 0x7efe1342e490>"
      ]
     },
     "execution_count": 23,
     "metadata": {},
     "output_type": "execute_result"
    }
   ],
   "source": [
    "#теперь изучим длительность звонков\n",
    "df.groupby('tariff').agg({'calls_duration':['median','mean','var','std']}).style.format(\"{:.2f}\")"
   ]
  },
  {
   "cell_type": "code",
   "execution_count": 24,
   "metadata": {},
   "outputs": [
    {
     "data": {
      "image/png": "[encoded data removed]",
      "text/plain": [
       "<Figure size 432x288 with 1 Axes>"
      ]
     },
     "metadata": {
      "needs_background": "light"
     },
     "output_type": "display_data"
    }
   ],
   "source": [
    "df[df['tariff'] == 'smart']['calls_duration'].plot(kind='hist', bins=10)\n",
    "plt.title('Звонки в минутах в месяц на тарифе Смарт')\n",
    "plt.show()"
   ]
  },
  {
   "cell_type": "code",
   "execution_count": 25,
   "metadata": {},
   "outputs": [
    {
     "data": {
      "image/png": "[encoded data removed]",
      "text/plain": [
       "<Figure size 432x288 with 1 Axes>"
      ]
     },
     "metadata": {
      "needs_background": "light"
     },
     "output_type": "display_data"
    }
   ],
   "source": [
    "df[df['tariff'] == 'ultra']['calls_duration'].plot(kind='hist', bins=10)\n",
    "plt.title('Звонки в минутах в месяц на тарифе Ультра')\n",
    "plt.show()"
   ]
  },
  {
   "cell_type": "markdown",
   "metadata": {},
   "source": [
    "Вывод: на \"Смарте\" в абонентской плате предусмотрено 500 бесплатных минут и практически все их абоненты выговаривают. В \"Ультра\" наоборот, каждый месяц невыговоренными остается большое количество минут. Медиана и среднее значение находятся рядом на обоих тарифах."
   ]
  },
  {
   "cell_type": "markdown",
   "metadata": {},
   "source": [
    "### Изучим колличество СМС сообщений"
   ]
  },
  {
   "cell_type": "code",
   "execution_count": 26,
   "metadata": {},
   "outputs": [
    {
     "data": {
      "text/html": [
       "<style  type=\"text/css\" >\n",
       "</style><table id=\"T_60312c4a_8b2e_11ec_a5c3_02420a392ada\" ><thead>    <tr>        <th class=\"blank level0\" ></th>        <th class=\"col_heading level0 col0\" colspan=4>sms_total</th>    </tr>    <tr>        <th class=\"blank level1\" ></th>        <th class=\"col_heading level1 col0\" >median</th>        <th class=\"col_heading level1 col1\" >mean</th>        <th class=\"col_heading level1 col2\" >var</th>        <th class=\"col_heading level1 col3\" >std</th>    </tr>    <tr>        <th class=\"index_name level0\" >tariff</th>        <th class=\"blank\" ></th>        <th class=\"blank\" ></th>        <th class=\"blank\" ></th>        <th class=\"blank\" ></th>    </tr></thead><tbody>\n",
       "                <tr>\n",
       "                        <th id=\"T_60312c4a_8b2e_11ec_a5c3_02420a392adalevel0_row0\" class=\"row_heading level0 row0\" >smart</th>\n",
       "                        <td id=\"T_60312c4a_8b2e_11ec_a5c3_02420a392adarow0_col0\" class=\"data row0 col0\" >28.00</td>\n",
       "                        <td id=\"T_60312c4a_8b2e_11ec_a5c3_02420a392adarow0_col1\" class=\"data row0 col1\" >33.38</td>\n",
       "                        <td id=\"T_60312c4a_8b2e_11ec_a5c3_02420a392adarow0_col2\" class=\"data row0 col2\" >796.81</td>\n",
       "                        <td id=\"T_60312c4a_8b2e_11ec_a5c3_02420a392adarow0_col3\" class=\"data row0 col3\" >28.23</td>\n",
       "            </tr>\n",
       "            <tr>\n",
       "                        <th id=\"T_60312c4a_8b2e_11ec_a5c3_02420a392adalevel0_row1\" class=\"row_heading level0 row1\" >ultra</th>\n",
       "                        <td id=\"T_60312c4a_8b2e_11ec_a5c3_02420a392adarow1_col0\" class=\"data row1 col0\" >38.00</td>\n",
       "                        <td id=\"T_60312c4a_8b2e_11ec_a5c3_02420a392adarow1_col1\" class=\"data row1 col1\" >49.36</td>\n",
       "                        <td id=\"T_60312c4a_8b2e_11ec_a5c3_02420a392adarow1_col2\" class=\"data row1 col2\" >2285.27</td>\n",
       "                        <td id=\"T_60312c4a_8b2e_11ec_a5c3_02420a392adarow1_col3\" class=\"data row1 col3\" >47.80</td>\n",
       "            </tr>\n",
       "    </tbody></table>"
      ],
      "text/plain": [
       "<pandas.io.formats.style.Styler at 0x7efe1409e990>"
      ]
     },
     "execution_count": 26,
     "metadata": {},
     "output_type": "execute_result"
    }
   ],
   "source": [
    "# смс\n",
    "df.groupby('tariff').agg({'sms_total':['median','mean','var','std']}).style.format(\"{:.2f}\")"
   ]
  },
  {
   "cell_type": "code",
   "execution_count": 27,
   "metadata": {},
   "outputs": [
    {
     "data": {
      "image/png": "[encoded data removed]",
      "text/plain": [
       "<Figure size 432x288 with 1 Axes>"
      ]
     },
     "metadata": {
      "needs_background": "light"
     },
     "output_type": "display_data"
    }
   ],
   "source": [
    "df[df['tariff'] == 'smart']['sms_total'].plot(kind='hist', bins=10)\n",
    "plt.title('Количество СМС на тарифе Смарт в месяц')\n",
    "plt.show()"
   ]
  },
  {
   "cell_type": "code",
   "execution_count": 28,
   "metadata": {},
   "outputs": [
    {
     "data": {
      "image/png": "[encoded data removed]",
      "text/plain": [
       "<Figure size 432x288 with 1 Axes>"
      ]
     },
     "metadata": {
      "needs_background": "light"
     },
     "output_type": "display_data"
    }
   ],
   "source": [
    "df[df['tariff'] == 'ultra']['sms_total'].plot(kind='hist', bins=10)\n",
    "plt.title('Количество СМС на тарифе Ультра в месяц')\n",
    "plt.show()"
   ]
  },
  {
   "cell_type": "markdown",
   "metadata": {},
   "source": [
    "основная масса пользователей ultra использует еще меньше сообщений, чем в smart. Однако, опять-таки, есть и те, кто отправляет 100 и больше сообщений. Но лимита в 1000 сообщений не достигает никто. Скорее всего нужно пересмотреть распределение бесплатных смс по тарифам, разбежка в 20 раз явно непродума"
   ]
  },
  {
   "cell_type": "markdown",
   "metadata": {},
   "source": [
    "### Изучим интернет-трафик "
   ]
  },
  {
   "cell_type": "code",
   "execution_count": 29,
   "metadata": {},
   "outputs": [
    {
     "data": {
      "text/html": [
       "<style  type=\"text/css\" >\n",
       "</style><table id=\"T_60a2d890_8b2e_11ec_a5c3_02420a392ada\" ><thead>    <tr>        <th class=\"blank level0\" ></th>        <th class=\"col_heading level0 col0\" colspan=4>mb_total</th>    </tr>    <tr>        <th class=\"blank level1\" ></th>        <th class=\"col_heading level1 col0\" >median</th>        <th class=\"col_heading level1 col1\" >mean</th>        <th class=\"col_heading level1 col2\" >var</th>        <th class=\"col_heading level1 col3\" >std</th>    </tr>    <tr>        <th class=\"index_name level0\" >tariff</th>        <th class=\"blank\" ></th>        <th class=\"blank\" ></th>        <th class=\"blank\" ></th>        <th class=\"blank\" ></th>    </tr></thead><tbody>\n",
       "                <tr>\n",
       "                        <th id=\"T_60a2d890_8b2e_11ec_a5c3_02420a392adalevel0_row0\" class=\"row_heading level0 row0\" >smart</th>\n",
       "                        <td id=\"T_60a2d890_8b2e_11ec_a5c3_02420a392adarow0_col0\" class=\"data row0 col0\" >16506.84</td>\n",
       "                        <td id=\"T_60a2d890_8b2e_11ec_a5c3_02420a392adarow0_col1\" class=\"data row0 col1\" >16208.39</td>\n",
       "                        <td id=\"T_60a2d890_8b2e_11ec_a5c3_02420a392adarow0_col2\" class=\"data row0 col2\" >34462496.46</td>\n",
       "                        <td id=\"T_60a2d890_8b2e_11ec_a5c3_02420a392adarow0_col3\" class=\"data row0 col3\" >5870.48</td>\n",
       "            </tr>\n",
       "            <tr>\n",
       "                        <th id=\"T_60a2d890_8b2e_11ec_a5c3_02420a392adalevel0_row1\" class=\"row_heading level0 row1\" >ultra</th>\n",
       "                        <td id=\"T_60a2d890_8b2e_11ec_a5c3_02420a392adarow1_col0\" class=\"data row1 col0\" >19308.01</td>\n",
       "                        <td id=\"T_60a2d890_8b2e_11ec_a5c3_02420a392adarow1_col1\" class=\"data row1 col1\" >19468.81</td>\n",
       "                        <td id=\"T_60a2d890_8b2e_11ec_a5c3_02420a392adarow1_col2\" class=\"data row1 col2\" >101751013.78</td>\n",
       "                        <td id=\"T_60a2d890_8b2e_11ec_a5c3_02420a392adarow1_col3\" class=\"data row1 col3\" >10087.17</td>\n",
       "            </tr>\n",
       "    </tbody></table>"
      ],
      "text/plain": [
       "<pandas.io.formats.style.Styler at 0x7efe7bf1bd50>"
      ]
     },
     "execution_count": 29,
     "metadata": {},
     "output_type": "execute_result"
    }
   ],
   "source": [
    "#проанализируем интернет трафик\n",
    "df.groupby('tariff').agg({'mb_total':['median','mean','var','std']}).style.format(\"{:.2f}\")"
   ]
  },
  {
   "cell_type": "code",
   "execution_count": 30,
   "metadata": {},
   "outputs": [
    {
     "data": {
      "image/png": "[encoded data removed]",
      "text/plain": [
       "<Figure size 432x288 with 1 Axes>"
      ]
     },
     "metadata": {
      "needs_background": "light"
     },
     "output_type": "display_data"
    }
   ],
   "source": [
    "df[df['tariff'] == 'smart']['mb_total'].plot(kind='hist', bins=10)\n",
    "plt.title('Использование интернета(в МБ) на тарифе Смарт в месяц')\n",
    "plt.show()"
   ]
  },
  {
   "cell_type": "code",
   "execution_count": null,
   "metadata": {},
   "outputs": [],
   "source": []
  },
  {
   "cell_type": "code",
   "execution_count": 31,
   "metadata": {},
   "outputs": [
    {
     "data": {
      "image/png": "[encoded data removed]",
      "text/plain": [
       "<Figure size 432x288 with 1 Axes>"
      ]
     },
     "metadata": {
      "needs_background": "light"
     },
     "output_type": "display_data"
    }
   ],
   "source": [
    "df[df['tariff'] == 'ultra']['mb_total'].plot(kind='hist', bins=10)\n",
    "plt.title('Использование интернета(в МБ) на тарифе Ультра в месяц')\n",
    "plt.show()"
   ]
  },
  {
   "cell_type": "markdown",
   "metadata": {},
   "source": [
    "Здесь также среднее и медиана очень близко лежат. Абонентам \"Смарт\" явно не хватает включенного трафика в абонплату, на \"Ультре\" у всех опять огромные запасы остаются.\n",
    "Здесь становится понятно, почему основная масса пользователей тарифа ultra выбирает именно его. Они используют намного больше трафика, чем пользователи smart.\n",
    "\n",
    "Пользователи тарифа ultra используют гораздо больше трафика, чем пользователи более дешевого тарифа. Можно предположить, что те, кто выбирает тариф ultra заинтересованы именно в более активном пользовании интернетом.\n",
    "\n",
    "Вывод:\n",
    "\n",
    "Пользователи smart тарифа используют чуть меньшее количество минут звонков и сообщений в месяц, чем пользователи ultra. Лимита на звонки и минуты в ultra в среднем не достигает никто. При этом интернетом пользователи ultra пользуются гораздо активнее. Скорее всего, пользователи ultra выбирают этот тариф из-за большего интернет-трафика."
   ]
  },
  {
   "cell_type": "markdown",
   "metadata": {},
   "source": [
    "<div class=\"alert alert-success\">\n",
    "<b>✔️ Комментарий ревьюера:</b> Все так"
   ]
  },
  {
   "cell_type": "markdown",
   "metadata": {},
   "source": [
    "## Проверьте гипотезы"
   ]
  },
  {
   "cell_type": "markdown",
   "metadata": {},
   "source": [
    "Сравнимые выборки независимы между собой, поэтому для использования возьмем t-критерий Стьюдента.\n",
    "\n",
    "Гипотеза о равенстве средних двух генеральных совокупностей №1\n",
    "Сформулируем гипотезы:\n",
    "\n",
    "основная H0: выручка пользователей тарифов «Ультра» и «Смарт» не различается\n",
    "аольтернативная H1: выручка пользователей тарифов «Ультра» и «Смарт» различается"
   ]
  },
  {
   "cell_type": "markdown",
   "metadata": {},
   "source": [
    "### средняя выручка пользователей тарифов «Ультра» и «Смарт» различаются"
   ]
  },
  {
   "cell_type": "markdown",
   "metadata": {},
   "source": [
    "Гипотеза о равенстве средних двух генеральных совокупностей №1\n",
    "Сформулируем гипотезы:\n",
    "\n",
    "основная H0: выручка пользователей тарифов «Ультра» и «Смарт» не различается\n",
    "аольтернативная H1: выручка пользователей тарифов «Ультра» и «Смарт» различается"
   ]
  },
  {
   "cell_type": "code",
   "execution_count": 32,
   "metadata": {},
   "outputs": [],
   "source": [
    "#функция для удаления выбросов\n",
    "def delete_outliers(df, column, graphic=0, x = 10, y = 10):\n",
    "    q1 = df[column].quantile(0.25)                 \n",
    "    q3 = df[column].quantile(0.75)\n",
    "    iqr = q3 - q1\n",
    "    iqr_test = (df[column] >= (q1 - 1.5 * iqr)) & (df[column] <= (q3 + 1.5 * iqr))\n",
    "    if graphic == 1:\n",
    "        return df.loc[iqr_test].boxplot([column], figsize=(x,y))\n",
    "    else:\n",
    "        return df.loc[iqr_test]"
   ]
  },
  {
   "cell_type": "code",
   "execution_count": 33,
   "metadata": {},
   "outputs": [
    {
     "data": {
      "text/plain": [
       "array(['Краснодар', 'Москва', 'Стерлитамак', 'Новокузнецк',\n",
       "       'Набережные Челны', 'Ульяновск', 'Челябинск', 'Пермь', 'Тюмень',\n",
       "       'Самара', 'Санкт-Петербург', 'Иваново', 'Чебоксары', 'Омск', 'Уфа',\n",
       "       'Томск', 'Чита', 'Мурманск', 'Петрозаводск', 'Тверь',\n",
       "       'Екатеринбург', 'Махачкала', 'Вологда', 'Череповец', 'Ярославль',\n",
       "       'Сочи', 'Хабаровск', 'Ставрополь', 'Рязань', 'Улан-Удэ', 'Тула',\n",
       "       'Саратов', 'Ростов-на-Дону', 'Казань', 'Иркутск', 'Курск',\n",
       "       'Калуга', 'Якутск', 'Астрахань', 'Химки', 'Владикавказ',\n",
       "       'Волгоград', 'Саранск', 'Ижевск', 'Новосибирск', 'Брянск',\n",
       "       'Тольятти', 'Нижний Тагил', 'Орёл', 'Белгород', 'Воронеж',\n",
       "       'Курган', 'Барнаул', 'Красноярск', 'Архангельск', 'Липецк',\n",
       "       'Кемерово', 'Киров', 'Сургут', 'Пенза', 'Волжский', 'Магнитогорск',\n",
       "       'Нижний Новгород', 'Кострома', 'Владивосток', 'Тамбов', 'Балашиха',\n",
       "       'Севастополь', 'Калининград', 'Оренбург', 'Смоленск',\n",
       "       'Нижневартовск', 'Владимир', 'Новороссийск', 'Грозный', 'Подольск'],\n",
       "      dtype=object)"
      ]
     },
     "execution_count": 33,
     "metadata": {},
     "output_type": "execute_result"
    }
   ],
   "source": [
    "df['city'].unique()"
   ]
  },
  {
   "cell_type": "code",
   "execution_count": 34,
   "metadata": {},
   "outputs": [
    {
     "name": "stdout",
     "output_type": "stream",
     "text": [
      "p-значение: 4.9161758654925636e-266\n",
      "Отвергаем нулевую гипотезу\n"
     ]
    }
   ],
   "source": [
    "ultra = df[df['tariff'] == 'ultra']\n",
    "ultra = delete_outliers(ultra, 'total_paid', 0)\n",
    "ultra = ultra['total_paid']\n",
    "\n",
    "smart = df[df['tariff'] == 'smart']\n",
    "smart = delete_outliers(smart, 'total_paid', 0)\n",
    "smart = smart['total_paid']\n",
    "\n",
    "alpha = 0.05\n",
    "\n",
    "results = st.ttest_ind(ultra, smart)\n",
    "\n",
    "\n",
    "print('p-значение:', results.pvalue)\n",
    "\n",
    "if (results.pvalue < alpha):\n",
    "    print(\"Отвергаем нулевую гипотезу\")\n",
    "else:\n",
    "    print(\"Не получилось отвергнуть нулевую гипотезу\")"
   ]
  },
  {
   "cell_type": "raw",
   "metadata": {},
   "source": [
    "Вывод: между выборками существуют значительные различия, поэтому разница не случайна."
   ]
  },
  {
   "cell_type": "markdown",
   "metadata": {},
   "source": [
    "### средняя выручка пользователи из Москвы отличается от выручки пользователей из других регионов"
   ]
  },
  {
   "cell_type": "markdown",
   "metadata": {},
   "source": [
    "Сформулируем гипотезы:\n",
    "\n",
    "оновная H0: средняя выручка пользователей из Москвы не отличается от выручки пользователей из других регионов \\\n",
    "алтернативная H1: средняя выручка пользователей из Москвы отличается от выручки пользователей из других регионов"
   ]
  },
  {
   "cell_type": "code",
   "execution_count": 36,
   "metadata": {},
   "outputs": [
    {
     "name": "stdout",
     "output_type": "stream",
     "text": [
      "p-значение: 0.23563887187992513\n",
      "Не получилось отвергнуть нулевую гипотезу\n"
     ]
    }
   ],
   "source": [
    "df['region'] = np.where(df['city'] == 'Москва', 'Москва', 'Провинция')\n",
    "\n",
    "moscow = df[df['region'] == 'Москва']\n",
    "moscow = delete_outliers(moscow, 'total_paid', 0)\n",
    "moscow = moscow['total_paid']\n",
    "\n",
    "province = df[df['region'] == 'Провинция']\n",
    "province = delete_outliers(province, 'total_paid', 0)\n",
    "province = province['total_paid']\n",
    "\n",
    "results = st.ttest_ind(moscow, province)\n",
    "\n",
    "print('p-значение:', results.pvalue)\n",
    "\n",
    "if (results.pvalue < alpha):\n",
    "    print(\"Отвергаем нулевую гипотезу\")\n",
    "else:\n",
    "    print(\"Не получилось отвергнуть нулевую гипотезу\")"
   ]
  },
  {
   "cell_type": "markdown",
   "metadata": {},
   "source": [
    "С вероятностью в 23,6 % такой результат может быть получен случайно. Значимых различий нет."
   ]
  },
  {
   "cell_type": "markdown",
   "metadata": {},
   "source": [
    "## Общий вывод"
   ]
  },
  {
   "cell_type": "markdown",
   "metadata": {},
   "source": [
    "Как видно по поведению пользователей на тарифах, они довольно сильно различаются: кому-то необходим только интернет, а кто-то использует все запасы смс и выговаривает все бесплатные минуты. Тут нельзя найти какой-то баланс, ведь все люди разные.\n",
    "\n",
    "Замечания по тарифу \"Смарт\":\n",
    "\n",
    "есть заметная переплата, бонусы, включенные в абонентскую плату небольшие и быстро заканчиваются.\n",
    "необходимо добавить бесплатных мегабайт интернет-трафика\n",
    "немного увеличить количество включенных бесплатных минут\n",
    "уменьшить цену услуг вне включенных в пакет\n",
    "Замечания по тарифу \"Ультра\":\n",
    "\n",
    "сократить частично минуты, смс и включенных трафик\n",
    "за счет этого ввести какой-то дополнительный бонус\n",
    "либо уменьшить немного абонентскую плату, что возможно поможет переманить на него часть клиентов со \"Смарта\"\n",
    "Тарифы приносят разные по размерам деньги, хотя это и подразумевалось изначально, так как они заточены под разные аудитории.\n",
    "Абоненты из Москвы и регионов приносят примерно одинаковую выручку компании, скорее всего это связано со стандартным набором услуг мобильной связи, который довольно схож для людей разного социального и имущественного статуса."
   ]
  }
 ],
 "metadata": {
  "ExecuteTimeLog": [
   {
    "duration": 116,
    "start_time": "2022-02-01T11:49:49.751Z"
   },
   {
    "duration": 3,
    "start_time": "2022-02-01T12:27:52.363Z"
   },
   {
    "duration": 108,
    "start_time": "2022-02-01T12:33:01.598Z"
   },
   {
    "duration": 552,
    "start_time": "2022-02-01T12:40:36.658Z"
   },
   {
    "duration": 1055,
    "start_time": "2022-02-01T12:41:57.934Z"
   },
   {
    "duration": 36,
    "start_time": "2022-02-01T12:44:18.320Z"
   },
   {
    "duration": 32,
    "start_time": "2022-02-01T12:44:28.480Z"
   },
   {
    "duration": 37,
    "start_time": "2022-02-01T12:44:42.944Z"
   },
   {
    "duration": 144,
    "start_time": "2022-02-02T03:23:07.737Z"
   },
   {
    "duration": 88,
    "start_time": "2022-02-02T03:23:14.449Z"
   },
   {
    "duration": 168,
    "start_time": "2022-02-02T03:24:00.322Z"
   },
   {
    "duration": 136,
    "start_time": "2022-02-02T03:24:07.793Z"
   },
   {
    "duration": 130,
    "start_time": "2022-02-02T03:24:10.865Z"
   },
   {
    "duration": 26,
    "start_time": "2022-02-02T03:24:17.849Z"
   },
   {
    "duration": 1018,
    "start_time": "2022-02-02T03:26:55.305Z"
   },
   {
    "duration": 40,
    "start_time": "2022-02-02T03:26:56.325Z"
   },
   {
    "duration": 158,
    "start_time": "2022-02-02T03:26:56.366Z"
   },
   {
    "duration": 98,
    "start_time": "2022-02-02T03:26:56.526Z"
   },
   {
    "duration": 142,
    "start_time": "2022-02-02T03:26:56.625Z"
   },
   {
    "duration": 23,
    "start_time": "2022-02-02T03:26:56.769Z"
   },
   {
    "duration": 112,
    "start_time": "2022-02-02T03:26:56.794Z"
   },
   {
    "duration": 3,
    "start_time": "2022-02-02T04:20:16.152Z"
   },
   {
    "duration": 3,
    "start_time": "2022-02-02T04:22:06.710Z"
   },
   {
    "duration": 3,
    "start_time": "2022-02-02T04:22:07.904Z"
   },
   {
    "duration": 389,
    "start_time": "2022-02-02T04:22:23.823Z"
   },
   {
    "duration": 321,
    "start_time": "2022-02-02T04:22:42.838Z"
   },
   {
    "duration": 363,
    "start_time": "2022-02-02T04:23:23.150Z"
   },
   {
    "duration": 339,
    "start_time": "2022-02-02T04:24:09.750Z"
   },
   {
    "duration": 120,
    "start_time": "2022-02-02T04:24:35.032Z"
   },
   {
    "duration": 4,
    "start_time": "2022-02-02T04:26:03.472Z"
   },
   {
    "duration": 3,
    "start_time": "2022-02-02T04:26:04.534Z"
   },
   {
    "duration": 4,
    "start_time": "2022-02-02T04:27:00.023Z"
   },
   {
    "duration": 4,
    "start_time": "2022-02-02T04:27:00.816Z"
   },
   {
    "duration": 312,
    "start_time": "2022-02-02T04:27:35.046Z"
   },
   {
    "duration": 4,
    "start_time": "2022-02-02T04:27:38.159Z"
   },
   {
    "duration": 328,
    "start_time": "2022-02-02T04:27:41.927Z"
   },
   {
    "duration": 4,
    "start_time": "2022-02-02T04:31:10.104Z"
   },
   {
    "duration": 4,
    "start_time": "2022-02-02T04:31:11.487Z"
   },
   {
    "duration": 340,
    "start_time": "2022-02-02T04:31:31.432Z"
   },
   {
    "duration": 8,
    "start_time": "2022-02-02T04:31:34.290Z"
   },
   {
    "duration": 4,
    "start_time": "2022-02-02T04:32:01.176Z"
   },
   {
    "duration": 3,
    "start_time": "2022-02-02T04:32:33.432Z"
   },
   {
    "duration": 158,
    "start_time": "2022-02-02T06:06:16.208Z"
   },
   {
    "duration": 3,
    "start_time": "2022-02-02T06:06:18.775Z"
   },
   {
    "duration": 122,
    "start_time": "2022-02-02T06:06:20.735Z"
   },
   {
    "duration": 6013,
    "start_time": "2022-02-02T06:06:23.751Z"
   },
   {
    "duration": 342,
    "start_time": "2022-02-02T06:07:24.705Z"
   },
   {
    "duration": 4,
    "start_time": "2022-02-02T06:08:27.104Z"
   },
   {
    "duration": 5,
    "start_time": "2022-02-02T06:08:29.449Z"
   },
   {
    "duration": 6322,
    "start_time": "2022-02-02T06:08:54.865Z"
   },
   {
    "duration": 329,
    "start_time": "2022-02-02T06:09:10.769Z"
   },
   {
    "duration": 6179,
    "start_time": "2022-02-02T06:09:58.528Z"
   },
   {
    "duration": 5,
    "start_time": "2022-02-02T06:10:10.848Z"
   },
   {
    "duration": 4,
    "start_time": "2022-02-02T06:10:27.432Z"
   },
   {
    "duration": 3,
    "start_time": "2022-02-02T06:10:32.624Z"
   },
   {
    "duration": 6372,
    "start_time": "2022-02-02T06:10:37.025Z"
   },
   {
    "duration": 6762,
    "start_time": "2022-02-02T06:10:55.849Z"
   },
   {
    "duration": 3,
    "start_time": "2022-02-02T06:11:04.689Z"
   },
   {
    "duration": 3,
    "start_time": "2022-02-02T06:14:06.714Z"
   },
   {
    "duration": 3,
    "start_time": "2022-02-02T06:14:17.608Z"
   },
   {
    "duration": 397,
    "start_time": "2022-02-02T06:14:21.728Z"
   },
   {
    "duration": 577,
    "start_time": "2022-02-02T06:16:17.401Z"
   },
   {
    "duration": 143,
    "start_time": "2022-02-02T06:16:42.505Z"
   },
   {
    "duration": 3,
    "start_time": "2022-02-02T06:16:46.633Z"
   },
   {
    "duration": 441,
    "start_time": "2022-02-02T06:16:49.042Z"
   },
   {
    "duration": 638,
    "start_time": "2022-02-02T06:17:26.026Z"
   },
   {
    "duration": 3,
    "start_time": "2022-02-02T06:18:51.532Z"
   },
   {
    "duration": 4,
    "start_time": "2022-02-02T06:20:36.762Z"
   },
   {
    "duration": 3,
    "start_time": "2022-02-02T06:20:38.178Z"
   },
   {
    "duration": 4,
    "start_time": "2022-02-02T06:20:41.281Z"
   },
   {
    "duration": 11,
    "start_time": "2022-02-02T07:10:48.334Z"
   },
   {
    "duration": 77,
    "start_time": "2022-02-02T07:10:49.638Z"
   },
   {
    "duration": 28,
    "start_time": "2022-02-02T07:10:52.088Z"
   },
   {
    "duration": 34,
    "start_time": "2022-02-02T07:12:05.047Z"
   },
   {
    "duration": 17,
    "start_time": "2022-02-02T07:13:24.670Z"
   },
   {
    "duration": 9,
    "start_time": "2022-02-02T07:16:49.706Z"
   },
   {
    "duration": 5,
    "start_time": "2022-02-02T07:19:18.496Z"
   },
   {
    "duration": 4,
    "start_time": "2022-02-02T07:19:38.712Z"
   },
   {
    "duration": 5,
    "start_time": "2022-02-02T07:19:46.949Z"
   },
   {
    "duration": 413,
    "start_time": "2022-02-02T07:19:46.956Z"
   },
   {
    "duration": 720,
    "start_time": "2022-02-02T07:19:46.651Z"
   },
   {
    "duration": 718,
    "start_time": "2022-02-02T07:19:46.655Z"
   },
   {
    "duration": 715,
    "start_time": "2022-02-02T07:19:46.658Z"
   },
   {
    "duration": 690,
    "start_time": "2022-02-02T07:19:46.684Z"
   },
   {
    "duration": 689,
    "start_time": "2022-02-02T07:19:46.686Z"
   },
   {
    "duration": 687,
    "start_time": "2022-02-02T07:19:46.689Z"
   },
   {
    "duration": 685,
    "start_time": "2022-02-02T07:19:46.692Z"
   },
   {
    "duration": 680,
    "start_time": "2022-02-02T07:19:46.697Z"
   },
   {
    "duration": 676,
    "start_time": "2022-02-02T07:19:46.702Z"
   },
   {
    "duration": 674,
    "start_time": "2022-02-02T07:19:46.705Z"
   },
   {
    "duration": 671,
    "start_time": "2022-02-02T07:19:46.709Z"
   },
   {
    "duration": 664,
    "start_time": "2022-02-02T07:19:46.716Z"
   },
   {
    "duration": 661,
    "start_time": "2022-02-02T07:19:46.720Z"
   },
   {
    "duration": 659,
    "start_time": "2022-02-02T07:19:46.723Z"
   },
   {
    "duration": 650,
    "start_time": "2022-02-02T07:19:46.733Z"
   },
   {
    "duration": 648,
    "start_time": "2022-02-02T07:19:46.736Z"
   },
   {
    "duration": 646,
    "start_time": "2022-02-02T07:19:46.738Z"
   },
   {
    "duration": 646,
    "start_time": "2022-02-02T07:19:46.739Z"
   },
   {
    "duration": 644,
    "start_time": "2022-02-02T07:19:46.742Z"
   },
   {
    "duration": 120,
    "start_time": "2022-02-02T07:19:47.389Z"
   },
   {
    "duration": 3,
    "start_time": "2022-02-02T07:20:06.335Z"
   },
   {
    "duration": 770,
    "start_time": "2022-02-02T07:20:06.340Z"
   },
   {
    "duration": 711,
    "start_time": "2022-02-02T07:20:06.402Z"
   },
   {
    "duration": 709,
    "start_time": "2022-02-02T07:20:06.405Z"
   },
   {
    "duration": 707,
    "start_time": "2022-02-02T07:20:06.408Z"
   },
   {
    "duration": 706,
    "start_time": "2022-02-02T07:20:06.410Z"
   },
   {
    "duration": 705,
    "start_time": "2022-02-02T07:20:06.412Z"
   },
   {
    "duration": 697,
    "start_time": "2022-02-02T07:20:06.421Z"
   },
   {
    "duration": 694,
    "start_time": "2022-02-02T07:20:06.424Z"
   },
   {
    "duration": 693,
    "start_time": "2022-02-02T07:20:06.426Z"
   },
   {
    "duration": 691,
    "start_time": "2022-02-02T07:20:06.429Z"
   },
   {
    "duration": 689,
    "start_time": "2022-02-02T07:20:06.432Z"
   },
   {
    "duration": 687,
    "start_time": "2022-02-02T07:20:06.435Z"
   },
   {
    "duration": 687,
    "start_time": "2022-02-02T07:20:06.437Z"
   },
   {
    "duration": 686,
    "start_time": "2022-02-02T07:20:06.439Z"
   },
   {
    "duration": 686,
    "start_time": "2022-02-02T07:20:06.441Z"
   },
   {
    "duration": 684,
    "start_time": "2022-02-02T07:20:06.444Z"
   },
   {
    "duration": 684,
    "start_time": "2022-02-02T07:20:06.446Z"
   },
   {
    "duration": 682,
    "start_time": "2022-02-02T07:20:06.449Z"
   },
   {
    "duration": 680,
    "start_time": "2022-02-02T07:20:06.452Z"
   },
   {
    "duration": 679,
    "start_time": "2022-02-02T07:20:06.455Z"
   },
   {
    "duration": 4,
    "start_time": "2022-02-02T07:20:32.579Z"
   },
   {
    "duration": 7,
    "start_time": "2022-02-02T07:20:32.585Z"
   },
   {
    "duration": 4,
    "start_time": "2022-02-02T07:20:32.594Z"
   },
   {
    "duration": 358,
    "start_time": "2022-02-02T07:20:32.600Z"
   },
   {
    "duration": 730,
    "start_time": "2022-02-02T07:20:32.230Z"
   },
   {
    "duration": 724,
    "start_time": "2022-02-02T07:20:32.237Z"
   },
   {
    "duration": 721,
    "start_time": "2022-02-02T07:20:32.242Z"
   },
   {
    "duration": 718,
    "start_time": "2022-02-02T07:20:32.246Z"
   },
   {
    "duration": 717,
    "start_time": "2022-02-02T07:20:32.248Z"
   },
   {
    "duration": 717,
    "start_time": "2022-02-02T07:20:32.250Z"
   },
   {
    "duration": 715,
    "start_time": "2022-02-02T07:20:32.253Z"
   },
   {
    "duration": 714,
    "start_time": "2022-02-02T07:20:32.255Z"
   },
   {
    "duration": 713,
    "start_time": "2022-02-02T07:20:32.257Z"
   },
   {
    "duration": 712,
    "start_time": "2022-02-02T07:20:32.259Z"
   },
   {
    "duration": 711,
    "start_time": "2022-02-02T07:20:32.261Z"
   },
   {
    "duration": 710,
    "start_time": "2022-02-02T07:20:32.263Z"
   },
   {
    "duration": 709,
    "start_time": "2022-02-02T07:20:32.265Z"
   },
   {
    "duration": 708,
    "start_time": "2022-02-02T07:20:32.267Z"
   },
   {
    "duration": 707,
    "start_time": "2022-02-02T07:20:32.269Z"
   },
   {
    "duration": 706,
    "start_time": "2022-02-02T07:20:32.271Z"
   },
   {
    "duration": 704,
    "start_time": "2022-02-02T07:20:32.274Z"
   },
   {
    "duration": 4,
    "start_time": "2022-02-02T07:20:49.486Z"
   },
   {
    "duration": 4,
    "start_time": "2022-02-02T07:20:54.975Z"
   },
   {
    "duration": 7,
    "start_time": "2022-02-02T07:20:54.981Z"
   },
   {
    "duration": 6,
    "start_time": "2022-02-02T07:20:54.990Z"
   },
   {
    "duration": 377,
    "start_time": "2022-02-02T07:20:54.997Z"
   },
   {
    "duration": 711,
    "start_time": "2022-02-02T07:20:54.665Z"
   },
   {
    "duration": 707,
    "start_time": "2022-02-02T07:20:54.670Z"
   },
   {
    "duration": 705,
    "start_time": "2022-02-02T07:20:54.673Z"
   },
   {
    "duration": 702,
    "start_time": "2022-02-02T07:20:54.677Z"
   },
   {
    "duration": 698,
    "start_time": "2022-02-02T07:20:54.682Z"
   },
   {
    "duration": 698,
    "start_time": "2022-02-02T07:20:54.685Z"
   },
   {
    "duration": 696,
    "start_time": "2022-02-02T07:20:54.688Z"
   },
   {
    "duration": 696,
    "start_time": "2022-02-02T07:20:54.689Z"
   },
   {
    "duration": 694,
    "start_time": "2022-02-02T07:20:54.692Z"
   },
   {
    "duration": 693,
    "start_time": "2022-02-02T07:20:54.694Z"
   },
   {
    "duration": 692,
    "start_time": "2022-02-02T07:20:54.696Z"
   },
   {
    "duration": 691,
    "start_time": "2022-02-02T07:20:54.698Z"
   },
   {
    "duration": 690,
    "start_time": "2022-02-02T07:20:54.700Z"
   },
   {
    "duration": 689,
    "start_time": "2022-02-02T07:20:54.702Z"
   },
   {
    "duration": 688,
    "start_time": "2022-02-02T07:20:54.704Z"
   },
   {
    "duration": 687,
    "start_time": "2022-02-02T07:20:54.706Z"
   },
   {
    "duration": 685,
    "start_time": "2022-02-02T07:20:54.709Z"
   },
   {
    "duration": 5,
    "start_time": "2022-02-02T07:21:09.196Z"
   },
   {
    "duration": 22,
    "start_time": "2022-02-02T07:21:09.203Z"
   },
   {
    "duration": 7,
    "start_time": "2022-02-02T07:21:09.227Z"
   },
   {
    "duration": 10,
    "start_time": "2022-02-02T07:21:09.236Z"
   },
   {
    "duration": 5,
    "start_time": "2022-02-02T07:21:09.248Z"
   },
   {
    "duration": 6,
    "start_time": "2022-02-02T07:21:09.254Z"
   },
   {
    "duration": 2126,
    "start_time": "2022-02-02T07:21:09.262Z"
   },
   {
    "duration": 42,
    "start_time": "2022-02-02T07:21:11.390Z"
   },
   {
    "duration": 165,
    "start_time": "2022-02-02T07:21:11.435Z"
   },
   {
    "duration": 7,
    "start_time": "2022-02-02T07:21:11.602Z"
   },
   {
    "duration": 115,
    "start_time": "2022-02-02T07:21:11.610Z"
   },
   {
    "duration": 141,
    "start_time": "2022-02-02T07:21:11.726Z"
   },
   {
    "duration": 23,
    "start_time": "2022-02-02T07:21:11.869Z"
   },
   {
    "duration": 26,
    "start_time": "2022-02-02T07:21:11.894Z"
   },
   {
    "duration": 84,
    "start_time": "2022-02-02T07:21:11.922Z"
   },
   {
    "duration": 31,
    "start_time": "2022-02-02T07:21:12.008Z"
   },
   {
    "duration": 35,
    "start_time": "2022-02-02T07:21:12.041Z"
   },
   {
    "duration": 5,
    "start_time": "2022-02-02T07:21:12.077Z"
   },
   {
    "duration": 17,
    "start_time": "2022-02-02T07:21:12.084Z"
   },
   {
    "duration": 44,
    "start_time": "2022-02-02T07:21:12.103Z"
   },
   {
    "duration": 489,
    "start_time": "2022-02-02T07:21:12.149Z"
   },
   {
    "duration": 5,
    "start_time": "2022-02-02T07:22:09.639Z"
   },
   {
    "duration": 5,
    "start_time": "2022-02-02T07:22:11.164Z"
   },
   {
    "duration": 11,
    "start_time": "2022-02-02T07:22:21.620Z"
   },
   {
    "duration": 5,
    "start_time": "2022-02-02T07:22:31.336Z"
   },
   {
    "duration": 19,
    "start_time": "2022-02-02T07:22:31.343Z"
   },
   {
    "duration": 10,
    "start_time": "2022-02-02T07:22:31.364Z"
   },
   {
    "duration": 6,
    "start_time": "2022-02-02T07:22:31.376Z"
   },
   {
    "duration": 8,
    "start_time": "2022-02-02T07:22:31.384Z"
   },
   {
    "duration": 11,
    "start_time": "2022-02-02T07:22:31.394Z"
   },
   {
    "duration": 1082,
    "start_time": "2022-02-02T07:22:31.407Z"
   },
   {
    "duration": 72,
    "start_time": "2022-02-02T07:22:32.491Z"
   },
   {
    "duration": 164,
    "start_time": "2022-02-02T07:22:32.565Z"
   },
   {
    "duration": 4,
    "start_time": "2022-02-02T07:22:32.731Z"
   },
   {
    "duration": 8,
    "start_time": "2022-02-02T07:22:32.737Z"
   },
   {
    "duration": 10,
    "start_time": "2022-02-02T07:22:32.747Z"
   },
   {
    "duration": 112,
    "start_time": "2022-02-02T07:22:32.759Z"
   },
   {
    "duration": 140,
    "start_time": "2022-02-02T07:22:32.873Z"
   },
   {
    "duration": 24,
    "start_time": "2022-02-02T07:22:33.014Z"
   },
   {
    "duration": 10,
    "start_time": "2022-02-02T07:22:33.041Z"
   },
   {
    "duration": 95,
    "start_time": "2022-02-02T07:22:33.053Z"
   },
   {
    "duration": 27,
    "start_time": "2022-02-02T07:22:33.150Z"
   },
   {
    "duration": 47,
    "start_time": "2022-02-02T07:22:33.180Z"
   },
   {
    "duration": 4,
    "start_time": "2022-02-02T07:22:33.229Z"
   },
   {
    "duration": 8,
    "start_time": "2022-02-02T07:22:33.235Z"
   },
   {
    "duration": 21,
    "start_time": "2022-02-02T07:22:33.245Z"
   },
   {
    "duration": 454,
    "start_time": "2022-02-02T07:22:33.268Z"
   },
   {
    "duration": 5,
    "start_time": "2022-02-02T07:23:18.636Z"
   },
   {
    "duration": 10,
    "start_time": "2022-02-02T07:23:18.643Z"
   },
   {
    "duration": 5,
    "start_time": "2022-02-02T07:23:18.657Z"
   },
   {
    "duration": 4,
    "start_time": "2022-02-02T07:23:18.664Z"
   },
   {
    "duration": 8,
    "start_time": "2022-02-02T07:23:18.670Z"
   },
   {
    "duration": 6,
    "start_time": "2022-02-02T07:23:18.680Z"
   },
   {
    "duration": 1152,
    "start_time": "2022-02-02T07:23:18.688Z"
   },
   {
    "duration": 50,
    "start_time": "2022-02-02T07:23:19.842Z"
   },
   {
    "duration": 162,
    "start_time": "2022-02-02T07:23:19.894Z"
   },
   {
    "duration": 5,
    "start_time": "2022-02-02T07:23:20.058Z"
   },
   {
    "duration": 8,
    "start_time": "2022-02-02T07:23:20.065Z"
   },
   {
    "duration": 8,
    "start_time": "2022-02-02T07:23:20.075Z"
   },
   {
    "duration": 151,
    "start_time": "2022-02-02T07:23:20.085Z"
   },
   {
    "duration": 207,
    "start_time": "2022-02-02T07:23:20.238Z"
   },
   {
    "duration": 29,
    "start_time": "2022-02-02T07:23:20.447Z"
   },
   {
    "duration": 6,
    "start_time": "2022-02-02T07:23:20.478Z"
   },
   {
    "duration": 71,
    "start_time": "2022-02-02T07:23:20.486Z"
   },
   {
    "duration": 43,
    "start_time": "2022-02-02T07:23:20.559Z"
   },
   {
    "duration": 63,
    "start_time": "2022-02-02T07:23:20.605Z"
   },
   {
    "duration": 5,
    "start_time": "2022-02-02T07:23:20.670Z"
   },
   {
    "duration": 24,
    "start_time": "2022-02-02T07:23:20.677Z"
   },
   {
    "duration": 685,
    "start_time": "2022-02-02T07:23:20.703Z"
   },
   {
    "duration": 6,
    "start_time": "2022-02-02T07:25:00.016Z"
   },
   {
    "duration": 8,
    "start_time": "2022-02-02T07:25:02.492Z"
   },
   {
    "duration": 7,
    "start_time": "2022-02-02T07:25:09.403Z"
   },
   {
    "duration": 5,
    "start_time": "2022-02-02T07:25:15.933Z"
   },
   {
    "duration": 7,
    "start_time": "2022-02-02T07:25:15.940Z"
   },
   {
    "duration": 5,
    "start_time": "2022-02-02T07:25:15.949Z"
   },
   {
    "duration": 7,
    "start_time": "2022-02-02T07:25:15.956Z"
   },
   {
    "duration": 6,
    "start_time": "2022-02-02T07:25:15.964Z"
   },
   {
    "duration": 6,
    "start_time": "2022-02-02T07:25:15.972Z"
   },
   {
    "duration": 1084,
    "start_time": "2022-02-02T07:25:15.980Z"
   },
   {
    "duration": 51,
    "start_time": "2022-02-02T07:25:17.067Z"
   },
   {
    "duration": 166,
    "start_time": "2022-02-02T07:25:17.119Z"
   },
   {
    "duration": 4,
    "start_time": "2022-02-02T07:25:17.287Z"
   },
   {
    "duration": 6,
    "start_time": "2022-02-02T07:25:17.292Z"
   },
   {
    "duration": 8,
    "start_time": "2022-02-02T07:25:17.300Z"
   },
   {
    "duration": 120,
    "start_time": "2022-02-02T07:25:17.310Z"
   },
   {
    "duration": 145,
    "start_time": "2022-02-02T07:25:17.432Z"
   },
   {
    "duration": 25,
    "start_time": "2022-02-02T07:25:17.578Z"
   },
   {
    "duration": 8,
    "start_time": "2022-02-02T07:25:17.604Z"
   },
   {
    "duration": 58,
    "start_time": "2022-02-02T07:25:17.613Z"
   },
   {
    "duration": 27,
    "start_time": "2022-02-02T07:25:17.672Z"
   },
   {
    "duration": 48,
    "start_time": "2022-02-02T07:25:17.700Z"
   },
   {
    "duration": 4,
    "start_time": "2022-02-02T07:25:17.750Z"
   },
   {
    "duration": 21,
    "start_time": "2022-02-02T07:25:17.756Z"
   },
   {
    "duration": 412,
    "start_time": "2022-02-02T07:25:17.778Z"
   },
   {
    "duration": 345,
    "start_time": "2022-02-02T07:28:16.537Z"
   },
   {
    "duration": 340,
    "start_time": "2022-02-02T07:28:34.169Z"
   },
   {
    "duration": 339,
    "start_time": "2022-02-02T07:28:38.433Z"
   },
   {
    "duration": 4,
    "start_time": "2022-02-02T07:28:43.001Z"
   },
   {
    "duration": 342,
    "start_time": "2022-02-02T07:28:44.873Z"
   },
   {
    "duration": 4,
    "start_time": "2022-02-02T07:37:41.968Z"
   },
   {
    "duration": 4,
    "start_time": "2022-02-02T07:37:41.974Z"
   },
   {
    "duration": 4,
    "start_time": "2022-02-02T07:37:41.980Z"
   },
   {
    "duration": 4,
    "start_time": "2022-02-02T07:37:41.986Z"
   },
   {
    "duration": 5,
    "start_time": "2022-02-02T07:37:41.991Z"
   },
   {
    "duration": 6,
    "start_time": "2022-02-02T07:37:41.997Z"
   },
   {
    "duration": 1073,
    "start_time": "2022-02-02T07:37:42.005Z"
   },
   {
    "duration": 56,
    "start_time": "2022-02-02T07:37:43.080Z"
   },
   {
    "duration": 174,
    "start_time": "2022-02-02T07:37:43.139Z"
   },
   {
    "duration": 46,
    "start_time": "2022-02-02T07:37:43.315Z"
   },
   {
    "duration": 459,
    "start_time": "2022-02-02T07:37:43.363Z"
   },
   {
    "duration": 762,
    "start_time": "2022-02-02T07:37:43.063Z"
   },
   {
    "duration": 748,
    "start_time": "2022-02-02T07:37:43.078Z"
   },
   {
    "duration": 747,
    "start_time": "2022-02-02T07:37:43.080Z"
   },
   {
    "duration": 745,
    "start_time": "2022-02-02T07:37:43.083Z"
   },
   {
    "duration": 741,
    "start_time": "2022-02-02T07:37:43.088Z"
   },
   {
    "duration": 738,
    "start_time": "2022-02-02T07:37:43.092Z"
   },
   {
    "duration": 737,
    "start_time": "2022-02-02T07:37:43.094Z"
   },
   {
    "duration": 737,
    "start_time": "2022-02-02T07:37:43.096Z"
   },
   {
    "duration": 736,
    "start_time": "2022-02-02T07:37:43.098Z"
   },
   {
    "duration": 733,
    "start_time": "2022-02-02T07:37:43.102Z"
   },
   {
    "duration": 730,
    "start_time": "2022-02-02T07:37:43.106Z"
   },
   {
    "duration": 361,
    "start_time": "2022-02-02T07:37:57.996Z"
   },
   {
    "duration": 441,
    "start_time": "2022-02-02T08:17:16.462Z"
   },
   {
    "duration": 46,
    "start_time": "2022-02-02T08:17:35.486Z"
   },
   {
    "duration": 47,
    "start_time": "2022-02-02T08:17:37.933Z"
   },
   {
    "duration": 328,
    "start_time": "2022-02-02T08:21:49.213Z"
   },
   {
    "duration": 9060,
    "start_time": "2022-02-02T08:22:24.039Z"
   },
   {
    "duration": 341,
    "start_time": "2022-02-02T08:22:48.289Z"
   },
   {
    "duration": 276,
    "start_time": "2022-02-02T08:22:57.590Z"
   },
   {
    "duration": 1327,
    "start_time": "2022-02-02T08:24:29.968Z"
   },
   {
    "duration": 208,
    "start_time": "2022-02-02T08:24:42.599Z"
   },
   {
    "duration": 215,
    "start_time": "2022-02-02T08:24:50.838Z"
   },
   {
    "duration": 40,
    "start_time": "2022-02-02T09:13:27.967Z"
   },
   {
    "duration": 53,
    "start_time": "2022-02-02T09:13:53.355Z"
   },
   {
    "duration": 53,
    "start_time": "2022-02-02T09:13:57.075Z"
   },
   {
    "duration": 45,
    "start_time": "2022-02-02T09:15:44.916Z"
   },
   {
    "duration": 856,
    "start_time": "2022-02-02T09:16:16.043Z"
   },
   {
    "duration": 36,
    "start_time": "2022-02-02T09:16:23.804Z"
   },
   {
    "duration": 47,
    "start_time": "2022-02-02T09:17:11.985Z"
   },
   {
    "duration": 525,
    "start_time": "2022-02-02T09:20:28.526Z"
   },
   {
    "duration": 563,
    "start_time": "2022-02-02T09:20:44.894Z"
   },
   {
    "duration": 100,
    "start_time": "2022-02-02T09:20:54.651Z"
   },
   {
    "duration": 44,
    "start_time": "2022-02-02T09:20:58.548Z"
   },
   {
    "duration": 553,
    "start_time": "2022-02-02T09:21:03.628Z"
   },
   {
    "duration": 4,
    "start_time": "2022-02-02T09:21:21.163Z"
   },
   {
    "duration": 6,
    "start_time": "2022-02-02T09:21:21.169Z"
   },
   {
    "duration": 7,
    "start_time": "2022-02-02T09:21:21.177Z"
   },
   {
    "duration": 5,
    "start_time": "2022-02-02T09:21:21.185Z"
   },
   {
    "duration": 5,
    "start_time": "2022-02-02T09:21:21.191Z"
   },
   {
    "duration": 8,
    "start_time": "2022-02-02T09:21:21.198Z"
   },
   {
    "duration": 1206,
    "start_time": "2022-02-02T09:21:21.207Z"
   },
   {
    "duration": 40,
    "start_time": "2022-02-02T09:21:22.416Z"
   },
   {
    "duration": 162,
    "start_time": "2022-02-02T09:21:22.458Z"
   },
   {
    "duration": 23,
    "start_time": "2022-02-02T09:21:22.622Z"
   },
   {
    "duration": 409,
    "start_time": "2022-02-02T09:21:22.647Z"
   },
   {
    "duration": 796,
    "start_time": "2022-02-02T09:21:22.262Z"
   },
   {
    "duration": 793,
    "start_time": "2022-02-02T09:21:22.266Z"
   },
   {
    "duration": 769,
    "start_time": "2022-02-02T09:21:22.291Z"
   },
   {
    "duration": 759,
    "start_time": "2022-02-02T09:21:22.302Z"
   },
   {
    "duration": 754,
    "start_time": "2022-02-02T09:21:22.307Z"
   },
   {
    "duration": 752,
    "start_time": "2022-02-02T09:21:22.310Z"
   },
   {
    "duration": 750,
    "start_time": "2022-02-02T09:21:22.313Z"
   },
   {
    "duration": 748,
    "start_time": "2022-02-02T09:21:22.316Z"
   },
   {
    "duration": 743,
    "start_time": "2022-02-02T09:21:22.321Z"
   },
   {
    "duration": 739,
    "start_time": "2022-02-02T09:21:22.326Z"
   },
   {
    "duration": 736,
    "start_time": "2022-02-02T09:21:22.330Z"
   },
   {
    "duration": 734,
    "start_time": "2022-02-02T09:21:22.333Z"
   },
   {
    "duration": 4,
    "start_time": "2022-02-02T09:21:44.851Z"
   },
   {
    "duration": 4,
    "start_time": "2022-02-02T09:21:44.857Z"
   },
   {
    "duration": 4,
    "start_time": "2022-02-02T09:21:44.862Z"
   },
   {
    "duration": 3,
    "start_time": "2022-02-02T09:21:44.868Z"
   },
   {
    "duration": 6,
    "start_time": "2022-02-02T09:21:44.872Z"
   },
   {
    "duration": 5,
    "start_time": "2022-02-02T09:21:44.879Z"
   },
   {
    "duration": 1102,
    "start_time": "2022-02-02T09:21:44.886Z"
   },
   {
    "duration": 48,
    "start_time": "2022-02-02T09:21:45.989Z"
   },
   {
    "duration": 168,
    "start_time": "2022-02-02T09:21:46.039Z"
   },
   {
    "duration": 29,
    "start_time": "2022-02-02T09:21:46.209Z"
   },
   {
    "duration": 7,
    "start_time": "2022-02-02T09:21:46.240Z"
   },
   {
    "duration": 98,
    "start_time": "2022-02-02T09:21:46.250Z"
   },
   {
    "duration": 135,
    "start_time": "2022-02-02T09:21:46.350Z"
   },
   {
    "duration": 23,
    "start_time": "2022-02-02T09:21:46.487Z"
   },
   {
    "duration": 6,
    "start_time": "2022-02-02T09:21:46.511Z"
   },
   {
    "duration": 50,
    "start_time": "2022-02-02T09:21:46.519Z"
   },
   {
    "duration": 25,
    "start_time": "2022-02-02T09:21:46.570Z"
   },
   {
    "duration": 50,
    "start_time": "2022-02-02T09:21:46.597Z"
   },
   {
    "duration": 4,
    "start_time": "2022-02-02T09:21:46.649Z"
   },
   {
    "duration": 48,
    "start_time": "2022-02-02T09:21:46.654Z"
   },
   {
    "duration": 60,
    "start_time": "2022-02-02T09:21:46.704Z"
   },
   {
    "duration": 38,
    "start_time": "2022-02-02T09:21:46.766Z"
   },
   {
    "duration": 25,
    "start_time": "2022-02-02T09:21:57.787Z"
   },
   {
    "duration": 498,
    "start_time": "2022-02-02T09:22:53.884Z"
   },
   {
    "duration": 369,
    "start_time": "2022-02-02T09:23:01.267Z"
   },
   {
    "duration": 26,
    "start_time": "2022-02-02T09:23:25.799Z"
   },
   {
    "duration": 46,
    "start_time": "2022-02-02T09:25:28.524Z"
   },
   {
    "duration": 42,
    "start_time": "2022-02-02T09:25:34.901Z"
   },
   {
    "duration": 390,
    "start_time": "2022-02-02T09:26:16.949Z"
   },
   {
    "duration": 4,
    "start_time": "2022-02-02T09:26:54.553Z"
   },
   {
    "duration": 8,
    "start_time": "2022-02-02T09:26:54.560Z"
   },
   {
    "duration": 7,
    "start_time": "2022-02-02T09:26:54.571Z"
   },
   {
    "duration": 7,
    "start_time": "2022-02-02T09:26:54.580Z"
   },
   {
    "duration": 7,
    "start_time": "2022-02-02T09:26:54.589Z"
   },
   {
    "duration": 7,
    "start_time": "2022-02-02T09:26:54.598Z"
   },
   {
    "duration": 1101,
    "start_time": "2022-02-02T09:26:54.606Z"
   },
   {
    "duration": 46,
    "start_time": "2022-02-02T09:26:55.708Z"
   },
   {
    "duration": 184,
    "start_time": "2022-02-02T09:26:55.757Z"
   },
   {
    "duration": 41,
    "start_time": "2022-02-02T09:26:55.943Z"
   },
   {
    "duration": 9,
    "start_time": "2022-02-02T09:26:55.986Z"
   },
   {
    "duration": 156,
    "start_time": "2022-02-02T09:26:55.996Z"
   },
   {
    "duration": 197,
    "start_time": "2022-02-02T09:26:56.154Z"
   },
   {
    "duration": 28,
    "start_time": "2022-02-02T09:26:56.353Z"
   },
   {
    "duration": 7,
    "start_time": "2022-02-02T09:26:56.383Z"
   },
   {
    "duration": 79,
    "start_time": "2022-02-02T09:26:56.392Z"
   },
   {
    "duration": 45,
    "start_time": "2022-02-02T09:26:56.473Z"
   },
   {
    "duration": 61,
    "start_time": "2022-02-02T09:26:56.520Z"
   },
   {
    "duration": 5,
    "start_time": "2022-02-02T09:26:56.583Z"
   },
   {
    "duration": 86,
    "start_time": "2022-02-02T09:26:56.590Z"
   },
   {
    "duration": 33,
    "start_time": "2022-02-02T09:26:56.678Z"
   },
   {
    "duration": 36,
    "start_time": "2022-02-02T09:26:56.714Z"
   },
   {
    "duration": 35,
    "start_time": "2022-02-02T09:26:56.752Z"
   },
   {
    "duration": 559,
    "start_time": "2022-02-02T09:26:56.789Z"
   },
   {
    "duration": 8,
    "start_time": "2022-02-02T09:28:17.111Z"
   },
   {
    "duration": 5,
    "start_time": "2022-02-02T09:29:05.973Z"
   },
   {
    "duration": 5,
    "start_time": "2022-02-02T09:29:49.582Z"
   },
   {
    "duration": 707,
    "start_time": "2022-02-02T09:30:10.795Z"
   },
   {
    "duration": 12820,
    "start_time": "2022-02-02T09:30:17.739Z"
   },
   {
    "duration": 12,
    "start_time": "2022-02-02T09:30:33.380Z"
   },
   {
    "duration": 401,
    "start_time": "2022-02-02T09:31:23.701Z"
   },
   {
    "duration": 339,
    "start_time": "2022-02-02T09:31:54.118Z"
   },
   {
    "duration": 710,
    "start_time": "2022-02-02T09:35:22.192Z"
   },
   {
    "duration": 4,
    "start_time": "2022-02-02T09:35:52.406Z"
   },
   {
    "duration": 6,
    "start_time": "2022-02-02T09:36:57.821Z"
   },
   {
    "duration": 5,
    "start_time": "2022-02-02T09:36:57.829Z"
   },
   {
    "duration": 9,
    "start_time": "2022-02-02T09:36:57.837Z"
   },
   {
    "duration": 7,
    "start_time": "2022-02-02T09:36:57.848Z"
   },
   {
    "duration": 6,
    "start_time": "2022-02-02T09:36:57.857Z"
   },
   {
    "duration": 11,
    "start_time": "2022-02-02T09:36:57.865Z"
   },
   {
    "duration": 1394,
    "start_time": "2022-02-02T09:36:57.880Z"
   },
   {
    "duration": 42,
    "start_time": "2022-02-02T09:36:59.276Z"
   },
   {
    "duration": 172,
    "start_time": "2022-02-02T09:36:59.321Z"
   },
   {
    "duration": 52,
    "start_time": "2022-02-02T09:36:59.496Z"
   },
   {
    "duration": 9,
    "start_time": "2022-02-02T09:36:59.550Z"
   },
   {
    "duration": 144,
    "start_time": "2022-02-02T09:36:59.561Z"
   },
   {
    "duration": 197,
    "start_time": "2022-02-02T09:36:59.707Z"
   },
   {
    "duration": 27,
    "start_time": "2022-02-02T09:36:59.906Z"
   },
   {
    "duration": 11,
    "start_time": "2022-02-02T09:36:59.935Z"
   },
   {
    "duration": 79,
    "start_time": "2022-02-02T09:36:59.948Z"
   },
   {
    "duration": 45,
    "start_time": "2022-02-02T09:37:00.029Z"
   },
   {
    "duration": 74,
    "start_time": "2022-02-02T09:37:00.076Z"
   },
   {
    "duration": 6,
    "start_time": "2022-02-02T09:37:00.152Z"
   },
   {
    "duration": 74,
    "start_time": "2022-02-02T09:37:00.160Z"
   },
   {
    "duration": 48,
    "start_time": "2022-02-02T09:37:00.236Z"
   },
   {
    "duration": 46,
    "start_time": "2022-02-02T09:37:00.286Z"
   },
   {
    "duration": 34,
    "start_time": "2022-02-02T09:37:00.334Z"
   },
   {
    "duration": 503,
    "start_time": "2022-02-02T09:37:00.370Z"
   },
   {
    "duration": 782,
    "start_time": "2022-02-02T09:37:00.094Z"
   },
   {
    "duration": 781,
    "start_time": "2022-02-02T09:37:00.096Z"
   },
   {
    "duration": 780,
    "start_time": "2022-02-02T09:37:00.099Z"
   },
   {
    "duration": 779,
    "start_time": "2022-02-02T09:37:00.101Z"
   },
   {
    "duration": 777,
    "start_time": "2022-02-02T09:37:00.104Z"
   },
   {
    "duration": 776,
    "start_time": "2022-02-02T09:37:00.106Z"
   },
   {
    "duration": 775,
    "start_time": "2022-02-02T09:37:00.109Z"
   },
   {
    "duration": 774,
    "start_time": "2022-02-02T09:37:00.111Z"
   },
   {
    "duration": 772,
    "start_time": "2022-02-02T09:37:00.114Z"
   },
   {
    "duration": 388,
    "start_time": "2022-02-02T12:08:15.759Z"
   },
   {
    "duration": 4,
    "start_time": "2022-02-02T12:11:20.512Z"
   },
   {
    "duration": 6,
    "start_time": "2022-02-02T12:11:20.517Z"
   },
   {
    "duration": 11,
    "start_time": "2022-02-02T12:11:20.525Z"
   },
   {
    "duration": 6,
    "start_time": "2022-02-02T12:11:20.538Z"
   },
   {
    "duration": 11,
    "start_time": "2022-02-02T12:11:20.546Z"
   },
   {
    "duration": 5,
    "start_time": "2022-02-02T12:11:20.559Z"
   },
   {
    "duration": 1036,
    "start_time": "2022-02-02T12:11:20.565Z"
   },
   {
    "duration": 49,
    "start_time": "2022-02-02T12:11:21.603Z"
   },
   {
    "duration": 182,
    "start_time": "2022-02-02T12:11:21.657Z"
   },
   {
    "duration": 24,
    "start_time": "2022-02-02T12:11:21.841Z"
   },
   {
    "duration": 7,
    "start_time": "2022-02-02T12:11:21.866Z"
   },
   {
    "duration": 127,
    "start_time": "2022-02-02T12:11:21.874Z"
   },
   {
    "duration": 163,
    "start_time": "2022-02-02T12:11:22.002Z"
   },
   {
    "duration": 23,
    "start_time": "2022-02-02T12:11:22.167Z"
   },
   {
    "duration": 5,
    "start_time": "2022-02-02T12:11:22.192Z"
   },
   {
    "duration": 60,
    "start_time": "2022-02-02T12:11:22.199Z"
   },
   {
    "duration": 26,
    "start_time": "2022-02-02T12:11:22.261Z"
   },
   {
    "duration": 48,
    "start_time": "2022-02-02T12:11:22.289Z"
   },
   {
    "duration": 4,
    "start_time": "2022-02-02T12:11:22.339Z"
   },
   {
    "duration": 53,
    "start_time": "2022-02-02T12:11:22.345Z"
   },
   {
    "duration": 53,
    "start_time": "2022-02-02T12:11:22.400Z"
   },
   {
    "duration": 29,
    "start_time": "2022-02-02T12:11:22.455Z"
   },
   {
    "duration": 50,
    "start_time": "2022-02-02T12:11:22.486Z"
   },
   {
    "duration": 485,
    "start_time": "2022-02-02T12:11:22.538Z"
   },
   {
    "duration": 812,
    "start_time": "2022-02-02T12:11:22.214Z"
   },
   {
    "duration": 811,
    "start_time": "2022-02-02T12:11:22.220Z"
   },
   {
    "duration": 809,
    "start_time": "2022-02-02T12:11:22.224Z"
   },
   {
    "duration": 806,
    "start_time": "2022-02-02T12:11:22.229Z"
   },
   {
    "duration": 804,
    "start_time": "2022-02-02T12:11:22.232Z"
   },
   {
    "duration": 802,
    "start_time": "2022-02-02T12:11:22.235Z"
   },
   {
    "duration": 800,
    "start_time": "2022-02-02T12:11:22.239Z"
   },
   {
    "duration": 796,
    "start_time": "2022-02-02T12:11:22.243Z"
   },
   {
    "duration": 794,
    "start_time": "2022-02-02T12:11:22.246Z"
   },
   {
    "duration": 792,
    "start_time": "2022-02-02T12:11:22.249Z"
   },
   {
    "duration": 789,
    "start_time": "2022-02-02T12:11:22.253Z"
   },
   {
    "duration": 788,
    "start_time": "2022-02-02T12:11:22.255Z"
   },
   {
    "duration": 786,
    "start_time": "2022-02-02T12:11:22.258Z"
   },
   {
    "duration": 784,
    "start_time": "2022-02-02T12:11:22.261Z"
   },
   {
    "duration": 782,
    "start_time": "2022-02-02T12:11:22.264Z"
   },
   {
    "duration": 781,
    "start_time": "2022-02-02T12:11:22.266Z"
   },
   {
    "duration": 776,
    "start_time": "2022-02-02T12:11:22.272Z"
   },
   {
    "duration": 766,
    "start_time": "2022-02-02T12:11:22.283Z"
   },
   {
    "duration": 764,
    "start_time": "2022-02-02T12:11:22.286Z"
   },
   {
    "duration": 762,
    "start_time": "2022-02-02T12:11:22.289Z"
   },
   {
    "duration": 759,
    "start_time": "2022-02-02T12:11:22.293Z"
   },
   {
    "duration": 11,
    "start_time": "2022-02-02T12:12:24.740Z"
   },
   {
    "duration": 409,
    "start_time": "2022-02-02T12:12:41.874Z"
   },
   {
    "duration": 375,
    "start_time": "2022-02-02T12:13:13.427Z"
   },
   {
    "duration": 12,
    "start_time": "2022-02-02T12:14:20.028Z"
   },
   {
    "duration": 5,
    "start_time": "2022-02-02T12:14:25.910Z"
   },
   {
    "duration": 8,
    "start_time": "2022-02-02T12:14:25.917Z"
   },
   {
    "duration": 5,
    "start_time": "2022-02-02T12:14:25.927Z"
   },
   {
    "duration": 4,
    "start_time": "2022-02-02T12:14:25.933Z"
   },
   {
    "duration": 5,
    "start_time": "2022-02-02T12:14:25.939Z"
   },
   {
    "duration": 6,
    "start_time": "2022-02-02T12:14:25.945Z"
   },
   {
    "duration": 1043,
    "start_time": "2022-02-02T12:14:25.952Z"
   },
   {
    "duration": 70,
    "start_time": "2022-02-02T12:14:26.998Z"
   },
   {
    "duration": 174,
    "start_time": "2022-02-02T12:14:27.070Z"
   },
   {
    "duration": 25,
    "start_time": "2022-02-02T12:14:27.246Z"
   },
   {
    "duration": 6,
    "start_time": "2022-02-02T12:14:27.273Z"
   },
   {
    "duration": 114,
    "start_time": "2022-02-02T12:14:27.280Z"
   },
   {
    "duration": 144,
    "start_time": "2022-02-02T12:14:27.396Z"
   },
   {
    "duration": 24,
    "start_time": "2022-02-02T12:14:27.542Z"
   },
   {
    "duration": 10,
    "start_time": "2022-02-02T12:14:27.567Z"
   },
   {
    "duration": 50,
    "start_time": "2022-02-02T12:14:27.579Z"
   },
   {
    "duration": 33,
    "start_time": "2022-02-02T12:14:27.631Z"
   },
   {
    "duration": 33,
    "start_time": "2022-02-02T12:14:27.666Z"
   },
   {
    "duration": 3,
    "start_time": "2022-02-02T12:14:27.701Z"
   },
   {
    "duration": 24,
    "start_time": "2022-02-02T12:14:27.706Z"
   },
   {
    "duration": 62,
    "start_time": "2022-02-02T12:14:27.732Z"
   },
   {
    "duration": 56,
    "start_time": "2022-02-02T12:14:27.796Z"
   },
   {
    "duration": 25,
    "start_time": "2022-02-02T12:14:27.855Z"
   },
   {
    "duration": 31,
    "start_time": "2022-02-02T12:14:27.882Z"
   },
   {
    "duration": 20,
    "start_time": "2022-02-02T12:14:27.915Z"
   },
   {
    "duration": 442,
    "start_time": "2022-02-02T12:14:27.937Z"
   },
   {
    "duration": 813,
    "start_time": "2022-02-02T12:14:27.567Z"
   },
   {
    "duration": 810,
    "start_time": "2022-02-02T12:14:27.571Z"
   },
   {
    "duration": 808,
    "start_time": "2022-02-02T12:14:27.574Z"
   },
   {
    "duration": 804,
    "start_time": "2022-02-02T12:14:27.579Z"
   },
   {
    "duration": 802,
    "start_time": "2022-02-02T12:14:27.582Z"
   },
   {
    "duration": 800,
    "start_time": "2022-02-02T12:14:27.585Z"
   },
   {
    "duration": 797,
    "start_time": "2022-02-02T12:14:27.588Z"
   },
   {
    "duration": 795,
    "start_time": "2022-02-02T12:14:27.591Z"
   },
   {
    "duration": 793,
    "start_time": "2022-02-02T12:14:27.594Z"
   },
   {
    "duration": 791,
    "start_time": "2022-02-02T12:14:27.597Z"
   },
   {
    "duration": 789,
    "start_time": "2022-02-02T12:14:27.600Z"
   },
   {
    "duration": 787,
    "start_time": "2022-02-02T12:14:27.603Z"
   },
   {
    "duration": 786,
    "start_time": "2022-02-02T12:14:27.605Z"
   },
   {
    "duration": 784,
    "start_time": "2022-02-02T12:14:27.608Z"
   },
   {
    "duration": 780,
    "start_time": "2022-02-02T12:14:27.612Z"
   },
   {
    "duration": 778,
    "start_time": "2022-02-02T12:14:27.615Z"
   },
   {
    "duration": 776,
    "start_time": "2022-02-02T12:14:27.618Z"
   },
   {
    "duration": 774,
    "start_time": "2022-02-02T12:14:27.621Z"
   },
   {
    "duration": 773,
    "start_time": "2022-02-02T12:14:27.623Z"
   },
   {
    "duration": 770,
    "start_time": "2022-02-02T12:14:27.627Z"
   },
   {
    "duration": 769,
    "start_time": "2022-02-02T12:14:27.630Z"
   },
   {
    "duration": 26,
    "start_time": "2022-02-02T12:14:52.370Z"
   },
   {
    "duration": 6,
    "start_time": "2022-02-02T12:17:36.666Z"
   },
   {
    "duration": 4,
    "start_time": "2022-02-02T12:17:42.501Z"
   },
   {
    "duration": 6,
    "start_time": "2022-02-02T12:17:42.507Z"
   },
   {
    "duration": 3,
    "start_time": "2022-02-02T12:17:42.515Z"
   },
   {
    "duration": 4,
    "start_time": "2022-02-02T12:17:42.520Z"
   },
   {
    "duration": 15,
    "start_time": "2022-02-02T12:17:42.525Z"
   },
   {
    "duration": 13,
    "start_time": "2022-02-02T12:17:42.542Z"
   },
   {
    "duration": 1034,
    "start_time": "2022-02-02T12:17:42.557Z"
   },
   {
    "duration": 56,
    "start_time": "2022-02-02T12:17:43.592Z"
   },
   {
    "duration": 168,
    "start_time": "2022-02-02T12:17:43.652Z"
   },
   {
    "duration": 30,
    "start_time": "2022-02-02T12:17:43.822Z"
   },
   {
    "duration": 7,
    "start_time": "2022-02-02T12:17:43.854Z"
   },
   {
    "duration": 109,
    "start_time": "2022-02-02T12:17:43.863Z"
   },
   {
    "duration": 140,
    "start_time": "2022-02-02T12:17:43.974Z"
   },
   {
    "duration": 29,
    "start_time": "2022-02-02T12:17:44.116Z"
   },
   {
    "duration": 7,
    "start_time": "2022-02-02T12:17:44.147Z"
   },
   {
    "duration": 74,
    "start_time": "2022-02-02T12:17:44.156Z"
   },
   {
    "duration": 33,
    "start_time": "2022-02-02T12:17:44.232Z"
   },
   {
    "duration": 34,
    "start_time": "2022-02-02T12:17:44.266Z"
   },
   {
    "duration": 4,
    "start_time": "2022-02-02T12:17:44.301Z"
   },
   {
    "duration": 33,
    "start_time": "2022-02-02T12:17:44.306Z"
   },
   {
    "duration": 46,
    "start_time": "2022-02-02T12:17:44.341Z"
   },
   {
    "duration": 54,
    "start_time": "2022-02-02T12:17:44.389Z"
   },
   {
    "duration": 27,
    "start_time": "2022-02-02T12:17:44.445Z"
   },
   {
    "duration": 32,
    "start_time": "2022-02-02T12:17:44.473Z"
   },
   {
    "duration": 26,
    "start_time": "2022-02-02T12:17:44.506Z"
   },
   {
    "duration": 29,
    "start_time": "2022-02-02T12:17:44.533Z"
   },
   {
    "duration": 6,
    "start_time": "2022-02-02T12:17:44.566Z"
   },
   {
    "duration": 3,
    "start_time": "2022-02-02T12:17:44.574Z"
   },
   {
    "duration": 12,
    "start_time": "2022-02-02T12:17:44.579Z"
   },
   {
    "duration": 10200,
    "start_time": "2022-02-02T12:17:44.592Z"
   },
   {
    "duration": 749,
    "start_time": "2022-02-02T12:17:54.045Z"
   },
   {
    "duration": 747,
    "start_time": "2022-02-02T12:17:54.048Z"
   },
   {
    "duration": 743,
    "start_time": "2022-02-02T12:17:54.054Z"
   },
   {
    "duration": 741,
    "start_time": "2022-02-02T12:17:54.057Z"
   },
   {
    "duration": 738,
    "start_time": "2022-02-02T12:17:54.061Z"
   },
   {
    "duration": 734,
    "start_time": "2022-02-02T12:17:54.066Z"
   },
   {
    "duration": 730,
    "start_time": "2022-02-02T12:17:54.071Z"
   },
   {
    "duration": 729,
    "start_time": "2022-02-02T12:17:54.073Z"
   },
   {
    "duration": 725,
    "start_time": "2022-02-02T12:17:54.078Z"
   },
   {
    "duration": 724,
    "start_time": "2022-02-02T12:17:54.080Z"
   },
   {
    "duration": 722,
    "start_time": "2022-02-02T12:17:54.084Z"
   },
   {
    "duration": 720,
    "start_time": "2022-02-02T12:17:54.087Z"
   },
   {
    "duration": 718,
    "start_time": "2022-02-02T12:17:54.090Z"
   },
   {
    "duration": 715,
    "start_time": "2022-02-02T12:17:54.094Z"
   },
   {
    "duration": 713,
    "start_time": "2022-02-02T12:17:54.097Z"
   },
   {
    "duration": 711,
    "start_time": "2022-02-02T12:17:54.100Z"
   },
   {
    "duration": 709,
    "start_time": "2022-02-02T12:17:54.103Z"
   },
   {
    "duration": 373,
    "start_time": "2022-02-02T12:18:02.394Z"
   },
   {
    "duration": 38,
    "start_time": "2022-02-02T12:18:09.033Z"
   },
   {
    "duration": 975,
    "start_time": "2022-02-02T12:20:18.423Z"
   },
   {
    "duration": 54,
    "start_time": "2022-02-02T12:21:15.978Z"
   },
   {
    "duration": 379,
    "start_time": "2022-02-02T12:21:24.235Z"
   },
   {
    "duration": 371,
    "start_time": "2022-02-02T12:21:33.099Z"
   },
   {
    "duration": 8403,
    "start_time": "2022-02-02T12:24:18.102Z"
   },
   {
    "duration": 8499,
    "start_time": "2022-02-02T12:24:37.051Z"
   },
   {
    "duration": 9039,
    "start_time": "2022-02-02T12:24:49.923Z"
   },
   {
    "duration": 115,
    "start_time": "2022-02-02T12:25:25.398Z"
   },
   {
    "duration": 170,
    "start_time": "2022-02-02T12:25:30.508Z"
   },
   {
    "duration": 66,
    "start_time": "2022-02-02T12:25:56.244Z"
   },
   {
    "duration": 63,
    "start_time": "2022-02-02T12:26:01.500Z"
   },
   {
    "duration": 118,
    "start_time": "2022-02-02T12:26:33.283Z"
   },
   {
    "duration": 5,
    "start_time": "2022-02-02T12:26:37.347Z"
   },
   {
    "duration": 5,
    "start_time": "2022-02-02T12:30:15.324Z"
   },
   {
    "duration": 6,
    "start_time": "2022-02-02T12:30:22.596Z"
   },
   {
    "duration": 326,
    "start_time": "2022-02-02T12:30:31.932Z"
   },
   {
    "duration": 486,
    "start_time": "2022-02-02T12:30:54.645Z"
   },
   {
    "duration": 182,
    "start_time": "2022-02-02T12:31:08.028Z"
   },
   {
    "duration": 171,
    "start_time": "2022-02-02T12:32:18.618Z"
   },
   {
    "duration": 191,
    "start_time": "2022-02-02T12:32:54.879Z"
   },
   {
    "duration": 204,
    "start_time": "2022-02-02T12:33:04.100Z"
   },
   {
    "duration": 68,
    "start_time": "2022-02-03T03:33:32.392Z"
   },
   {
    "duration": 163,
    "start_time": "2022-02-03T03:33:58.779Z"
   },
   {
    "duration": 114,
    "start_time": "2022-02-03T03:34:03.179Z"
   },
   {
    "duration": 57,
    "start_time": "2022-02-03T03:34:07.043Z"
   },
   {
    "duration": 5,
    "start_time": "2022-02-03T03:34:26.781Z"
   },
   {
    "duration": 3,
    "start_time": "2022-02-03T03:34:35.980Z"
   },
   {
    "duration": 3,
    "start_time": "2022-02-03T03:34:38.147Z"
   },
   {
    "duration": 5,
    "start_time": "2022-02-03T03:34:42.764Z"
   },
   {
    "duration": 5,
    "start_time": "2022-02-03T03:34:57.196Z"
   },
   {
    "duration": 1106,
    "start_time": "2022-02-03T03:35:10.076Z"
   },
   {
    "duration": 5,
    "start_time": "2022-02-03T03:35:17.667Z"
   },
   {
    "duration": 4,
    "start_time": "2022-02-03T03:35:26.654Z"
   },
   {
    "duration": 4,
    "start_time": "2022-02-03T03:35:34.621Z"
   },
   {
    "duration": 5,
    "start_time": "2022-02-03T03:35:50.740Z"
   },
   {
    "duration": 1031,
    "start_time": "2022-02-03T03:37:38.377Z"
   },
   {
    "duration": 63,
    "start_time": "2022-02-03T03:37:39.410Z"
   },
   {
    "duration": 3,
    "start_time": "2022-02-03T03:37:39.475Z"
   },
   {
    "duration": 172,
    "start_time": "2022-02-03T03:37:39.480Z"
   },
   {
    "duration": 24,
    "start_time": "2022-02-03T03:37:39.653Z"
   },
   {
    "duration": 6,
    "start_time": "2022-02-03T03:37:39.679Z"
   },
   {
    "duration": 108,
    "start_time": "2022-02-03T03:37:39.686Z"
   },
   {
    "duration": 138,
    "start_time": "2022-02-03T03:37:39.796Z"
   },
   {
    "duration": 29,
    "start_time": "2022-02-03T03:37:39.936Z"
   },
   {
    "duration": 6,
    "start_time": "2022-02-03T03:37:39.966Z"
   },
   {
    "duration": 42,
    "start_time": "2022-02-03T03:37:39.973Z"
   },
   {
    "duration": 37,
    "start_time": "2022-02-03T03:37:40.017Z"
   },
   {
    "duration": 35,
    "start_time": "2022-02-03T03:37:40.055Z"
   },
   {
    "duration": 5,
    "start_time": "2022-02-03T03:37:40.092Z"
   },
   {
    "duration": 31,
    "start_time": "2022-02-03T03:37:40.098Z"
   },
   {
    "duration": 48,
    "start_time": "2022-02-03T03:37:40.131Z"
   },
   {
    "duration": 47,
    "start_time": "2022-02-03T03:37:40.181Z"
   },
   {
    "duration": 30,
    "start_time": "2022-02-03T03:37:40.230Z"
   },
   {
    "duration": 31,
    "start_time": "2022-02-03T03:37:40.262Z"
   },
   {
    "duration": 6,
    "start_time": "2022-02-03T03:37:40.295Z"
   },
   {
    "duration": 473,
    "start_time": "2022-02-03T03:37:40.302Z"
   },
   {
    "duration": 1093,
    "start_time": "2022-02-03T03:37:39.684Z"
   },
   {
    "duration": 1088,
    "start_time": "2022-02-03T03:37:39.690Z"
   },
   {
    "duration": 1086,
    "start_time": "2022-02-03T03:37:39.693Z"
   },
   {
    "duration": 1082,
    "start_time": "2022-02-03T03:37:39.697Z"
   },
   {
    "duration": 1078,
    "start_time": "2022-02-03T03:37:39.702Z"
   },
   {
    "duration": 1069,
    "start_time": "2022-02-03T03:37:39.712Z"
   },
   {
    "duration": 1067,
    "start_time": "2022-02-03T03:37:39.715Z"
   },
   {
    "duration": 1063,
    "start_time": "2022-02-03T03:37:39.720Z"
   },
   {
    "duration": 1061,
    "start_time": "2022-02-03T03:37:39.723Z"
   },
   {
    "duration": 1057,
    "start_time": "2022-02-03T03:37:39.728Z"
   },
   {
    "duration": 1056,
    "start_time": "2022-02-03T03:37:39.730Z"
   },
   {
    "duration": 1052,
    "start_time": "2022-02-03T03:37:39.734Z"
   },
   {
    "duration": 1050,
    "start_time": "2022-02-03T03:37:39.737Z"
   },
   {
    "duration": 1048,
    "start_time": "2022-02-03T03:37:39.740Z"
   },
   {
    "duration": 1046,
    "start_time": "2022-02-03T03:37:39.743Z"
   },
   {
    "duration": 1044,
    "start_time": "2022-02-03T03:37:39.746Z"
   },
   {
    "duration": 1042,
    "start_time": "2022-02-03T03:37:39.749Z"
   },
   {
    "duration": 1039,
    "start_time": "2022-02-03T03:37:39.753Z"
   },
   {
    "duration": 1037,
    "start_time": "2022-02-03T03:37:39.756Z"
   },
   {
    "duration": 1034,
    "start_time": "2022-02-03T03:37:39.759Z"
   },
   {
    "duration": 1032,
    "start_time": "2022-02-03T03:37:39.762Z"
   },
   {
    "duration": 1056,
    "start_time": "2022-02-03T03:37:53.676Z"
   },
   {
    "duration": 51,
    "start_time": "2022-02-03T03:37:55.844Z"
   },
   {
    "duration": 5,
    "start_time": "2022-02-03T03:37:57.666Z"
   },
   {
    "duration": 175,
    "start_time": "2022-02-03T03:37:59.026Z"
   },
   {
    "duration": 32,
    "start_time": "2022-02-03T03:38:00.843Z"
   },
   {
    "duration": 7,
    "start_time": "2022-02-03T03:38:03.955Z"
   },
   {
    "duration": 8,
    "start_time": "2022-02-03T03:38:10.058Z"
   },
   {
    "duration": 18,
    "start_time": "2022-02-03T03:38:39.571Z"
   },
   {
    "duration": 362,
    "start_time": "2022-02-03T03:38:48.706Z"
   },
   {
    "duration": 347,
    "start_time": "2022-02-03T03:38:51.443Z"
   },
   {
    "duration": 1088,
    "start_time": "2022-02-03T03:38:54.803Z"
   },
   {
    "duration": 57,
    "start_time": "2022-02-03T03:38:56.115Z"
   },
   {
    "duration": 6,
    "start_time": "2022-02-03T03:38:57.747Z"
   },
   {
    "duration": 171,
    "start_time": "2022-02-03T03:38:59.707Z"
   },
   {
    "duration": 165,
    "start_time": "2022-02-03T03:39:11.564Z"
   },
   {
    "duration": 11,
    "start_time": "2022-02-03T03:39:34.531Z"
   },
   {
    "duration": 22,
    "start_time": "2022-02-03T03:39:41.860Z"
   },
   {
    "duration": 8,
    "start_time": "2022-02-03T03:39:44.324Z"
   },
   {
    "duration": 1141,
    "start_time": "2022-02-03T03:40:23.444Z"
   },
   {
    "duration": 50,
    "start_time": "2022-02-03T03:40:24.587Z"
   },
   {
    "duration": 4,
    "start_time": "2022-02-03T03:40:26.668Z"
   },
   {
    "duration": 161,
    "start_time": "2022-02-03T03:40:28.364Z"
   },
   {
    "duration": 24,
    "start_time": "2022-02-03T03:40:29.844Z"
   },
   {
    "duration": 96,
    "start_time": "2022-02-03T03:40:33.349Z"
   },
   {
    "duration": 137,
    "start_time": "2022-02-03T03:40:38.324Z"
   },
   {
    "duration": 9,
    "start_time": "2022-02-03T03:40:46.908Z"
   },
   {
    "duration": 19,
    "start_time": "2022-02-03T03:41:57.731Z"
   },
   {
    "duration": 8,
    "start_time": "2022-02-03T03:42:03.453Z"
   },
   {
    "duration": 429,
    "start_time": "2022-02-03T03:44:36.926Z"
   },
   {
    "duration": 1021,
    "start_time": "2022-02-03T03:44:48.963Z"
   },
   {
    "duration": 50,
    "start_time": "2022-02-03T03:44:49.985Z"
   },
   {
    "duration": 3,
    "start_time": "2022-02-03T03:44:50.037Z"
   },
   {
    "duration": 169,
    "start_time": "2022-02-03T03:44:50.042Z"
   },
   {
    "duration": 4,
    "start_time": "2022-02-03T03:44:50.212Z"
   },
   {
    "duration": 10,
    "start_time": "2022-02-03T03:44:50.217Z"
   },
   {
    "duration": 100,
    "start_time": "2022-02-03T03:44:50.229Z"
   },
   {
    "duration": 151,
    "start_time": "2022-02-03T03:44:50.332Z"
   },
   {
    "duration": 23,
    "start_time": "2022-02-03T03:44:50.485Z"
   },
   {
    "duration": 7,
    "start_time": "2022-02-03T03:44:50.510Z"
   },
   {
    "duration": 57,
    "start_time": "2022-02-03T03:44:50.519Z"
   },
   {
    "duration": 26,
    "start_time": "2022-02-03T03:44:50.578Z"
   },
   {
    "duration": 51,
    "start_time": "2022-02-03T03:44:50.605Z"
   },
   {
    "duration": 5,
    "start_time": "2022-02-03T03:44:50.657Z"
   },
   {
    "duration": 8,
    "start_time": "2022-02-03T03:44:50.664Z"
   },
   {
    "duration": 62,
    "start_time": "2022-02-03T03:44:50.673Z"
   },
   {
    "duration": 31,
    "start_time": "2022-02-03T03:44:50.737Z"
   },
   {
    "duration": 26,
    "start_time": "2022-02-03T03:44:50.770Z"
   },
   {
    "duration": 57,
    "start_time": "2022-02-03T03:44:50.797Z"
   },
   {
    "duration": 7,
    "start_time": "2022-02-03T03:44:50.856Z"
   },
   {
    "duration": 446,
    "start_time": "2022-02-03T03:44:50.865Z"
   },
   {
    "duration": 1099,
    "start_time": "2022-02-03T03:44:50.215Z"
   },
   {
    "duration": 1072,
    "start_time": "2022-02-03T03:44:50.243Z"
   },
   {
    "duration": 1060,
    "start_time": "2022-02-03T03:44:50.257Z"
   },
   {
    "duration": 1052,
    "start_time": "2022-02-03T03:44:50.266Z"
   },
   {
    "duration": 1047,
    "start_time": "2022-02-03T03:44:50.272Z"
   },
   {
    "duration": 1038,
    "start_time": "2022-02-03T03:44:50.282Z"
   },
   {
    "duration": 1034,
    "start_time": "2022-02-03T03:44:50.288Z"
   },
   {
    "duration": 1031,
    "start_time": "2022-02-03T03:44:50.292Z"
   },
   {
    "duration": 1027,
    "start_time": "2022-02-03T03:44:50.297Z"
   },
   {
    "duration": 1024,
    "start_time": "2022-02-03T03:44:50.301Z"
   },
   {
    "duration": 1021,
    "start_time": "2022-02-03T03:44:50.305Z"
   },
   {
    "duration": 1018,
    "start_time": "2022-02-03T03:44:50.310Z"
   },
   {
    "duration": 1015,
    "start_time": "2022-02-03T03:44:50.314Z"
   },
   {
    "duration": 1012,
    "start_time": "2022-02-03T03:44:50.318Z"
   },
   {
    "duration": 1011,
    "start_time": "2022-02-03T03:44:50.321Z"
   },
   {
    "duration": 1008,
    "start_time": "2022-02-03T03:44:50.325Z"
   },
   {
    "duration": 1006,
    "start_time": "2022-02-03T03:44:50.328Z"
   },
   {
    "duration": 1001,
    "start_time": "2022-02-03T03:44:50.333Z"
   },
   {
    "duration": 1000,
    "start_time": "2022-02-03T03:44:50.336Z"
   },
   {
    "duration": 996,
    "start_time": "2022-02-03T03:44:50.340Z"
   },
   {
    "duration": 994,
    "start_time": "2022-02-03T03:44:50.343Z"
   },
   {
    "duration": 16,
    "start_time": "2022-02-03T03:45:17.748Z"
   },
   {
    "duration": 70,
    "start_time": "2022-02-03T03:48:15.501Z"
   },
   {
    "duration": 8,
    "start_time": "2022-02-03T03:48:18.171Z"
   },
   {
    "duration": 1042,
    "start_time": "2022-02-03T03:48:24.590Z"
   },
   {
    "duration": 51,
    "start_time": "2022-02-03T03:48:25.634Z"
   },
   {
    "duration": 4,
    "start_time": "2022-02-03T03:48:25.687Z"
   },
   {
    "duration": 169,
    "start_time": "2022-02-03T03:48:25.693Z"
   },
   {
    "duration": 4,
    "start_time": "2022-02-03T03:48:25.863Z"
   },
   {
    "duration": 8,
    "start_time": "2022-02-03T03:48:25.868Z"
   },
   {
    "duration": 105,
    "start_time": "2022-02-03T03:48:25.877Z"
   },
   {
    "duration": 141,
    "start_time": "2022-02-03T03:48:25.984Z"
   },
   {
    "duration": 27,
    "start_time": "2022-02-03T03:48:26.128Z"
   },
   {
    "duration": 6,
    "start_time": "2022-02-03T03:48:26.156Z"
   },
   {
    "duration": 49,
    "start_time": "2022-02-03T03:48:26.163Z"
   },
   {
    "duration": 26,
    "start_time": "2022-02-03T03:48:26.213Z"
   },
   {
    "duration": 40,
    "start_time": "2022-02-03T03:48:26.240Z"
   },
   {
    "duration": 4,
    "start_time": "2022-02-03T03:48:26.281Z"
   },
   {
    "duration": 75,
    "start_time": "2022-02-03T03:48:26.286Z"
   },
   {
    "duration": 7,
    "start_time": "2022-02-03T03:48:26.363Z"
   },
   {
    "duration": 56,
    "start_time": "2022-02-03T03:48:26.371Z"
   },
   {
    "duration": 30,
    "start_time": "2022-02-03T03:48:26.429Z"
   },
   {
    "duration": 27,
    "start_time": "2022-02-03T03:48:26.461Z"
   },
   {
    "duration": 54,
    "start_time": "2022-02-03T03:48:26.489Z"
   },
   {
    "duration": 6,
    "start_time": "2022-02-03T03:48:26.545Z"
   },
   {
    "duration": 448,
    "start_time": "2022-02-03T03:48:26.552Z"
   },
   {
    "duration": 1107,
    "start_time": "2022-02-03T03:48:25.895Z"
   },
   {
    "duration": 1096,
    "start_time": "2022-02-03T03:48:25.907Z"
   },
   {
    "duration": 1092,
    "start_time": "2022-02-03T03:48:25.912Z"
   },
   {
    "duration": 1083,
    "start_time": "2022-02-03T03:48:25.922Z"
   },
   {
    "duration": 1081,
    "start_time": "2022-02-03T03:48:25.925Z"
   },
   {
    "duration": 1069,
    "start_time": "2022-02-03T03:48:25.937Z"
   },
   {
    "duration": 1067,
    "start_time": "2022-02-03T03:48:25.940Z"
   },
   {
    "duration": 1062,
    "start_time": "2022-02-03T03:48:25.946Z"
   },
   {
    "duration": 1056,
    "start_time": "2022-02-03T03:48:25.953Z"
   },
   {
    "duration": 1054,
    "start_time": "2022-02-03T03:48:25.956Z"
   },
   {
    "duration": 1052,
    "start_time": "2022-02-03T03:48:25.959Z"
   },
   {
    "duration": 1044,
    "start_time": "2022-02-03T03:48:25.968Z"
   },
   {
    "duration": 1042,
    "start_time": "2022-02-03T03:48:25.971Z"
   },
   {
    "duration": 1039,
    "start_time": "2022-02-03T03:48:25.975Z"
   },
   {
    "duration": 1037,
    "start_time": "2022-02-03T03:48:25.978Z"
   },
   {
    "duration": 1029,
    "start_time": "2022-02-03T03:48:25.986Z"
   },
   {
    "duration": 1027,
    "start_time": "2022-02-03T03:48:25.989Z"
   },
   {
    "duration": 1022,
    "start_time": "2022-02-03T03:48:25.995Z"
   },
   {
    "duration": 1016,
    "start_time": "2022-02-03T03:48:26.002Z"
   },
   {
    "duration": 1014,
    "start_time": "2022-02-03T03:48:26.005Z"
   },
   {
    "duration": 1012,
    "start_time": "2022-02-03T03:48:26.008Z"
   },
   {
    "duration": 7,
    "start_time": "2022-02-03T03:48:39.514Z"
   },
   {
    "duration": 325,
    "start_time": "2022-02-03T03:48:49.939Z"
   },
   {
    "duration": 1259,
    "start_time": "2022-02-03T03:48:58.898Z"
   },
   {
    "duration": 101,
    "start_time": "2022-02-03T03:50:37.445Z"
   },
   {
    "duration": 6,
    "start_time": "2022-02-03T03:50:42.971Z"
   },
   {
    "duration": 7,
    "start_time": "2022-02-03T03:50:48.797Z"
   },
   {
    "duration": 1088,
    "start_time": "2022-02-03T03:50:54.795Z"
   },
   {
    "duration": 71,
    "start_time": "2022-02-03T03:50:55.885Z"
   },
   {
    "duration": 3,
    "start_time": "2022-02-03T03:50:55.958Z"
   },
   {
    "duration": 160,
    "start_time": "2022-02-03T03:50:55.963Z"
   },
   {
    "duration": 3,
    "start_time": "2022-02-03T03:50:56.125Z"
   },
   {
    "duration": 9,
    "start_time": "2022-02-03T03:50:56.130Z"
   },
   {
    "duration": 7,
    "start_time": "2022-02-03T03:50:56.140Z"
   },
   {
    "duration": 110,
    "start_time": "2022-02-03T03:50:56.149Z"
   },
   {
    "duration": 139,
    "start_time": "2022-02-03T03:50:56.260Z"
   },
   {
    "duration": 23,
    "start_time": "2022-02-03T03:50:56.400Z"
   },
   {
    "duration": 8,
    "start_time": "2022-02-03T03:50:56.424Z"
   },
   {
    "duration": 47,
    "start_time": "2022-02-03T03:50:56.433Z"
   },
   {
    "duration": 25,
    "start_time": "2022-02-03T03:50:56.482Z"
   },
   {
    "duration": 50,
    "start_time": "2022-02-03T03:50:56.509Z"
   },
   {
    "duration": 4,
    "start_time": "2022-02-03T03:50:56.561Z"
   },
   {
    "duration": 440,
    "start_time": "2022-02-03T03:50:56.566Z"
   },
   {
    "duration": 1061,
    "start_time": "2022-02-03T03:50:55.948Z"
   },
   {
    "duration": 1060,
    "start_time": "2022-02-03T03:50:55.951Z"
   },
   {
    "duration": 1058,
    "start_time": "2022-02-03T03:50:55.954Z"
   },
   {
    "duration": 1056,
    "start_time": "2022-02-03T03:50:55.957Z"
   },
   {
    "duration": 1052,
    "start_time": "2022-02-03T03:50:55.962Z"
   },
   {
    "duration": 1051,
    "start_time": "2022-02-03T03:50:55.965Z"
   },
   {
    "duration": 1049,
    "start_time": "2022-02-03T03:50:55.968Z"
   },
   {
    "duration": 1048,
    "start_time": "2022-02-03T03:50:55.971Z"
   },
   {
    "duration": 1046,
    "start_time": "2022-02-03T03:50:55.974Z"
   },
   {
    "duration": 1044,
    "start_time": "2022-02-03T03:50:55.977Z"
   },
   {
    "duration": 1043,
    "start_time": "2022-02-03T03:50:55.980Z"
   },
   {
    "duration": 1041,
    "start_time": "2022-02-03T03:50:55.983Z"
   },
   {
    "duration": 1039,
    "start_time": "2022-02-03T03:50:55.986Z"
   },
   {
    "duration": 1037,
    "start_time": "2022-02-03T03:50:55.989Z"
   },
   {
    "duration": 1037,
    "start_time": "2022-02-03T03:50:55.991Z"
   },
   {
    "duration": 1034,
    "start_time": "2022-02-03T03:50:55.995Z"
   },
   {
    "duration": 1032,
    "start_time": "2022-02-03T03:50:55.998Z"
   },
   {
    "duration": 1030,
    "start_time": "2022-02-03T03:50:56.001Z"
   },
   {
    "duration": 1029,
    "start_time": "2022-02-03T03:50:56.004Z"
   },
   {
    "duration": 1027,
    "start_time": "2022-02-03T03:50:56.007Z"
   },
   {
    "duration": 1025,
    "start_time": "2022-02-03T03:50:56.010Z"
   },
   {
    "duration": 1023,
    "start_time": "2022-02-03T03:50:56.013Z"
   },
   {
    "duration": 1021,
    "start_time": "2022-02-03T03:50:56.016Z"
   },
   {
    "duration": 1020,
    "start_time": "2022-02-03T03:50:56.019Z"
   },
   {
    "duration": 1018,
    "start_time": "2022-02-03T03:50:56.022Z"
   },
   {
    "duration": 1016,
    "start_time": "2022-02-03T03:50:56.025Z"
   },
   {
    "duration": 1012,
    "start_time": "2022-02-03T03:50:56.030Z"
   },
   {
    "duration": 1002,
    "start_time": "2022-02-03T03:50:56.042Z"
   },
   {
    "duration": 1310,
    "start_time": "2022-02-03T03:51:17.709Z"
   },
   {
    "duration": 76,
    "start_time": "2022-02-03T03:51:19.028Z"
   },
   {
    "duration": 82,
    "start_time": "2022-02-03T03:51:19.106Z"
   },
   {
    "duration": 434,
    "start_time": "2022-02-03T03:51:19.190Z"
   },
   {
    "duration": 5,
    "start_time": "2022-02-03T03:51:19.626Z"
   },
   {
    "duration": 5,
    "start_time": "2022-02-03T03:51:19.633Z"
   },
   {
    "duration": 7,
    "start_time": "2022-02-03T03:51:19.640Z"
   },
   {
    "duration": 110,
    "start_time": "2022-02-03T03:51:19.649Z"
   },
   {
    "duration": 140,
    "start_time": "2022-02-03T03:51:19.761Z"
   },
   {
    "duration": 22,
    "start_time": "2022-02-03T03:51:19.903Z"
   },
   {
    "duration": 7,
    "start_time": "2022-02-03T03:51:19.927Z"
   },
   {
    "duration": 47,
    "start_time": "2022-02-03T03:51:19.936Z"
   },
   {
    "duration": 43,
    "start_time": "2022-02-03T03:51:19.984Z"
   },
   {
    "duration": 36,
    "start_time": "2022-02-03T03:51:20.029Z"
   },
   {
    "duration": 5,
    "start_time": "2022-02-03T03:51:20.066Z"
   },
   {
    "duration": 394,
    "start_time": "2022-02-03T03:51:20.072Z"
   },
   {
    "duration": 1075,
    "start_time": "2022-02-03T03:51:19.393Z"
   },
   {
    "duration": 1066,
    "start_time": "2022-02-03T03:51:19.403Z"
   },
   {
    "duration": 1059,
    "start_time": "2022-02-03T03:51:19.411Z"
   },
   {
    "duration": 1055,
    "start_time": "2022-02-03T03:51:19.415Z"
   },
   {
    "duration": 1051,
    "start_time": "2022-02-03T03:51:19.420Z"
   },
   {
    "duration": 1046,
    "start_time": "2022-02-03T03:51:19.426Z"
   },
   {
    "duration": 1033,
    "start_time": "2022-02-03T03:51:19.439Z"
   },
   {
    "duration": 1030,
    "start_time": "2022-02-03T03:51:19.443Z"
   },
   {
    "duration": 1029,
    "start_time": "2022-02-03T03:51:19.445Z"
   },
   {
    "duration": 1027,
    "start_time": "2022-02-03T03:51:19.448Z"
   },
   {
    "duration": 1024,
    "start_time": "2022-02-03T03:51:19.452Z"
   },
   {
    "duration": 1021,
    "start_time": "2022-02-03T03:51:19.455Z"
   },
   {
    "duration": 1019,
    "start_time": "2022-02-03T03:51:19.458Z"
   },
   {
    "duration": 1018,
    "start_time": "2022-02-03T03:51:19.460Z"
   },
   {
    "duration": 1015,
    "start_time": "2022-02-03T03:51:19.463Z"
   },
   {
    "duration": 1013,
    "start_time": "2022-02-03T03:51:19.466Z"
   },
   {
    "duration": 1010,
    "start_time": "2022-02-03T03:51:19.470Z"
   },
   {
    "duration": 1009,
    "start_time": "2022-02-03T03:51:19.472Z"
   },
   {
    "duration": 1006,
    "start_time": "2022-02-03T03:51:19.475Z"
   },
   {
    "duration": 1004,
    "start_time": "2022-02-03T03:51:19.478Z"
   },
   {
    "duration": 1002,
    "start_time": "2022-02-03T03:51:19.481Z"
   },
   {
    "duration": 1000,
    "start_time": "2022-02-03T03:51:19.484Z"
   },
   {
    "duration": 997,
    "start_time": "2022-02-03T03:51:19.487Z"
   },
   {
    "duration": 996,
    "start_time": "2022-02-03T03:51:19.489Z"
   },
   {
    "duration": 994,
    "start_time": "2022-02-03T03:51:19.492Z"
   },
   {
    "duration": 992,
    "start_time": "2022-02-03T03:51:19.495Z"
   },
   {
    "duration": 989,
    "start_time": "2022-02-03T03:51:19.498Z"
   },
   {
    "duration": 987,
    "start_time": "2022-02-03T03:51:19.501Z"
   },
   {
    "duration": 4,
    "start_time": "2022-02-03T03:51:38.030Z"
   },
   {
    "duration": 373,
    "start_time": "2022-02-03T03:51:46.039Z"
   },
   {
    "duration": 1333,
    "start_time": "2022-02-03T03:51:49.231Z"
   },
   {
    "duration": 245,
    "start_time": "2022-02-03T03:51:51.399Z"
   },
   {
    "duration": 6,
    "start_time": "2022-02-03T03:51:53.439Z"
   },
   {
    "duration": 5,
    "start_time": "2022-02-03T03:52:15.119Z"
   },
   {
    "duration": 4,
    "start_time": "2022-02-03T03:52:16.415Z"
   },
   {
    "duration": 4,
    "start_time": "2022-02-03T03:52:19.744Z"
   },
   {
    "duration": 21,
    "start_time": "2022-02-03T03:52:38.215Z"
   },
   {
    "duration": 8,
    "start_time": "2022-02-03T03:52:52.125Z"
   },
   {
    "duration": 5,
    "start_time": "2022-02-03T03:52:58.567Z"
   },
   {
    "duration": 5,
    "start_time": "2022-02-03T03:53:19.704Z"
   },
   {
    "duration": 5,
    "start_time": "2022-02-03T03:53:26.751Z"
   },
   {
    "duration": 1103,
    "start_time": "2022-02-03T11:42:55.896Z"
   },
   {
    "duration": 44,
    "start_time": "2022-02-03T11:42:57.001Z"
   },
   {
    "duration": 6,
    "start_time": "2022-02-03T11:42:57.048Z"
   },
   {
    "duration": 158,
    "start_time": "2022-02-03T11:42:57.056Z"
   },
   {
    "duration": 12,
    "start_time": "2022-02-03T11:42:57.216Z"
   },
   {
    "duration": 4,
    "start_time": "2022-02-03T11:42:57.229Z"
   },
   {
    "duration": 6,
    "start_time": "2022-02-03T11:42:57.234Z"
   },
   {
    "duration": 7,
    "start_time": "2022-02-03T11:42:57.242Z"
   },
   {
    "duration": 105,
    "start_time": "2022-02-03T11:42:57.250Z"
   },
   {
    "duration": 134,
    "start_time": "2022-02-03T11:42:57.357Z"
   },
   {
    "duration": 24,
    "start_time": "2022-02-03T11:42:57.492Z"
   },
   {
    "duration": 7,
    "start_time": "2022-02-03T11:42:57.517Z"
   },
   {
    "duration": 45,
    "start_time": "2022-02-03T11:42:57.526Z"
   },
   {
    "duration": 26,
    "start_time": "2022-02-03T11:42:57.573Z"
   },
   {
    "duration": 48,
    "start_time": "2022-02-03T11:42:57.600Z"
   },
   {
    "duration": 4,
    "start_time": "2022-02-03T11:42:57.649Z"
   },
   {
    "duration": 423,
    "start_time": "2022-02-03T11:42:57.654Z"
   },
   {
    "duration": -35,
    "start_time": "2022-02-03T11:42:58.114Z"
   },
   {
    "duration": -38,
    "start_time": "2022-02-03T11:42:58.118Z"
   },
   {
    "duration": -42,
    "start_time": "2022-02-03T11:42:58.123Z"
   },
   {
    "duration": -45,
    "start_time": "2022-02-03T11:42:58.127Z"
   },
   {
    "duration": -48,
    "start_time": "2022-02-03T11:42:58.131Z"
   },
   {
    "duration": -51,
    "start_time": "2022-02-03T11:42:58.135Z"
   },
   {
    "duration": -54,
    "start_time": "2022-02-03T11:42:58.139Z"
   },
   {
    "duration": -56,
    "start_time": "2022-02-03T11:42:58.142Z"
   },
   {
    "duration": -59,
    "start_time": "2022-02-03T11:42:58.146Z"
   },
   {
    "duration": -61,
    "start_time": "2022-02-03T11:42:58.149Z"
   },
   {
    "duration": -69,
    "start_time": "2022-02-03T11:42:58.158Z"
   },
   {
    "duration": -72,
    "start_time": "2022-02-03T11:42:58.161Z"
   },
   {
    "duration": -74,
    "start_time": "2022-02-03T11:42:58.164Z"
   },
   {
    "duration": -76,
    "start_time": "2022-02-03T11:42:58.167Z"
   },
   {
    "duration": -78,
    "start_time": "2022-02-03T11:42:58.170Z"
   },
   {
    "duration": -79,
    "start_time": "2022-02-03T11:42:58.172Z"
   },
   {
    "duration": -83,
    "start_time": "2022-02-03T11:42:58.177Z"
   },
   {
    "duration": -85,
    "start_time": "2022-02-03T11:42:58.180Z"
   },
   {
    "duration": -88,
    "start_time": "2022-02-03T11:42:58.184Z"
   },
   {
    "duration": -90,
    "start_time": "2022-02-03T11:42:58.187Z"
   },
   {
    "duration": -92,
    "start_time": "2022-02-03T11:42:58.190Z"
   },
   {
    "duration": -93,
    "start_time": "2022-02-03T11:42:58.192Z"
   },
   {
    "duration": -96,
    "start_time": "2022-02-03T11:42:58.196Z"
   },
   {
    "duration": -97,
    "start_time": "2022-02-03T11:42:58.198Z"
   },
   {
    "duration": -99,
    "start_time": "2022-02-03T11:42:58.201Z"
   },
   {
    "duration": -101,
    "start_time": "2022-02-03T11:42:58.204Z"
   },
   {
    "duration": -103,
    "start_time": "2022-02-03T11:42:58.207Z"
   },
   {
    "duration": -105,
    "start_time": "2022-02-03T11:42:58.210Z"
   },
   {
    "duration": 1082,
    "start_time": "2022-02-03T12:38:04.507Z"
   },
   {
    "duration": 89,
    "start_time": "2022-02-03T12:38:05.590Z"
   },
   {
    "duration": 4,
    "start_time": "2022-02-03T12:38:05.681Z"
   },
   {
    "duration": 158,
    "start_time": "2022-02-03T12:38:05.687Z"
   },
   {
    "duration": 8,
    "start_time": "2022-02-03T12:38:05.846Z"
   },
   {
    "duration": 3,
    "start_time": "2022-02-03T12:38:05.855Z"
   },
   {
    "duration": 6,
    "start_time": "2022-02-03T12:38:05.860Z"
   },
   {
    "duration": 11,
    "start_time": "2022-02-03T12:38:05.868Z"
   },
   {
    "duration": 98,
    "start_time": "2022-02-03T12:38:05.881Z"
   },
   {
    "duration": 147,
    "start_time": "2022-02-03T12:38:05.980Z"
   },
   {
    "duration": 22,
    "start_time": "2022-02-03T12:38:06.129Z"
   },
   {
    "duration": 9,
    "start_time": "2022-02-03T12:38:06.153Z"
   },
   {
    "duration": 49,
    "start_time": "2022-02-03T12:38:06.163Z"
   },
   {
    "duration": 25,
    "start_time": "2022-02-03T12:38:06.213Z"
   },
   {
    "duration": 32,
    "start_time": "2022-02-03T12:38:06.240Z"
   },
   {
    "duration": 3,
    "start_time": "2022-02-03T12:38:06.274Z"
   },
   {
    "duration": 479,
    "start_time": "2022-02-03T12:38:06.279Z"
   },
   {
    "duration": -42,
    "start_time": "2022-02-03T12:38:06.802Z"
   },
   {
    "duration": -48,
    "start_time": "2022-02-03T12:38:06.809Z"
   },
   {
    "duration": -52,
    "start_time": "2022-02-03T12:38:06.814Z"
   },
   {
    "duration": -57,
    "start_time": "2022-02-03T12:38:06.820Z"
   },
   {
    "duration": -59,
    "start_time": "2022-02-03T12:38:06.823Z"
   },
   {
    "duration": -70,
    "start_time": "2022-02-03T12:38:06.835Z"
   },
   {
    "duration": -72,
    "start_time": "2022-02-03T12:38:06.838Z"
   },
   {
    "duration": -74,
    "start_time": "2022-02-03T12:38:06.841Z"
   },
   {
    "duration": -78,
    "start_time": "2022-02-03T12:38:06.846Z"
   },
   {
    "duration": -80,
    "start_time": "2022-02-03T12:38:06.849Z"
   },
   {
    "duration": -82,
    "start_time": "2022-02-03T12:38:06.852Z"
   },
   {
    "duration": -83,
    "start_time": "2022-02-03T12:38:06.854Z"
   },
   {
    "duration": -86,
    "start_time": "2022-02-03T12:38:06.858Z"
   },
   {
    "duration": -88,
    "start_time": "2022-02-03T12:38:06.861Z"
   },
   {
    "duration": -90,
    "start_time": "2022-02-03T12:38:06.864Z"
   },
   {
    "duration": -92,
    "start_time": "2022-02-03T12:38:06.867Z"
   },
   {
    "duration": -95,
    "start_time": "2022-02-03T12:38:06.870Z"
   },
   {
    "duration": -97,
    "start_time": "2022-02-03T12:38:06.873Z"
   },
   {
    "duration": -100,
    "start_time": "2022-02-03T12:38:06.877Z"
   },
   {
    "duration": -102,
    "start_time": "2022-02-03T12:38:06.880Z"
   },
   {
    "duration": -104,
    "start_time": "2022-02-03T12:38:06.883Z"
   },
   {
    "duration": -105,
    "start_time": "2022-02-03T12:38:06.885Z"
   },
   {
    "duration": -108,
    "start_time": "2022-02-03T12:38:06.889Z"
   },
   {
    "duration": -110,
    "start_time": "2022-02-03T12:38:06.892Z"
   },
   {
    "duration": -114,
    "start_time": "2022-02-03T12:38:06.897Z"
   },
   {
    "duration": -115,
    "start_time": "2022-02-03T12:38:06.899Z"
   },
   {
    "duration": -117,
    "start_time": "2022-02-03T12:38:06.902Z"
   },
   {
    "duration": -119,
    "start_time": "2022-02-03T12:38:06.905Z"
   },
   {
    "duration": 331,
    "start_time": "2022-02-03T12:38:41.296Z"
   },
   {
    "duration": 426,
    "start_time": "2022-02-03T12:38:48.592Z"
   },
   {
    "duration": 330,
    "start_time": "2022-02-03T12:38:55.649Z"
   },
   {
    "duration": 7,
    "start_time": "2022-02-03T12:39:07.865Z"
   },
   {
    "duration": 49,
    "start_time": "2022-02-03T12:39:09.673Z"
   },
   {
    "duration": 1095,
    "start_time": "2022-02-03T12:39:21.399Z"
   },
   {
    "duration": 77,
    "start_time": "2022-02-03T12:39:22.496Z"
   },
   {
    "duration": 5,
    "start_time": "2022-02-03T12:39:22.575Z"
   },
   {
    "duration": 182,
    "start_time": "2022-02-03T12:39:22.582Z"
   },
   {
    "duration": 8,
    "start_time": "2022-02-03T12:39:22.765Z"
   },
   {
    "duration": 4,
    "start_time": "2022-02-03T12:39:22.775Z"
   },
   {
    "duration": 8,
    "start_time": "2022-02-03T12:39:22.780Z"
   },
   {
    "duration": 6,
    "start_time": "2022-02-03T12:39:22.790Z"
   },
   {
    "duration": 109,
    "start_time": "2022-02-03T12:39:22.798Z"
   },
   {
    "duration": 142,
    "start_time": "2022-02-03T12:39:22.909Z"
   },
   {
    "duration": 25,
    "start_time": "2022-02-03T12:39:23.052Z"
   },
   {
    "duration": 9,
    "start_time": "2022-02-03T12:39:23.078Z"
   },
   {
    "duration": 48,
    "start_time": "2022-02-03T12:39:23.089Z"
   },
   {
    "duration": 27,
    "start_time": "2022-02-03T12:39:23.139Z"
   },
   {
    "duration": 34,
    "start_time": "2022-02-03T12:39:23.167Z"
   },
   {
    "duration": 4,
    "start_time": "2022-02-03T12:39:23.203Z"
   },
   {
    "duration": 23,
    "start_time": "2022-02-03T12:39:23.208Z"
   },
   {
    "duration": 7,
    "start_time": "2022-02-03T12:39:23.233Z"
   },
   {
    "duration": 48,
    "start_time": "2022-02-03T12:39:23.241Z"
   },
   {
    "duration": 48,
    "start_time": "2022-02-03T12:39:23.290Z"
   },
   {
    "duration": 25,
    "start_time": "2022-02-03T12:39:23.340Z"
   },
   {
    "duration": 32,
    "start_time": "2022-02-03T12:39:23.366Z"
   },
   {
    "duration": 26,
    "start_time": "2022-02-03T12:39:23.401Z"
   },
   {
    "duration": 421,
    "start_time": "2022-02-03T12:39:23.429Z"
   },
   {
    "duration": 7,
    "start_time": "2022-02-03T12:39:23.844Z"
   },
   {
    "duration": 5,
    "start_time": "2022-02-03T12:39:23.847Z"
   },
   {
    "duration": 3,
    "start_time": "2022-02-03T12:39:23.851Z"
   },
   {
    "duration": 1,
    "start_time": "2022-02-03T12:39:23.854Z"
   },
   {
    "duration": -15,
    "start_time": "2022-02-03T12:39:23.871Z"
   },
   {
    "duration": -25,
    "start_time": "2022-02-03T12:39:23.882Z"
   },
   {
    "duration": -30,
    "start_time": "2022-02-03T12:39:23.887Z"
   },
   {
    "duration": -33,
    "start_time": "2022-02-03T12:39:23.891Z"
   },
   {
    "duration": -35,
    "start_time": "2022-02-03T12:39:23.894Z"
   },
   {
    "duration": -37,
    "start_time": "2022-02-03T12:39:23.897Z"
   },
   {
    "duration": -39,
    "start_time": "2022-02-03T12:39:23.901Z"
   },
   {
    "duration": -42,
    "start_time": "2022-02-03T12:39:23.905Z"
   },
   {
    "duration": -43,
    "start_time": "2022-02-03T12:39:23.907Z"
   },
   {
    "duration": -46,
    "start_time": "2022-02-03T12:39:23.911Z"
   },
   {
    "duration": -48,
    "start_time": "2022-02-03T12:39:23.914Z"
   },
   {
    "duration": -51,
    "start_time": "2022-02-03T12:39:23.918Z"
   },
   {
    "duration": -52,
    "start_time": "2022-02-03T12:39:23.920Z"
   },
   {
    "duration": -54,
    "start_time": "2022-02-03T12:39:23.923Z"
   },
   {
    "duration": -57,
    "start_time": "2022-02-03T12:39:23.926Z"
   },
   {
    "duration": -59,
    "start_time": "2022-02-03T12:39:23.929Z"
   },
   {
    "duration": -62,
    "start_time": "2022-02-03T12:39:23.933Z"
   },
   {
    "duration": 509,
    "start_time": "2022-02-03T12:39:33.474Z"
   },
   {
    "duration": 344,
    "start_time": "2022-02-03T12:39:44.464Z"
   },
   {
    "duration": 8,
    "start_time": "2022-02-03T12:42:00.858Z"
   },
   {
    "duration": 5,
    "start_time": "2022-02-03T12:42:26.553Z"
   },
   {
    "duration": 1029,
    "start_time": "2022-02-03T12:42:40.457Z"
   },
   {
    "duration": 51,
    "start_time": "2022-02-03T12:42:41.488Z"
   },
   {
    "duration": 3,
    "start_time": "2022-02-03T12:42:41.541Z"
   },
   {
    "duration": 154,
    "start_time": "2022-02-03T12:42:41.546Z"
   },
   {
    "duration": 9,
    "start_time": "2022-02-03T12:42:41.701Z"
   },
   {
    "duration": 16,
    "start_time": "2022-02-03T12:42:41.711Z"
   },
   {
    "duration": 5,
    "start_time": "2022-02-03T12:42:41.729Z"
   },
   {
    "duration": 8,
    "start_time": "2022-02-03T12:42:41.736Z"
   },
   {
    "duration": 101,
    "start_time": "2022-02-03T12:42:41.746Z"
   },
   {
    "duration": 138,
    "start_time": "2022-02-03T12:42:41.849Z"
   },
   {
    "duration": 23,
    "start_time": "2022-02-03T12:42:41.989Z"
   },
   {
    "duration": 5,
    "start_time": "2022-02-03T12:42:42.014Z"
   },
   {
    "duration": 48,
    "start_time": "2022-02-03T12:42:42.021Z"
   },
   {
    "duration": 26,
    "start_time": "2022-02-03T12:42:42.070Z"
   },
   {
    "duration": 46,
    "start_time": "2022-02-03T12:42:42.097Z"
   },
   {
    "duration": 5,
    "start_time": "2022-02-03T12:42:42.145Z"
   },
   {
    "duration": 6,
    "start_time": "2022-02-03T12:42:42.151Z"
   },
   {
    "duration": 8,
    "start_time": "2022-02-03T12:42:42.158Z"
   },
   {
    "duration": 4,
    "start_time": "2022-02-03T12:42:42.168Z"
   },
   {
    "duration": 8,
    "start_time": "2022-02-03T12:42:42.174Z"
   },
   {
    "duration": 80,
    "start_time": "2022-02-03T12:42:42.184Z"
   },
   {
    "duration": 30,
    "start_time": "2022-02-03T12:42:42.266Z"
   },
   {
    "duration": 41,
    "start_time": "2022-02-03T12:42:42.300Z"
   },
   {
    "duration": 30,
    "start_time": "2022-02-03T12:42:42.344Z"
   },
   {
    "duration": 7,
    "start_time": "2022-02-03T12:42:42.376Z"
   },
   {
    "duration": 450,
    "start_time": "2022-02-03T12:42:42.385Z"
   },
   {
    "duration": -7,
    "start_time": "2022-02-03T12:42:42.844Z"
   },
   {
    "duration": -18,
    "start_time": "2022-02-03T12:42:42.856Z"
   },
   {
    "duration": -25,
    "start_time": "2022-02-03T12:42:42.863Z"
   },
   {
    "duration": -28,
    "start_time": "2022-02-03T12:42:42.867Z"
   },
   {
    "duration": -32,
    "start_time": "2022-02-03T12:42:42.872Z"
   },
   {
    "duration": -42,
    "start_time": "2022-02-03T12:42:42.883Z"
   },
   {
    "duration": -46,
    "start_time": "2022-02-03T12:42:42.888Z"
   },
   {
    "duration": -49,
    "start_time": "2022-02-03T12:42:42.891Z"
   },
   {
    "duration": -52,
    "start_time": "2022-02-03T12:42:42.895Z"
   },
   {
    "duration": -54,
    "start_time": "2022-02-03T12:42:42.898Z"
   },
   {
    "duration": -57,
    "start_time": "2022-02-03T12:42:42.902Z"
   },
   {
    "duration": -59,
    "start_time": "2022-02-03T12:42:42.905Z"
   },
   {
    "duration": -61,
    "start_time": "2022-02-03T12:42:42.908Z"
   },
   {
    "duration": -62,
    "start_time": "2022-02-03T12:42:42.910Z"
   },
   {
    "duration": -66,
    "start_time": "2022-02-03T12:42:42.915Z"
   },
   {
    "duration": -68,
    "start_time": "2022-02-03T12:42:42.918Z"
   },
   {
    "duration": -70,
    "start_time": "2022-02-03T12:42:42.921Z"
   },
   {
    "duration": -72,
    "start_time": "2022-02-03T12:42:42.924Z"
   },
   {
    "duration": -74,
    "start_time": "2022-02-03T12:42:42.927Z"
   },
   {
    "duration": -76,
    "start_time": "2022-02-03T12:42:42.930Z"
   },
   {
    "duration": -78,
    "start_time": "2022-02-03T12:42:42.933Z"
   },
   {
    "duration": 1006,
    "start_time": "2022-02-04T03:34:22.483Z"
   },
   {
    "duration": 59,
    "start_time": "2022-02-04T03:34:23.491Z"
   },
   {
    "duration": 4,
    "start_time": "2022-02-04T03:34:23.553Z"
   },
   {
    "duration": 168,
    "start_time": "2022-02-04T03:34:23.559Z"
   },
   {
    "duration": 96,
    "start_time": "2022-02-04T03:34:23.728Z"
   },
   {
    "duration": 135,
    "start_time": "2022-02-04T03:34:23.825Z"
   },
   {
    "duration": 22,
    "start_time": "2022-02-04T03:34:23.962Z"
   },
   {
    "duration": 6,
    "start_time": "2022-02-04T03:34:23.986Z"
   },
   {
    "duration": 47,
    "start_time": "2022-02-04T03:34:23.994Z"
   },
   {
    "duration": 28,
    "start_time": "2022-02-04T03:34:24.042Z"
   },
   {
    "duration": 36,
    "start_time": "2022-02-04T03:34:24.071Z"
   },
   {
    "duration": 4,
    "start_time": "2022-02-04T03:34:24.109Z"
   },
   {
    "duration": 6,
    "start_time": "2022-02-04T03:34:24.127Z"
   },
   {
    "duration": 8,
    "start_time": "2022-02-04T03:34:24.135Z"
   },
   {
    "duration": 5,
    "start_time": "2022-02-04T03:34:24.145Z"
   },
   {
    "duration": 9,
    "start_time": "2022-02-04T03:34:24.151Z"
   },
   {
    "duration": 76,
    "start_time": "2022-02-04T03:34:24.161Z"
   },
   {
    "duration": 32,
    "start_time": "2022-02-04T03:34:24.238Z"
   },
   {
    "duration": 27,
    "start_time": "2022-02-04T03:34:24.272Z"
   },
   {
    "duration": 52,
    "start_time": "2022-02-04T03:34:24.300Z"
   },
   {
    "duration": 6,
    "start_time": "2022-02-04T03:34:24.354Z"
   },
   {
    "duration": 422,
    "start_time": "2022-02-04T03:34:24.361Z"
   },
   {
    "duration": 196,
    "start_time": "2022-02-04T03:34:24.590Z"
   },
   {
    "duration": 188,
    "start_time": "2022-02-04T03:34:24.598Z"
   },
   {
    "duration": 184,
    "start_time": "2022-02-04T03:34:24.603Z"
   },
   {
    "duration": 183,
    "start_time": "2022-02-04T03:34:24.605Z"
   },
   {
    "duration": 180,
    "start_time": "2022-02-04T03:34:24.609Z"
   },
   {
    "duration": 177,
    "start_time": "2022-02-04T03:34:24.612Z"
   },
   {
    "duration": 175,
    "start_time": "2022-02-04T03:34:24.615Z"
   },
   {
    "duration": 174,
    "start_time": "2022-02-04T03:34:24.617Z"
   },
   {
    "duration": 171,
    "start_time": "2022-02-04T03:34:24.620Z"
   },
   {
    "duration": 166,
    "start_time": "2022-02-04T03:34:24.626Z"
   },
   {
    "duration": 164,
    "start_time": "2022-02-04T03:34:24.629Z"
   },
   {
    "duration": 154,
    "start_time": "2022-02-04T03:34:24.639Z"
   },
   {
    "duration": 152,
    "start_time": "2022-02-04T03:34:24.643Z"
   },
   {
    "duration": 150,
    "start_time": "2022-02-04T03:34:24.646Z"
   },
   {
    "duration": 148,
    "start_time": "2022-02-04T03:34:24.649Z"
   },
   {
    "duration": 147,
    "start_time": "2022-02-04T03:34:24.651Z"
   },
   {
    "duration": 144,
    "start_time": "2022-02-04T03:34:24.654Z"
   },
   {
    "duration": 141,
    "start_time": "2022-02-04T03:34:24.658Z"
   },
   {
    "duration": 140,
    "start_time": "2022-02-04T03:34:24.660Z"
   },
   {
    "duration": 137,
    "start_time": "2022-02-04T03:34:24.663Z"
   },
   {
    "duration": 135,
    "start_time": "2022-02-04T03:34:24.666Z"
   },
   {
    "duration": 257,
    "start_time": "2022-02-04T03:46:26.537Z"
   },
   {
    "duration": 22,
    "start_time": "2022-02-04T03:46:40.965Z"
   },
   {
    "duration": 10,
    "start_time": "2022-02-04T03:49:21.023Z"
   },
   {
    "duration": 11,
    "start_time": "2022-02-04T03:49:34.606Z"
   },
   {
    "duration": 307,
    "start_time": "2022-02-04T03:52:08.855Z"
   },
   {
    "duration": 367,
    "start_time": "2022-02-04T03:52:23.718Z"
   },
   {
    "duration": 24,
    "start_time": "2022-02-04T03:53:13.910Z"
   },
   {
    "duration": 38,
    "start_time": "2022-02-04T03:53:33.113Z"
   },
   {
    "duration": 231,
    "start_time": "2022-02-04T04:56:51.439Z"
   },
   {
    "duration": 22,
    "start_time": "2022-02-04T04:56:52.637Z"
   },
   {
    "duration": 55,
    "start_time": "2022-02-04T04:57:54.406Z"
   },
   {
    "duration": 37,
    "start_time": "2022-02-04T04:58:17.598Z"
   },
   {
    "duration": 37,
    "start_time": "2022-02-04T04:58:36.967Z"
   },
   {
    "duration": 354,
    "start_time": "2022-02-04T05:02:01.534Z"
   },
   {
    "duration": 342,
    "start_time": "2022-02-04T05:02:52.289Z"
   },
   {
    "duration": 19,
    "start_time": "2022-02-04T05:03:03.630Z"
   },
   {
    "duration": 20,
    "start_time": "2022-02-04T05:03:05.789Z"
   },
   {
    "duration": 6,
    "start_time": "2022-02-04T05:04:40.448Z"
   },
   {
    "duration": 335,
    "start_time": "2022-02-04T05:07:13.086Z"
   },
   {
    "duration": 1066,
    "start_time": "2022-02-04T05:09:17.115Z"
   },
   {
    "duration": 48,
    "start_time": "2022-02-04T05:09:18.183Z"
   },
   {
    "duration": 153,
    "start_time": "2022-02-04T05:09:18.232Z"
   },
   {
    "duration": 93,
    "start_time": "2022-02-04T05:09:18.387Z"
   },
   {
    "duration": 135,
    "start_time": "2022-02-04T05:09:18.481Z"
   },
   {
    "duration": 22,
    "start_time": "2022-02-04T05:09:18.617Z"
   },
   {
    "duration": 357,
    "start_time": "2022-02-04T05:09:18.641Z"
   },
   {
    "duration": 5,
    "start_time": "2022-02-04T05:09:19.001Z"
   },
   {
    "duration": 47,
    "start_time": "2022-02-04T05:09:19.008Z"
   },
   {
    "duration": 27,
    "start_time": "2022-02-04T05:09:19.057Z"
   },
   {
    "duration": 45,
    "start_time": "2022-02-04T05:09:19.085Z"
   },
   {
    "duration": 4,
    "start_time": "2022-02-04T05:09:19.132Z"
   },
   {
    "duration": 6,
    "start_time": "2022-02-04T05:09:19.137Z"
   },
   {
    "duration": 113,
    "start_time": "2022-02-04T05:09:19.144Z"
   },
   {
    "duration": 274,
    "start_time": "2022-02-04T05:09:18.985Z"
   },
   {
    "duration": 230,
    "start_time": "2022-02-04T05:09:19.030Z"
   },
   {
    "duration": 228,
    "start_time": "2022-02-04T05:09:19.033Z"
   },
   {
    "duration": 185,
    "start_time": "2022-02-04T05:09:19.077Z"
   },
   {
    "duration": 147,
    "start_time": "2022-02-04T05:09:19.116Z"
   },
   {
    "duration": 142,
    "start_time": "2022-02-04T05:09:19.122Z"
   },
   {
    "duration": 132,
    "start_time": "2022-02-04T05:09:19.133Z"
   },
   {
    "duration": 124,
    "start_time": "2022-02-04T05:09:19.141Z"
   },
   {
    "duration": 115,
    "start_time": "2022-02-04T05:09:19.151Z"
   },
   {
    "duration": 98,
    "start_time": "2022-02-04T05:09:19.169Z"
   },
   {
    "duration": 84,
    "start_time": "2022-02-04T05:09:19.184Z"
   },
   {
    "duration": 73,
    "start_time": "2022-02-04T05:09:19.196Z"
   },
   {
    "duration": 70,
    "start_time": "2022-02-04T05:09:19.200Z"
   },
   {
    "duration": 66,
    "start_time": "2022-02-04T05:09:19.205Z"
   },
   {
    "duration": 57,
    "start_time": "2022-02-04T05:09:19.215Z"
   },
   {
    "duration": 54,
    "start_time": "2022-02-04T05:09:19.219Z"
   },
   {
    "duration": 43,
    "start_time": "2022-02-04T05:09:19.231Z"
   },
   {
    "duration": 40,
    "start_time": "2022-02-04T05:09:19.235Z"
   },
   {
    "duration": 30,
    "start_time": "2022-02-04T05:09:19.246Z"
   },
   {
    "duration": 27,
    "start_time": "2022-02-04T05:09:19.250Z"
   },
   {
    "duration": 23,
    "start_time": "2022-02-04T05:09:19.255Z"
   },
   {
    "duration": 12,
    "start_time": "2022-02-04T05:09:19.266Z"
   },
   {
    "duration": 6,
    "start_time": "2022-02-04T05:09:19.273Z"
   },
   {
    "duration": -3,
    "start_time": "2022-02-04T05:09:19.283Z"
   },
   {
    "duration": -8,
    "start_time": "2022-02-04T05:09:19.289Z"
   },
   {
    "duration": -17,
    "start_time": "2022-02-04T05:09:19.299Z"
   },
   {
    "duration": -19,
    "start_time": "2022-02-04T05:09:19.302Z"
   },
   {
    "duration": -30,
    "start_time": "2022-02-04T05:09:19.313Z"
   },
   {
    "duration": -33,
    "start_time": "2022-02-04T05:09:19.317Z"
   },
   {
    "duration": -37,
    "start_time": "2022-02-04T05:09:19.322Z"
   },
   {
    "duration": -47,
    "start_time": "2022-02-04T05:09:19.333Z"
   },
   {
    "duration": -52,
    "start_time": "2022-02-04T05:09:19.339Z"
   },
   {
    "duration": -76,
    "start_time": "2022-02-04T05:09:19.364Z"
   },
   {
    "duration": -79,
    "start_time": "2022-02-04T05:09:19.368Z"
   },
   {
    "duration": -84,
    "start_time": "2022-02-04T05:09:19.373Z"
   },
   {
    "duration": -95,
    "start_time": "2022-02-04T05:09:19.385Z"
   },
   {
    "duration": -105,
    "start_time": "2022-02-04T05:09:19.396Z"
   },
   {
    "duration": 555,
    "start_time": "2022-02-04T05:10:38.078Z"
   },
   {
    "duration": 236,
    "start_time": "2022-02-04T05:11:02.182Z"
   },
   {
    "duration": 284,
    "start_time": "2022-02-04T05:11:08.026Z"
   },
   {
    "duration": 1054,
    "start_time": "2022-02-04T05:14:52.733Z"
   },
   {
    "duration": 393,
    "start_time": "2022-02-04T05:15:13.068Z"
   },
   {
    "duration": 35,
    "start_time": "2022-02-04T05:16:00.918Z"
   },
   {
    "duration": 30,
    "start_time": "2022-02-04T05:16:25.558Z"
   },
   {
    "duration": 73,
    "start_time": "2022-02-04T05:17:09.837Z"
   },
   {
    "duration": 3,
    "start_time": "2022-02-04T05:24:17.679Z"
   },
   {
    "duration": 408,
    "start_time": "2022-02-04T05:26:39.989Z"
   },
   {
    "duration": 370,
    "start_time": "2022-02-04T05:26:42.812Z"
   },
   {
    "duration": 558,
    "start_time": "2022-02-04T05:26:44.405Z"
   },
   {
    "duration": 18,
    "start_time": "2022-02-04T05:27:01.065Z"
   },
   {
    "duration": 18,
    "start_time": "2022-02-04T05:27:10.263Z"
   },
   {
    "duration": 238,
    "start_time": "2022-02-04T05:27:13.822Z"
   },
   {
    "duration": 17,
    "start_time": "2022-02-04T05:27:14.654Z"
   },
   {
    "duration": 516,
    "start_time": "2022-02-04T05:29:22.834Z"
   },
   {
    "duration": 370,
    "start_time": "2022-02-04T05:29:39.856Z"
   },
   {
    "duration": 320,
    "start_time": "2022-02-04T05:30:15.031Z"
   },
   {
    "duration": 99,
    "start_time": "2022-02-04T05:30:28.439Z"
   },
   {
    "duration": 24,
    "start_time": "2022-02-04T05:32:49.000Z"
   },
   {
    "duration": 24,
    "start_time": "2022-02-04T05:33:09.633Z"
   },
   {
    "duration": 246,
    "start_time": "2022-02-04T05:33:34.367Z"
   },
   {
    "duration": 1288,
    "start_time": "2022-02-04T05:41:46.908Z"
   },
   {
    "duration": 119,
    "start_time": "2022-02-04T05:42:02.778Z"
   },
   {
    "duration": 139,
    "start_time": "2022-02-04T05:43:30.778Z"
   },
   {
    "duration": 326,
    "start_time": "2022-02-04T05:45:03.370Z"
   },
   {
    "duration": 333,
    "start_time": "2022-02-04T05:45:39.896Z"
   },
   {
    "duration": 3,
    "start_time": "2022-02-04T05:46:39.734Z"
   },
   {
    "duration": 380,
    "start_time": "2022-02-04T05:46:55.395Z"
   },
   {
    "duration": 4,
    "start_time": "2022-02-04T06:07:56.873Z"
   },
   {
    "duration": 111,
    "start_time": "2022-02-04T06:09:20.097Z"
   },
   {
    "duration": 5,
    "start_time": "2022-02-04T06:11:26.666Z"
   },
   {
    "duration": 86,
    "start_time": "2022-02-04T06:11:56.879Z"
   },
   {
    "duration": 17,
    "start_time": "2022-02-04T06:14:44.520Z"
   },
   {
    "duration": 960,
    "start_time": "2022-02-04T06:14:57.438Z"
   },
   {
    "duration": 380,
    "start_time": "2022-02-04T06:14:58.400Z"
   },
   {
    "duration": 72,
    "start_time": "2022-02-04T06:14:58.782Z"
   },
   {
    "duration": 17,
    "start_time": "2022-02-04T06:14:58.855Z"
   },
   {
    "duration": 384,
    "start_time": "2022-02-04T06:14:58.873Z"
   },
   {
    "duration": 18,
    "start_time": "2022-02-04T06:14:59.259Z"
   },
   {
    "duration": 238,
    "start_time": "2022-02-04T06:14:59.278Z"
   },
   {
    "duration": 21,
    "start_time": "2022-02-04T06:14:59.518Z"
   },
   {
    "duration": 448,
    "start_time": "2022-02-04T06:14:59.541Z"
   },
   {
    "duration": 102,
    "start_time": "2022-02-04T06:14:59.991Z"
   },
   {
    "duration": 23,
    "start_time": "2022-02-04T06:15:00.095Z"
   },
   {
    "duration": 124,
    "start_time": "2022-02-04T06:15:00.127Z"
   },
   {
    "duration": 5,
    "start_time": "2022-02-04T06:15:00.252Z"
   },
   {
    "duration": 127,
    "start_time": "2022-02-04T06:15:00.259Z"
   },
   {
    "duration": 376,
    "start_time": "2022-02-04T06:15:00.387Z"
   },
   {
    "duration": 20,
    "start_time": "2022-02-04T06:15:00.765Z"
   },
   {
    "duration": 511,
    "start_time": "2022-02-04T06:15:00.787Z"
   },
   {
    "duration": 201,
    "start_time": "2022-02-04T06:15:01.099Z"
   },
   {
    "duration": 197,
    "start_time": "2022-02-04T06:15:01.104Z"
   },
   {
    "duration": 187,
    "start_time": "2022-02-04T06:15:01.115Z"
   },
   {
    "duration": 183,
    "start_time": "2022-02-04T06:15:01.120Z"
   },
   {
    "duration": 173,
    "start_time": "2022-02-04T06:15:01.130Z"
   },
   {
    "duration": 169,
    "start_time": "2022-02-04T06:15:01.135Z"
   },
   {
    "duration": 159,
    "start_time": "2022-02-04T06:15:01.146Z"
   },
   {
    "duration": 156,
    "start_time": "2022-02-04T06:15:01.150Z"
   },
   {
    "duration": 146,
    "start_time": "2022-02-04T06:15:01.161Z"
   },
   {
    "duration": 142,
    "start_time": "2022-02-04T06:15:01.165Z"
   },
   {
    "duration": 137,
    "start_time": "2022-02-04T06:15:01.171Z"
   },
   {
    "duration": 128,
    "start_time": "2022-02-04T06:15:01.181Z"
   },
   {
    "duration": 126,
    "start_time": "2022-02-04T06:15:01.184Z"
   },
   {
    "duration": 114,
    "start_time": "2022-02-04T06:15:01.198Z"
   },
   {
    "duration": 109,
    "start_time": "2022-02-04T06:15:01.203Z"
   },
   {
    "duration": 100,
    "start_time": "2022-02-04T06:15:01.213Z"
   },
   {
    "duration": 98,
    "start_time": "2022-02-04T06:15:01.216Z"
   },
   {
    "duration": 94,
    "start_time": "2022-02-04T06:15:01.221Z"
   },
   {
    "duration": 86,
    "start_time": "2022-02-04T06:15:01.230Z"
   },
   {
    "duration": 85,
    "start_time": "2022-02-04T06:15:01.232Z"
   },
   {
    "duration": 81,
    "start_time": "2022-02-04T06:15:01.237Z"
   },
   {
    "duration": 73,
    "start_time": "2022-02-04T06:15:01.246Z"
   },
   {
    "duration": 70,
    "start_time": "2022-02-04T06:15:01.249Z"
   },
   {
    "duration": 66,
    "start_time": "2022-02-04T06:15:01.254Z"
   },
   {
    "duration": 58,
    "start_time": "2022-02-04T06:15:01.263Z"
   },
   {
    "duration": 56,
    "start_time": "2022-02-04T06:15:01.266Z"
   },
   {
    "duration": 122,
    "start_time": "2022-02-04T06:20:04.487Z"
   },
   {
    "duration": 140,
    "start_time": "2022-02-04T06:22:13.288Z"
   },
   {
    "duration": 110,
    "start_time": "2022-02-04T06:22:21.162Z"
   },
   {
    "duration": 84,
    "start_time": "2022-02-04T06:22:30.551Z"
   },
   {
    "duration": 81,
    "start_time": "2022-02-04T06:22:34.999Z"
   },
   {
    "duration": 110,
    "start_time": "2022-02-04T06:22:39.079Z"
   },
   {
    "duration": 129,
    "start_time": "2022-02-04T06:25:23.920Z"
   },
   {
    "duration": 108,
    "start_time": "2022-02-04T06:25:59.575Z"
   },
   {
    "duration": 115,
    "start_time": "2022-02-04T06:26:21.431Z"
   },
   {
    "duration": 84,
    "start_time": "2022-02-04T06:26:48.136Z"
   },
   {
    "duration": 3,
    "start_time": "2022-02-04T07:04:05.977Z"
   },
   {
    "duration": 16162,
    "start_time": "2022-02-04T07:04:47.636Z"
   },
   {
    "duration": 18,
    "start_time": "2022-02-04T07:05:42.958Z"
   },
   {
    "duration": 4,
    "start_time": "2022-02-04T07:07:49.907Z"
   },
   {
    "duration": 19,
    "start_time": "2022-02-04T07:07:51.107Z"
   },
   {
    "duration": 15020,
    "start_time": "2022-02-04T07:07:52.937Z"
   },
   {
    "duration": 127,
    "start_time": "2022-02-04T07:09:52.725Z"
   },
   {
    "duration": 419,
    "start_time": "2022-02-04T07:10:52.632Z"
   },
   {
    "duration": 96,
    "start_time": "2022-02-04T07:11:03.705Z"
   },
   {
    "duration": 333,
    "start_time": "2022-02-04T07:13:44.897Z"
   },
   {
    "duration": 9121,
    "start_time": "2022-02-04T07:20:26.093Z"
   },
   {
    "duration": 8274,
    "start_time": "2022-02-04T07:21:15.076Z"
   },
   {
    "duration": 8715,
    "start_time": "2022-02-04T07:21:44.892Z"
   },
   {
    "duration": 19,
    "start_time": "2022-02-04T07:23:17.484Z"
   },
   {
    "duration": 8613,
    "start_time": "2022-02-04T07:23:46.567Z"
   },
   {
    "duration": 1042,
    "start_time": "2022-02-04T07:25:48.448Z"
   },
   {
    "duration": 421,
    "start_time": "2022-02-04T07:25:49.492Z"
   },
   {
    "duration": 72,
    "start_time": "2022-02-04T07:25:49.915Z"
   },
   {
    "duration": 17,
    "start_time": "2022-02-04T07:25:49.989Z"
   },
   {
    "duration": 371,
    "start_time": "2022-02-04T07:25:50.027Z"
   },
   {
    "duration": 27,
    "start_time": "2022-02-04T07:25:50.400Z"
   },
   {
    "duration": 240,
    "start_time": "2022-02-04T07:25:50.428Z"
   },
   {
    "duration": 18,
    "start_time": "2022-02-04T07:25:50.671Z"
   },
   {
    "duration": 421,
    "start_time": "2022-02-04T07:25:50.691Z"
   },
   {
    "duration": 103,
    "start_time": "2022-02-04T07:25:51.114Z"
   },
   {
    "duration": 9,
    "start_time": "2022-02-04T07:25:51.218Z"
   },
   {
    "duration": 5,
    "start_time": "2022-02-04T07:25:51.229Z"
   },
   {
    "duration": 8,
    "start_time": "2022-02-04T07:25:51.235Z"
   },
   {
    "duration": 95,
    "start_time": "2022-02-04T07:25:51.244Z"
   },
   {
    "duration": 20,
    "start_time": "2022-02-04T07:25:51.340Z"
   },
   {
    "duration": 422,
    "start_time": "2022-02-04T07:25:51.362Z"
   },
   {
    "duration": 271,
    "start_time": "2022-02-04T07:25:51.516Z"
   },
   {
    "duration": 268,
    "start_time": "2022-02-04T07:25:51.520Z"
   },
   {
    "duration": 264,
    "start_time": "2022-02-04T07:25:51.525Z"
   },
   {
    "duration": 261,
    "start_time": "2022-02-04T07:25:51.529Z"
   },
   {
    "duration": 257,
    "start_time": "2022-02-04T07:25:51.533Z"
   },
   {
    "duration": 254,
    "start_time": "2022-02-04T07:25:51.537Z"
   },
   {
    "duration": 250,
    "start_time": "2022-02-04T07:25:51.542Z"
   },
   {
    "duration": 247,
    "start_time": "2022-02-04T07:25:51.546Z"
   },
   {
    "duration": 243,
    "start_time": "2022-02-04T07:25:51.551Z"
   },
   {
    "duration": 241,
    "start_time": "2022-02-04T07:25:51.554Z"
   },
   {
    "duration": 237,
    "start_time": "2022-02-04T07:25:51.559Z"
   },
   {
    "duration": 235,
    "start_time": "2022-02-04T07:25:51.562Z"
   },
   {
    "duration": 232,
    "start_time": "2022-02-04T07:25:51.566Z"
   },
   {
    "duration": 229,
    "start_time": "2022-02-04T07:25:51.570Z"
   },
   {
    "duration": 226,
    "start_time": "2022-02-04T07:25:51.574Z"
   },
   {
    "duration": 224,
    "start_time": "2022-02-04T07:25:51.577Z"
   },
   {
    "duration": 221,
    "start_time": "2022-02-04T07:25:51.580Z"
   },
   {
    "duration": 219,
    "start_time": "2022-02-04T07:25:51.583Z"
   },
   {
    "duration": 217,
    "start_time": "2022-02-04T07:25:51.586Z"
   },
   {
    "duration": 216,
    "start_time": "2022-02-04T07:25:51.588Z"
   },
   {
    "duration": 214,
    "start_time": "2022-02-04T07:25:51.591Z"
   },
   {
    "duration": 212,
    "start_time": "2022-02-04T07:25:51.594Z"
   },
   {
    "duration": 211,
    "start_time": "2022-02-04T07:25:51.596Z"
   },
   {
    "duration": 209,
    "start_time": "2022-02-04T07:25:51.599Z"
   },
   {
    "duration": 208,
    "start_time": "2022-02-04T07:25:51.601Z"
   },
   {
    "duration": 352,
    "start_time": "2022-02-04T07:29:31.024Z"
   },
   {
    "duration": 387,
    "start_time": "2022-02-04T07:30:57.944Z"
   },
   {
    "duration": 383,
    "start_time": "2022-02-04T08:32:14.982Z"
   },
   {
    "duration": 323,
    "start_time": "2022-02-04T08:32:21.491Z"
   },
   {
    "duration": 24,
    "start_time": "2022-02-04T08:32:33.772Z"
   },
   {
    "duration": 341,
    "start_time": "2022-02-04T08:32:47.789Z"
   },
   {
    "duration": 73,
    "start_time": "2022-02-04T08:33:08.990Z"
   },
   {
    "duration": 145,
    "start_time": "2022-02-04T08:33:48.221Z"
   },
   {
    "duration": 107,
    "start_time": "2022-02-04T08:34:25.615Z"
   },
   {
    "duration": 108,
    "start_time": "2022-02-04T08:34:47.413Z"
   },
   {
    "duration": 108,
    "start_time": "2022-02-04T08:35:08.933Z"
   },
   {
    "duration": 131,
    "start_time": "2022-02-04T08:35:52.270Z"
   },
   {
    "duration": 4,
    "start_time": "2022-02-04T08:36:32.094Z"
   },
   {
    "duration": 27517,
    "start_time": "2022-02-04T08:36:34.373Z"
   },
   {
    "duration": 43,
    "start_time": "2022-02-04T08:40:26.754Z"
   },
   {
    "duration": 43,
    "start_time": "2022-02-04T08:40:29.514Z"
   },
   {
    "duration": 108,
    "start_time": "2022-02-04T08:40:32.798Z"
   },
   {
    "duration": 9,
    "start_time": "2022-02-04T08:40:36.326Z"
   },
   {
    "duration": 7,
    "start_time": "2022-02-04T08:40:37.416Z"
   },
   {
    "duration": 8,
    "start_time": "2022-02-04T08:40:38.342Z"
   },
   {
    "duration": 4,
    "start_time": "2022-02-04T08:40:48.727Z"
   },
   {
    "duration": 19,
    "start_time": "2022-02-04T08:40:51.502Z"
   },
   {
    "duration": 15807,
    "start_time": "2022-02-04T08:40:54.647Z"
   },
   {
    "duration": 3,
    "start_time": "2022-02-04T08:43:40.608Z"
   },
   {
    "duration": 16416,
    "start_time": "2022-02-04T08:43:49.600Z"
   },
   {
    "duration": 4,
    "start_time": "2022-02-04T08:45:09.760Z"
   },
   {
    "duration": 19,
    "start_time": "2022-02-04T08:45:11.648Z"
   },
   {
    "duration": 15374,
    "start_time": "2022-02-04T08:45:13.120Z"
   },
   {
    "duration": 14857,
    "start_time": "2022-02-04T08:47:45.890Z"
   },
   {
    "duration": 14920,
    "start_time": "2022-02-04T08:48:39.114Z"
   },
   {
    "duration": 4,
    "start_time": "2022-02-04T09:07:51.247Z"
   },
   {
    "duration": 15954,
    "start_time": "2022-02-04T09:07:57.167Z"
   },
   {
    "duration": 14689,
    "start_time": "2022-02-04T09:08:21.209Z"
   },
   {
    "duration": 7964,
    "start_time": "2022-02-04T09:09:50.773Z"
   },
   {
    "duration": 8633,
    "start_time": "2022-02-04T09:10:36.037Z"
   },
   {
    "duration": 328,
    "start_time": "2022-02-04T09:11:23.590Z"
   },
   {
    "duration": 8218,
    "start_time": "2022-02-04T09:11:48.742Z"
   },
   {
    "duration": 204,
    "start_time": "2022-02-04T09:12:23.655Z"
   },
   {
    "duration": 155,
    "start_time": "2022-02-04T09:12:58.311Z"
   },
   {
    "duration": 9133,
    "start_time": "2022-02-04T09:14:12.415Z"
   },
   {
    "duration": 166,
    "start_time": "2022-02-04T09:15:04.622Z"
   },
   {
    "duration": 87,
    "start_time": "2022-02-04T09:18:23.400Z"
   },
   {
    "duration": 97,
    "start_time": "2022-02-04T09:19:39.208Z"
   },
   {
    "duration": 348,
    "start_time": "2022-02-04T09:20:57.840Z"
   },
   {
    "duration": 339,
    "start_time": "2022-02-04T09:21:07.000Z"
   },
   {
    "duration": 158,
    "start_time": "2022-02-04T09:21:39.096Z"
   },
   {
    "duration": 8512,
    "start_time": "2022-02-04T09:21:50.040Z"
   },
   {
    "duration": 1104,
    "start_time": "2022-02-04T09:24:39.735Z"
   },
   {
    "duration": 387,
    "start_time": "2022-02-04T09:24:40.841Z"
   },
   {
    "duration": 98,
    "start_time": "2022-02-04T09:24:41.230Z"
   },
   {
    "duration": 18,
    "start_time": "2022-02-04T09:24:41.330Z"
   },
   {
    "duration": 371,
    "start_time": "2022-02-04T09:24:41.350Z"
   },
   {
    "duration": 29,
    "start_time": "2022-02-04T09:24:41.723Z"
   },
   {
    "duration": 241,
    "start_time": "2022-02-04T09:24:41.754Z"
   },
   {
    "duration": 18,
    "start_time": "2022-02-04T09:24:41.997Z"
   },
   {
    "duration": 147,
    "start_time": "2022-02-04T09:24:42.017Z"
   },
   {
    "duration": 412,
    "start_time": "2022-02-04T09:24:42.165Z"
   },
   {
    "duration": 107,
    "start_time": "2022-02-04T09:24:42.579Z"
   },
   {
    "duration": 25,
    "start_time": "2022-02-04T09:24:42.688Z"
   },
   {
    "duration": 2,
    "start_time": "2022-02-04T09:24:42.714Z"
   },
   {
    "duration": 22,
    "start_time": "2022-02-04T09:24:42.718Z"
   },
   {
    "duration": 188,
    "start_time": "2022-02-04T09:24:42.742Z"
   },
   {
    "duration": 69,
    "start_time": "2022-02-04T09:24:42.932Z"
   },
   {
    "duration": 220,
    "start_time": "2022-02-04T09:24:43.003Z"
   },
   {
    "duration": 193,
    "start_time": "2022-02-04T09:24:43.225Z"
   },
   {
    "duration": 165,
    "start_time": "2022-02-04T09:24:43.420Z"
   },
   {
    "duration": 8790,
    "start_time": "2022-02-04T09:24:43.587Z"
   },
   {
    "duration": 268,
    "start_time": "2022-02-04T09:24:52.114Z"
   },
   {
    "duration": 253,
    "start_time": "2022-02-04T09:24:52.130Z"
   },
   {
    "duration": 250,
    "start_time": "2022-02-04T09:24:52.134Z"
   },
   {
    "duration": 249,
    "start_time": "2022-02-04T09:24:52.137Z"
   },
   {
    "duration": 246,
    "start_time": "2022-02-04T09:24:52.141Z"
   },
   {
    "duration": 243,
    "start_time": "2022-02-04T09:24:52.145Z"
   },
   {
    "duration": 241,
    "start_time": "2022-02-04T09:24:52.149Z"
   },
   {
    "duration": 240,
    "start_time": "2022-02-04T09:24:52.151Z"
   },
   {
    "duration": 238,
    "start_time": "2022-02-04T09:24:52.154Z"
   },
   {
    "duration": 234,
    "start_time": "2022-02-04T09:24:52.159Z"
   },
   {
    "duration": 232,
    "start_time": "2022-02-04T09:24:52.163Z"
   },
   {
    "duration": 231,
    "start_time": "2022-02-04T09:24:52.165Z"
   },
   {
    "duration": 230,
    "start_time": "2022-02-04T09:24:52.168Z"
   },
   {
    "duration": 228,
    "start_time": "2022-02-04T09:24:52.171Z"
   },
   {
    "duration": 226,
    "start_time": "2022-02-04T09:24:52.174Z"
   },
   {
    "duration": 225,
    "start_time": "2022-02-04T09:24:52.177Z"
   },
   {
    "duration": 221,
    "start_time": "2022-02-04T09:24:52.182Z"
   },
   {
    "duration": 219,
    "start_time": "2022-02-04T09:24:52.185Z"
   },
   {
    "duration": 218,
    "start_time": "2022-02-04T09:24:52.188Z"
   },
   {
    "duration": 216,
    "start_time": "2022-02-04T09:24:52.191Z"
   },
   {
    "duration": 214,
    "start_time": "2022-02-04T09:24:52.194Z"
   },
   {
    "duration": 213,
    "start_time": "2022-02-04T09:24:52.197Z"
   },
   {
    "duration": 204,
    "start_time": "2022-02-04T09:24:52.208Z"
   },
   {
    "duration": 198,
    "start_time": "2022-02-04T09:24:52.215Z"
   },
   {
    "duration": 196,
    "start_time": "2022-02-04T09:24:52.218Z"
   },
   {
    "duration": 196,
    "start_time": "2022-02-04T09:24:52.220Z"
   },
   {
    "duration": 8514,
    "start_time": "2022-02-04T09:25:06.083Z"
   },
   {
    "duration": 311,
    "start_time": "2022-02-04T09:25:14.289Z"
   },
   {
    "duration": 1056,
    "start_time": "2022-02-04T09:25:47.826Z"
   },
   {
    "duration": 381,
    "start_time": "2022-02-04T09:25:48.884Z"
   },
   {
    "duration": 77,
    "start_time": "2022-02-04T09:25:49.268Z"
   },
   {
    "duration": 20,
    "start_time": "2022-02-04T09:25:49.346Z"
   },
   {
    "duration": 376,
    "start_time": "2022-02-04T09:25:49.367Z"
   },
   {
    "duration": 28,
    "start_time": "2022-02-04T09:25:49.746Z"
   },
   {
    "duration": 283,
    "start_time": "2022-02-04T09:25:49.777Z"
   },
   {
    "duration": 29,
    "start_time": "2022-02-04T09:25:50.063Z"
   },
   {
    "duration": 195,
    "start_time": "2022-02-04T09:25:50.095Z"
   },
   {
    "duration": 613,
    "start_time": "2022-02-04T09:25:50.292Z"
   },
   {
    "duration": 172,
    "start_time": "2022-02-04T09:25:50.908Z"
   },
   {
    "duration": 31,
    "start_time": "2022-02-04T09:25:51.082Z"
   },
   {
    "duration": 12,
    "start_time": "2022-02-04T09:25:51.115Z"
   },
   {
    "duration": 10,
    "start_time": "2022-02-04T09:25:51.129Z"
   },
   {
    "duration": 194,
    "start_time": "2022-02-04T09:25:51.141Z"
   },
   {
    "duration": 71,
    "start_time": "2022-02-04T09:25:51.338Z"
   },
   {
    "duration": 213,
    "start_time": "2022-02-04T09:25:51.411Z"
   },
   {
    "duration": 143,
    "start_time": "2022-02-04T09:25:51.626Z"
   },
   {
    "duration": 97,
    "start_time": "2022-02-04T09:25:51.770Z"
   },
   {
    "duration": 2,
    "start_time": "2022-02-04T09:25:51.868Z"
   },
   {
    "duration": 172,
    "start_time": "2022-02-04T09:25:51.872Z"
   },
   {
    "duration": 8404,
    "start_time": "2022-02-04T09:25:52.045Z"
   },
   {
    "duration": 327,
    "start_time": "2022-02-04T09:26:00.124Z"
   },
   {
    "duration": 321,
    "start_time": "2022-02-04T09:26:00.131Z"
   },
   {
    "duration": 319,
    "start_time": "2022-02-04T09:26:00.134Z"
   },
   {
    "duration": 318,
    "start_time": "2022-02-04T09:26:00.136Z"
   },
   {
    "duration": 316,
    "start_time": "2022-02-04T09:26:00.139Z"
   },
   {
    "duration": 314,
    "start_time": "2022-02-04T09:26:00.142Z"
   },
   {
    "duration": 310,
    "start_time": "2022-02-04T09:26:00.147Z"
   },
   {
    "duration": 308,
    "start_time": "2022-02-04T09:26:00.150Z"
   },
   {
    "duration": 306,
    "start_time": "2022-02-04T09:26:00.153Z"
   },
   {
    "duration": 304,
    "start_time": "2022-02-04T09:26:00.156Z"
   },
   {
    "duration": 302,
    "start_time": "2022-02-04T09:26:00.158Z"
   },
   {
    "duration": 294,
    "start_time": "2022-02-04T09:26:00.167Z"
   },
   {
    "duration": 292,
    "start_time": "2022-02-04T09:26:00.170Z"
   },
   {
    "duration": 291,
    "start_time": "2022-02-04T09:26:00.172Z"
   },
   {
    "duration": 289,
    "start_time": "2022-02-04T09:26:00.175Z"
   },
   {
    "duration": 287,
    "start_time": "2022-02-04T09:26:00.178Z"
   },
   {
    "duration": 4,
    "start_time": "2022-02-04T09:28:11.581Z"
   },
   {
    "duration": 347,
    "start_time": "2022-02-04T09:30:29.939Z"
   },
   {
    "duration": 319,
    "start_time": "2022-02-04T09:30:49.747Z"
   },
   {
    "duration": 1094,
    "start_time": "2022-02-04T09:30:59.396Z"
   },
   {
    "duration": 396,
    "start_time": "2022-02-04T09:31:00.492Z"
   },
   {
    "duration": 78,
    "start_time": "2022-02-04T09:31:00.891Z"
   },
   {
    "duration": 19,
    "start_time": "2022-02-04T09:31:00.972Z"
   },
   {
    "duration": 384,
    "start_time": "2022-02-04T09:31:00.992Z"
   },
   {
    "duration": 20,
    "start_time": "2022-02-04T09:31:01.378Z"
   },
   {
    "duration": 240,
    "start_time": "2022-02-04T09:31:01.400Z"
   },
   {
    "duration": 13,
    "start_time": "2022-02-04T09:31:01.643Z"
   },
   {
    "duration": 7,
    "start_time": "2022-02-04T09:31:01.658Z"
   },
   {
    "duration": 400,
    "start_time": "2022-02-04T09:31:01.667Z"
   },
   {
    "duration": 96,
    "start_time": "2022-02-04T09:31:02.069Z"
   },
   {
    "duration": 25,
    "start_time": "2022-02-04T09:31:02.167Z"
   },
   {
    "duration": 3,
    "start_time": "2022-02-04T09:31:02.194Z"
   },
   {
    "duration": 12,
    "start_time": "2022-02-04T09:31:02.199Z"
   },
   {
    "duration": 120,
    "start_time": "2022-02-04T09:31:02.212Z"
   },
   {
    "duration": 8729,
    "start_time": "2022-02-04T09:31:02.334Z"
   },
   {
    "duration": 319,
    "start_time": "2022-02-04T09:31:10.747Z"
   },
   {
    "duration": 314,
    "start_time": "2022-02-04T09:31:10.753Z"
   },
   {
    "duration": 308,
    "start_time": "2022-02-04T09:31:10.760Z"
   },
   {
    "duration": 305,
    "start_time": "2022-02-04T09:31:10.764Z"
   },
   {
    "duration": 303,
    "start_time": "2022-02-04T09:31:10.767Z"
   },
   {
    "duration": 301,
    "start_time": "2022-02-04T09:31:10.770Z"
   },
   {
    "duration": 289,
    "start_time": "2022-02-04T09:31:10.783Z"
   },
   {
    "duration": 287,
    "start_time": "2022-02-04T09:31:10.786Z"
   },
   {
    "duration": 283,
    "start_time": "2022-02-04T09:31:10.790Z"
   },
   {
    "duration": 281,
    "start_time": "2022-02-04T09:31:10.793Z"
   },
   {
    "duration": 279,
    "start_time": "2022-02-04T09:31:10.796Z"
   },
   {
    "duration": 278,
    "start_time": "2022-02-04T09:31:10.798Z"
   },
   {
    "duration": 275,
    "start_time": "2022-02-04T09:31:10.802Z"
   },
   {
    "duration": 273,
    "start_time": "2022-02-04T09:31:10.805Z"
   },
   {
    "duration": 271,
    "start_time": "2022-02-04T09:31:10.808Z"
   },
   {
    "duration": 270,
    "start_time": "2022-02-04T09:31:10.810Z"
   },
   {
    "duration": 268,
    "start_time": "2022-02-04T09:31:10.813Z"
   },
   {
    "duration": 267,
    "start_time": "2022-02-04T09:31:10.815Z"
   },
   {
    "duration": 264,
    "start_time": "2022-02-04T09:31:10.819Z"
   },
   {
    "duration": 261,
    "start_time": "2022-02-04T09:31:10.822Z"
   },
   {
    "duration": 257,
    "start_time": "2022-02-04T09:31:10.827Z"
   },
   {
    "duration": 255,
    "start_time": "2022-02-04T09:31:10.830Z"
   },
   {
    "duration": 144,
    "start_time": "2022-02-04T09:55:50.563Z"
   },
   {
    "duration": 139,
    "start_time": "2022-02-04T09:56:01.665Z"
   },
   {
    "duration": 75,
    "start_time": "2022-02-04T09:56:04.969Z"
   },
   {
    "duration": 1059,
    "start_time": "2022-02-04T09:56:17.230Z"
   },
   {
    "duration": 388,
    "start_time": "2022-02-04T09:56:18.290Z"
   },
   {
    "duration": 75,
    "start_time": "2022-02-04T09:56:18.681Z"
   },
   {
    "duration": 18,
    "start_time": "2022-02-04T09:56:18.757Z"
   },
   {
    "duration": 387,
    "start_time": "2022-02-04T09:56:18.777Z"
   },
   {
    "duration": 19,
    "start_time": "2022-02-04T09:56:19.165Z"
   },
   {
    "duration": 243,
    "start_time": "2022-02-04T09:56:19.187Z"
   },
   {
    "duration": 14,
    "start_time": "2022-02-04T09:56:19.432Z"
   },
   {
    "duration": 10,
    "start_time": "2022-02-04T09:56:19.447Z"
   },
   {
    "duration": 374,
    "start_time": "2022-02-04T09:56:19.459Z"
   },
   {
    "duration": 122,
    "start_time": "2022-02-04T09:56:19.835Z"
   },
   {
    "duration": 24,
    "start_time": "2022-02-04T09:56:19.958Z"
   },
   {
    "duration": 2,
    "start_time": "2022-02-04T09:56:19.983Z"
   },
   {
    "duration": 7,
    "start_time": "2022-02-04T09:56:19.986Z"
   },
   {
    "duration": 115,
    "start_time": "2022-02-04T09:56:19.995Z"
   },
   {
    "duration": 144,
    "start_time": "2022-02-04T09:56:20.112Z"
   },
   {
    "duration": 127,
    "start_time": "2022-02-04T09:56:20.257Z"
   },
   {
    "duration": 84,
    "start_time": "2022-02-04T09:56:20.385Z"
   },
   {
    "duration": 2,
    "start_time": "2022-02-04T09:56:20.471Z"
   },
   {
    "duration": 166,
    "start_time": "2022-02-04T09:56:20.475Z"
   },
   {
    "duration": 9123,
    "start_time": "2022-02-04T09:56:20.643Z"
   },
   {
    "duration": 320,
    "start_time": "2022-02-04T09:56:29.449Z"
   },
   {
    "duration": 288,
    "start_time": "2022-02-04T09:56:29.482Z"
   },
   {
    "duration": 284,
    "start_time": "2022-02-04T09:56:29.487Z"
   },
   {
    "duration": 280,
    "start_time": "2022-02-04T09:56:29.492Z"
   },
   {
    "duration": 276,
    "start_time": "2022-02-04T09:56:29.496Z"
   },
   {
    "duration": 273,
    "start_time": "2022-02-04T09:56:29.501Z"
   },
   {
    "duration": 269,
    "start_time": "2022-02-04T09:56:29.506Z"
   },
   {
    "duration": 267,
    "start_time": "2022-02-04T09:56:29.509Z"
   },
   {
    "duration": 265,
    "start_time": "2022-02-04T09:56:29.512Z"
   },
   {
    "duration": 262,
    "start_time": "2022-02-04T09:56:29.516Z"
   },
   {
    "duration": 259,
    "start_time": "2022-02-04T09:56:29.520Z"
   },
   {
    "duration": 256,
    "start_time": "2022-02-04T09:56:29.523Z"
   },
   {
    "duration": 255,
    "start_time": "2022-02-04T09:56:29.525Z"
   },
   {
    "duration": 253,
    "start_time": "2022-02-04T09:56:29.528Z"
   },
   {
    "duration": 250,
    "start_time": "2022-02-04T09:56:29.532Z"
   },
   {
    "duration": 247,
    "start_time": "2022-02-04T09:56:29.536Z"
   },
   {
    "duration": 21,
    "start_time": "2022-02-04T09:57:48.538Z"
   },
   {
    "duration": 430,
    "start_time": "2022-02-04T09:58:43.650Z"
   },
   {
    "duration": 4,
    "start_time": "2022-02-04T10:00:09.457Z"
   },
   {
    "duration": 9483,
    "start_time": "2022-02-04T10:00:14.840Z"
   },
   {
    "duration": 9,
    "start_time": "2022-02-04T10:24:06.624Z"
   },
   {
    "duration": 81,
    "start_time": "2022-02-04T10:24:14.255Z"
   },
   {
    "duration": 76,
    "start_time": "2022-02-04T10:24:54.968Z"
   },
   {
    "duration": 9414,
    "start_time": "2022-02-04T10:37:25.435Z"
   },
   {
    "duration": 210,
    "start_time": "2022-02-04T10:38:57.852Z"
   },
   {
    "duration": 4,
    "start_time": "2022-02-04T10:40:22.308Z"
   },
   {
    "duration": 428,
    "start_time": "2022-02-04T10:41:53.019Z"
   },
   {
    "duration": 444,
    "start_time": "2022-02-04T10:42:09.588Z"
   },
   {
    "duration": 120,
    "start_time": "2022-02-04T10:42:22.387Z"
   },
   {
    "duration": 96,
    "start_time": "2022-02-04T10:42:25.060Z"
   },
   {
    "duration": 26,
    "start_time": "2022-02-04T10:44:11.773Z"
   },
   {
    "duration": 24,
    "start_time": "2022-02-04T10:44:22.546Z"
   },
   {
    "duration": 4,
    "start_time": "2022-02-04T10:49:00.814Z"
   },
   {
    "duration": 33,
    "start_time": "2022-02-04T10:49:49.773Z"
   },
   {
    "duration": 38,
    "start_time": "2022-02-04T10:50:35.061Z"
   },
   {
    "duration": 25,
    "start_time": "2022-02-04T10:50:54.790Z"
   },
   {
    "duration": 19,
    "start_time": "2022-02-04T10:52:13.652Z"
   },
   {
    "duration": 430,
    "start_time": "2022-02-04T10:54:09.784Z"
   },
   {
    "duration": 384,
    "start_time": "2022-02-04T10:54:23.079Z"
   },
   {
    "duration": 25,
    "start_time": "2022-02-04T10:54:31.726Z"
   },
   {
    "duration": 387,
    "start_time": "2022-02-04T10:55:04.495Z"
   },
   {
    "duration": 21,
    "start_time": "2022-02-04T10:55:48.359Z"
   },
   {
    "duration": 35,
    "start_time": "2022-02-04T10:55:54.398Z"
   },
   {
    "duration": 125,
    "start_time": "2022-02-04T10:56:24.069Z"
   },
   {
    "duration": 125,
    "start_time": "2022-02-04T10:56:29.520Z"
   },
   {
    "duration": 126,
    "start_time": "2022-02-04T10:56:49.670Z"
   },
   {
    "duration": 114,
    "start_time": "2022-02-04T10:56:59.855Z"
   },
   {
    "duration": 24,
    "start_time": "2022-02-04T10:57:03.277Z"
   },
   {
    "duration": 379,
    "start_time": "2022-02-04T10:57:37.687Z"
   },
   {
    "duration": 26,
    "start_time": "2022-02-04T10:57:59.471Z"
   },
   {
    "duration": 202,
    "start_time": "2022-02-04T11:03:02.617Z"
   },
   {
    "duration": 32,
    "start_time": "2022-02-04T11:03:19.520Z"
   },
   {
    "duration": 375,
    "start_time": "2022-02-04T11:03:32.311Z"
   },
   {
    "duration": 400,
    "start_time": "2022-02-04T11:03:46.407Z"
   },
   {
    "duration": 702,
    "start_time": "2022-02-04T11:03:49.113Z"
   },
   {
    "duration": 27,
    "start_time": "2022-02-04T11:03:59.416Z"
   },
   {
    "duration": 392,
    "start_time": "2022-02-04T11:05:06.145Z"
   },
   {
    "duration": 61,
    "start_time": "2022-02-04T11:06:42.848Z"
   },
   {
    "duration": 67,
    "start_time": "2022-02-04T11:06:56.273Z"
   },
   {
    "duration": 59,
    "start_time": "2022-02-04T11:07:40.941Z"
   },
   {
    "duration": 376,
    "start_time": "2022-02-04T11:13:11.178Z"
   },
   {
    "duration": 215,
    "start_time": "2022-02-04T11:13:39.018Z"
   },
   {
    "duration": 1049,
    "start_time": "2022-02-04T11:13:56.645Z"
   },
   {
    "duration": 373,
    "start_time": "2022-02-04T11:13:57.696Z"
   },
   {
    "duration": 73,
    "start_time": "2022-02-04T11:13:58.071Z"
   },
   {
    "duration": 18,
    "start_time": "2022-02-04T11:13:58.146Z"
   },
   {
    "duration": 379,
    "start_time": "2022-02-04T11:13:58.166Z"
   },
   {
    "duration": 18,
    "start_time": "2022-02-04T11:13:58.547Z"
   },
   {
    "duration": 235,
    "start_time": "2022-02-04T11:13:58.567Z"
   },
   {
    "duration": 12,
    "start_time": "2022-02-04T11:13:58.805Z"
   },
   {
    "duration": 10,
    "start_time": "2022-02-04T11:13:58.819Z"
   },
   {
    "duration": 388,
    "start_time": "2022-02-04T11:13:58.831Z"
   },
   {
    "duration": 88,
    "start_time": "2022-02-04T11:13:59.221Z"
   },
   {
    "duration": 38,
    "start_time": "2022-02-04T11:13:59.311Z"
   },
   {
    "duration": 24,
    "start_time": "2022-02-04T11:13:59.350Z"
   },
   {
    "duration": 4,
    "start_time": "2022-02-04T11:13:59.376Z"
   },
   {
    "duration": 10,
    "start_time": "2022-02-04T11:13:59.381Z"
   },
   {
    "duration": 38,
    "start_time": "2022-02-04T11:13:59.392Z"
   },
   {
    "duration": 113,
    "start_time": "2022-02-04T11:13:59.431Z"
   },
   {
    "duration": 186,
    "start_time": "2022-02-04T11:13:59.545Z"
   },
   {
    "duration": 3,
    "start_time": "2022-02-04T11:13:59.733Z"
   },
   {
    "duration": 60,
    "start_time": "2022-02-04T11:13:59.738Z"
   },
   {
    "duration": 43,
    "start_time": "2022-02-04T11:13:59.799Z"
   },
   {
    "duration": 440,
    "start_time": "2022-02-04T11:13:59.843Z"
   },
   {
    "duration": 332,
    "start_time": "2022-02-04T11:13:59.953Z"
   },
   {
    "duration": 325,
    "start_time": "2022-02-04T11:13:59.961Z"
   },
   {
    "duration": 322,
    "start_time": "2022-02-04T11:13:59.965Z"
   },
   {
    "duration": 320,
    "start_time": "2022-02-04T11:13:59.968Z"
   },
   {
    "duration": 317,
    "start_time": "2022-02-04T11:13:59.972Z"
   },
   {
    "duration": 314,
    "start_time": "2022-02-04T11:13:59.976Z"
   },
   {
    "duration": 305,
    "start_time": "2022-02-04T11:13:59.986Z"
   },
   {
    "duration": 303,
    "start_time": "2022-02-04T11:13:59.989Z"
   },
   {
    "duration": 300,
    "start_time": "2022-02-04T11:13:59.993Z"
   },
   {
    "duration": 297,
    "start_time": "2022-02-04T11:13:59.997Z"
   },
   {
    "duration": 296,
    "start_time": "2022-02-04T11:13:59.999Z"
   },
   {
    "duration": 294,
    "start_time": "2022-02-04T11:14:00.002Z"
   },
   {
    "duration": 292,
    "start_time": "2022-02-04T11:14:00.005Z"
   },
   {
    "duration": 286,
    "start_time": "2022-02-04T11:14:00.011Z"
   },
   {
    "duration": 281,
    "start_time": "2022-02-04T11:14:00.017Z"
   },
   {
    "duration": 278,
    "start_time": "2022-02-04T11:14:00.021Z"
   },
   {
    "duration": 276,
    "start_time": "2022-02-04T11:14:00.025Z"
   },
   {
    "duration": 273,
    "start_time": "2022-02-04T11:14:00.029Z"
   },
   {
    "duration": 270,
    "start_time": "2022-02-04T11:14:00.032Z"
   },
   {
    "duration": 267,
    "start_time": "2022-02-04T11:14:00.036Z"
   },
   {
    "duration": 265,
    "start_time": "2022-02-04T11:14:00.040Z"
   },
   {
    "duration": 261,
    "start_time": "2022-02-04T11:14:00.045Z"
   },
   {
    "duration": 259,
    "start_time": "2022-02-04T11:14:00.048Z"
   },
   {
    "duration": 256,
    "start_time": "2022-02-04T11:14:00.051Z"
   },
   {
    "duration": 372,
    "start_time": "2022-02-04T11:56:58.015Z"
   },
   {
    "duration": 1015,
    "start_time": "2022-02-04T11:57:10.058Z"
   },
   {
    "duration": 370,
    "start_time": "2022-02-04T11:57:11.075Z"
   },
   {
    "duration": 72,
    "start_time": "2022-02-04T11:57:11.447Z"
   },
   {
    "duration": 22,
    "start_time": "2022-02-04T11:57:11.521Z"
   },
   {
    "duration": 384,
    "start_time": "2022-02-04T11:57:11.544Z"
   },
   {
    "duration": 17,
    "start_time": "2022-02-04T11:57:11.930Z"
   },
   {
    "duration": 240,
    "start_time": "2022-02-04T11:57:11.948Z"
   },
   {
    "duration": 12,
    "start_time": "2022-02-04T11:57:12.190Z"
   },
   {
    "duration": 5,
    "start_time": "2022-02-04T11:57:12.204Z"
   },
   {
    "duration": 404,
    "start_time": "2022-02-04T11:57:12.211Z"
   },
   {
    "duration": 84,
    "start_time": "2022-02-04T11:57:12.617Z"
   },
   {
    "duration": 36,
    "start_time": "2022-02-04T11:57:12.702Z"
   },
   {
    "duration": 2,
    "start_time": "2022-02-04T11:57:12.739Z"
   },
   {
    "duration": 9,
    "start_time": "2022-02-04T11:57:12.743Z"
   },
   {
    "duration": 9,
    "start_time": "2022-02-04T11:57:12.753Z"
   },
   {
    "duration": 19,
    "start_time": "2022-02-04T11:57:12.763Z"
   },
   {
    "duration": 122,
    "start_time": "2022-02-04T11:57:12.784Z"
   },
   {
    "duration": 198,
    "start_time": "2022-02-04T11:57:12.908Z"
   },
   {
    "duration": 3,
    "start_time": "2022-02-04T11:57:13.108Z"
   },
   {
    "duration": 442,
    "start_time": "2022-02-04T11:57:13.113Z"
   },
   {
    "duration": 353,
    "start_time": "2022-02-04T11:57:13.204Z"
   },
   {
    "duration": 350,
    "start_time": "2022-02-04T11:57:13.208Z"
   },
   {
    "duration": 337,
    "start_time": "2022-02-04T11:57:13.222Z"
   },
   {
    "duration": 334,
    "start_time": "2022-02-04T11:57:13.226Z"
   },
   {
    "duration": 333,
    "start_time": "2022-02-04T11:57:13.230Z"
   },
   {
    "duration": 330,
    "start_time": "2022-02-04T11:57:13.234Z"
   },
   {
    "duration": 329,
    "start_time": "2022-02-04T11:57:13.236Z"
   },
   {
    "duration": 327,
    "start_time": "2022-02-04T11:57:13.239Z"
   },
   {
    "duration": 325,
    "start_time": "2022-02-04T11:57:13.242Z"
   },
   {
    "duration": 322,
    "start_time": "2022-02-04T11:57:13.246Z"
   },
   {
    "duration": 321,
    "start_time": "2022-02-04T11:57:13.248Z"
   },
   {
    "duration": 319,
    "start_time": "2022-02-04T11:57:13.251Z"
   },
   {
    "duration": 317,
    "start_time": "2022-02-04T11:57:13.254Z"
   },
   {
    "duration": 315,
    "start_time": "2022-02-04T11:57:13.257Z"
   },
   {
    "duration": 314,
    "start_time": "2022-02-04T11:57:13.259Z"
   },
   {
    "duration": 312,
    "start_time": "2022-02-04T11:57:13.262Z"
   },
   {
    "duration": 310,
    "start_time": "2022-02-04T11:57:13.265Z"
   },
   {
    "duration": 307,
    "start_time": "2022-02-04T11:57:13.268Z"
   },
   {
    "duration": 305,
    "start_time": "2022-02-04T11:57:13.271Z"
   },
   {
    "duration": 303,
    "start_time": "2022-02-04T11:57:13.274Z"
   },
   {
    "duration": 301,
    "start_time": "2022-02-04T11:57:13.277Z"
   },
   {
    "duration": 299,
    "start_time": "2022-02-04T11:57:13.280Z"
   },
   {
    "duration": 297,
    "start_time": "2022-02-04T11:57:13.283Z"
   },
   {
    "duration": 295,
    "start_time": "2022-02-04T11:57:13.286Z"
   },
   {
    "duration": 294,
    "start_time": "2022-02-04T11:57:13.288Z"
   },
   {
    "duration": 292,
    "start_time": "2022-02-04T11:57:13.291Z"
   },
   {
    "duration": 188,
    "start_time": "2022-02-04T12:00:54.669Z"
   },
   {
    "duration": 25,
    "start_time": "2022-02-04T12:00:59.500Z"
   },
   {
    "duration": 92,
    "start_time": "2022-02-04T12:01:01.812Z"
   },
   {
    "duration": 1695,
    "start_time": "2022-02-05T09:56:08.300Z"
   },
   {
    "duration": 762,
    "start_time": "2022-02-05T09:56:09.999Z"
   },
   {
    "duration": 231,
    "start_time": "2022-02-05T09:56:10.764Z"
   },
   {
    "duration": 41,
    "start_time": "2022-02-05T09:56:10.999Z"
   },
   {
    "duration": 734,
    "start_time": "2022-02-05T09:56:11.043Z"
   },
   {
    "duration": 46,
    "start_time": "2022-02-05T09:56:11.781Z"
   },
   {
    "duration": 428,
    "start_time": "2022-02-05T09:56:11.830Z"
   },
   {
    "duration": 35,
    "start_time": "2022-02-05T09:56:12.264Z"
   },
   {
    "duration": 16,
    "start_time": "2022-02-05T09:56:12.302Z"
   },
   {
    "duration": 630,
    "start_time": "2022-02-05T09:56:12.321Z"
   },
   {
    "duration": 147,
    "start_time": "2022-02-05T09:56:12.953Z"
   },
   {
    "duration": 82,
    "start_time": "2022-02-05T09:56:13.103Z"
   },
   {
    "duration": 131,
    "start_time": "2022-02-05T09:56:13.188Z"
   },
   {
    "duration": -720,
    "start_time": "2022-02-05T09:56:14.042Z"
   },
   {
    "duration": -727,
    "start_time": "2022-02-05T09:56:14.051Z"
   },
   {
    "duration": -740,
    "start_time": "2022-02-05T09:56:14.065Z"
   },
   {
    "duration": -748,
    "start_time": "2022-02-05T09:56:14.075Z"
   },
   {
    "duration": -757,
    "start_time": "2022-02-05T09:56:14.085Z"
   },
   {
    "duration": -762,
    "start_time": "2022-02-05T09:56:14.092Z"
   },
   {
    "duration": -771,
    "start_time": "2022-02-05T09:56:14.102Z"
   },
   {
    "duration": -777,
    "start_time": "2022-02-05T09:56:14.110Z"
   },
   {
    "duration": -786,
    "start_time": "2022-02-05T09:56:14.120Z"
   },
   {
    "duration": -792,
    "start_time": "2022-02-05T09:56:14.127Z"
   },
   {
    "duration": -817,
    "start_time": "2022-02-05T09:56:14.154Z"
   },
   {
    "duration": -822,
    "start_time": "2022-02-05T09:56:14.161Z"
   },
   {
    "duration": -829,
    "start_time": "2022-02-05T09:56:14.169Z"
   },
   {
    "duration": -835,
    "start_time": "2022-02-05T09:56:14.176Z"
   },
   {
    "duration": -841,
    "start_time": "2022-02-05T09:56:14.183Z"
   },
   {
    "duration": -872,
    "start_time": "2022-02-05T09:56:14.215Z"
   },
   {
    "duration": -879,
    "start_time": "2022-02-05T09:56:14.223Z"
   },
   {
    "duration": -886,
    "start_time": "2022-02-05T09:56:14.231Z"
   },
   {
    "duration": -893,
    "start_time": "2022-02-05T09:56:14.239Z"
   },
   {
    "duration": -899,
    "start_time": "2022-02-05T09:56:14.246Z"
   },
   {
    "duration": -918,
    "start_time": "2022-02-05T09:56:14.266Z"
   },
   {
    "duration": -925,
    "start_time": "2022-02-05T09:56:14.274Z"
   },
   {
    "duration": -935,
    "start_time": "2022-02-05T09:56:14.285Z"
   },
   {
    "duration": -941,
    "start_time": "2022-02-05T09:56:14.292Z"
   },
   {
    "duration": -949,
    "start_time": "2022-02-05T09:56:14.301Z"
   },
   {
    "duration": -956,
    "start_time": "2022-02-05T09:56:14.309Z"
   },
   {
    "duration": -967,
    "start_time": "2022-02-05T09:56:14.322Z"
   },
   {
    "duration": -975,
    "start_time": "2022-02-05T09:56:14.331Z"
   },
   {
    "duration": -980,
    "start_time": "2022-02-05T09:56:14.338Z"
   },
   {
    "duration": -987,
    "start_time": "2022-02-05T09:56:14.346Z"
   },
   {
    "duration": -992,
    "start_time": "2022-02-05T09:56:14.353Z"
   },
   {
    "duration": -998,
    "start_time": "2022-02-05T09:56:14.360Z"
   },
   {
    "duration": -1005,
    "start_time": "2022-02-05T09:56:14.381Z"
   },
   {
    "duration": -1011,
    "start_time": "2022-02-05T09:56:14.389Z"
   },
   {
    "duration": 1458,
    "start_time": "2022-02-05T09:59:13.960Z"
   },
   {
    "duration": 543,
    "start_time": "2022-02-05T09:59:15.422Z"
   },
   {
    "duration": 147,
    "start_time": "2022-02-05T09:59:15.970Z"
   },
   {
    "duration": 52,
    "start_time": "2022-02-05T09:59:16.120Z"
   },
   {
    "duration": 587,
    "start_time": "2022-02-05T09:59:16.175Z"
   },
   {
    "duration": 33,
    "start_time": "2022-02-05T09:59:16.768Z"
   },
   {
    "duration": 461,
    "start_time": "2022-02-05T09:59:16.804Z"
   },
   {
    "duration": 22,
    "start_time": "2022-02-05T09:59:17.271Z"
   },
   {
    "duration": 7,
    "start_time": "2022-02-05T09:59:17.296Z"
   },
   {
    "duration": 628,
    "start_time": "2022-02-05T09:59:17.305Z"
   },
   {
    "duration": 133,
    "start_time": "2022-02-05T09:59:17.936Z"
   },
   {
    "duration": 44,
    "start_time": "2022-02-05T09:59:18.072Z"
   },
   {
    "duration": 6,
    "start_time": "2022-02-05T09:59:18.119Z"
   },
   {
    "duration": 17,
    "start_time": "2022-02-05T09:59:18.127Z"
   },
   {
    "duration": 16,
    "start_time": "2022-02-05T09:59:18.171Z"
   },
   {
    "duration": 30,
    "start_time": "2022-02-05T09:59:18.191Z"
   },
   {
    "duration": 168,
    "start_time": "2022-02-05T09:59:18.224Z"
   },
   {
    "duration": 304,
    "start_time": "2022-02-05T09:59:18.395Z"
   },
   {
    "duration": 5,
    "start_time": "2022-02-05T09:59:18.701Z"
   },
   {
    "duration": 41,
    "start_time": "2022-02-05T09:59:18.708Z"
   },
   {
    "duration": 156,
    "start_time": "2022-02-05T09:59:18.751Z"
   },
   {
    "duration": 44,
    "start_time": "2022-02-05T09:59:18.909Z"
   },
   {
    "duration": 425,
    "start_time": "2022-02-05T09:59:18.970Z"
   },
   {
    "duration": -728,
    "start_time": "2022-02-05T09:59:20.126Z"
   },
   {
    "duration": -732,
    "start_time": "2022-02-05T09:59:20.132Z"
   },
   {
    "duration": -750,
    "start_time": "2022-02-05T09:59:20.151Z"
   },
   {
    "duration": -756,
    "start_time": "2022-02-05T09:59:20.158Z"
   },
   {
    "duration": -762,
    "start_time": "2022-02-05T09:59:20.166Z"
   },
   {
    "duration": -769,
    "start_time": "2022-02-05T09:59:20.174Z"
   },
   {
    "duration": -776,
    "start_time": "2022-02-05T09:59:20.182Z"
   },
   {
    "duration": -781,
    "start_time": "2022-02-05T09:59:20.189Z"
   },
   {
    "duration": -787,
    "start_time": "2022-02-05T09:59:20.197Z"
   },
   {
    "duration": -795,
    "start_time": "2022-02-05T09:59:20.206Z"
   },
   {
    "duration": -799,
    "start_time": "2022-02-05T09:59:20.212Z"
   },
   {
    "duration": -804,
    "start_time": "2022-02-05T09:59:20.218Z"
   },
   {
    "duration": -809,
    "start_time": "2022-02-05T09:59:20.225Z"
   },
   {
    "duration": -814,
    "start_time": "2022-02-05T09:59:20.232Z"
   },
   {
    "duration": -819,
    "start_time": "2022-02-05T09:59:20.239Z"
   },
   {
    "duration": -824,
    "start_time": "2022-02-05T09:59:20.245Z"
   },
   {
    "duration": -845,
    "start_time": "2022-02-05T09:59:20.268Z"
   },
   {
    "duration": -851,
    "start_time": "2022-02-05T09:59:20.275Z"
   },
   {
    "duration": -856,
    "start_time": "2022-02-05T09:59:20.282Z"
   },
   {
    "duration": -862,
    "start_time": "2022-02-05T09:59:20.289Z"
   },
   {
    "duration": -866,
    "start_time": "2022-02-05T09:59:20.295Z"
   },
   {
    "duration": -870,
    "start_time": "2022-02-05T09:59:20.301Z"
   },
   {
    "duration": -877,
    "start_time": "2022-02-05T09:59:20.309Z"
   },
   {
    "duration": -845,
    "start_time": "2022-02-05T09:59:20.315Z"
   },
   {
    "duration": 345,
    "start_time": "2022-02-05T11:19:49.970Z"
   },
   {
    "duration": 110,
    "start_time": "2022-02-05T11:20:34.868Z"
   },
   {
    "duration": 1379,
    "start_time": "2022-02-05T11:45:01.165Z"
   },
   {
    "duration": 787,
    "start_time": "2022-02-05T11:45:02.547Z"
   },
   {
    "duration": 151,
    "start_time": "2022-02-05T11:45:03.337Z"
   },
   {
    "duration": 28,
    "start_time": "2022-02-05T11:45:03.491Z"
   },
   {
    "duration": 613,
    "start_time": "2022-02-05T11:45:03.522Z"
   },
   {
    "duration": 46,
    "start_time": "2022-02-05T11:45:04.138Z"
   },
   {
    "duration": 350,
    "start_time": "2022-02-05T11:45:04.186Z"
   },
   {
    "duration": 31,
    "start_time": "2022-02-05T11:45:04.538Z"
   },
   {
    "duration": 16,
    "start_time": "2022-02-05T11:45:04.573Z"
   },
   {
    "duration": 2688,
    "start_time": "2022-02-05T11:45:04.592Z"
   },
   {
    "duration": -721,
    "start_time": "2022-02-05T11:45:08.004Z"
   },
   {
    "duration": -725,
    "start_time": "2022-02-05T11:45:08.010Z"
   },
   {
    "duration": -730,
    "start_time": "2022-02-05T11:45:08.016Z"
   },
   {
    "duration": -733,
    "start_time": "2022-02-05T11:45:08.020Z"
   },
   {
    "duration": -735,
    "start_time": "2022-02-05T11:45:08.024Z"
   },
   {
    "duration": -737,
    "start_time": "2022-02-05T11:45:08.028Z"
   },
   {
    "duration": -742,
    "start_time": "2022-02-05T11:45:08.034Z"
   },
   {
    "duration": -745,
    "start_time": "2022-02-05T11:45:08.039Z"
   },
   {
    "duration": -748,
    "start_time": "2022-02-05T11:45:08.044Z"
   },
   {
    "duration": -761,
    "start_time": "2022-02-05T11:45:08.058Z"
   },
   {
    "duration": -762,
    "start_time": "2022-02-05T11:45:08.061Z"
   },
   {
    "duration": -765,
    "start_time": "2022-02-05T11:45:08.065Z"
   },
   {
    "duration": -767,
    "start_time": "2022-02-05T11:45:08.069Z"
   },
   {
    "duration": -769,
    "start_time": "2022-02-05T11:45:08.072Z"
   },
   {
    "duration": -771,
    "start_time": "2022-02-05T11:45:08.076Z"
   },
   {
    "duration": -773,
    "start_time": "2022-02-05T11:45:08.079Z"
   },
   {
    "duration": -775,
    "start_time": "2022-02-05T11:45:08.083Z"
   },
   {
    "duration": -777,
    "start_time": "2022-02-05T11:45:08.086Z"
   },
   {
    "duration": -779,
    "start_time": "2022-02-05T11:45:08.089Z"
   },
   {
    "duration": -781,
    "start_time": "2022-02-05T11:45:08.093Z"
   },
   {
    "duration": -785,
    "start_time": "2022-02-05T11:45:08.099Z"
   },
   {
    "duration": -788,
    "start_time": "2022-02-05T11:45:08.103Z"
   },
   {
    "duration": -791,
    "start_time": "2022-02-05T11:45:08.108Z"
   },
   {
    "duration": -795,
    "start_time": "2022-02-05T11:45:08.113Z"
   },
   {
    "duration": -944,
    "start_time": "2022-02-05T11:45:08.264Z"
   },
   {
    "duration": -1027,
    "start_time": "2022-02-05T11:45:08.348Z"
   },
   {
    "duration": -982,
    "start_time": "2022-02-05T11:45:08.352Z"
   },
   {
    "duration": -984,
    "start_time": "2022-02-05T11:45:08.355Z"
   },
   {
    "duration": -986,
    "start_time": "2022-02-05T11:45:08.359Z"
   },
   {
    "duration": -988,
    "start_time": "2022-02-05T11:45:08.362Z"
   },
   {
    "duration": -990,
    "start_time": "2022-02-05T11:45:08.366Z"
   },
   {
    "duration": -994,
    "start_time": "2022-02-05T11:45:08.371Z"
   },
   {
    "duration": -1001,
    "start_time": "2022-02-05T11:45:08.382Z"
   },
   {
    "duration": -1003,
    "start_time": "2022-02-05T11:45:08.386Z"
   },
   {
    "duration": -1007,
    "start_time": "2022-02-05T11:45:08.391Z"
   },
   {
    "duration": -1009,
    "start_time": "2022-02-05T11:45:08.395Z"
   },
   {
    "duration": -1012,
    "start_time": "2022-02-05T11:45:08.400Z"
   },
   {
    "duration": 39,
    "start_time": "2022-02-05T11:47:21.566Z"
   },
   {
    "duration": 1935,
    "start_time": "2022-02-05T11:48:42.298Z"
   },
   {
    "duration": 593,
    "start_time": "2022-02-05T11:49:24.776Z"
   },
   {
    "duration": 49,
    "start_time": "2022-02-05T11:49:32.988Z"
   },
   {
    "duration": 114,
    "start_time": "2022-02-05T11:49:41.329Z"
   },
   {
    "duration": 346,
    "start_time": "2022-02-05T11:50:14.414Z"
   },
   {
    "duration": 337,
    "start_time": "2022-02-05T11:50:20.704Z"
   },
   {
    "duration": 1368,
    "start_time": "2022-02-05T13:07:59.178Z"
   },
   {
    "duration": 595,
    "start_time": "2022-02-05T13:08:00.549Z"
   },
   {
    "duration": 148,
    "start_time": "2022-02-05T13:08:01.148Z"
   },
   {
    "duration": 27,
    "start_time": "2022-02-05T13:08:01.299Z"
   },
   {
    "duration": 594,
    "start_time": "2022-02-05T13:08:01.328Z"
   },
   {
    "duration": 46,
    "start_time": "2022-02-05T13:08:01.925Z"
   },
   {
    "duration": 437,
    "start_time": "2022-02-05T13:08:01.973Z"
   },
   {
    "duration": 22,
    "start_time": "2022-02-05T13:08:02.414Z"
   },
   {
    "duration": 17,
    "start_time": "2022-02-05T13:08:02.439Z"
   },
   {
    "duration": 44,
    "start_time": "2022-02-05T13:08:02.470Z"
   },
   {
    "duration": 7348,
    "start_time": "2022-02-05T13:08:02.517Z"
   },
   {
    "duration": -1251,
    "start_time": "2022-02-05T13:08:11.120Z"
   },
   {
    "duration": -1262,
    "start_time": "2022-02-05T13:08:11.132Z"
   },
   {
    "duration": -1270,
    "start_time": "2022-02-05T13:08:11.141Z"
   },
   {
    "duration": -1280,
    "start_time": "2022-02-05T13:08:11.153Z"
   },
   {
    "duration": -1288,
    "start_time": "2022-02-05T13:08:11.162Z"
   },
   {
    "duration": -1297,
    "start_time": "2022-02-05T13:08:11.173Z"
   },
   {
    "duration": -1306,
    "start_time": "2022-02-05T13:08:11.183Z"
   },
   {
    "duration": -1344,
    "start_time": "2022-02-05T13:08:11.223Z"
   },
   {
    "duration": -1358,
    "start_time": "2022-02-05T13:08:11.238Z"
   },
   {
    "duration": -1370,
    "start_time": "2022-02-05T13:08:11.252Z"
   },
   {
    "duration": -1378,
    "start_time": "2022-02-05T13:08:11.262Z"
   },
   {
    "duration": -1384,
    "start_time": "2022-02-05T13:08:11.269Z"
   },
   {
    "duration": -1388,
    "start_time": "2022-02-05T13:08:11.275Z"
   },
   {
    "duration": -1394,
    "start_time": "2022-02-05T13:08:11.282Z"
   },
   {
    "duration": -1398,
    "start_time": "2022-02-05T13:08:11.288Z"
   },
   {
    "duration": -1404,
    "start_time": "2022-02-05T13:08:11.295Z"
   },
   {
    "duration": -1409,
    "start_time": "2022-02-05T13:08:11.302Z"
   },
   {
    "duration": -1413,
    "start_time": "2022-02-05T13:08:11.308Z"
   },
   {
    "duration": -1433,
    "start_time": "2022-02-05T13:08:11.329Z"
   },
   {
    "duration": -1440,
    "start_time": "2022-02-05T13:08:11.337Z"
   },
   {
    "duration": -1444,
    "start_time": "2022-02-05T13:08:11.342Z"
   },
   {
    "duration": -1450,
    "start_time": "2022-02-05T13:08:11.349Z"
   },
   {
    "duration": -1452,
    "start_time": "2022-02-05T13:08:11.353Z"
   },
   {
    "duration": -1455,
    "start_time": "2022-02-05T13:08:11.357Z"
   },
   {
    "duration": -1459,
    "start_time": "2022-02-05T13:08:11.362Z"
   },
   {
    "duration": -1480,
    "start_time": "2022-02-05T13:08:11.385Z"
   },
   {
    "duration": -1482,
    "start_time": "2022-02-05T13:08:11.388Z"
   },
   {
    "duration": -1484,
    "start_time": "2022-02-05T13:08:11.391Z"
   },
   {
    "duration": -1485,
    "start_time": "2022-02-05T13:08:11.394Z"
   },
   {
    "duration": -1488,
    "start_time": "2022-02-05T13:08:11.398Z"
   },
   {
    "duration": -1493,
    "start_time": "2022-02-05T13:08:11.404Z"
   },
   {
    "duration": -1441,
    "start_time": "2022-02-05T13:08:11.410Z"
   },
   {
    "duration": -1442,
    "start_time": "2022-02-05T13:08:11.413Z"
   },
   {
    "duration": -1439,
    "start_time": "2022-02-05T13:08:11.416Z"
   },
   {
    "duration": -1440,
    "start_time": "2022-02-05T13:08:11.418Z"
   },
   {
    "duration": -1443,
    "start_time": "2022-02-05T13:08:11.422Z"
   },
   {
    "duration": -1443,
    "start_time": "2022-02-05T13:08:11.424Z"
   },
   {
    "duration": -1452,
    "start_time": "2022-02-05T13:08:11.435Z"
   },
   {
    "duration": 1408,
    "start_time": "2022-02-05T13:08:40.131Z"
   },
   {
    "duration": 543,
    "start_time": "2022-02-05T13:08:41.541Z"
   },
   {
    "duration": 134,
    "start_time": "2022-02-05T13:08:42.087Z"
   },
   {
    "duration": 50,
    "start_time": "2022-02-05T13:08:42.225Z"
   },
   {
    "duration": 572,
    "start_time": "2022-02-05T13:08:42.278Z"
   },
   {
    "duration": 42,
    "start_time": "2022-02-05T13:08:42.853Z"
   },
   {
    "duration": 352,
    "start_time": "2022-02-05T13:08:42.898Z"
   },
   {
    "duration": 30,
    "start_time": "2022-02-05T13:08:43.253Z"
   },
   {
    "duration": 6,
    "start_time": "2022-02-05T13:08:43.288Z"
   },
   {
    "duration": 40,
    "start_time": "2022-02-05T13:08:43.297Z"
   },
   {
    "duration": 599,
    "start_time": "2022-02-05T13:08:43.339Z"
   },
   {
    "duration": 131,
    "start_time": "2022-02-05T13:08:43.941Z"
   },
   {
    "duration": 45,
    "start_time": "2022-02-05T13:08:44.075Z"
   },
   {
    "duration": 137,
    "start_time": "2022-02-05T13:08:44.123Z"
   },
   {
    "duration": 501,
    "start_time": "2022-02-05T13:08:44.263Z"
   },
   {
    "duration": -753,
    "start_time": "2022-02-05T13:08:45.521Z"
   },
   {
    "duration": -759,
    "start_time": "2022-02-05T13:08:45.529Z"
   },
   {
    "duration": -766,
    "start_time": "2022-02-05T13:08:45.538Z"
   },
   {
    "duration": -774,
    "start_time": "2022-02-05T13:08:45.548Z"
   },
   {
    "duration": -780,
    "start_time": "2022-02-05T13:08:45.556Z"
   },
   {
    "duration": -786,
    "start_time": "2022-02-05T13:08:45.564Z"
   },
   {
    "duration": -791,
    "start_time": "2022-02-05T13:08:45.571Z"
   },
   {
    "duration": -797,
    "start_time": "2022-02-05T13:08:45.579Z"
   },
   {
    "duration": -802,
    "start_time": "2022-02-05T13:08:45.586Z"
   },
   {
    "duration": -814,
    "start_time": "2022-02-05T13:08:45.600Z"
   },
   {
    "duration": -816,
    "start_time": "2022-02-05T13:08:45.604Z"
   },
   {
    "duration": -819,
    "start_time": "2022-02-05T13:08:45.609Z"
   },
   {
    "duration": -822,
    "start_time": "2022-02-05T13:08:45.614Z"
   },
   {
    "duration": -824,
    "start_time": "2022-02-05T13:08:45.619Z"
   },
   {
    "duration": -824,
    "start_time": "2022-02-05T13:08:45.623Z"
   },
   {
    "duration": -826,
    "start_time": "2022-02-05T13:08:45.627Z"
   },
   {
    "duration": -828,
    "start_time": "2022-02-05T13:08:45.631Z"
   },
   {
    "duration": -929,
    "start_time": "2022-02-05T13:08:45.734Z"
   },
   {
    "duration": -930,
    "start_time": "2022-02-05T13:08:45.737Z"
   },
   {
    "duration": -931,
    "start_time": "2022-02-05T13:08:45.740Z"
   },
   {
    "duration": -932,
    "start_time": "2022-02-05T13:08:45.743Z"
   },
   {
    "duration": -934,
    "start_time": "2022-02-05T13:08:45.746Z"
   },
   {
    "duration": -879,
    "start_time": "2022-02-05T13:08:45.749Z"
   },
   {
    "duration": -880,
    "start_time": "2022-02-05T13:08:45.752Z"
   },
   {
    "duration": -881,
    "start_time": "2022-02-05T13:08:45.755Z"
   },
   {
    "duration": -923,
    "start_time": "2022-02-05T13:08:45.799Z"
   },
   {
    "duration": -922,
    "start_time": "2022-02-05T13:08:45.802Z"
   },
   {
    "duration": -922,
    "start_time": "2022-02-05T13:08:45.804Z"
   },
   {
    "duration": -923,
    "start_time": "2022-02-05T13:08:45.807Z"
   },
   {
    "duration": -925,
    "start_time": "2022-02-05T13:08:45.811Z"
   },
   {
    "duration": -925,
    "start_time": "2022-02-05T13:08:45.813Z"
   },
   {
    "duration": -926,
    "start_time": "2022-02-05T13:08:45.816Z"
   },
   {
    "duration": -927,
    "start_time": "2022-02-05T13:08:45.819Z"
   },
   {
    "duration": 359,
    "start_time": "2022-02-06T02:52:31.652Z"
   },
   {
    "duration": 961,
    "start_time": "2022-02-06T02:52:45.134Z"
   },
   {
    "duration": 368,
    "start_time": "2022-02-06T02:52:46.097Z"
   },
   {
    "duration": 72,
    "start_time": "2022-02-06T02:52:46.467Z"
   },
   {
    "duration": 17,
    "start_time": "2022-02-06T02:52:46.541Z"
   },
   {
    "duration": 385,
    "start_time": "2022-02-06T02:52:46.559Z"
   },
   {
    "duration": 17,
    "start_time": "2022-02-06T02:52:46.946Z"
   },
   {
    "duration": 237,
    "start_time": "2022-02-06T02:52:46.964Z"
   },
   {
    "duration": 13,
    "start_time": "2022-02-06T02:52:47.203Z"
   },
   {
    "duration": 3,
    "start_time": "2022-02-06T02:52:47.228Z"
   },
   {
    "duration": 22,
    "start_time": "2022-02-06T02:52:47.232Z"
   },
   {
    "duration": 378,
    "start_time": "2022-02-06T02:52:47.255Z"
   },
   {
    "duration": 93,
    "start_time": "2022-02-06T02:52:47.635Z"
   },
   {
    "duration": 25,
    "start_time": "2022-02-06T02:52:47.730Z"
   },
   {
    "duration": 153,
    "start_time": "2022-02-06T02:52:47.756Z"
   },
   {
    "duration": 449,
    "start_time": "2022-02-06T02:52:47.911Z"
   },
   {
    "duration": -1400,
    "start_time": "2022-02-06T02:52:49.762Z"
   },
   {
    "duration": -1415,
    "start_time": "2022-02-06T02:52:49.778Z"
   },
   {
    "duration": -1418,
    "start_time": "2022-02-06T02:52:49.782Z"
   },
   {
    "duration": -1420,
    "start_time": "2022-02-06T02:52:49.785Z"
   },
   {
    "duration": -1425,
    "start_time": "2022-02-06T02:52:49.791Z"
   },
   {
    "duration": -1428,
    "start_time": "2022-02-06T02:52:49.795Z"
   },
   {
    "duration": -1430,
    "start_time": "2022-02-06T02:52:49.798Z"
   },
   {
    "duration": -1433,
    "start_time": "2022-02-06T02:52:49.802Z"
   },
   {
    "duration": -1436,
    "start_time": "2022-02-06T02:52:49.806Z"
   },
   {
    "duration": -1439,
    "start_time": "2022-02-06T02:52:49.810Z"
   },
   {
    "duration": -1441,
    "start_time": "2022-02-06T02:52:49.813Z"
   },
   {
    "duration": -1444,
    "start_time": "2022-02-06T02:52:49.817Z"
   },
   {
    "duration": -1446,
    "start_time": "2022-02-06T02:52:49.820Z"
   },
   {
    "duration": -1449,
    "start_time": "2022-02-06T02:52:49.824Z"
   },
   {
    "duration": -1451,
    "start_time": "2022-02-06T02:52:49.827Z"
   },
   {
    "duration": -1455,
    "start_time": "2022-02-06T02:52:49.832Z"
   },
   {
    "duration": -1458,
    "start_time": "2022-02-06T02:52:49.835Z"
   },
   {
    "duration": -1461,
    "start_time": "2022-02-06T02:52:49.840Z"
   },
   {
    "duration": -1468,
    "start_time": "2022-02-06T02:52:49.847Z"
   },
   {
    "duration": -1473,
    "start_time": "2022-02-06T02:52:49.853Z"
   },
   {
    "duration": -1477,
    "start_time": "2022-02-06T02:52:49.858Z"
   },
   {
    "duration": -1482,
    "start_time": "2022-02-06T02:52:49.864Z"
   },
   {
    "duration": -1486,
    "start_time": "2022-02-06T02:52:49.869Z"
   },
   {
    "duration": -1502,
    "start_time": "2022-02-06T02:52:49.885Z"
   },
   {
    "duration": -1508,
    "start_time": "2022-02-06T02:52:49.892Z"
   },
   {
    "duration": -1513,
    "start_time": "2022-02-06T02:52:49.898Z"
   },
   {
    "duration": -1517,
    "start_time": "2022-02-06T02:52:49.903Z"
   },
   {
    "duration": -1523,
    "start_time": "2022-02-06T02:52:49.909Z"
   },
   {
    "duration": -1527,
    "start_time": "2022-02-06T02:52:49.914Z"
   },
   {
    "duration": -1532,
    "start_time": "2022-02-06T02:52:49.920Z"
   },
   {
    "duration": -1536,
    "start_time": "2022-02-06T02:52:49.925Z"
   },
   {
    "duration": -1541,
    "start_time": "2022-02-06T02:52:49.931Z"
   },
   {
    "duration": -1548,
    "start_time": "2022-02-06T02:52:49.938Z"
   },
   {
    "duration": 100,
    "start_time": "2022-02-06T02:53:29.752Z"
   },
   {
    "duration": 72,
    "start_time": "2022-02-06T02:53:33.868Z"
   },
   {
    "duration": 196,
    "start_time": "2022-02-06T03:09:33.226Z"
   },
   {
    "duration": 35,
    "start_time": "2022-02-06T03:11:57.714Z"
   },
   {
    "duration": 195,
    "start_time": "2022-02-06T03:12:08.700Z"
   },
   {
    "duration": 33,
    "start_time": "2022-02-06T03:13:49.358Z"
   },
   {
    "duration": 197,
    "start_time": "2022-02-06T03:13:51.533Z"
   },
   {
    "duration": 5,
    "start_time": "2022-02-06T03:14:10.492Z"
   },
   {
    "duration": 9,
    "start_time": "2022-02-06T03:14:12.676Z"
   },
   {
    "duration": 18,
    "start_time": "2022-02-06T03:14:25.980Z"
   },
   {
    "duration": 85,
    "start_time": "2022-02-06T03:14:33.471Z"
   },
   {
    "duration": 352,
    "start_time": "2022-02-06T03:16:04.876Z"
   },
   {
    "duration": 1015,
    "start_time": "2022-02-06T03:16:22.972Z"
   },
   {
    "duration": 388,
    "start_time": "2022-02-06T03:16:23.988Z"
   },
   {
    "duration": 74,
    "start_time": "2022-02-06T03:16:24.378Z"
   },
   {
    "duration": 17,
    "start_time": "2022-02-06T03:16:24.454Z"
   },
   {
    "duration": 368,
    "start_time": "2022-02-06T03:16:24.472Z"
   },
   {
    "duration": 17,
    "start_time": "2022-02-06T03:16:24.842Z"
   },
   {
    "duration": 233,
    "start_time": "2022-02-06T03:16:24.860Z"
   },
   {
    "duration": 13,
    "start_time": "2022-02-06T03:16:25.095Z"
   },
   {
    "duration": 17,
    "start_time": "2022-02-06T03:16:25.110Z"
   },
   {
    "duration": 24,
    "start_time": "2022-02-06T03:16:25.128Z"
   },
   {
    "duration": 138,
    "start_time": "2022-02-06T03:16:25.154Z"
   },
   {
    "duration": 21,
    "start_time": "2022-02-06T03:16:25.293Z"
   },
   {
    "duration": 135,
    "start_time": "2022-02-06T03:16:25.316Z"
   },
   {
    "duration": 131,
    "start_time": "2022-02-06T03:16:25.452Z"
   },
   {
    "duration": 22,
    "start_time": "2022-02-06T03:16:25.584Z"
   },
   {
    "duration": 341,
    "start_time": "2022-02-06T03:16:25.608Z"
   },
   {
    "duration": 35,
    "start_time": "2022-02-06T03:16:25.950Z"
   },
   {
    "duration": 24,
    "start_time": "2022-02-06T03:16:25.986Z"
   },
   {
    "duration": 17,
    "start_time": "2022-02-06T03:16:26.011Z"
   },
   {
    "duration": 8,
    "start_time": "2022-02-06T03:16:26.029Z"
   },
   {
    "duration": 18,
    "start_time": "2022-02-06T03:16:26.038Z"
   },
   {
    "duration": 252,
    "start_time": "2022-02-06T03:16:26.057Z"
   },
   {
    "duration": 3,
    "start_time": "2022-02-06T03:16:26.312Z"
   },
   {
    "duration": 10,
    "start_time": "2022-02-06T03:16:26.317Z"
   },
   {
    "duration": 436,
    "start_time": "2022-02-06T03:16:26.329Z"
   },
   {
    "duration": -1435,
    "start_time": "2022-02-06T03:16:28.201Z"
   },
   {
    "duration": -1445,
    "start_time": "2022-02-06T03:16:28.212Z"
   },
   {
    "duration": -1452,
    "start_time": "2022-02-06T03:16:28.220Z"
   },
   {
    "duration": -1460,
    "start_time": "2022-02-06T03:16:28.229Z"
   },
   {
    "duration": -1469,
    "start_time": "2022-02-06T03:16:28.238Z"
   },
   {
    "duration": -1478,
    "start_time": "2022-02-06T03:16:28.248Z"
   },
   {
    "duration": -1488,
    "start_time": "2022-02-06T03:16:28.259Z"
   },
   {
    "duration": -1496,
    "start_time": "2022-02-06T03:16:28.268Z"
   },
   {
    "duration": -1504,
    "start_time": "2022-02-06T03:16:28.276Z"
   },
   {
    "duration": -1511,
    "start_time": "2022-02-06T03:16:28.284Z"
   },
   {
    "duration": -1521,
    "start_time": "2022-02-06T03:16:28.295Z"
   },
   {
    "duration": -1544,
    "start_time": "2022-02-06T03:16:28.319Z"
   },
   {
    "duration": -1552,
    "start_time": "2022-02-06T03:16:28.328Z"
   },
   {
    "duration": -1564,
    "start_time": "2022-02-06T03:16:28.340Z"
   },
   {
    "duration": -1571,
    "start_time": "2022-02-06T03:16:28.348Z"
   },
   {
    "duration": -1578,
    "start_time": "2022-02-06T03:16:28.356Z"
   },
   {
    "duration": -1584,
    "start_time": "2022-02-06T03:16:28.363Z"
   },
   {
    "duration": -1592,
    "start_time": "2022-02-06T03:16:28.372Z"
   },
   {
    "duration": -1600,
    "start_time": "2022-02-06T03:16:28.380Z"
   },
   {
    "duration": -1607,
    "start_time": "2022-02-06T03:16:28.388Z"
   },
   {
    "duration": -1613,
    "start_time": "2022-02-06T03:16:28.395Z"
   },
   {
    "duration": -1622,
    "start_time": "2022-02-06T03:16:28.405Z"
   },
   {
    "duration": -1629,
    "start_time": "2022-02-06T03:16:28.413Z"
   },
   {
    "duration": -1655,
    "start_time": "2022-02-06T03:16:28.439Z"
   },
   {
    "duration": -1663,
    "start_time": "2022-02-06T03:16:28.448Z"
   },
   {
    "duration": -1671,
    "start_time": "2022-02-06T03:16:28.457Z"
   },
   {
    "duration": 7990,
    "start_time": "2022-02-06T03:21:02.095Z"
   },
   {
    "duration": 76,
    "start_time": "2022-02-06T03:23:39.791Z"
   },
   {
    "duration": 163,
    "start_time": "2022-02-06T03:28:25.681Z"
   },
   {
    "duration": 34,
    "start_time": "2022-02-06T03:28:30.023Z"
   },
   {
    "duration": 79,
    "start_time": "2022-02-06T03:28:33.423Z"
   },
   {
    "duration": 185,
    "start_time": "2022-02-06T03:28:44.488Z"
   },
   {
    "duration": 333,
    "start_time": "2022-02-06T03:29:01.780Z"
   },
   {
    "duration": 44,
    "start_time": "2022-02-06T03:29:14.400Z"
   },
   {
    "duration": 81,
    "start_time": "2022-02-06T03:29:16.113Z"
   },
   {
    "duration": 36,
    "start_time": "2022-02-06T03:31:30.020Z"
   },
   {
    "duration": 972,
    "start_time": "2022-02-06T03:31:42.015Z"
   },
   {
    "duration": 371,
    "start_time": "2022-02-06T03:31:42.988Z"
   },
   {
    "duration": 70,
    "start_time": "2022-02-06T03:31:43.361Z"
   },
   {
    "duration": 18,
    "start_time": "2022-02-06T03:31:43.433Z"
   },
   {
    "duration": 377,
    "start_time": "2022-02-06T03:31:43.453Z"
   },
   {
    "duration": 18,
    "start_time": "2022-02-06T03:31:43.831Z"
   },
   {
    "duration": 242,
    "start_time": "2022-02-06T03:31:43.851Z"
   },
   {
    "duration": 13,
    "start_time": "2022-02-06T03:31:44.095Z"
   },
   {
    "duration": 20,
    "start_time": "2022-02-06T03:31:44.110Z"
   },
   {
    "duration": 26,
    "start_time": "2022-02-06T03:31:44.132Z"
   },
   {
    "duration": 8471,
    "start_time": "2022-02-06T03:31:44.160Z"
   },
   {
    "duration": -2962,
    "start_time": "2022-02-06T03:31:55.596Z"
   },
   {
    "duration": -2972,
    "start_time": "2022-02-06T03:31:55.607Z"
   },
   {
    "duration": -2979,
    "start_time": "2022-02-06T03:31:55.615Z"
   },
   {
    "duration": -2988,
    "start_time": "2022-02-06T03:31:55.625Z"
   },
   {
    "duration": -2994,
    "start_time": "2022-02-06T03:31:55.632Z"
   },
   {
    "duration": -3002,
    "start_time": "2022-02-06T03:31:55.641Z"
   },
   {
    "duration": -3007,
    "start_time": "2022-02-06T03:31:55.647Z"
   },
   {
    "duration": -3016,
    "start_time": "2022-02-06T03:31:55.656Z"
   },
   {
    "duration": -3025,
    "start_time": "2022-02-06T03:31:55.666Z"
   },
   {
    "duration": -3040,
    "start_time": "2022-02-06T03:31:55.682Z"
   },
   {
    "duration": -3061,
    "start_time": "2022-02-06T03:31:55.704Z"
   },
   {
    "duration": -3069,
    "start_time": "2022-02-06T03:31:55.713Z"
   },
   {
    "duration": -3076,
    "start_time": "2022-02-06T03:31:55.721Z"
   },
   {
    "duration": -3127,
    "start_time": "2022-02-06T03:31:55.773Z"
   },
   {
    "duration": -3137,
    "start_time": "2022-02-06T03:31:55.784Z"
   },
   {
    "duration": -3147,
    "start_time": "2022-02-06T03:31:55.794Z"
   },
   {
    "duration": -3188,
    "start_time": "2022-02-06T03:31:55.836Z"
   },
   {
    "duration": -3200,
    "start_time": "2022-02-06T03:31:55.849Z"
   },
   {
    "duration": -3212,
    "start_time": "2022-02-06T03:31:55.862Z"
   },
   {
    "duration": -3226,
    "start_time": "2022-02-06T03:31:55.877Z"
   },
   {
    "duration": -3232,
    "start_time": "2022-02-06T03:31:55.884Z"
   },
   {
    "duration": -3240,
    "start_time": "2022-02-06T03:31:55.893Z"
   },
   {
    "duration": -3248,
    "start_time": "2022-02-06T03:31:55.902Z"
   },
   {
    "duration": -3256,
    "start_time": "2022-02-06T03:31:55.911Z"
   },
   {
    "duration": -3261,
    "start_time": "2022-02-06T03:31:55.917Z"
   },
   {
    "duration": -3268,
    "start_time": "2022-02-06T03:31:55.925Z"
   },
   {
    "duration": -3296,
    "start_time": "2022-02-06T03:31:55.954Z"
   },
   {
    "duration": -3306,
    "start_time": "2022-02-06T03:31:55.965Z"
   },
   {
    "duration": -3315,
    "start_time": "2022-02-06T03:31:55.975Z"
   },
   {
    "duration": -3367,
    "start_time": "2022-02-06T03:31:56.028Z"
   },
   {
    "duration": -3454,
    "start_time": "2022-02-06T03:31:56.116Z"
   },
   {
    "duration": -3460,
    "start_time": "2022-02-06T03:31:56.123Z"
   },
   {
    "duration": -3465,
    "start_time": "2022-02-06T03:31:56.128Z"
   },
   {
    "duration": -3470,
    "start_time": "2022-02-06T03:31:56.134Z"
   },
   {
    "duration": -3477,
    "start_time": "2022-02-06T03:31:56.142Z"
   },
   {
    "duration": -3481,
    "start_time": "2022-02-06T03:31:56.147Z"
   },
   {
    "duration": -3485,
    "start_time": "2022-02-06T03:31:56.152Z"
   },
   {
    "duration": -3491,
    "start_time": "2022-02-06T03:31:56.159Z"
   },
   {
    "duration": -3495,
    "start_time": "2022-02-06T03:31:56.164Z"
   },
   {
    "duration": -3516,
    "start_time": "2022-02-06T03:31:56.186Z"
   },
   {
    "duration": -3526,
    "start_time": "2022-02-06T03:31:56.197Z"
   },
   {
    "duration": -3475,
    "start_time": "2022-02-06T03:31:56.202Z"
   },
   {
    "duration": 125,
    "start_time": "2022-02-06T03:32:27.346Z"
   },
   {
    "duration": 124,
    "start_time": "2022-02-06T03:32:32.679Z"
   },
   {
    "duration": 5,
    "start_time": "2022-02-06T03:33:01.760Z"
   },
   {
    "duration": 352,
    "start_time": "2022-02-06T03:33:11.347Z"
   },
   {
    "duration": 355,
    "start_time": "2022-02-06T03:37:45.167Z"
   },
   {
    "duration": 644,
    "start_time": "2022-02-06T03:38:56.013Z"
   },
   {
    "duration": 3,
    "start_time": "2022-02-06T03:39:08.055Z"
   },
   {
    "duration": 3,
    "start_time": "2022-02-06T03:39:22.279Z"
   },
   {
    "duration": 8888,
    "start_time": "2022-02-06T03:39:23.393Z"
   },
   {
    "duration": 40,
    "start_time": "2022-02-06T03:39:56.302Z"
   },
   {
    "duration": 113,
    "start_time": "2022-02-06T03:42:42.115Z"
   },
   {
    "duration": 3,
    "start_time": "2022-02-06T03:42:49.514Z"
   },
   {
    "duration": 972,
    "start_time": "2022-02-06T03:43:02.519Z"
   },
   {
    "duration": 370,
    "start_time": "2022-02-06T03:43:03.492Z"
   },
   {
    "duration": 76,
    "start_time": "2022-02-06T03:43:03.864Z"
   },
   {
    "duration": 17,
    "start_time": "2022-02-06T03:43:03.942Z"
   },
   {
    "duration": 371,
    "start_time": "2022-02-06T03:43:03.960Z"
   },
   {
    "duration": 12,
    "start_time": "2022-02-06T03:43:04.333Z"
   },
   {
    "duration": 238,
    "start_time": "2022-02-06T03:43:04.347Z"
   },
   {
    "duration": 11,
    "start_time": "2022-02-06T03:43:04.587Z"
   },
   {
    "duration": 5,
    "start_time": "2022-02-06T03:43:04.600Z"
   },
   {
    "duration": 32,
    "start_time": "2022-02-06T03:43:04.606Z"
   },
   {
    "duration": 7972,
    "start_time": "2022-02-06T03:43:04.639Z"
   },
   {
    "duration": -1405,
    "start_time": "2022-02-06T03:43:14.019Z"
   },
   {
    "duration": -1414,
    "start_time": "2022-02-06T03:43:14.029Z"
   },
   {
    "duration": -1428,
    "start_time": "2022-02-06T03:43:14.044Z"
   },
   {
    "duration": -1437,
    "start_time": "2022-02-06T03:43:14.054Z"
   },
   {
    "duration": -1445,
    "start_time": "2022-02-06T03:43:14.063Z"
   },
   {
    "duration": -1452,
    "start_time": "2022-02-06T03:43:14.071Z"
   },
   {
    "duration": -1459,
    "start_time": "2022-02-06T03:43:14.079Z"
   },
   {
    "duration": -1466,
    "start_time": "2022-02-06T03:43:14.087Z"
   },
   {
    "duration": -1473,
    "start_time": "2022-02-06T03:43:14.094Z"
   },
   {
    "duration": -1484,
    "start_time": "2022-02-06T03:43:14.106Z"
   },
   {
    "duration": -1508,
    "start_time": "2022-02-06T03:43:14.131Z"
   },
   {
    "duration": -1517,
    "start_time": "2022-02-06T03:43:14.141Z"
   },
   {
    "duration": -1526,
    "start_time": "2022-02-06T03:43:14.151Z"
   },
   {
    "duration": -1533,
    "start_time": "2022-02-06T03:43:14.159Z"
   },
   {
    "duration": -1542,
    "start_time": "2022-02-06T03:43:14.168Z"
   },
   {
    "duration": -1554,
    "start_time": "2022-02-06T03:43:14.181Z"
   },
   {
    "duration": -1562,
    "start_time": "2022-02-06T03:43:14.190Z"
   },
   {
    "duration": -1569,
    "start_time": "2022-02-06T03:43:14.198Z"
   },
   {
    "duration": -1576,
    "start_time": "2022-02-06T03:43:14.206Z"
   },
   {
    "duration": -1582,
    "start_time": "2022-02-06T03:43:14.213Z"
   },
   {
    "duration": -1594,
    "start_time": "2022-02-06T03:43:14.226Z"
   },
   {
    "duration": -1622,
    "start_time": "2022-02-06T03:43:14.255Z"
   },
   {
    "duration": -1629,
    "start_time": "2022-02-06T03:43:14.263Z"
   },
   {
    "duration": -1637,
    "start_time": "2022-02-06T03:43:14.272Z"
   },
   {
    "duration": -1644,
    "start_time": "2022-02-06T03:43:14.280Z"
   },
   {
    "duration": -1652,
    "start_time": "2022-02-06T03:43:14.288Z"
   },
   {
    "duration": -1659,
    "start_time": "2022-02-06T03:43:14.296Z"
   },
   {
    "duration": -1666,
    "start_time": "2022-02-06T03:43:14.304Z"
   },
   {
    "duration": -1673,
    "start_time": "2022-02-06T03:43:14.312Z"
   },
   {
    "duration": -1681,
    "start_time": "2022-02-06T03:43:14.321Z"
   },
   {
    "duration": -1689,
    "start_time": "2022-02-06T03:43:14.329Z"
   },
   {
    "duration": -1697,
    "start_time": "2022-02-06T03:43:14.338Z"
   },
   {
    "duration": -1703,
    "start_time": "2022-02-06T03:43:14.345Z"
   },
   {
    "duration": -1726,
    "start_time": "2022-02-06T03:43:14.369Z"
   },
   {
    "duration": -1733,
    "start_time": "2022-02-06T03:43:14.377Z"
   },
   {
    "duration": -1750,
    "start_time": "2022-02-06T03:43:14.394Z"
   },
   {
    "duration": -1764,
    "start_time": "2022-02-06T03:43:14.409Z"
   },
   {
    "duration": -1774,
    "start_time": "2022-02-06T03:43:14.420Z"
   },
   {
    "duration": -1780,
    "start_time": "2022-02-06T03:43:14.427Z"
   },
   {
    "duration": -1786,
    "start_time": "2022-02-06T03:43:14.433Z"
   },
   {
    "duration": -1791,
    "start_time": "2022-02-06T03:43:14.439Z"
   },
   {
    "duration": -1796,
    "start_time": "2022-02-06T03:43:14.445Z"
   },
   {
    "duration": -1801,
    "start_time": "2022-02-06T03:43:14.451Z"
   },
   {
    "duration": -1807,
    "start_time": "2022-02-06T03:43:14.457Z"
   },
   {
    "duration": -1812,
    "start_time": "2022-02-06T03:43:14.463Z"
   },
   {
    "duration": 69,
    "start_time": "2022-02-06T03:47:58.078Z"
   },
   {
    "duration": 18,
    "start_time": "2022-02-06T03:48:14.874Z"
   },
   {
    "duration": 336,
    "start_time": "2022-02-06T03:53:36.847Z"
   },
   {
    "duration": 1036,
    "start_time": "2022-02-06T03:53:50.024Z"
   },
   {
    "duration": 379,
    "start_time": "2022-02-06T03:53:51.061Z"
   },
   {
    "duration": 75,
    "start_time": "2022-02-06T03:53:51.442Z"
   },
   {
    "duration": 389,
    "start_time": "2022-02-06T03:53:51.526Z"
   },
   {
    "duration": -1363,
    "start_time": "2022-02-06T03:53:53.281Z"
   },
   {
    "duration": -1375,
    "start_time": "2022-02-06T03:53:53.294Z"
   },
   {
    "duration": -1389,
    "start_time": "2022-02-06T03:53:53.309Z"
   },
   {
    "duration": -1399,
    "start_time": "2022-02-06T03:53:53.320Z"
   },
   {
    "duration": -1432,
    "start_time": "2022-02-06T03:53:53.354Z"
   },
   {
    "duration": -1440,
    "start_time": "2022-02-06T03:53:53.363Z"
   },
   {
    "duration": -1449,
    "start_time": "2022-02-06T03:53:53.372Z"
   },
   {
    "duration": -1457,
    "start_time": "2022-02-06T03:53:53.381Z"
   },
   {
    "duration": -1462,
    "start_time": "2022-02-06T03:53:53.387Z"
   },
   {
    "duration": -1467,
    "start_time": "2022-02-06T03:53:53.393Z"
   },
   {
    "duration": -1474,
    "start_time": "2022-02-06T03:53:53.401Z"
   },
   {
    "duration": -1479,
    "start_time": "2022-02-06T03:53:53.407Z"
   },
   {
    "duration": -1484,
    "start_time": "2022-02-06T03:53:53.413Z"
   },
   {
    "duration": -1490,
    "start_time": "2022-02-06T03:53:53.420Z"
   },
   {
    "duration": -1494,
    "start_time": "2022-02-06T03:53:53.425Z"
   },
   {
    "duration": -1500,
    "start_time": "2022-02-06T03:53:53.431Z"
   },
   {
    "duration": -1504,
    "start_time": "2022-02-06T03:53:53.436Z"
   },
   {
    "duration": -1526,
    "start_time": "2022-02-06T03:53:53.459Z"
   },
   {
    "duration": -1535,
    "start_time": "2022-02-06T03:53:53.469Z"
   },
   {
    "duration": -1543,
    "start_time": "2022-02-06T03:53:53.478Z"
   },
   {
    "duration": -1553,
    "start_time": "2022-02-06T03:53:53.489Z"
   },
   {
    "duration": -1562,
    "start_time": "2022-02-06T03:53:53.498Z"
   },
   {
    "duration": -1569,
    "start_time": "2022-02-06T03:53:53.506Z"
   },
   {
    "duration": -1577,
    "start_time": "2022-02-06T03:53:53.515Z"
   },
   {
    "duration": -1584,
    "start_time": "2022-02-06T03:53:53.523Z"
   },
   {
    "duration": -1591,
    "start_time": "2022-02-06T03:53:53.531Z"
   },
   {
    "duration": -1596,
    "start_time": "2022-02-06T03:53:53.537Z"
   },
   {
    "duration": -1600,
    "start_time": "2022-02-06T03:53:53.542Z"
   },
   {
    "duration": -1604,
    "start_time": "2022-02-06T03:53:53.547Z"
   },
   {
    "duration": -1609,
    "start_time": "2022-02-06T03:53:53.553Z"
   },
   {
    "duration": -1629,
    "start_time": "2022-02-06T03:53:53.574Z"
   },
   {
    "duration": -1631,
    "start_time": "2022-02-06T03:53:53.577Z"
   },
   {
    "duration": -1633,
    "start_time": "2022-02-06T03:53:53.580Z"
   },
   {
    "duration": -1635,
    "start_time": "2022-02-06T03:53:53.583Z"
   },
   {
    "duration": -1638,
    "start_time": "2022-02-06T03:53:53.586Z"
   },
   {
    "duration": -1639,
    "start_time": "2022-02-06T03:53:53.589Z"
   },
   {
    "duration": -1642,
    "start_time": "2022-02-06T03:53:53.592Z"
   },
   {
    "duration": -1645,
    "start_time": "2022-02-06T03:53:53.596Z"
   },
   {
    "duration": -1646,
    "start_time": "2022-02-06T03:53:53.598Z"
   },
   {
    "duration": -1649,
    "start_time": "2022-02-06T03:53:53.602Z"
   },
   {
    "duration": -1651,
    "start_time": "2022-02-06T03:53:53.605Z"
   },
   {
    "duration": -1653,
    "start_time": "2022-02-06T03:53:53.608Z"
   },
   {
    "duration": -1657,
    "start_time": "2022-02-06T03:53:53.612Z"
   },
   {
    "duration": -1659,
    "start_time": "2022-02-06T03:53:53.615Z"
   },
   {
    "duration": -1661,
    "start_time": "2022-02-06T03:53:53.618Z"
   },
   {
    "duration": -1663,
    "start_time": "2022-02-06T03:53:53.621Z"
   },
   {
    "duration": -1665,
    "start_time": "2022-02-06T03:53:53.624Z"
   },
   {
    "duration": -1668,
    "start_time": "2022-02-06T03:53:53.627Z"
   },
   {
    "duration": -1669,
    "start_time": "2022-02-06T03:53:53.629Z"
   },
   {
    "duration": -1671,
    "start_time": "2022-02-06T03:53:53.632Z"
   },
   {
    "duration": -1673,
    "start_time": "2022-02-06T03:53:53.635Z"
   },
   {
    "duration": -1675,
    "start_time": "2022-02-06T03:53:53.638Z"
   },
   {
    "duration": 360,
    "start_time": "2022-02-06T03:55:47.479Z"
   },
   {
    "duration": 8560,
    "start_time": "2022-02-06T03:55:51.263Z"
   },
   {
    "duration": 14,
    "start_time": "2022-02-06T03:56:53.893Z"
   },
   {
    "duration": 135,
    "start_time": "2022-02-06T03:57:09.128Z"
   },
   {
    "duration": 782,
    "start_time": "2022-02-06T03:57:25.270Z"
   },
   {
    "duration": 63,
    "start_time": "2022-02-06T03:59:15.874Z"
   },
   {
    "duration": 11,
    "start_time": "2022-02-06T03:59:18.856Z"
   },
   {
    "duration": 258,
    "start_time": "2022-02-06T04:33:54.360Z"
   },
   {
    "duration": 83,
    "start_time": "2022-02-06T04:34:00.737Z"
   },
   {
    "duration": 44,
    "start_time": "2022-02-06T04:35:15.555Z"
   },
   {
    "duration": 88,
    "start_time": "2022-02-06T04:35:18.038Z"
   },
   {
    "duration": 9,
    "start_time": "2022-02-06T04:36:31.606Z"
   },
   {
    "duration": 956,
    "start_time": "2022-02-06T04:37:10.974Z"
   },
   {
    "duration": 374,
    "start_time": "2022-02-06T04:37:11.932Z"
   },
   {
    "duration": 69,
    "start_time": "2022-02-06T04:37:12.307Z"
   },
   {
    "duration": 17,
    "start_time": "2022-02-06T04:37:12.378Z"
   },
   {
    "duration": 373,
    "start_time": "2022-02-06T04:37:12.396Z"
   },
   {
    "duration": 815,
    "start_time": "2022-02-06T04:37:12.771Z"
   },
   {
    "duration": 11,
    "start_time": "2022-02-06T04:37:13.587Z"
   },
   {
    "duration": 73,
    "start_time": "2022-02-06T04:37:13.600Z"
   },
   {
    "duration": 10,
    "start_time": "2022-02-06T04:37:13.675Z"
   },
   {
    "duration": 5,
    "start_time": "2022-02-06T04:37:13.687Z"
   },
   {
    "duration": 35,
    "start_time": "2022-02-06T04:37:13.693Z"
   },
   {
    "duration": 214,
    "start_time": "2022-02-06T04:37:13.729Z"
   },
   {
    "duration": 24,
    "start_time": "2022-02-06T04:37:13.945Z"
   },
   {
    "duration": 98,
    "start_time": "2022-02-06T04:37:13.970Z"
   },
   {
    "duration": 25,
    "start_time": "2022-02-06T04:37:14.070Z"
   },
   {
    "duration": 40,
    "start_time": "2022-02-06T04:37:14.097Z"
   },
   {
    "duration": 2,
    "start_time": "2022-02-06T04:37:14.139Z"
   },
   {
    "duration": 4,
    "start_time": "2022-02-06T04:37:14.143Z"
   },
   {
    "duration": 90,
    "start_time": "2022-02-06T04:37:14.149Z"
   },
   {
    "duration": 25,
    "start_time": "2022-02-06T04:37:14.241Z"
   },
   {
    "duration": 10,
    "start_time": "2022-02-06T04:37:14.268Z"
   },
   {
    "duration": 12,
    "start_time": "2022-02-06T04:37:14.279Z"
   },
   {
    "duration": 64,
    "start_time": "2022-02-06T04:37:14.295Z"
   },
   {
    "duration": 106,
    "start_time": "2022-02-06T04:37:14.361Z"
   },
   {
    "duration": 2,
    "start_time": "2022-02-06T04:37:14.468Z"
   },
   {
    "duration": 5,
    "start_time": "2022-02-06T04:37:14.471Z"
   },
   {
    "duration": 4,
    "start_time": "2022-02-06T04:37:14.478Z"
   },
   {
    "duration": 69,
    "start_time": "2022-02-06T04:37:14.483Z"
   },
   {
    "duration": 26,
    "start_time": "2022-02-06T04:37:14.554Z"
   },
   {
    "duration": 424,
    "start_time": "2022-02-06T04:37:14.581Z"
   },
   {
    "duration": -1372,
    "start_time": "2022-02-06T04:37:16.379Z"
   },
   {
    "duration": -1382,
    "start_time": "2022-02-06T04:37:16.391Z"
   },
   {
    "duration": -1390,
    "start_time": "2022-02-06T04:37:16.400Z"
   },
   {
    "duration": -1399,
    "start_time": "2022-02-06T04:37:16.410Z"
   },
   {
    "duration": -1407,
    "start_time": "2022-02-06T04:37:16.419Z"
   },
   {
    "duration": -1415,
    "start_time": "2022-02-06T04:37:16.429Z"
   },
   {
    "duration": -1422,
    "start_time": "2022-02-06T04:37:16.437Z"
   },
   {
    "duration": -1429,
    "start_time": "2022-02-06T04:37:16.446Z"
   },
   {
    "duration": -1436,
    "start_time": "2022-02-06T04:37:16.454Z"
   },
   {
    "duration": -1463,
    "start_time": "2022-02-06T04:37:16.482Z"
   },
   {
    "duration": -1471,
    "start_time": "2022-02-06T04:37:16.491Z"
   },
   {
    "duration": -1493,
    "start_time": "2022-02-06T04:37:16.514Z"
   },
   {
    "duration": -1503,
    "start_time": "2022-02-06T04:37:16.525Z"
   },
   {
    "duration": -1512,
    "start_time": "2022-02-06T04:37:16.535Z"
   },
   {
    "duration": -1516,
    "start_time": "2022-02-06T04:37:16.540Z"
   },
   {
    "duration": -1520,
    "start_time": "2022-02-06T04:37:16.545Z"
   },
   {
    "duration": -1524,
    "start_time": "2022-02-06T04:37:16.550Z"
   },
   {
    "duration": -1527,
    "start_time": "2022-02-06T04:37:16.554Z"
   },
   {
    "duration": -1531,
    "start_time": "2022-02-06T04:37:16.559Z"
   },
   {
    "duration": -1536,
    "start_time": "2022-02-06T04:37:16.564Z"
   },
   {
    "duration": -1539,
    "start_time": "2022-02-06T04:37:16.569Z"
   },
   {
    "duration": -1550,
    "start_time": "2022-02-06T04:37:16.581Z"
   },
   {
    "duration": -1554,
    "start_time": "2022-02-06T04:37:16.586Z"
   },
   {
    "duration": -1558,
    "start_time": "2022-02-06T04:37:16.590Z"
   },
   {
    "duration": 3,
    "start_time": "2022-02-06T04:41:22.422Z"
   },
   {
    "duration": 35,
    "start_time": "2022-02-06T04:41:27.698Z"
   },
   {
    "duration": 972,
    "start_time": "2022-02-06T04:41:39.183Z"
   },
   {
    "duration": 373,
    "start_time": "2022-02-06T04:41:40.156Z"
   },
   {
    "duration": 72,
    "start_time": "2022-02-06T04:41:40.530Z"
   },
   {
    "duration": 37,
    "start_time": "2022-02-06T04:41:40.604Z"
   },
   {
    "duration": 370,
    "start_time": "2022-02-06T04:41:40.643Z"
   },
   {
    "duration": 916,
    "start_time": "2022-02-06T04:41:41.015Z"
   },
   {
    "duration": 12,
    "start_time": "2022-02-06T04:41:41.933Z"
   },
   {
    "duration": 63,
    "start_time": "2022-02-06T04:41:41.947Z"
   },
   {
    "duration": 11,
    "start_time": "2022-02-06T04:41:42.027Z"
   },
   {
    "duration": 5,
    "start_time": "2022-02-06T04:41:42.040Z"
   },
   {
    "duration": 4,
    "start_time": "2022-02-06T04:41:42.047Z"
   },
   {
    "duration": 383,
    "start_time": "2022-02-06T04:41:42.052Z"
   },
   {
    "duration": 22,
    "start_time": "2022-02-06T04:41:42.437Z"
   },
   {
    "duration": 93,
    "start_time": "2022-02-06T04:41:42.461Z"
   },
   {
    "duration": 23,
    "start_time": "2022-02-06T04:41:42.555Z"
   },
   {
    "duration": 2,
    "start_time": "2022-02-06T04:41:42.579Z"
   },
   {
    "duration": 6,
    "start_time": "2022-02-06T04:41:42.582Z"
   },
   {
    "duration": 91,
    "start_time": "2022-02-06T04:41:42.589Z"
   },
   {
    "duration": 24,
    "start_time": "2022-02-06T04:41:42.682Z"
   },
   {
    "duration": 22,
    "start_time": "2022-02-06T04:41:42.707Z"
   },
   {
    "duration": 9,
    "start_time": "2022-02-06T04:41:42.731Z"
   },
   {
    "duration": 32,
    "start_time": "2022-02-06T04:41:42.741Z"
   },
   {
    "duration": 118,
    "start_time": "2022-02-06T04:41:42.777Z"
   },
   {
    "duration": 2,
    "start_time": "2022-02-06T04:41:42.897Z"
   },
   {
    "duration": 5,
    "start_time": "2022-02-06T04:41:42.900Z"
   },
   {
    "duration": 4,
    "start_time": "2022-02-06T04:41:42.907Z"
   },
   {
    "duration": 68,
    "start_time": "2022-02-06T04:41:42.913Z"
   },
   {
    "duration": 27,
    "start_time": "2022-02-06T04:41:42.982Z"
   },
   {
    "duration": 425,
    "start_time": "2022-02-06T04:41:43.011Z"
   },
   {
    "duration": -1351,
    "start_time": "2022-02-06T04:41:44.789Z"
   },
   {
    "duration": -1362,
    "start_time": "2022-02-06T04:41:44.801Z"
   },
   {
    "duration": -1381,
    "start_time": "2022-02-06T04:41:44.821Z"
   },
   {
    "duration": -1391,
    "start_time": "2022-02-06T04:41:44.832Z"
   },
   {
    "duration": -1396,
    "start_time": "2022-02-06T04:41:44.838Z"
   },
   {
    "duration": -1401,
    "start_time": "2022-02-06T04:41:44.844Z"
   },
   {
    "duration": -1406,
    "start_time": "2022-02-06T04:41:44.849Z"
   },
   {
    "duration": -1411,
    "start_time": "2022-02-06T04:41:44.855Z"
   },
   {
    "duration": -1414,
    "start_time": "2022-02-06T04:41:44.859Z"
   },
   {
    "duration": -1428,
    "start_time": "2022-02-06T04:41:44.874Z"
   },
   {
    "duration": -1430,
    "start_time": "2022-02-06T04:41:44.877Z"
   },
   {
    "duration": -1435,
    "start_time": "2022-02-06T04:41:44.882Z"
   },
   {
    "duration": -1437,
    "start_time": "2022-02-06T04:41:44.885Z"
   },
   {
    "duration": -1439,
    "start_time": "2022-02-06T04:41:44.888Z"
   },
   {
    "duration": -1441,
    "start_time": "2022-02-06T04:41:44.891Z"
   },
   {
    "duration": -1445,
    "start_time": "2022-02-06T04:41:44.895Z"
   },
   {
    "duration": -1447,
    "start_time": "2022-02-06T04:41:44.898Z"
   },
   {
    "duration": -1449,
    "start_time": "2022-02-06T04:41:44.902Z"
   },
   {
    "duration": -1452,
    "start_time": "2022-02-06T04:41:44.905Z"
   },
   {
    "duration": -1454,
    "start_time": "2022-02-06T04:41:44.908Z"
   },
   {
    "duration": -1456,
    "start_time": "2022-02-06T04:41:44.911Z"
   },
   {
    "duration": -1459,
    "start_time": "2022-02-06T04:41:44.915Z"
   },
   {
    "duration": -1460,
    "start_time": "2022-02-06T04:41:44.917Z"
   },
   {
    "duration": -1463,
    "start_time": "2022-02-06T04:41:44.921Z"
   },
   {
    "duration": 970,
    "start_time": "2022-02-06T04:44:12.253Z"
   },
   {
    "duration": 371,
    "start_time": "2022-02-06T04:44:13.224Z"
   },
   {
    "duration": 77,
    "start_time": "2022-02-06T04:44:13.597Z"
   },
   {
    "duration": 18,
    "start_time": "2022-02-06T04:44:13.676Z"
   },
   {
    "duration": 480,
    "start_time": "2022-02-06T04:44:13.695Z"
   },
   {
    "duration": 811,
    "start_time": "2022-02-06T04:44:14.176Z"
   },
   {
    "duration": 12,
    "start_time": "2022-02-06T04:44:14.989Z"
   },
   {
    "duration": 74,
    "start_time": "2022-02-06T04:44:15.005Z"
   },
   {
    "duration": 12,
    "start_time": "2022-02-06T04:44:15.081Z"
   },
   {
    "duration": 5,
    "start_time": "2022-02-06T04:44:15.094Z"
   },
   {
    "duration": 225,
    "start_time": "2022-02-06T04:44:15.100Z"
   },
   {
    "duration": 24,
    "start_time": "2022-02-06T04:44:15.327Z"
   },
   {
    "duration": 93,
    "start_time": "2022-02-06T04:44:15.352Z"
   },
   {
    "duration": 23,
    "start_time": "2022-02-06T04:44:15.447Z"
   },
   {
    "duration": 88,
    "start_time": "2022-02-06T04:44:15.471Z"
   },
   {
    "duration": 22,
    "start_time": "2022-02-06T04:44:15.561Z"
   },
   {
    "duration": 4,
    "start_time": "2022-02-06T04:44:15.585Z"
   },
   {
    "duration": 7,
    "start_time": "2022-02-06T04:44:15.591Z"
   },
   {
    "duration": 68,
    "start_time": "2022-02-06T04:44:15.599Z"
   },
   {
    "duration": 110,
    "start_time": "2022-02-06T04:44:15.669Z"
   },
   {
    "duration": 2,
    "start_time": "2022-02-06T04:44:15.781Z"
   },
   {
    "duration": 5,
    "start_time": "2022-02-06T04:44:15.784Z"
   },
   {
    "duration": 5,
    "start_time": "2022-02-06T04:44:15.793Z"
   },
   {
    "duration": 65,
    "start_time": "2022-02-06T04:44:15.800Z"
   },
   {
    "duration": 26,
    "start_time": "2022-02-06T04:44:15.866Z"
   },
   {
    "duration": 491,
    "start_time": "2022-02-06T04:44:15.894Z"
   },
   {
    "duration": -1357,
    "start_time": "2022-02-06T04:44:17.743Z"
   },
   {
    "duration": -1367,
    "start_time": "2022-02-06T04:44:17.754Z"
   },
   {
    "duration": -1378,
    "start_time": "2022-02-06T04:44:17.766Z"
   },
   {
    "duration": -1390,
    "start_time": "2022-02-06T04:44:17.779Z"
   },
   {
    "duration": -1401,
    "start_time": "2022-02-06T04:44:17.790Z"
   },
   {
    "duration": -1411,
    "start_time": "2022-02-06T04:44:17.801Z"
   },
   {
    "duration": -1422,
    "start_time": "2022-02-06T04:44:17.813Z"
   },
   {
    "duration": -1431,
    "start_time": "2022-02-06T04:44:17.823Z"
   },
   {
    "duration": -1466,
    "start_time": "2022-02-06T04:44:17.859Z"
   },
   {
    "duration": -1476,
    "start_time": "2022-02-06T04:44:17.870Z"
   },
   {
    "duration": -1488,
    "start_time": "2022-02-06T04:44:17.883Z"
   },
   {
    "duration": -1504,
    "start_time": "2022-02-06T04:44:17.899Z"
   },
   {
    "duration": -1514,
    "start_time": "2022-02-06T04:44:17.910Z"
   },
   {
    "duration": -1522,
    "start_time": "2022-02-06T04:44:17.919Z"
   },
   {
    "duration": -1531,
    "start_time": "2022-02-06T04:44:17.929Z"
   },
   {
    "duration": -1538,
    "start_time": "2022-02-06T04:44:17.937Z"
   },
   {
    "duration": -1548,
    "start_time": "2022-02-06T04:44:17.948Z"
   },
   {
    "duration": -1572,
    "start_time": "2022-02-06T04:44:17.973Z"
   },
   {
    "duration": -1584,
    "start_time": "2022-02-06T04:44:17.985Z"
   },
   {
    "duration": -1593,
    "start_time": "2022-02-06T04:44:17.995Z"
   },
   {
    "duration": -1602,
    "start_time": "2022-02-06T04:44:18.005Z"
   },
   {
    "duration": -1610,
    "start_time": "2022-02-06T04:44:18.014Z"
   },
   {
    "duration": -1618,
    "start_time": "2022-02-06T04:44:18.023Z"
   },
   {
    "duration": -1627,
    "start_time": "2022-02-06T04:44:18.033Z"
   },
   {
    "duration": 1006,
    "start_time": "2022-02-06T04:45:32.174Z"
   },
   {
    "duration": 367,
    "start_time": "2022-02-06T04:45:33.182Z"
   },
   {
    "duration": 71,
    "start_time": "2022-02-06T04:45:33.551Z"
   },
   {
    "duration": 16,
    "start_time": "2022-02-06T04:45:33.624Z"
   },
   {
    "duration": 361,
    "start_time": "2022-02-06T04:45:33.641Z"
   },
   {
    "duration": 918,
    "start_time": "2022-02-06T04:45:34.003Z"
   },
   {
    "duration": 14,
    "start_time": "2022-02-06T04:45:34.922Z"
   },
   {
    "duration": 61,
    "start_time": "2022-02-06T04:45:34.938Z"
   },
   {
    "duration": 11,
    "start_time": "2022-02-06T04:45:35.001Z"
   },
   {
    "duration": 14,
    "start_time": "2022-02-06T04:45:35.014Z"
   },
   {
    "duration": 3,
    "start_time": "2022-02-06T04:45:35.029Z"
   },
   {
    "duration": 371,
    "start_time": "2022-02-06T04:45:35.034Z"
   },
   {
    "duration": 30,
    "start_time": "2022-02-06T04:45:35.407Z"
   },
   {
    "duration": 90,
    "start_time": "2022-02-06T04:45:35.438Z"
   },
   {
    "duration": 23,
    "start_time": "2022-02-06T04:45:35.530Z"
   },
   {
    "duration": 91,
    "start_time": "2022-02-06T04:45:35.555Z"
   },
   {
    "duration": 23,
    "start_time": "2022-02-06T04:45:35.648Z"
   },
   {
    "duration": 5,
    "start_time": "2022-02-06T04:45:35.672Z"
   },
   {
    "duration": 8,
    "start_time": "2022-02-06T04:45:35.679Z"
   },
   {
    "duration": 48,
    "start_time": "2022-02-06T04:45:35.689Z"
   },
   {
    "duration": 103,
    "start_time": "2022-02-06T04:45:35.739Z"
   },
   {
    "duration": 2,
    "start_time": "2022-02-06T04:45:35.844Z"
   },
   {
    "duration": 4,
    "start_time": "2022-02-06T04:45:35.849Z"
   },
   {
    "duration": 11,
    "start_time": "2022-02-06T04:45:35.855Z"
   },
   {
    "duration": 65,
    "start_time": "2022-02-06T04:45:35.867Z"
   },
   {
    "duration": 26,
    "start_time": "2022-02-06T04:45:35.933Z"
   },
   {
    "duration": 407,
    "start_time": "2022-02-06T04:45:35.961Z"
   },
   {
    "duration": -1532,
    "start_time": "2022-02-06T04:45:37.901Z"
   },
   {
    "duration": -1541,
    "start_time": "2022-02-06T04:45:37.911Z"
   },
   {
    "duration": -1551,
    "start_time": "2022-02-06T04:45:37.922Z"
   },
   {
    "duration": -1558,
    "start_time": "2022-02-06T04:45:37.930Z"
   },
   {
    "duration": -1567,
    "start_time": "2022-02-06T04:45:37.940Z"
   },
   {
    "duration": -1578,
    "start_time": "2022-02-06T04:45:37.952Z"
   },
   {
    "duration": -1586,
    "start_time": "2022-02-06T04:45:37.961Z"
   },
   {
    "duration": -1605,
    "start_time": "2022-02-06T04:45:37.980Z"
   },
   {
    "duration": -1610,
    "start_time": "2022-02-06T04:45:37.986Z"
   },
   {
    "duration": -1614,
    "start_time": "2022-02-06T04:45:37.991Z"
   },
   {
    "duration": -1618,
    "start_time": "2022-02-06T04:45:37.996Z"
   },
   {
    "duration": -1622,
    "start_time": "2022-02-06T04:45:38.001Z"
   },
   {
    "duration": -1626,
    "start_time": "2022-02-06T04:45:38.006Z"
   },
   {
    "duration": -1630,
    "start_time": "2022-02-06T04:45:38.011Z"
   },
   {
    "duration": -1635,
    "start_time": "2022-02-06T04:45:38.017Z"
   },
   {
    "duration": -1640,
    "start_time": "2022-02-06T04:45:38.023Z"
   },
   {
    "duration": -1644,
    "start_time": "2022-02-06T04:45:38.028Z"
   },
   {
    "duration": -1650,
    "start_time": "2022-02-06T04:45:38.034Z"
   },
   {
    "duration": -1654,
    "start_time": "2022-02-06T04:45:38.039Z"
   },
   {
    "duration": -1658,
    "start_time": "2022-02-06T04:45:38.044Z"
   },
   {
    "duration": -1664,
    "start_time": "2022-02-06T04:45:38.051Z"
   },
   {
    "duration": -1668,
    "start_time": "2022-02-06T04:45:38.056Z"
   },
   {
    "duration": -1674,
    "start_time": "2022-02-06T04:45:38.063Z"
   },
   {
    "duration": -1680,
    "start_time": "2022-02-06T04:45:38.070Z"
   },
   {
    "duration": 1149,
    "start_time": "2022-02-06T04:46:50.303Z"
   },
   {
    "duration": 459,
    "start_time": "2022-02-06T04:46:51.454Z"
   },
   {
    "duration": 72,
    "start_time": "2022-02-06T04:46:51.915Z"
   },
   {
    "duration": 17,
    "start_time": "2022-02-06T04:46:51.988Z"
   },
   {
    "duration": 354,
    "start_time": "2022-02-06T04:46:52.027Z"
   },
   {
    "duration": 800,
    "start_time": "2022-02-06T04:46:52.383Z"
   },
   {
    "duration": 12,
    "start_time": "2022-02-06T04:46:53.184Z"
   },
   {
    "duration": 71,
    "start_time": "2022-02-06T04:46:53.198Z"
   },
   {
    "duration": 12,
    "start_time": "2022-02-06T04:46:53.270Z"
   },
   {
    "duration": 5,
    "start_time": "2022-02-06T04:46:53.283Z"
   },
   {
    "duration": 3,
    "start_time": "2022-02-06T04:46:53.289Z"
   },
   {
    "duration": 382,
    "start_time": "2022-02-06T04:46:53.293Z"
   },
   {
    "duration": 24,
    "start_time": "2022-02-06T04:46:53.676Z"
   },
   {
    "duration": 93,
    "start_time": "2022-02-06T04:46:53.702Z"
   },
   {
    "duration": 31,
    "start_time": "2022-02-06T04:46:53.797Z"
   },
   {
    "duration": 81,
    "start_time": "2022-02-06T04:46:53.830Z"
   },
   {
    "duration": 35,
    "start_time": "2022-02-06T04:46:53.912Z"
   },
   {
    "duration": 10,
    "start_time": "2022-02-06T04:46:53.949Z"
   },
   {
    "duration": 10,
    "start_time": "2022-02-06T04:46:53.960Z"
   },
   {
    "duration": 24,
    "start_time": "2022-02-06T04:46:53.971Z"
   },
   {
    "duration": 119,
    "start_time": "2022-02-06T04:46:53.997Z"
   },
   {
    "duration": 2,
    "start_time": "2022-02-06T04:46:54.118Z"
   },
   {
    "duration": 2,
    "start_time": "2022-02-06T04:46:54.127Z"
   },
   {
    "duration": 4,
    "start_time": "2022-02-06T04:46:54.131Z"
   },
   {
    "duration": 67,
    "start_time": "2022-02-06T04:46:54.137Z"
   },
   {
    "duration": 36,
    "start_time": "2022-02-06T04:46:54.205Z"
   },
   {
    "duration": 423,
    "start_time": "2022-02-06T04:46:54.242Z"
   },
   {
    "duration": -1377,
    "start_time": "2022-02-06T04:46:56.044Z"
   },
   {
    "duration": -1385,
    "start_time": "2022-02-06T04:46:56.054Z"
   },
   {
    "duration": -1394,
    "start_time": "2022-02-06T04:46:56.064Z"
   },
   {
    "duration": -1405,
    "start_time": "2022-02-06T04:46:56.076Z"
   },
   {
    "duration": -1412,
    "start_time": "2022-02-06T04:46:56.084Z"
   },
   {
    "duration": -1421,
    "start_time": "2022-02-06T04:46:56.095Z"
   },
   {
    "duration": -1430,
    "start_time": "2022-02-06T04:46:56.105Z"
   },
   {
    "duration": -1437,
    "start_time": "2022-02-06T04:46:56.113Z"
   },
   {
    "duration": -1466,
    "start_time": "2022-02-06T04:46:56.143Z"
   },
   {
    "duration": -1474,
    "start_time": "2022-02-06T04:46:56.153Z"
   },
   {
    "duration": -1483,
    "start_time": "2022-02-06T04:46:56.163Z"
   },
   {
    "duration": -1492,
    "start_time": "2022-02-06T04:46:56.173Z"
   },
   {
    "duration": -1499,
    "start_time": "2022-02-06T04:46:56.181Z"
   },
   {
    "duration": -1506,
    "start_time": "2022-02-06T04:46:56.190Z"
   },
   {
    "duration": -1514,
    "start_time": "2022-02-06T04:46:56.199Z"
   },
   {
    "duration": -1524,
    "start_time": "2022-02-06T04:46:56.210Z"
   },
   {
    "duration": -1531,
    "start_time": "2022-02-06T04:46:56.218Z"
   },
   {
    "duration": -1539,
    "start_time": "2022-02-06T04:46:56.227Z"
   },
   {
    "duration": -1545,
    "start_time": "2022-02-06T04:46:56.235Z"
   },
   {
    "duration": -1574,
    "start_time": "2022-02-06T04:46:56.265Z"
   },
   {
    "duration": -1583,
    "start_time": "2022-02-06T04:46:56.275Z"
   },
   {
    "duration": -1596,
    "start_time": "2022-02-06T04:46:56.289Z"
   },
   {
    "duration": -1607,
    "start_time": "2022-02-06T04:46:56.301Z"
   },
   {
    "duration": -1618,
    "start_time": "2022-02-06T04:46:56.314Z"
   },
   {
    "duration": 35,
    "start_time": "2022-02-06T04:48:28.582Z"
   },
   {
    "duration": 1054,
    "start_time": "2022-02-06T04:49:16.415Z"
   },
   {
    "duration": 371,
    "start_time": "2022-02-06T04:49:17.470Z"
   },
   {
    "duration": 73,
    "start_time": "2022-02-06T04:49:17.842Z"
   },
   {
    "duration": 26,
    "start_time": "2022-02-06T04:49:17.916Z"
   },
   {
    "duration": 469,
    "start_time": "2022-02-06T04:49:17.943Z"
   },
   {
    "duration": 880,
    "start_time": "2022-02-06T04:49:18.413Z"
   },
   {
    "duration": 16,
    "start_time": "2022-02-06T04:49:19.295Z"
   },
   {
    "duration": 80,
    "start_time": "2022-02-06T04:49:19.314Z"
   },
   {
    "duration": 16,
    "start_time": "2022-02-06T04:49:19.396Z"
   },
   {
    "duration": 15,
    "start_time": "2022-02-06T04:49:19.413Z"
   },
   {
    "duration": 331,
    "start_time": "2022-02-06T04:49:19.429Z"
   },
   {
    "duration": 31,
    "start_time": "2022-02-06T04:49:19.761Z"
   },
   {
    "duration": 113,
    "start_time": "2022-02-06T04:49:19.794Z"
   },
   {
    "duration": 27,
    "start_time": "2022-02-06T04:49:19.909Z"
   },
   {
    "duration": 75,
    "start_time": "2022-02-06T04:49:19.937Z"
   },
   {
    "duration": 32,
    "start_time": "2022-02-06T04:49:20.013Z"
   },
   {
    "duration": 5,
    "start_time": "2022-02-06T04:49:20.046Z"
   },
   {
    "duration": 9,
    "start_time": "2022-02-06T04:49:20.052Z"
   },
   {
    "duration": 23,
    "start_time": "2022-02-06T04:49:20.062Z"
   },
   {
    "duration": 121,
    "start_time": "2022-02-06T04:49:20.086Z"
   },
   {
    "duration": 1,
    "start_time": "2022-02-06T04:49:20.209Z"
   },
   {
    "duration": 5,
    "start_time": "2022-02-06T04:49:20.212Z"
   },
   {
    "duration": 9,
    "start_time": "2022-02-06T04:49:20.219Z"
   },
   {
    "duration": 58,
    "start_time": "2022-02-06T04:49:20.229Z"
   },
   {
    "duration": 39,
    "start_time": "2022-02-06T04:49:20.289Z"
   },
   {
    "duration": 413,
    "start_time": "2022-02-06T04:49:20.329Z"
   },
   {
    "duration": -1355,
    "start_time": "2022-02-06T04:49:22.099Z"
   },
   {
    "duration": -1367,
    "start_time": "2022-02-06T04:49:22.111Z"
   },
   {
    "duration": -1380,
    "start_time": "2022-02-06T04:49:22.125Z"
   },
   {
    "duration": -1390,
    "start_time": "2022-02-06T04:49:22.136Z"
   },
   {
    "duration": -1399,
    "start_time": "2022-02-06T04:49:22.146Z"
   },
   {
    "duration": -1408,
    "start_time": "2022-02-06T04:49:22.156Z"
   },
   {
    "duration": -1416,
    "start_time": "2022-02-06T04:49:22.165Z"
   },
   {
    "duration": -1423,
    "start_time": "2022-02-06T04:49:22.173Z"
   },
   {
    "duration": -1450,
    "start_time": "2022-02-06T04:49:22.200Z"
   },
   {
    "duration": -1458,
    "start_time": "2022-02-06T04:49:22.209Z"
   },
   {
    "duration": -1467,
    "start_time": "2022-02-06T04:49:22.219Z"
   },
   {
    "duration": -1475,
    "start_time": "2022-02-06T04:49:22.228Z"
   },
   {
    "duration": -1484,
    "start_time": "2022-02-06T04:49:22.238Z"
   },
   {
    "duration": -1492,
    "start_time": "2022-02-06T04:49:22.247Z"
   },
   {
    "duration": -1502,
    "start_time": "2022-02-06T04:49:22.257Z"
   },
   {
    "duration": -1508,
    "start_time": "2022-02-06T04:49:22.264Z"
   },
   {
    "duration": -1513,
    "start_time": "2022-02-06T04:49:22.270Z"
   },
   {
    "duration": -1516,
    "start_time": "2022-02-06T04:49:22.274Z"
   },
   {
    "duration": -1521,
    "start_time": "2022-02-06T04:49:22.279Z"
   },
   {
    "duration": -1523,
    "start_time": "2022-02-06T04:49:22.283Z"
   },
   {
    "duration": -1528,
    "start_time": "2022-02-06T04:49:22.288Z"
   },
   {
    "duration": -1540,
    "start_time": "2022-02-06T04:49:22.301Z"
   },
   {
    "duration": -1544,
    "start_time": "2022-02-06T04:49:22.306Z"
   },
   {
    "duration": -1546,
    "start_time": "2022-02-06T04:49:22.309Z"
   },
   {
    "duration": 917,
    "start_time": "2022-02-06T04:54:42.065Z"
   },
   {
    "duration": 367,
    "start_time": "2022-02-06T04:54:42.984Z"
   },
   {
    "duration": 76,
    "start_time": "2022-02-06T04:54:43.353Z"
   },
   {
    "duration": 17,
    "start_time": "2022-02-06T04:54:43.431Z"
   },
   {
    "duration": 371,
    "start_time": "2022-02-06T04:54:43.449Z"
   },
   {
    "duration": 830,
    "start_time": "2022-02-06T04:54:43.822Z"
   },
   {
    "duration": 12,
    "start_time": "2022-02-06T04:54:44.653Z"
   },
   {
    "duration": 73,
    "start_time": "2022-02-06T04:54:44.667Z"
   },
   {
    "duration": 11,
    "start_time": "2022-02-06T04:54:44.742Z"
   },
   {
    "duration": 6,
    "start_time": "2022-02-06T04:54:44.754Z"
   },
   {
    "duration": 22,
    "start_time": "2022-02-06T04:54:44.761Z"
   },
   {
    "duration": 399,
    "start_time": "2022-02-06T04:54:44.784Z"
   },
   {
    "duration": 24,
    "start_time": "2022-02-06T04:54:45.184Z"
   },
   {
    "duration": 98,
    "start_time": "2022-02-06T04:54:45.210Z"
   },
   {
    "duration": 28,
    "start_time": "2022-02-06T04:54:45.310Z"
   },
   {
    "duration": 88,
    "start_time": "2022-02-06T04:54:45.339Z"
   },
   {
    "duration": 23,
    "start_time": "2022-02-06T04:54:45.429Z"
   },
   {
    "duration": 5,
    "start_time": "2022-02-06T04:54:45.454Z"
   },
   {
    "duration": 8,
    "start_time": "2022-02-06T04:54:45.461Z"
   },
   {
    "duration": 24,
    "start_time": "2022-02-06T04:54:45.470Z"
   },
   {
    "duration": 140,
    "start_time": "2022-02-06T04:54:45.496Z"
   },
   {
    "duration": 2,
    "start_time": "2022-02-06T04:54:45.638Z"
   },
   {
    "duration": 2,
    "start_time": "2022-02-06T04:54:45.644Z"
   },
   {
    "duration": 3,
    "start_time": "2022-02-06T04:54:45.649Z"
   },
   {
    "duration": 81,
    "start_time": "2022-02-06T04:54:45.654Z"
   },
   {
    "duration": 28,
    "start_time": "2022-02-06T04:54:45.737Z"
   },
   {
    "duration": 424,
    "start_time": "2022-02-06T04:54:45.766Z"
   },
   {
    "duration": -1465,
    "start_time": "2022-02-06T04:54:47.656Z"
   },
   {
    "duration": -1480,
    "start_time": "2022-02-06T04:54:47.672Z"
   },
   {
    "duration": -1489,
    "start_time": "2022-02-06T04:54:47.682Z"
   },
   {
    "duration": -1495,
    "start_time": "2022-02-06T04:54:47.689Z"
   },
   {
    "duration": -1501,
    "start_time": "2022-02-06T04:54:47.696Z"
   },
   {
    "duration": -1506,
    "start_time": "2022-02-06T04:54:47.702Z"
   },
   {
    "duration": -1512,
    "start_time": "2022-02-06T04:54:47.708Z"
   },
   {
    "duration": -1516,
    "start_time": "2022-02-06T04:54:47.713Z"
   },
   {
    "duration": -1519,
    "start_time": "2022-02-06T04:54:47.717Z"
   },
   {
    "duration": -1529,
    "start_time": "2022-02-06T04:54:47.728Z"
   },
   {
    "duration": -1534,
    "start_time": "2022-02-06T04:54:47.733Z"
   },
   {
    "duration": -1537,
    "start_time": "2022-02-06T04:54:47.737Z"
   },
   {
    "duration": -1540,
    "start_time": "2022-02-06T04:54:47.741Z"
   },
   {
    "duration": -1544,
    "start_time": "2022-02-06T04:54:47.746Z"
   },
   {
    "duration": -1547,
    "start_time": "2022-02-06T04:54:47.750Z"
   },
   {
    "duration": -1550,
    "start_time": "2022-02-06T04:54:47.753Z"
   },
   {
    "duration": -1553,
    "start_time": "2022-02-06T04:54:47.757Z"
   },
   {
    "duration": -1556,
    "start_time": "2022-02-06T04:54:47.761Z"
   },
   {
    "duration": -1539,
    "start_time": "2022-02-06T04:54:47.765Z"
   },
   {
    "duration": -1541,
    "start_time": "2022-02-06T04:54:47.768Z"
   },
   {
    "duration": -1544,
    "start_time": "2022-02-06T04:54:47.772Z"
   },
   {
    "duration": -1546,
    "start_time": "2022-02-06T04:54:47.775Z"
   },
   {
    "duration": -1549,
    "start_time": "2022-02-06T04:54:47.779Z"
   },
   {
    "duration": -1551,
    "start_time": "2022-02-06T04:54:47.782Z"
   },
   {
    "duration": 184,
    "start_time": "2022-02-06T05:01:39.031Z"
   },
   {
    "duration": 13,
    "start_time": "2022-02-06T05:01:49.520Z"
   },
   {
    "duration": 13,
    "start_time": "2022-02-06T05:02:03.882Z"
   },
   {
    "duration": 927,
    "start_time": "2022-02-06T05:02:25.680Z"
   },
   {
    "duration": 373,
    "start_time": "2022-02-06T05:02:26.609Z"
   },
   {
    "duration": 72,
    "start_time": "2022-02-06T05:02:26.984Z"
   },
   {
    "duration": 17,
    "start_time": "2022-02-06T05:02:27.057Z"
   },
   {
    "duration": 386,
    "start_time": "2022-02-06T05:02:27.076Z"
   },
   {
    "duration": -1339,
    "start_time": "2022-02-06T05:02:28.803Z"
   },
   {
    "duration": -1352,
    "start_time": "2022-02-06T05:02:28.817Z"
   },
   {
    "duration": -1364,
    "start_time": "2022-02-06T05:02:28.830Z"
   },
   {
    "duration": -1390,
    "start_time": "2022-02-06T05:02:28.857Z"
   },
   {
    "duration": -1399,
    "start_time": "2022-02-06T05:02:28.867Z"
   },
   {
    "duration": -1410,
    "start_time": "2022-02-06T05:02:28.879Z"
   },
   {
    "duration": -1420,
    "start_time": "2022-02-06T05:02:28.890Z"
   },
   {
    "duration": -1429,
    "start_time": "2022-02-06T05:02:28.900Z"
   },
   {
    "duration": -1437,
    "start_time": "2022-02-06T05:02:28.909Z"
   },
   {
    "duration": -1444,
    "start_time": "2022-02-06T05:02:28.917Z"
   },
   {
    "duration": -1455,
    "start_time": "2022-02-06T05:02:28.929Z"
   },
   {
    "duration": -1462,
    "start_time": "2022-02-06T05:02:28.937Z"
   },
   {
    "duration": -1469,
    "start_time": "2022-02-06T05:02:28.945Z"
   },
   {
    "duration": -1476,
    "start_time": "2022-02-06T05:02:28.953Z"
   },
   {
    "duration": -1503,
    "start_time": "2022-02-06T05:02:28.981Z"
   },
   {
    "duration": -1511,
    "start_time": "2022-02-06T05:02:28.990Z"
   },
   {
    "duration": -1521,
    "start_time": "2022-02-06T05:02:29.001Z"
   },
   {
    "duration": -1531,
    "start_time": "2022-02-06T05:02:29.011Z"
   },
   {
    "duration": -1537,
    "start_time": "2022-02-06T05:02:29.018Z"
   },
   {
    "duration": -1541,
    "start_time": "2022-02-06T05:02:29.023Z"
   },
   {
    "duration": -1545,
    "start_time": "2022-02-06T05:02:29.028Z"
   },
   {
    "duration": -1550,
    "start_time": "2022-02-06T05:02:29.034Z"
   },
   {
    "duration": -1554,
    "start_time": "2022-02-06T05:02:29.039Z"
   },
   {
    "duration": -1558,
    "start_time": "2022-02-06T05:02:29.044Z"
   },
   {
    "duration": -1563,
    "start_time": "2022-02-06T05:02:29.050Z"
   },
   {
    "duration": -1567,
    "start_time": "2022-02-06T05:02:29.055Z"
   },
   {
    "duration": -1571,
    "start_time": "2022-02-06T05:02:29.060Z"
   },
   {
    "duration": -1576,
    "start_time": "2022-02-06T05:02:29.065Z"
   },
   {
    "duration": -1581,
    "start_time": "2022-02-06T05:02:29.071Z"
   },
   {
    "duration": -1597,
    "start_time": "2022-02-06T05:02:29.088Z"
   },
   {
    "duration": -1601,
    "start_time": "2022-02-06T05:02:29.093Z"
   },
   {
    "duration": -1605,
    "start_time": "2022-02-06T05:02:29.098Z"
   },
   {
    "duration": -1611,
    "start_time": "2022-02-06T05:02:29.105Z"
   },
   {
    "duration": -1615,
    "start_time": "2022-02-06T05:02:29.110Z"
   },
   {
    "duration": -1619,
    "start_time": "2022-02-06T05:02:29.115Z"
   },
   {
    "duration": -1624,
    "start_time": "2022-02-06T05:02:29.120Z"
   },
   {
    "duration": -1629,
    "start_time": "2022-02-06T05:02:29.126Z"
   },
   {
    "duration": -1632,
    "start_time": "2022-02-06T05:02:29.130Z"
   },
   {
    "duration": -1639,
    "start_time": "2022-02-06T05:02:29.138Z"
   },
   {
    "duration": -1645,
    "start_time": "2022-02-06T05:02:29.145Z"
   },
   {
    "duration": -1653,
    "start_time": "2022-02-06T05:02:29.154Z"
   },
   {
    "duration": -1659,
    "start_time": "2022-02-06T05:02:29.161Z"
   },
   {
    "duration": -1667,
    "start_time": "2022-02-06T05:02:29.170Z"
   },
   {
    "duration": -1650,
    "start_time": "2022-02-06T05:02:29.177Z"
   },
   {
    "duration": -1660,
    "start_time": "2022-02-06T05:02:29.188Z"
   },
   {
    "duration": -1678,
    "start_time": "2022-02-06T05:02:29.207Z"
   },
   {
    "duration": 314,
    "start_time": "2022-02-06T05:06:35.748Z"
   },
   {
    "duration": 1018,
    "start_time": "2022-02-06T07:07:07.459Z"
   },
   {
    "duration": 425,
    "start_time": "2022-02-06T07:07:08.479Z"
   },
   {
    "duration": 71,
    "start_time": "2022-02-06T07:07:08.906Z"
   },
   {
    "duration": 18,
    "start_time": "2022-02-06T07:07:08.978Z"
   },
   {
    "duration": 427,
    "start_time": "2022-02-06T07:07:08.997Z"
   },
   {
    "duration": -1395,
    "start_time": "2022-02-06T07:07:10.821Z"
   },
   {
    "duration": -1406,
    "start_time": "2022-02-06T07:07:10.833Z"
   },
   {
    "duration": -1461,
    "start_time": "2022-02-06T07:07:10.889Z"
   },
   {
    "duration": -1470,
    "start_time": "2022-02-06T07:07:10.898Z"
   },
   {
    "duration": -1494,
    "start_time": "2022-02-06T07:07:10.923Z"
   },
   {
    "duration": -1501,
    "start_time": "2022-02-06T07:07:10.931Z"
   },
   {
    "duration": -1511,
    "start_time": "2022-02-06T07:07:10.942Z"
   },
   {
    "duration": -1521,
    "start_time": "2022-02-06T07:07:10.953Z"
   },
   {
    "duration": -1641,
    "start_time": "2022-02-06T07:07:11.073Z"
   },
   {
    "duration": -1720,
    "start_time": "2022-02-06T07:07:11.153Z"
   },
   {
    "duration": -2036,
    "start_time": "2022-02-06T07:07:11.470Z"
   },
   {
    "duration": -2043,
    "start_time": "2022-02-06T07:07:11.478Z"
   },
   {
    "duration": -2051,
    "start_time": "2022-02-06T07:07:11.487Z"
   },
   {
    "duration": -2057,
    "start_time": "2022-02-06T07:07:11.494Z"
   },
   {
    "duration": -2065,
    "start_time": "2022-02-06T07:07:11.503Z"
   },
   {
    "duration": -2072,
    "start_time": "2022-02-06T07:07:11.511Z"
   },
   {
    "duration": -2081,
    "start_time": "2022-02-06T07:07:11.520Z"
   },
   {
    "duration": -2088,
    "start_time": "2022-02-06T07:07:11.528Z"
   },
   {
    "duration": -2096,
    "start_time": "2022-02-06T07:07:11.537Z"
   },
   {
    "duration": -2102,
    "start_time": "2022-02-06T07:07:11.544Z"
   },
   {
    "duration": -2110,
    "start_time": "2022-02-06T07:07:11.552Z"
   },
   {
    "duration": -2117,
    "start_time": "2022-02-06T07:07:11.560Z"
   },
   {
    "duration": -2143,
    "start_time": "2022-02-06T07:07:11.587Z"
   },
   {
    "duration": -2150,
    "start_time": "2022-02-06T07:07:11.595Z"
   },
   {
    "duration": -2158,
    "start_time": "2022-02-06T07:07:11.604Z"
   },
   {
    "duration": -2165,
    "start_time": "2022-02-06T07:07:11.611Z"
   },
   {
    "duration": -2174,
    "start_time": "2022-02-06T07:07:11.621Z"
   },
   {
    "duration": -2181,
    "start_time": "2022-02-06T07:07:11.629Z"
   },
   {
    "duration": -2189,
    "start_time": "2022-02-06T07:07:11.638Z"
   },
   {
    "duration": -2195,
    "start_time": "2022-02-06T07:07:11.645Z"
   },
   {
    "duration": -2202,
    "start_time": "2022-02-06T07:07:11.653Z"
   },
   {
    "duration": -2206,
    "start_time": "2022-02-06T07:07:11.658Z"
   },
   {
    "duration": -2210,
    "start_time": "2022-02-06T07:07:11.663Z"
   },
   {
    "duration": -2247,
    "start_time": "2022-02-06T07:07:11.701Z"
   },
   {
    "duration": -2251,
    "start_time": "2022-02-06T07:07:11.707Z"
   },
   {
    "duration": -2255,
    "start_time": "2022-02-06T07:07:11.712Z"
   },
   {
    "duration": -2261,
    "start_time": "2022-02-06T07:07:11.718Z"
   },
   {
    "duration": -2264,
    "start_time": "2022-02-06T07:07:11.722Z"
   },
   {
    "duration": -2268,
    "start_time": "2022-02-06T07:07:11.727Z"
   },
   {
    "duration": -2272,
    "start_time": "2022-02-06T07:07:11.732Z"
   },
   {
    "duration": -2277,
    "start_time": "2022-02-06T07:07:11.738Z"
   },
   {
    "duration": -2282,
    "start_time": "2022-02-06T07:07:11.743Z"
   },
   {
    "duration": -2286,
    "start_time": "2022-02-06T07:07:11.749Z"
   },
   {
    "duration": -2291,
    "start_time": "2022-02-06T07:07:11.754Z"
   },
   {
    "duration": -2295,
    "start_time": "2022-02-06T07:07:11.759Z"
   },
   {
    "duration": -2299,
    "start_time": "2022-02-06T07:07:11.764Z"
   },
   {
    "duration": 67,
    "start_time": "2022-02-06T07:12:03.437Z"
   },
   {
    "duration": 50,
    "start_time": "2022-02-06T07:12:09.693Z"
   },
   {
    "duration": 1070,
    "start_time": "2022-02-06T07:13:05.704Z"
   },
   {
    "duration": 397,
    "start_time": "2022-02-06T07:13:06.775Z"
   },
   {
    "duration": 73,
    "start_time": "2022-02-06T07:13:07.173Z"
   },
   {
    "duration": 17,
    "start_time": "2022-02-06T07:13:07.248Z"
   },
   {
    "duration": 79,
    "start_time": "2022-02-06T07:13:07.267Z"
   },
   {
    "duration": 49,
    "start_time": "2022-02-06T07:13:07.348Z"
   },
   {
    "duration": 406,
    "start_time": "2022-02-06T07:13:07.399Z"
   },
   {
    "duration": -1287,
    "start_time": "2022-02-06T07:13:09.095Z"
   },
   {
    "duration": -1344,
    "start_time": "2022-02-06T07:13:09.153Z"
   },
   {
    "duration": -1363,
    "start_time": "2022-02-06T07:13:09.172Z"
   },
   {
    "duration": -1370,
    "start_time": "2022-02-06T07:13:09.180Z"
   },
   {
    "duration": -1375,
    "start_time": "2022-02-06T07:13:09.186Z"
   },
   {
    "duration": -1380,
    "start_time": "2022-02-06T07:13:09.192Z"
   },
   {
    "duration": -1386,
    "start_time": "2022-02-06T07:13:09.199Z"
   },
   {
    "duration": -1392,
    "start_time": "2022-02-06T07:13:09.206Z"
   },
   {
    "duration": -1397,
    "start_time": "2022-02-06T07:13:09.212Z"
   },
   {
    "duration": -1401,
    "start_time": "2022-02-06T07:13:09.217Z"
   },
   {
    "duration": -1407,
    "start_time": "2022-02-06T07:13:09.224Z"
   },
   {
    "duration": -1413,
    "start_time": "2022-02-06T07:13:09.230Z"
   },
   {
    "duration": -1433,
    "start_time": "2022-02-06T07:13:09.251Z"
   },
   {
    "duration": -1439,
    "start_time": "2022-02-06T07:13:09.258Z"
   },
   {
    "duration": -1445,
    "start_time": "2022-02-06T07:13:09.265Z"
   },
   {
    "duration": -1452,
    "start_time": "2022-02-06T07:13:09.273Z"
   },
   {
    "duration": -1458,
    "start_time": "2022-02-06T07:13:09.280Z"
   },
   {
    "duration": -1464,
    "start_time": "2022-02-06T07:13:09.287Z"
   },
   {
    "duration": -1471,
    "start_time": "2022-02-06T07:13:09.294Z"
   },
   {
    "duration": -1476,
    "start_time": "2022-02-06T07:13:09.300Z"
   },
   {
    "duration": -1482,
    "start_time": "2022-02-06T07:13:09.307Z"
   },
   {
    "duration": -1486,
    "start_time": "2022-02-06T07:13:09.312Z"
   },
   {
    "duration": -1566,
    "start_time": "2022-02-06T07:13:09.392Z"
   },
   {
    "duration": -1576,
    "start_time": "2022-02-06T07:13:09.403Z"
   },
   {
    "duration": -1586,
    "start_time": "2022-02-06T07:13:09.414Z"
   },
   {
    "duration": -1626,
    "start_time": "2022-02-06T07:13:09.455Z"
   },
   {
    "duration": -1634,
    "start_time": "2022-02-06T07:13:09.464Z"
   },
   {
    "duration": -1641,
    "start_time": "2022-02-06T07:13:09.472Z"
   },
   {
    "duration": -1677,
    "start_time": "2022-02-06T07:13:09.509Z"
   },
   {
    "duration": -1681,
    "start_time": "2022-02-06T07:13:09.514Z"
   },
   {
    "duration": -1687,
    "start_time": "2022-02-06T07:13:09.521Z"
   },
   {
    "duration": -1692,
    "start_time": "2022-02-06T07:13:09.526Z"
   },
   {
    "duration": -1697,
    "start_time": "2022-02-06T07:13:09.532Z"
   },
   {
    "duration": -1711,
    "start_time": "2022-02-06T07:13:09.547Z"
   },
   {
    "duration": -1717,
    "start_time": "2022-02-06T07:13:09.554Z"
   },
   {
    "duration": -1722,
    "start_time": "2022-02-06T07:13:09.560Z"
   },
   {
    "duration": -1727,
    "start_time": "2022-02-06T07:13:09.566Z"
   },
   {
    "duration": -1732,
    "start_time": "2022-02-06T07:13:09.572Z"
   },
   {
    "duration": -1736,
    "start_time": "2022-02-06T07:13:09.577Z"
   },
   {
    "duration": -1740,
    "start_time": "2022-02-06T07:13:09.582Z"
   },
   {
    "duration": -1746,
    "start_time": "2022-02-06T07:13:09.589Z"
   },
   {
    "duration": -1750,
    "start_time": "2022-02-06T07:13:09.594Z"
   },
   {
    "duration": -1755,
    "start_time": "2022-02-06T07:13:09.600Z"
   },
   {
    "duration": -1759,
    "start_time": "2022-02-06T07:13:09.605Z"
   },
   {
    "duration": -1776,
    "start_time": "2022-02-06T07:13:09.623Z"
   },
   {
    "duration": 266,
    "start_time": "2022-02-06T07:13:57.333Z"
   },
   {
    "duration": 322,
    "start_time": "2022-02-06T07:14:19.381Z"
   },
   {
    "duration": 207,
    "start_time": "2022-02-06T07:17:51.849Z"
   },
   {
    "duration": 134,
    "start_time": "2022-02-06T07:17:54.888Z"
   },
   {
    "duration": 25,
    "start_time": "2022-02-06T07:18:08.667Z"
   },
   {
    "duration": 338,
    "start_time": "2022-02-06T07:18:41.226Z"
   },
   {
    "duration": 341,
    "start_time": "2022-02-06T07:18:59.532Z"
   },
   {
    "duration": 24,
    "start_time": "2022-02-06T07:19:18.470Z"
   },
   {
    "duration": 77,
    "start_time": "2022-02-06T07:19:22.641Z"
   },
   {
    "duration": 73,
    "start_time": "2022-02-06T07:20:39.464Z"
   },
   {
    "duration": 1054,
    "start_time": "2022-02-06T07:21:51.227Z"
   },
   {
    "duration": 390,
    "start_time": "2022-02-06T07:21:52.283Z"
   },
   {
    "duration": 70,
    "start_time": "2022-02-06T07:21:52.675Z"
   },
   {
    "duration": 17,
    "start_time": "2022-02-06T07:21:52.746Z"
   },
   {
    "duration": 81,
    "start_time": "2022-02-06T07:21:52.764Z"
   },
   {
    "duration": 51,
    "start_time": "2022-02-06T07:21:52.846Z"
   },
   {
    "duration": 270,
    "start_time": "2022-02-06T07:21:52.899Z"
   },
   {
    "duration": 137,
    "start_time": "2022-02-06T07:21:53.170Z"
   },
   {
    "duration": 76,
    "start_time": "2022-02-06T07:21:53.310Z"
   },
   {
    "duration": 8359,
    "start_time": "2022-02-06T07:21:53.388Z"
   },
   {
    "duration": -1347,
    "start_time": "2022-02-06T07:22:03.098Z"
   },
   {
    "duration": -1360,
    "start_time": "2022-02-06T07:22:03.112Z"
   },
   {
    "duration": -1366,
    "start_time": "2022-02-06T07:22:03.120Z"
   },
   {
    "duration": -1369,
    "start_time": "2022-02-06T07:22:03.124Z"
   },
   {
    "duration": -1371,
    "start_time": "2022-02-06T07:22:03.128Z"
   },
   {
    "duration": -1373,
    "start_time": "2022-02-06T07:22:03.131Z"
   },
   {
    "duration": -1376,
    "start_time": "2022-02-06T07:22:03.136Z"
   },
   {
    "duration": -1377,
    "start_time": "2022-02-06T07:22:03.138Z"
   },
   {
    "duration": -1379,
    "start_time": "2022-02-06T07:22:03.142Z"
   },
   {
    "duration": -1380,
    "start_time": "2022-02-06T07:22:03.144Z"
   },
   {
    "duration": -1382,
    "start_time": "2022-02-06T07:22:03.148Z"
   },
   {
    "duration": -1386,
    "start_time": "2022-02-06T07:22:03.153Z"
   },
   {
    "duration": -1396,
    "start_time": "2022-02-06T07:22:03.164Z"
   },
   {
    "duration": -1399,
    "start_time": "2022-02-06T07:22:03.169Z"
   },
   {
    "duration": -1402,
    "start_time": "2022-02-06T07:22:03.173Z"
   },
   {
    "duration": -1404,
    "start_time": "2022-02-06T07:22:03.177Z"
   },
   {
    "duration": -1407,
    "start_time": "2022-02-06T07:22:03.181Z"
   },
   {
    "duration": -1409,
    "start_time": "2022-02-06T07:22:03.184Z"
   },
   {
    "duration": -1410,
    "start_time": "2022-02-06T07:22:03.187Z"
   },
   {
    "duration": -1412,
    "start_time": "2022-02-06T07:22:03.190Z"
   },
   {
    "duration": -1413,
    "start_time": "2022-02-06T07:22:03.193Z"
   },
   {
    "duration": -1416,
    "start_time": "2022-02-06T07:22:03.197Z"
   },
   {
    "duration": -1419,
    "start_time": "2022-02-06T07:22:03.201Z"
   },
   {
    "duration": -1428,
    "start_time": "2022-02-06T07:22:03.212Z"
   },
   {
    "duration": -1431,
    "start_time": "2022-02-06T07:22:03.216Z"
   },
   {
    "duration": -1433,
    "start_time": "2022-02-06T07:22:03.219Z"
   },
   {
    "duration": -1435,
    "start_time": "2022-02-06T07:22:03.223Z"
   },
   {
    "duration": -1437,
    "start_time": "2022-02-06T07:22:03.226Z"
   },
   {
    "duration": -1411,
    "start_time": "2022-02-06T07:22:03.237Z"
   },
   {
    "duration": -1419,
    "start_time": "2022-02-06T07:22:03.247Z"
   },
   {
    "duration": -1427,
    "start_time": "2022-02-06T07:22:03.257Z"
   },
   {
    "duration": -1429,
    "start_time": "2022-02-06T07:22:03.260Z"
   },
   {
    "duration": -1430,
    "start_time": "2022-02-06T07:22:03.263Z"
   },
   {
    "duration": -1432,
    "start_time": "2022-02-06T07:22:03.266Z"
   },
   {
    "duration": -1435,
    "start_time": "2022-02-06T07:22:03.270Z"
   },
   {
    "duration": -1451,
    "start_time": "2022-02-06T07:22:03.287Z"
   },
   {
    "duration": -1453,
    "start_time": "2022-02-06T07:22:03.291Z"
   },
   {
    "duration": -1467,
    "start_time": "2022-02-06T07:22:03.306Z"
   },
   {
    "duration": -1479,
    "start_time": "2022-02-06T07:22:03.320Z"
   },
   {
    "duration": -1480,
    "start_time": "2022-02-06T07:22:03.322Z"
   },
   {
    "duration": -1483,
    "start_time": "2022-02-06T07:22:03.326Z"
   },
   {
    "duration": -1513,
    "start_time": "2022-02-06T07:22:03.357Z"
   },
   {
    "duration": -1531,
    "start_time": "2022-02-06T07:22:03.376Z"
   },
   {
    "duration": 73,
    "start_time": "2022-02-06T07:23:09.718Z"
   },
   {
    "duration": 8891,
    "start_time": "2022-02-06T07:24:56.572Z"
   },
   {
    "duration": 14,
    "start_time": "2022-02-06T07:30:35.095Z"
   },
   {
    "duration": 7,
    "start_time": "2022-02-06T07:30:37.307Z"
   },
   {
    "duration": 186,
    "start_time": "2022-02-06T07:35:00.263Z"
   },
   {
    "duration": 114,
    "start_time": "2022-02-06T07:35:04.504Z"
   },
   {
    "duration": 16,
    "start_time": "2022-02-06T07:35:29.321Z"
   },
   {
    "duration": 75,
    "start_time": "2022-02-06T07:37:40.440Z"
   },
   {
    "duration": 537,
    "start_time": "2022-02-06T07:39:28.194Z"
   },
   {
    "duration": 690,
    "start_time": "2022-02-06T07:41:04.848Z"
   },
   {
    "duration": 540,
    "start_time": "2022-02-06T07:41:57.681Z"
   },
   {
    "duration": 35,
    "start_time": "2022-02-06T07:42:20.814Z"
   },
   {
    "duration": 7,
    "start_time": "2022-02-06T07:45:39.766Z"
   },
   {
    "duration": 73,
    "start_time": "2022-02-06T07:51:27.222Z"
   },
   {
    "duration": 73,
    "start_time": "2022-02-06T07:51:57.525Z"
   },
   {
    "duration": 72,
    "start_time": "2022-02-06T07:52:38.245Z"
   },
   {
    "duration": 5,
    "start_time": "2022-02-06T07:53:41.364Z"
   },
   {
    "duration": 9,
    "start_time": "2022-02-06T07:53:56.814Z"
   },
   {
    "duration": 73,
    "start_time": "2022-02-06T07:54:07.300Z"
   },
   {
    "duration": 79,
    "start_time": "2022-02-06T07:54:41.824Z"
   },
   {
    "duration": 343,
    "start_time": "2022-02-06T07:57:38.221Z"
   },
   {
    "duration": 347,
    "start_time": "2022-02-06T08:00:11.844Z"
   },
   {
    "duration": 25,
    "start_time": "2022-02-06T08:00:21.952Z"
   },
   {
    "duration": 77,
    "start_time": "2022-02-06T08:00:33.044Z"
   },
   {
    "duration": 91,
    "start_time": "2022-02-06T08:01:25.107Z"
   },
   {
    "duration": 40,
    "start_time": "2022-02-06T08:03:01.442Z"
   },
   {
    "duration": 372,
    "start_time": "2022-02-06T08:04:03.902Z"
   },
   {
    "duration": 321,
    "start_time": "2022-02-06T08:04:17.710Z"
   },
   {
    "duration": 424,
    "start_time": "2022-02-06T08:05:01.465Z"
   },
   {
    "duration": 63,
    "start_time": "2022-02-06T08:05:18.109Z"
   },
   {
    "duration": -1521,
    "start_time": "2022-02-06T08:05:48.063Z"
   },
   {
    "duration": 8565,
    "start_time": "2022-02-06T08:05:48.083Z"
   },
   {
    "duration": 1004,
    "start_time": "2022-02-06T08:06:28.288Z"
   },
   {
    "duration": 374,
    "start_time": "2022-02-06T08:06:29.293Z"
   },
   {
    "duration": 75,
    "start_time": "2022-02-06T08:06:29.669Z"
   },
   {
    "duration": 102,
    "start_time": "2022-02-06T08:06:29.746Z"
   },
   {
    "duration": -1335,
    "start_time": "2022-02-06T08:06:31.185Z"
   },
   {
    "duration": -1338,
    "start_time": "2022-02-06T08:06:31.189Z"
   },
   {
    "duration": -1340,
    "start_time": "2022-02-06T08:06:31.192Z"
   },
   {
    "duration": -1357,
    "start_time": "2022-02-06T08:06:31.210Z"
   },
   {
    "duration": -1360,
    "start_time": "2022-02-06T08:06:31.215Z"
   },
   {
    "duration": -1369,
    "start_time": "2022-02-06T08:06:31.225Z"
   },
   {
    "duration": -1371,
    "start_time": "2022-02-06T08:06:31.228Z"
   },
   {
    "duration": -1373,
    "start_time": "2022-02-06T08:06:31.231Z"
   },
   {
    "duration": -1375,
    "start_time": "2022-02-06T08:06:31.234Z"
   },
   {
    "duration": -1377,
    "start_time": "2022-02-06T08:06:31.237Z"
   },
   {
    "duration": -1380,
    "start_time": "2022-02-06T08:06:31.241Z"
   },
   {
    "duration": -1381,
    "start_time": "2022-02-06T08:06:31.243Z"
   },
   {
    "duration": -1383,
    "start_time": "2022-02-06T08:06:31.246Z"
   },
   {
    "duration": -1398,
    "start_time": "2022-02-06T08:06:31.261Z"
   },
   {
    "duration": -1400,
    "start_time": "2022-02-06T08:06:31.264Z"
   },
   {
    "duration": -1467,
    "start_time": "2022-02-06T08:06:31.332Z"
   },
   {
    "duration": -1469,
    "start_time": "2022-02-06T08:06:31.335Z"
   },
   {
    "duration": -1471,
    "start_time": "2022-02-06T08:06:31.338Z"
   },
   {
    "duration": -1474,
    "start_time": "2022-02-06T08:06:31.342Z"
   },
   {
    "duration": -1543,
    "start_time": "2022-02-06T08:06:31.412Z"
   },
   {
    "duration": -1545,
    "start_time": "2022-02-06T08:06:31.415Z"
   },
   {
    "duration": -1547,
    "start_time": "2022-02-06T08:06:31.418Z"
   },
   {
    "duration": -1550,
    "start_time": "2022-02-06T08:06:31.421Z"
   },
   {
    "duration": -1552,
    "start_time": "2022-02-06T08:06:31.424Z"
   },
   {
    "duration": -1555,
    "start_time": "2022-02-06T08:06:31.428Z"
   },
   {
    "duration": -1557,
    "start_time": "2022-02-06T08:06:31.431Z"
   },
   {
    "duration": -1559,
    "start_time": "2022-02-06T08:06:31.434Z"
   },
   {
    "duration": -1619,
    "start_time": "2022-02-06T08:06:31.495Z"
   },
   {
    "duration": -1622,
    "start_time": "2022-02-06T08:06:31.498Z"
   },
   {
    "duration": -1624,
    "start_time": "2022-02-06T08:06:31.501Z"
   },
   {
    "duration": -1626,
    "start_time": "2022-02-06T08:06:31.504Z"
   },
   {
    "duration": -1628,
    "start_time": "2022-02-06T08:06:31.507Z"
   },
   {
    "duration": -1632,
    "start_time": "2022-02-06T08:06:31.511Z"
   },
   {
    "duration": -1633,
    "start_time": "2022-02-06T08:06:31.513Z"
   },
   {
    "duration": -1636,
    "start_time": "2022-02-06T08:06:31.517Z"
   },
   {
    "duration": -1638,
    "start_time": "2022-02-06T08:06:31.520Z"
   },
   {
    "duration": -1641,
    "start_time": "2022-02-06T08:06:31.523Z"
   },
   {
    "duration": -1642,
    "start_time": "2022-02-06T08:06:31.525Z"
   },
   {
    "duration": -1645,
    "start_time": "2022-02-06T08:06:31.529Z"
   },
   {
    "duration": -1667,
    "start_time": "2022-02-06T08:06:31.552Z"
   },
   {
    "duration": -1670,
    "start_time": "2022-02-06T08:06:31.556Z"
   },
   {
    "duration": -1671,
    "start_time": "2022-02-06T08:06:31.559Z"
   },
   {
    "duration": -1673,
    "start_time": "2022-02-06T08:06:31.562Z"
   },
   {
    "duration": -1639,
    "start_time": "2022-02-06T08:06:31.565Z"
   },
   {
    "duration": 345,
    "start_time": "2022-02-06T08:06:51.236Z"
   },
   {
    "duration": 240,
    "start_time": "2022-02-06T08:06:55.979Z"
   },
   {
    "duration": 107,
    "start_time": "2022-02-06T08:06:58.178Z"
   },
   {
    "duration": 14,
    "start_time": "2022-02-06T08:07:18.716Z"
   },
   {
    "duration": 139,
    "start_time": "2022-02-06T08:07:23.578Z"
   },
   {
    "duration": 400,
    "start_time": "2022-02-06T08:07:36.600Z"
   },
   {
    "duration": 417,
    "start_time": "2022-02-06T08:07:59.014Z"
   },
   {
    "duration": 48,
    "start_time": "2022-02-06T08:08:03.348Z"
   },
   {
    "duration": 99,
    "start_time": "2022-02-06T08:08:08.879Z"
   },
   {
    "duration": 5,
    "start_time": "2022-02-06T08:08:36.399Z"
   },
   {
    "duration": 9,
    "start_time": "2022-02-06T08:08:44.707Z"
   },
   {
    "duration": 87,
    "start_time": "2022-02-06T08:09:09.031Z"
   },
   {
    "duration": 354,
    "start_time": "2022-02-06T08:09:36.634Z"
   },
   {
    "duration": 73,
    "start_time": "2022-02-06T08:09:54.099Z"
   },
   {
    "duration": 8372,
    "start_time": "2022-02-06T08:09:57.387Z"
   },
   {
    "duration": 8276,
    "start_time": "2022-02-06T08:10:14.960Z"
   },
   {
    "duration": 365,
    "start_time": "2022-02-06T08:10:31.683Z"
   },
   {
    "duration": 1139,
    "start_time": "2022-02-06T08:11:01.646Z"
   },
   {
    "duration": 381,
    "start_time": "2022-02-06T08:11:02.787Z"
   },
   {
    "duration": 76,
    "start_time": "2022-02-06T08:11:03.170Z"
   },
   {
    "duration": 396,
    "start_time": "2022-02-06T08:11:03.248Z"
   },
   {
    "duration": 256,
    "start_time": "2022-02-06T08:11:03.646Z"
   },
   {
    "duration": 29,
    "start_time": "2022-02-06T08:11:03.904Z"
   },
   {
    "duration": 246,
    "start_time": "2022-02-06T08:11:03.935Z"
   },
   {
    "duration": 476,
    "start_time": "2022-02-06T08:11:04.183Z"
   },
   {
    "duration": 114,
    "start_time": "2022-02-06T08:11:04.672Z"
   },
   {
    "duration": 249,
    "start_time": "2022-02-06T08:11:04.797Z"
   },
   {
    "duration": 19,
    "start_time": "2022-02-06T08:11:05.059Z"
   },
   {
    "duration": 125,
    "start_time": "2022-02-06T08:11:05.091Z"
   },
   {
    "duration": 88,
    "start_time": "2022-02-06T08:11:05.218Z"
   },
   {
    "duration": 77,
    "start_time": "2022-02-06T08:11:05.307Z"
   },
   {
    "duration": 105,
    "start_time": "2022-02-06T08:11:05.385Z"
   },
   {
    "duration": -1279,
    "start_time": "2022-02-06T08:11:06.774Z"
   },
   {
    "duration": -1283,
    "start_time": "2022-02-06T08:11:06.779Z"
   },
   {
    "duration": -1288,
    "start_time": "2022-02-06T08:11:06.785Z"
   },
   {
    "duration": -1292,
    "start_time": "2022-02-06T08:11:06.790Z"
   },
   {
    "duration": -1295,
    "start_time": "2022-02-06T08:11:06.794Z"
   },
   {
    "duration": -1299,
    "start_time": "2022-02-06T08:11:06.799Z"
   },
   {
    "duration": -1302,
    "start_time": "2022-02-06T08:11:06.803Z"
   },
   {
    "duration": -1313,
    "start_time": "2022-02-06T08:11:06.815Z"
   },
   {
    "duration": -1316,
    "start_time": "2022-02-06T08:11:06.819Z"
   },
   {
    "duration": -1319,
    "start_time": "2022-02-06T08:11:06.823Z"
   },
   {
    "duration": -1322,
    "start_time": "2022-02-06T08:11:06.827Z"
   },
   {
    "duration": -1326,
    "start_time": "2022-02-06T08:11:06.832Z"
   },
   {
    "duration": -1329,
    "start_time": "2022-02-06T08:11:06.836Z"
   },
   {
    "duration": -1332,
    "start_time": "2022-02-06T08:11:06.840Z"
   },
   {
    "duration": -1335,
    "start_time": "2022-02-06T08:11:06.844Z"
   },
   {
    "duration": -1337,
    "start_time": "2022-02-06T08:11:06.847Z"
   },
   {
    "duration": -1340,
    "start_time": "2022-02-06T08:11:06.851Z"
   },
   {
    "duration": -1344,
    "start_time": "2022-02-06T08:11:06.855Z"
   },
   {
    "duration": -1346,
    "start_time": "2022-02-06T08:11:06.858Z"
   },
   {
    "duration": -1349,
    "start_time": "2022-02-06T08:11:06.862Z"
   },
   {
    "duration": -1351,
    "start_time": "2022-02-06T08:11:06.865Z"
   },
   {
    "duration": -1354,
    "start_time": "2022-02-06T08:11:06.869Z"
   },
   {
    "duration": -1356,
    "start_time": "2022-02-06T08:11:06.872Z"
   },
   {
    "duration": -1360,
    "start_time": "2022-02-06T08:11:06.878Z"
   },
   {
    "duration": -1363,
    "start_time": "2022-02-06T08:11:06.881Z"
   },
   {
    "duration": -1366,
    "start_time": "2022-02-06T08:11:06.885Z"
   },
   {
    "duration": -1368,
    "start_time": "2022-02-06T08:11:06.888Z"
   },
   {
    "duration": -1371,
    "start_time": "2022-02-06T08:11:06.892Z"
   },
   {
    "duration": 8371,
    "start_time": "2022-02-06T08:13:06.744Z"
   },
   {
    "duration": 10,
    "start_time": "2022-02-06T08:13:44.707Z"
   },
   {
    "duration": 8200,
    "start_time": "2022-02-06T08:14:42.555Z"
   },
   {
    "duration": 1056,
    "start_time": "2022-02-06T08:16:03.496Z"
   },
   {
    "duration": 384,
    "start_time": "2022-02-06T08:16:04.554Z"
   },
   {
    "duration": 71,
    "start_time": "2022-02-06T08:16:04.940Z"
   },
   {
    "duration": 363,
    "start_time": "2022-02-06T08:16:05.013Z"
   },
   {
    "duration": 233,
    "start_time": "2022-02-06T08:16:05.378Z"
   },
   {
    "duration": 19,
    "start_time": "2022-02-06T08:16:05.613Z"
   },
   {
    "duration": 152,
    "start_time": "2022-02-06T08:16:05.633Z"
   },
   {
    "duration": 623,
    "start_time": "2022-02-06T08:16:05.788Z"
   },
   {
    "duration": 52,
    "start_time": "2022-02-06T08:16:06.413Z"
   },
   {
    "duration": 106,
    "start_time": "2022-02-06T08:16:06.467Z"
   },
   {
    "duration": 5,
    "start_time": "2022-02-06T08:16:06.575Z"
   },
   {
    "duration": 7,
    "start_time": "2022-02-06T08:16:06.581Z"
   },
   {
    "duration": 99,
    "start_time": "2022-02-06T08:16:06.590Z"
   },
   {
    "duration": 23,
    "start_time": "2022-02-06T08:16:06.691Z"
   },
   {
    "duration": 66,
    "start_time": "2022-02-06T08:16:06.727Z"
   },
   {
    "duration": 837,
    "start_time": "2022-02-06T08:16:06.794Z"
   },
   {
    "duration": -1325,
    "start_time": "2022-02-06T08:16:08.959Z"
   },
   {
    "duration": -1334,
    "start_time": "2022-02-06T08:16:08.969Z"
   },
   {
    "duration": -1340,
    "start_time": "2022-02-06T08:16:08.977Z"
   },
   {
    "duration": -1353,
    "start_time": "2022-02-06T08:16:08.991Z"
   },
   {
    "duration": -1362,
    "start_time": "2022-02-06T08:16:09.001Z"
   },
   {
    "duration": -1369,
    "start_time": "2022-02-06T08:16:09.009Z"
   },
   {
    "duration": -1378,
    "start_time": "2022-02-06T08:16:09.019Z"
   },
   {
    "duration": -1387,
    "start_time": "2022-02-06T08:16:09.029Z"
   },
   {
    "duration": -1397,
    "start_time": "2022-02-06T08:16:09.040Z"
   },
   {
    "duration": -1407,
    "start_time": "2022-02-06T08:16:09.051Z"
   },
   {
    "duration": -1440,
    "start_time": "2022-02-06T08:16:09.085Z"
   },
   {
    "duration": -1452,
    "start_time": "2022-02-06T08:16:09.098Z"
   },
   {
    "duration": -1461,
    "start_time": "2022-02-06T08:16:09.108Z"
   },
   {
    "duration": -1473,
    "start_time": "2022-02-06T08:16:09.121Z"
   },
   {
    "duration": -1491,
    "start_time": "2022-02-06T08:16:09.140Z"
   },
   {
    "duration": -1503,
    "start_time": "2022-02-06T08:16:09.153Z"
   },
   {
    "duration": -1511,
    "start_time": "2022-02-06T08:16:09.163Z"
   },
   {
    "duration": -1552,
    "start_time": "2022-02-06T08:16:09.206Z"
   },
   {
    "duration": -1558,
    "start_time": "2022-02-06T08:16:09.213Z"
   },
   {
    "duration": -1566,
    "start_time": "2022-02-06T08:16:09.221Z"
   },
   {
    "duration": -1571,
    "start_time": "2022-02-06T08:16:09.227Z"
   },
   {
    "duration": -1579,
    "start_time": "2022-02-06T08:16:09.236Z"
   },
   {
    "duration": -1583,
    "start_time": "2022-02-06T08:16:09.241Z"
   },
   {
    "duration": -1590,
    "start_time": "2022-02-06T08:16:09.249Z"
   },
   {
    "duration": -1595,
    "start_time": "2022-02-06T08:16:09.255Z"
   },
   {
    "duration": -1601,
    "start_time": "2022-02-06T08:16:09.262Z"
   },
   {
    "duration": -1609,
    "start_time": "2022-02-06T08:16:09.271Z"
   },
   {
    "duration": -1617,
    "start_time": "2022-02-06T08:16:09.279Z"
   },
   {
    "duration": -1622,
    "start_time": "2022-02-06T08:16:09.285Z"
   },
   {
    "duration": 62,
    "start_time": "2022-02-06T08:16:56.284Z"
   },
   {
    "duration": 316,
    "start_time": "2022-02-06T08:17:33.865Z"
   },
   {
    "duration": 376,
    "start_time": "2022-02-06T08:17:52.406Z"
   },
   {
    "duration": 4,
    "start_time": "2022-02-06T08:19:33.110Z"
   },
   {
    "duration": 25,
    "start_time": "2022-02-06T08:19:48.793Z"
   },
   {
    "duration": 137,
    "start_time": "2022-02-06T08:19:52.734Z"
   },
   {
    "duration": 26,
    "start_time": "2022-02-06T08:20:33.906Z"
   },
   {
    "duration": 15,
    "start_time": "2022-02-06T08:20:45.934Z"
   },
   {
    "duration": 3,
    "start_time": "2022-02-06T08:23:23.126Z"
   },
   {
    "duration": 350,
    "start_time": "2022-02-06T08:23:28.155Z"
   },
   {
    "duration": 19,
    "start_time": "2022-02-06T08:23:51.882Z"
   },
   {
    "duration": 420,
    "start_time": "2022-02-06T08:24:32.962Z"
   },
   {
    "duration": 19,
    "start_time": "2022-02-06T08:29:02.534Z"
   },
   {
    "duration": 333,
    "start_time": "2022-02-06T08:29:48.457Z"
   },
   {
    "duration": 21,
    "start_time": "2022-02-06T08:30:01.623Z"
   },
   {
    "duration": 8359,
    "start_time": "2022-02-06T08:32:28.323Z"
   },
   {
    "duration": 17,
    "start_time": "2022-02-06T08:35:39.971Z"
   },
   {
    "duration": 843,
    "start_time": "2022-02-06T08:35:43.403Z"
   },
   {
    "duration": 1022,
    "start_time": "2022-02-06T08:35:57.471Z"
   },
   {
    "duration": 1150,
    "start_time": "2022-02-07T06:00:01.070Z"
   },
   {
    "duration": 445,
    "start_time": "2022-02-07T06:00:02.222Z"
   },
   {
    "duration": 89,
    "start_time": "2022-02-07T06:00:02.669Z"
   },
   {
    "duration": 434,
    "start_time": "2022-02-07T06:00:02.760Z"
   },
   {
    "duration": 278,
    "start_time": "2022-02-07T06:00:03.196Z"
   },
   {
    "duration": 20,
    "start_time": "2022-02-07T06:00:03.476Z"
   },
   {
    "duration": 172,
    "start_time": "2022-02-07T06:00:03.497Z"
   },
   {
    "duration": 492,
    "start_time": "2022-02-07T06:00:03.672Z"
   },
   {
    "duration": 65,
    "start_time": "2022-02-07T06:00:04.167Z"
   },
   {
    "duration": 119,
    "start_time": "2022-02-07T06:00:04.234Z"
   },
   {
    "duration": 6,
    "start_time": "2022-02-07T06:00:04.355Z"
   },
   {
    "duration": 31,
    "start_time": "2022-02-07T06:00:04.362Z"
   },
   {
    "duration": 173,
    "start_time": "2022-02-07T06:00:04.395Z"
   },
   {
    "duration": 27,
    "start_time": "2022-02-07T06:00:04.570Z"
   },
   {
    "duration": 25,
    "start_time": "2022-02-07T06:00:04.599Z"
   },
   {
    "duration": 167,
    "start_time": "2022-02-07T06:00:04.626Z"
   },
   {
    "duration": 20,
    "start_time": "2022-02-07T06:00:04.794Z"
   },
   {
    "duration": 142,
    "start_time": "2022-02-07T06:00:04.818Z"
   },
   {
    "duration": 190,
    "start_time": "2022-02-07T06:00:04.962Z"
   },
   {
    "duration": 7634,
    "start_time": "2022-02-07T06:00:05.154Z"
   },
   {
    "duration": -678,
    "start_time": "2022-02-07T06:00:13.469Z"
   },
   {
    "duration": -682,
    "start_time": "2022-02-07T06:00:13.474Z"
   },
   {
    "duration": -686,
    "start_time": "2022-02-07T06:00:13.479Z"
   },
   {
    "duration": -688,
    "start_time": "2022-02-07T06:00:13.484Z"
   },
   {
    "duration": -690,
    "start_time": "2022-02-07T06:00:13.487Z"
   },
   {
    "duration": -692,
    "start_time": "2022-02-07T06:00:13.490Z"
   },
   {
    "duration": -694,
    "start_time": "2022-02-07T06:00:13.493Z"
   },
   {
    "duration": -696,
    "start_time": "2022-02-07T06:00:13.496Z"
   },
   {
    "duration": -698,
    "start_time": "2022-02-07T06:00:13.500Z"
   },
   {
    "duration": -700,
    "start_time": "2022-02-07T06:00:13.502Z"
   },
   {
    "duration": -704,
    "start_time": "2022-02-07T06:00:13.507Z"
   },
   {
    "duration": -707,
    "start_time": "2022-02-07T06:00:13.511Z"
   },
   {
    "duration": -709,
    "start_time": "2022-02-07T06:00:13.514Z"
   },
   {
    "duration": -712,
    "start_time": "2022-02-07T06:00:13.518Z"
   },
   {
    "duration": -714,
    "start_time": "2022-02-07T06:00:13.521Z"
   },
   {
    "duration": -721,
    "start_time": "2022-02-07T06:00:13.529Z"
   },
   {
    "duration": -725,
    "start_time": "2022-02-07T06:00:13.534Z"
   },
   {
    "duration": -728,
    "start_time": "2022-02-07T06:00:13.538Z"
   },
   {
    "duration": -730,
    "start_time": "2022-02-07T06:00:13.542Z"
   },
   {
    "duration": -732,
    "start_time": "2022-02-07T06:00:13.545Z"
   },
   {
    "duration": -737,
    "start_time": "2022-02-07T06:00:13.551Z"
   },
   {
    "duration": -741,
    "start_time": "2022-02-07T06:00:13.556Z"
   },
   {
    "duration": -745,
    "start_time": "2022-02-07T06:00:13.561Z"
   },
   {
    "duration": -747,
    "start_time": "2022-02-07T06:00:13.564Z"
   },
   {
    "duration": -751,
    "start_time": "2022-02-07T06:00:13.569Z"
   },
   {
    "duration": -754,
    "start_time": "2022-02-07T06:00:13.573Z"
   },
   {
    "duration": -756,
    "start_time": "2022-02-07T06:00:13.576Z"
   },
   {
    "duration": -758,
    "start_time": "2022-02-07T06:00:13.579Z"
   },
   {
    "duration": -761,
    "start_time": "2022-02-07T06:00:13.583Z"
   },
   {
    "duration": -764,
    "start_time": "2022-02-07T06:00:13.587Z"
   },
   {
    "duration": -766,
    "start_time": "2022-02-07T06:00:13.590Z"
   },
   {
    "duration": 252,
    "start_time": "2022-02-07T06:01:44.232Z"
   },
   {
    "duration": 285,
    "start_time": "2022-02-07T06:02:28.665Z"
   },
   {
    "duration": 253,
    "start_time": "2022-02-07T06:11:01.491Z"
   },
   {
    "duration": 308,
    "start_time": "2022-02-07T06:11:21.236Z"
   },
   {
    "duration": 250,
    "start_time": "2022-02-07T06:12:56.076Z"
   },
   {
    "duration": 252,
    "start_time": "2022-02-07T06:13:30.551Z"
   },
   {
    "duration": 271,
    "start_time": "2022-02-07T06:14:30.894Z"
   },
   {
    "duration": 254,
    "start_time": "2022-02-07T06:14:55.357Z"
   },
   {
    "duration": 307,
    "start_time": "2022-02-07T06:15:05.467Z"
   },
   {
    "duration": 63,
    "start_time": "2022-02-07T06:18:04.797Z"
   },
   {
    "duration": 1049,
    "start_time": "2022-02-07T06:18:17.559Z"
   },
   {
    "duration": 424,
    "start_time": "2022-02-07T06:18:18.804Z"
   },
   {
    "duration": 109,
    "start_time": "2022-02-07T06:18:21.612Z"
   },
   {
    "duration": 119,
    "start_time": "2022-02-07T06:18:25.877Z"
   },
   {
    "duration": 6,
    "start_time": "2022-02-07T06:19:23.862Z"
   },
   {
    "duration": 87,
    "start_time": "2022-02-07T06:19:25.301Z"
   },
   {
    "duration": 52,
    "start_time": "2022-02-07T06:19:34.438Z"
   },
   {
    "duration": 31,
    "start_time": "2022-02-07T06:23:59.638Z"
   },
   {
    "duration": 36,
    "start_time": "2022-02-07T06:24:28.250Z"
   },
   {
    "duration": 39,
    "start_time": "2022-02-07T06:25:01.270Z"
   },
   {
    "duration": 8,
    "start_time": "2022-02-07T06:25:36.439Z"
   },
   {
    "duration": 6,
    "start_time": "2022-02-07T06:25:44.383Z"
   },
   {
    "duration": 442,
    "start_time": "2022-02-07T06:26:49.695Z"
   },
   {
    "duration": 6,
    "start_time": "2022-02-07T06:26:59.335Z"
   },
   {
    "duration": 6,
    "start_time": "2022-02-07T06:28:56.328Z"
   },
   {
    "duration": 4,
    "start_time": "2022-02-07T06:30:02.432Z"
   },
   {
    "duration": 20,
    "start_time": "2022-02-07T06:30:33.945Z"
   },
   {
    "duration": 232,
    "start_time": "2022-02-07T08:33:39.785Z"
   },
   {
    "duration": 7,
    "start_time": "2022-02-07T08:47:27.356Z"
   },
   {
    "duration": 232,
    "start_time": "2022-02-07T08:48:28.227Z"
   },
   {
    "duration": 49,
    "start_time": "2022-02-07T08:49:27.714Z"
   },
   {
    "duration": 17,
    "start_time": "2022-02-07T08:49:55.571Z"
   },
   {
    "duration": 7,
    "start_time": "2022-02-07T08:50:17.354Z"
   },
   {
    "duration": 175,
    "start_time": "2022-02-07T08:51:05.971Z"
   },
   {
    "duration": 188,
    "start_time": "2022-02-07T08:51:57.355Z"
   },
   {
    "duration": 476,
    "start_time": "2022-02-07T08:52:47.716Z"
   },
   {
    "duration": 82,
    "start_time": "2022-02-07T08:53:04.093Z"
   },
   {
    "duration": 2,
    "start_time": "2022-02-07T08:54:08.611Z"
   },
   {
    "duration": 190,
    "start_time": "2022-02-07T08:54:28.468Z"
   },
   {
    "duration": 232,
    "start_time": "2022-02-07T08:54:49.500Z"
   },
   {
    "duration": 14,
    "start_time": "2022-02-07T08:55:47.365Z"
   },
   {
    "duration": 309,
    "start_time": "2022-02-07T08:55:48.446Z"
   },
   {
    "duration": 208,
    "start_time": "2022-02-07T08:55:49.908Z"
   },
   {
    "duration": 13,
    "start_time": "2022-02-07T08:57:13.253Z"
   },
   {
    "duration": 291,
    "start_time": "2022-02-07T08:57:32.573Z"
   },
   {
    "duration": 193,
    "start_time": "2022-02-07T08:57:34.541Z"
   },
   {
    "duration": 4,
    "start_time": "2022-02-07T08:59:03.262Z"
   },
   {
    "duration": 5,
    "start_time": "2022-02-07T09:00:33.230Z"
   },
   {
    "duration": 17,
    "start_time": "2022-02-07T09:00:34.693Z"
   },
   {
    "duration": 7,
    "start_time": "2022-02-07T09:01:50.550Z"
   },
   {
    "duration": 20,
    "start_time": "2022-02-07T09:01:52.253Z"
   },
   {
    "duration": 1372,
    "start_time": "2022-02-07T09:02:46.254Z"
   },
   {
    "duration": 479,
    "start_time": "2022-02-07T09:02:47.629Z"
   },
   {
    "duration": 86,
    "start_time": "2022-02-07T09:02:48.110Z"
   },
   {
    "duration": 159,
    "start_time": "2022-02-07T09:02:48.198Z"
   },
   {
    "duration": 14,
    "start_time": "2022-02-07T09:02:48.359Z"
   },
   {
    "duration": 6,
    "start_time": "2022-02-07T09:02:48.375Z"
   },
   {
    "duration": 67,
    "start_time": "2022-02-07T09:02:48.383Z"
   },
   {
    "duration": 40,
    "start_time": "2022-02-07T09:02:48.454Z"
   },
   {
    "duration": 58,
    "start_time": "2022-02-07T09:02:48.496Z"
   },
   {
    "duration": 38,
    "start_time": "2022-02-07T09:02:48.556Z"
   },
   {
    "duration": 23,
    "start_time": "2022-02-07T09:02:48.596Z"
   },
   {
    "duration": 7,
    "start_time": "2022-02-07T09:02:48.621Z"
   },
   {
    "duration": 17,
    "start_time": "2022-02-07T09:02:48.629Z"
   },
   {
    "duration": 256,
    "start_time": "2022-02-07T09:02:48.648Z"
   },
   {
    "duration": 6,
    "start_time": "2022-02-07T09:02:48.905Z"
   },
   {
    "duration": 250,
    "start_time": "2022-02-07T09:02:48.913Z"
   },
   {
    "duration": 15,
    "start_time": "2022-02-07T09:02:49.164Z"
   },
   {
    "duration": 6,
    "start_time": "2022-02-07T09:02:49.180Z"
   },
   {
    "duration": 239,
    "start_time": "2022-02-07T09:02:49.188Z"
   },
   {
    "duration": 241,
    "start_time": "2022-02-07T09:02:49.430Z"
   },
   {
    "duration": 608,
    "start_time": "2022-02-07T09:02:49.673Z"
   },
   {
    "duration": 18,
    "start_time": "2022-02-07T09:02:50.283Z"
   },
   {
    "duration": 315,
    "start_time": "2022-02-07T09:02:50.318Z"
   },
   {
    "duration": 203,
    "start_time": "2022-02-07T09:02:50.635Z"
   },
   {
    "duration": 14,
    "start_time": "2022-02-07T09:02:50.840Z"
   },
   {
    "duration": 209,
    "start_time": "2022-02-07T09:02:50.856Z"
   },
   {
    "duration": 278,
    "start_time": "2022-02-07T09:02:51.067Z"
   },
   {
    "duration": 12,
    "start_time": "2022-02-07T09:02:51.347Z"
   },
   {
    "duration": 214,
    "start_time": "2022-02-07T09:02:51.361Z"
   },
   {
    "duration": 201,
    "start_time": "2022-02-07T09:02:51.576Z"
   },
   {
    "duration": 5,
    "start_time": "2022-02-07T09:02:51.778Z"
   },
   {
    "duration": 11,
    "start_time": "2022-02-07T09:02:51.784Z"
   },
   {
    "duration": 30,
    "start_time": "2022-02-07T09:02:51.797Z"
   },
   {
    "duration": 5,
    "start_time": "2022-02-07T09:02:51.829Z"
   },
   {
    "duration": 19,
    "start_time": "2022-02-07T09:02:51.836Z"
   },
   {
    "duration": 345,
    "start_time": "2022-02-07T09:26:31.964Z"
   },
   {
    "duration": 369,
    "start_time": "2022-02-07T09:26:41.453Z"
   },
   {
    "duration": 221,
    "start_time": "2022-02-07T09:26:59.915Z"
   },
   {
    "duration": 317,
    "start_time": "2022-02-07T09:31:33.326Z"
   },
   {
    "duration": 255,
    "start_time": "2022-02-07T09:31:56.428Z"
   },
   {
    "duration": 1402,
    "start_time": "2022-02-11T11:31:58.879Z"
   },
   {
    "duration": 502,
    "start_time": "2022-02-11T11:32:00.283Z"
   },
   {
    "duration": 142,
    "start_time": "2022-02-11T11:32:00.788Z"
   },
   {
    "duration": 190,
    "start_time": "2022-02-11T11:32:00.933Z"
   },
   {
    "duration": 14,
    "start_time": "2022-02-11T11:32:01.125Z"
   },
   {
    "duration": 24,
    "start_time": "2022-02-11T11:32:01.142Z"
   },
   {
    "duration": 72,
    "start_time": "2022-02-11T11:32:01.169Z"
   },
   {
    "duration": 338,
    "start_time": "2022-02-11T11:32:01.245Z"
   },
   {
    "duration": 53,
    "start_time": "2022-02-11T11:32:01.586Z"
   },
   {
    "duration": 48,
    "start_time": "2022-02-11T11:32:01.641Z"
   },
   {
    "duration": 79,
    "start_time": "2022-02-11T11:32:01.691Z"
   },
   {
    "duration": 11,
    "start_time": "2022-02-11T11:32:01.773Z"
   },
   {
    "duration": 9,
    "start_time": "2022-02-11T11:32:01.787Z"
   },
   {
    "duration": 27,
    "start_time": "2022-02-11T11:32:01.798Z"
   },
   {
    "duration": 414,
    "start_time": "2022-02-11T11:32:01.827Z"
   },
   {
    "duration": 9,
    "start_time": "2022-02-11T11:32:02.243Z"
   },
   {
    "duration": 406,
    "start_time": "2022-02-11T11:32:02.254Z"
   },
   {
    "duration": 22,
    "start_time": "2022-02-11T11:32:02.662Z"
   },
   {
    "duration": 11,
    "start_time": "2022-02-11T11:32:02.686Z"
   },
   {
    "duration": 290,
    "start_time": "2022-02-11T11:32:02.724Z"
   },
   {
    "duration": 289,
    "start_time": "2022-02-11T11:32:03.017Z"
   },
   {
    "duration": 659,
    "start_time": "2022-02-11T11:32:03.309Z"
   },
   {
    "duration": 20,
    "start_time": "2022-02-11T11:32:03.976Z"
   },
   {
    "duration": 327,
    "start_time": "2022-02-11T11:32:03.999Z"
   },
   {
    "duration": 306,
    "start_time": "2022-02-11T11:32:04.329Z"
   },
   {
    "duration": 18,
    "start_time": "2022-02-11T11:32:04.637Z"
   },
   {
    "duration": 334,
    "start_time": "2022-02-11T11:32:04.657Z"
   },
   {
    "duration": 368,
    "start_time": "2022-02-11T11:32:04.993Z"
   },
   {
    "duration": 17,
    "start_time": "2022-02-11T11:32:05.363Z"
   },
   {
    "duration": 326,
    "start_time": "2022-02-11T11:32:05.382Z"
   },
   {
    "duration": 387,
    "start_time": "2022-02-11T11:32:05.711Z"
   },
   {
    "duration": -558,
    "start_time": "2022-02-11T11:32:06.659Z"
   },
   {
    "duration": -563,
    "start_time": "2022-02-11T11:32:06.665Z"
   },
   {
    "duration": -565,
    "start_time": "2022-02-11T11:32:06.668Z"
   },
   {
    "duration": -566,
    "start_time": "2022-02-11T11:32:06.671Z"
   },
   {
    "duration": -570,
    "start_time": "2022-02-11T11:32:06.676Z"
   },
   {
    "duration": -586,
    "start_time": "2022-02-11T11:32:06.694Z"
   },
   {
    "duration": 1508,
    "start_time": "2022-02-11T11:32:56.959Z"
   },
   {
    "duration": 763,
    "start_time": "2022-02-11T11:32:58.471Z"
   },
   {
    "duration": 199,
    "start_time": "2022-02-11T11:32:59.238Z"
   },
   {
    "duration": 209,
    "start_time": "2022-02-11T11:32:59.441Z"
   },
   {
    "duration": 17,
    "start_time": "2022-02-11T11:32:59.654Z"
   },
   {
    "duration": 9,
    "start_time": "2022-02-11T11:32:59.673Z"
   },
   {
    "duration": 98,
    "start_time": "2022-02-11T11:32:59.684Z"
   },
   {
    "duration": 340,
    "start_time": "2022-02-11T11:32:59.787Z"
   },
   {
    "duration": 41,
    "start_time": "2022-02-11T11:33:00.129Z"
   },
   {
    "duration": 67,
    "start_time": "2022-02-11T11:33:00.172Z"
   },
   {
    "duration": 52,
    "start_time": "2022-02-11T11:33:00.241Z"
   },
   {
    "duration": 30,
    "start_time": "2022-02-11T11:33:00.295Z"
   },
   {
    "duration": 7,
    "start_time": "2022-02-11T11:33:00.327Z"
   },
   {
    "duration": 15,
    "start_time": "2022-02-11T11:33:00.336Z"
   },
   {
    "duration": 590,
    "start_time": "2022-02-11T11:33:00.353Z"
   },
   {
    "duration": 10,
    "start_time": "2022-02-11T11:33:00.946Z"
   },
   {
    "duration": 409,
    "start_time": "2022-02-11T11:33:00.958Z"
   },
   {
    "duration": 23,
    "start_time": "2022-02-11T11:33:01.369Z"
   },
   {
    "duration": 33,
    "start_time": "2022-02-11T11:33:01.394Z"
   },
   {
    "duration": 306,
    "start_time": "2022-02-11T11:33:01.429Z"
   },
   {
    "duration": 392,
    "start_time": "2022-02-11T11:33:01.737Z"
   },
   {
    "duration": 930,
    "start_time": "2022-02-11T11:33:02.132Z"
   },
   {
    "duration": 19,
    "start_time": "2022-02-11T11:33:03.068Z"
   },
   {
    "duration": 556,
    "start_time": "2022-02-11T11:33:03.091Z"
   },
   {
    "duration": 348,
    "start_time": "2022-02-11T11:33:03.650Z"
   },
   {
    "duration": 28,
    "start_time": "2022-02-11T11:33:04.000Z"
   },
   {
    "duration": 331,
    "start_time": "2022-02-11T11:33:04.031Z"
   },
   {
    "duration": 391,
    "start_time": "2022-02-11T11:33:04.364Z"
   },
   {
    "duration": 16,
    "start_time": "2022-02-11T11:33:04.758Z"
   },
   {
    "duration": 370,
    "start_time": "2022-02-11T11:33:04.777Z"
   },
   {
    "duration": 319,
    "start_time": "2022-02-11T11:33:05.151Z"
   },
   {
    "duration": 6,
    "start_time": "2022-02-11T11:33:05.472Z"
   },
   {
    "duration": 10,
    "start_time": "2022-02-11T11:33:05.480Z"
   },
   {
    "duration": 46,
    "start_time": "2022-02-11T11:33:05.493Z"
   },
   {
    "duration": 8,
    "start_time": "2022-02-11T11:33:05.542Z"
   },
   {
    "duration": 29,
    "start_time": "2022-02-11T11:33:05.554Z"
   }
  ],
  "kernelspec": {
   "display_name": "Python 3 (ipykernel)",
   "language": "python",
   "name": "python3"
  },
  "language_info": {
   "codemirror_mode": {
    "name": "ipython",
    "version": 3
   },
   "file_extension": ".py",
   "mimetype": "text/x-python",
   "name": "python",
   "nbconvert_exporter": "python",
   "pygments_lexer": "ipython3",
   "version": "3.10.1"
  },
  "toc": {
   "base_numbering": 1,
   "nav_menu": {},
   "number_sections": true,
   "sideBar": true,
   "skip_h1_title": true,
   "title_cell": "Table of Contents",
   "title_sidebar": "Contents",
   "toc_cell": false,
   "toc_position": {
    "height": "calc(100% - 180px)",
    "left": "10px",
    "top": "150px",
    "width": "388.594px"
   },
   "toc_section_display": true,
   "toc_window_display": false
  }
 },
 "nbformat": 4,
 "nbformat_minor": 2
}
