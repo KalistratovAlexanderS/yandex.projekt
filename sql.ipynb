{
 "cells": [
  {
   "cell_type": "markdown",
   "id": "5bd79ae4",
   "metadata": {
    "id": "5bd79ae4"
   },
   "source": [
    "## Описание данных и постановка задачи"
   ]
  },
  {
   "cell_type": "markdown",
   "id": "3133e654",
   "metadata": {
    "id": "3133e654"
   },
   "source": [
    "Ваша компания решила быть на волне и купила крупный сервис для чтения книг по подписке.\\\n",
    "Первая задача как аналитика — проанализировать базу данных.\\\n",
    "В ней — информация о книгах, издательствах, авторах, а также пользовательские обзоры книг.\\\n",
    "Эти данные помогут сформулировать ценностное предложение для нового продукта."
   ]
  },
  {
   "cell_type": "markdown",
   "id": "8ccdc16e",
   "metadata": {
    "id": "8ccdc16e"
   },
   "source": [
    "\n",
    "**Таблица books**\\\n",
    "Содержит данные о книгах:\\\n",
    "book_id — идентификатор книги;\\\n",
    "author_id — идентификатор автора;\\\n",
    "title — название книги;\\\n",
    "num_pages — количество страниц;\\\n",
    "publication_date — дата публикации книги;\\\n",
    "publisher_id — идентификатор издателя.\n",
    "\n",
    "**Таблица authors**\\\n",
    "Содержит данные об авторах:\\\n",
    "author_id — идентификатор автора;\\\n",
    "author — имя автора.\n",
    "\n",
    "**Таблица publishers**\\\n",
    "Содержит данные об издательствах:\\\n",
    "publisher_id — идентификатор издательства;\\\n",
    "publisher — название издательства;\n",
    "\n",
    "**Таблица ratings**\\\n",
    "Содержит данные о пользовательских оценках книг:\\\n",
    "rating_id — идентификатор оценки;\\\n",
    "book_id — идентификатор книги;\\\n",
    "username — имя пользователя, оставившего оценку;\\\n",
    "rating — оценка книги.\n",
    "\n",
    "**Таблица reviews**\\\n",
    "Содержит данные о пользовательских обзорах на книги:\\\n",
    "review_id — идентификатор обзора;\\\n",
    "book_id — идентификатор книги;\\\n",
    "username — имя пользователя, написавшего обзор;\\\n",
    "text — текст обзора."
   ]
  },
  {
   "cell_type": "markdown",
   "id": "416a7408",
   "metadata": {
    "id": "416a7408"
   },
   "source": [
    "Задачи\\\n",
    "Посчитайте, сколько книг вышло после 1 января 2000 года;\\\n",
    "Для каждой книги посчитайте количество обзоров и среднюю оценку;\\\n",
    "Определите издательство, которое выпустило наибольшее число книг толще\\\n",
    "50 страниц — так вы исключите из анализа брошюры;\\\n",
    "Определите автора с самой высокой средней оценкой книг — учитывайте\\\n",
    "только книги с 50 и более оценками;\\\n",
    "Посчитайте среднее количество обзоров от пользователей, которые поставили\n",
    "больше 50 оценок."
   ]
  },
  {
   "cell_type": "markdown",
   "id": "075c6d18",
   "metadata": {
    "id": "075c6d18"
   },
   "source": [
    "## Импорт библиотек и подключание к базе данных"
   ]
  },
  {
   "cell_type": "code",
   "execution_count": 1,
   "id": "a29b5726",
   "metadata": {
    "colab": {
     "base_uri": "https://localhost:8080/"
    },
    "executionInfo": {
     "elapsed": 477,
     "status": "ok",
     "timestamp": 1655057979888,
     "user": {
      "displayName": "Alex K",
      "userId": "05928641242831575525"
     },
     "user_tz": -300
    },
    "id": "a29b5726",
    "outputId": "34191656-ef93-4962-81c2-3989cdb3835e"
   },
   "outputs": [],
   "source": [
    "# импортируем библиотеки\n",
    "import pandas as pd\n",
    "from sqlalchemy import create_engine\n",
    "# устанавливаем параметры\n",
    "db_config = {'user': 'praktikum_student', # имя пользователя\n",
    "              'pwd': 'Sdf4$2;d-d30pp', # пароль\n",
    "              'host': 'rc1b-wcoijxj3yxfsf3fs.mdb.yandexcloud.net',\n",
    "              'port': 6432, # порт подключения\n",
    "              'db': 'data-analyst-final-project-db'} # название базы данных\n",
    "connection_string = 'postgresql://{}:{}@{}:{}/{}'.format(db_config['user'],\n",
    "                                                         db_config['pwd'],\n",
    "                                                         db_config['host'],\n",
    "                                                         db_config['port'],\n",
    "                                                         db_config['db'])\n",
    "# сохраняем коннектор\n",
    "engine = create_engine(connection_string, connect_args={'sslmode':'require'});"
   ]
  },
  {
   "cell_type": "markdown",
   "id": "6865e471",
   "metadata": {},
   "source": [
    "Напишем запрос на вывод общей информации по всем таблицам, чтобы проверить состав  данным"
   ]
  },
  {
   "cell_type": "code",
   "execution_count": 2,
   "id": "8c3064d6",
   "metadata": {},
   "outputs": [
    {
     "data": {
      "text/html": [
       "<div>\n",
       "<style scoped>\n",
       "    .dataframe tbody tr th:only-of-type {\n",
       "        vertical-align: middle;\n",
       "    }\n",
       "\n",
       "    .dataframe tbody tr th {\n",
       "        vertical-align: top;\n",
       "    }\n",
       "\n",
       "    .dataframe thead th {\n",
       "        text-align: right;\n",
       "    }\n",
       "</style>\n",
       "<table border=\"1\" class=\"dataframe\">\n",
       "  <thead>\n",
       "    <tr style=\"text-align: right;\">\n",
       "      <th></th>\n",
       "      <th>book_id</th>\n",
       "      <th>author_id</th>\n",
       "      <th>title</th>\n",
       "      <th>num_pages</th>\n",
       "      <th>publication_date</th>\n",
       "      <th>publisher_id</th>\n",
       "    </tr>\n",
       "  </thead>\n",
       "  <tbody>\n",
       "    <tr>\n",
       "      <th>0</th>\n",
       "      <td>1</td>\n",
       "      <td>546</td>\n",
       "      <td>'Salem's Lot</td>\n",
       "      <td>594</td>\n",
       "      <td>2005-11-01</td>\n",
       "      <td>93</td>\n",
       "    </tr>\n",
       "    <tr>\n",
       "      <th>1</th>\n",
       "      <td>2</td>\n",
       "      <td>465</td>\n",
       "      <td>1 000 Places to See Before You Die</td>\n",
       "      <td>992</td>\n",
       "      <td>2003-05-22</td>\n",
       "      <td>336</td>\n",
       "    </tr>\n",
       "    <tr>\n",
       "      <th>2</th>\n",
       "      <td>3</td>\n",
       "      <td>407</td>\n",
       "      <td>13 Little Blue Envelopes (Little Blue Envelope...</td>\n",
       "      <td>322</td>\n",
       "      <td>2010-12-21</td>\n",
       "      <td>135</td>\n",
       "    </tr>\n",
       "    <tr>\n",
       "      <th>3</th>\n",
       "      <td>4</td>\n",
       "      <td>82</td>\n",
       "      <td>1491: New Revelations of the Americas Before C...</td>\n",
       "      <td>541</td>\n",
       "      <td>2006-10-10</td>\n",
       "      <td>309</td>\n",
       "    </tr>\n",
       "    <tr>\n",
       "      <th>4</th>\n",
       "      <td>5</td>\n",
       "      <td>125</td>\n",
       "      <td>1776</td>\n",
       "      <td>386</td>\n",
       "      <td>2006-07-04</td>\n",
       "      <td>268</td>\n",
       "    </tr>\n",
       "  </tbody>\n",
       "</table>\n",
       "</div>"
      ],
      "text/plain": [
       "   book_id  author_id                                              title  \\\n",
       "0        1        546                                       'Salem's Lot   \n",
       "1        2        465                 1 000 Places to See Before You Die   \n",
       "2        3        407  13 Little Blue Envelopes (Little Blue Envelope...   \n",
       "3        4         82  1491: New Revelations of the Americas Before C...   \n",
       "4        5        125                                               1776   \n",
       "\n",
       "   num_pages publication_date  publisher_id  \n",
       "0        594       2005-11-01            93  \n",
       "1        992       2003-05-22           336  \n",
       "2        322       2010-12-21           135  \n",
       "3        541       2006-10-10           309  \n",
       "4        386       2006-07-04           268  "
      ]
     },
     "metadata": {},
     "output_type": "display_data"
    },
    {
     "data": {
      "text/html": [
       "<div>\n",
       "<style scoped>\n",
       "    .dataframe tbody tr th:only-of-type {\n",
       "        vertical-align: middle;\n",
       "    }\n",
       "\n",
       "    .dataframe tbody tr th {\n",
       "        vertical-align: top;\n",
       "    }\n",
       "\n",
       "    .dataframe thead th {\n",
       "        text-align: right;\n",
       "    }\n",
       "</style>\n",
       "<table border=\"1\" class=\"dataframe\">\n",
       "  <thead>\n",
       "    <tr style=\"text-align: right;\">\n",
       "      <th></th>\n",
       "      <th>author_id</th>\n",
       "      <th>author</th>\n",
       "    </tr>\n",
       "  </thead>\n",
       "  <tbody>\n",
       "    <tr>\n",
       "      <th>0</th>\n",
       "      <td>1</td>\n",
       "      <td>A.S. Byatt</td>\n",
       "    </tr>\n",
       "    <tr>\n",
       "      <th>1</th>\n",
       "      <td>2</td>\n",
       "      <td>Aesop/Laura Harris/Laura Gibbs</td>\n",
       "    </tr>\n",
       "    <tr>\n",
       "      <th>2</th>\n",
       "      <td>3</td>\n",
       "      <td>Agatha Christie</td>\n",
       "    </tr>\n",
       "    <tr>\n",
       "      <th>3</th>\n",
       "      <td>4</td>\n",
       "      <td>Alan Brennert</td>\n",
       "    </tr>\n",
       "    <tr>\n",
       "      <th>4</th>\n",
       "      <td>5</td>\n",
       "      <td>Alan Moore/David   Lloyd</td>\n",
       "    </tr>\n",
       "  </tbody>\n",
       "</table>\n",
       "</div>"
      ],
      "text/plain": [
       "   author_id                          author\n",
       "0          1                      A.S. Byatt\n",
       "1          2  Aesop/Laura Harris/Laura Gibbs\n",
       "2          3                 Agatha Christie\n",
       "3          4                   Alan Brennert\n",
       "4          5        Alan Moore/David   Lloyd"
      ]
     },
     "metadata": {},
     "output_type": "display_data"
    },
    {
     "data": {
      "text/html": [
       "<div>\n",
       "<style scoped>\n",
       "    .dataframe tbody tr th:only-of-type {\n",
       "        vertical-align: middle;\n",
       "    }\n",
       "\n",
       "    .dataframe tbody tr th {\n",
       "        vertical-align: top;\n",
       "    }\n",
       "\n",
       "    .dataframe thead th {\n",
       "        text-align: right;\n",
       "    }\n",
       "</style>\n",
       "<table border=\"1\" class=\"dataframe\">\n",
       "  <thead>\n",
       "    <tr style=\"text-align: right;\">\n",
       "      <th></th>\n",
       "      <th>publisher_id</th>\n",
       "      <th>publisher</th>\n",
       "    </tr>\n",
       "  </thead>\n",
       "  <tbody>\n",
       "    <tr>\n",
       "      <th>0</th>\n",
       "      <td>1</td>\n",
       "      <td>Ace</td>\n",
       "    </tr>\n",
       "    <tr>\n",
       "      <th>1</th>\n",
       "      <td>2</td>\n",
       "      <td>Ace Book</td>\n",
       "    </tr>\n",
       "    <tr>\n",
       "      <th>2</th>\n",
       "      <td>3</td>\n",
       "      <td>Ace Books</td>\n",
       "    </tr>\n",
       "    <tr>\n",
       "      <th>3</th>\n",
       "      <td>4</td>\n",
       "      <td>Ace Hardcover</td>\n",
       "    </tr>\n",
       "    <tr>\n",
       "      <th>4</th>\n",
       "      <td>5</td>\n",
       "      <td>Addison Wesley Publishing Company</td>\n",
       "    </tr>\n",
       "  </tbody>\n",
       "</table>\n",
       "</div>"
      ],
      "text/plain": [
       "   publisher_id                          publisher\n",
       "0             1                                Ace\n",
       "1             2                           Ace Book\n",
       "2             3                          Ace Books\n",
       "3             4                      Ace Hardcover\n",
       "4             5  Addison Wesley Publishing Company"
      ]
     },
     "metadata": {},
     "output_type": "display_data"
    },
    {
     "data": {
      "text/html": [
       "<div>\n",
       "<style scoped>\n",
       "    .dataframe tbody tr th:only-of-type {\n",
       "        vertical-align: middle;\n",
       "    }\n",
       "\n",
       "    .dataframe tbody tr th {\n",
       "        vertical-align: top;\n",
       "    }\n",
       "\n",
       "    .dataframe thead th {\n",
       "        text-align: right;\n",
       "    }\n",
       "</style>\n",
       "<table border=\"1\" class=\"dataframe\">\n",
       "  <thead>\n",
       "    <tr style=\"text-align: right;\">\n",
       "      <th></th>\n",
       "      <th>rating_id</th>\n",
       "      <th>book_id</th>\n",
       "      <th>username</th>\n",
       "      <th>rating</th>\n",
       "    </tr>\n",
       "  </thead>\n",
       "  <tbody>\n",
       "    <tr>\n",
       "      <th>0</th>\n",
       "      <td>1</td>\n",
       "      <td>1</td>\n",
       "      <td>ryanfranco</td>\n",
       "      <td>4</td>\n",
       "    </tr>\n",
       "    <tr>\n",
       "      <th>1</th>\n",
       "      <td>2</td>\n",
       "      <td>1</td>\n",
       "      <td>grantpatricia</td>\n",
       "      <td>2</td>\n",
       "    </tr>\n",
       "    <tr>\n",
       "      <th>2</th>\n",
       "      <td>3</td>\n",
       "      <td>1</td>\n",
       "      <td>brandtandrea</td>\n",
       "      <td>5</td>\n",
       "    </tr>\n",
       "    <tr>\n",
       "      <th>3</th>\n",
       "      <td>4</td>\n",
       "      <td>2</td>\n",
       "      <td>lorichen</td>\n",
       "      <td>3</td>\n",
       "    </tr>\n",
       "    <tr>\n",
       "      <th>4</th>\n",
       "      <td>5</td>\n",
       "      <td>2</td>\n",
       "      <td>mariokeller</td>\n",
       "      <td>2</td>\n",
       "    </tr>\n",
       "  </tbody>\n",
       "</table>\n",
       "</div>"
      ],
      "text/plain": [
       "   rating_id  book_id       username  rating\n",
       "0          1        1     ryanfranco       4\n",
       "1          2        1  grantpatricia       2\n",
       "2          3        1   brandtandrea       5\n",
       "3          4        2       lorichen       3\n",
       "4          5        2    mariokeller       2"
      ]
     },
     "metadata": {},
     "output_type": "display_data"
    },
    {
     "data": {
      "text/html": [
       "<div>\n",
       "<style scoped>\n",
       "    .dataframe tbody tr th:only-of-type {\n",
       "        vertical-align: middle;\n",
       "    }\n",
       "\n",
       "    .dataframe tbody tr th {\n",
       "        vertical-align: top;\n",
       "    }\n",
       "\n",
       "    .dataframe thead th {\n",
       "        text-align: right;\n",
       "    }\n",
       "</style>\n",
       "<table border=\"1\" class=\"dataframe\">\n",
       "  <thead>\n",
       "    <tr style=\"text-align: right;\">\n",
       "      <th></th>\n",
       "      <th>review_id</th>\n",
       "      <th>book_id</th>\n",
       "      <th>username</th>\n",
       "      <th>text</th>\n",
       "    </tr>\n",
       "  </thead>\n",
       "  <tbody>\n",
       "    <tr>\n",
       "      <th>0</th>\n",
       "      <td>1</td>\n",
       "      <td>1</td>\n",
       "      <td>brandtandrea</td>\n",
       "      <td>Mention society tell send professor analysis. ...</td>\n",
       "    </tr>\n",
       "    <tr>\n",
       "      <th>1</th>\n",
       "      <td>2</td>\n",
       "      <td>1</td>\n",
       "      <td>ryanfranco</td>\n",
       "      <td>Foot glass pretty audience hit themselves. Amo...</td>\n",
       "    </tr>\n",
       "    <tr>\n",
       "      <th>2</th>\n",
       "      <td>3</td>\n",
       "      <td>2</td>\n",
       "      <td>lorichen</td>\n",
       "      <td>Listen treat keep worry. Miss husband tax but ...</td>\n",
       "    </tr>\n",
       "    <tr>\n",
       "      <th>3</th>\n",
       "      <td>4</td>\n",
       "      <td>3</td>\n",
       "      <td>johnsonamanda</td>\n",
       "      <td>Finally month interesting blue could nature cu...</td>\n",
       "    </tr>\n",
       "    <tr>\n",
       "      <th>4</th>\n",
       "      <td>5</td>\n",
       "      <td>3</td>\n",
       "      <td>scotttamara</td>\n",
       "      <td>Nation purpose heavy give wait song will. List...</td>\n",
       "    </tr>\n",
       "  </tbody>\n",
       "</table>\n",
       "</div>"
      ],
      "text/plain": [
       "   review_id  book_id       username  \\\n",
       "0          1        1   brandtandrea   \n",
       "1          2        1     ryanfranco   \n",
       "2          3        2       lorichen   \n",
       "3          4        3  johnsonamanda   \n",
       "4          5        3    scotttamara   \n",
       "\n",
       "                                                text  \n",
       "0  Mention society tell send professor analysis. ...  \n",
       "1  Foot glass pretty audience hit themselves. Amo...  \n",
       "2  Listen treat keep worry. Miss husband tax but ...  \n",
       "3  Finally month interesting blue could nature cu...  \n",
       "4  Nation purpose heavy give wait song will. List...  "
      ]
     },
     "metadata": {},
     "output_type": "display_data"
    }
   ],
   "source": [
    "# создаём запрос на вывод из списка табилц\n",
    "table = ['books', 'authors', 'publishers', 'ratings', 'reviews']\n",
    "for i in table:\n",
    "    query= ''' \n",
    "    SELECT *\n",
    "    FROM {}\n",
    "    --первые 5 строк\n",
    "    LIMIT 5  '''.format(i)\n",
    "    # получаем данные на основании запроса\n",
    "    date = pd.io.sql.read_sql(query, con = engine)\n",
    "    # выводим на экран \n",
    "    display(date)"
   ]
  },
  {
   "cell_type": "markdown",
   "id": "4e486808",
   "metadata": {
    "id": "4e486808"
   },
   "source": [
    "## Задачи"
   ]
  },
  {
   "cell_type": "markdown",
   "id": "c2b6dfd5",
   "metadata": {
    "id": "c2b6dfd5"
   },
   "source": [
    "### Посчитайте, сколько книг вышло после 1 января 2000 года"
   ]
  },
  {
   "cell_type": "code",
   "execution_count": 3,
   "id": "9262ac64",
   "metadata": {
    "executionInfo": {
     "elapsed": 46,
     "status": "ok",
     "timestamp": 1655057983685,
     "user": {
      "displayName": "Alex K",
      "userId": "05928641242831575525"
     },
     "user_tz": -300
    },
    "id": "9262ac64"
   },
   "outputs": [],
   "source": [
    "query = '''\n",
    "SELECT COUNT(book_id) AS количество_книг \n",
    "FROM books\n",
    "WHERE publication_date::DATE > '2000-01-01';\n",
    "'''"
   ]
  },
  {
   "cell_type": "code",
   "execution_count": 4,
   "id": "64f10e6e",
   "metadata": {
    "colab": {
     "base_uri": "https://localhost:8080/",
     "height": 81
    },
    "executionInfo": {
     "elapsed": 499,
     "status": "ok",
     "timestamp": 1655057984143,
     "user": {
      "displayName": "Alex K",
      "userId": "05928641242831575525"
     },
     "user_tz": -300
    },
    "id": "64f10e6e",
    "outputId": "10ff4b83-ce17-4432-b52b-ca966c327084"
   },
   "outputs": [
    {
     "data": {
      "text/html": [
       "<div>\n",
       "<style scoped>\n",
       "    .dataframe tbody tr th:only-of-type {\n",
       "        vertical-align: middle;\n",
       "    }\n",
       "\n",
       "    .dataframe tbody tr th {\n",
       "        vertical-align: top;\n",
       "    }\n",
       "\n",
       "    .dataframe thead th {\n",
       "        text-align: right;\n",
       "    }\n",
       "</style>\n",
       "<table border=\"1\" class=\"dataframe\">\n",
       "  <thead>\n",
       "    <tr style=\"text-align: right;\">\n",
       "      <th></th>\n",
       "      <th>количество_книг</th>\n",
       "    </tr>\n",
       "  </thead>\n",
       "  <tbody>\n",
       "    <tr>\n",
       "      <th>0</th>\n",
       "      <td>819</td>\n",
       "    </tr>\n",
       "  </tbody>\n",
       "</table>\n",
       "</div>"
      ],
      "text/plain": [
       "   количество_книг\n",
       "0              819"
      ]
     },
     "metadata": {},
     "output_type": "display_data"
    }
   ],
   "source": [
    "data = pd.io.sql.read_sql(query, con = engine)\n",
    "display(data)"
   ]
  },
  {
   "cell_type": "markdown",
   "id": "36b1c7fe",
   "metadata": {
    "id": "36b1c7fe"
   },
   "source": [
    "###  Для каждой книги посчитайте количество обзоров и среднюю оценку"
   ]
  },
  {
   "cell_type": "code",
   "execution_count": 5,
   "id": "2b46976f",
   "metadata": {},
   "outputs": [],
   "source": [
    "query ='''\n",
    "SELECT  \n",
    "    b.title AS название_книги,\n",
    "    COUNT(DISTINCT rw.review_id) AS кол_во_обзоров, \n",
    "    AVG(rt.rating) AS средняя_оценка\n",
    "FROM books AS b\n",
    "    LEFT OUTER JOIN reviews AS rw ON b.book_id = rw.book_id\n",
    "    LEFT OUTER JOIN ratings AS rt ON b.book_id = rt.book_id\n",
    "GROUP BY b.book_id\n",
    "ORDER BY средняя_оценка DESC, кол_во_обзоров DESC\n",
    "'''"
   ]
  },
  {
   "cell_type": "code",
   "execution_count": 6,
   "id": "7697ce83",
   "metadata": {},
   "outputs": [
    {
     "data": {
      "text/html": [
       "<div>\n",
       "<style scoped>\n",
       "    .dataframe tbody tr th:only-of-type {\n",
       "        vertical-align: middle;\n",
       "    }\n",
       "\n",
       "    .dataframe tbody tr th {\n",
       "        vertical-align: top;\n",
       "    }\n",
       "\n",
       "    .dataframe thead th {\n",
       "        text-align: right;\n",
       "    }\n",
       "</style>\n",
       "<table border=\"1\" class=\"dataframe\">\n",
       "  <thead>\n",
       "    <tr style=\"text-align: right;\">\n",
       "      <th></th>\n",
       "      <th>название_книги</th>\n",
       "      <th>кол_во_обзоров</th>\n",
       "      <th>средняя_оценка</th>\n",
       "    </tr>\n",
       "  </thead>\n",
       "  <tbody>\n",
       "    <tr>\n",
       "      <th>0</th>\n",
       "      <td>A Dirty Job (Grim Reaper  #1)</td>\n",
       "      <td>4</td>\n",
       "      <td>5.00</td>\n",
       "    </tr>\n",
       "    <tr>\n",
       "      <th>1</th>\n",
       "      <td>School's Out—Forever (Maximum Ride  #2)</td>\n",
       "      <td>3</td>\n",
       "      <td>5.00</td>\n",
       "    </tr>\n",
       "    <tr>\n",
       "      <th>2</th>\n",
       "      <td>Moneyball: The Art of Winning an Unfair Game</td>\n",
       "      <td>3</td>\n",
       "      <td>5.00</td>\n",
       "    </tr>\n",
       "    <tr>\n",
       "      <th>3</th>\n",
       "      <td>Arrows of the Queen (Heralds of Valdemar  #1)</td>\n",
       "      <td>2</td>\n",
       "      <td>5.00</td>\n",
       "    </tr>\n",
       "    <tr>\n",
       "      <th>4</th>\n",
       "      <td>Wherever You Go  There You Are: Mindfulness Me...</td>\n",
       "      <td>2</td>\n",
       "      <td>5.00</td>\n",
       "    </tr>\n",
       "    <tr>\n",
       "      <th>...</th>\n",
       "      <td>...</td>\n",
       "      <td>...</td>\n",
       "      <td>...</td>\n",
       "    </tr>\n",
       "    <tr>\n",
       "      <th>995</th>\n",
       "      <td>The World Is Flat: A Brief History of the Twen...</td>\n",
       "      <td>3</td>\n",
       "      <td>2.25</td>\n",
       "    </tr>\n",
       "    <tr>\n",
       "      <th>996</th>\n",
       "      <td>Drowning Ruth</td>\n",
       "      <td>3</td>\n",
       "      <td>2.00</td>\n",
       "    </tr>\n",
       "    <tr>\n",
       "      <th>997</th>\n",
       "      <td>His Excellency: George Washington</td>\n",
       "      <td>2</td>\n",
       "      <td>2.00</td>\n",
       "    </tr>\n",
       "    <tr>\n",
       "      <th>998</th>\n",
       "      <td>Junky</td>\n",
       "      <td>2</td>\n",
       "      <td>2.00</td>\n",
       "    </tr>\n",
       "    <tr>\n",
       "      <th>999</th>\n",
       "      <td>Harvesting the Heart</td>\n",
       "      <td>2</td>\n",
       "      <td>1.50</td>\n",
       "    </tr>\n",
       "  </tbody>\n",
       "</table>\n",
       "<p>1000 rows × 3 columns</p>\n",
       "</div>"
      ],
      "text/plain": [
       "                                        название_книги  кол_во_обзоров  \\\n",
       "0                        A Dirty Job (Grim Reaper  #1)               4   \n",
       "1              School's Out—Forever (Maximum Ride  #2)               3   \n",
       "2         Moneyball: The Art of Winning an Unfair Game               3   \n",
       "3        Arrows of the Queen (Heralds of Valdemar  #1)               2   \n",
       "4    Wherever You Go  There You Are: Mindfulness Me...               2   \n",
       "..                                                 ...             ...   \n",
       "995  The World Is Flat: A Brief History of the Twen...               3   \n",
       "996                                      Drowning Ruth               3   \n",
       "997                  His Excellency: George Washington               2   \n",
       "998                                              Junky               2   \n",
       "999                               Harvesting the Heart               2   \n",
       "\n",
       "     средняя_оценка  \n",
       "0              5.00  \n",
       "1              5.00  \n",
       "2              5.00  \n",
       "3              5.00  \n",
       "4              5.00  \n",
       "..              ...  \n",
       "995            2.25  \n",
       "996            2.00  \n",
       "997            2.00  \n",
       "998            2.00  \n",
       "999            1.50  \n",
       "\n",
       "[1000 rows x 3 columns]"
      ]
     },
     "metadata": {},
     "output_type": "display_data"
    }
   ],
   "source": [
    "data = pd.io.sql.read_sql(query, con = engine)\n",
    "display(data)"
   ]
  },
  {
   "cell_type": "markdown",
   "id": "41b4c17f",
   "metadata": {
    "id": "41b4c17f"
   },
   "source": [
    "### Определите издательство, которое выпустило наибольшее число книг толще 50 страниц"
   ]
  },
  {
   "cell_type": "code",
   "execution_count": 7,
   "id": "5c0db270",
   "metadata": {
    "executionInfo": {
     "elapsed": 17,
     "status": "ok",
     "timestamp": 1655057985447,
     "user": {
      "displayName": "Alex K",
      "userId": "05928641242831575525"
     },
     "user_tz": -300
    },
    "id": "5c0db270"
   },
   "outputs": [],
   "source": [
    "query = '''\n",
    "SELECT\n",
    "    publishers.publisher AS издательство,\n",
    "    COUNT(book_id) AS количество\n",
    "FROM books INNER JOIN publishers ON books.publisher_id = publishers.publisher_id\n",
    "WHERE books.num_pages > 50\n",
    "GROUP BY publishers.publisher\n",
    "ORDER BY количество DESC\n",
    "LIMIT 1;\n",
    "'''\n"
   ]
  },
  {
   "cell_type": "code",
   "execution_count": 8,
   "id": "bccb4e51",
   "metadata": {
    "colab": {
     "base_uri": "https://localhost:8080/",
     "height": 81
    },
    "executionInfo": {
     "elapsed": 498,
     "status": "ok",
     "timestamp": 1655057985930,
     "user": {
      "displayName": "Alex K",
      "userId": "05928641242831575525"
     },
     "user_tz": -300
    },
    "id": "bccb4e51",
    "outputId": "8d9ae33e-a2c6-4f30-a30a-7871c435cf3a"
   },
   "outputs": [
    {
     "data": {
      "text/html": [
       "<div>\n",
       "<style scoped>\n",
       "    .dataframe tbody tr th:only-of-type {\n",
       "        vertical-align: middle;\n",
       "    }\n",
       "\n",
       "    .dataframe tbody tr th {\n",
       "        vertical-align: top;\n",
       "    }\n",
       "\n",
       "    .dataframe thead th {\n",
       "        text-align: right;\n",
       "    }\n",
       "</style>\n",
       "<table border=\"1\" class=\"dataframe\">\n",
       "  <thead>\n",
       "    <tr style=\"text-align: right;\">\n",
       "      <th></th>\n",
       "      <th>издательство</th>\n",
       "      <th>количество</th>\n",
       "    </tr>\n",
       "  </thead>\n",
       "  <tbody>\n",
       "    <tr>\n",
       "      <th>0</th>\n",
       "      <td>Penguin Books</td>\n",
       "      <td>42</td>\n",
       "    </tr>\n",
       "  </tbody>\n",
       "</table>\n",
       "</div>"
      ],
      "text/plain": [
       "    издательство  количество\n",
       "0  Penguin Books          42"
      ]
     },
     "metadata": {},
     "output_type": "display_data"
    }
   ],
   "source": [
    "data = pd.io.sql.read_sql(query, con = engine)\n",
    "display(data)"
   ]
  },
  {
   "cell_type": "markdown",
   "id": "3438d5b5",
   "metadata": {
    "id": "3438d5b5"
   },
   "source": [
    "###  Определите автора с самой высокой средней оценкой книг — учитывайте только книги с 50 и более оценками"
   ]
  },
  {
   "cell_type": "code",
   "execution_count": 9,
   "id": "f06596b4",
   "metadata": {
    "executionInfo": {
     "elapsed": 13,
     "status": "ok",
     "timestamp": 1655057985932,
     "user": {
      "displayName": "Alex K",
      "userId": "05928641242831575525"
     },
     "user_tz": -300
    },
    "id": "f06596b4"
   },
   "outputs": [],
   "source": [
    "query = '''\n",
    "SELECT\n",
    "    author AS автор,\n",
    "    AVG(subq.rating) AS ср_рейтинг\n",
    "FROM (\n",
    "    SELECT\n",
    "        author,\n",
    "        title,\n",
    "        AVG(rating) AS rating\n",
    "    FROM (\n",
    "        SELECT *\n",
    "        FROM books\n",
    "        WHERE book_id IN (\n",
    "            SELECT book_id\n",
    "            FROM ratings\n",
    "            GROUP BY book_id\n",
    "            HAVING COUNT(rating) >= 50\n",
    "        ) \n",
    "    ) AS rated_books\n",
    "    INNER JOIN authors ON rated_books.author_id = authors.author_id\n",
    "    INNER JOIN ratings ON rated_books.book_id = ratings.book_id\n",
    "    GROUP BY author, title\n",
    "    ORDER BY author\n",
    ") AS subq\n",
    "GROUP BY author\n",
    "ORDER BY ср_рейтинг DESC\n",
    "LIMIT 1\n",
    "'''"
   ]
  },
  {
   "cell_type": "code",
   "execution_count": 10,
   "id": "a32f595a",
   "metadata": {
    "colab": {
     "base_uri": "https://localhost:8080/",
     "height": 81
    },
    "executionInfo": {
     "elapsed": 936,
     "status": "ok",
     "timestamp": 1655057986856,
     "user": {
      "displayName": "Alex K",
      "userId": "05928641242831575525"
     },
     "user_tz": -300
    },
    "id": "a32f595a",
    "outputId": "b7245319-b756-45d5-a312-0a7f04fd1078",
    "scrolled": true
   },
   "outputs": [
    {
     "data": {
      "text/html": [
       "<div>\n",
       "<style scoped>\n",
       "    .dataframe tbody tr th:only-of-type {\n",
       "        vertical-align: middle;\n",
       "    }\n",
       "\n",
       "    .dataframe tbody tr th {\n",
       "        vertical-align: top;\n",
       "    }\n",
       "\n",
       "    .dataframe thead th {\n",
       "        text-align: right;\n",
       "    }\n",
       "</style>\n",
       "<table border=\"1\" class=\"dataframe\">\n",
       "  <thead>\n",
       "    <tr style=\"text-align: right;\">\n",
       "      <th></th>\n",
       "      <th>автор</th>\n",
       "      <th>ср_рейтинг</th>\n",
       "    </tr>\n",
       "  </thead>\n",
       "  <tbody>\n",
       "    <tr>\n",
       "      <th>0</th>\n",
       "      <td>J.K. Rowling/Mary GrandPré</td>\n",
       "      <td>4.283844</td>\n",
       "    </tr>\n",
       "  </tbody>\n",
       "</table>\n",
       "</div>"
      ],
      "text/plain": [
       "                        автор  ср_рейтинг\n",
       "0  J.K. Rowling/Mary GrandPré    4.283844"
      ]
     },
     "metadata": {},
     "output_type": "display_data"
    }
   ],
   "source": [
    "data = pd.io.sql.read_sql(query, con = engine)\n",
    "display(data)"
   ]
  },
  {
   "cell_type": "markdown",
   "id": "a4cdd593",
   "metadata": {
    "id": "a4cdd593"
   },
   "source": [
    "### Посчитайте среднее количество обзоров от пользователей, которые поставили больше 50 оценок"
   ]
  },
  {
   "cell_type": "code",
   "execution_count": 11,
   "id": "f8174d9e",
   "metadata": {
    "executionInfo": {
     "elapsed": 33,
     "status": "ok",
     "timestamp": 1655057986865,
     "user": {
      "displayName": "Alex K",
      "userId": "05928641242831575525"
     },
     "user_tz": -300
    },
    "id": "f8174d9e"
   },
   "outputs": [],
   "source": [
    "# создаём запрос\n",
    "query = '''\n",
    "SELECT\n",
    "    AVG(subq.review_count) AS среднее_кол_во_польз_\n",
    "FROM (\n",
    "    SELECT COUNT(review_id) AS review_count\n",
    "        FROM\n",
    "            reviews\n",
    "        WHERE username IN (\n",
    "            SELECT username\n",
    "            FROM ratings\n",
    "            GROUP BY username\n",
    "            HAVING COUNT(rating) > 50\n",
    "            )\n",
    "    GROUP BY username\n",
    "    ) AS subq;\n",
    "'''"
   ]
  },
  {
   "cell_type": "code",
   "execution_count": 12,
   "id": "13260611",
   "metadata": {
    "colab": {
     "base_uri": "https://localhost:8080/",
     "height": 81
    },
    "executionInfo": {
     "elapsed": 869,
     "status": "ok",
     "timestamp": 1655057987703,
     "user": {
      "displayName": "Alex K",
      "userId": "05928641242831575525"
     },
     "user_tz": -300
    },
    "id": "13260611",
    "outputId": "7da136d0-ba32-411e-a646-7c226db5c68f"
   },
   "outputs": [
    {
     "data": {
      "text/html": [
       "<div>\n",
       "<style scoped>\n",
       "    .dataframe tbody tr th:only-of-type {\n",
       "        vertical-align: middle;\n",
       "    }\n",
       "\n",
       "    .dataframe tbody tr th {\n",
       "        vertical-align: top;\n",
       "    }\n",
       "\n",
       "    .dataframe thead th {\n",
       "        text-align: right;\n",
       "    }\n",
       "</style>\n",
       "<table border=\"1\" class=\"dataframe\">\n",
       "  <thead>\n",
       "    <tr style=\"text-align: right;\">\n",
       "      <th></th>\n",
       "      <th>среднее_кол_во_польз_</th>\n",
       "    </tr>\n",
       "  </thead>\n",
       "  <tbody>\n",
       "    <tr>\n",
       "      <th>0</th>\n",
       "      <td>24.333333</td>\n",
       "    </tr>\n",
       "  </tbody>\n",
       "</table>\n",
       "</div>"
      ],
      "text/plain": [
       "   среднее_кол_во_польз_\n",
       "0              24.333333"
      ]
     },
     "metadata": {},
     "output_type": "display_data"
    }
   ],
   "source": [
    "data = pd.io.sql.read_sql(query, con = engine)\n",
    "display(data)"
   ]
  },
  {
   "cell_type": "markdown",
   "id": "3a3541b9",
   "metadata": {
    "id": "3a3541b9"
   },
   "source": [
    "## Общий вывод:\n"
   ]
  },
  {
   "cell_type": "markdown",
   "id": "18a70626",
   "metadata": {
    "id": "18a70626"
   },
   "source": [
    "Посчитано, сколько книг вышло после 1 января 2000 года - 819 книг, также посчитано для каждой книги  количество обзоров и среднюю оценку\\\n",
    "Определено издательство, которое выпустило наибольшее число книг толще 50 страниц - Penguin Books;\\\n",
    "Определен автор с самой высокой средней оценкой книг - J.K. Rowling/Mary GrandPré;\\\n",
    "Посчитано среднее количество обзоров от пользователей, которые поставили больше 50 оценок - 24,3"
   ]
  }
 ],
 "metadata": {
  "ExecuteTimeLog": [
   {
    "duration": 593,
    "start_time": "2022-05-13T11:17:01.557Z"
   },
   {
    "duration": 2,
    "start_time": "2022-05-13T11:17:12.580Z"
   },
   {
    "duration": 69,
    "start_time": "2022-05-13T11:17:15.548Z"
   },
   {
    "duration": 93,
    "start_time": "2022-05-13T11:17:23.437Z"
   },
   {
    "duration": 953,
    "start_time": "2022-05-13T11:18:01.557Z"
   },
   {
    "duration": 104,
    "start_time": "2022-05-13T11:18:31.278Z"
   },
   {
    "duration": 9,
    "start_time": "2022-05-13T11:18:46.245Z"
   },
   {
    "duration": 18,
    "start_time": "2022-05-13T11:19:00.549Z"
   },
   {
    "duration": 8,
    "start_time": "2022-05-13T11:19:03.469Z"
   },
   {
    "duration": 41,
    "start_time": "2022-05-13T11:19:52.268Z"
   },
   {
    "duration": 35,
    "start_time": "2022-05-13T11:19:58.308Z"
   },
   {
    "duration": 21,
    "start_time": "2022-05-13T11:20:04.301Z"
   },
   {
    "duration": 20,
    "start_time": "2022-05-13T11:20:15.388Z"
   },
   {
    "duration": 128,
    "start_time": "2022-05-13T11:21:52.654Z"
   },
   {
    "duration": 17,
    "start_time": "2022-05-13T11:22:03.421Z"
   },
   {
    "duration": 252,
    "start_time": "2022-05-13T11:22:16.399Z"
   },
   {
    "duration": 12,
    "start_time": "2022-05-13T11:22:17.710Z"
   },
   {
    "duration": 25,
    "start_time": "2022-05-13T11:22:45.736Z"
   },
   {
    "duration": 9,
    "start_time": "2022-05-13T11:22:47.150Z"
   },
   {
    "duration": 13860,
    "start_time": "2022-05-13T11:37:50.509Z"
   },
   {
    "duration": 16,
    "start_time": "2022-05-13T11:38:20.955Z"
   },
   {
    "duration": 4,
    "start_time": "2022-05-13T11:41:22.154Z"
   },
   {
    "duration": 189,
    "start_time": "2022-05-13T11:49:42.209Z"
   },
   {
    "duration": 201,
    "start_time": "2022-05-13T11:50:01.590Z"
   },
   {
    "duration": 159,
    "start_time": "2022-05-13T11:50:48.374Z"
   },
   {
    "duration": 158,
    "start_time": "2022-05-13T11:56:56.592Z"
   },
   {
    "duration": 11383,
    "start_time": "2022-05-14T05:36:53.015Z"
   },
   {
    "duration": 4,
    "start_time": "2022-05-14T05:37:39.046Z"
   },
   {
    "duration": 4,
    "start_time": "2022-05-14T05:37:48.234Z"
   },
   {
    "duration": 206,
    "start_time": "2022-05-14T05:37:50.814Z"
   },
   {
    "duration": 218,
    "start_time": "2022-05-14T05:38:19.693Z"
   },
   {
    "duration": 7,
    "start_time": "2022-05-14T05:38:23.503Z"
   },
   {
    "duration": 7,
    "start_time": "2022-05-14T05:38:25.093Z"
   },
   {
    "duration": 4,
    "start_time": "2022-05-14T05:40:12.194Z"
   },
   {
    "duration": 871,
    "start_time": "2022-05-14T05:40:15.015Z"
   },
   {
    "duration": 4,
    "start_time": "2022-05-14T06:20:04.706Z"
   },
   {
    "duration": 971,
    "start_time": "2022-05-14T06:20:06.425Z"
   },
   {
    "duration": 4,
    "start_time": "2022-05-14T06:37:35.754Z"
   },
   {
    "duration": 254,
    "start_time": "2022-05-14T06:37:37.974Z"
   },
   {
    "duration": 4,
    "start_time": "2022-05-14T06:38:56.250Z"
   },
   {
    "duration": 220,
    "start_time": "2022-05-14T06:38:57.541Z"
   },
   {
    "duration": 215,
    "start_time": "2022-05-14T06:44:39.215Z"
   },
   {
    "duration": 2398,
    "start_time": "2022-05-14T06:45:27.294Z"
   },
   {
    "duration": 2085,
    "start_time": "2022-05-14T06:45:40.125Z"
   },
   {
    "duration": 11296,
    "start_time": "2022-05-14T06:45:42.212Z"
   },
   {
    "duration": 65,
    "start_time": "2022-05-14T06:45:53.510Z"
   },
   {
    "duration": 0,
    "start_time": "2022-05-14T06:45:53.577Z"
   },
   {
    "duration": 2123,
    "start_time": "2022-05-14T06:45:57.362Z"
   },
   {
    "duration": 168,
    "start_time": "2022-05-14T06:46:05.701Z"
   },
   {
    "duration": 16,
    "start_time": "2022-05-14T06:46:31.104Z"
   },
   {
    "duration": 10,
    "start_time": "2022-05-14T06:50:23.981Z"
   },
   {
    "duration": 16,
    "start_time": "2022-05-14T06:50:42.702Z"
   },
   {
    "duration": 197,
    "start_time": "2022-05-14T06:52:21.824Z"
   },
   {
    "duration": 8,
    "start_time": "2022-05-14T06:53:24.712Z"
   },
   {
    "duration": 14,
    "start_time": "2022-05-14T06:53:29.714Z"
   },
   {
    "duration": 8,
    "start_time": "2022-05-14T06:54:45.192Z"
   },
   {
    "duration": 14,
    "start_time": "2022-05-14T06:55:06.781Z"
   },
   {
    "duration": 7,
    "start_time": "2022-05-14T06:55:22.032Z"
   },
   {
    "duration": 502,
    "start_time": "2022-05-14T06:55:33.972Z"
   },
   {
    "duration": 290,
    "start_time": "2022-05-14T06:57:40.782Z"
   },
   {
    "duration": 13,
    "start_time": "2022-05-14T07:12:37.842Z"
   },
   {
    "duration": 5,
    "start_time": "2022-05-14T08:30:15.304Z"
   },
   {
    "duration": 8,
    "start_time": "2022-05-14T08:31:02.480Z"
   },
   {
    "duration": 9,
    "start_time": "2022-05-14T08:31:10.971Z"
   },
   {
    "duration": 7,
    "start_time": "2022-05-14T08:31:36.216Z"
   },
   {
    "duration": 374,
    "start_time": "2022-05-14T08:31:44.982Z"
   },
   {
    "duration": 7,
    "start_time": "2022-05-14T08:32:03.355Z"
   },
   {
    "duration": 4,
    "start_time": "2022-05-14T08:49:54.181Z"
   },
   {
    "duration": 5,
    "start_time": "2022-05-14T10:46:14.308Z"
   },
   {
    "duration": 11,
    "start_time": "2022-05-14T13:41:11.669Z"
   },
   {
    "duration": 8,
    "start_time": "2022-05-14T13:41:18.071Z"
   },
   {
    "duration": 14,
    "start_time": "2022-05-14T13:41:47.900Z"
   },
   {
    "duration": 9,
    "start_time": "2022-05-14T13:41:50.880Z"
   },
   {
    "duration": 4,
    "start_time": "2022-05-14T13:42:21.402Z"
   },
   {
    "duration": 11,
    "start_time": "2022-05-14T13:42:29.079Z"
   },
   {
    "duration": 9,
    "start_time": "2022-05-14T13:42:31.110Z"
   },
   {
    "duration": 14,
    "start_time": "2022-05-14T13:42:36.532Z"
   },
   {
    "duration": 7,
    "start_time": "2022-05-14T13:42:39.270Z"
   },
   {
    "duration": 9,
    "start_time": "2022-05-14T13:44:20.320Z"
   },
   {
    "duration": 12,
    "start_time": "2022-05-14T13:44:22.700Z"
   },
   {
    "duration": 8,
    "start_time": "2022-05-14T13:44:23.630Z"
   },
   {
    "duration": 5,
    "start_time": "2022-05-14T14:13:53.268Z"
   },
   {
    "duration": 5,
    "start_time": "2022-05-14T14:14:01.462Z"
   },
   {
    "duration": 14,
    "start_time": "2022-05-14T14:16:52.928Z"
   },
   {
    "duration": 16125,
    "start_time": "2022-05-15T08:17:54.746Z"
   },
   {
    "duration": 445,
    "start_time": "2022-05-15T08:18:10.874Z"
   },
   {
    "duration": 30,
    "start_time": "2022-05-15T08:18:11.322Z"
   },
   {
    "duration": 9,
    "start_time": "2022-05-15T08:18:11.355Z"
   },
   {
    "duration": 184,
    "start_time": "2022-05-15T08:18:11.366Z"
   },
   {
    "duration": 0,
    "start_time": "2022-05-15T08:18:11.553Z"
   },
   {
    "duration": 0,
    "start_time": "2022-05-15T08:18:11.555Z"
   },
   {
    "duration": 0,
    "start_time": "2022-05-15T08:18:11.556Z"
   },
   {
    "duration": 0,
    "start_time": "2022-05-15T08:18:11.558Z"
   },
   {
    "duration": 0,
    "start_time": "2022-05-15T08:18:11.561Z"
   },
   {
    "duration": 0,
    "start_time": "2022-05-15T08:18:11.563Z"
   },
   {
    "duration": 11,
    "start_time": "2022-05-15T08:18:23.535Z"
   },
   {
    "duration": 7,
    "start_time": "2022-05-15T08:18:26.763Z"
   },
   {
    "duration": 7,
    "start_time": "2022-05-15T08:18:27.903Z"
   },
   {
    "duration": 19,
    "start_time": "2022-05-15T08:18:28.565Z"
   },
   {
    "duration": 6,
    "start_time": "2022-05-15T08:18:30.295Z"
   },
   {
    "duration": 19,
    "start_time": "2022-05-15T08:18:32.395Z"
   },
   {
    "duration": 12,
    "start_time": "2022-05-15T08:18:35.695Z"
   },
   {
    "duration": 4912,
    "start_time": "2022-06-10T19:18:27.907Z"
   },
   {
    "duration": 46,
    "start_time": "2022-06-10T19:20:16.912Z"
   },
   {
    "duration": 9,
    "start_time": "2022-06-10T19:20:57.357Z"
   },
   {
    "duration": 422,
    "start_time": "2022-06-10T19:21:15.728Z"
   },
   {
    "duration": 153,
    "start_time": "2022-06-10T19:22:51.458Z"
   },
   {
    "duration": 545,
    "start_time": "2022-06-10T19:23:15.903Z"
   },
   {
    "duration": 92,
    "start_time": "2022-06-10T19:23:48.850Z"
   },
   {
    "duration": 10,
    "start_time": "2022-06-10T19:24:36.669Z"
   },
   {
    "duration": 8,
    "start_time": "2022-06-10T19:24:39.904Z"
   },
   {
    "duration": 372,
    "start_time": "2022-06-10T19:27:24.028Z"
   },
   {
    "duration": 512,
    "start_time": "2022-06-10T19:27:49.720Z"
   },
   {
    "duration": 136,
    "start_time": "2022-06-10T19:28:49.519Z"
   },
   {
    "duration": 136,
    "start_time": "2022-06-10T19:29:10.489Z"
   },
   {
    "duration": 158,
    "start_time": "2022-06-10T19:30:17.583Z"
   },
   {
    "duration": 283,
    "start_time": "2022-06-10T19:31:42.838Z"
   },
   {
    "duration": 2,
    "start_time": "2022-06-10T19:32:06.937Z"
   },
   {
    "duration": 65,
    "start_time": "2022-06-10T19:32:19.082Z"
   },
   {
    "duration": 36,
    "start_time": "2022-06-10T19:32:26.757Z"
   },
   {
    "duration": 511,
    "start_time": "2022-06-10T19:32:48.917Z"
   },
   {
    "duration": 290,
    "start_time": "2022-06-10T19:32:49.430Z"
   },
   {
    "duration": 2,
    "start_time": "2022-06-10T19:32:49.721Z"
   },
   {
    "duration": 81,
    "start_time": "2022-06-10T19:32:49.726Z"
   },
   {
    "duration": 13,
    "start_time": "2022-06-10T19:32:49.809Z"
   },
   {
    "duration": 8,
    "start_time": "2022-06-10T19:32:49.823Z"
   },
   {
    "duration": 505,
    "start_time": "2022-06-10T19:32:49.833Z"
   },
   {
    "duration": 197,
    "start_time": "2022-06-10T19:32:50.340Z"
   },
   {
    "duration": 13,
    "start_time": "2022-06-10T19:32:50.539Z"
   },
   {
    "duration": 25,
    "start_time": "2022-06-10T19:32:50.554Z"
   },
   {
    "duration": 12,
    "start_time": "2022-06-10T19:32:50.588Z"
   },
   {
    "duration": 5,
    "start_time": "2022-06-10T19:32:50.601Z"
   },
   {
    "duration": 6,
    "start_time": "2022-06-10T19:32:50.607Z"
   },
   {
    "duration": 15,
    "start_time": "2022-06-10T19:32:50.614Z"
   },
   {
    "duration": 11,
    "start_time": "2022-06-10T19:32:50.630Z"
   },
   {
    "duration": 8,
    "start_time": "2022-06-10T19:32:50.642Z"
   },
   {
    "duration": 7,
    "start_time": "2022-06-10T19:33:12.070Z"
   },
   {
    "duration": 304,
    "start_time": "2022-06-10T19:33:12.604Z"
   },
   {
    "duration": 3,
    "start_time": "2022-06-10T19:33:13.105Z"
   },
   {
    "duration": 85,
    "start_time": "2022-06-10T19:33:13.636Z"
   },
   {
    "duration": 10,
    "start_time": "2022-06-10T19:33:14.280Z"
   },
   {
    "duration": 618,
    "start_time": "2022-06-12T10:26:28.712Z"
   },
   {
    "duration": 220,
    "start_time": "2022-06-12T10:26:29.332Z"
   },
   {
    "duration": 3,
    "start_time": "2022-06-12T10:26:29.554Z"
   },
   {
    "duration": 68,
    "start_time": "2022-06-12T10:26:29.558Z"
   },
   {
    "duration": 16,
    "start_time": "2022-06-12T10:26:29.628Z"
   },
   {
    "duration": 2,
    "start_time": "2022-06-12T10:26:29.646Z"
   },
   {
    "duration": 69,
    "start_time": "2022-06-12T10:26:57.322Z"
   },
   {
    "duration": 64,
    "start_time": "2022-06-12T10:27:42.634Z"
   },
   {
    "duration": 3,
    "start_time": "2022-06-12T10:27:43.423Z"
   },
   {
    "duration": 62,
    "start_time": "2022-06-12T10:27:44.102Z"
   },
   {
    "duration": 9,
    "start_time": "2022-06-12T10:27:44.634Z"
   },
   {
    "duration": 3,
    "start_time": "2022-06-12T10:28:40.512Z"
   },
   {
    "duration": 96,
    "start_time": "2022-06-12T10:28:41.551Z"
   },
   {
    "duration": 3,
    "start_time": "2022-06-12T10:29:18.050Z"
   },
   {
    "duration": 68,
    "start_time": "2022-06-12T10:29:18.821Z"
   },
   {
    "duration": 2,
    "start_time": "2022-06-12T10:30:41.321Z"
   },
   {
    "duration": 77,
    "start_time": "2022-06-12T10:30:42.520Z"
   },
   {
    "duration": 3,
    "start_time": "2022-06-12T10:31:10.361Z"
   },
   {
    "duration": 4,
    "start_time": "2022-06-12T10:31:26.242Z"
   },
   {
    "duration": 67,
    "start_time": "2022-06-12T10:31:27.440Z"
   },
   {
    "duration": 559,
    "start_time": "2022-06-12T10:33:48.311Z"
   },
   {
    "duration": 225,
    "start_time": "2022-06-12T10:33:48.872Z"
   },
   {
    "duration": 3,
    "start_time": "2022-06-12T10:33:49.098Z"
   },
   {
    "duration": 72,
    "start_time": "2022-06-12T10:33:49.102Z"
   },
   {
    "duration": 14,
    "start_time": "2022-06-12T10:33:49.176Z"
   },
   {
    "duration": 7,
    "start_time": "2022-06-12T10:33:49.191Z"
   },
   {
    "duration": 83,
    "start_time": "2022-06-12T10:33:49.200Z"
   },
   {
    "duration": 3,
    "start_time": "2022-06-12T10:33:49.285Z"
   },
   {
    "duration": 104,
    "start_time": "2022-06-12T10:33:49.290Z"
   },
   {
    "duration": 2,
    "start_time": "2022-06-12T10:33:49.396Z"
   },
   {
    "duration": 76,
    "start_time": "2022-06-12T10:33:49.400Z"
   },
   {
    "duration": 3,
    "start_time": "2022-06-12T10:33:49.478Z"
   },
   {
    "duration": 79,
    "start_time": "2022-06-12T10:33:49.482Z"
   },
   {
    "duration": 2,
    "start_time": "2022-06-12T10:33:49.563Z"
   },
   {
    "duration": 75,
    "start_time": "2022-06-12T10:33:49.567Z"
   },
   {
    "duration": 3,
    "start_time": "2022-06-12T10:34:56.081Z"
   },
   {
    "duration": 593,
    "start_time": "2022-06-12T10:36:53.604Z"
   },
   {
    "duration": 240,
    "start_time": "2022-06-12T10:36:54.199Z"
   },
   {
    "duration": 2,
    "start_time": "2022-06-12T10:36:54.441Z"
   },
   {
    "duration": 74,
    "start_time": "2022-06-12T10:36:54.445Z"
   },
   {
    "duration": 17,
    "start_time": "2022-06-12T10:36:54.521Z"
   },
   {
    "duration": 3,
    "start_time": "2022-06-12T10:36:54.540Z"
   },
   {
    "duration": 78,
    "start_time": "2022-06-12T10:36:54.544Z"
   },
   {
    "duration": 3,
    "start_time": "2022-06-12T10:36:54.623Z"
   },
   {
    "duration": 105,
    "start_time": "2022-06-12T10:36:54.627Z"
   },
   {
    "duration": 2,
    "start_time": "2022-06-12T10:36:54.734Z"
   },
   {
    "duration": 79,
    "start_time": "2022-06-12T10:36:54.737Z"
   },
   {
    "duration": 2,
    "start_time": "2022-06-12T10:36:54.818Z"
   },
   {
    "duration": 82,
    "start_time": "2022-06-12T10:36:54.821Z"
   },
   {
    "duration": 2,
    "start_time": "2022-06-12T10:36:54.906Z"
   },
   {
    "duration": 78,
    "start_time": "2022-06-12T10:36:54.910Z"
   },
   {
    "duration": 3479,
    "start_time": "2022-06-12T18:22:56.825Z"
   },
   {
    "duration": 599,
    "start_time": "2022-06-12T18:23:09.755Z"
   },
   {
    "duration": 101,
    "start_time": "2022-06-12T18:23:10.356Z"
   },
   {
    "duration": 2,
    "start_time": "2022-06-12T18:23:10.459Z"
   },
   {
    "duration": 19,
    "start_time": "2022-06-12T18:23:10.463Z"
   },
   {
    "duration": 15,
    "start_time": "2022-06-12T18:23:10.485Z"
   },
   {
    "duration": 4,
    "start_time": "2022-06-12T18:23:10.501Z"
   },
   {
    "duration": 15,
    "start_time": "2022-06-12T18:23:10.506Z"
   },
   {
    "duration": 4,
    "start_time": "2022-06-12T18:23:10.522Z"
   },
   {
    "duration": 21,
    "start_time": "2022-06-12T18:23:10.527Z"
   },
   {
    "duration": 3,
    "start_time": "2022-06-12T18:23:10.559Z"
   },
   {
    "duration": 15,
    "start_time": "2022-06-12T18:23:10.564Z"
   },
   {
    "duration": 3,
    "start_time": "2022-06-12T18:23:10.581Z"
   },
   {
    "duration": 19,
    "start_time": "2022-06-12T18:23:10.585Z"
   },
   {
    "duration": 2,
    "start_time": "2022-06-12T18:23:10.607Z"
   },
   {
    "duration": 18,
    "start_time": "2022-06-12T18:23:10.610Z"
   },
   {
    "duration": 589,
    "start_time": "2022-06-17T07:25:05.916Z"
   },
   {
    "duration": 231,
    "start_time": "2022-06-17T07:25:06.507Z"
   },
   {
    "duration": 3,
    "start_time": "2022-06-17T07:25:06.740Z"
   },
   {
    "duration": 89,
    "start_time": "2022-06-17T07:25:06.745Z"
   },
   {
    "duration": 14,
    "start_time": "2022-06-17T07:25:06.836Z"
   },
   {
    "duration": 21,
    "start_time": "2022-06-17T07:25:06.851Z"
   },
   {
    "duration": 76,
    "start_time": "2022-06-17T07:25:06.874Z"
   },
   {
    "duration": 3,
    "start_time": "2022-06-17T07:25:06.951Z"
   },
   {
    "duration": 126,
    "start_time": "2022-06-17T07:25:06.955Z"
   },
   {
    "duration": 3,
    "start_time": "2022-06-17T07:25:07.083Z"
   },
   {
    "duration": 86,
    "start_time": "2022-06-17T07:25:07.087Z"
   },
   {
    "duration": 2,
    "start_time": "2022-06-17T07:25:07.175Z"
   },
   {
    "duration": 97,
    "start_time": "2022-06-17T07:25:07.178Z"
   },
   {
    "duration": 2,
    "start_time": "2022-06-17T07:25:07.278Z"
   },
   {
    "duration": 107,
    "start_time": "2022-06-17T07:25:07.281Z"
   },
   {
    "duration": 3,
    "start_time": "2022-06-17T07:37:07.288Z"
   },
   {
    "duration": 69,
    "start_time": "2022-06-17T07:37:09.340Z"
   },
   {
    "duration": 3,
    "start_time": "2022-06-17T07:37:17.132Z"
   },
   {
    "duration": 3,
    "start_time": "2022-06-17T07:37:43.796Z"
   },
   {
    "duration": 160,
    "start_time": "2022-06-17T07:37:44.740Z"
   },
   {
    "duration": 3,
    "start_time": "2022-06-17T07:37:51.012Z"
   },
   {
    "duration": 93,
    "start_time": "2022-06-17T07:37:52.893Z"
   },
   {
    "duration": 3,
    "start_time": "2022-06-17T07:38:31.246Z"
   },
   {
    "duration": 68,
    "start_time": "2022-06-17T07:38:32.397Z"
   },
   {
    "duration": 2,
    "start_time": "2022-06-17T07:38:50.422Z"
   },
   {
    "duration": 106,
    "start_time": "2022-06-17T07:38:51.846Z"
   },
   {
    "duration": 4,
    "start_time": "2022-06-17T07:39:02.028Z"
   },
   {
    "duration": 70,
    "start_time": "2022-06-17T07:39:02.829Z"
   },
   {
    "duration": 3,
    "start_time": "2022-06-17T07:39:36.942Z"
   },
   {
    "duration": 72,
    "start_time": "2022-06-17T07:39:37.910Z"
   },
   {
    "duration": 2,
    "start_time": "2022-06-17T07:40:06.239Z"
   },
   {
    "duration": 71,
    "start_time": "2022-06-17T07:40:08.021Z"
   },
   {
    "duration": 3,
    "start_time": "2022-06-17T07:40:37.125Z"
   },
   {
    "duration": 67,
    "start_time": "2022-06-17T07:40:38.021Z"
   },
   {
    "duration": 3,
    "start_time": "2022-06-17T07:41:23.293Z"
   },
   {
    "duration": 3,
    "start_time": "2022-06-17T07:41:27.653Z"
   },
   {
    "duration": 69,
    "start_time": "2022-06-17T07:41:28.396Z"
   },
   {
    "duration": 589,
    "start_time": "2022-06-17T07:46:05.962Z"
   },
   {
    "duration": 351,
    "start_time": "2022-06-17T07:46:06.552Z"
   },
   {
    "duration": 3,
    "start_time": "2022-06-17T07:46:06.905Z"
   },
   {
    "duration": 78,
    "start_time": "2022-06-17T07:46:06.910Z"
   },
   {
    "duration": 14,
    "start_time": "2022-06-17T07:46:06.990Z"
   },
   {
    "duration": 3,
    "start_time": "2022-06-17T07:46:07.006Z"
   },
   {
    "duration": 75,
    "start_time": "2022-06-17T07:46:07.010Z"
   },
   {
    "duration": 2,
    "start_time": "2022-06-17T07:46:07.088Z"
   },
   {
    "duration": 126,
    "start_time": "2022-06-17T07:46:07.092Z"
   },
   {
    "duration": 2,
    "start_time": "2022-06-17T07:46:07.221Z"
   },
   {
    "duration": 73,
    "start_time": "2022-06-17T07:46:07.225Z"
   },
   {
    "duration": 2,
    "start_time": "2022-06-17T07:46:07.300Z"
   },
   {
    "duration": 77,
    "start_time": "2022-06-17T07:46:07.303Z"
   },
   {
    "duration": 3,
    "start_time": "2022-06-17T07:46:07.381Z"
   },
   {
    "duration": 76,
    "start_time": "2022-06-17T07:46:07.386Z"
   },
   {
    "duration": 6192,
    "start_time": "2022-06-20T11:45:21.446Z"
   },
   {
    "duration": 234,
    "start_time": "2022-06-20T11:45:27.640Z"
   },
   {
    "duration": 3,
    "start_time": "2022-06-20T11:45:27.876Z"
   },
   {
    "duration": 75,
    "start_time": "2022-06-20T11:45:27.880Z"
   },
   {
    "duration": 14,
    "start_time": "2022-06-20T11:45:27.957Z"
   },
   {
    "duration": 2,
    "start_time": "2022-06-20T11:45:27.972Z"
   },
   {
    "duration": 76,
    "start_time": "2022-06-20T11:45:27.976Z"
   },
   {
    "duration": 2,
    "start_time": "2022-06-20T11:45:28.054Z"
   },
   {
    "duration": 103,
    "start_time": "2022-06-20T11:45:28.058Z"
   },
   {
    "duration": 3,
    "start_time": "2022-06-20T11:45:28.163Z"
   },
   {
    "duration": 76,
    "start_time": "2022-06-20T11:45:28.168Z"
   },
   {
    "duration": 3,
    "start_time": "2022-06-20T11:45:28.245Z"
   },
   {
    "duration": 82,
    "start_time": "2022-06-20T11:45:28.249Z"
   },
   {
    "duration": 2,
    "start_time": "2022-06-20T11:45:28.333Z"
   },
   {
    "duration": 81,
    "start_time": "2022-06-20T11:45:28.336Z"
   },
   {
    "duration": 217,
    "start_time": "2022-06-20T11:46:26.169Z"
   },
   {
    "duration": 91,
    "start_time": "2022-06-20T11:46:53.594Z"
   },
   {
    "duration": 95,
    "start_time": "2022-06-20T11:47:05.693Z"
   },
   {
    "duration": 117,
    "start_time": "2022-06-20T11:51:29.374Z"
   },
   {
    "duration": 418,
    "start_time": "2022-06-20T11:52:21.695Z"
   },
   {
    "duration": 10327,
    "start_time": "2022-06-22T08:47:17.701Z"
   },
   {
    "duration": 121,
    "start_time": "2022-06-22T08:47:28.030Z"
   },
   {
    "duration": 3,
    "start_time": "2022-06-22T08:47:28.153Z"
   },
   {
    "duration": 15,
    "start_time": "2022-06-22T08:47:28.158Z"
   },
   {
    "duration": 3,
    "start_time": "2022-06-22T08:47:28.174Z"
   },
   {
    "duration": 27,
    "start_time": "2022-06-22T08:47:28.178Z"
   },
   {
    "duration": 2,
    "start_time": "2022-06-22T08:47:28.207Z"
   },
   {
    "duration": 19,
    "start_time": "2022-06-22T08:47:28.211Z"
   },
   {
    "duration": 3,
    "start_time": "2022-06-22T08:47:28.233Z"
   },
   {
    "duration": 24,
    "start_time": "2022-06-22T08:47:28.238Z"
   },
   {
    "duration": 2,
    "start_time": "2022-06-22T08:47:28.263Z"
   },
   {
    "duration": 12,
    "start_time": "2022-06-22T08:47:28.269Z"
   },
   {
    "duration": 3,
    "start_time": "2022-06-22T08:47:51.004Z"
   },
   {
    "duration": 14,
    "start_time": "2022-06-22T08:47:53.955Z"
   },
   {
    "duration": 13150,
    "start_time": "2022-06-23T11:46:02.218Z"
   },
   {
    "duration": 144,
    "start_time": "2022-06-23T11:46:15.370Z"
   },
   {
    "duration": 2,
    "start_time": "2022-06-23T11:46:15.516Z"
   },
   {
    "duration": 31,
    "start_time": "2022-06-23T11:46:15.520Z"
   },
   {
    "duration": 3,
    "start_time": "2022-06-23T11:46:15.553Z"
   },
   {
    "duration": 22,
    "start_time": "2022-06-23T11:46:15.557Z"
   },
   {
    "duration": 3,
    "start_time": "2022-06-23T11:46:15.581Z"
   },
   {
    "duration": 15,
    "start_time": "2022-06-23T11:46:15.586Z"
   },
   {
    "duration": 3,
    "start_time": "2022-06-23T11:46:15.602Z"
   },
   {
    "duration": 24,
    "start_time": "2022-06-23T11:46:15.607Z"
   },
   {
    "duration": 5,
    "start_time": "2022-06-23T11:46:15.637Z"
   },
   {
    "duration": 19,
    "start_time": "2022-06-23T11:46:15.645Z"
   },
   {
    "duration": 11886,
    "start_time": "2022-06-23T12:58:45.983Z"
   },
   {
    "duration": 668,
    "start_time": "2022-06-23T12:58:57.870Z"
   },
   {
    "duration": 3,
    "start_time": "2022-06-23T12:58:58.539Z"
   },
   {
    "duration": 73,
    "start_time": "2022-06-23T12:58:58.546Z"
   },
   {
    "duration": 8,
    "start_time": "2022-06-23T12:58:58.622Z"
   },
   {
    "duration": 122,
    "start_time": "2022-06-23T12:58:58.638Z"
   },
   {
    "duration": 3,
    "start_time": "2022-06-23T12:58:58.762Z"
   },
   {
    "duration": 86,
    "start_time": "2022-06-23T12:58:58.766Z"
   },
   {
    "duration": 3,
    "start_time": "2022-06-23T12:58:58.853Z"
   },
   {
    "duration": 89,
    "start_time": "2022-06-23T12:58:58.858Z"
   },
   {
    "duration": 3,
    "start_time": "2022-06-23T12:58:58.950Z"
   },
   {
    "duration": 92,
    "start_time": "2022-06-23T12:58:58.954Z"
   },
   {
    "duration": 2,
    "start_time": "2022-06-23T13:02:28.368Z"
   },
   {
    "duration": 254,
    "start_time": "2022-06-23T13:02:32.952Z"
   },
   {
    "duration": 4,
    "start_time": "2022-06-23T13:02:54.078Z"
   },
   {
    "duration": 127,
    "start_time": "2022-06-23T13:02:54.914Z"
   },
   {
    "duration": 3,
    "start_time": "2022-06-23T13:03:30.106Z"
   },
   {
    "duration": 114,
    "start_time": "2022-06-23T13:03:32.659Z"
   },
   {
    "duration": 4,
    "start_time": "2022-06-23T13:05:33.850Z"
   },
   {
    "duration": 111,
    "start_time": "2022-06-23T13:05:34.655Z"
   },
   {
    "duration": 86,
    "start_time": "2022-06-23T13:08:57.981Z"
   },
   {
    "duration": 6865,
    "start_time": "2022-06-24T04:26:55.985Z"
   },
   {
    "duration": 619,
    "start_time": "2022-06-24T04:27:02.852Z"
   },
   {
    "duration": 3,
    "start_time": "2022-06-24T04:27:03.472Z"
   },
   {
    "duration": 72,
    "start_time": "2022-06-24T04:27:03.476Z"
   },
   {
    "duration": 4,
    "start_time": "2022-06-24T04:27:03.550Z"
   },
   {
    "duration": 20,
    "start_time": "2022-06-24T04:27:03.555Z"
   },
   {
    "duration": 92,
    "start_time": "2022-06-24T04:27:03.578Z"
   },
   {
    "duration": 3,
    "start_time": "2022-06-24T04:27:03.672Z"
   },
   {
    "duration": 72,
    "start_time": "2022-06-24T04:27:03.676Z"
   },
   {
    "duration": 4,
    "start_time": "2022-06-24T04:27:03.750Z"
   },
   {
    "duration": 96,
    "start_time": "2022-06-24T04:27:03.755Z"
   },
   {
    "duration": 2,
    "start_time": "2022-06-24T04:27:03.853Z"
   },
   {
    "duration": 93,
    "start_time": "2022-06-24T04:27:03.857Z"
   },
   {
    "duration": 3,
    "start_time": "2022-06-24T04:27:58.050Z"
   },
   {
    "duration": 3,
    "start_time": "2022-06-24T04:28:36.194Z"
   },
   {
    "duration": 200,
    "start_time": "2022-06-24T04:28:40.747Z"
   },
   {
    "duration": 4,
    "start_time": "2022-06-24T04:29:33.088Z"
   },
   {
    "duration": 117,
    "start_time": "2022-06-24T04:29:34.504Z"
   },
   {
    "duration": 2,
    "start_time": "2022-06-24T04:29:58.128Z"
   },
   {
    "duration": 107,
    "start_time": "2022-06-24T04:30:04.345Z"
   },
   {
    "duration": 102,
    "start_time": "2022-06-24T04:32:29.937Z"
   },
   {
    "duration": 2,
    "start_time": "2022-06-24T04:32:43.353Z"
   },
   {
    "duration": 106,
    "start_time": "2022-06-24T04:32:44.386Z"
   },
   {
    "duration": 2,
    "start_time": "2022-06-24T04:33:04.185Z"
   },
   {
    "duration": 115,
    "start_time": "2022-06-24T04:33:05.274Z"
   },
   {
    "duration": 3,
    "start_time": "2022-06-24T04:33:53.233Z"
   },
   {
    "duration": 96,
    "start_time": "2022-06-24T04:33:54.113Z"
   },
   {
    "duration": 4,
    "start_time": "2022-06-24T04:33:56.057Z"
   },
   {
    "duration": 111,
    "start_time": "2022-06-24T04:33:58.068Z"
   },
   {
    "duration": 2,
    "start_time": "2022-06-24T04:35:42.106Z"
   },
   {
    "duration": 96,
    "start_time": "2022-06-24T04:35:43.010Z"
   },
   {
    "duration": 3,
    "start_time": "2022-06-24T04:36:04.316Z"
   },
   {
    "duration": 137,
    "start_time": "2022-06-24T04:36:05.170Z"
   },
   {
    "duration": 2,
    "start_time": "2022-06-24T04:36:15.474Z"
   },
   {
    "duration": 3,
    "start_time": "2022-06-24T04:36:16.289Z"
   },
   {
    "duration": 96,
    "start_time": "2022-06-24T04:36:16.987Z"
   },
   {
    "duration": 3,
    "start_time": "2022-06-24T04:37:33.075Z"
   },
   {
    "duration": 124,
    "start_time": "2022-06-24T04:37:33.980Z"
   },
   {
    "duration": 3,
    "start_time": "2022-06-24T04:38:22.643Z"
   },
   {
    "duration": 125,
    "start_time": "2022-06-24T04:38:23.635Z"
   },
   {
    "duration": 343,
    "start_time": "2022-06-24T05:40:42.204Z"
   },
   {
    "duration": 351,
    "start_time": "2022-06-24T05:40:49.682Z"
   },
   {
    "duration": 339,
    "start_time": "2022-06-24T05:41:26.267Z"
   },
   {
    "duration": 6336,
    "start_time": "2022-06-24T05:43:59.187Z"
   },
   {
    "duration": 563,
    "start_time": "2022-06-24T05:44:05.525Z"
   },
   {
    "duration": 2,
    "start_time": "2022-06-24T05:44:06.090Z"
   },
   {
    "duration": 79,
    "start_time": "2022-06-24T05:44:06.095Z"
   },
   {
    "duration": 4,
    "start_time": "2022-06-24T05:44:06.176Z"
   },
   {
    "duration": 9,
    "start_time": "2022-06-24T05:44:06.182Z"
   },
   {
    "duration": 5,
    "start_time": "2022-06-24T05:44:06.193Z"
   },
   {
    "duration": 208,
    "start_time": "2022-06-24T05:44:06.199Z"
   },
   {
    "duration": 0,
    "start_time": "2022-06-24T05:44:06.410Z"
   },
   {
    "duration": 0,
    "start_time": "2022-06-24T05:44:06.412Z"
   },
   {
    "duration": 0,
    "start_time": "2022-06-24T05:44:06.413Z"
   },
   {
    "duration": 0,
    "start_time": "2022-06-24T05:44:06.415Z"
   },
   {
    "duration": 0,
    "start_time": "2022-06-24T05:44:06.416Z"
   },
   {
    "duration": 0,
    "start_time": "2022-06-24T05:44:06.417Z"
   },
   {
    "duration": 0,
    "start_time": "2022-06-24T05:44:06.419Z"
   },
   {
    "duration": 4,
    "start_time": "2022-06-24T06:24:59.763Z"
   },
   {
    "duration": 163,
    "start_time": "2022-06-24T06:25:05.483Z"
   },
   {
    "duration": 3,
    "start_time": "2022-06-24T06:25:12.747Z"
   },
   {
    "duration": 115,
    "start_time": "2022-06-24T06:25:15.179Z"
   },
   {
    "duration": 2,
    "start_time": "2022-06-24T06:25:46.243Z"
   },
   {
    "duration": 113,
    "start_time": "2022-06-24T06:25:47.564Z"
   },
   {
    "duration": 2,
    "start_time": "2022-06-24T07:30:38.633Z"
   },
   {
    "duration": 159,
    "start_time": "2022-06-24T07:30:39.550Z"
   },
   {
    "duration": 2,
    "start_time": "2022-06-24T07:31:32.677Z"
   },
   {
    "duration": 151,
    "start_time": "2022-06-24T07:31:34.270Z"
   },
   {
    "duration": 3,
    "start_time": "2022-06-24T07:31:40.623Z"
   },
   {
    "duration": 134,
    "start_time": "2022-06-24T07:31:44.417Z"
   },
   {
    "duration": 5,
    "start_time": "2022-06-24T07:31:54.286Z"
   },
   {
    "duration": 2,
    "start_time": "2022-06-24T07:32:13.590Z"
   },
   {
    "duration": 119,
    "start_time": "2022-06-24T07:32:15.773Z"
   },
   {
    "duration": 3,
    "start_time": "2022-06-24T07:33:14.232Z"
   },
   {
    "duration": 124,
    "start_time": "2022-06-24T07:33:15.475Z"
   },
   {
    "duration": 3,
    "start_time": "2022-06-24T07:33:40.512Z"
   },
   {
    "duration": 120,
    "start_time": "2022-06-24T07:33:41.773Z"
   },
   {
    "duration": 3,
    "start_time": "2022-06-24T07:34:31.511Z"
   },
   {
    "duration": 128,
    "start_time": "2022-06-24T07:34:32.849Z"
   },
   {
    "duration": 3,
    "start_time": "2022-06-24T07:36:31.176Z"
   },
   {
    "duration": 120,
    "start_time": "2022-06-24T07:36:33.216Z"
   },
   {
    "duration": 4,
    "start_time": "2022-06-24T07:36:59.400Z"
   },
   {
    "duration": 123,
    "start_time": "2022-06-24T07:37:02.988Z"
   },
   {
    "duration": 3,
    "start_time": "2022-06-24T07:38:34.089Z"
   },
   {
    "duration": 121,
    "start_time": "2022-06-24T07:38:35.744Z"
   },
   {
    "duration": 2,
    "start_time": "2022-06-24T07:39:38.529Z"
   },
   {
    "duration": 109,
    "start_time": "2022-06-24T07:39:44.809Z"
   },
   {
    "duration": 3,
    "start_time": "2022-06-24T07:40:15.312Z"
   },
   {
    "duration": 136,
    "start_time": "2022-06-24T07:40:16.240Z"
   },
   {
    "duration": 3,
    "start_time": "2022-06-24T07:40:19.114Z"
   },
   {
    "duration": 126,
    "start_time": "2022-06-24T07:40:19.923Z"
   },
   {
    "duration": 7424,
    "start_time": "2022-06-24T11:17:59.164Z"
   },
   {
    "duration": 531,
    "start_time": "2022-06-24T11:18:06.590Z"
   },
   {
    "duration": 2,
    "start_time": "2022-06-24T11:18:07.123Z"
   },
   {
    "duration": 84,
    "start_time": "2022-06-24T11:18:07.127Z"
   },
   {
    "duration": 4,
    "start_time": "2022-06-24T11:18:07.212Z"
   },
   {
    "duration": 138,
    "start_time": "2022-06-24T11:18:07.217Z"
   },
   {
    "duration": 5,
    "start_time": "2022-06-24T11:18:07.357Z"
   },
   {
    "duration": 88,
    "start_time": "2022-06-24T11:18:07.364Z"
   },
   {
    "duration": 3,
    "start_time": "2022-06-24T11:18:07.454Z"
   },
   {
    "duration": 96,
    "start_time": "2022-06-24T11:18:07.459Z"
   },
   {
    "duration": 3,
    "start_time": "2022-06-24T11:18:07.556Z"
   },
   {
    "duration": 92,
    "start_time": "2022-06-24T11:18:07.561Z"
   }
  ],
  "colab": {
   "name": "dipl_sql_1206.ipynb",
   "provenance": []
  },
  "kernelspec": {
   "display_name": "Python 3 (ipykernel)",
   "language": "python",
   "name": "python3"
  },
  "language_info": {
   "codemirror_mode": {
    "name": "ipython",
    "version": 3
   },
   "file_extension": ".py",
   "mimetype": "text/x-python",
   "name": "python",
   "nbconvert_exporter": "python",
   "pygments_lexer": "ipython3",
   "version": "3.9.5"
  },
  "toc": {
   "base_numbering": 1,
   "nav_menu": {},
   "number_sections": true,
   "sideBar": true,
   "skip_h1_title": true,
   "title_cell": "Table of Contents",
   "title_sidebar": "Contents",
   "toc_cell": false,
   "toc_position": {
    "height": "calc(100% - 180px)",
    "left": "10px",
    "top": "150px",
    "width": "165px"
   },
   "toc_section_display": true,
   "toc_window_display": true
  }
 },
 "nbformat": 4,
 "nbformat_minor": 5
}
