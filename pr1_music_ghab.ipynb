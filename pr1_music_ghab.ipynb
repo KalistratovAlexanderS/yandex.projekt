{
 "cells": [
  {
   "cell_type": "markdown",
   "metadata": {
    "id": "E0vqbgi9ay0H"
   },
   "source": [
    "# Яндекс.Музыка"
   ]
  },
  {
   "cell_type": "markdown",
   "metadata": {
    "id": "VUC88oWjTJw2"
   },
   "source": [
    "Сравнение Москвы и Петербурга окружено мифами. Например:\n",
    " * Москва — мегаполис, подчинённый жёсткому ритму рабочей недели;\n",
    " * Петербург — культурная столица, со своими вкусами.\n",
    "\n",
    "На данных Яндекс.Музыки вы сравните поведение пользователей двух столиц.\n",
    "\n",
    "**Цель исследования** — проверьте три гипотезы:\n",
    "1. Активность пользователей зависит от дня недели. Причём в Москве и Петербурге это проявляется по-разному.\n",
    "2. В понедельник утром в Москве преобладают одни жанры, а в Петербурге — другие. Так же и вечером пятницы преобладают разные жанры — в зависимости от города. \n",
    "3. Москва и Петербург предпочитают разные жанры музыки. В Москве чаще слушают поп-музыку, в Петербурге — русский рэп.\n",
    "\n",
    "**Ход исследования**\n",
    "\n",
    "Данные о поведении пользователей вы получите из файла `yandex_music_project.csv`. О качестве данных ничего не известно. Поэтому перед проверкой гипотез понадобится обзор данных. \n",
    "\n",
    "Вы проверите данные на ошибки и оцените их влияние на исследование. Затем, на этапе предобработки вы поищете возможность исправить самые критичные ошибки данных.\n",
    " \n",
    "Таким образом, исследование пройдёт в три этапа:\n",
    " 1. Обзор данных.\n",
    " 2. Предобработка данных.\n",
    " 3. Проверка гипотез.\n",
    "\n"
   ]
  },
  {
   "cell_type": "markdown",
   "metadata": {
    "id": "Ml1hmfXC_Zcs"
   },
   "source": [
    "Обзор данных\n",
    "\n",
    "Составьте первое представление о данных Яндекс.Музыки.\n",
    "\n",
    "\n"
   ]
  },
  {
   "cell_type": "markdown",
   "metadata": {
    "id": "57eAOGIz_Zcs"
   },
   "source": [
    "Основной инструмент аналитика — `pandas`. Импортируйте эту библиотеку."
   ]
  },
  {
   "cell_type": "code",
   "execution_count": 1,
   "metadata": {
    "id": "AXN7PHPN_Zcs"
   },
   "outputs": [],
   "source": [
    "import pandas as pd # импорт библиотеки pandas"
   ]
  },
  {
   "cell_type": "markdown",
   "metadata": {
    "id": "SG23P8tt_Zcs"
   },
   "source": [
    "Прочитайте файл `yandex_music_project.csv` из папки `/datasets` и сохраните его в переменной `df`:"
   ]
  },
  {
   "cell_type": "code",
   "execution_count": 2,
   "metadata": {
    "id": "fFVu7vqh_Zct"
   },
   "outputs": [],
   "source": [
    "df = pd.read_csv('/datasets/yandex_music_project.csv') # чтение файла с данными и сохранение в df"
   ]
  },
  {
   "cell_type": "markdown",
   "metadata": {
    "id": "rDoOMd3uTqnZ"
   },
   "source": [
    "Выведите на экран первые десять строк таблицы:"
   ]
  },
  {
   "cell_type": "code",
   "execution_count": 3,
   "metadata": {
    "id": "oWTVX3gW_Zct"
   },
   "outputs": [
    {
     "data": {
      "text/html": [
       "<div>\n",
       "<style scoped>\n",
       "    .dataframe tbody tr th:only-of-type {\n",
       "        vertical-align: middle;\n",
       "    }\n",
       "\n",
       "    .dataframe tbody tr th {\n",
       "        vertical-align: top;\n",
       "    }\n",
       "\n",
       "    .dataframe thead th {\n",
       "        text-align: right;\n",
       "    }\n",
       "</style>\n",
       "<table border=\"1\" class=\"dataframe\">\n",
       "  <thead>\n",
       "    <tr style=\"text-align: right;\">\n",
       "      <th></th>\n",
       "      <th>userID</th>\n",
       "      <th>Track</th>\n",
       "      <th>artist</th>\n",
       "      <th>genre</th>\n",
       "      <th>City</th>\n",
       "      <th>time</th>\n",
       "      <th>Day</th>\n",
       "    </tr>\n",
       "  </thead>\n",
       "  <tbody>\n",
       "    <tr>\n",
       "      <td>0</td>\n",
       "      <td>FFB692EC</td>\n",
       "      <td>Kamigata To Boots</td>\n",
       "      <td>The Mass Missile</td>\n",
       "      <td>rock</td>\n",
       "      <td>Saint-Petersburg</td>\n",
       "      <td>20:28:33</td>\n",
       "      <td>Wednesday</td>\n",
       "    </tr>\n",
       "    <tr>\n",
       "      <td>1</td>\n",
       "      <td>55204538</td>\n",
       "      <td>Delayed Because of Accident</td>\n",
       "      <td>Andreas Rönnberg</td>\n",
       "      <td>rock</td>\n",
       "      <td>Moscow</td>\n",
       "      <td>14:07:09</td>\n",
       "      <td>Friday</td>\n",
       "    </tr>\n",
       "    <tr>\n",
       "      <td>2</td>\n",
       "      <td>20EC38</td>\n",
       "      <td>Funiculì funiculà</td>\n",
       "      <td>Mario Lanza</td>\n",
       "      <td>pop</td>\n",
       "      <td>Saint-Petersburg</td>\n",
       "      <td>20:58:07</td>\n",
       "      <td>Wednesday</td>\n",
       "    </tr>\n",
       "    <tr>\n",
       "      <td>3</td>\n",
       "      <td>A3DD03C9</td>\n",
       "      <td>Dragons in the Sunset</td>\n",
       "      <td>Fire + Ice</td>\n",
       "      <td>folk</td>\n",
       "      <td>Saint-Petersburg</td>\n",
       "      <td>08:37:09</td>\n",
       "      <td>Monday</td>\n",
       "    </tr>\n",
       "    <tr>\n",
       "      <td>4</td>\n",
       "      <td>E2DC1FAE</td>\n",
       "      <td>Soul People</td>\n",
       "      <td>Space Echo</td>\n",
       "      <td>dance</td>\n",
       "      <td>Moscow</td>\n",
       "      <td>08:34:34</td>\n",
       "      <td>Monday</td>\n",
       "    </tr>\n",
       "    <tr>\n",
       "      <td>5</td>\n",
       "      <td>842029A1</td>\n",
       "      <td>Преданная</td>\n",
       "      <td>IMPERVTOR</td>\n",
       "      <td>rusrap</td>\n",
       "      <td>Saint-Petersburg</td>\n",
       "      <td>13:09:41</td>\n",
       "      <td>Friday</td>\n",
       "    </tr>\n",
       "    <tr>\n",
       "      <td>6</td>\n",
       "      <td>4CB90AA5</td>\n",
       "      <td>True</td>\n",
       "      <td>Roman Messer</td>\n",
       "      <td>dance</td>\n",
       "      <td>Moscow</td>\n",
       "      <td>13:00:07</td>\n",
       "      <td>Wednesday</td>\n",
       "    </tr>\n",
       "    <tr>\n",
       "      <td>7</td>\n",
       "      <td>F03E1C1F</td>\n",
       "      <td>Feeling This Way</td>\n",
       "      <td>Polina Griffith</td>\n",
       "      <td>dance</td>\n",
       "      <td>Moscow</td>\n",
       "      <td>20:47:49</td>\n",
       "      <td>Wednesday</td>\n",
       "    </tr>\n",
       "    <tr>\n",
       "      <td>8</td>\n",
       "      <td>8FA1D3BE</td>\n",
       "      <td>И вновь продолжается бой</td>\n",
       "      <td>NaN</td>\n",
       "      <td>ruspop</td>\n",
       "      <td>Moscow</td>\n",
       "      <td>09:17:40</td>\n",
       "      <td>Friday</td>\n",
       "    </tr>\n",
       "    <tr>\n",
       "      <td>9</td>\n",
       "      <td>E772D5C0</td>\n",
       "      <td>Pessimist</td>\n",
       "      <td>NaN</td>\n",
       "      <td>dance</td>\n",
       "      <td>Saint-Petersburg</td>\n",
       "      <td>21:20:49</td>\n",
       "      <td>Wednesday</td>\n",
       "    </tr>\n",
       "  </tbody>\n",
       "</table>\n",
       "</div>"
      ],
      "text/plain": [
       "     userID                        Track            artist   genre  \\\n",
       "0  FFB692EC            Kamigata To Boots  The Mass Missile    rock   \n",
       "1  55204538  Delayed Because of Accident  Andreas Rönnberg    rock   \n",
       "2    20EC38            Funiculì funiculà       Mario Lanza     pop   \n",
       "3  A3DD03C9        Dragons in the Sunset        Fire + Ice    folk   \n",
       "4  E2DC1FAE                  Soul People        Space Echo   dance   \n",
       "5  842029A1                    Преданная         IMPERVTOR  rusrap   \n",
       "6  4CB90AA5                         True      Roman Messer   dance   \n",
       "7  F03E1C1F             Feeling This Way   Polina Griffith   dance   \n",
       "8  8FA1D3BE     И вновь продолжается бой               NaN  ruspop   \n",
       "9  E772D5C0                    Pessimist               NaN   dance   \n",
       "\n",
       "             City        time        Day  \n",
       "0  Saint-Petersburg  20:28:33  Wednesday  \n",
       "1            Moscow  14:07:09     Friday  \n",
       "2  Saint-Petersburg  20:58:07  Wednesday  \n",
       "3  Saint-Petersburg  08:37:09     Monday  \n",
       "4            Moscow  08:34:34     Monday  \n",
       "5  Saint-Petersburg  13:09:41     Friday  \n",
       "6            Moscow  13:00:07  Wednesday  \n",
       "7            Moscow  20:47:49  Wednesday  \n",
       "8            Moscow  09:17:40     Friday  \n",
       "9  Saint-Petersburg  21:20:49  Wednesday  "
      ]
     },
     "execution_count": 3,
     "metadata": {},
     "output_type": "execute_result"
    }
   ],
   "source": [
    "df.head(10) # получение первых 10 строк таблицы df"
   ]
  },
  {
   "cell_type": "markdown",
   "metadata": {
    "id": "EO73Kwic_Zct"
   },
   "source": [
    "Одной командой получить общую информацию о таблице:"
   ]
  },
  {
   "cell_type": "markdown",
   "metadata": {},
   "source": []
  },
  {
   "cell_type": "code",
   "execution_count": 4,
   "metadata": {
    "id": "DSf2kIb-_Zct",
    "scrolled": true
   },
   "outputs": [
    {
     "name": "stdout",
     "output_type": "stream",
     "text": [
      "<class 'pandas.core.frame.DataFrame'>\n",
      "RangeIndex: 65079 entries, 0 to 65078\n",
      "Data columns (total 7 columns):\n",
      "  userID    65079 non-null object\n",
      "Track       63848 non-null object\n",
      "artist      57876 non-null object\n",
      "genre       63881 non-null object\n",
      "  City      65079 non-null object\n",
      "time        65079 non-null object\n",
      "Day         65079 non-null object\n",
      "dtypes: object(7)\n",
      "memory usage: 3.5+ MB\n"
     ]
    }
   ],
   "source": [
    "df.info() # получение общей информации о данных в таблице df"
   ]
  },
  {
   "cell_type": "markdown",
   "metadata": {
    "id": "TaQ2Iwbr_Zct"
   },
   "source": [
    "Итак, в таблице семь столбцов. Тип данных во всех столбцах — `object`.\n",
    "\n",
    "Согласно документации к данным:\n",
    "* `userID` — идентификатор пользователя;\n",
    "* `Track` — название трека;  \n",
    "* `artist` — имя исполнителя;\n",
    "* `genre` — название жанра;\n",
    "* `City` — город пользователя;\n",
    "* `time` — время начала прослушивания;\n",
    "* `Day` — день недели.\n",
    "\n",
    "В названиях колонок видны три нарушения стиля:\n",
    "1. Строчные буквы сочетаются с прописными.\n",
    "2. Встречаются пробелы.\n",
    "3. Название некторых колонок начинается с прописной буквы # Найдите ещё одну проблему в названии колонок и опишите её в этом пункте.\n",
    "\n",
    "\n",
    "\n",
    "Количество значений в столбцах различается. Значит, в данных есть пропущенные значения.\n"
   ]
  },
  {
   "cell_type": "markdown",
   "metadata": {
    "id": "MCB6-dXG_Zct"
   },
   "source": [
    "**Выводы**\n",
    "\n",
    "В каждой строке таблицы — данные о прослушанном треке. Часть колонок описывает саму композицию: название, исполнителя и жанр. Остальные данные рассказывают о пользователе: из какого он города, когда он слушал музыку. \n",
    "\n",
    "Предварительно можно утверждать, что, данных достаточно для проверки гипотез. Но встречаются пропуски в данных, а в названиях колонок — расхождения с хорошим стилем.\n",
    "\n",
    "Чтобы двигаться дальше, нужно устранить проблемы в данных."
   ]
  },
  {
   "cell_type": "markdown",
   "metadata": {
    "id": "SjYF6Ub9_Zct"
   },
   "source": [
    "## Предобработка данных\n",
    "Исправьте стиль в заголовках столбцов, исключите пропуски. Затем проверьте данные на дубликаты."
   ]
  },
  {
   "cell_type": "markdown",
   "metadata": {
    "id": "dIaKXr29_Zct"
   },
   "source": [
    "### Стиль заголовков\n",
    "Выведите на экран названия столбцов:"
   ]
  },
  {
   "cell_type": "code",
   "execution_count": 5,
   "metadata": {
    "id": "oKOTdF_Q_Zct"
   },
   "outputs": [
    {
     "data": {
      "text/plain": [
       "Index(['  userID', 'Track', 'artist', 'genre', '  City  ', 'time', 'Day'], dtype='object')"
      ]
     },
     "execution_count": 5,
     "metadata": {},
     "output_type": "execute_result"
    }
   ],
   "source": [
    "df.columns # перечень названий столбцов таблицы df"
   ]
  },
  {
   "cell_type": "markdown",
   "metadata": {
    "id": "zj5534cv_Zct"
   },
   "source": [
    "Приведите названия в соответствие с хорошим стилем:\n",
    "* несколько слов в названии запишите в «змеином_регистре»,\n",
    "* все символы сделайте строчными,\n",
    "* устраните пробелы.\n",
    "\n",
    "Для этого переименуйте колонки так:\n",
    "* `'  userID'` → `'user_id'`;\n",
    "* `'Track'` → `'track'`;\n",
    "* `'  City  '` → `'city'`;\n",
    "* `'Day'` → `'day'`."
   ]
  },
  {
   "cell_type": "code",
   "execution_count": 6,
   "metadata": {
    "id": "ISlFqs5y_Zct"
   },
   "outputs": [],
   "source": [
    "df = df.rename(columns={'  userID':'user_id', 'Track':'track', '  City  ':'city', 'Day':'day'}) # переименование столбцов"
   ]
  },
  {
   "cell_type": "markdown",
   "metadata": {
    "id": "1dqbh00J_Zct"
   },
   "source": [
    "Проверьте результат. Для этого ещё раз выведите на экран названия столбцов:"
   ]
  },
  {
   "cell_type": "code",
   "execution_count": 7,
   "metadata": {
    "id": "d4NOAmTW_Zct"
   },
   "outputs": [
    {
     "name": "stdout",
     "output_type": "stream",
     "text": [
      "Index(['user_id', 'track', 'artist', 'genre', 'city', 'time', 'day'], dtype='object')\n"
     ]
    }
   ],
   "source": [
    "print(df.columns) # проверка результатов - перечень названий столбцов"
   ]
  },
  {
   "cell_type": "markdown",
   "metadata": {
    "id": "5ISfbcfY_Zct"
   },
   "source": [
    "### Пропуски значений\n",
    "Сначала посчитайте, сколько в таблице пропущенных значений. Для этого достаточно двух методов `pandas`:"
   ]
  },
  {
   "cell_type": "code",
   "execution_count": 8,
   "metadata": {
    "id": "RskX29qr_Zct"
   },
   "outputs": [
    {
     "name": "stdout",
     "output_type": "stream",
     "text": [
      "user_id       0\n",
      "track      1231\n",
      "artist     7203\n",
      "genre      1198\n",
      "city          0\n",
      "time          0\n",
      "day           0\n",
      "dtype: int64\n"
     ]
    }
   ],
   "source": [
    "print(df.isna().sum())   # подсчёт пропусков "
   ]
  },
  {
   "cell_type": "markdown",
   "metadata": {
    "id": "qubhgnlO_Zct"
   },
   "source": [
    "Не все пропущенные значения влияют на исследование. Так в `track` и `artist` пропуски не важны для вашей работы. Достаточно заменить их явными обозначениями.\n",
    "\n",
    "Но пропуски в `genre` могут помешать сравнению музыкальных вкусов в Москве и Санкт-Петербурге. На практике было бы правильно установить причину пропусков и восстановить данные. Такой возможности нет в учебном проекте. Придётся:\n",
    "* заполнить и эти пропуски явными обозначениями,\n",
    "* оценить, насколько они повредят расчётам. "
   ]
  },
  {
   "cell_type": "markdown",
   "metadata": {
    "id": "fSv2laPA_Zct"
   },
   "source": [
    "Замените пропущенные значения в столбцах `track`, `artist` и `genre` на строку `'unknown'`. Для этого создайте список `columns_to_replace`, переберите его элементы циклом `for` и для каждого столбца выполните замену пропущенных значений:"
   ]
  },
  {
   "cell_type": "code",
   "execution_count": 9,
   "metadata": {
    "id": "KplB5qWs_Zct"
   },
   "outputs": [],
   "source": [
    "columns_to_replace = ['track', 'artist', 'genre'] # перебор названий столбцов в цикле и замена пропущенных значений на 'unknown'\n",
    "for column in columns_to_replace:\n",
    "    df[column] = df[column].fillna('unknown')"
   ]
  },
  {
   "cell_type": "markdown",
   "metadata": {
    "id": "Ilsm-MZo_Zct"
   },
   "source": [
    "Убедитесь, что в таблице не осталось пропусков. Для этого ещё раз посчитайте пропущенные значения."
   ]
  },
  {
   "cell_type": "code",
   "execution_count": 10,
   "metadata": {
    "id": "Tq4nYRX4_Zct"
   },
   "outputs": [
    {
     "name": "stdout",
     "output_type": "stream",
     "text": [
      "user_id    0\n",
      "track      0\n",
      "artist     0\n",
      "genre      0\n",
      "city       0\n",
      "time       0\n",
      "day        0\n",
      "dtype: int64\n"
     ]
    }
   ],
   "source": [
    "print(df.isna().sum()) # подсчёт пропусков"
   ]
  },
  {
   "cell_type": "markdown",
   "metadata": {
    "id": "BWKRtBJ3_Zct"
   },
   "source": [
    "### Дубликаты\n",
    "Посчитайте явные дубликаты в таблице одной командой:"
   ]
  },
  {
   "cell_type": "code",
   "execution_count": 11,
   "metadata": {
    "id": "36eES_S0_Zct"
   },
   "outputs": [
    {
     "data": {
      "text/plain": [
       "3826"
      ]
     },
     "execution_count": 11,
     "metadata": {},
     "output_type": "execute_result"
    }
   ],
   "source": [
    "df.duplicated().sum() # подсчёт явных дубликатов"
   ]
  },
  {
   "cell_type": "markdown",
   "metadata": {
    "id": "Ot25h6XR_Zct"
   },
   "source": [
    "Вызовите специальный метод `pandas`, чтобы удалить явные дубликаты:"
   ]
  },
  {
   "cell_type": "code",
   "execution_count": 12,
   "metadata": {
    "id": "exFHq6tt_Zct"
   },
   "outputs": [],
   "source": [
    "df = df.drop_duplicates().reset_index(drop=True) # удаление явных дубликатов (с удалением старых индексов и формированием новых)"
   ]
  },
  {
   "cell_type": "markdown",
   "metadata": {
    "id": "Im2YwBEG_Zct"
   },
   "source": [
    "Ещё раз посчитайте явные дубликаты в таблице — убедитесь, что полностью от них избавились:"
   ]
  },
  {
   "cell_type": "code",
   "execution_count": 13,
   "metadata": {
    "id": "-8PuNWQ0_Zct"
   },
   "outputs": [
    {
     "data": {
      "text/plain": [
       "0"
      ]
     },
     "execution_count": 13,
     "metadata": {},
     "output_type": "execute_result"
    }
   ],
   "source": [
    "df.duplicated().sum() # проверка на отсутствие дубликатов"
   ]
  },
  {
   "cell_type": "markdown",
   "metadata": {
    "id": "QlFBsxAr_Zct"
   },
   "source": [
    "Теперь избавьтесь от неявных дубликатов в колонке `genre`. Например, название одного и того же жанра может быть записано немного по-разному. Такие ошибки тоже повлияют на результат исследования."
   ]
  },
  {
   "cell_type": "markdown",
   "metadata": {
    "id": "eSjWwsOh_Zct"
   },
   "source": [
    "Выведите на экран список уникальных названий жанров, отсортированный в алфавитном порядке. Для этого:\n",
    "* извлеките нужный столбец датафрейма, \n",
    "* примените к нему метод сортировки,\n",
    "* для отсортированного столбца вызовите метод, который вернёт уникальные значения из столбца."
   ]
  },
  {
   "cell_type": "code",
   "execution_count": 14,
   "metadata": {
    "id": "JIUcqzZN_Zct"
   },
   "outputs": [
    {
     "data": {
      "text/plain": [
       "array(['acid', 'acoustic', 'action', 'adult', 'africa', 'afrikaans',\n",
       "       'alternative', 'alternativepunk', 'ambient', 'americana',\n",
       "       'animated', 'anime', 'arabesk', 'arabic', 'arena',\n",
       "       'argentinetango', 'art', 'audiobook', 'author', 'avantgarde',\n",
       "       'axé', 'baile', 'balkan', 'beats', 'bigroom', 'black', 'bluegrass',\n",
       "       'blues', 'bollywood', 'bossa', 'brazilian', 'breakbeat', 'breaks',\n",
       "       'broadway', 'cantautori', 'cantopop', 'canzone', 'caribbean',\n",
       "       'caucasian', 'celtic', 'chamber', 'chanson', 'children', 'chill',\n",
       "       'chinese', 'choral', 'christian', 'christmas', 'classical',\n",
       "       'classicmetal', 'club', 'colombian', 'comedy', 'conjazz',\n",
       "       'contemporary', 'country', 'cuban', 'dance', 'dancehall',\n",
       "       'dancepop', 'dark', 'death', 'deep', 'deutschrock', 'deutschspr',\n",
       "       'dirty', 'disco', 'dnb', 'documentary', 'downbeat', 'downtempo',\n",
       "       'drum', 'dub', 'dubstep', 'eastern', 'easy', 'electronic',\n",
       "       'electropop', 'emo', 'entehno', 'epicmetal', 'estrada', 'ethnic',\n",
       "       'eurofolk', 'european', 'experimental', 'extrememetal', 'fado',\n",
       "       'fairytail', 'film', 'fitness', 'flamenco', 'folk', 'folklore',\n",
       "       'folkmetal', 'folkrock', 'folktronica', 'forró', 'frankreich',\n",
       "       'französisch', 'french', 'funk', 'future', 'gangsta', 'garage',\n",
       "       'german', 'ghazal', 'gitarre', 'glitch', 'gospel', 'gothic',\n",
       "       'grime', 'grunge', 'gypsy', 'handsup', \"hard'n'heavy\", 'hardcore',\n",
       "       'hardstyle', 'hardtechno', 'hip', 'hip-hop', 'hiphop',\n",
       "       'historisch', 'holiday', 'hop', 'horror', 'house', 'hymn', 'idm',\n",
       "       'independent', 'indian', 'indie', 'indipop', 'industrial',\n",
       "       'inspirational', 'instrumental', 'international', 'irish', 'jam',\n",
       "       'japanese', 'jazz', 'jewish', 'jpop', 'jungle', 'k-pop',\n",
       "       'karadeniz', 'karaoke', 'kayokyoku', 'korean', 'laiko', 'latin',\n",
       "       'latino', 'leftfield', 'local', 'lounge', 'loungeelectronic',\n",
       "       'lovers', 'malaysian', 'mandopop', 'marschmusik', 'meditative',\n",
       "       'mediterranean', 'melodic', 'metal', 'metalcore', 'mexican',\n",
       "       'middle', 'minimal', 'miscellaneous', 'modern', 'mood', 'mpb',\n",
       "       'muslim', 'native', 'neoklassik', 'neue', 'new', 'newage',\n",
       "       'newwave', 'nu', 'nujazz', 'numetal', 'oceania', 'old', 'opera',\n",
       "       'orchestral', 'other', 'piano', 'podcasts', 'pop', 'popdance',\n",
       "       'popelectronic', 'popeurodance', 'poprussian', 'post',\n",
       "       'posthardcore', 'postrock', 'power', 'progmetal', 'progressive',\n",
       "       'psychedelic', 'punjabi', 'punk', 'quebecois', 'ragga', 'ram',\n",
       "       'rancheras', 'rap', 'rave', 'reggae', 'reggaeton', 'regional',\n",
       "       'relax', 'religious', 'retro', 'rhythm', 'rnb', 'rnr', 'rock',\n",
       "       'rockabilly', 'rockalternative', 'rockindie', 'rockother',\n",
       "       'romance', 'roots', 'ruspop', 'rusrap', 'rusrock', 'russian',\n",
       "       'salsa', 'samba', 'scenic', 'schlager', 'self', 'sertanejo',\n",
       "       'shanson', 'shoegazing', 'showtunes', 'singer', 'ska', 'skarock',\n",
       "       'slow', 'smooth', 'soft', 'soul', 'soulful', 'sound', 'soundtrack',\n",
       "       'southern', 'specialty', 'speech', 'spiritual', 'sport',\n",
       "       'stonerrock', 'surf', 'swing', 'synthpop', 'synthrock',\n",
       "       'sängerportrait', 'tango', 'tanzorchester', 'taraftar', 'tatar',\n",
       "       'tech', 'techno', 'teen', 'thrash', 'top', 'traditional',\n",
       "       'tradjazz', 'trance', 'tribal', 'trip', 'triphop', 'tropical',\n",
       "       'türk', 'türkçe', 'ukrrock', 'unknown', 'urban', 'uzbek',\n",
       "       'variété', 'vi', 'videogame', 'vocal', 'western', 'world',\n",
       "       'worldbeat', 'ïîï', 'электроника'], dtype=object)"
      ]
     },
     "execution_count": 14,
     "metadata": {},
     "output_type": "execute_result"
    }
   ],
   "source": [
    "#Просмотр уникальных названий жанров\n",
    "# Сразу отсортировать\n",
    "df['genre'].sort_values().unique()"
   ]
  },
  {
   "cell_type": "markdown",
   "metadata": {
    "id": "qej-Qmuo_Zct"
   },
   "source": [
    "Просмотрите список и найдите неявные дубликаты названия `hiphop`. Это могут быть названия с ошибками или альтернативные названия того же жанра.\n",
    "\n",
    "Вы увидите следующие неявные дубликаты:\n",
    "* *hip*,\n",
    "* *hop*,\n",
    "* *hip-hop*.\n",
    "\n",
    "Чтобы очистить от них таблицу, напишите функцию `replace_wrong_genres()` с двумя параметрами: \n",
    "* `wrong_genres` — список дубликатов,\n",
    "* `correct_genre` — строка с правильным значением.\n",
    "\n",
    "Функция должна исправить колонку `genre` в таблице `df`: заменить каждое значение из списка `wrong_genres` на значение из `correct_genre`."
   ]
  },
  {
   "cell_type": "code",
   "execution_count": 15,
   "metadata": {
    "id": "ErNDkmns_Zct"
   },
   "outputs": [],
   "source": [
    "genres_list = df['genre'].unique()\n",
    "def replace_wrong_genres(wrong_genres, correct_genre): # Функция для замены неявных дубликатов\n",
    "    for wrong_genr in wrong_genres: # перебираем неправильные жанр\n",
    "        df['genre'] = df['genre'].replace(wrong_genres, correct_genre) # и для каждого неправильного жанрa вызываем метод replace()"
   ]
  },
  {
   "cell_type": "code",
   "execution_count": 16,
   "metadata": {},
   "outputs": [],
   "source": [
    " # список неправильных жанр\n",
    " # список правильных жанр\n",
    "\n",
    "replace_wrong_genres(['hip', 'hop', 'hip-hop'], 'hiphop')"
   ]
  },
  {
   "cell_type": "markdown",
   "metadata": {
    "id": "aDoBJxbA_Zct"
   },
   "source": [
    "Вызовите `replace_wrong_genres()` и передайте ей такие аргументы, чтобы она устранила неявные дубликаты: вместо `hip`, `hop` и `hip-hop` в таблице должно быть значение `hiphop`:"
   ]
  },
  {
   "cell_type": "code",
   "execution_count": 17,
   "metadata": {
    "id": "YN5i2hpmSo09"
   },
   "outputs": [
    {
     "name": "stdout",
     "output_type": "stream",
     "text": [
      "['rock' 'pop' 'folk' 'dance' 'rusrap' 'ruspop' 'world' 'electronic'\n",
      " 'unknown' 'alternative' 'children' 'rnb' 'hip' 'jazz' 'postrock' 'latin'\n",
      " 'classical' 'metal' 'reggae' 'tatar' 'blues' 'instrumental' 'rusrock'\n",
      " 'dnb' 'türk' 'post' 'country' 'psychedelic' 'conjazz' 'indie'\n",
      " 'posthardcore' 'local' 'avantgarde' 'punk' 'videogame' 'techno' 'house'\n",
      " 'christmas' 'melodic' 'caucasian' 'reggaeton' 'soundtrack' 'singer' 'ska'\n",
      " 'shanson' 'ambient' 'film' 'western' 'rap' 'beats' \"hard'n'heavy\"\n",
      " 'progmetal' 'minimal' 'contemporary' 'new' 'soul' 'holiday' 'german'\n",
      " 'tropical' 'fairytail' 'spiritual' 'urban' 'gospel' 'nujazz' 'folkmetal'\n",
      " 'trance' 'miscellaneous' 'anime' 'hardcore' 'progressive' 'chanson'\n",
      " 'numetal' 'vocal' 'estrada' 'russian' 'classicmetal' 'dubstep' 'club'\n",
      " 'deep' 'southern' 'black' 'folkrock' 'fitness' 'french' 'disco'\n",
      " 'religious' 'hiphop' 'drum' 'extrememetal' 'türkçe' 'experimental' 'easy'\n",
      " 'metalcore' 'modern' 'argentinetango' 'old' 'breaks' 'eurofolk'\n",
      " 'stonerrock' 'industrial' 'funk' 'jpop' 'middle' 'variété' 'other'\n",
      " 'adult' 'christian' 'gothic' 'international' 'muslim' 'relax' 'schlager'\n",
      " 'caribbean' 'ukrrock' 'nu' 'breakbeat' 'comedy' 'chill' 'newage'\n",
      " 'specialty' 'uzbek' 'k-pop' 'balkan' 'chinese' 'meditative' 'dub' 'power'\n",
      " 'death' 'grime' 'arabesk' 'romance' 'flamenco' 'leftfield' 'european'\n",
      " 'tech' 'newwave' 'dancehall' 'mpb' 'piano' 'top' 'bigroom' 'opera'\n",
      " 'celtic' 'tradjazz' 'acoustic' 'epicmetal' 'hip-hop' 'historisch'\n",
      " 'downbeat' 'downtempo' 'africa' 'audiobook' 'jewish' 'sängerportrait'\n",
      " 'deutschrock' 'eastern' 'action' 'future' 'electropop' 'folklore'\n",
      " 'bollywood' 'marschmusik' 'rnr' 'karaoke' 'indian' 'rancheras'\n",
      " 'электроника' 'afrikaans' 'tango' 'rhythm' 'sound' 'deutschspr' 'trip'\n",
      " 'lovers' 'choral' 'dancepop' 'podcasts' 'retro' 'smooth' 'mexican'\n",
      " 'brazilian' 'ïîï' 'mood' 'surf' 'author' 'gangsta' 'triphop'\n",
      " 'inspirational' 'idm' 'ethnic' 'bluegrass' 'broadway' 'animated'\n",
      " 'americana' 'karadeniz' 'rockabilly' 'colombian' 'self' 'hop' 'synthrock'\n",
      " 'sertanejo' 'japanese' 'canzone' 'swing' 'lounge' 'sport' 'korean'\n",
      " 'ragga' 'traditional' 'gitarre' 'frankreich' 'alternativepunk' 'emo'\n",
      " 'laiko' 'cantopop' 'glitch' 'documentary' 'rockalternative' 'thrash'\n",
      " 'hymn' 'oceania' 'rockother' 'popeurodance' 'dark' 'vi' 'grunge'\n",
      " 'hardstyle' 'samba' 'garage' 'soft' 'art' 'folktronica' 'entehno'\n",
      " 'mediterranean' 'chamber' 'cuban' 'taraftar' 'rockindie' 'gypsy'\n",
      " 'hardtechno' 'shoegazing' 'skarock' 'bossa' 'salsa' 'latino' 'worldbeat'\n",
      " 'malaysian' 'baile' 'ghazal' 'loungeelectronic' 'arabic' 'popelectronic'\n",
      " 'acid' 'kayokyoku' 'neoklassik' 'tribal' 'tanzorchester' 'native'\n",
      " 'independent' 'cantautori' 'handsup' 'poprussian' 'punjabi' 'synthpop'\n",
      " 'rave' 'französisch' 'quebecois' 'speech' 'soulful' 'teen' 'jam' 'ram'\n",
      " 'horror' 'scenic' 'orchestral' 'neue' 'roots' 'slow' 'jungle' 'indipop'\n",
      " 'axé' 'fado' 'showtunes' 'arena' 'irish' 'mandopop' 'forró' 'popdance'\n",
      " 'dirty' 'regional']\n"
     ]
    }
   ],
   "source": [
    "print(genres_list) # Устранение неявных дубликатов"
   ]
  },
  {
   "cell_type": "markdown",
   "metadata": {
    "id": "zQKF16_RG15m"
   },
   "source": [
    "Проверьте, что заменили неправильные названия:\n",
    "\n",
    "*   hip\n",
    "*   hop\n",
    "*   hip-hop\n",
    "\n",
    "Выведите отсортированный список уникальных значений столбца `genre`:"
   ]
  },
  {
   "cell_type": "code",
   "execution_count": 18,
   "metadata": {
    "id": "wvixALnFG15m"
   },
   "outputs": [
    {
     "data": {
      "text/plain": [
       "61253"
      ]
     },
     "execution_count": 18,
     "metadata": {},
     "output_type": "execute_result"
    }
   ],
   "source": [
    "#df['genre'].unique # Проверка на неявные дубликаты\n",
    "#df['genre'].count().sort_values(ascending=False)\n",
    "#spb_genres=spb_general.groupby('genre_name')['genre_name'].count().sort_values(ascending=False)\n",
    "df['genre'].sort_values().count()"
   ]
  },
  {
   "cell_type": "markdown",
   "metadata": {
    "id": "jz6a9-7HQUDd"
   },
   "source": [
    "**Выводы**\n",
    "\n",
    "Предобработка обнаружила три проблемы в данных:\n",
    "\n",
    "- нарушения в стиле заголовков,\n",
    "- пропущенные значения,\n",
    "- дубликаты — явные и неявные.\n",
    "\n",
    "Вы исправили заголовки, чтобы упростить работу с таблицей. Без дубликатов исследование станет более точным.\n",
    "\n",
    "Пропущенные значения вы заменили на `'unknown'`. Ещё предстоит увидеть, не повредят ли исследованию пропуски в колонке `genre`.\n",
    "\n",
    "Теперь можно перейти к проверке гипотез. "
   ]
  },
  {
   "cell_type": "markdown",
   "metadata": {
    "id": "WttZHXH0SqKk"
   },
   "source": [
    "## Проверка гипотез"
   ]
  },
  {
   "cell_type": "markdown",
   "metadata": {
    "id": "Im936VVi_Zcu"
   },
   "source": [
    "### Сравнение поведения пользователей двух столиц"
   ]
  },
  {
   "cell_type": "markdown",
   "metadata": {
    "id": "nwt_MuaL_Zcu"
   },
   "source": [
    "Первая гипотеза утверждает, что пользователи по-разному слушают музыку в Москве и Санкт-Петербурге. Проверьте это предположение по данным о трёх днях недели — понедельнике, среде и пятнице. Для этого:\n",
    "\n",
    "* Разделите пользователей Москвы и Санкт-Петербурга\n",
    "* Сравните, сколько треков послушала каждая группа пользователей в понедельник, среду и пятницу.\n"
   ]
  },
  {
   "cell_type": "markdown",
   "metadata": {
    "id": "8Dw_YMmT_Zcu"
   },
   "source": [
    "Для тренировки сначала выполните каждый из расчётов по отдельности. \n",
    "\n",
    "Оцените активность пользователей в каждом городе. Сгруппируйте данные по городу и посчитайте прослушивания в каждой группе.\n",
    "\n"
   ]
  },
  {
   "cell_type": "code",
   "execution_count": 19,
   "metadata": {},
   "outputs": [
    {
     "data": {
      "text/html": [
       "<div>\n",
       "<style scoped>\n",
       "    .dataframe tbody tr th:only-of-type {\n",
       "        vertical-align: middle;\n",
       "    }\n",
       "\n",
       "    .dataframe tbody tr th {\n",
       "        vertical-align: top;\n",
       "    }\n",
       "\n",
       "    .dataframe thead th {\n",
       "        text-align: right;\n",
       "    }\n",
       "</style>\n",
       "<table border=\"1\" class=\"dataframe\">\n",
       "  <thead>\n",
       "    <tr style=\"text-align: right;\">\n",
       "      <th></th>\n",
       "      <th>user_id</th>\n",
       "      <th>track</th>\n",
       "      <th>artist</th>\n",
       "      <th>genre</th>\n",
       "      <th>time</th>\n",
       "      <th>day</th>\n",
       "    </tr>\n",
       "    <tr>\n",
       "      <th>city</th>\n",
       "      <th></th>\n",
       "      <th></th>\n",
       "      <th></th>\n",
       "      <th></th>\n",
       "      <th></th>\n",
       "      <th></th>\n",
       "    </tr>\n",
       "  </thead>\n",
       "  <tbody>\n",
       "    <tr>\n",
       "      <td>Moscow</td>\n",
       "      <td>42741</td>\n",
       "      <td>42741</td>\n",
       "      <td>42741</td>\n",
       "      <td>42741</td>\n",
       "      <td>42741</td>\n",
       "      <td>42741</td>\n",
       "    </tr>\n",
       "    <tr>\n",
       "      <td>Saint-Petersburg</td>\n",
       "      <td>18512</td>\n",
       "      <td>18512</td>\n",
       "      <td>18512</td>\n",
       "      <td>18512</td>\n",
       "      <td>18512</td>\n",
       "      <td>18512</td>\n",
       "    </tr>\n",
       "  </tbody>\n",
       "</table>\n",
       "</div>"
      ],
      "text/plain": [
       "                  user_id  track  artist  genre   time    day\n",
       "city                                                         \n",
       "Moscow              42741  42741   42741  42741  42741  42741\n",
       "Saint-Petersburg    18512  18512   18512  18512  18512  18512"
      ]
     },
     "execution_count": 19,
     "metadata": {},
     "output_type": "execute_result"
    }
   ],
   "source": [
    "df.groupby('city').count() #Разделим пользователей Москвы и Санкт-Петербурга"
   ]
  },
  {
   "cell_type": "code",
   "execution_count": 20,
   "metadata": {
    "id": "0_Qs96oh_Zcu"
   },
   "outputs": [
    {
     "data": {
      "text/plain": [
       "city\n",
       "Moscow              42741\n",
       "Saint-Petersburg    18512\n",
       "Name: user_id, dtype: int64"
      ]
     },
     "execution_count": 20,
     "metadata": {},
     "output_type": "execute_result"
    }
   ],
   "source": [
    "# Подсчёт прослушиваний в каждом городе\n",
    "df.groupby('city')['user_id'].count()"
   ]
  },
  {
   "cell_type": "markdown",
   "metadata": {
    "id": "dzli3w8o_Zcu"
   },
   "source": [
    "В Москве прослушиваний больше, чем в Петербурге. Из этого не следует, что московские пользователи чаще слушают музыку. Просто самих пользователей в Москве больше.\n",
    "\n",
    "Теперь сгруппируйте данные по дню недели и подсчитайте прослушивания в понедельник, среду и пятницу. Учтите, что в данных есть информация только о прослушиваниях только за эти дни.\n"
   ]
  },
  {
   "cell_type": "code",
   "execution_count": 21,
   "metadata": {
    "id": "uZMKjiJz_Zcu"
   },
   "outputs": [
    {
     "data": {
      "text/plain": [
       "day\n",
       "Friday       21840\n",
       "Monday       21354\n",
       "Wednesday    18059\n",
       "Name: user_id, dtype: int64"
      ]
     },
     "execution_count": 21,
     "metadata": {},
     "output_type": "execute_result"
    }
   ],
   "source": [
    "# Подсчёт прослушиваний в каждый из трёх дней\n",
    "df.groupby('day')['user_id'].count()"
   ]
  },
  {
   "cell_type": "markdown",
   "metadata": {
    "id": "POzs8bGa_Zcu"
   },
   "source": [
    "В среднем пользователи из двух городов менее активны по средам. Но картина может измениться, если рассмотреть каждый город в отдельности.\n",
    "Вы видели, как работает группировка по городу и по дням недели. Теперь напишите функцию, которая объединит два эти расчёта.\n",
    "\n",
    "Создайте функцию `number_tracks()`, которая посчитает прослушивания для заданного дня и города. Ей понадобятся два параметра:\n",
    "* день недели,\n",
    "* название города.\n",
    "\n",
    "В функции сохраните в переменную строки исходной таблицы, у которых значение:\n",
    "  * в колонке `day` равно параметру `day`,\n",
    "  * в колонке `city` равно параметру `city`.\n",
    "\n",
    "Для этого примените последовательную фильтрацию с логической индексацией.\n",
    "\n",
    "Затем посчитайте значения в столбце `user_id` получившейся таблицы. Результат сохраните в новую переменную. Верните эту переменную из функции."
   ]
  },
  {
   "cell_type": "code",
   "execution_count": 22,
   "metadata": {
    "id": "Nz3GdQB1_Zcu"
   },
   "outputs": [],
   "source": [
    "# <создание функции number_tracks()>\n",
    "# Объявляется функция с двумя параметрами: day, city.\n",
    "# В переменной track_list сохраняются те строки таблицы df, для которых \n",
    "# значение в столбце 'day' равно параметру day и одновременно значение\n",
    "# в столбце 'city' равно параметру city (используйте последовательную фильтрацию\n",
    "# с помощью логической индексации).\n",
    "# В переменной track_list_count сохраняется число значений столбца 'user_id',\n",
    "# рассчитанное методом count() для таблицы track_list.\n",
    "# Функция возвращает число - значение track_list_count.\n",
    "\n",
    "# Функция для подсчёта прослушиваний для конкретного города и дня.\n",
    "# С помощью последовательной фильтрации с логической индексацией она \n",
    "# сначала получит из исходной таблицы строки с нужным днём,\n",
    "# затем из результата отфильтрует строки с нужным городом,\n",
    "# методом count() посчитает количество значений в колонке user_id. \n",
    "# Это количество функция вернёт в качестве результата"
   ]
  },
  {
   "cell_type": "code",
   "execution_count": 23,
   "metadata": {},
   "outputs": [],
   "source": [
    "def number_tracks(day, city):\n",
    "    track_list=df[(df['day']==day) & (df['city']==city)]\n",
    "    track_list_count = track_list['user_id'].count()\n",
    "    return track_list_count"
   ]
  },
  {
   "cell_type": "markdown",
   "metadata": {
    "id": "ytf7xFrFJQ2r"
   },
   "source": [
    "Вызовите `number_tracks()` шесть раз, меняя значение параметров — так, чтобы получить данные для каждого города в каждый из трёх дней."
   ]
  },
  {
   "cell_type": "code",
   "execution_count": 24,
   "metadata": {
    "id": "rJcRATNQ_Zcu"
   },
   "outputs": [
    {
     "data": {
      "text/plain": [
       "15740"
      ]
     },
     "execution_count": 24,
     "metadata": {},
     "output_type": "execute_result"
    }
   ],
   "source": [
    "number_tracks('Monday', 'Moscow')  # количество прослушиваний в Москве по понедельникам"
   ]
  },
  {
   "cell_type": "code",
   "execution_count": 25,
   "metadata": {
    "id": "hq_ncZ5T_Zcu"
   },
   "outputs": [
    {
     "data": {
      "text/plain": [
       "5614"
      ]
     },
     "execution_count": 25,
     "metadata": {},
     "output_type": "execute_result"
    }
   ],
   "source": [
    "number_tracks('Monday', 'Saint-Petersburg') # количество прослушиваний в Санкт-Петербурге по понедельникам"
   ]
  },
  {
   "cell_type": "code",
   "execution_count": 26,
   "metadata": {
    "id": "_NTy2VPU_Zcu"
   },
   "outputs": [
    {
     "data": {
      "text/plain": [
       "11056"
      ]
     },
     "execution_count": 26,
     "metadata": {},
     "output_type": "execute_result"
    }
   ],
   "source": [
    "number_tracks('Wednesday', 'Moscow') # количество прослушиваний в Москве по средам"
   ]
  },
  {
   "cell_type": "code",
   "execution_count": 27,
   "metadata": {
    "id": "j2y3TAwo_Zcu"
   },
   "outputs": [
    {
     "data": {
      "text/plain": [
       "7003"
      ]
     },
     "execution_count": 27,
     "metadata": {},
     "output_type": "execute_result"
    }
   ],
   "source": [
    "number_tracks('Wednesday', 'Saint-Petersburg') # количество прослушиваний в Санкт-Петербурге по средам"
   ]
  },
  {
   "cell_type": "code",
   "execution_count": 28,
   "metadata": {
    "id": "vYDw5u_K_Zcu"
   },
   "outputs": [
    {
     "data": {
      "text/plain": [
       "15945"
      ]
     },
     "execution_count": 28,
     "metadata": {},
     "output_type": "execute_result"
    }
   ],
   "source": [
    "number_tracks('Friday', 'Moscow') # количество прослушиваний в Москве по пятницам"
   ]
  },
  {
   "cell_type": "code",
   "execution_count": 29,
   "metadata": {
    "id": "8_yzFtW3_Zcu"
   },
   "outputs": [
    {
     "data": {
      "text/plain": [
       "5895"
      ]
     },
     "execution_count": 29,
     "metadata": {},
     "output_type": "execute_result"
    }
   ],
   "source": [
    "number_tracks('Friday', 'Saint-Petersburg') # количество прослушиваний в Санкт-Петербурге по пятницам"
   ]
  },
  {
   "cell_type": "markdown",
   "metadata": {
    "id": "7QXffbO-_Zcu"
   },
   "source": [
    "Создайте c помощью конструктора `pd.DataFrame` таблицу, где\n",
    "* названия колонок — `['city', 'monday', 'wednesday', 'friday']`;\n",
    "* данные — результаты, которые вы получили с помощью `number_tracks`."
   ]
  },
  {
   "cell_type": "code",
   "execution_count": 30,
   "metadata": {
    "id": "APAcLpOr_Zcu"
   },
   "outputs": [
    {
     "data": {
      "text/html": [
       "<div>\n",
       "<style scoped>\n",
       "    .dataframe tbody tr th:only-of-type {\n",
       "        vertical-align: middle;\n",
       "    }\n",
       "\n",
       "    .dataframe tbody tr th {\n",
       "        vertical-align: top;\n",
       "    }\n",
       "\n",
       "    .dataframe thead th {\n",
       "        text-align: right;\n",
       "    }\n",
       "</style>\n",
       "<table border=\"1\" class=\"dataframe\">\n",
       "  <thead>\n",
       "    <tr style=\"text-align: right;\">\n",
       "      <th></th>\n",
       "      <th>city</th>\n",
       "      <th>monday</th>\n",
       "      <th>wednesday</th>\n",
       "      <th>friday</th>\n",
       "    </tr>\n",
       "  </thead>\n",
       "  <tbody>\n",
       "    <tr>\n",
       "      <td>0</td>\n",
       "      <td>Moscow</td>\n",
       "      <td>15740</td>\n",
       "      <td>11056</td>\n",
       "      <td>15945</td>\n",
       "    </tr>\n",
       "    <tr>\n",
       "      <td>1</td>\n",
       "      <td>Saint-Petersburg</td>\n",
       "      <td>5614</td>\n",
       "      <td>7003</td>\n",
       "      <td>5895</td>\n",
       "    </tr>\n",
       "  </tbody>\n",
       "</table>\n",
       "</div>"
      ],
      "text/plain": [
       "               city  monday  wednesday  friday\n",
       "0            Moscow   15740      11056   15945\n",
       "1  Saint-Petersburg    5614       7003    5895"
      ]
     },
     "execution_count": 30,
     "metadata": {},
     "output_type": "execute_result"
    }
   ],
   "source": [
    "#data = ['number_tracks('Monday', 'Moscow')','number_tracks('Monday', 'Saint-Petersburg')']\n",
    "data = [['Moscow', number_tracks('Monday', 'Moscow'), number_tracks('Wednesday', 'Moscow'), number_tracks('Friday', 'Moscow')],\n",
    "        ['Saint-Petersburg', number_tracks('Monday', 'Saint-Petersburg'), number_tracks('Wednesday', 'Saint-Petersburg'), number_tracks('Friday', 'Saint-Petersburg')]]\n",
    "columns = ['city', 'monday', 'wednesday', 'friday']\n",
    "pd.DataFrame(data = data, columns = columns) #city, monday, wednesday, friday) # Таблица с результатами"
   ]
  },
  {
   "cell_type": "markdown",
   "metadata": {
    "id": "-EgPIHYu_Zcu"
   },
   "source": [
    "**Выводы**\n",
    "\n",
    "Данные показывают разницу поведения пользователей:\n",
    "\n",
    "- В Москве пик прослушиваний приходится на понедельник и пятницу, а в среду заметен спад.\n",
    "- В Петербурге, наоборот, больше слушают музыку по средам. Активность в понедельник и пятницу здесь почти в равной мере уступает среде.\n",
    "\n",
    "Значит, данные говорят в пользу первой гипотезы."
   ]
  },
  {
   "cell_type": "markdown",
   "metadata": {
    "id": "atZAxtq4_Zcu"
   },
   "source": [
    "### Музыка в начале и в конце недели"
   ]
  },
  {
   "cell_type": "markdown",
   "metadata": {
    "id": "eXrQqXFH_Zcu"
   },
   "source": [
    "Согласно второй гипотезе, утром в понедельник в Москве преобладают одни жанры, а в Петербурге — другие. Так же и вечером пятницы преобладают разные жанры — в зависимости от города."
   ]
  },
  {
   "cell_type": "markdown",
   "metadata": {
    "id": "S8UcW6Hw_Zcu"
   },
   "source": [
    "Сохраните таблицы с данными в две переменные:\n",
    "* по Москве — в `moscow_general`;\n",
    "* по Санкт-Петербургу — в `spb_general`."
   ]
  },
  {
   "cell_type": "code",
   "execution_count": 31,
   "metadata": {
    "id": "qeaFfM_P_Zcu"
   },
   "outputs": [
    {
     "data": {
      "text/html": [
       "<div>\n",
       "<style scoped>\n",
       "    .dataframe tbody tr th:only-of-type {\n",
       "        vertical-align: middle;\n",
       "    }\n",
       "\n",
       "    .dataframe tbody tr th {\n",
       "        vertical-align: top;\n",
       "    }\n",
       "\n",
       "    .dataframe thead th {\n",
       "        text-align: right;\n",
       "    }\n",
       "</style>\n",
       "<table border=\"1\" class=\"dataframe\">\n",
       "  <thead>\n",
       "    <tr style=\"text-align: right;\">\n",
       "      <th></th>\n",
       "      <th>user_id</th>\n",
       "      <th>track</th>\n",
       "      <th>artist</th>\n",
       "      <th>genre</th>\n",
       "      <th>city</th>\n",
       "      <th>time</th>\n",
       "      <th>day</th>\n",
       "    </tr>\n",
       "  </thead>\n",
       "  <tbody>\n",
       "    <tr>\n",
       "      <td>1</td>\n",
       "      <td>55204538</td>\n",
       "      <td>Delayed Because of Accident</td>\n",
       "      <td>Andreas Rönnberg</td>\n",
       "      <td>rock</td>\n",
       "      <td>Moscow</td>\n",
       "      <td>14:07:09</td>\n",
       "      <td>Friday</td>\n",
       "    </tr>\n",
       "    <tr>\n",
       "      <td>4</td>\n",
       "      <td>E2DC1FAE</td>\n",
       "      <td>Soul People</td>\n",
       "      <td>Space Echo</td>\n",
       "      <td>dance</td>\n",
       "      <td>Moscow</td>\n",
       "      <td>08:34:34</td>\n",
       "      <td>Monday</td>\n",
       "    </tr>\n",
       "    <tr>\n",
       "      <td>6</td>\n",
       "      <td>4CB90AA5</td>\n",
       "      <td>True</td>\n",
       "      <td>Roman Messer</td>\n",
       "      <td>dance</td>\n",
       "      <td>Moscow</td>\n",
       "      <td>13:00:07</td>\n",
       "      <td>Wednesday</td>\n",
       "    </tr>\n",
       "    <tr>\n",
       "      <td>7</td>\n",
       "      <td>F03E1C1F</td>\n",
       "      <td>Feeling This Way</td>\n",
       "      <td>Polina Griffith</td>\n",
       "      <td>dance</td>\n",
       "      <td>Moscow</td>\n",
       "      <td>20:47:49</td>\n",
       "      <td>Wednesday</td>\n",
       "    </tr>\n",
       "    <tr>\n",
       "      <td>8</td>\n",
       "      <td>8FA1D3BE</td>\n",
       "      <td>И вновь продолжается бой</td>\n",
       "      <td>unknown</td>\n",
       "      <td>ruspop</td>\n",
       "      <td>Moscow</td>\n",
       "      <td>09:17:40</td>\n",
       "      <td>Friday</td>\n",
       "    </tr>\n",
       "  </tbody>\n",
       "</table>\n",
       "</div>"
      ],
      "text/plain": [
       "    user_id                        track            artist   genre    city  \\\n",
       "1  55204538  Delayed Because of Accident  Andreas Rönnberg    rock  Moscow   \n",
       "4  E2DC1FAE                  Soul People        Space Echo   dance  Moscow   \n",
       "6  4CB90AA5                         True      Roman Messer   dance  Moscow   \n",
       "7  F03E1C1F             Feeling This Way   Polina Griffith   dance  Moscow   \n",
       "8  8FA1D3BE     И вновь продолжается бой           unknown  ruspop  Moscow   \n",
       "\n",
       "       time        day  \n",
       "1  14:07:09     Friday  \n",
       "4  08:34:34     Monday  \n",
       "6  13:00:07  Wednesday  \n",
       "7  20:47:49  Wednesday  \n",
       "8  09:17:40     Friday  "
      ]
     },
     "execution_count": 31,
     "metadata": {},
     "output_type": "execute_result"
    }
   ],
   "source": [
    "# получение таблицы moscow_general из тех строк таблицы df, \n",
    "# для которых значение в столбце 'city' равно 'Moscow'\n",
    "\n",
    "moscow_general = df[df['city'] == 'Moscow']\n",
    "moscow_general.head()"
   ]
  },
  {
   "cell_type": "code",
   "execution_count": 32,
   "metadata": {
    "id": "ORaVRKto_Zcu"
   },
   "outputs": [
    {
     "data": {
      "text/html": [
       "<div>\n",
       "<style scoped>\n",
       "    .dataframe tbody tr th:only-of-type {\n",
       "        vertical-align: middle;\n",
       "    }\n",
       "\n",
       "    .dataframe tbody tr th {\n",
       "        vertical-align: top;\n",
       "    }\n",
       "\n",
       "    .dataframe thead th {\n",
       "        text-align: right;\n",
       "    }\n",
       "</style>\n",
       "<table border=\"1\" class=\"dataframe\">\n",
       "  <thead>\n",
       "    <tr style=\"text-align: right;\">\n",
       "      <th></th>\n",
       "      <th>user_id</th>\n",
       "      <th>track</th>\n",
       "      <th>artist</th>\n",
       "      <th>genre</th>\n",
       "      <th>city</th>\n",
       "      <th>time</th>\n",
       "      <th>day</th>\n",
       "    </tr>\n",
       "  </thead>\n",
       "  <tbody>\n",
       "    <tr>\n",
       "      <td>0</td>\n",
       "      <td>FFB692EC</td>\n",
       "      <td>Kamigata To Boots</td>\n",
       "      <td>The Mass Missile</td>\n",
       "      <td>rock</td>\n",
       "      <td>Saint-Petersburg</td>\n",
       "      <td>20:28:33</td>\n",
       "      <td>Wednesday</td>\n",
       "    </tr>\n",
       "    <tr>\n",
       "      <td>2</td>\n",
       "      <td>20EC38</td>\n",
       "      <td>Funiculì funiculà</td>\n",
       "      <td>Mario Lanza</td>\n",
       "      <td>pop</td>\n",
       "      <td>Saint-Petersburg</td>\n",
       "      <td>20:58:07</td>\n",
       "      <td>Wednesday</td>\n",
       "    </tr>\n",
       "    <tr>\n",
       "      <td>3</td>\n",
       "      <td>A3DD03C9</td>\n",
       "      <td>Dragons in the Sunset</td>\n",
       "      <td>Fire + Ice</td>\n",
       "      <td>folk</td>\n",
       "      <td>Saint-Petersburg</td>\n",
       "      <td>08:37:09</td>\n",
       "      <td>Monday</td>\n",
       "    </tr>\n",
       "    <tr>\n",
       "      <td>5</td>\n",
       "      <td>842029A1</td>\n",
       "      <td>Преданная</td>\n",
       "      <td>IMPERVTOR</td>\n",
       "      <td>rusrap</td>\n",
       "      <td>Saint-Petersburg</td>\n",
       "      <td>13:09:41</td>\n",
       "      <td>Friday</td>\n",
       "    </tr>\n",
       "    <tr>\n",
       "      <td>9</td>\n",
       "      <td>E772D5C0</td>\n",
       "      <td>Pessimist</td>\n",
       "      <td>unknown</td>\n",
       "      <td>dance</td>\n",
       "      <td>Saint-Petersburg</td>\n",
       "      <td>21:20:49</td>\n",
       "      <td>Wednesday</td>\n",
       "    </tr>\n",
       "  </tbody>\n",
       "</table>\n",
       "</div>"
      ],
      "text/plain": [
       "    user_id                  track            artist   genre  \\\n",
       "0  FFB692EC      Kamigata To Boots  The Mass Missile    rock   \n",
       "2    20EC38      Funiculì funiculà       Mario Lanza     pop   \n",
       "3  A3DD03C9  Dragons in the Sunset        Fire + Ice    folk   \n",
       "5  842029A1              Преданная         IMPERVTOR  rusrap   \n",
       "9  E772D5C0              Pessimist           unknown   dance   \n",
       "\n",
       "               city      time        day  \n",
       "0  Saint-Petersburg  20:28:33  Wednesday  \n",
       "2  Saint-Petersburg  20:58:07  Wednesday  \n",
       "3  Saint-Petersburg  08:37:09     Monday  \n",
       "5  Saint-Petersburg  13:09:41     Friday  \n",
       "9  Saint-Petersburg  21:20:49  Wednesday  "
      ]
     },
     "execution_count": 32,
     "metadata": {},
     "output_type": "execute_result"
    }
   ],
   "source": [
    "# получение таблицы spb_general из тех строк таблицы df,\n",
    "# для которых значение в столбце 'city' равно 'Saint-Petersburg'\n",
    "\n",
    "spb_general = df[df['city'] == 'Saint-Petersburg']\n",
    "spb_general.head()"
   ]
  },
  {
   "cell_type": "markdown",
   "metadata": {
    "id": "MEJV-CX2_Zcu"
   },
   "source": [
    "Создайте функцию `genre_weekday()` с четырьмя параметрами:\n",
    "* таблица (датафрейм) с данными,\n",
    "* день недели,\n",
    "* начальная временная метка в формате 'hh:mm', \n",
    "* последняя временная метка в формате 'hh:mm'.\n",
    "\n",
    "Функция должна вернуть информацию о топ-10 жанров тех треков, которые прослушивали в указанный день, в промежутке между двумя отметками времени."
   ]
  },
  {
   "cell_type": "code",
   "execution_count": 33,
   "metadata": {
    "id": "laJT9BYl_Zcu"
   },
   "outputs": [],
   "source": [
    "# Объявление функции genre_weekday() с параметрами table, day, time1, time2,\n",
    "# которая возвращает информацию о самых популярных жанрах в указанный день в\n",
    "# заданное время:\n",
    "# 1) в переменную genre_df сохраняются те строки переданного датафрейма table, для\n",
    "#    которых одновременно:\n",
    "#    - значение в столбце day равно значению аргумента day\n",
    "#    - значение в столбце time больше значения аргумента time1\n",
    "#    - значение в столбце time меньше значения аргумента time2\n",
    "#    Используйте последовательную фильтрацию с помощью логической индексации.\n",
    "# 2) сгруппировать датафрейм genre_df по столбцу genre, взять один из его\n",
    "#    столбцов и посчитать методом count() количество записей для каждого из\n",
    "#    присутствующих жанров, получившийся Series записать в переменную\n",
    "#    genre_df_count\n",
    "# 3) отсортировать genre_df_count по убыванию встречаемости и сохранить\n",
    "#    в переменную genre_df_sorted\n",
    "# 4) вернуть Series из 10 первых значений genre_df_sorted, это будут топ-10\n",
    "#    популярных жанров (в указанный день, в заданное время)\n",
    "\n",
    "#def genre_weekday(table, day, time1, time2):\n",
    "#    genre_df = table[table['day'] == day] \n",
    "#    genre_df = genre_df[genre_df['time'] > time1] \n",
    "#    genre_df = genre_df[genre_df['time'] < time2] \n",
    "#    genre_df_count = genre_df.groupby('genre')['genre'].count()\n",
    "#    genre_df_sorted = genre_df_count.sort_values(ascending=False)\n",
    "#    return genre_df_sorted.head(10)\n",
    "def genre_weekday(table, day, time1, time2):\n",
    "    genre_df = table[(table['day'] == day) & (table['time'] > time1) & (table['time'] < time2)]\n",
    "    genre_df_count = genre_df.groupby('genre')['genre'].count()\n",
    "    genre_df_sorted = genre_df_count.sort_values(ascending=False)\n",
    "    return genre_df_sorted.head(10)"
   ]
  },
  {
   "cell_type": "code",
   "execution_count": 34,
   "metadata": {},
   "outputs": [
    {
     "ename": "NameError",
     "evalue": "name 'table' is not defined",
     "output_type": "error",
     "traceback": [
      "\u001b[0;31m---------------------------------------------------------------------------\u001b[0m",
      "\u001b[0;31mNameError\u001b[0m                                 Traceback (most recent call last)",
      "\u001b[0;32m<ipython-input-34-404aaffea54a>\u001b[0m in \u001b[0;36m<module>\u001b[0;34m\u001b[0m\n\u001b[0;32m----> 1\u001b[0;31m \u001b[0mgenre_df\u001b[0m \u001b[0;34m=\u001b[0m \u001b[0mtable\u001b[0m\u001b[0;34m[\u001b[0m\u001b[0;34m(\u001b[0m\u001b[0mtable\u001b[0m\u001b[0;34m[\u001b[0m\u001b[0;34m'day'\u001b[0m\u001b[0;34m]\u001b[0m \u001b[0;34m==\u001b[0m \u001b[0mday\u001b[0m\u001b[0;34m)\u001b[0m \u001b[0;34m&\u001b[0m \u001b[0;34m(\u001b[0m\u001b[0mtable\u001b[0m\u001b[0;34m[\u001b[0m\u001b[0;34m'time'\u001b[0m\u001b[0;34m]\u001b[0m \u001b[0;34m>\u001b[0m \u001b[0mtime1\u001b[0m\u001b[0;34m)\u001b[0m \u001b[0;34m&\u001b[0m \u001b[0;34m(\u001b[0m\u001b[0mtable\u001b[0m\u001b[0;34m[\u001b[0m\u001b[0;34m'time'\u001b[0m\u001b[0;34m]\u001b[0m \u001b[0;34m<\u001b[0m \u001b[0mtime2\u001b[0m\u001b[0;34m)\u001b[0m\u001b[0;34m]\u001b[0m\u001b[0;34m\u001b[0m\u001b[0;34m\u001b[0m\u001b[0m\n\u001b[0m",
      "\u001b[0;31mNameError\u001b[0m: name 'table' is not defined"
     ]
    }
   ],
   "source": [
    "genre_df = table[(table['day'] == day) & (table['time'] > time1) & (table['time'] < time2)]"
   ]
  },
  {
   "cell_type": "code",
   "execution_count": null,
   "metadata": {},
   "outputs": [],
   "source": [
    "genre_df = table.query('@day==day and @time1 < time < @time2')"
   ]
  },
  {
   "cell_type": "markdown",
   "metadata": {
    "id": "la2s2_PF_Zcu"
   },
   "source": [
    "Cравните результаты функции `genre_weekday()` для Москвы и Санкт-Петербурга в понедельник утром (с 7:00 до 11:00) и в пятницу вечером (с 17:00 до 23:00):"
   ]
  },
  {
   "cell_type": "code",
   "execution_count": null,
   "metadata": {
    "id": "yz7itPUQ_Zcu"
   },
   "outputs": [],
   "source": [
    "# вызов функции для утра понедельника в Москве (вместо df — таблица moscow_general)\n",
    "# объекты, хранящие время, являются строками и сравниваются как строки\n",
    "# пример вызова: genre_weekday(moscow_general, 'Monday', '07:00', '11:00')\n",
    "\n",
    "genre_weekday(moscow_general, 'Monday', '07:00', '11:00')"
   ]
  },
  {
   "cell_type": "code",
   "execution_count": null,
   "metadata": {
    "id": "kwUcHPdy_Zcu"
   },
   "outputs": [],
   "source": [
    " # вызов функции для утра понедельника в Петербурге (вместо df — таблица spb_general)\n",
    "genre_weekday(spb_general, 'Monday', '07:00', '11:00')"
   ]
  },
  {
   "cell_type": "code",
   "execution_count": null,
   "metadata": {
    "id": "EzXVRE1o_Zcu"
   },
   "outputs": [],
   "source": [
    "# вызов функции для вечера пятницы в Москве\n",
    "genre_weekday(moscow_general, 'Friday', '17:00', '23:00')"
   ]
  },
  {
   "cell_type": "code",
   "execution_count": null,
   "metadata": {
    "id": "JZaEKu5v_Zcu"
   },
   "outputs": [],
   "source": [
    "# вызов функции для вечера пятницы в Петербурге\n",
    "genre_weekday(spb_general, 'Friday', '17:00', '23:00')"
   ]
  },
  {
   "cell_type": "markdown",
   "metadata": {
    "id": "wrCe4MNX_Zcu"
   },
   "source": [
    "**Выводы**\n",
    "\n",
    "Если сравнить топ-10 жанров в понедельник утром, можно сделать такие выводы:\n",
    "\n",
    "1. В Москве и Петербурге слушают похожую музыку. Единственное отличие — в московский рейтинг вошёл жанр “world”, а в петербургский — джаз и классика.\n",
    "\n",
    "2. В Москве пропущенных значений оказалось так много, что значение `'unknown'` заняло десятое место среди самых популярных жанров. Значит, пропущенные значения занимают существенную долю в данных и угрожают достоверности исследования.\n",
    "\n",
    "Вечер пятницы не меняет эту картину. Некоторые жанры поднимаются немного выше, другие спускаются, но в целом топ-10 остаётся тем же самым.\n",
    "\n",
    "Таким образом, вторая гипотеза подтвердилась лишь частично:\n",
    "* Пользователи слушают похожую музыку в начале недели и в конце.\n",
    "* Разница между Москвой и Петербургом не слишком выражена. В Москве чаще слушают русскую популярную музыку, в Петербурге — джаз.\n",
    "\n",
    "Однако пропуски в данных ставят под сомнение этот результат. В Москве их так много, что рейтинг топ-10 мог бы выглядеть иначе, если бы не утерянные  данные о жанрах."
   ]
  },
  {
   "cell_type": "markdown",
   "metadata": {
    "id": "JolODAqr_Zcu"
   },
   "source": [
    "### Жанровые предпочтения в Москве и Петербурге\n",
    "\n",
    "Гипотеза: Петербург — столица рэпа, музыку этого жанра там слушают чаще, чем в Москве.  А Москва — город контрастов, в котором, тем не менее, преобладает поп-музыка."
   ]
  },
  {
   "cell_type": "markdown",
   "metadata": {
    "id": "DlegSvaT_Zcu"
   },
   "source": [
    "Сгруппируйте таблицу `moscow_general` по жанру и посчитайте прослушивания треков каждого жанра методом `count()`. Затем отсортируйте результат в порядке убывания и сохраните его в таблице `moscow_genres`."
   ]
  },
  {
   "cell_type": "code",
   "execution_count": null,
   "metadata": {
    "id": "r19lIPke_Zcu"
   },
   "outputs": [],
   "source": [
    "# одной строкой: группировка таблицы moscow_general по столбцу 'genre', \n",
    "# подсчёт числа значений 'genre' в этой группировке методом count(), \n",
    "# сортировка получившегося Series в порядке убывания и сохранение в moscow_genres\n",
    "\n",
    "moscow_genres = moscow_general.groupby('genre')['genre'].count().sort_values(ascending = False)"
   ]
  },
  {
   "cell_type": "markdown",
   "metadata": {
    "id": "6kMuomxTiIr8"
   },
   "source": [
    "Выведите на экран первые десять строк `moscow_genres`:"
   ]
  },
  {
   "cell_type": "code",
   "execution_count": null,
   "metadata": {
    "id": "WhCSooF8_Zcv"
   },
   "outputs": [],
   "source": [
    "# просмотр первых 10 строк moscow_genres\n",
    "moscow_genres.head(10)"
   ]
  },
  {
   "cell_type": "markdown",
   "metadata": {
    "id": "cnPG2vnN_Zcv"
   },
   "source": [
    "Теперь повторите то же и для Петербурга.\n",
    "\n",
    "Сгруппируйте таблицу `spb_general` по жанру. Посчитайте прослушивания треков каждого жанра. Результат отсортируйте в порядке убывания и сохраните в таблице `spb_genres`:\n"
   ]
  },
  {
   "cell_type": "code",
   "execution_count": null,
   "metadata": {
    "id": "gluLIpE7_Zcv"
   },
   "outputs": [],
   "source": [
    "# одной строкой: группировка таблицы spb_general по столбцу 'genre', \n",
    "# подсчёт числа значений 'genre' в этой группировке методом count(), \n",
    "# сортировка получившегося Series в порядке убывания и сохранение в spb_genres\n",
    "\n",
    "spb_genres = spb_general.groupby('genre')['genre'].count().sort_values(ascending = False)"
   ]
  },
  {
   "cell_type": "markdown",
   "metadata": {
    "id": "5Doha_ODgyQ8"
   },
   "source": [
    "Выведите на экран первые десять строк `spb_genres`:"
   ]
  },
  {
   "cell_type": "code",
   "execution_count": null,
   "metadata": {
    "id": "uaGJHjVU_Zcv"
   },
   "outputs": [],
   "source": [
    "spb_genres.head(10) # просмотр первых 10 строк spb_genres"
   ]
  },
  {
   "cell_type": "markdown",
   "metadata": {
    "id": "RY51YJYu_Zcv"
   },
   "source": [
    "**Выводы**"
   ]
  },
  {
   "cell_type": "markdown",
   "metadata": {
    "id": "nVhnJEm__Zcv"
   },
   "source": [
    "Гипотеза частично подтвердилась:\n",
    "* Поп-музыка — самый популярный жанр в Москве, как и предполагала гипотеза. Более того, в топ-10 жанров встречается близкий жанр — русская популярная музыка.\n",
    "* Вопреки ожиданиям, рэп одинаково популярен в Москве и Петербурге. \n"
   ]
  },
  {
   "cell_type": "markdown",
   "metadata": {
    "id": "ykKQ0N65_Zcv"
   },
   "source": [
    "## Итоги исследования"
   ]
  },
  {
   "attachments": {
    "image-2.png": {
     "image/png": "[encoded data removed]"
    },
    "image-3.png": {
     "image/png": "[encoded data removed]"
    },
    "image.png": {
     "image/png": "[encoded data removed]"
    }
   },
   "cell_type": "markdown",
   "metadata": {
    "id": "tjUwbHb3_Zcv"
   },
   "source": [
    "Мы проверили три гипотезы и установили:\n",
    "\n",
    "1. День недели по-разному влияет на активность пользователей в Москве и Петербурге. \n",
    "\n",
    "\n",
    "Первая гипотеза полностью подтвердилась.\n",
    "О чем говорит таблица \n",
    "![image.png](attachment:image.png)\n",
    "2. Музыкальные предпочтения не сильно меняются в течение недели — будь то Москва или Петербург. Небольшие различия заметны в начале недели, по понедельникам:\n",
    "* в Москве слушают музыку жанра “world”,\n",
    "* в Петербурге — джаз и классику.\n",
    "\n",
    "![image-2.png](attachment:image-2.png)\n",
    "\n",
    "![image-3.png](attachment:image-3.png)\n",
    "\n",
    "Таким образом, вторая гипотеза подтвердилась лишь отчасти. Этот результат мог оказаться иным, если бы не пропуски в данных.\n",
    "\n",
    "3. Во вкусах пользователей Москвы и Петербурга больше общего чем различий. Вопреки ожиданиям, предпочтения жанров в Петербурге напоминают московские.\n",
    "\n",
    "Третья гипотеза не подтвердилась. Если различия в предпочтениях и существуют, на основной массе пользователей они незаметны.\n",
    "\n",
    "**На практике исследования содержат проверки статистических гипотез.**\n",
    "Из данных одного сервиса не всегда можно сделать вывод о всех жителях города.\n",
    "Проверки статистических гипотез покажут, насколько они достоверны, исходя из имеющихся данных. \n",
    "С методами проверок гипотез вы ещё познакомитесь в следующих темах."
   ]
  }
 ],
 "metadata": {
  "ExecuteTimeLog": [
   {
    "duration": 705,
    "start_time": "2021-12-18T07:57:07.132Z"
   },
   {
    "duration": 3,
    "start_time": "2021-12-18T08:01:13.959Z"
   },
   {
    "duration": 703,
    "start_time": "2021-12-18T08:26:32.728Z"
   },
   {
    "duration": 2326,
    "start_time": "2021-12-18T11:00:18.300Z"
   },
   {
    "duration": 161,
    "start_time": "2021-12-18T11:00:46.303Z"
   },
   {
    "duration": 775,
    "start_time": "2021-12-18T11:01:25.217Z"
   },
   {
    "duration": 3,
    "start_time": "2021-12-18T11:01:45.874Z"
   },
   {
    "duration": 26,
    "start_time": "2021-12-18T11:02:11.097Z"
   },
   {
    "duration": 88,
    "start_time": "2021-12-18T11:02:35.165Z"
   },
   {
    "duration": 678,
    "start_time": "2021-12-18T11:02:44.533Z"
   },
   {
    "duration": 32,
    "start_time": "2021-12-18T11:07:55.730Z"
   },
   {
    "duration": 5,
    "start_time": "2021-12-18T11:15:38.660Z"
   },
   {
    "duration": 23,
    "start_time": "2021-12-18T11:20:45.351Z"
   },
   {
    "duration": 5,
    "start_time": "2021-12-18T11:20:49.201Z"
   },
   {
    "duration": 42,
    "start_time": "2021-12-18T11:21:56.045Z"
   },
   {
    "duration": 56,
    "start_time": "2021-12-18T11:22:43.888Z"
   },
   {
    "duration": 30,
    "start_time": "2021-12-18T11:23:58.035Z"
   },
   {
    "duration": 27,
    "start_time": "2021-12-18T11:26:38.598Z"
   },
   {
    "duration": 23,
    "start_time": "2021-12-18T11:36:24.790Z"
   },
   {
    "duration": 30,
    "start_time": "2021-12-18T11:36:31.997Z"
   },
   {
    "duration": 114,
    "start_time": "2021-12-18T11:40:36.969Z"
   },
   {
    "duration": 81,
    "start_time": "2021-12-18T11:40:50.589Z"
   },
   {
    "duration": 94,
    "start_time": "2021-12-18T11:44:21.756Z"
   },
   {
    "duration": 74,
    "start_time": "2021-12-18T11:44:31.661Z"
   },
   {
    "duration": 282,
    "start_time": "2021-12-18T11:46:06.268Z"
   },
   {
    "duration": 8,
    "start_time": "2021-12-18T11:46:13.996Z"
   },
   {
    "duration": 712,
    "start_time": "2021-12-18T13:55:16.378Z"
   },
   {
    "duration": 135,
    "start_time": "2021-12-18T13:55:54.355Z"
   },
   {
    "duration": 902,
    "start_time": "2021-12-18T14:01:39.785Z"
   },
   {
    "duration": 21,
    "start_time": "2021-12-18T14:12:52.505Z"
   },
   {
    "duration": 73,
    "start_time": "2021-12-18T14:13:41.576Z"
   },
   {
    "duration": 7,
    "start_time": "2021-12-18T14:14:02.224Z"
   },
   {
    "duration": 7228,
    "start_time": "2021-12-18T14:18:15.974Z"
   },
   {
    "duration": 7,
    "start_time": "2021-12-18T14:18:48.585Z"
   },
   {
    "duration": 7,
    "start_time": "2021-12-18T14:18:59.295Z"
   },
   {
    "duration": 10,
    "start_time": "2021-12-18T14:19:12.103Z"
   },
   {
    "duration": 6,
    "start_time": "2021-12-18T14:19:37.735Z"
   },
   {
    "duration": 7,
    "start_time": "2021-12-18T14:20:34.289Z"
   },
   {
    "duration": 8,
    "start_time": "2021-12-18T14:26:45.919Z"
   },
   {
    "duration": 8,
    "start_time": "2021-12-18T14:26:50.588Z"
   },
   {
    "duration": 514,
    "start_time": "2021-12-18T14:30:48.419Z"
   },
   {
    "duration": 738,
    "start_time": "2021-12-18T14:31:47.279Z"
   },
   {
    "duration": 8,
    "start_time": "2021-12-18T14:31:56.140Z"
   },
   {
    "duration": 647,
    "start_time": "2021-12-18T14:32:00.768Z"
   },
   {
    "duration": 7,
    "start_time": "2021-12-18T14:32:21.028Z"
   },
   {
    "duration": 9,
    "start_time": "2021-12-18T14:32:44.969Z"
   },
   {
    "duration": 11,
    "start_time": "2021-12-18T14:33:18.129Z"
   },
   {
    "duration": 7,
    "start_time": "2021-12-18T14:33:43.129Z"
   },
   {
    "duration": 7,
    "start_time": "2021-12-18T14:33:54.078Z"
   },
   {
    "duration": 93,
    "start_time": "2021-12-18T14:34:40.109Z"
   },
   {
    "duration": 7,
    "start_time": "2021-12-18T14:34:46.129Z"
   },
   {
    "duration": 94,
    "start_time": "2021-12-18T14:35:03.949Z"
   },
   {
    "duration": 8,
    "start_time": "2021-12-18T14:35:07.289Z"
   },
   {
    "duration": 559,
    "start_time": "2021-12-18T14:38:45.709Z"
   },
   {
    "duration": 8,
    "start_time": "2021-12-18T14:40:12.498Z"
   },
   {
    "duration": 27,
    "start_time": "2021-12-18T14:40:16.968Z"
   },
   {
    "duration": 31,
    "start_time": "2021-12-18T14:40:23.129Z"
   },
   {
    "duration": 8,
    "start_time": "2021-12-18T14:40:29.520Z"
   },
   {
    "duration": 8,
    "start_time": "2021-12-18T14:40:56.680Z"
   },
   {
    "duration": 647,
    "start_time": "2021-12-18T14:40:57.959Z"
   },
   {
    "duration": 7,
    "start_time": "2021-12-18T14:41:08.538Z"
   },
   {
    "duration": 9,
    "start_time": "2021-12-18T14:41:23.269Z"
   },
   {
    "duration": 7,
    "start_time": "2021-12-18T14:41:40.788Z"
   },
   {
    "duration": 5,
    "start_time": "2021-12-18T14:41:59.939Z"
   },
   {
    "duration": 13,
    "start_time": "2021-12-18T14:42:01.470Z"
   },
   {
    "duration": 5,
    "start_time": "2021-12-18T14:42:03.709Z"
   },
   {
    "duration": 30,
    "start_time": "2021-12-18T14:42:05.769Z"
   },
   {
    "duration": 22,
    "start_time": "2021-12-18T14:42:18.618Z"
   },
   {
    "duration": 27,
    "start_time": "2021-12-18T14:42:20.261Z"
   },
   {
    "duration": 72,
    "start_time": "2021-12-18T14:42:22.958Z"
   },
   {
    "duration": 85,
    "start_time": "2021-12-18T14:42:25.499Z"
   },
   {
    "duration": 73,
    "start_time": "2021-12-18T14:42:27.709Z"
   },
   {
    "duration": 7,
    "start_time": "2021-12-18T14:42:29.800Z"
   },
   {
    "duration": 9,
    "start_time": "2021-12-18T14:42:52.629Z"
   },
   {
    "duration": 9,
    "start_time": "2021-12-18T14:42:54.528Z"
   },
   {
    "duration": 8,
    "start_time": "2021-12-18T14:43:23.459Z"
   },
   {
    "duration": 8,
    "start_time": "2021-12-18T14:43:26.429Z"
   },
   {
    "duration": 8,
    "start_time": "2021-12-18T14:43:32.279Z"
   },
   {
    "duration": 29,
    "start_time": "2021-12-18T14:45:24.449Z"
   },
   {
    "duration": 7,
    "start_time": "2021-12-18T14:47:10.419Z"
   },
   {
    "duration": 22,
    "start_time": "2021-12-18T14:47:11.769Z"
   },
   {
    "duration": 22,
    "start_time": "2021-12-18T14:47:15.448Z"
   },
   {
    "duration": 8,
    "start_time": "2021-12-18T14:47:18.958Z"
   },
   {
    "duration": 3,
    "start_time": "2021-12-18T14:47:45.489Z"
   },
   {
    "duration": 175,
    "start_time": "2021-12-18T14:47:45.831Z"
   },
   {
    "duration": 17,
    "start_time": "2021-12-18T14:47:46.229Z"
   },
   {
    "duration": 33,
    "start_time": "2021-12-18T14:47:46.790Z"
   },
   {
    "duration": 4,
    "start_time": "2021-12-18T14:47:47.679Z"
   },
   {
    "duration": 18,
    "start_time": "2021-12-18T14:47:48.050Z"
   },
   {
    "duration": 4,
    "start_time": "2021-12-18T14:47:48.400Z"
   },
   {
    "duration": 29,
    "start_time": "2021-12-18T14:47:48.759Z"
   },
   {
    "duration": 22,
    "start_time": "2021-12-18T14:47:49.328Z"
   },
   {
    "duration": 29,
    "start_time": "2021-12-18T14:47:49.738Z"
   },
   {
    "duration": 90,
    "start_time": "2021-12-18T14:47:50.069Z"
   },
   {
    "duration": 87,
    "start_time": "2021-12-18T14:47:50.482Z"
   },
   {
    "duration": 73,
    "start_time": "2021-12-18T14:47:50.829Z"
   },
   {
    "duration": 7,
    "start_time": "2021-12-18T14:47:51.559Z"
   },
   {
    "duration": 11,
    "start_time": "2021-12-18T14:47:51.957Z"
   },
   {
    "duration": 21,
    "start_time": "2021-12-18T14:47:52.899Z"
   },
   {
    "duration": 3,
    "start_time": "2021-12-18T14:47:54.251Z"
   },
   {
    "duration": 8,
    "start_time": "2021-12-18T14:47:55.999Z"
   },
   {
    "duration": 5,
    "start_time": "2021-12-18T14:48:43.409Z"
   },
   {
    "duration": 9,
    "start_time": "2021-12-18T14:49:01.698Z"
   },
   {
    "duration": 26,
    "start_time": "2021-12-18T14:49:16.698Z"
   },
   {
    "duration": 5,
    "start_time": "2021-12-18T14:49:19.048Z"
   },
   {
    "duration": 7,
    "start_time": "2021-12-18T14:49:48.548Z"
   },
   {
    "duration": 282,
    "start_time": "2021-12-18T14:52:32.530Z"
   },
   {
    "duration": 100,
    "start_time": "2021-12-18T14:53:43.949Z"
   },
   {
    "duration": 7,
    "start_time": "2021-12-18T14:53:49.308Z"
   },
   {
    "duration": 45,
    "start_time": "2021-12-18T14:54:44.009Z"
   },
   {
    "duration": 45,
    "start_time": "2021-12-18T14:55:18.318Z"
   },
   {
    "duration": 342,
    "start_time": "2021-12-18T15:01:50.659Z"
   },
   {
    "duration": 733,
    "start_time": "2021-12-18T15:05:52.289Z"
   },
   {
    "duration": 91,
    "start_time": "2021-12-18T15:10:29.909Z"
   },
   {
    "duration": 110,
    "start_time": "2021-12-18T15:14:09.478Z"
   },
   {
    "duration": 4,
    "start_time": "2021-12-18T15:15:01.769Z"
   },
   {
    "duration": 5,
    "start_time": "2021-12-18T15:15:06.399Z"
   },
   {
    "duration": 19,
    "start_time": "2021-12-18T15:15:10.399Z"
   },
   {
    "duration": 19,
    "start_time": "2021-12-18T15:15:19.240Z"
   },
   {
    "duration": 20,
    "start_time": "2021-12-18T15:15:21.229Z"
   },
   {
    "duration": 19,
    "start_time": "2021-12-18T15:15:22.639Z"
   },
   {
    "duration": 22,
    "start_time": "2021-12-18T15:15:24.729Z"
   },
   {
    "duration": 17,
    "start_time": "2021-12-18T15:15:26.339Z"
   },
   {
    "duration": 837,
    "start_time": "2021-12-18T15:15:44.848Z"
   },
   {
    "duration": 282,
    "start_time": "2021-12-18T15:16:29.418Z"
   },
   {
    "duration": 277,
    "start_time": "2021-12-18T15:17:28.568Z"
   },
   {
    "duration": 101,
    "start_time": "2021-12-18T15:18:43.859Z"
   },
   {
    "duration": 12,
    "start_time": "2021-12-18T15:19:21.959Z"
   },
   {
    "duration": 23,
    "start_time": "2021-12-18T15:19:40.079Z"
   },
   {
    "duration": 81,
    "start_time": "2021-12-18T15:20:55.419Z"
   },
   {
    "duration": 83,
    "start_time": "2021-12-18T15:20:59.270Z"
   },
   {
    "duration": 242,
    "start_time": "2021-12-18T15:23:34.549Z"
   },
   {
    "duration": 298,
    "start_time": "2021-12-18T15:24:42.188Z"
   },
   {
    "duration": 475,
    "start_time": "2021-12-18T15:25:05.449Z"
   },
   {
    "duration": 162,
    "start_time": "2021-12-18T15:25:16.479Z"
   },
   {
    "duration": 449,
    "start_time": "2021-12-18T15:25:26.529Z"
   },
   {
    "duration": 15,
    "start_time": "2021-12-18T15:25:58.989Z"
   },
   {
    "duration": 24,
    "start_time": "2021-12-18T15:26:19.590Z"
   },
   {
    "duration": 19,
    "start_time": "2021-12-18T15:27:05.909Z"
   },
   {
    "duration": 27,
    "start_time": "2021-12-18T15:27:54.900Z"
   },
   {
    "duration": 107,
    "start_time": "2021-12-18T15:28:14.388Z"
   },
   {
    "duration": 23,
    "start_time": "2021-12-18T15:28:17.777Z"
   },
   {
    "duration": 6,
    "start_time": "2021-12-18T15:30:42.729Z"
   },
   {
    "duration": 23,
    "start_time": "2021-12-18T15:31:25.219Z"
   },
   {
    "duration": 96,
    "start_time": "2021-12-18T15:31:42.677Z"
   },
   {
    "duration": 91,
    "start_time": "2021-12-18T15:31:49.279Z"
   },
   {
    "duration": 6,
    "start_time": "2021-12-18T15:32:10.442Z"
   },
   {
    "duration": 287,
    "start_time": "2021-12-18T15:40:16.528Z"
   },
   {
    "duration": 23,
    "start_time": "2021-12-18T15:41:01.939Z"
   },
   {
    "duration": 17,
    "start_time": "2021-12-18T15:41:09.871Z"
   },
   {
    "duration": 103,
    "start_time": "2021-12-18T15:41:17.159Z"
   },
   {
    "duration": 17,
    "start_time": "2021-12-18T15:41:24.220Z"
   },
   {
    "duration": 16,
    "start_time": "2021-12-18T15:42:34.018Z"
   },
   {
    "duration": 54,
    "start_time": "2021-12-18T15:45:05.351Z"
   },
   {
    "duration": 300,
    "start_time": "2021-12-18T15:47:12.359Z"
   },
   {
    "duration": 11,
    "start_time": "2021-12-18T15:47:31.829Z"
   },
   {
    "duration": 7,
    "start_time": "2021-12-18T15:47:57.119Z"
   },
   {
    "duration": 8,
    "start_time": "2021-12-18T15:48:03.390Z"
   },
   {
    "duration": 17,
    "start_time": "2021-12-18T15:48:11.519Z"
   },
   {
    "duration": 8,
    "start_time": "2021-12-18T15:48:36.638Z"
   },
   {
    "duration": 10,
    "start_time": "2021-12-18T15:49:38.779Z"
   },
   {
    "duration": 7,
    "start_time": "2021-12-18T15:49:53.718Z"
   },
   {
    "duration": 1439,
    "start_time": "2021-12-20T04:41:39.073Z"
   },
   {
    "duration": 182,
    "start_time": "2021-12-20T04:41:40.515Z"
   },
   {
    "duration": 26,
    "start_time": "2021-12-20T04:41:40.701Z"
   },
   {
    "duration": 50,
    "start_time": "2021-12-20T04:41:40.730Z"
   },
   {
    "duration": 4,
    "start_time": "2021-12-20T04:41:40.783Z"
   },
   {
    "duration": 28,
    "start_time": "2021-12-20T04:41:40.789Z"
   },
   {
    "duration": 7,
    "start_time": "2021-12-20T04:41:40.819Z"
   },
   {
    "duration": 28,
    "start_time": "2021-12-20T04:41:40.860Z"
   },
   {
    "duration": 23,
    "start_time": "2021-12-20T04:41:40.891Z"
   },
   {
    "duration": 49,
    "start_time": "2021-12-20T04:41:40.917Z"
   },
   {
    "duration": 103,
    "start_time": "2021-12-20T04:41:40.968Z"
   },
   {
    "duration": 117,
    "start_time": "2021-12-20T04:41:41.073Z"
   },
   {
    "duration": 84,
    "start_time": "2021-12-20T04:41:41.193Z"
   },
   {
    "duration": 7,
    "start_time": "2021-12-20T04:41:41.279Z"
   },
   {
    "duration": 8,
    "start_time": "2021-12-20T04:41:41.289Z"
   },
   {
    "duration": 23,
    "start_time": "2021-12-20T04:41:41.299Z"
   },
   {
    "duration": 5,
    "start_time": "2021-12-20T04:41:41.324Z"
   },
   {
    "duration": 7,
    "start_time": "2021-12-20T04:41:41.360Z"
   },
   {
    "duration": 47,
    "start_time": "2021-12-20T04:41:41.370Z"
   },
   {
    "duration": 72,
    "start_time": "2021-12-20T04:41:41.420Z"
   },
   {
    "duration": 3,
    "start_time": "2021-12-20T04:41:41.494Z"
   },
   {
    "duration": 9,
    "start_time": "2021-12-20T04:41:41.500Z"
   },
   {
    "duration": 21,
    "start_time": "2021-12-20T04:41:41.514Z"
   },
   {
    "duration": 18,
    "start_time": "2021-12-20T04:41:41.560Z"
   },
   {
    "duration": 19,
    "start_time": "2021-12-20T04:41:41.580Z"
   },
   {
    "duration": 20,
    "start_time": "2021-12-20T04:41:41.601Z"
   },
   {
    "duration": 56,
    "start_time": "2021-12-20T04:41:41.624Z"
   },
   {
    "duration": 20,
    "start_time": "2021-12-20T04:41:41.682Z"
   },
   {
    "duration": 123,
    "start_time": "2021-12-20T04:41:41.705Z"
   },
   {
    "duration": 40,
    "start_time": "2021-12-20T04:41:41.831Z"
   },
   {
    "duration": 26,
    "start_time": "2021-12-20T04:41:41.873Z"
   },
   {
    "duration": 7,
    "start_time": "2021-12-20T04:41:41.902Z"
   },
   {
    "duration": 66,
    "start_time": "2021-12-20T04:41:41.912Z"
   },
   {
    "duration": 19,
    "start_time": "2021-12-20T04:41:41.981Z"
   },
   {
    "duration": 22,
    "start_time": "2021-12-20T04:41:42.003Z"
   },
   {
    "duration": 47,
    "start_time": "2021-12-20T04:41:42.027Z"
   },
   {
    "duration": 13,
    "start_time": "2021-12-20T04:41:42.077Z"
   },
   {
    "duration": 8,
    "start_time": "2021-12-20T04:41:42.092Z"
   },
   {
    "duration": 59,
    "start_time": "2021-12-20T04:41:42.103Z"
   },
   {
    "duration": 8,
    "start_time": "2021-12-20T04:41:42.165Z"
   },
   {
    "duration": 154,
    "start_time": "2021-12-20T04:44:27.958Z"
   },
   {
    "duration": 43,
    "start_time": "2021-12-20T04:44:35.757Z"
   },
   {
    "duration": 38,
    "start_time": "2021-12-20T04:46:47.239Z"
   },
   {
    "duration": 43,
    "start_time": "2021-12-20T04:47:09.096Z"
   },
   {
    "duration": 7,
    "start_time": "2021-12-20T04:47:10.639Z"
   },
   {
    "duration": 6,
    "start_time": "2021-12-20T04:47:24.415Z"
   },
   {
    "duration": 7,
    "start_time": "2021-12-20T04:47:26.008Z"
   },
   {
    "duration": 128,
    "start_time": "2021-12-20T04:48:15.328Z"
   },
   {
    "duration": 7,
    "start_time": "2021-12-20T04:48:25.936Z"
   },
   {
    "duration": 7,
    "start_time": "2021-12-20T04:48:42.551Z"
   },
   {
    "duration": 842,
    "start_time": "2021-12-20T08:06:45.465Z"
   },
   {
    "duration": 193,
    "start_time": "2021-12-20T08:06:46.309Z"
   },
   {
    "duration": 30,
    "start_time": "2021-12-20T08:06:46.509Z"
   },
   {
    "duration": 33,
    "start_time": "2021-12-20T08:06:46.560Z"
   },
   {
    "duration": 5,
    "start_time": "2021-12-20T08:06:46.596Z"
   },
   {
    "duration": 56,
    "start_time": "2021-12-20T08:06:46.603Z"
   },
   {
    "duration": 4,
    "start_time": "2021-12-20T08:06:46.663Z"
   },
   {
    "duration": 31,
    "start_time": "2021-12-20T08:06:46.669Z"
   },
   {
    "duration": 23,
    "start_time": "2021-12-20T08:06:46.703Z"
   },
   {
    "duration": 54,
    "start_time": "2021-12-20T08:06:46.729Z"
   },
   {
    "duration": 111,
    "start_time": "2021-12-20T08:06:46.786Z"
   },
   {
    "duration": 118,
    "start_time": "2021-12-20T08:06:46.899Z"
   },
   {
    "duration": 84,
    "start_time": "2021-12-20T08:06:47.020Z"
   },
   {
    "duration": 6,
    "start_time": "2021-12-20T08:06:47.107Z"
   },
   {
    "duration": 8,
    "start_time": "2021-12-20T08:06:47.115Z"
   },
   {
    "duration": 44,
    "start_time": "2021-12-20T08:06:47.125Z"
   },
   {
    "duration": 4,
    "start_time": "2021-12-20T08:06:47.172Z"
   },
   {
    "duration": 13,
    "start_time": "2021-12-20T08:06:47.178Z"
   },
   {
    "duration": 66,
    "start_time": "2021-12-20T08:06:47.194Z"
   },
   {
    "duration": 48,
    "start_time": "2021-12-20T08:06:47.263Z"
   },
   {
    "duration": 3,
    "start_time": "2021-12-20T08:06:47.313Z"
   },
   {
    "duration": 10,
    "start_time": "2021-12-20T08:06:47.321Z"
   },
   {
    "duration": 21,
    "start_time": "2021-12-20T08:06:47.359Z"
   },
   {
    "duration": 18,
    "start_time": "2021-12-20T08:06:47.383Z"
   },
   {
    "duration": 19,
    "start_time": "2021-12-20T08:06:47.403Z"
   },
   {
    "duration": 50,
    "start_time": "2021-12-20T08:06:47.424Z"
   },
   {
    "duration": 19,
    "start_time": "2021-12-20T08:06:47.476Z"
   },
   {
    "duration": 17,
    "start_time": "2021-12-20T08:06:47.498Z"
   },
   {
    "duration": 115,
    "start_time": "2021-12-20T08:06:47.517Z"
   },
   {
    "duration": 38,
    "start_time": "2021-12-20T08:06:47.634Z"
   },
   {
    "duration": 23,
    "start_time": "2021-12-20T08:06:47.674Z"
   },
   {
    "duration": 6,
    "start_time": "2021-12-20T08:06:47.699Z"
   },
   {
    "duration": 57,
    "start_time": "2021-12-20T08:06:47.707Z"
   },
   {
    "duration": 16,
    "start_time": "2021-12-20T08:06:47.767Z"
   },
   {
    "duration": 22,
    "start_time": "2021-12-20T08:06:47.786Z"
   },
   {
    "duration": 16,
    "start_time": "2021-12-20T08:06:47.810Z"
   },
   {
    "duration": 12,
    "start_time": "2021-12-20T08:06:47.860Z"
   },
   {
    "duration": 6,
    "start_time": "2021-12-20T08:06:47.874Z"
   },
   {
    "duration": 8,
    "start_time": "2021-12-20T08:06:47.882Z"
   },
   {
    "duration": 6,
    "start_time": "2021-12-20T08:06:47.892Z"
   },
   {
    "duration": 86,
    "start_time": "2021-12-20T08:06:47.901Z"
   },
   {
    "duration": 7,
    "start_time": "2021-12-20T08:06:47.989Z"
   },
   {
    "duration": 9,
    "start_time": "2021-12-20T08:06:47.998Z"
   },
   {
    "duration": 43,
    "start_time": "2021-12-20T08:07:16.696Z"
   },
   {
    "duration": 8,
    "start_time": "2021-12-20T08:07:17.088Z"
   },
   {
    "duration": 7,
    "start_time": "2021-12-20T08:07:17.288Z"
   },
   {
    "duration": 8,
    "start_time": "2021-12-20T08:07:17.670Z"
   },
   {
    "duration": 8,
    "start_time": "2021-12-20T08:07:17.896Z"
   },
   {
    "duration": 805,
    "start_time": "2021-12-20T12:19:38.248Z"
   },
   {
    "duration": 189,
    "start_time": "2021-12-20T12:19:39.056Z"
   },
   {
    "duration": 27,
    "start_time": "2021-12-20T12:19:39.248Z"
   },
   {
    "duration": 35,
    "start_time": "2021-12-20T12:19:39.279Z"
   },
   {
    "duration": 5,
    "start_time": "2021-12-20T12:19:39.317Z"
   },
   {
    "duration": 27,
    "start_time": "2021-12-20T12:19:39.360Z"
   },
   {
    "duration": 8,
    "start_time": "2021-12-20T12:19:39.390Z"
   },
   {
    "duration": 55,
    "start_time": "2021-12-20T12:19:39.404Z"
   },
   {
    "duration": 23,
    "start_time": "2021-12-20T12:19:39.463Z"
   },
   {
    "duration": 29,
    "start_time": "2021-12-20T12:19:39.488Z"
   },
   {
    "duration": 117,
    "start_time": "2021-12-20T12:19:39.520Z"
   },
   {
    "duration": 113,
    "start_time": "2021-12-20T12:19:39.639Z"
   },
   {
    "duration": 76,
    "start_time": "2021-12-20T12:19:39.760Z"
   },
   {
    "duration": 23,
    "start_time": "2021-12-20T12:19:39.839Z"
   },
   {
    "duration": 10,
    "start_time": "2021-12-20T12:19:39.864Z"
   },
   {
    "duration": 22,
    "start_time": "2021-12-20T12:19:39.876Z"
   },
   {
    "duration": 6,
    "start_time": "2021-12-20T12:19:39.900Z"
   },
   {
    "duration": 8,
    "start_time": "2021-12-20T12:19:39.908Z"
   },
   {
    "duration": 83,
    "start_time": "2021-12-20T12:19:39.918Z"
   },
   {
    "duration": 62,
    "start_time": "2021-12-20T12:19:40.004Z"
   },
   {
    "duration": 3,
    "start_time": "2021-12-20T12:19:40.069Z"
   },
   {
    "duration": 6,
    "start_time": "2021-12-20T12:19:40.074Z"
   },
   {
    "duration": 21,
    "start_time": "2021-12-20T12:19:40.085Z"
   },
   {
    "duration": 53,
    "start_time": "2021-12-20T12:19:40.108Z"
   },
   {
    "duration": 19,
    "start_time": "2021-12-20T12:19:40.163Z"
   },
   {
    "duration": 18,
    "start_time": "2021-12-20T12:19:40.184Z"
   },
   {
    "duration": 20,
    "start_time": "2021-12-20T12:19:40.204Z"
   },
   {
    "duration": 53,
    "start_time": "2021-12-20T12:19:40.226Z"
   },
   {
    "duration": 108,
    "start_time": "2021-12-20T12:19:40.282Z"
   },
   {
    "duration": 24,
    "start_time": "2021-12-20T12:19:40.393Z"
   },
   {
    "duration": 41,
    "start_time": "2021-12-20T12:19:40.420Z"
   },
   {
    "duration": 4,
    "start_time": "2021-12-20T12:19:40.465Z"
   },
   {
    "duration": 31,
    "start_time": "2021-12-20T12:19:40.472Z"
   },
   {
    "duration": 20,
    "start_time": "2021-12-20T12:19:40.506Z"
   },
   {
    "duration": 52,
    "start_time": "2021-12-20T12:19:40.528Z"
   },
   {
    "duration": 18,
    "start_time": "2021-12-20T12:19:40.582Z"
   },
   {
    "duration": 10,
    "start_time": "2021-12-20T12:19:40.603Z"
   },
   {
    "duration": 44,
    "start_time": "2021-12-20T12:19:40.616Z"
   },
   {
    "duration": 8,
    "start_time": "2021-12-20T12:19:40.663Z"
   },
   {
    "duration": 6,
    "start_time": "2021-12-20T12:19:40.674Z"
   },
   {
    "duration": 651,
    "start_time": "2021-12-21T06:15:37.905Z"
   },
   {
    "duration": 164,
    "start_time": "2021-12-21T06:15:38.558Z"
   },
   {
    "duration": 18,
    "start_time": "2021-12-21T06:15:38.724Z"
   },
   {
    "duration": 32,
    "start_time": "2021-12-21T06:15:38.744Z"
   },
   {
    "duration": 8,
    "start_time": "2021-12-21T06:15:38.777Z"
   },
   {
    "duration": 27,
    "start_time": "2021-12-21T06:15:38.787Z"
   },
   {
    "duration": 10,
    "start_time": "2021-12-21T06:15:38.816Z"
   },
   {
    "duration": 26,
    "start_time": "2021-12-21T06:15:38.842Z"
   },
   {
    "duration": 23,
    "start_time": "2021-12-21T06:15:38.870Z"
   },
   {
    "duration": 25,
    "start_time": "2021-12-21T06:15:38.895Z"
   },
   {
    "duration": 68,
    "start_time": "2021-12-21T06:15:38.941Z"
   },
   {
    "duration": 97,
    "start_time": "2021-12-21T06:15:39.011Z"
   },
   {
    "duration": 68,
    "start_time": "2021-12-21T06:15:39.110Z"
   },
   {
    "duration": 6,
    "start_time": "2021-12-21T06:15:39.180Z"
   },
   {
    "duration": 14,
    "start_time": "2021-12-21T06:15:39.187Z"
   },
   {
    "duration": 19,
    "start_time": "2021-12-21T06:15:39.203Z"
   },
   {
    "duration": 18,
    "start_time": "2021-12-21T06:15:39.225Z"
   },
   {
    "duration": 14,
    "start_time": "2021-12-21T06:15:39.245Z"
   },
   {
    "duration": 41,
    "start_time": "2021-12-21T06:15:39.261Z"
   },
   {
    "duration": 52,
    "start_time": "2021-12-21T06:15:39.304Z"
   },
   {
    "duration": 3,
    "start_time": "2021-12-21T06:15:39.358Z"
   },
   {
    "duration": 13,
    "start_time": "2021-12-21T06:15:39.363Z"
   },
   {
    "duration": 20,
    "start_time": "2021-12-21T06:15:39.380Z"
   },
   {
    "duration": 28,
    "start_time": "2021-12-21T06:15:39.403Z"
   },
   {
    "duration": 29,
    "start_time": "2021-12-21T06:15:39.433Z"
   },
   {
    "duration": 29,
    "start_time": "2021-12-21T06:15:39.464Z"
   },
   {
    "duration": 25,
    "start_time": "2021-12-21T06:15:39.495Z"
   },
   {
    "duration": 23,
    "start_time": "2021-12-21T06:15:39.522Z"
   },
   {
    "duration": 79,
    "start_time": "2021-12-21T06:15:39.547Z"
   },
   {
    "duration": 28,
    "start_time": "2021-12-21T06:15:39.628Z"
   },
   {
    "duration": 23,
    "start_time": "2021-12-21T06:15:39.658Z"
   },
   {
    "duration": 9,
    "start_time": "2021-12-21T06:15:39.682Z"
   },
   {
    "duration": 47,
    "start_time": "2021-12-21T06:15:39.692Z"
   },
   {
    "duration": 15,
    "start_time": "2021-12-21T06:15:39.741Z"
   },
   {
    "duration": 20,
    "start_time": "2021-12-21T06:15:39.758Z"
   },
   {
    "duration": 13,
    "start_time": "2021-12-21T06:15:39.780Z"
   },
   {
    "duration": 9,
    "start_time": "2021-12-21T06:15:39.795Z"
   },
   {
    "duration": 35,
    "start_time": "2021-12-21T06:15:39.806Z"
   },
   {
    "duration": 7,
    "start_time": "2021-12-21T06:15:39.843Z"
   },
   {
    "duration": 11,
    "start_time": "2021-12-21T06:15:39.852Z"
   },
   {
    "duration": 45,
    "start_time": "2021-12-21T06:17:37.438Z"
   },
   {
    "duration": 2155,
    "start_time": "2021-12-21T11:40:24.529Z"
   },
   {
    "duration": 1468,
    "start_time": "2021-12-21T11:40:38.109Z"
   },
   {
    "duration": 831,
    "start_time": "2021-12-21T11:40:40.612Z"
   },
   {
    "duration": 26,
    "start_time": "2021-12-21T11:40:43.686Z"
   },
   {
    "duration": 32,
    "start_time": "2021-12-21T11:40:48.039Z"
   },
   {
    "duration": 9,
    "start_time": "2021-12-21T11:40:51.566Z"
   },
   {
    "duration": 5,
    "start_time": "2021-12-21T11:41:12.333Z"
   },
   {
    "duration": 5,
    "start_time": "2021-12-21T11:42:47.305Z"
   },
   {
    "duration": 565,
    "start_time": "2021-12-21T11:46:03.726Z"
   },
   {
    "duration": 1371,
    "start_time": "2021-12-21T11:46:15.146Z"
   },
   {
    "duration": 236,
    "start_time": "2021-12-21T11:46:16.520Z"
   },
   {
    "duration": 28,
    "start_time": "2021-12-21T11:46:16.761Z"
   },
   {
    "duration": 37,
    "start_time": "2021-12-21T11:46:16.792Z"
   },
   {
    "duration": 32,
    "start_time": "2021-12-21T11:46:16.832Z"
   },
   {
    "duration": 40,
    "start_time": "2021-12-21T11:46:16.867Z"
   },
   {
    "duration": 11,
    "start_time": "2021-12-21T11:46:16.910Z"
   },
   {
    "duration": 53,
    "start_time": "2021-12-21T11:46:16.925Z"
   },
   {
    "duration": 23,
    "start_time": "2021-12-21T11:46:16.983Z"
   },
   {
    "duration": 51,
    "start_time": "2021-12-21T11:46:17.009Z"
   },
   {
    "duration": 118,
    "start_time": "2021-12-21T11:46:17.062Z"
   },
   {
    "duration": 149,
    "start_time": "2021-12-21T11:46:17.183Z"
   },
   {
    "duration": 101,
    "start_time": "2021-12-21T11:46:17.336Z"
   },
   {
    "duration": 618,
    "start_time": "2021-12-21T11:46:17.439Z"
   },
   {
    "duration": 214,
    "start_time": "2021-12-21T11:46:17.846Z"
   },
   {
    "duration": 210,
    "start_time": "2021-12-21T11:46:17.851Z"
   },
   {
    "duration": 208,
    "start_time": "2021-12-21T11:46:17.855Z"
   },
   {
    "duration": 206,
    "start_time": "2021-12-21T11:46:17.859Z"
   },
   {
    "duration": 198,
    "start_time": "2021-12-21T11:46:17.868Z"
   },
   {
    "duration": 197,
    "start_time": "2021-12-21T11:46:17.871Z"
   },
   {
    "duration": 195,
    "start_time": "2021-12-21T11:46:17.874Z"
   },
   {
    "duration": 192,
    "start_time": "2021-12-21T11:46:17.878Z"
   },
   {
    "duration": 189,
    "start_time": "2021-12-21T11:46:17.882Z"
   },
   {
    "duration": 187,
    "start_time": "2021-12-21T11:46:17.885Z"
   },
   {
    "duration": 185,
    "start_time": "2021-12-21T11:46:17.888Z"
   },
   {
    "duration": 183,
    "start_time": "2021-12-21T11:46:17.891Z"
   },
   {
    "duration": 179,
    "start_time": "2021-12-21T11:46:17.896Z"
   },
   {
    "duration": 173,
    "start_time": "2021-12-21T11:46:17.904Z"
   },
   {
    "duration": 171,
    "start_time": "2021-12-21T11:46:17.907Z"
   },
   {
    "duration": 168,
    "start_time": "2021-12-21T11:46:17.911Z"
   },
   {
    "duration": 161,
    "start_time": "2021-12-21T11:46:17.919Z"
   },
   {
    "duration": 159,
    "start_time": "2021-12-21T11:46:17.922Z"
   },
   {
    "duration": 156,
    "start_time": "2021-12-21T11:46:17.926Z"
   },
   {
    "duration": 154,
    "start_time": "2021-12-21T11:46:17.929Z"
   },
   {
    "duration": 153,
    "start_time": "2021-12-21T11:46:17.932Z"
   },
   {
    "duration": 147,
    "start_time": "2021-12-21T11:46:17.940Z"
   },
   {
    "duration": 141,
    "start_time": "2021-12-21T11:46:17.947Z"
   },
   {
    "duration": 142,
    "start_time": "2021-12-21T11:46:17.950Z"
   },
   {
    "duration": 141,
    "start_time": "2021-12-21T11:46:17.953Z"
   },
   {
    "duration": 136,
    "start_time": "2021-12-21T11:46:17.959Z"
   },
   {
    "duration": 374,
    "start_time": "2021-12-21T11:47:34.247Z"
   },
   {
    "duration": 430,
    "start_time": "2021-12-21T11:48:02.146Z"
   },
   {
    "duration": 451,
    "start_time": "2021-12-21T11:48:09.597Z"
   },
   {
    "duration": 439,
    "start_time": "2021-12-21T11:49:26.631Z"
   },
   {
    "duration": 379,
    "start_time": "2021-12-21T11:50:37.328Z"
   },
   {
    "duration": 433,
    "start_time": "2021-12-21T11:54:20.494Z"
   },
   {
    "duration": 370,
    "start_time": "2021-12-21T11:54:57.119Z"
   },
   {
    "duration": 12,
    "start_time": "2021-12-21T11:55:01.191Z"
   },
   {
    "duration": 23,
    "start_time": "2021-12-21T11:55:03.031Z"
   },
   {
    "duration": 22,
    "start_time": "2021-12-21T11:55:06.311Z"
   },
   {
    "duration": 6,
    "start_time": "2021-12-21T11:55:10.869Z"
   },
   {
    "duration": 22,
    "start_time": "2021-12-21T11:55:16.384Z"
   },
   {
    "duration": 392,
    "start_time": "2021-12-21T11:58:54.223Z"
   },
   {
    "duration": 142,
    "start_time": "2021-12-21T12:01:13.802Z"
   },
   {
    "duration": 438,
    "start_time": "2021-12-21T12:01:17.913Z"
   },
   {
    "duration": 214,
    "start_time": "2021-12-21T12:01:44.362Z"
   },
   {
    "duration": 215,
    "start_time": "2021-12-21T12:02:00.288Z"
   },
   {
    "duration": 493,
    "start_time": "2021-12-21T12:02:17.641Z"
   },
   {
    "duration": 854,
    "start_time": "2021-12-21T12:02:31.186Z"
   },
   {
    "duration": 56,
    "start_time": "2021-12-21T12:02:50.848Z"
   },
   {
    "duration": 52,
    "start_time": "2021-12-21T12:02:53.032Z"
   },
   {
    "duration": 5,
    "start_time": "2021-12-21T12:04:54.723Z"
   },
   {
    "duration": 137,
    "start_time": "2021-12-21T12:05:49.088Z"
   },
   {
    "duration": 130,
    "start_time": "2021-12-21T12:05:56.173Z"
   },
   {
    "duration": 177,
    "start_time": "2021-12-21T12:06:14.761Z"
   },
   {
    "duration": 150,
    "start_time": "2021-12-21T12:06:59.457Z"
   },
   {
    "duration": 783,
    "start_time": "2021-12-21T12:08:44.395Z"
   },
   {
    "duration": 197,
    "start_time": "2021-12-21T12:08:45.181Z"
   },
   {
    "duration": 26,
    "start_time": "2021-12-21T12:08:45.381Z"
   },
   {
    "duration": 60,
    "start_time": "2021-12-21T12:08:45.410Z"
   },
   {
    "duration": 7,
    "start_time": "2021-12-21T12:08:45.474Z"
   },
   {
    "duration": 26,
    "start_time": "2021-12-21T12:08:45.484Z"
   },
   {
    "duration": 6,
    "start_time": "2021-12-21T12:08:45.512Z"
   },
   {
    "duration": 66,
    "start_time": "2021-12-21T12:08:45.522Z"
   },
   {
    "duration": 22,
    "start_time": "2021-12-21T12:08:45.591Z"
   },
   {
    "duration": 49,
    "start_time": "2021-12-21T12:08:45.616Z"
   },
   {
    "duration": 105,
    "start_time": "2021-12-21T12:08:45.669Z"
   },
   {
    "duration": 105,
    "start_time": "2021-12-21T12:08:45.776Z"
   },
   {
    "duration": 85,
    "start_time": "2021-12-21T12:08:45.883Z"
   },
   {
    "duration": 536,
    "start_time": "2021-12-21T12:08:45.976Z"
   },
   {
    "duration": 224,
    "start_time": "2021-12-21T12:08:46.293Z"
   },
   {
    "duration": 221,
    "start_time": "2021-12-21T12:08:46.298Z"
   },
   {
    "duration": 216,
    "start_time": "2021-12-21T12:08:46.305Z"
   },
   {
    "duration": 213,
    "start_time": "2021-12-21T12:08:46.310Z"
   },
   {
    "duration": 212,
    "start_time": "2021-12-21T12:08:46.313Z"
   },
   {
    "duration": 211,
    "start_time": "2021-12-21T12:08:46.316Z"
   },
   {
    "duration": 211,
    "start_time": "2021-12-21T12:08:46.319Z"
   },
   {
    "duration": 210,
    "start_time": "2021-12-21T12:08:46.322Z"
   },
   {
    "duration": 207,
    "start_time": "2021-12-21T12:08:46.327Z"
   },
   {
    "duration": 206,
    "start_time": "2021-12-21T12:08:46.330Z"
   },
   {
    "duration": 205,
    "start_time": "2021-12-21T12:08:46.333Z"
   },
   {
    "duration": 204,
    "start_time": "2021-12-21T12:08:46.336Z"
   },
   {
    "duration": 202,
    "start_time": "2021-12-21T12:08:46.339Z"
   },
   {
    "duration": 199,
    "start_time": "2021-12-21T12:08:46.343Z"
   },
   {
    "duration": 198,
    "start_time": "2021-12-21T12:08:46.346Z"
   },
   {
    "duration": 190,
    "start_time": "2021-12-21T12:08:46.355Z"
   },
   {
    "duration": 188,
    "start_time": "2021-12-21T12:08:46.359Z"
   },
   {
    "duration": 186,
    "start_time": "2021-12-21T12:08:46.362Z"
   },
   {
    "duration": 183,
    "start_time": "2021-12-21T12:08:46.366Z"
   },
   {
    "duration": 182,
    "start_time": "2021-12-21T12:08:46.369Z"
   },
   {
    "duration": 181,
    "start_time": "2021-12-21T12:08:46.372Z"
   },
   {
    "duration": 179,
    "start_time": "2021-12-21T12:08:46.375Z"
   },
   {
    "duration": 189,
    "start_time": "2021-12-21T12:08:46.378Z"
   },
   {
    "duration": 188,
    "start_time": "2021-12-21T12:08:46.381Z"
   },
   {
    "duration": 186,
    "start_time": "2021-12-21T12:08:46.384Z"
   },
   {
    "duration": 185,
    "start_time": "2021-12-21T12:08:46.386Z"
   },
   {
    "duration": 184,
    "start_time": "2021-12-21T12:08:46.389Z"
   },
   {
    "duration": 227,
    "start_time": "2021-12-21T12:11:33.973Z"
   },
   {
    "duration": 377,
    "start_time": "2021-12-21T12:12:01.273Z"
   },
   {
    "duration": 1280,
    "start_time": "2021-12-21T12:12:36.690Z"
   },
   {
    "duration": 176,
    "start_time": "2021-12-21T12:13:05.529Z"
   },
   {
    "duration": 431,
    "start_time": "2021-12-21T12:13:14.993Z"
   },
   {
    "duration": 79,
    "start_time": "2021-12-21T12:17:53.738Z"
   },
   {
    "duration": 488,
    "start_time": "2021-12-21T12:18:10.046Z"
   },
   {
    "duration": 207,
    "start_time": "2021-12-21T12:19:19.778Z"
   },
   {
    "duration": 126,
    "start_time": "2021-12-21T12:19:23.466Z"
   },
   {
    "duration": 134,
    "start_time": "2021-12-21T12:19:33.026Z"
   },
   {
    "duration": 390,
    "start_time": "2021-12-21T12:20:28.931Z"
   },
   {
    "duration": 414,
    "start_time": "2021-12-21T12:20:36.316Z"
   },
   {
    "duration": 834,
    "start_time": "2021-12-21T12:20:52.940Z"
   },
   {
    "duration": 81,
    "start_time": "2021-12-21T12:21:04.413Z"
   },
   {
    "duration": 815,
    "start_time": "2021-12-21T12:21:43.124Z"
   },
   {
    "duration": 516,
    "start_time": "2021-12-21T12:21:47.356Z"
   },
   {
    "duration": 426,
    "start_time": "2021-12-21T12:22:22.940Z"
   },
   {
    "duration": 81,
    "start_time": "2021-12-21T12:22:35.005Z"
   },
   {
    "duration": 493,
    "start_time": "2021-12-21T12:22:46.428Z"
   },
   {
    "duration": 365,
    "start_time": "2021-12-21T12:24:10.700Z"
   },
   {
    "duration": 728,
    "start_time": "2021-12-21T12:24:20.837Z"
   },
   {
    "duration": 3,
    "start_time": "2021-12-21T12:24:29.212Z"
   },
   {
    "duration": 101,
    "start_time": "2021-12-21T12:24:33.224Z"
   },
   {
    "duration": 174,
    "start_time": "2021-12-21T12:25:57.485Z"
   },
   {
    "duration": 201,
    "start_time": "2021-12-21T12:26:25.270Z"
   },
   {
    "duration": 77,
    "start_time": "2021-12-21T12:26:29.773Z"
   },
   {
    "duration": 79,
    "start_time": "2021-12-21T12:26:49.741Z"
   },
   {
    "duration": 134,
    "start_time": "2021-12-21T12:27:06.741Z"
   },
   {
    "duration": 90,
    "start_time": "2021-12-21T12:27:13.719Z"
   },
   {
    "duration": 77,
    "start_time": "2021-12-21T12:27:23.679Z"
   },
   {
    "duration": 72,
    "start_time": "2021-12-21T12:27:52.621Z"
   },
   {
    "duration": 86,
    "start_time": "2021-12-21T12:34:22.352Z"
   },
   {
    "duration": 262,
    "start_time": "2021-12-21T12:35:09.866Z"
   },
   {
    "duration": 57,
    "start_time": "2021-12-21T12:36:48.375Z"
   },
   {
    "duration": 44,
    "start_time": "2021-12-21T12:37:21.462Z"
   },
   {
    "duration": 47,
    "start_time": "2021-12-21T12:37:50.406Z"
   },
   {
    "duration": 612,
    "start_time": "2021-12-22T12:58:43.926Z"
   },
   {
    "duration": 138,
    "start_time": "2021-12-22T12:58:44.539Z"
   },
   {
    "duration": 17,
    "start_time": "2021-12-22T12:58:44.679Z"
   },
   {
    "duration": 44,
    "start_time": "2021-12-22T12:58:44.697Z"
   },
   {
    "duration": 23,
    "start_time": "2021-12-22T12:58:44.743Z"
   },
   {
    "duration": 31,
    "start_time": "2021-12-22T12:58:44.767Z"
   },
   {
    "duration": 35,
    "start_time": "2021-12-22T12:58:44.800Z"
   },
   {
    "duration": 39,
    "start_time": "2021-12-22T12:58:44.838Z"
   },
   {
    "duration": 28,
    "start_time": "2021-12-22T12:58:44.878Z"
   },
   {
    "duration": 29,
    "start_time": "2021-12-22T12:58:44.908Z"
   },
   {
    "duration": 71,
    "start_time": "2021-12-22T12:58:44.939Z"
   },
   {
    "duration": 60,
    "start_time": "2021-12-22T12:58:45.012Z"
   },
   {
    "duration": 57,
    "start_time": "2021-12-22T12:58:45.073Z"
   },
   {
    "duration": 39,
    "start_time": "2021-12-22T12:58:45.132Z"
   },
   {
    "duration": 5,
    "start_time": "2021-12-22T12:58:45.191Z"
   },
   {
    "duration": 34,
    "start_time": "2021-12-22T12:58:45.198Z"
   },
   {
    "duration": 27,
    "start_time": "2021-12-22T12:58:45.233Z"
   },
   {
    "duration": 56,
    "start_time": "2021-12-22T12:58:45.261Z"
   },
   {
    "duration": 44,
    "start_time": "2021-12-22T12:58:45.318Z"
   },
   {
    "duration": 32,
    "start_time": "2021-12-22T12:58:45.364Z"
   },
   {
    "duration": 3,
    "start_time": "2021-12-22T12:58:45.397Z"
   },
   {
    "duration": 32,
    "start_time": "2021-12-22T12:58:45.401Z"
   },
   {
    "duration": 30,
    "start_time": "2021-12-22T12:58:45.436Z"
   },
   {
    "duration": 24,
    "start_time": "2021-12-22T12:58:45.468Z"
   },
   {
    "duration": 25,
    "start_time": "2021-12-22T12:58:45.494Z"
   },
   {
    "duration": 27,
    "start_time": "2021-12-22T12:58:45.521Z"
   },
   {
    "duration": 21,
    "start_time": "2021-12-22T12:58:45.549Z"
   },
   {
    "duration": 29,
    "start_time": "2021-12-22T12:58:45.571Z"
   },
   {
    "duration": 72,
    "start_time": "2021-12-22T12:58:45.601Z"
   },
   {
    "duration": 26,
    "start_time": "2021-12-22T12:58:45.675Z"
   },
   {
    "duration": 17,
    "start_time": "2021-12-22T12:58:45.703Z"
   },
   {
    "duration": 5,
    "start_time": "2021-12-22T12:58:45.722Z"
   },
   {
    "duration": 23,
    "start_time": "2021-12-22T12:58:45.729Z"
   },
   {
    "duration": 43,
    "start_time": "2021-12-22T12:58:45.754Z"
   },
   {
    "duration": 18,
    "start_time": "2021-12-22T12:58:45.799Z"
   },
   {
    "duration": 14,
    "start_time": "2021-12-22T12:58:45.818Z"
   },
   {
    "duration": 8,
    "start_time": "2021-12-22T12:58:45.834Z"
   },
   {
    "duration": 6,
    "start_time": "2021-12-22T12:58:45.843Z"
   },
   {
    "duration": 41,
    "start_time": "2021-12-22T12:58:45.850Z"
   },
   {
    "duration": 5,
    "start_time": "2021-12-22T12:58:45.893Z"
   },
   {
    "duration": 419,
    "start_time": "2021-12-23T05:23:26.255Z"
   },
   {
    "duration": 960,
    "start_time": "2021-12-23T05:23:51.693Z"
   },
   {
    "duration": 239,
    "start_time": "2021-12-23T05:23:52.656Z"
   },
   {
    "duration": 78,
    "start_time": "2021-12-23T05:23:52.898Z"
   },
   {
    "duration": 34,
    "start_time": "2021-12-23T05:23:52.979Z"
   },
   {
    "duration": 6,
    "start_time": "2021-12-23T05:23:53.015Z"
   },
   {
    "duration": 24,
    "start_time": "2021-12-23T05:23:53.064Z"
   },
   {
    "duration": 5,
    "start_time": "2021-12-23T05:23:53.092Z"
   },
   {
    "duration": 29,
    "start_time": "2021-12-23T05:23:53.100Z"
   },
   {
    "duration": 43,
    "start_time": "2021-12-23T05:23:53.133Z"
   },
   {
    "duration": 34,
    "start_time": "2021-12-23T05:23:53.179Z"
   },
   {
    "duration": 181,
    "start_time": "2021-12-23T05:23:53.215Z"
   },
   {
    "duration": 128,
    "start_time": "2021-12-23T05:23:53.399Z"
   },
   {
    "duration": 81,
    "start_time": "2021-12-23T05:23:53.529Z"
   },
   {
    "duration": 69,
    "start_time": "2021-12-23T05:23:53.612Z"
   },
   {
    "duration": 7,
    "start_time": "2021-12-23T05:23:53.684Z"
   },
   {
    "duration": 23,
    "start_time": "2021-12-23T05:23:53.694Z"
   },
   {
    "duration": 5,
    "start_time": "2021-12-23T05:23:53.720Z"
   },
   {
    "duration": 85,
    "start_time": "2021-12-23T05:23:53.728Z"
   },
   {
    "duration": 17,
    "start_time": "2021-12-23T05:23:53.815Z"
   },
   {
    "duration": 34,
    "start_time": "2021-12-23T05:23:53.834Z"
   },
   {
    "duration": 3,
    "start_time": "2021-12-23T05:23:53.871Z"
   },
   {
    "duration": 10,
    "start_time": "2021-12-23T05:23:53.877Z"
   },
   {
    "duration": 29,
    "start_time": "2021-12-23T05:23:53.892Z"
   },
   {
    "duration": 44,
    "start_time": "2021-12-23T05:23:53.925Z"
   },
   {
    "duration": 17,
    "start_time": "2021-12-23T05:23:53.972Z"
   },
   {
    "duration": 17,
    "start_time": "2021-12-23T05:23:53.992Z"
   },
   {
    "duration": 57,
    "start_time": "2021-12-23T05:23:54.011Z"
   },
   {
    "duration": 19,
    "start_time": "2021-12-23T05:23:54.070Z"
   },
   {
    "duration": 116,
    "start_time": "2021-12-23T05:23:54.092Z"
   },
   {
    "duration": 25,
    "start_time": "2021-12-23T05:23:54.211Z"
   },
   {
    "duration": 44,
    "start_time": "2021-12-23T05:23:54.238Z"
   },
   {
    "duration": 5,
    "start_time": "2021-12-23T05:23:54.284Z"
   },
   {
    "duration": 31,
    "start_time": "2021-12-23T05:23:54.291Z"
   },
   {
    "duration": 48,
    "start_time": "2021-12-23T05:23:54.324Z"
   },
   {
    "duration": 23,
    "start_time": "2021-12-23T05:23:54.375Z"
   },
   {
    "duration": 16,
    "start_time": "2021-12-23T05:23:54.401Z"
   },
   {
    "duration": 51,
    "start_time": "2021-12-23T05:23:54.420Z"
   },
   {
    "duration": 7,
    "start_time": "2021-12-23T05:23:54.474Z"
   },
   {
    "duration": 11,
    "start_time": "2021-12-23T05:23:54.484Z"
   },
   {
    "duration": 7,
    "start_time": "2021-12-23T05:23:54.498Z"
   },
   {
    "duration": 6,
    "start_time": "2021-12-23T05:24:56.804Z"
   },
   {
    "duration": 89,
    "start_time": "2021-12-23T05:25:24.010Z"
   },
   {
    "duration": 18,
    "start_time": "2021-12-23T05:26:10.978Z"
   },
   {
    "duration": 18,
    "start_time": "2021-12-23T05:26:17.642Z"
   },
   {
    "duration": 44,
    "start_time": "2021-12-23T05:32:41.677Z"
   },
   {
    "duration": 92,
    "start_time": "2021-12-23T05:36:33.045Z"
   },
   {
    "duration": 91,
    "start_time": "2021-12-23T05:36:41.701Z"
   },
   {
    "duration": 15,
    "start_time": "2021-12-23T05:38:00.853Z"
   },
   {
    "duration": 16,
    "start_time": "2021-12-23T05:38:45.565Z"
   },
   {
    "duration": 10,
    "start_time": "2021-12-23T05:43:33.734Z"
   },
   {
    "duration": 16,
    "start_time": "2021-12-23T05:43:42.037Z"
   },
   {
    "duration": 16,
    "start_time": "2021-12-23T05:44:11.943Z"
   },
   {
    "duration": 449,
    "start_time": "2021-12-23T05:44:19.342Z"
   },
   {
    "duration": 277,
    "start_time": "2021-12-23T05:44:25.924Z"
   },
   {
    "duration": 90,
    "start_time": "2021-12-23T05:48:40.543Z"
   },
   {
    "duration": 19,
    "start_time": "2021-12-23T05:50:39.408Z"
   },
   {
    "duration": 16,
    "start_time": "2021-12-23T05:51:09.528Z"
   },
   {
    "duration": 585,
    "start_time": "2021-12-23T05:52:14.997Z"
   },
   {
    "duration": 29,
    "start_time": "2021-12-23T05:53:04.088Z"
   },
   {
    "duration": 22,
    "start_time": "2021-12-23T05:53:20.904Z"
   },
   {
    "duration": 26,
    "start_time": "2021-12-23T05:54:29.824Z"
   },
   {
    "duration": 14,
    "start_time": "2021-12-23T05:54:48.592Z"
   },
   {
    "duration": 103,
    "start_time": "2021-12-23T05:55:03.841Z"
   },
   {
    "duration": 25,
    "start_time": "2021-12-23T05:55:16.249Z"
   },
   {
    "duration": 15,
    "start_time": "2021-12-23T05:55:57.714Z"
   },
   {
    "duration": 17,
    "start_time": "2021-12-23T05:56:09.576Z"
   },
   {
    "duration": 5,
    "start_time": "2021-12-23T06:01:36.625Z"
   },
   {
    "duration": 5,
    "start_time": "2021-12-23T06:01:39.889Z"
   },
   {
    "duration": 16,
    "start_time": "2021-12-23T06:01:49.426Z"
   },
   {
    "duration": 45,
    "start_time": "2021-12-23T06:02:31.418Z"
   },
   {
    "duration": 23,
    "start_time": "2021-12-23T06:07:46.131Z"
   },
   {
    "duration": 30,
    "start_time": "2021-12-23T06:08:29.924Z"
   },
   {
    "duration": 22,
    "start_time": "2021-12-23T06:08:34.882Z"
   },
   {
    "duration": 487,
    "start_time": "2021-12-23T06:09:54.596Z"
   },
   {
    "duration": 25,
    "start_time": "2021-12-23T06:10:12.164Z"
   },
   {
    "duration": 33,
    "start_time": "2021-12-23T06:14:47.100Z"
   },
   {
    "duration": 820,
    "start_time": "2021-12-23T06:14:57.364Z"
   },
   {
    "duration": 18,
    "start_time": "2021-12-23T06:15:10.381Z"
   },
   {
    "duration": 25,
    "start_time": "2021-12-23T06:15:28.141Z"
   },
   {
    "duration": 26,
    "start_time": "2021-12-23T06:16:00.908Z"
   },
   {
    "duration": 1047,
    "start_time": "2021-12-23T06:16:14.061Z"
   },
   {
    "duration": 102,
    "start_time": "2021-12-23T10:58:52.365Z"
   },
   {
    "duration": 115,
    "start_time": "2021-12-23T10:59:11.414Z"
   },
   {
    "duration": 32,
    "start_time": "2021-12-23T10:59:19.477Z"
   },
   {
    "duration": 36,
    "start_time": "2021-12-23T10:59:34.868Z"
   },
   {
    "duration": 112,
    "start_time": "2021-12-23T10:59:44.645Z"
   },
   {
    "duration": 41,
    "start_time": "2021-12-23T11:00:01.205Z"
   },
   {
    "duration": 115,
    "start_time": "2021-12-23T11:00:24.838Z"
   },
   {
    "duration": 43,
    "start_time": "2021-12-23T11:00:51.590Z"
   },
   {
    "duration": 142,
    "start_time": "2021-12-23T11:04:02.367Z"
   },
   {
    "duration": 332,
    "start_time": "2021-12-23T11:04:12.717Z"
   },
   {
    "duration": 419,
    "start_time": "2021-12-23T11:05:27.831Z"
   },
   {
    "duration": 6,
    "start_time": "2021-12-23T11:05:51.719Z"
   },
   {
    "duration": 6,
    "start_time": "2021-12-23T11:05:57.294Z"
   },
   {
    "duration": 95,
    "start_time": "2021-12-23T11:06:01.617Z"
   },
   {
    "duration": 4,
    "start_time": "2021-12-23T11:06:31.215Z"
   },
   {
    "duration": 6,
    "start_time": "2021-12-23T11:08:18.373Z"
   },
   {
    "duration": 4,
    "start_time": "2021-12-23T11:11:11.216Z"
   },
   {
    "duration": 1419,
    "start_time": "2021-12-23T11:11:53.922Z"
   },
   {
    "duration": 1235,
    "start_time": "2021-12-23T11:12:03.840Z"
   },
   {
    "duration": 1331,
    "start_time": "2021-12-23T11:12:43.915Z"
   },
   {
    "duration": 1441,
    "start_time": "2021-12-23T11:12:49.616Z"
   },
   {
    "duration": 89,
    "start_time": "2021-12-23T11:12:56.072Z"
   },
   {
    "duration": 4,
    "start_time": "2021-12-23T11:24:13.826Z"
   },
   {
    "duration": 788,
    "start_time": "2021-12-23T11:24:37.632Z"
   },
   {
    "duration": 187,
    "start_time": "2021-12-23T11:24:38.422Z"
   },
   {
    "duration": 27,
    "start_time": "2021-12-23T11:24:38.612Z"
   },
   {
    "duration": 52,
    "start_time": "2021-12-23T11:24:38.642Z"
   },
   {
    "duration": 5,
    "start_time": "2021-12-23T11:24:38.697Z"
   },
   {
    "duration": 27,
    "start_time": "2021-12-23T11:24:38.704Z"
   },
   {
    "duration": 29,
    "start_time": "2021-12-23T11:24:38.734Z"
   },
   {
    "duration": 36,
    "start_time": "2021-12-23T11:24:38.767Z"
   },
   {
    "duration": 23,
    "start_time": "2021-12-23T11:24:38.806Z"
   },
   {
    "duration": 53,
    "start_time": "2021-12-23T11:24:38.832Z"
   },
   {
    "duration": 103,
    "start_time": "2021-12-23T11:24:38.888Z"
   },
   {
    "duration": 98,
    "start_time": "2021-12-23T11:24:38.993Z"
   },
   {
    "duration": 86,
    "start_time": "2021-12-23T11:24:39.094Z"
   },
   {
    "duration": 63,
    "start_time": "2021-12-23T11:24:39.182Z"
   },
   {
    "duration": 8,
    "start_time": "2021-12-23T11:24:39.263Z"
   },
   {
    "duration": 21,
    "start_time": "2021-12-23T11:24:39.273Z"
   },
   {
    "duration": 5,
    "start_time": "2021-12-23T11:24:39.297Z"
   },
   {
    "duration": 94,
    "start_time": "2021-12-23T11:24:39.305Z"
   },
   {
    "duration": 70,
    "start_time": "2021-12-23T11:24:39.402Z"
   },
   {
    "duration": 15,
    "start_time": "2021-12-23T11:24:39.475Z"
   },
   {
    "duration": 15,
    "start_time": "2021-12-23T11:24:39.492Z"
   },
   {
    "duration": 3,
    "start_time": "2021-12-23T11:24:39.509Z"
   },
   {
    "duration": 5,
    "start_time": "2021-12-23T11:24:39.517Z"
   },
   {
    "duration": 21,
    "start_time": "2021-12-23T11:24:39.562Z"
   },
   {
    "duration": 18,
    "start_time": "2021-12-23T11:24:39.586Z"
   },
   {
    "duration": 18,
    "start_time": "2021-12-23T11:24:39.607Z"
   },
   {
    "duration": 50,
    "start_time": "2021-12-23T11:24:39.627Z"
   },
   {
    "duration": 21,
    "start_time": "2021-12-23T11:24:39.680Z"
   },
   {
    "duration": 19,
    "start_time": "2021-12-23T11:24:39.703Z"
   },
   {
    "duration": 120,
    "start_time": "2021-12-23T11:24:39.725Z"
   },
   {
    "duration": 37,
    "start_time": "2021-12-23T11:24:39.847Z"
   },
   {
    "duration": 22,
    "start_time": "2021-12-23T11:24:39.887Z"
   },
   {
    "duration": 5,
    "start_time": "2021-12-23T11:24:39.912Z"
   },
   {
    "duration": 57,
    "start_time": "2021-12-23T11:24:39.920Z"
   },
   {
    "duration": 17,
    "start_time": "2021-12-23T11:24:39.980Z"
   },
   {
    "duration": 23,
    "start_time": "2021-12-23T11:24:39.999Z"
   },
   {
    "duration": 46,
    "start_time": "2021-12-23T11:24:40.025Z"
   },
   {
    "duration": 10,
    "start_time": "2021-12-23T11:24:40.073Z"
   },
   {
    "duration": 5,
    "start_time": "2021-12-23T11:24:40.086Z"
   },
   {
    "duration": 9,
    "start_time": "2021-12-23T11:24:40.093Z"
   },
   {
    "duration": 6,
    "start_time": "2021-12-23T11:24:40.104Z"
   },
   {
    "duration": 274,
    "start_time": "2022-01-21T04:49:12.792Z"
   },
   {
    "duration": 573,
    "start_time": "2022-01-21T04:49:56.472Z"
   },
   {
    "duration": 133,
    "start_time": "2022-01-21T04:49:57.047Z"
   },
   {
    "duration": 16,
    "start_time": "2022-01-21T04:49:57.182Z"
   },
   {
    "duration": 63,
    "start_time": "2022-01-21T04:49:57.199Z"
   },
   {
    "duration": 33,
    "start_time": "2022-01-21T04:49:57.264Z"
   },
   {
    "duration": 61,
    "start_time": "2022-01-21T04:49:57.298Z"
   },
   {
    "duration": 35,
    "start_time": "2022-01-21T04:49:57.361Z"
   },
   {
    "duration": 41,
    "start_time": "2022-01-21T04:49:57.399Z"
   },
   {
    "duration": 37,
    "start_time": "2022-01-21T04:49:57.442Z"
   },
   {
    "duration": 40,
    "start_time": "2022-01-21T04:49:57.480Z"
   },
   {
    "duration": 63,
    "start_time": "2022-01-21T04:49:57.522Z"
   },
   {
    "duration": 66,
    "start_time": "2022-01-21T04:49:57.587Z"
   },
   {
    "duration": 44,
    "start_time": "2022-01-21T04:49:57.655Z"
   },
   {
    "duration": 47,
    "start_time": "2022-01-21T04:49:57.701Z"
   },
   {
    "duration": 6,
    "start_time": "2022-01-21T04:49:57.749Z"
   },
   {
    "duration": 14,
    "start_time": "2022-01-21T04:49:57.756Z"
   },
   {
    "duration": 3,
    "start_time": "2022-01-21T04:49:57.771Z"
   },
   {
    "duration": 35,
    "start_time": "2022-01-21T04:49:57.776Z"
   },
   {
    "duration": 52,
    "start_time": "2022-01-21T04:49:57.813Z"
   },
   {
    "duration": 11,
    "start_time": "2022-01-21T04:49:57.867Z"
   },
   {
    "duration": 9,
    "start_time": "2022-01-21T04:49:57.880Z"
   },
   {
    "duration": 2,
    "start_time": "2022-01-21T04:49:57.891Z"
   },
   {
    "duration": 4,
    "start_time": "2022-01-21T04:49:57.896Z"
   },
   {
    "duration": 40,
    "start_time": "2022-01-21T04:49:57.902Z"
   },
   {
    "duration": 14,
    "start_time": "2022-01-21T04:49:57.944Z"
   },
   {
    "duration": 14,
    "start_time": "2022-01-21T04:49:57.959Z"
   },
   {
    "duration": 14,
    "start_time": "2022-01-21T04:49:57.974Z"
   },
   {
    "duration": 15,
    "start_time": "2022-01-21T04:49:57.989Z"
   },
   {
    "duration": 42,
    "start_time": "2022-01-21T04:49:58.006Z"
   },
   {
    "duration": 62,
    "start_time": "2022-01-21T04:49:58.049Z"
   },
   {
    "duration": 29,
    "start_time": "2022-01-21T04:49:58.113Z"
   },
   {
    "duration": 14,
    "start_time": "2022-01-21T04:49:58.143Z"
   },
   {
    "duration": 3,
    "start_time": "2022-01-21T04:49:58.159Z"
   },
   {
    "duration": 302,
    "start_time": "2022-01-21T04:49:58.164Z"
   },
   {
    "duration": 141,
    "start_time": "2022-01-21T04:49:58.327Z"
   },
   {
    "duration": 135,
    "start_time": "2022-01-21T04:49:58.334Z"
   },
   {
    "duration": 130,
    "start_time": "2022-01-21T04:49:58.340Z"
   },
   {
    "duration": 121,
    "start_time": "2022-01-21T04:49:58.350Z"
   },
   {
    "duration": 119,
    "start_time": "2022-01-21T04:49:58.353Z"
   },
   {
    "duration": 116,
    "start_time": "2022-01-21T04:49:58.357Z"
   },
   {
    "duration": 112,
    "start_time": "2022-01-21T04:49:58.362Z"
   },
   {
    "duration": 107,
    "start_time": "2022-01-21T04:49:58.368Z"
   },
   {
    "duration": 105,
    "start_time": "2022-01-21T04:49:58.371Z"
   }
  ],
  "colab": {
   "collapsed_sections": [
    "E0vqbgi9ay0H",
    "VUC88oWjTJw2"
   ],
   "name": "yandex_music_project_2021.2.ipynb",
   "provenance": []
  },
  "kernelspec": {
   "display_name": "Python 3",
   "language": "python",
   "name": "python3"
  },
  "language_info": {
   "codemirror_mode": {
    "name": "ipython",
    "version": 3
   },
   "file_extension": ".py",
   "mimetype": "text/x-python",
   "name": "python",
   "nbconvert_exporter": "python",
   "pygments_lexer": "ipython3",
   "version": "3.7.8"
  },
  "toc": {
   "base_numbering": 1,
   "nav_menu": {},
   "number_sections": true,
   "sideBar": true,
   "skip_h1_title": true,
   "title_cell": "Table of Contents",
   "title_sidebar": "Contents",
   "toc_cell": false,
   "toc_position": {
    "height": "calc(100% - 180px)",
    "left": "10px",
    "top": "150px",
    "width": "293px"
   },
   "toc_section_display": true,
   "toc_window_display": true
  }
 },
 "nbformat": 4,
 "nbformat_minor": 1
}
