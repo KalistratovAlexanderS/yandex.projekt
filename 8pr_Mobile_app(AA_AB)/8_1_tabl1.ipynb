{
 "cells": [
  {
   "cell_type": "markdown",
   "id": "11738110",
   "metadata": {},
   "source": [
    "Автоматизация - подгтовка к проекту по средству tableau"
   ]
  },
  {
   "cell_type": "code",
   "execution_count": 1,
   "id": "d5a6a676",
   "metadata": {},
   "outputs": [
    {
     "name": "stdout",
     "output_type": "stream",
     "text": [
      "Requirement already satisfied: psycopg2-binary in /opt/conda/lib/python3.9/site-packages (2.9.2)\r\n"
     ]
    }
   ],
   "source": [
    "#!pip install psycopg2-binary\n",
    "# импортируем библиотеки\n",
    "import pandas as pd\n",
    "from sqlalchemy import create_engine\n",
    "\n",
    "db_config = {'user': 'praktikum_student', # имя пользователя\n",
    "            'pwd': 'Sdf4$2;d-d30pp', # пароль\n",
    "            'host': 'rc1b-wcoijxj3yxfsf3fs.mdb.yandexcloud.net',\n",
    "            'port': 6432, # порт подключения\n",
    "            'db': 'data-analyst-zen-project-db'} # название базы данных\n",
    "\n",
    "connection_string = 'postgresql://{}:{}@{}:{}/{}'.format(db_config['user'],\n",
    "                                                db_config['pwd'],\n",
    "                                                db_config['host'],\n",
    "                                                db_config['port'],\n",
    "                                                db_config['db'])\n",
    "\n",
    "engine = create_engine(connection_string)\n",
    "\n",
    "query= ''' SELECT * \n",
    "      FROM dash_visits\n",
    "      '''\n",
    "\n",
    "dash_visits = pd.io.sql.read_sql(query, con = engine)"
   ]
  },
  {
   "cell_type": "code",
   "execution_count": 2,
   "id": "64f10e6e",
   "metadata": {},
   "outputs": [],
   "source": [
    "dash_visits.to_csv('dash_visits.csv')"
   ]
  },
  {
   "cell_type": "code",
   "execution_count": 3,
   "id": "f853ee35",
   "metadata": {},
   "outputs": [
    {
     "data": {
      "text/html": [
       "<div>\n",
       "<style scoped>\n",
       "    .dataframe tbody tr th:only-of-type {\n",
       "        vertical-align: middle;\n",
       "    }\n",
       "\n",
       "    .dataframe tbody tr th {\n",
       "        vertical-align: top;\n",
       "    }\n",
       "\n",
       "    .dataframe thead th {\n",
       "        text-align: right;\n",
       "    }\n",
       "</style>\n",
       "<table border=\"1\" class=\"dataframe\">\n",
       "  <thead>\n",
       "    <tr style=\"text-align: right;\">\n",
       "      <th></th>\n",
       "      <th>record_id</th>\n",
       "      <th>item_topic</th>\n",
       "      <th>source_topic</th>\n",
       "      <th>age_segment</th>\n",
       "      <th>dt</th>\n",
       "      <th>visits</th>\n",
       "    </tr>\n",
       "  </thead>\n",
       "  <tbody>\n",
       "    <tr>\n",
       "      <th>0</th>\n",
       "      <td>1040597</td>\n",
       "      <td>Деньги</td>\n",
       "      <td>Авто</td>\n",
       "      <td>18-25</td>\n",
       "      <td>2019-09-24 18:32:00</td>\n",
       "      <td>3</td>\n",
       "    </tr>\n",
       "    <tr>\n",
       "      <th>1</th>\n",
       "      <td>1040598</td>\n",
       "      <td>Деньги</td>\n",
       "      <td>Авто</td>\n",
       "      <td>18-25</td>\n",
       "      <td>2019-09-24 18:35:00</td>\n",
       "      <td>1</td>\n",
       "    </tr>\n",
       "    <tr>\n",
       "      <th>2</th>\n",
       "      <td>1040599</td>\n",
       "      <td>Деньги</td>\n",
       "      <td>Авто</td>\n",
       "      <td>18-25</td>\n",
       "      <td>2019-09-24 18:54:00</td>\n",
       "      <td>4</td>\n",
       "    </tr>\n",
       "    <tr>\n",
       "      <th>3</th>\n",
       "      <td>1040600</td>\n",
       "      <td>Деньги</td>\n",
       "      <td>Авто</td>\n",
       "      <td>18-25</td>\n",
       "      <td>2019-09-24 18:55:00</td>\n",
       "      <td>17</td>\n",
       "    </tr>\n",
       "    <tr>\n",
       "      <th>4</th>\n",
       "      <td>1040601</td>\n",
       "      <td>Деньги</td>\n",
       "      <td>Авто</td>\n",
       "      <td>18-25</td>\n",
       "      <td>2019-09-24 18:56:00</td>\n",
       "      <td>27</td>\n",
       "    </tr>\n",
       "    <tr>\n",
       "      <th>...</th>\n",
       "      <td>...</td>\n",
       "      <td>...</td>\n",
       "      <td>...</td>\n",
       "      <td>...</td>\n",
       "      <td>...</td>\n",
       "      <td>...</td>\n",
       "    </tr>\n",
       "    <tr>\n",
       "      <th>30740</th>\n",
       "      <td>1071337</td>\n",
       "      <td>Юмор</td>\n",
       "      <td>Финансы</td>\n",
       "      <td>36-40</td>\n",
       "      <td>2019-09-24 18:57:00</td>\n",
       "      <td>2</td>\n",
       "    </tr>\n",
       "    <tr>\n",
       "      <th>30741</th>\n",
       "      <td>1071338</td>\n",
       "      <td>Юмор</td>\n",
       "      <td>Финансы</td>\n",
       "      <td>36-40</td>\n",
       "      <td>2019-09-24 19:00:00</td>\n",
       "      <td>1</td>\n",
       "    </tr>\n",
       "    <tr>\n",
       "      <th>30742</th>\n",
       "      <td>1071339</td>\n",
       "      <td>Юмор</td>\n",
       "      <td>Финансы</td>\n",
       "      <td>41-45</td>\n",
       "      <td>2019-09-24 18:54:00</td>\n",
       "      <td>1</td>\n",
       "    </tr>\n",
       "    <tr>\n",
       "      <th>30743</th>\n",
       "      <td>1071340</td>\n",
       "      <td>Юмор</td>\n",
       "      <td>Финансы</td>\n",
       "      <td>41-45</td>\n",
       "      <td>2019-09-24 18:56:00</td>\n",
       "      <td>1</td>\n",
       "    </tr>\n",
       "    <tr>\n",
       "      <th>30744</th>\n",
       "      <td>1071341</td>\n",
       "      <td>Юмор</td>\n",
       "      <td>Финансы</td>\n",
       "      <td>41-45</td>\n",
       "      <td>2019-09-24 19:00:00</td>\n",
       "      <td>1</td>\n",
       "    </tr>\n",
       "  </tbody>\n",
       "</table>\n",
       "<p>30745 rows × 6 columns</p>\n",
       "</div>"
      ],
      "text/plain": [
       "       record_id item_topic source_topic age_segment                  dt  \\\n",
       "0        1040597     Деньги         Авто       18-25 2019-09-24 18:32:00   \n",
       "1        1040598     Деньги         Авто       18-25 2019-09-24 18:35:00   \n",
       "2        1040599     Деньги         Авто       18-25 2019-09-24 18:54:00   \n",
       "3        1040600     Деньги         Авто       18-25 2019-09-24 18:55:00   \n",
       "4        1040601     Деньги         Авто       18-25 2019-09-24 18:56:00   \n",
       "...          ...        ...          ...         ...                 ...   \n",
       "30740    1071337       Юмор      Финансы       36-40 2019-09-24 18:57:00   \n",
       "30741    1071338       Юмор      Финансы       36-40 2019-09-24 19:00:00   \n",
       "30742    1071339       Юмор      Финансы       41-45 2019-09-24 18:54:00   \n",
       "30743    1071340       Юмор      Финансы       41-45 2019-09-24 18:56:00   \n",
       "30744    1071341       Юмор      Финансы       41-45 2019-09-24 19:00:00   \n",
       "\n",
       "       visits  \n",
       "0           3  \n",
       "1           1  \n",
       "2           4  \n",
       "3          17  \n",
       "4          27  \n",
       "...       ...  \n",
       "30740       2  \n",
       "30741       1  \n",
       "30742       1  \n",
       "30743       1  \n",
       "30744       1  \n",
       "\n",
       "[30745 rows x 6 columns]"
      ]
     },
     "execution_count": 3,
     "metadata": {},
     "output_type": "execute_result"
    }
   ],
   "source": [
    "dash_visits"
   ]
  },
  {
   "cell_type": "code",
   "execution_count": 4,
   "id": "b0b9f6f5",
   "metadata": {},
   "outputs": [
    {
     "data": {
      "text/plain": [
       "array(['Деньги', 'Дети', 'Женская психология', 'Женщины', 'Здоровье',\n",
       "       'Знаменитости', 'Интересные факты', 'Искусство', 'История',\n",
       "       'Красота', 'Культура', 'Наука', 'Общество', 'Отношения',\n",
       "       'Подборки', 'Полезные советы', 'Психология', 'Путешествия',\n",
       "       'Рассказы', 'Россия', 'Семья', 'Скандалы', 'Туризм', 'Шоу', 'Юмор'],\n",
       "      dtype=object)"
      ]
     },
     "execution_count": 4,
     "metadata": {},
     "output_type": "execute_result"
    }
   ],
   "source": [
    "dash_visits['item_topic'].unique()"
   ]
  },
  {
   "cell_type": "code",
   "execution_count": 6,
   "id": "75fa8cf3",
   "metadata": {},
   "outputs": [
    {
     "data": {
      "text/plain": [
       "array(['Авто', 'Деньги', 'Дети', 'Еда', 'Здоровье', 'Знаменитости',\n",
       "       'Интерьеры', 'Искусство', 'История', 'Кино', 'Музыка', 'Одежда',\n",
       "       'Полезные советы', 'Политика', 'Психология', 'Путешествия',\n",
       "       'Ремонт', 'Россия', 'Сад и дача', 'Сделай сам',\n",
       "       'Семейные отношения', 'Семья', 'Спорт', 'Строительство',\n",
       "       'Технологии', 'Финансы'], dtype=object)"
      ]
     },
     "execution_count": 6,
     "metadata": {},
     "output_type": "execute_result"
    }
   ],
   "source": [
    "dash_visits['source_topic'].unique()"
   ]
  },
  {
   "cell_type": "code",
   "execution_count": 7,
   "id": "62501115",
   "metadata": {},
   "outputs": [
    {
     "data": {
      "text/plain": [
       "Timestamp('2019-09-24 19:00:00')"
      ]
     },
     "execution_count": 7,
     "metadata": {},
     "output_type": "execute_result"
    }
   ],
   "source": [
    "dash_visits['dt'].max()"
   ]
  },
  {
   "cell_type": "code",
   "execution_count": 8,
   "id": "0b50024e",
   "metadata": {},
   "outputs": [
    {
     "data": {
      "text/plain": [
       "Timestamp('2019-09-24 18:28:00')"
      ]
     },
     "execution_count": 8,
     "metadata": {},
     "output_type": "execute_result"
    }
   ],
   "source": [
    "dash_visits['dt'].min()"
   ]
  },
  {
   "cell_type": "code",
   "execution_count": 9,
   "id": "ddcc5c30",
   "metadata": {},
   "outputs": [
    {
     "data": {
      "text/html": [
       "<div>\n",
       "<style scoped>\n",
       "    .dataframe tbody tr th:only-of-type {\n",
       "        vertical-align: middle;\n",
       "    }\n",
       "\n",
       "    .dataframe tbody tr th {\n",
       "        vertical-align: top;\n",
       "    }\n",
       "\n",
       "    .dataframe thead tr th {\n",
       "        text-align: left;\n",
       "    }\n",
       "\n",
       "    .dataframe thead tr:last-of-type th {\n",
       "        text-align: right;\n",
       "    }\n",
       "</style>\n",
       "<table border=\"1\" class=\"dataframe\">\n",
       "  <thead>\n",
       "    <tr>\n",
       "      <th></th>\n",
       "      <th>visits</th>\n",
       "    </tr>\n",
       "    <tr>\n",
       "      <th></th>\n",
       "      <th>sum</th>\n",
       "    </tr>\n",
       "    <tr>\n",
       "      <th>dt</th>\n",
       "      <th></th>\n",
       "    </tr>\n",
       "  </thead>\n",
       "  <tbody>\n",
       "    <tr>\n",
       "      <th>2019-09-24 18:58:00</th>\n",
       "      <td>61247</td>\n",
       "    </tr>\n",
       "    <tr>\n",
       "      <th>2019-09-24 18:57:00</th>\n",
       "      <td>60759</td>\n",
       "    </tr>\n",
       "    <tr>\n",
       "      <th>2019-09-24 18:56:00</th>\n",
       "      <td>54168</td>\n",
       "    </tr>\n",
       "    <tr>\n",
       "      <th>2019-09-24 18:59:00</th>\n",
       "      <td>53366</td>\n",
       "    </tr>\n",
       "    <tr>\n",
       "      <th>2019-09-24 18:55:00</th>\n",
       "      <td>32696</td>\n",
       "    </tr>\n",
       "    <tr>\n",
       "      <th>2019-09-24 19:00:00</th>\n",
       "      <td>17704</td>\n",
       "    </tr>\n",
       "    <tr>\n",
       "      <th>2019-09-24 18:54:00</th>\n",
       "      <td>14140</td>\n",
       "    </tr>\n",
       "    <tr>\n",
       "      <th>2019-09-24 18:31:00</th>\n",
       "      <td>2592</td>\n",
       "    </tr>\n",
       "    <tr>\n",
       "      <th>2019-09-24 18:32:00</th>\n",
       "      <td>2587</td>\n",
       "    </tr>\n",
       "    <tr>\n",
       "      <th>2019-09-24 18:30:00</th>\n",
       "      <td>2442</td>\n",
       "    </tr>\n",
       "    <tr>\n",
       "      <th>2019-09-24 18:53:00</th>\n",
       "      <td>2057</td>\n",
       "    </tr>\n",
       "    <tr>\n",
       "      <th>2019-09-24 18:29:00</th>\n",
       "      <td>1817</td>\n",
       "    </tr>\n",
       "    <tr>\n",
       "      <th>2019-09-24 18:33:00</th>\n",
       "      <td>1726</td>\n",
       "    </tr>\n",
       "    <tr>\n",
       "      <th>2019-09-24 18:52:00</th>\n",
       "      <td>1112</td>\n",
       "    </tr>\n",
       "    <tr>\n",
       "      <th>2019-09-24 18:28:00</th>\n",
       "      <td>835</td>\n",
       "    </tr>\n",
       "    <tr>\n",
       "      <th>2019-09-24 18:34:00</th>\n",
       "      <td>763</td>\n",
       "    </tr>\n",
       "    <tr>\n",
       "      <th>2019-09-24 18:35:00</th>\n",
       "      <td>196</td>\n",
       "    </tr>\n",
       "  </tbody>\n",
       "</table>\n",
       "</div>"
      ],
      "text/plain": [
       "                    visits\n",
       "                       sum\n",
       "dt                        \n",
       "2019-09-24 18:58:00  61247\n",
       "2019-09-24 18:57:00  60759\n",
       "2019-09-24 18:56:00  54168\n",
       "2019-09-24 18:59:00  53366\n",
       "2019-09-24 18:55:00  32696\n",
       "2019-09-24 19:00:00  17704\n",
       "2019-09-24 18:54:00  14140\n",
       "2019-09-24 18:31:00   2592\n",
       "2019-09-24 18:32:00   2587\n",
       "2019-09-24 18:30:00   2442\n",
       "2019-09-24 18:53:00   2057\n",
       "2019-09-24 18:29:00   1817\n",
       "2019-09-24 18:33:00   1726\n",
       "2019-09-24 18:52:00   1112\n",
       "2019-09-24 18:28:00    835\n",
       "2019-09-24 18:34:00    763\n",
       "2019-09-24 18:35:00    196"
      ]
     },
     "execution_count": 9,
     "metadata": {},
     "output_type": "execute_result"
    }
   ],
   "source": [
    "persent_item_1 = (dash_visits\n",
    "    .groupby('dt')\n",
    "    .agg({'visits':['sum']})\n",
    "    .sort_values(by=('visits', 'sum'), ascending=False)\n",
    "    .copy())\n",
    "persent_item_1"
   ]
  },
  {
   "cell_type": "code",
   "execution_count": 11,
   "id": "344a7ce0",
   "metadata": {},
   "outputs": [],
   "source": [
    "persent_item_topic = (dash_visits\n",
    "    .groupby('item_topic')\n",
    "    .agg({'visits':['sum']})\n",
    "    .sort_values(by=('visits', 'sum'), ascending=False)\n",
    "    .copy()\n",
    ")/dash_visits['visits'].sum()*100"
   ]
  },
  {
   "cell_type": "code",
   "execution_count": 12,
   "id": "2f325df4",
   "metadata": {},
   "outputs": [
    {
     "data": {
      "text/html": [
       "<div>\n",
       "<style scoped>\n",
       "    .dataframe tbody tr th:only-of-type {\n",
       "        vertical-align: middle;\n",
       "    }\n",
       "\n",
       "    .dataframe tbody tr th {\n",
       "        vertical-align: top;\n",
       "    }\n",
       "\n",
       "    .dataframe thead tr th {\n",
       "        text-align: left;\n",
       "    }\n",
       "\n",
       "    .dataframe thead tr:last-of-type th {\n",
       "        text-align: right;\n",
       "    }\n",
       "</style>\n",
       "<table border=\"1\" class=\"dataframe\">\n",
       "  <thead>\n",
       "    <tr>\n",
       "      <th></th>\n",
       "      <th>visits</th>\n",
       "    </tr>\n",
       "    <tr>\n",
       "      <th></th>\n",
       "      <th>sum</th>\n",
       "    </tr>\n",
       "    <tr>\n",
       "      <th>item_topic</th>\n",
       "      <th></th>\n",
       "    </tr>\n",
       "  </thead>\n",
       "  <tbody>\n",
       "    <tr>\n",
       "      <th>Наука</th>\n",
       "      <td>7.006934</td>\n",
       "    </tr>\n",
       "    <tr>\n",
       "      <th>Отношения</th>\n",
       "      <td>6.662003</td>\n",
       "    </tr>\n",
       "    <tr>\n",
       "      <th>Интересные факты</th>\n",
       "      <td>6.428611</td>\n",
       "    </tr>\n",
       "    <tr>\n",
       "      <th>Общество</th>\n",
       "      <td>6.331256</td>\n",
       "    </tr>\n",
       "    <tr>\n",
       "      <th>Подборки</th>\n",
       "      <td>5.729078</td>\n",
       "    </tr>\n",
       "    <tr>\n",
       "      <th>Россия</th>\n",
       "      <td>5.469251</td>\n",
       "    </tr>\n",
       "    <tr>\n",
       "      <th>Полезные советы</th>\n",
       "      <td>4.975710</td>\n",
       "    </tr>\n",
       "    <tr>\n",
       "      <th>История</th>\n",
       "      <td>4.960881</td>\n",
       "    </tr>\n",
       "    <tr>\n",
       "      <th>Семья</th>\n",
       "      <td>3.835181</td>\n",
       "    </tr>\n",
       "    <tr>\n",
       "      <th>Женщины</th>\n",
       "      <td>3.706880</td>\n",
       "    </tr>\n",
       "    <tr>\n",
       "      <th>Дети</th>\n",
       "      <td>3.542473</td>\n",
       "    </tr>\n",
       "    <tr>\n",
       "      <th>Рассказы</th>\n",
       "      <td>3.516684</td>\n",
       "    </tr>\n",
       "    <tr>\n",
       "      <th>Здоровье</th>\n",
       "      <td>3.352278</td>\n",
       "    </tr>\n",
       "    <tr>\n",
       "      <th>Деньги</th>\n",
       "      <td>3.317462</td>\n",
       "    </tr>\n",
       "    <tr>\n",
       "      <th>Культура</th>\n",
       "      <td>3.289739</td>\n",
       "    </tr>\n",
       "    <tr>\n",
       "      <th>Красота</th>\n",
       "      <td>3.163694</td>\n",
       "    </tr>\n",
       "    <tr>\n",
       "      <th>Туризм</th>\n",
       "      <td>3.066340</td>\n",
       "    </tr>\n",
       "    <tr>\n",
       "      <th>Юмор</th>\n",
       "      <td>3.029590</td>\n",
       "    </tr>\n",
       "    <tr>\n",
       "      <th>Скандалы</th>\n",
       "      <td>2.996064</td>\n",
       "    </tr>\n",
       "    <tr>\n",
       "      <th>Путешествия</th>\n",
       "      <td>2.985103</td>\n",
       "    </tr>\n",
       "    <tr>\n",
       "      <th>Искусство</th>\n",
       "      <td>2.745264</td>\n",
       "    </tr>\n",
       "    <tr>\n",
       "      <th>Психология</th>\n",
       "      <td>2.590528</td>\n",
       "    </tr>\n",
       "    <tr>\n",
       "      <th>Женская психология</th>\n",
       "      <td>2.494141</td>\n",
       "    </tr>\n",
       "    <tr>\n",
       "      <th>Шоу</th>\n",
       "      <td>2.421286</td>\n",
       "    </tr>\n",
       "    <tr>\n",
       "      <th>Знаменитости</th>\n",
       "      <td>2.383570</td>\n",
       "    </tr>\n",
       "  </tbody>\n",
       "</table>\n",
       "</div>"
      ],
      "text/plain": [
       "                      visits\n",
       "                         sum\n",
       "item_topic                  \n",
       "Наука               7.006934\n",
       "Отношения           6.662003\n",
       "Интересные факты    6.428611\n",
       "Общество            6.331256\n",
       "Подборки            5.729078\n",
       "Россия              5.469251\n",
       "Полезные советы     4.975710\n",
       "История             4.960881\n",
       "Семья               3.835181\n",
       "Женщины             3.706880\n",
       "Дети                3.542473\n",
       "Рассказы            3.516684\n",
       "Здоровье            3.352278\n",
       "Деньги              3.317462\n",
       "Культура            3.289739\n",
       "Красота             3.163694\n",
       "Туризм              3.066340\n",
       "Юмор                3.029590\n",
       "Скандалы            2.996064\n",
       "Путешествия         2.985103\n",
       "Искусство           2.745264\n",
       "Психология          2.590528\n",
       "Женская психология  2.494141\n",
       "Шоу                 2.421286\n",
       "Знаменитости        2.383570"
      ]
     },
     "execution_count": 12,
     "metadata": {},
     "output_type": "execute_result"
    }
   ],
   "source": [
    "persent_item_topic"
   ]
  },
  {
   "cell_type": "code",
   "execution_count": null,
   "id": "27d3f9c0",
   "metadata": {},
   "outputs": [],
   "source": []
  }
 ],
 "metadata": {
  "ExecuteTimeLog": [
   {
    "duration": 593,
    "start_time": "2022-05-13T11:17:01.557Z"
   },
   {
    "duration": 2,
    "start_time": "2022-05-13T11:17:12.580Z"
   },
   {
    "duration": 69,
    "start_time": "2022-05-13T11:17:15.548Z"
   },
   {
    "duration": 93,
    "start_time": "2022-05-13T11:17:23.437Z"
   },
   {
    "duration": 953,
    "start_time": "2022-05-13T11:18:01.557Z"
   },
   {
    "duration": 104,
    "start_time": "2022-05-13T11:18:31.278Z"
   },
   {
    "duration": 9,
    "start_time": "2022-05-13T11:18:46.245Z"
   },
   {
    "duration": 18,
    "start_time": "2022-05-13T11:19:00.549Z"
   },
   {
    "duration": 8,
    "start_time": "2022-05-13T11:19:03.469Z"
   },
   {
    "duration": 41,
    "start_time": "2022-05-13T11:19:52.268Z"
   },
   {
    "duration": 35,
    "start_time": "2022-05-13T11:19:58.308Z"
   },
   {
    "duration": 21,
    "start_time": "2022-05-13T11:20:04.301Z"
   },
   {
    "duration": 20,
    "start_time": "2022-05-13T11:20:15.388Z"
   },
   {
    "duration": 128,
    "start_time": "2022-05-13T11:21:52.654Z"
   },
   {
    "duration": 17,
    "start_time": "2022-05-13T11:22:03.421Z"
   },
   {
    "duration": 252,
    "start_time": "2022-05-13T11:22:16.399Z"
   },
   {
    "duration": 12,
    "start_time": "2022-05-13T11:22:17.710Z"
   },
   {
    "duration": 25,
    "start_time": "2022-05-13T11:22:45.736Z"
   },
   {
    "duration": 9,
    "start_time": "2022-05-13T11:22:47.150Z"
   },
   {
    "duration": 13860,
    "start_time": "2022-05-13T11:37:50.509Z"
   },
   {
    "duration": 16,
    "start_time": "2022-05-13T11:38:20.955Z"
   },
   {
    "duration": 4,
    "start_time": "2022-05-13T11:41:22.154Z"
   },
   {
    "duration": 189,
    "start_time": "2022-05-13T11:49:42.209Z"
   },
   {
    "duration": 201,
    "start_time": "2022-05-13T11:50:01.590Z"
   },
   {
    "duration": 159,
    "start_time": "2022-05-13T11:50:48.374Z"
   },
   {
    "duration": 158,
    "start_time": "2022-05-13T11:56:56.592Z"
   },
   {
    "duration": 11383,
    "start_time": "2022-05-14T05:36:53.015Z"
   },
   {
    "duration": 4,
    "start_time": "2022-05-14T05:37:39.046Z"
   },
   {
    "duration": 4,
    "start_time": "2022-05-14T05:37:48.234Z"
   },
   {
    "duration": 206,
    "start_time": "2022-05-14T05:37:50.814Z"
   },
   {
    "duration": 218,
    "start_time": "2022-05-14T05:38:19.693Z"
   },
   {
    "duration": 7,
    "start_time": "2022-05-14T05:38:23.503Z"
   },
   {
    "duration": 7,
    "start_time": "2022-05-14T05:38:25.093Z"
   },
   {
    "duration": 4,
    "start_time": "2022-05-14T05:40:12.194Z"
   },
   {
    "duration": 871,
    "start_time": "2022-05-14T05:40:15.015Z"
   },
   {
    "duration": 4,
    "start_time": "2022-05-14T06:20:04.706Z"
   },
   {
    "duration": 971,
    "start_time": "2022-05-14T06:20:06.425Z"
   },
   {
    "duration": 4,
    "start_time": "2022-05-14T06:37:35.754Z"
   },
   {
    "duration": 254,
    "start_time": "2022-05-14T06:37:37.974Z"
   },
   {
    "duration": 4,
    "start_time": "2022-05-14T06:38:56.250Z"
   },
   {
    "duration": 220,
    "start_time": "2022-05-14T06:38:57.541Z"
   },
   {
    "duration": 215,
    "start_time": "2022-05-14T06:44:39.215Z"
   },
   {
    "duration": 2398,
    "start_time": "2022-05-14T06:45:27.294Z"
   },
   {
    "duration": 2085,
    "start_time": "2022-05-14T06:45:40.125Z"
   },
   {
    "duration": 11296,
    "start_time": "2022-05-14T06:45:42.212Z"
   },
   {
    "duration": 65,
    "start_time": "2022-05-14T06:45:53.510Z"
   },
   {
    "duration": 0,
    "start_time": "2022-05-14T06:45:53.577Z"
   },
   {
    "duration": 2123,
    "start_time": "2022-05-14T06:45:57.362Z"
   },
   {
    "duration": 168,
    "start_time": "2022-05-14T06:46:05.701Z"
   },
   {
    "duration": 16,
    "start_time": "2022-05-14T06:46:31.104Z"
   },
   {
    "duration": 10,
    "start_time": "2022-05-14T06:50:23.981Z"
   },
   {
    "duration": 16,
    "start_time": "2022-05-14T06:50:42.702Z"
   },
   {
    "duration": 197,
    "start_time": "2022-05-14T06:52:21.824Z"
   },
   {
    "duration": 8,
    "start_time": "2022-05-14T06:53:24.712Z"
   },
   {
    "duration": 14,
    "start_time": "2022-05-14T06:53:29.714Z"
   },
   {
    "duration": 8,
    "start_time": "2022-05-14T06:54:45.192Z"
   },
   {
    "duration": 14,
    "start_time": "2022-05-14T06:55:06.781Z"
   },
   {
    "duration": 7,
    "start_time": "2022-05-14T06:55:22.032Z"
   },
   {
    "duration": 502,
    "start_time": "2022-05-14T06:55:33.972Z"
   },
   {
    "duration": 290,
    "start_time": "2022-05-14T06:57:40.782Z"
   },
   {
    "duration": 13,
    "start_time": "2022-05-14T07:12:37.842Z"
   },
   {
    "duration": 5,
    "start_time": "2022-05-14T08:30:15.304Z"
   },
   {
    "duration": 8,
    "start_time": "2022-05-14T08:31:02.480Z"
   },
   {
    "duration": 9,
    "start_time": "2022-05-14T08:31:10.971Z"
   },
   {
    "duration": 7,
    "start_time": "2022-05-14T08:31:36.216Z"
   },
   {
    "duration": 374,
    "start_time": "2022-05-14T08:31:44.982Z"
   },
   {
    "duration": 7,
    "start_time": "2022-05-14T08:32:03.355Z"
   },
   {
    "duration": 4,
    "start_time": "2022-05-14T08:49:54.181Z"
   },
   {
    "duration": 5,
    "start_time": "2022-05-14T10:46:14.308Z"
   },
   {
    "duration": 11,
    "start_time": "2022-05-14T13:41:11.669Z"
   },
   {
    "duration": 8,
    "start_time": "2022-05-14T13:41:18.071Z"
   },
   {
    "duration": 14,
    "start_time": "2022-05-14T13:41:47.900Z"
   },
   {
    "duration": 9,
    "start_time": "2022-05-14T13:41:50.880Z"
   },
   {
    "duration": 4,
    "start_time": "2022-05-14T13:42:21.402Z"
   },
   {
    "duration": 11,
    "start_time": "2022-05-14T13:42:29.079Z"
   },
   {
    "duration": 9,
    "start_time": "2022-05-14T13:42:31.110Z"
   },
   {
    "duration": 14,
    "start_time": "2022-05-14T13:42:36.532Z"
   },
   {
    "duration": 7,
    "start_time": "2022-05-14T13:42:39.270Z"
   },
   {
    "duration": 9,
    "start_time": "2022-05-14T13:44:20.320Z"
   },
   {
    "duration": 12,
    "start_time": "2022-05-14T13:44:22.700Z"
   },
   {
    "duration": 8,
    "start_time": "2022-05-14T13:44:23.630Z"
   },
   {
    "duration": 5,
    "start_time": "2022-05-14T14:13:53.268Z"
   },
   {
    "duration": 5,
    "start_time": "2022-05-14T14:14:01.462Z"
   },
   {
    "duration": 14,
    "start_time": "2022-05-14T14:16:52.928Z"
   },
   {
    "duration": 16125,
    "start_time": "2022-05-15T08:17:54.746Z"
   },
   {
    "duration": 445,
    "start_time": "2022-05-15T08:18:10.874Z"
   },
   {
    "duration": 30,
    "start_time": "2022-05-15T08:18:11.322Z"
   },
   {
    "duration": 9,
    "start_time": "2022-05-15T08:18:11.355Z"
   },
   {
    "duration": 184,
    "start_time": "2022-05-15T08:18:11.366Z"
   },
   {
    "duration": 0,
    "start_time": "2022-05-15T08:18:11.553Z"
   },
   {
    "duration": 0,
    "start_time": "2022-05-15T08:18:11.555Z"
   },
   {
    "duration": 0,
    "start_time": "2022-05-15T08:18:11.556Z"
   },
   {
    "duration": 0,
    "start_time": "2022-05-15T08:18:11.558Z"
   },
   {
    "duration": 0,
    "start_time": "2022-05-15T08:18:11.561Z"
   },
   {
    "duration": 0,
    "start_time": "2022-05-15T08:18:11.563Z"
   },
   {
    "duration": 11,
    "start_time": "2022-05-15T08:18:23.535Z"
   },
   {
    "duration": 7,
    "start_time": "2022-05-15T08:18:26.763Z"
   },
   {
    "duration": 7,
    "start_time": "2022-05-15T08:18:27.903Z"
   },
   {
    "duration": 19,
    "start_time": "2022-05-15T08:18:28.565Z"
   },
   {
    "duration": 6,
    "start_time": "2022-05-15T08:18:30.295Z"
   },
   {
    "duration": 19,
    "start_time": "2022-05-15T08:18:32.395Z"
   },
   {
    "duration": 12,
    "start_time": "2022-05-15T08:18:35.695Z"
   }
  ],
  "kernelspec": {
   "display_name": "Python 3 (ipykernel)",
   "language": "python",
   "name": "python3"
  },
  "language_info": {
   "codemirror_mode": {
    "name": "ipython",
    "version": 3
   },
   "file_extension": ".py",
   "mimetype": "text/x-python",
   "name": "python",
   "nbconvert_exporter": "python",
   "pygments_lexer": "ipython3",
   "version": "3.9.5"
  },
  "toc": {
   "base_numbering": 1,
   "nav_menu": {},
   "number_sections": true,
   "sideBar": true,
   "skip_h1_title": true,
   "title_cell": "Table of Contents",
   "title_sidebar": "Contents",
   "toc_cell": false,
   "toc_position": {},
   "toc_section_display": true,
   "toc_window_display": false
  }
 },
 "nbformat": 4,
 "nbformat_minor": 5
}
