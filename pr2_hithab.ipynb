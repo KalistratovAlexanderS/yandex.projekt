https://colab.research.google.com/gist/KalistratovAlexanderS/c2dc9eb393c3cd9e015eb9647cb5a9df/pr2_hithab.ipynb
{
 "cells": [
  {
   "cell_type": "markdown",
   "metadata": {},
   "source": [
    "# Исследование надёжности заёмщиков\n",
    "\n",
    "Заказчик — кредитный отдел банка. Нужно разобраться, влияет ли семейное положение и количество детей клиента на факт погашения кредита в срок. Входные данные от банка — статистика о платёжеспособности клиентов.\n",
    "\n",
    "Результаты исследования будут учтены при построении модели **кредитного скоринга** — специальной системы, которая оценивает способность потенциального заёмщика вернуть кредит банку."
   ]
  },
  {
   "cell_type": "markdown",
   "metadata": {},
   "source": [
    "## Шаг 1. Откройте файл с данными и изучите общую информацию"
   ]
  },
  {
   "cell_type": "code",
   "execution_count": 1,
   "metadata": {
    "scrolled": true
   },
   "outputs": [
    {
     "name": "stdout",
     "output_type": "stream",
     "text": [
      "<class 'pandas.core.frame.DataFrame'>\n",
      "RangeIndex: 21525 entries, 0 to 21524\n",
      "Data columns (total 12 columns):\n",
      "children            21525 non-null int64\n",
      "days_employed       19351 non-null float64\n",
      "dob_years           21525 non-null int64\n",
      "education           21525 non-null object\n",
      "education_id        21525 non-null int64\n",
      "family_status       21525 non-null object\n",
      "family_status_id    21525 non-null int64\n",
      "gender              21525 non-null object\n",
      "income_type         21525 non-null object\n",
      "debt                21525 non-null int64\n",
      "total_income        19351 non-null float64\n",
      "purpose             21525 non-null object\n",
      "dtypes: float64(2), int64(5), object(5)\n",
      "memory usage: 2.0+ MB\n"
     ]
    }
   ],
   "source": [
    "import pandas as pd # импорт библиотеки pandas\n",
    "df = pd.read_csv('/datasets/data.csv') # чтение файла с данными\n",
    "df.info()"
   ]
  },
  {
   "cell_type": "code",
   "execution_count": 2,
   "metadata": {},
   "outputs": [
    {
     "data": {
      "text/html": [
       "<div>\n",
       "<style scoped>\n",
       "    .dataframe tbody tr th:only-of-type {\n",
       "        vertical-align: middle;\n",
       "    }\n",
       "\n",
       "    .dataframe tbody tr th {\n",
       "        vertical-align: top;\n",
       "    }\n",
       "\n",
       "    .dataframe thead th {\n",
       "        text-align: right;\n",
       "    }\n",
       "</style>\n",
       "<table border=\"1\" class=\"dataframe\">\n",
       "  <thead>\n",
       "    <tr style=\"text-align: right;\">\n",
       "      <th></th>\n",
       "      <th>children</th>\n",
       "      <th>days_employed</th>\n",
       "      <th>dob_years</th>\n",
       "      <th>education</th>\n",
       "      <th>education_id</th>\n",
       "      <th>family_status</th>\n",
       "      <th>family_status_id</th>\n",
       "      <th>gender</th>\n",
       "      <th>income_type</th>\n",
       "      <th>debt</th>\n",
       "      <th>total_income</th>\n",
       "      <th>purpose</th>\n",
       "    </tr>\n",
       "  </thead>\n",
       "  <tbody>\n",
       "    <tr>\n",
       "      <td>0</td>\n",
       "      <td>1</td>\n",
       "      <td>-8437.673028</td>\n",
       "      <td>42</td>\n",
       "      <td>высшее</td>\n",
       "      <td>0</td>\n",
       "      <td>женат / замужем</td>\n",
       "      <td>0</td>\n",
       "      <td>F</td>\n",
       "      <td>сотрудник</td>\n",
       "      <td>0</td>\n",
       "      <td>253875.639453</td>\n",
       "      <td>покупка жилья</td>\n",
       "    </tr>\n",
       "    <tr>\n",
       "      <td>1</td>\n",
       "      <td>1</td>\n",
       "      <td>-4024.803754</td>\n",
       "      <td>36</td>\n",
       "      <td>среднее</td>\n",
       "      <td>1</td>\n",
       "      <td>женат / замужем</td>\n",
       "      <td>0</td>\n",
       "      <td>F</td>\n",
       "      <td>сотрудник</td>\n",
       "      <td>0</td>\n",
       "      <td>112080.014102</td>\n",
       "      <td>приобретение автомобиля</td>\n",
       "    </tr>\n",
       "    <tr>\n",
       "      <td>2</td>\n",
       "      <td>0</td>\n",
       "      <td>-5623.422610</td>\n",
       "      <td>33</td>\n",
       "      <td>Среднее</td>\n",
       "      <td>1</td>\n",
       "      <td>женат / замужем</td>\n",
       "      <td>0</td>\n",
       "      <td>M</td>\n",
       "      <td>сотрудник</td>\n",
       "      <td>0</td>\n",
       "      <td>145885.952297</td>\n",
       "      <td>покупка жилья</td>\n",
       "    </tr>\n",
       "    <tr>\n",
       "      <td>3</td>\n",
       "      <td>3</td>\n",
       "      <td>-4124.747207</td>\n",
       "      <td>32</td>\n",
       "      <td>среднее</td>\n",
       "      <td>1</td>\n",
       "      <td>женат / замужем</td>\n",
       "      <td>0</td>\n",
       "      <td>M</td>\n",
       "      <td>сотрудник</td>\n",
       "      <td>0</td>\n",
       "      <td>267628.550329</td>\n",
       "      <td>дополнительное образование</td>\n",
       "    </tr>\n",
       "    <tr>\n",
       "      <td>4</td>\n",
       "      <td>0</td>\n",
       "      <td>340266.072047</td>\n",
       "      <td>53</td>\n",
       "      <td>среднее</td>\n",
       "      <td>1</td>\n",
       "      <td>гражданский брак</td>\n",
       "      <td>1</td>\n",
       "      <td>F</td>\n",
       "      <td>пенсионер</td>\n",
       "      <td>0</td>\n",
       "      <td>158616.077870</td>\n",
       "      <td>сыграть свадьбу</td>\n",
       "    </tr>\n",
       "    <tr>\n",
       "      <td>5</td>\n",
       "      <td>0</td>\n",
       "      <td>-926.185831</td>\n",
       "      <td>27</td>\n",
       "      <td>высшее</td>\n",
       "      <td>0</td>\n",
       "      <td>гражданский брак</td>\n",
       "      <td>1</td>\n",
       "      <td>M</td>\n",
       "      <td>компаньон</td>\n",
       "      <td>0</td>\n",
       "      <td>255763.565419</td>\n",
       "      <td>покупка жилья</td>\n",
       "    </tr>\n",
       "    <tr>\n",
       "      <td>6</td>\n",
       "      <td>0</td>\n",
       "      <td>-2879.202052</td>\n",
       "      <td>43</td>\n",
       "      <td>высшее</td>\n",
       "      <td>0</td>\n",
       "      <td>женат / замужем</td>\n",
       "      <td>0</td>\n",
       "      <td>F</td>\n",
       "      <td>компаньон</td>\n",
       "      <td>0</td>\n",
       "      <td>240525.971920</td>\n",
       "      <td>операции с жильем</td>\n",
       "    </tr>\n",
       "    <tr>\n",
       "      <td>7</td>\n",
       "      <td>0</td>\n",
       "      <td>-152.779569</td>\n",
       "      <td>50</td>\n",
       "      <td>СРЕДНЕЕ</td>\n",
       "      <td>1</td>\n",
       "      <td>женат / замужем</td>\n",
       "      <td>0</td>\n",
       "      <td>M</td>\n",
       "      <td>сотрудник</td>\n",
       "      <td>0</td>\n",
       "      <td>135823.934197</td>\n",
       "      <td>образование</td>\n",
       "    </tr>\n",
       "    <tr>\n",
       "      <td>8</td>\n",
       "      <td>2</td>\n",
       "      <td>-6929.865299</td>\n",
       "      <td>35</td>\n",
       "      <td>ВЫСШЕЕ</td>\n",
       "      <td>0</td>\n",
       "      <td>гражданский брак</td>\n",
       "      <td>1</td>\n",
       "      <td>F</td>\n",
       "      <td>сотрудник</td>\n",
       "      <td>0</td>\n",
       "      <td>95856.832424</td>\n",
       "      <td>на проведение свадьбы</td>\n",
       "    </tr>\n",
       "    <tr>\n",
       "      <td>9</td>\n",
       "      <td>0</td>\n",
       "      <td>-2188.756445</td>\n",
       "      <td>41</td>\n",
       "      <td>среднее</td>\n",
       "      <td>1</td>\n",
       "      <td>женат / замужем</td>\n",
       "      <td>0</td>\n",
       "      <td>M</td>\n",
       "      <td>сотрудник</td>\n",
       "      <td>0</td>\n",
       "      <td>144425.938277</td>\n",
       "      <td>покупка жилья для семьи</td>\n",
       "    </tr>\n",
       "  </tbody>\n",
       "</table>\n",
       "</div>"
      ],
      "text/plain": [
       "   children  days_employed  dob_years education  education_id  \\\n",
       "0         1   -8437.673028         42    высшее             0   \n",
       "1         1   -4024.803754         36   среднее             1   \n",
       "2         0   -5623.422610         33   Среднее             1   \n",
       "3         3   -4124.747207         32   среднее             1   \n",
       "4         0  340266.072047         53   среднее             1   \n",
       "5         0    -926.185831         27    высшее             0   \n",
       "6         0   -2879.202052         43    высшее             0   \n",
       "7         0    -152.779569         50   СРЕДНЕЕ             1   \n",
       "8         2   -6929.865299         35    ВЫСШЕЕ             0   \n",
       "9         0   -2188.756445         41   среднее             1   \n",
       "\n",
       "      family_status  family_status_id gender income_type  debt   total_income  \\\n",
       "0   женат / замужем                 0      F   сотрудник     0  253875.639453   \n",
       "1   женат / замужем                 0      F   сотрудник     0  112080.014102   \n",
       "2   женат / замужем                 0      M   сотрудник     0  145885.952297   \n",
       "3   женат / замужем                 0      M   сотрудник     0  267628.550329   \n",
       "4  гражданский брак                 1      F   пенсионер     0  158616.077870   \n",
       "5  гражданский брак                 1      M   компаньон     0  255763.565419   \n",
       "6   женат / замужем                 0      F   компаньон     0  240525.971920   \n",
       "7   женат / замужем                 0      M   сотрудник     0  135823.934197   \n",
       "8  гражданский брак                 1      F   сотрудник     0   95856.832424   \n",
       "9   женат / замужем                 0      M   сотрудник     0  144425.938277   \n",
       "\n",
       "                      purpose  \n",
       "0               покупка жилья  \n",
       "1     приобретение автомобиля  \n",
       "2               покупка жилья  \n",
       "3  дополнительное образование  \n",
       "4             сыграть свадьбу  \n",
       "5               покупка жилья  \n",
       "6           операции с жильем  \n",
       "7                 образование  \n",
       "8       на проведение свадьбы  \n",
       "9     покупка жилья для семьи  "
      ]
     },
     "metadata": {},
     "output_type": "display_data"
    }
   ],
   "source": [
    "# посмoтрим какие значения есть в таблице, чтобы оценить их реалистичность\n",
    "\n",
    "display(df.head(10))"
   ]
  },
  {
   "cell_type": "code",
   "execution_count": 3,
   "metadata": {
    "scrolled": true
   },
   "outputs": [
    {
     "data": {
      "text/plain": [
       "children               0\n",
       "days_employed       2174\n",
       "dob_years              0\n",
       "education              0\n",
       "education_id           0\n",
       "family_status          0\n",
       "family_status_id       0\n",
       "gender                 0\n",
       "income_type            0\n",
       "debt                   0\n",
       "total_income        2174\n",
       "purpose                0\n",
       "dtype: int64"
      ]
     },
     "metadata": {},
     "output_type": "display_data"
    }
   ],
   "source": [
    "# проверим есть  ли пропуски  \n",
    "display(df.isna().sum())"
   ]
  },
  {
   "cell_type": "code",
   "execution_count": 4,
   "metadata": {},
   "outputs": [
    {
     "data": {
      "text/plain": [
       " 0     14149\n",
       " 1      4818\n",
       " 2      2055\n",
       " 3       330\n",
       " 20       76\n",
       "-1        47\n",
       " 4        41\n",
       " 5         9\n",
       "Name: children, dtype: int64"
      ]
     },
     "execution_count": 4,
     "metadata": {},
     "output_type": "execute_result"
    }
   ],
   "source": [
    "#по скольку главный вопрос крединого отдела - нужно разобраться, влияет ли семейное положение и количество детей, \n",
    "#подсчитаем уникальаные значения по столбцам children \n",
    "\n",
    "df['children'].value_counts()"
   ]
  },
  {
   "cell_type": "code",
   "execution_count": 5,
   "metadata": {},
   "outputs": [
    {
     "data": {
      "text/plain": [
       "женат / замужем          12380\n",
       "гражданский брак          4177\n",
       "Не женат / не замужем     2813\n",
       "в разводе                 1195\n",
       "вдовец / вдова             960\n",
       "Name: family_status, dtype: int64"
      ]
     },
     "execution_count": 5,
     "metadata": {},
     "output_type": "execute_result"
    }
   ],
   "source": [
    "#и family_status\n",
    "\n",
    "df['family_status'].value_counts()"
   ]
  },
  {
   "cell_type": "code",
   "execution_count": 6,
   "metadata": {},
   "outputs": [
    {
     "data": {
      "text/plain": [
       "F      14236\n",
       "M       7288\n",
       "XNA        1\n",
       "Name: gender, dtype: int64"
      ]
     },
     "execution_count": 6,
     "metadata": {},
     "output_type": "execute_result"
    }
   ],
   "source": [
    "#и gender\n",
    "\n",
    "df['gender'].value_counts()"
   ]
  },
  {
   "cell_type": "code",
   "execution_count": 7,
   "metadata": {},
   "outputs": [
    {
     "data": {
      "text/plain": [
       "F    14236\n",
       "M     7288\n",
       "Name: gender, dtype: int64"
      ]
     },
     "execution_count": 7,
     "metadata": {},
     "output_type": "execute_result"
    }
   ],
   "source": [
    "#сразу удилим XNA значение как \"артифакт\"\n",
    "\n",
    "df=df.drop(df[df['gender']=='XNA'].index)\n",
    "df['gender'].value_counts()"
   ]
  },
  {
   "cell_type": "markdown",
   "metadata": {},
   "source": [
    "**Вывод**"
   ]
  },
  {
   "cell_type": "markdown",
   "metadata": {},
   "source": [
    "Из анализа таблицы видно, что в ряде колонках данные не заполнены(скорее всего пользователи просто подали заявку на кредит без указания данных о себе), также есть данные которые не приведены к нужному типу (вещественный вместо целых, объект вместо строки), некоторые значение которые должны быть целыми и положительными (стаж работы, доход) - записаны в виде отрицательного числа. Есть не присущий значения - артефакты. Данные в столбце с кол-вом детей не корректны (сильно завышены и отрицательные)"
   ]
  },
  {
   "cell_type": "markdown",
   "metadata": {},
   "source": [
    "## Шаг 2. Предобработка данных"
   ]
  },
  {
   "cell_type": "markdown",
   "metadata": {},
   "source": [
    "### Обработка пропусков"
   ]
  },
  {
   "cell_type": "code",
   "execution_count": 8,
   "metadata": {},
   "outputs": [
    {
     "data": {
      "text/html": [
       "<div>\n",
       "<style scoped>\n",
       "    .dataframe tbody tr th:only-of-type {\n",
       "        vertical-align: middle;\n",
       "    }\n",
       "\n",
       "    .dataframe tbody tr th {\n",
       "        vertical-align: top;\n",
       "    }\n",
       "\n",
       "    .dataframe thead th {\n",
       "        text-align: right;\n",
       "    }\n",
       "</style>\n",
       "<table border=\"1\" class=\"dataframe\">\n",
       "  <thead>\n",
       "    <tr style=\"text-align: right;\">\n",
       "      <th></th>\n",
       "      <th>children</th>\n",
       "      <th>days_employed</th>\n",
       "      <th>dob_years</th>\n",
       "      <th>education</th>\n",
       "      <th>education_id</th>\n",
       "      <th>family_status</th>\n",
       "      <th>family_status_id</th>\n",
       "      <th>gender</th>\n",
       "      <th>income_type</th>\n",
       "      <th>debt</th>\n",
       "      <th>total_income</th>\n",
       "      <th>purpose</th>\n",
       "    </tr>\n",
       "  </thead>\n",
       "  <tbody>\n",
       "    <tr>\n",
       "      <td>21515</td>\n",
       "      <td>1</td>\n",
       "      <td>63049.87777</td>\n",
       "      <td>28</td>\n",
       "      <td>среднее</td>\n",
       "      <td>1</td>\n",
       "      <td>женат / замужем</td>\n",
       "      <td>0</td>\n",
       "      <td>F</td>\n",
       "      <td>сотрудник</td>\n",
       "      <td>1</td>\n",
       "      <td>109486.327999</td>\n",
       "      <td>заняться образованием</td>\n",
       "    </tr>\n",
       "    <tr>\n",
       "      <td>21516</td>\n",
       "      <td>0</td>\n",
       "      <td>63049.87777</td>\n",
       "      <td>42</td>\n",
       "      <td>высшее</td>\n",
       "      <td>0</td>\n",
       "      <td>женат / замужем</td>\n",
       "      <td>0</td>\n",
       "      <td>F</td>\n",
       "      <td>компаньон</td>\n",
       "      <td>0</td>\n",
       "      <td>322807.776603</td>\n",
       "      <td>покупка своего жилья</td>\n",
       "    </tr>\n",
       "    <tr>\n",
       "      <td>21517</td>\n",
       "      <td>0</td>\n",
       "      <td>63049.87777</td>\n",
       "      <td>42</td>\n",
       "      <td>высшее</td>\n",
       "      <td>0</td>\n",
       "      <td>гражданский брак</td>\n",
       "      <td>1</td>\n",
       "      <td>F</td>\n",
       "      <td>компаньон</td>\n",
       "      <td>0</td>\n",
       "      <td>178059.553491</td>\n",
       "      <td>на покупку своего автомобиля</td>\n",
       "    </tr>\n",
       "    <tr>\n",
       "      <td>21518</td>\n",
       "      <td>0</td>\n",
       "      <td>63049.87777</td>\n",
       "      <td>59</td>\n",
       "      <td>СРЕДНЕЕ</td>\n",
       "      <td>1</td>\n",
       "      <td>женат / замужем</td>\n",
       "      <td>0</td>\n",
       "      <td>F</td>\n",
       "      <td>пенсионер</td>\n",
       "      <td>0</td>\n",
       "      <td>153864.650328</td>\n",
       "      <td>сделка с автомобилем</td>\n",
       "    </tr>\n",
       "    <tr>\n",
       "      <td>21519</td>\n",
       "      <td>1</td>\n",
       "      <td>63049.87777</td>\n",
       "      <td>37</td>\n",
       "      <td>ученая степень</td>\n",
       "      <td>4</td>\n",
       "      <td>в разводе</td>\n",
       "      <td>3</td>\n",
       "      <td>M</td>\n",
       "      <td>сотрудник</td>\n",
       "      <td>0</td>\n",
       "      <td>115949.039788</td>\n",
       "      <td>покупка коммерческой недвижимости</td>\n",
       "    </tr>\n",
       "    <tr>\n",
       "      <td>21520</td>\n",
       "      <td>1</td>\n",
       "      <td>63049.87777</td>\n",
       "      <td>43</td>\n",
       "      <td>среднее</td>\n",
       "      <td>1</td>\n",
       "      <td>гражданский брак</td>\n",
       "      <td>1</td>\n",
       "      <td>F</td>\n",
       "      <td>компаньон</td>\n",
       "      <td>0</td>\n",
       "      <td>224791.862382</td>\n",
       "      <td>операции с жильем</td>\n",
       "    </tr>\n",
       "    <tr>\n",
       "      <td>21521</td>\n",
       "      <td>0</td>\n",
       "      <td>63049.87777</td>\n",
       "      <td>67</td>\n",
       "      <td>среднее</td>\n",
       "      <td>1</td>\n",
       "      <td>женат / замужем</td>\n",
       "      <td>0</td>\n",
       "      <td>F</td>\n",
       "      <td>пенсионер</td>\n",
       "      <td>0</td>\n",
       "      <td>155999.806512</td>\n",
       "      <td>сделка с автомобилем</td>\n",
       "    </tr>\n",
       "    <tr>\n",
       "      <td>21522</td>\n",
       "      <td>1</td>\n",
       "      <td>63049.87777</td>\n",
       "      <td>38</td>\n",
       "      <td>среднее</td>\n",
       "      <td>1</td>\n",
       "      <td>гражданский брак</td>\n",
       "      <td>1</td>\n",
       "      <td>M</td>\n",
       "      <td>сотрудник</td>\n",
       "      <td>1</td>\n",
       "      <td>89672.561153</td>\n",
       "      <td>недвижимость</td>\n",
       "    </tr>\n",
       "    <tr>\n",
       "      <td>21523</td>\n",
       "      <td>3</td>\n",
       "      <td>63049.87777</td>\n",
       "      <td>38</td>\n",
       "      <td>среднее</td>\n",
       "      <td>1</td>\n",
       "      <td>женат / замужем</td>\n",
       "      <td>0</td>\n",
       "      <td>M</td>\n",
       "      <td>сотрудник</td>\n",
       "      <td>1</td>\n",
       "      <td>244093.050500</td>\n",
       "      <td>на покупку своего автомобиля</td>\n",
       "    </tr>\n",
       "    <tr>\n",
       "      <td>21524</td>\n",
       "      <td>2</td>\n",
       "      <td>63049.87777</td>\n",
       "      <td>40</td>\n",
       "      <td>среднее</td>\n",
       "      <td>1</td>\n",
       "      <td>женат / замужем</td>\n",
       "      <td>0</td>\n",
       "      <td>F</td>\n",
       "      <td>сотрудник</td>\n",
       "      <td>0</td>\n",
       "      <td>82047.418899</td>\n",
       "      <td>на покупку автомобиля</td>\n",
       "    </tr>\n",
       "  </tbody>\n",
       "</table>\n",
       "</div>"
      ],
      "text/plain": [
       "       children  days_employed  dob_years       education  education_id  \\\n",
       "21515         1    63049.87777         28         среднее             1   \n",
       "21516         0    63049.87777         42          высшее             0   \n",
       "21517         0    63049.87777         42          высшее             0   \n",
       "21518         0    63049.87777         59         СРЕДНЕЕ             1   \n",
       "21519         1    63049.87777         37  ученая степень             4   \n",
       "21520         1    63049.87777         43         среднее             1   \n",
       "21521         0    63049.87777         67         среднее             1   \n",
       "21522         1    63049.87777         38         среднее             1   \n",
       "21523         3    63049.87777         38         среднее             1   \n",
       "21524         2    63049.87777         40         среднее             1   \n",
       "\n",
       "          family_status  family_status_id gender income_type  debt  \\\n",
       "21515   женат / замужем                 0      F   сотрудник     1   \n",
       "21516   женат / замужем                 0      F   компаньон     0   \n",
       "21517  гражданский брак                 1      F   компаньон     0   \n",
       "21518   женат / замужем                 0      F   пенсионер     0   \n",
       "21519         в разводе                 3      M   сотрудник     0   \n",
       "21520  гражданский брак                 1      F   компаньон     0   \n",
       "21521   женат / замужем                 0      F   пенсионер     0   \n",
       "21522  гражданский брак                 1      M   сотрудник     1   \n",
       "21523   женат / замужем                 0      M   сотрудник     1   \n",
       "21524   женат / замужем                 0      F   сотрудник     0   \n",
       "\n",
       "        total_income                            purpose  \n",
       "21515  109486.327999              заняться образованием  \n",
       "21516  322807.776603               покупка своего жилья  \n",
       "21517  178059.553491       на покупку своего автомобиля  \n",
       "21518  153864.650328               сделка с автомобилем  \n",
       "21519  115949.039788  покупка коммерческой недвижимости  \n",
       "21520  224791.862382                  операции с жильем  \n",
       "21521  155999.806512               сделка с автомобилем  \n",
       "21522   89672.561153                       недвижимость  \n",
       "21523  244093.050500       на покупку своего автомобиля  \n",
       "21524   82047.418899              на покупку автомобиля  "
      ]
     },
     "metadata": {},
     "output_type": "display_data"
    }
   ],
   "source": [
    "#Доля пропусков по следующим колонкам days_employed и total_income одинакова\n",
    "#возможные причины появления пропусков - технические проблемы при выгрузке\n",
    "#  пропуски заменяем средним значением \n",
    "\n",
    "df['days_employed'] = df['days_employed'].mean()\n",
    "display(df.tail(10))"
   ]
  },
  {
   "cell_type": "code",
   "execution_count": 9,
   "metadata": {},
   "outputs": [],
   "source": [
    "#данные по столбцу total_income важны для дальнейшего анализа, поэтому заменим пропущенные зачения медианой\n",
    "\n",
    "#добавим комментарии чтобы проверить  группы с НаН\n",
    "\n",
    "#total_income_median = df['total_income'].median()\n",
    "#df['total_income'] = df['total_income'].fillna(total_income_median)"
   ]
  },
  {
   "cell_type": "code",
   "execution_count": 10,
   "metadata": {},
   "outputs": [
    {
     "data": {
      "text/plain": [
       "['госслужащий',\n",
       " 'студент',\n",
       " 'в декрете',\n",
       " 'сотрудник',\n",
       " 'безработный',\n",
       " 'пенсионер',\n",
       " 'компаньон',\n",
       " 'предприниматель']"
      ]
     },
     "metadata": {},
     "output_type": "display_data"
    }
   ],
   "source": [
    "#\n",
    "df['total_income'].value_counts()\n",
    "#display(df[15100:15120])\n",
    "unique_income_type = list(set(df['income_type']))\n",
    "display(unique_income_type)"
   ]
  },
  {
   "cell_type": "code",
   "execution_count": 11,
   "metadata": {},
   "outputs": [
    {
     "data": {
      "text/html": [
       "<div>\n",
       "<style scoped>\n",
       "    .dataframe tbody tr th:only-of-type {\n",
       "        vertical-align: middle;\n",
       "    }\n",
       "\n",
       "    .dataframe tbody tr th {\n",
       "        vertical-align: top;\n",
       "    }\n",
       "\n",
       "    .dataframe thead th {\n",
       "        text-align: right;\n",
       "    }\n",
       "</style>\n",
       "<table border=\"1\" class=\"dataframe\">\n",
       "  <thead>\n",
       "    <tr style=\"text-align: right;\">\n",
       "      <th>education</th>\n",
       "      <th>ВЫСШЕЕ</th>\n",
       "      <th>Высшее</th>\n",
       "      <th>НАЧАЛЬНОЕ</th>\n",
       "      <th>НЕОКОНЧЕННОЕ ВЫСШЕЕ</th>\n",
       "      <th>Начальное</th>\n",
       "      <th>Неоконченное высшее</th>\n",
       "      <th>СРЕДНЕЕ</th>\n",
       "      <th>Среднее</th>\n",
       "      <th>УЧЕНАЯ СТЕПЕНЬ</th>\n",
       "      <th>Ученая степень</th>\n",
       "      <th>высшее</th>\n",
       "      <th>начальное</th>\n",
       "      <th>неоконченное высшее</th>\n",
       "      <th>среднее</th>\n",
       "      <th>ученая степень</th>\n",
       "    </tr>\n",
       "    <tr>\n",
       "      <th>income_type</th>\n",
       "      <th></th>\n",
       "      <th></th>\n",
       "      <th></th>\n",
       "      <th></th>\n",
       "      <th></th>\n",
       "      <th></th>\n",
       "      <th></th>\n",
       "      <th></th>\n",
       "      <th></th>\n",
       "      <th></th>\n",
       "      <th></th>\n",
       "      <th></th>\n",
       "      <th></th>\n",
       "      <th></th>\n",
       "      <th></th>\n",
       "    </tr>\n",
       "  </thead>\n",
       "  <tbody>\n",
       "    <tr>\n",
       "      <td>безработный</td>\n",
       "      <td>NaN</td>\n",
       "      <td>202722.511368</td>\n",
       "      <td>NaN</td>\n",
       "      <td>NaN</td>\n",
       "      <td>NaN</td>\n",
       "      <td>NaN</td>\n",
       "      <td>NaN</td>\n",
       "      <td>NaN</td>\n",
       "      <td>NaN</td>\n",
       "      <td>NaN</td>\n",
       "      <td>NaN</td>\n",
       "      <td>NaN</td>\n",
       "      <td>NaN</td>\n",
       "      <td>59956.991984</td>\n",
       "      <td>NaN</td>\n",
       "    </tr>\n",
       "    <tr>\n",
       "      <td>в декрете</td>\n",
       "      <td>NaN</td>\n",
       "      <td>NaN</td>\n",
       "      <td>NaN</td>\n",
       "      <td>NaN</td>\n",
       "      <td>NaN</td>\n",
       "      <td>NaN</td>\n",
       "      <td>53829.130729</td>\n",
       "      <td>NaN</td>\n",
       "      <td>NaN</td>\n",
       "      <td>NaN</td>\n",
       "      <td>NaN</td>\n",
       "      <td>NaN</td>\n",
       "      <td>NaN</td>\n",
       "      <td>NaN</td>\n",
       "      <td>NaN</td>\n",
       "    </tr>\n",
       "    <tr>\n",
       "      <td>госслужащий</td>\n",
       "      <td>174909.179988</td>\n",
       "      <td>161671.347625</td>\n",
       "      <td>NaN</td>\n",
       "      <td>NaN</td>\n",
       "      <td>190912.178349</td>\n",
       "      <td>107224.860090</td>\n",
       "      <td>132756.053048</td>\n",
       "      <td>148529.629601</td>\n",
       "      <td>NaN</td>\n",
       "      <td>NaN</td>\n",
       "      <td>172511.107016</td>\n",
       "      <td>105766.403301</td>\n",
       "      <td>165106.669771</td>\n",
       "      <td>136652.970357</td>\n",
       "      <td>111392.231107</td>\n",
       "    </tr>\n",
       "    <tr>\n",
       "      <td>компаньон</td>\n",
       "      <td>200701.997023</td>\n",
       "      <td>192451.667511</td>\n",
       "      <td>190952.908390</td>\n",
       "      <td>145528.679914</td>\n",
       "      <td>88227.830722</td>\n",
       "      <td>183379.320368</td>\n",
       "      <td>157308.365600</td>\n",
       "      <td>149190.998579</td>\n",
       "      <td>NaN</td>\n",
       "      <td>NaN</td>\n",
       "      <td>201911.716329</td>\n",
       "      <td>170077.891115</td>\n",
       "      <td>179300.112554</td>\n",
       "      <td>159652.900458</td>\n",
       "      <td>NaN</td>\n",
       "    </tr>\n",
       "    <tr>\n",
       "      <td>пенсионер</td>\n",
       "      <td>165563.164062</td>\n",
       "      <td>154962.528710</td>\n",
       "      <td>90479.336389</td>\n",
       "      <td>412386.347106</td>\n",
       "      <td>98853.333449</td>\n",
       "      <td>83625.583859</td>\n",
       "      <td>113656.027279</td>\n",
       "      <td>128155.229215</td>\n",
       "      <td>NaN</td>\n",
       "      <td>98752.495442</td>\n",
       "      <td>142825.046222</td>\n",
       "      <td>104505.757848</td>\n",
       "      <td>122706.716059</td>\n",
       "      <td>114483.373934</td>\n",
       "      <td>255425.196556</td>\n",
       "    </tr>\n",
       "    <tr>\n",
       "      <td>предприниматель</td>\n",
       "      <td>NaN</td>\n",
       "      <td>NaN</td>\n",
       "      <td>NaN</td>\n",
       "      <td>NaN</td>\n",
       "      <td>NaN</td>\n",
       "      <td>NaN</td>\n",
       "      <td>NaN</td>\n",
       "      <td>NaN</td>\n",
       "      <td>NaN</td>\n",
       "      <td>NaN</td>\n",
       "      <td>499163.144947</td>\n",
       "      <td>NaN</td>\n",
       "      <td>NaN</td>\n",
       "      <td>NaN</td>\n",
       "      <td>NaN</td>\n",
       "    </tr>\n",
       "    <tr>\n",
       "      <td>сотрудник</td>\n",
       "      <td>144683.271465</td>\n",
       "      <td>178238.955336</td>\n",
       "      <td>212545.366151</td>\n",
       "      <td>166015.790504</td>\n",
       "      <td>129895.001992</td>\n",
       "      <td>159115.726175</td>\n",
       "      <td>135823.934197</td>\n",
       "      <td>133399.107243</td>\n",
       "      <td>198570.757322</td>\n",
       "      <td>NaN</td>\n",
       "      <td>166164.078024</td>\n",
       "      <td>124298.759469</td>\n",
       "      <td>149551.191876</td>\n",
       "      <td>136818.115423</td>\n",
       "      <td>192180.127162</td>\n",
       "    </tr>\n",
       "    <tr>\n",
       "      <td>студент</td>\n",
       "      <td>NaN</td>\n",
       "      <td>NaN</td>\n",
       "      <td>NaN</td>\n",
       "      <td>NaN</td>\n",
       "      <td>NaN</td>\n",
       "      <td>NaN</td>\n",
       "      <td>NaN</td>\n",
       "      <td>NaN</td>\n",
       "      <td>NaN</td>\n",
       "      <td>NaN</td>\n",
       "      <td>98201.625314</td>\n",
       "      <td>NaN</td>\n",
       "      <td>NaN</td>\n",
       "      <td>NaN</td>\n",
       "      <td>NaN</td>\n",
       "    </tr>\n",
       "  </tbody>\n",
       "</table>\n",
       "</div>"
      ],
      "text/plain": [
       "education               ВЫСШЕЕ         Высшее      НАЧАЛЬНОЕ  \\\n",
       "income_type                                                    \n",
       "безработный                NaN  202722.511368            NaN   \n",
       "в декрете                  NaN            NaN            NaN   \n",
       "госслужащий      174909.179988  161671.347625            NaN   \n",
       "компаньон        200701.997023  192451.667511  190952.908390   \n",
       "пенсионер        165563.164062  154962.528710   90479.336389   \n",
       "предприниматель            NaN            NaN            NaN   \n",
       "сотрудник        144683.271465  178238.955336  212545.366151   \n",
       "студент                    NaN            NaN            NaN   \n",
       "\n",
       "education        НЕОКОНЧЕННОЕ ВЫСШЕЕ      Начальное  Неоконченное высшее  \\\n",
       "income_type                                                                \n",
       "безработный                      NaN            NaN                  NaN   \n",
       "в декрете                        NaN            NaN                  NaN   \n",
       "госслужащий                      NaN  190912.178349        107224.860090   \n",
       "компаньон              145528.679914   88227.830722        183379.320368   \n",
       "пенсионер              412386.347106   98853.333449         83625.583859   \n",
       "предприниматель                  NaN            NaN                  NaN   \n",
       "сотрудник              166015.790504  129895.001992        159115.726175   \n",
       "студент                          NaN            NaN                  NaN   \n",
       "\n",
       "education              СРЕДНЕЕ        Среднее  УЧЕНАЯ СТЕПЕНЬ  Ученая степень  \\\n",
       "income_type                                                                     \n",
       "безработный                NaN            NaN             NaN             NaN   \n",
       "в декрете         53829.130729            NaN             NaN             NaN   \n",
       "госслужащий      132756.053048  148529.629601             NaN             NaN   \n",
       "компаньон        157308.365600  149190.998579             NaN             NaN   \n",
       "пенсионер        113656.027279  128155.229215             NaN    98752.495442   \n",
       "предприниматель            NaN            NaN             NaN             NaN   \n",
       "сотрудник        135823.934197  133399.107243   198570.757322             NaN   \n",
       "студент                    NaN            NaN             NaN             NaN   \n",
       "\n",
       "education               высшее      начальное  неоконченное высшее  \\\n",
       "income_type                                                          \n",
       "безработный                NaN            NaN                  NaN   \n",
       "в декрете                  NaN            NaN                  NaN   \n",
       "госслужащий      172511.107016  105766.403301        165106.669771   \n",
       "компаньон        201911.716329  170077.891115        179300.112554   \n",
       "пенсионер        142825.046222  104505.757848        122706.716059   \n",
       "предприниматель  499163.144947            NaN                  NaN   \n",
       "сотрудник        166164.078024  124298.759469        149551.191876   \n",
       "студент           98201.625314            NaN                  NaN   \n",
       "\n",
       "education              среднее  ученая степень  \n",
       "income_type                                     \n",
       "безработный       59956.991984             NaN  \n",
       "в декрете                  NaN             NaN  \n",
       "госслужащий      136652.970357   111392.231107  \n",
       "компаньон        159652.900458             NaN  \n",
       "пенсионер        114483.373934   255425.196556  \n",
       "предприниматель            NaN             NaN  \n",
       "сотрудник        136818.115423   192180.127162  \n",
       "студент                    NaN             NaN  "
      ]
     },
     "execution_count": 11,
     "metadata": {},
     "output_type": "execute_result"
    }
   ],
   "source": [
    "# КОД РЕВЬЮЕРА\n",
    "df.pivot_table(index='income_type', columns='education', values='total_income', aggfunc='median')"
   ]
  },
  {
   "cell_type": "code",
   "execution_count": 12,
   "metadata": {},
   "outputs": [
    {
     "data": {
      "text/html": [
       "<div>\n",
       "<style scoped>\n",
       "    .dataframe tbody tr th:only-of-type {\n",
       "        vertical-align: middle;\n",
       "    }\n",
       "\n",
       "    .dataframe tbody tr th {\n",
       "        vertical-align: top;\n",
       "    }\n",
       "\n",
       "    .dataframe thead th {\n",
       "        text-align: right;\n",
       "    }\n",
       "</style>\n",
       "<table border=\"1\" class=\"dataframe\">\n",
       "  <thead>\n",
       "    <tr style=\"text-align: right;\">\n",
       "      <th></th>\n",
       "      <th></th>\n",
       "      <th>total_income</th>\n",
       "    </tr>\n",
       "    <tr>\n",
       "      <th>income_type</th>\n",
       "      <th>education</th>\n",
       "      <th></th>\n",
       "    </tr>\n",
       "  </thead>\n",
       "  <tbody>\n",
       "    <tr>\n",
       "      <td rowspan=\"2\" valign=\"top\">безработный</td>\n",
       "      <td>Высшее</td>\n",
       "      <td>202722.511368</td>\n",
       "    </tr>\n",
       "    <tr>\n",
       "      <td>среднее</td>\n",
       "      <td>59956.991984</td>\n",
       "    </tr>\n",
       "    <tr>\n",
       "      <td>в декрете</td>\n",
       "      <td>СРЕДНЕЕ</td>\n",
       "      <td>53829.130729</td>\n",
       "    </tr>\n",
       "    <tr>\n",
       "      <td rowspan=\"11\" valign=\"top\">госслужащий</td>\n",
       "      <td>ВЫСШЕЕ</td>\n",
       "      <td>174909.179988</td>\n",
       "    </tr>\n",
       "    <tr>\n",
       "      <td>Высшее</td>\n",
       "      <td>161671.347625</td>\n",
       "    </tr>\n",
       "    <tr>\n",
       "      <td>Начальное</td>\n",
       "      <td>190912.178349</td>\n",
       "    </tr>\n",
       "    <tr>\n",
       "      <td>Неоконченное высшее</td>\n",
       "      <td>107224.860090</td>\n",
       "    </tr>\n",
       "    <tr>\n",
       "      <td>СРЕДНЕЕ</td>\n",
       "      <td>132756.053048</td>\n",
       "    </tr>\n",
       "    <tr>\n",
       "      <td>Среднее</td>\n",
       "      <td>148529.629601</td>\n",
       "    </tr>\n",
       "    <tr>\n",
       "      <td>высшее</td>\n",
       "      <td>172511.107016</td>\n",
       "    </tr>\n",
       "    <tr>\n",
       "      <td>начальное</td>\n",
       "      <td>105766.403301</td>\n",
       "    </tr>\n",
       "    <tr>\n",
       "      <td>неоконченное высшее</td>\n",
       "      <td>165106.669771</td>\n",
       "    </tr>\n",
       "    <tr>\n",
       "      <td>среднее</td>\n",
       "      <td>136652.970357</td>\n",
       "    </tr>\n",
       "    <tr>\n",
       "      <td>ученая степень</td>\n",
       "      <td>111392.231107</td>\n",
       "    </tr>\n",
       "    <tr>\n",
       "      <td rowspan=\"12\" valign=\"top\">компаньон</td>\n",
       "      <td>ВЫСШЕЕ</td>\n",
       "      <td>200701.997023</td>\n",
       "    </tr>\n",
       "    <tr>\n",
       "      <td>Высшее</td>\n",
       "      <td>192451.667511</td>\n",
       "    </tr>\n",
       "    <tr>\n",
       "      <td>НАЧАЛЬНОЕ</td>\n",
       "      <td>190952.908390</td>\n",
       "    </tr>\n",
       "    <tr>\n",
       "      <td>НЕОКОНЧЕННОЕ ВЫСШЕЕ</td>\n",
       "      <td>145528.679914</td>\n",
       "    </tr>\n",
       "    <tr>\n",
       "      <td>Начальное</td>\n",
       "      <td>88227.830722</td>\n",
       "    </tr>\n",
       "    <tr>\n",
       "      <td>Неоконченное высшее</td>\n",
       "      <td>183379.320368</td>\n",
       "    </tr>\n",
       "    <tr>\n",
       "      <td>СРЕДНЕЕ</td>\n",
       "      <td>157308.365600</td>\n",
       "    </tr>\n",
       "    <tr>\n",
       "      <td>Среднее</td>\n",
       "      <td>149190.998579</td>\n",
       "    </tr>\n",
       "    <tr>\n",
       "      <td>высшее</td>\n",
       "      <td>201911.716329</td>\n",
       "    </tr>\n",
       "    <tr>\n",
       "      <td>начальное</td>\n",
       "      <td>170077.891115</td>\n",
       "    </tr>\n",
       "    <tr>\n",
       "      <td>неоконченное высшее</td>\n",
       "      <td>179300.112554</td>\n",
       "    </tr>\n",
       "    <tr>\n",
       "      <td>среднее</td>\n",
       "      <td>159652.900458</td>\n",
       "    </tr>\n",
       "    <tr>\n",
       "      <td rowspan=\"14\" valign=\"top\">пенсионер</td>\n",
       "      <td>ВЫСШЕЕ</td>\n",
       "      <td>165563.164062</td>\n",
       "    </tr>\n",
       "    <tr>\n",
       "      <td>Высшее</td>\n",
       "      <td>154962.528710</td>\n",
       "    </tr>\n",
       "    <tr>\n",
       "      <td>НАЧАЛЬНОЕ</td>\n",
       "      <td>90479.336389</td>\n",
       "    </tr>\n",
       "    <tr>\n",
       "      <td>НЕОКОНЧЕННОЕ ВЫСШЕЕ</td>\n",
       "      <td>412386.347106</td>\n",
       "    </tr>\n",
       "    <tr>\n",
       "      <td>Начальное</td>\n",
       "      <td>98853.333449</td>\n",
       "    </tr>\n",
       "    <tr>\n",
       "      <td>Неоконченное высшее</td>\n",
       "      <td>83625.583859</td>\n",
       "    </tr>\n",
       "    <tr>\n",
       "      <td>СРЕДНЕЕ</td>\n",
       "      <td>113656.027279</td>\n",
       "    </tr>\n",
       "    <tr>\n",
       "      <td>Среднее</td>\n",
       "      <td>128155.229215</td>\n",
       "    </tr>\n",
       "    <tr>\n",
       "      <td>Ученая степень</td>\n",
       "      <td>98752.495442</td>\n",
       "    </tr>\n",
       "    <tr>\n",
       "      <td>высшее</td>\n",
       "      <td>142825.046222</td>\n",
       "    </tr>\n",
       "    <tr>\n",
       "      <td>начальное</td>\n",
       "      <td>104505.757848</td>\n",
       "    </tr>\n",
       "    <tr>\n",
       "      <td>неоконченное высшее</td>\n",
       "      <td>122706.716059</td>\n",
       "    </tr>\n",
       "    <tr>\n",
       "      <td>среднее</td>\n",
       "      <td>114483.373934</td>\n",
       "    </tr>\n",
       "    <tr>\n",
       "      <td>ученая степень</td>\n",
       "      <td>255425.196556</td>\n",
       "    </tr>\n",
       "    <tr>\n",
       "      <td>предприниматель</td>\n",
       "      <td>высшее</td>\n",
       "      <td>499163.144947</td>\n",
       "    </tr>\n",
       "    <tr>\n",
       "      <td rowspan=\"14\" valign=\"top\">сотрудник</td>\n",
       "      <td>ВЫСШЕЕ</td>\n",
       "      <td>144683.271465</td>\n",
       "    </tr>\n",
       "    <tr>\n",
       "      <td>Высшее</td>\n",
       "      <td>178238.955336</td>\n",
       "    </tr>\n",
       "    <tr>\n",
       "      <td>НАЧАЛЬНОЕ</td>\n",
       "      <td>212545.366151</td>\n",
       "    </tr>\n",
       "    <tr>\n",
       "      <td>НЕОКОНЧЕННОЕ ВЫСШЕЕ</td>\n",
       "      <td>166015.790504</td>\n",
       "    </tr>\n",
       "    <tr>\n",
       "      <td>Начальное</td>\n",
       "      <td>129895.001992</td>\n",
       "    </tr>\n",
       "    <tr>\n",
       "      <td>Неоконченное высшее</td>\n",
       "      <td>159115.726175</td>\n",
       "    </tr>\n",
       "    <tr>\n",
       "      <td>СРЕДНЕЕ</td>\n",
       "      <td>135823.934197</td>\n",
       "    </tr>\n",
       "    <tr>\n",
       "      <td>Среднее</td>\n",
       "      <td>133399.107243</td>\n",
       "    </tr>\n",
       "    <tr>\n",
       "      <td>УЧЕНАЯ СТЕПЕНЬ</td>\n",
       "      <td>198570.757322</td>\n",
       "    </tr>\n",
       "    <tr>\n",
       "      <td>высшее</td>\n",
       "      <td>166164.078024</td>\n",
       "    </tr>\n",
       "    <tr>\n",
       "      <td>начальное</td>\n",
       "      <td>124298.759469</td>\n",
       "    </tr>\n",
       "    <tr>\n",
       "      <td>неоконченное высшее</td>\n",
       "      <td>149551.191876</td>\n",
       "    </tr>\n",
       "    <tr>\n",
       "      <td>среднее</td>\n",
       "      <td>136818.115423</td>\n",
       "    </tr>\n",
       "    <tr>\n",
       "      <td>ученая степень</td>\n",
       "      <td>192180.127162</td>\n",
       "    </tr>\n",
       "    <tr>\n",
       "      <td>студент</td>\n",
       "      <td>высшее</td>\n",
       "      <td>98201.625314</td>\n",
       "    </tr>\n",
       "  </tbody>\n",
       "</table>\n",
       "</div>"
      ],
      "text/plain": [
       "                                      total_income\n",
       "income_type     education                         \n",
       "безработный     Высшее               202722.511368\n",
       "                среднее               59956.991984\n",
       "в декрете       СРЕДНЕЕ               53829.130729\n",
       "госслужащий     ВЫСШЕЕ               174909.179988\n",
       "                Высшее               161671.347625\n",
       "                Начальное            190912.178349\n",
       "                Неоконченное высшее  107224.860090\n",
       "                СРЕДНЕЕ              132756.053048\n",
       "                Среднее              148529.629601\n",
       "                высшее               172511.107016\n",
       "                начальное            105766.403301\n",
       "                неоконченное высшее  165106.669771\n",
       "                среднее              136652.970357\n",
       "                ученая степень       111392.231107\n",
       "компаньон       ВЫСШЕЕ               200701.997023\n",
       "                Высшее               192451.667511\n",
       "                НАЧАЛЬНОЕ            190952.908390\n",
       "                НЕОКОНЧЕННОЕ ВЫСШЕЕ  145528.679914\n",
       "                Начальное             88227.830722\n",
       "                Неоконченное высшее  183379.320368\n",
       "                СРЕДНЕЕ              157308.365600\n",
       "                Среднее              149190.998579\n",
       "                высшее               201911.716329\n",
       "                начальное            170077.891115\n",
       "                неоконченное высшее  179300.112554\n",
       "                среднее              159652.900458\n",
       "пенсионер       ВЫСШЕЕ               165563.164062\n",
       "                Высшее               154962.528710\n",
       "                НАЧАЛЬНОЕ             90479.336389\n",
       "                НЕОКОНЧЕННОЕ ВЫСШЕЕ  412386.347106\n",
       "                Начальное             98853.333449\n",
       "                Неоконченное высшее   83625.583859\n",
       "                СРЕДНЕЕ              113656.027279\n",
       "                Среднее              128155.229215\n",
       "                Ученая степень        98752.495442\n",
       "                высшее               142825.046222\n",
       "                начальное            104505.757848\n",
       "                неоконченное высшее  122706.716059\n",
       "                среднее              114483.373934\n",
       "                ученая степень       255425.196556\n",
       "предприниматель высшее               499163.144947\n",
       "сотрудник       ВЫСШЕЕ               144683.271465\n",
       "                Высшее               178238.955336\n",
       "                НАЧАЛЬНОЕ            212545.366151\n",
       "                НЕОКОНЧЕННОЕ ВЫСШЕЕ  166015.790504\n",
       "                Начальное            129895.001992\n",
       "                Неоконченное высшее  159115.726175\n",
       "                СРЕДНЕЕ              135823.934197\n",
       "                Среднее              133399.107243\n",
       "                УЧЕНАЯ СТЕПЕНЬ       198570.757322\n",
       "                высшее               166164.078024\n",
       "                начальное            124298.759469\n",
       "                неоконченное высшее  149551.191876\n",
       "                среднее              136818.115423\n",
       "                ученая степень       192180.127162\n",
       "студент         высшее                98201.625314"
      ]
     },
     "execution_count": 12,
     "metadata": {},
     "output_type": "execute_result"
    }
   ],
   "source": [
    "# КОД РЕВЬЮЕРА\n",
    "\n",
    "# То же самое.\n",
    "df.groupby(['income_type', 'education']).agg({'total_income':'median'})"
   ]
  },
  {
   "cell_type": "code",
   "execution_count": 13,
   "metadata": {},
   "outputs": [
    {
     "data": {
      "text/plain": [
       "98201.62531401133"
      ]
     },
     "execution_count": 13,
     "metadata": {},
     "output_type": "execute_result"
    }
   ],
   "source": [
    "# КОД РЕВЬЮЕРА\n",
    "\n",
    "qq = df.pivot_table(index=['income_type', 'gender'], columns='education', values='total_income', aggfunc='median')\n",
    "qq.loc[('студент', 'M')]['высшее']"
   ]
  },
  {
   "cell_type": "code",
   "execution_count": 14,
   "metadata": {},
   "outputs": [
    {
     "data": {
      "text/html": [
       "<div>\n",
       "<style scoped>\n",
       "    .dataframe tbody tr th:only-of-type {\n",
       "        vertical-align: middle;\n",
       "    }\n",
       "\n",
       "    .dataframe tbody tr th {\n",
       "        vertical-align: top;\n",
       "    }\n",
       "\n",
       "    .dataframe thead th {\n",
       "        text-align: right;\n",
       "    }\n",
       "</style>\n",
       "<table border=\"1\" class=\"dataframe\">\n",
       "  <thead>\n",
       "    <tr style=\"text-align: right;\">\n",
       "      <th></th>\n",
       "      <th>children</th>\n",
       "      <th>days_employed</th>\n",
       "      <th>dob_years</th>\n",
       "      <th>education</th>\n",
       "      <th>education_id</th>\n",
       "      <th>family_status</th>\n",
       "      <th>family_status_id</th>\n",
       "      <th>gender</th>\n",
       "      <th>income_type</th>\n",
       "      <th>debt</th>\n",
       "      <th>total_income</th>\n",
       "      <th>purpose</th>\n",
       "    </tr>\n",
       "  </thead>\n",
       "  <tbody>\n",
       "    <tr>\n",
       "      <td>15110</td>\n",
       "      <td>1</td>\n",
       "      <td>63049.87777</td>\n",
       "      <td>47</td>\n",
       "      <td>высшее</td>\n",
       "      <td>0</td>\n",
       "      <td>женат / замужем</td>\n",
       "      <td>0</td>\n",
       "      <td>M</td>\n",
       "      <td>сотрудник</td>\n",
       "      <td>0</td>\n",
       "      <td>NaN</td>\n",
       "      <td>получение образования</td>\n",
       "    </tr>\n",
       "    <tr>\n",
       "      <td>15111</td>\n",
       "      <td>0</td>\n",
       "      <td>63049.87777</td>\n",
       "      <td>26</td>\n",
       "      <td>среднее</td>\n",
       "      <td>1</td>\n",
       "      <td>женат / замужем</td>\n",
       "      <td>0</td>\n",
       "      <td>F</td>\n",
       "      <td>сотрудник</td>\n",
       "      <td>1</td>\n",
       "      <td>167691.70592</td>\n",
       "      <td>автомобили</td>\n",
       "    </tr>\n",
       "  </tbody>\n",
       "</table>\n",
       "</div>"
      ],
      "text/plain": [
       "       children  days_employed  dob_years education  education_id  \\\n",
       "15110         1    63049.87777         47    высшее             0   \n",
       "15111         0    63049.87777         26   среднее             1   \n",
       "\n",
       "         family_status  family_status_id gender income_type  debt  \\\n",
       "15110  женат / замужем                 0      M   сотрудник     0   \n",
       "15111  женат / замужем                 0      F   сотрудник     1   \n",
       "\n",
       "       total_income                purpose  \n",
       "15110           NaN  получение образования  \n",
       "15111  167691.70592             автомобили  "
      ]
     },
     "metadata": {},
     "output_type": "display_data"
    }
   ],
   "source": [
    "#посмтрим срез с зачаеним NaN\n",
    "display(df[15109:15111])"
   ]
  },
  {
   "cell_type": "code",
   "execution_count": 15,
   "metadata": {},
   "outputs": [],
   "source": [
    "#проведем группировку \n",
    "df['total_income'] = df['total_income'].fillna(df.groupby('income_type')['total_income'].transform('median'))"
   ]
  },
  {
   "cell_type": "code",
   "execution_count": 16,
   "metadata": {},
   "outputs": [
    {
     "data": {
      "text/html": [
       "<div>\n",
       "<style scoped>\n",
       "    .dataframe tbody tr th:only-of-type {\n",
       "        vertical-align: middle;\n",
       "    }\n",
       "\n",
       "    .dataframe tbody tr th {\n",
       "        vertical-align: top;\n",
       "    }\n",
       "\n",
       "    .dataframe thead th {\n",
       "        text-align: right;\n",
       "    }\n",
       "</style>\n",
       "<table border=\"1\" class=\"dataframe\">\n",
       "  <thead>\n",
       "    <tr style=\"text-align: right;\">\n",
       "      <th></th>\n",
       "      <th>children</th>\n",
       "      <th>days_employed</th>\n",
       "      <th>dob_years</th>\n",
       "      <th>education</th>\n",
       "      <th>education_id</th>\n",
       "      <th>family_status</th>\n",
       "      <th>family_status_id</th>\n",
       "      <th>gender</th>\n",
       "      <th>income_type</th>\n",
       "      <th>debt</th>\n",
       "      <th>total_income</th>\n",
       "      <th>purpose</th>\n",
       "    </tr>\n",
       "  </thead>\n",
       "  <tbody>\n",
       "    <tr>\n",
       "      <td>15110</td>\n",
       "      <td>1</td>\n",
       "      <td>63049.87777</td>\n",
       "      <td>47</td>\n",
       "      <td>высшее</td>\n",
       "      <td>0</td>\n",
       "      <td>женат / замужем</td>\n",
       "      <td>0</td>\n",
       "      <td>M</td>\n",
       "      <td>сотрудник</td>\n",
       "      <td>0</td>\n",
       "      <td>142594.396847</td>\n",
       "      <td>получение образования</td>\n",
       "    </tr>\n",
       "    <tr>\n",
       "      <td>15111</td>\n",
       "      <td>0</td>\n",
       "      <td>63049.87777</td>\n",
       "      <td>26</td>\n",
       "      <td>среднее</td>\n",
       "      <td>1</td>\n",
       "      <td>женат / замужем</td>\n",
       "      <td>0</td>\n",
       "      <td>F</td>\n",
       "      <td>сотрудник</td>\n",
       "      <td>1</td>\n",
       "      <td>167691.705920</td>\n",
       "      <td>автомобили</td>\n",
       "    </tr>\n",
       "  </tbody>\n",
       "</table>\n",
       "</div>"
      ],
      "text/plain": [
       "       children  days_employed  dob_years education  education_id  \\\n",
       "15110         1    63049.87777         47    высшее             0   \n",
       "15111         0    63049.87777         26   среднее             1   \n",
       "\n",
       "         family_status  family_status_id gender income_type  debt  \\\n",
       "15110  женат / замужем                 0      M   сотрудник     0   \n",
       "15111  женат / замужем                 0      F   сотрудник     1   \n",
       "\n",
       "        total_income                purpose  \n",
       "15110  142594.396847  получение образования  \n",
       "15111  167691.705920             автомобили  "
      ]
     },
     "metadata": {},
     "output_type": "display_data"
    }
   ],
   "source": [
    "#посмтрим срез как отработат transform строки с заменой \n",
    "display(df[15109:15111])"
   ]
  },
  {
   "cell_type": "code",
   "execution_count": 17,
   "metadata": {},
   "outputs": [
    {
     "name": "stdout",
     "output_type": "stream",
     "text": [
      "children            0\n",
      "days_employed       0\n",
      "dob_years           0\n",
      "education           0\n",
      "education_id        0\n",
      "family_status       0\n",
      "family_status_id    0\n",
      "gender              0\n",
      "income_type         0\n",
      "debt                0\n",
      "total_income        0\n",
      "purpose             0\n",
      "dtype: int64\n"
     ]
    }
   ],
   "source": [
    "# проверим все  ли пропуски  заменены\n",
    "\n",
    "print(df.isna().sum())"
   ]
  },
  {
   "cell_type": "code",
   "execution_count": 18,
   "metadata": {},
   "outputs": [
    {
     "data": {
      "text/html": [
       "<div>\n",
       "<style scoped>\n",
       "    .dataframe tbody tr th:only-of-type {\n",
       "        vertical-align: middle;\n",
       "    }\n",
       "\n",
       "    .dataframe tbody tr th {\n",
       "        vertical-align: top;\n",
       "    }\n",
       "\n",
       "    .dataframe thead th {\n",
       "        text-align: right;\n",
       "    }\n",
       "</style>\n",
       "<table border=\"1\" class=\"dataframe\">\n",
       "  <thead>\n",
       "    <tr style=\"text-align: right;\">\n",
       "      <th></th>\n",
       "      <th>children</th>\n",
       "      <th>days_employed</th>\n",
       "      <th>dob_years</th>\n",
       "      <th>education</th>\n",
       "      <th>education_id</th>\n",
       "      <th>family_status</th>\n",
       "      <th>family_status_id</th>\n",
       "      <th>gender</th>\n",
       "      <th>income_type</th>\n",
       "      <th>debt</th>\n",
       "      <th>total_income</th>\n",
       "      <th>purpose</th>\n",
       "    </tr>\n",
       "  </thead>\n",
       "  <tbody>\n",
       "    <tr>\n",
       "      <td>0</td>\n",
       "      <td>1</td>\n",
       "      <td>63049.87777</td>\n",
       "      <td>42</td>\n",
       "      <td>высшее</td>\n",
       "      <td>0</td>\n",
       "      <td>женат / замужем</td>\n",
       "      <td>0</td>\n",
       "      <td>F</td>\n",
       "      <td>сотрудник</td>\n",
       "      <td>0</td>\n",
       "      <td>253875.639453</td>\n",
       "      <td>покупка жилья</td>\n",
       "    </tr>\n",
       "    <tr>\n",
       "      <td>1</td>\n",
       "      <td>1</td>\n",
       "      <td>63049.87777</td>\n",
       "      <td>36</td>\n",
       "      <td>среднее</td>\n",
       "      <td>1</td>\n",
       "      <td>женат / замужем</td>\n",
       "      <td>0</td>\n",
       "      <td>F</td>\n",
       "      <td>сотрудник</td>\n",
       "      <td>0</td>\n",
       "      <td>112080.014102</td>\n",
       "      <td>приобретение автомобиля</td>\n",
       "    </tr>\n",
       "    <tr>\n",
       "      <td>2</td>\n",
       "      <td>0</td>\n",
       "      <td>63049.87777</td>\n",
       "      <td>33</td>\n",
       "      <td>Среднее</td>\n",
       "      <td>1</td>\n",
       "      <td>женат / замужем</td>\n",
       "      <td>0</td>\n",
       "      <td>M</td>\n",
       "      <td>сотрудник</td>\n",
       "      <td>0</td>\n",
       "      <td>145885.952297</td>\n",
       "      <td>покупка жилья</td>\n",
       "    </tr>\n",
       "    <tr>\n",
       "      <td>3</td>\n",
       "      <td>3</td>\n",
       "      <td>63049.87777</td>\n",
       "      <td>32</td>\n",
       "      <td>среднее</td>\n",
       "      <td>1</td>\n",
       "      <td>женат / замужем</td>\n",
       "      <td>0</td>\n",
       "      <td>M</td>\n",
       "      <td>сотрудник</td>\n",
       "      <td>0</td>\n",
       "      <td>267628.550329</td>\n",
       "      <td>дополнительное образование</td>\n",
       "    </tr>\n",
       "    <tr>\n",
       "      <td>4</td>\n",
       "      <td>0</td>\n",
       "      <td>63049.87777</td>\n",
       "      <td>53</td>\n",
       "      <td>среднее</td>\n",
       "      <td>1</td>\n",
       "      <td>гражданский брак</td>\n",
       "      <td>1</td>\n",
       "      <td>F</td>\n",
       "      <td>пенсионер</td>\n",
       "      <td>0</td>\n",
       "      <td>158616.077870</td>\n",
       "      <td>сыграть свадьбу</td>\n",
       "    </tr>\n",
       "    <tr>\n",
       "      <td>5</td>\n",
       "      <td>0</td>\n",
       "      <td>63049.87777</td>\n",
       "      <td>27</td>\n",
       "      <td>высшее</td>\n",
       "      <td>0</td>\n",
       "      <td>гражданский брак</td>\n",
       "      <td>1</td>\n",
       "      <td>M</td>\n",
       "      <td>компаньон</td>\n",
       "      <td>0</td>\n",
       "      <td>255763.565419</td>\n",
       "      <td>покупка жилья</td>\n",
       "    </tr>\n",
       "    <tr>\n",
       "      <td>6</td>\n",
       "      <td>0</td>\n",
       "      <td>63049.87777</td>\n",
       "      <td>43</td>\n",
       "      <td>высшее</td>\n",
       "      <td>0</td>\n",
       "      <td>женат / замужем</td>\n",
       "      <td>0</td>\n",
       "      <td>F</td>\n",
       "      <td>компаньон</td>\n",
       "      <td>0</td>\n",
       "      <td>240525.971920</td>\n",
       "      <td>операции с жильем</td>\n",
       "    </tr>\n",
       "    <tr>\n",
       "      <td>7</td>\n",
       "      <td>0</td>\n",
       "      <td>63049.87777</td>\n",
       "      <td>50</td>\n",
       "      <td>СРЕДНЕЕ</td>\n",
       "      <td>1</td>\n",
       "      <td>женат / замужем</td>\n",
       "      <td>0</td>\n",
       "      <td>M</td>\n",
       "      <td>сотрудник</td>\n",
       "      <td>0</td>\n",
       "      <td>135823.934197</td>\n",
       "      <td>образование</td>\n",
       "    </tr>\n",
       "    <tr>\n",
       "      <td>8</td>\n",
       "      <td>2</td>\n",
       "      <td>63049.87777</td>\n",
       "      <td>35</td>\n",
       "      <td>ВЫСШЕЕ</td>\n",
       "      <td>0</td>\n",
       "      <td>гражданский брак</td>\n",
       "      <td>1</td>\n",
       "      <td>F</td>\n",
       "      <td>сотрудник</td>\n",
       "      <td>0</td>\n",
       "      <td>95856.832424</td>\n",
       "      <td>на проведение свадьбы</td>\n",
       "    </tr>\n",
       "    <tr>\n",
       "      <td>9</td>\n",
       "      <td>0</td>\n",
       "      <td>63049.87777</td>\n",
       "      <td>41</td>\n",
       "      <td>среднее</td>\n",
       "      <td>1</td>\n",
       "      <td>женат / замужем</td>\n",
       "      <td>0</td>\n",
       "      <td>M</td>\n",
       "      <td>сотрудник</td>\n",
       "      <td>0</td>\n",
       "      <td>144425.938277</td>\n",
       "      <td>покупка жилья для семьи</td>\n",
       "    </tr>\n",
       "  </tbody>\n",
       "</table>\n",
       "</div>"
      ],
      "text/plain": [
       "   children  days_employed  dob_years education  education_id  \\\n",
       "0         1    63049.87777         42    высшее             0   \n",
       "1         1    63049.87777         36   среднее             1   \n",
       "2         0    63049.87777         33   Среднее             1   \n",
       "3         3    63049.87777         32   среднее             1   \n",
       "4         0    63049.87777         53   среднее             1   \n",
       "5         0    63049.87777         27    высшее             0   \n",
       "6         0    63049.87777         43    высшее             0   \n",
       "7         0    63049.87777         50   СРЕДНЕЕ             1   \n",
       "8         2    63049.87777         35    ВЫСШЕЕ             0   \n",
       "9         0    63049.87777         41   среднее             1   \n",
       "\n",
       "      family_status  family_status_id gender income_type  debt   total_income  \\\n",
       "0   женат / замужем                 0      F   сотрудник     0  253875.639453   \n",
       "1   женат / замужем                 0      F   сотрудник     0  112080.014102   \n",
       "2   женат / замужем                 0      M   сотрудник     0  145885.952297   \n",
       "3   женат / замужем                 0      M   сотрудник     0  267628.550329   \n",
       "4  гражданский брак                 1      F   пенсионер     0  158616.077870   \n",
       "5  гражданский брак                 1      M   компаньон     0  255763.565419   \n",
       "6   женат / замужем                 0      F   компаньон     0  240525.971920   \n",
       "7   женат / замужем                 0      M   сотрудник     0  135823.934197   \n",
       "8  гражданский брак                 1      F   сотрудник     0   95856.832424   \n",
       "9   женат / замужем                 0      M   сотрудник     0  144425.938277   \n",
       "\n",
       "                      purpose  \n",
       "0               покупка жилья  \n",
       "1     приобретение автомобиля  \n",
       "2               покупка жилья  \n",
       "3  дополнительное образование  \n",
       "4             сыграть свадьбу  \n",
       "5               покупка жилья  \n",
       "6           операции с жильем  \n",
       "7                 образование  \n",
       "8       на проведение свадьбы  \n",
       "9     покупка жилья для семьи  "
      ]
     },
     "metadata": {},
     "output_type": "display_data"
    }
   ],
   "source": [
    "# и посмотрим как теперь выглядт таблица с данными\n",
    "\n",
    "display(df.head(10))"
   ]
  },
  {
   "cell_type": "code",
   "execution_count": 19,
   "metadata": {
    "scrolled": false
   },
   "outputs": [
    {
     "data": {
      "text/plain": [
       " 0     14148\n",
       " 1      4818\n",
       " 2      2055\n",
       " 3       330\n",
       " 20       76\n",
       "-1        47\n",
       " 4        41\n",
       " 5         9\n",
       "Name: children, dtype: int64"
      ]
     },
     "execution_count": 19,
     "metadata": {},
     "output_type": "execute_result"
    }
   ],
   "source": [
    "#Проверим столбец children на реалистичность данных\n",
    "\n",
    "df['children'].value_counts()"
   ]
  },
  {
   "cell_type": "code",
   "execution_count": 20,
   "metadata": {},
   "outputs": [
    {
     "data": {
      "text/plain": [
       "0    14148\n",
       "1     4865\n",
       "2     2131\n",
       "3      330\n",
       "4       41\n",
       "5        9\n",
       "Name: children, dtype: int64"
      ]
     },
     "execution_count": 20,
     "metadata": {},
     "output_type": "execute_result"
    }
   ],
   "source": [
    "#В столбце есть отрицальное значения -1, скорее всего это опечатка в при вводе - заменим их на положильные\n",
    "df['children']=df['children'].replace(-1,1)\n",
    "\n",
    "#также кол-во детей 20 - заменим на 2, как ошибка при вводе\n",
    "df['children']=df['children'].replace(20,2)\n",
    "\n",
    "#Проверим как выклядит столбец children \n",
    "df['children'].value_counts()"
   ]
  },
  {
   "cell_type": "code",
   "execution_count": 21,
   "metadata": {},
   "outputs": [
    {
     "data": {
      "text/plain": [
       "35    617\n",
       "40    609\n",
       "41    607\n",
       "34    603\n",
       "38    598\n",
       "42    597\n",
       "33    581\n",
       "39    573\n",
       "31    560\n",
       "36    555\n",
       "44    547\n",
       "29    545\n",
       "30    540\n",
       "48    538\n",
       "37    537\n",
       "50    514\n",
       "43    513\n",
       "32    510\n",
       "49    508\n",
       "28    503\n",
       "45    497\n",
       "27    493\n",
       "56    487\n",
       "52    484\n",
       "47    480\n",
       "54    479\n",
       "46    475\n",
       "58    461\n",
       "57    460\n",
       "53    459\n",
       "51    448\n",
       "59    444\n",
       "55    443\n",
       "26    408\n",
       "60    377\n",
       "25    357\n",
       "61    355\n",
       "62    352\n",
       "63    269\n",
       "64    265\n",
       "24    263\n",
       "23    254\n",
       "65    194\n",
       "66    183\n",
       "22    183\n",
       "67    167\n",
       "21    111\n",
       "0     101\n",
       "68     99\n",
       "69     85\n",
       "Name: dob_years, dtype: int64"
      ]
     },
     "execution_count": 21,
     "metadata": {},
     "output_type": "execute_result"
    }
   ],
   "source": [
    "#Проверим столбец dob_years.\n",
    "\n",
    "df['dob_years'].value_counts().head(50)\n",
    "\n",
    "#видим, что есть клиенты с \"нулевым\" возрастом"
   ]
  },
  {
   "cell_type": "code",
   "execution_count": 22,
   "metadata": {},
   "outputs": [],
   "source": [
    "#чтобы не потерять данные о клинетах для которых по какой-то причине возраст указан \"0\", \n",
    "#заменим значения в этой ячейке на среднее, так как отдел банка не просит точного срезы по возрастной группе заемщиком, \n",
    "#этот метод будет допустимым\n",
    "\n",
    "df['dob_years']=df['dob_years'].replace(0,df['dob_years'].mean())"
   ]
  },
  {
   "cell_type": "code",
   "execution_count": 23,
   "metadata": {},
   "outputs": [
    {
     "data": {
      "text/plain": [
       "35.0    617\n",
       "40.0    609\n",
       "41.0    607\n",
       "34.0    603\n",
       "38.0    598\n",
       "42.0    597\n",
       "33.0    581\n",
       "39.0    573\n",
       "31.0    560\n",
       "36.0    555\n",
       "44.0    547\n",
       "29.0    545\n",
       "30.0    540\n",
       "48.0    538\n",
       "37.0    537\n",
       "Name: dob_years, dtype: int64"
      ]
     },
     "execution_count": 23,
     "metadata": {},
     "output_type": "execute_result"
    }
   ],
   "source": [
    "df['dob_years'].value_counts().head(15)"
   ]
  },
  {
   "cell_type": "markdown",
   "metadata": {},
   "source": [
    "**Вывод**"
   ]
  },
  {
   "cell_type": "markdown",
   "metadata": {},
   "source": [
    "пропущенные данные по нужным в дальнешим строкам удалены - с данными можно проводить анализ."
   ]
  },
  {
   "cell_type": "markdown",
   "metadata": {},
   "source": [
    "### Замена типа данных"
   ]
  },
  {
   "cell_type": "code",
   "execution_count": 24,
   "metadata": {},
   "outputs": [
    {
     "name": "stdout",
     "output_type": "stream",
     "text": [
      "<class 'pandas.core.frame.DataFrame'>\n",
      "Int64Index: 21524 entries, 0 to 21524\n",
      "Data columns (total 12 columns):\n",
      "children            21524 non-null int64\n",
      "days_employed       21524 non-null int64\n",
      "dob_years           21524 non-null int64\n",
      "education           21524 non-null object\n",
      "education_id        21524 non-null int64\n",
      "family_status       21524 non-null object\n",
      "family_status_id    21524 non-null int64\n",
      "gender              21524 non-null object\n",
      "income_type         21524 non-null object\n",
      "debt                21524 non-null int64\n",
      "total_income        21524 non-null int64\n",
      "purpose             21524 non-null object\n",
      "dtypes: int64(7), object(5)\n",
      "memory usage: 2.1+ MB\n"
     ]
    }
   ],
   "source": [
    "#заменим данные на целые по нужным в дальнешем  анализе столбцам days_employed и  total_incom и dob_years\n",
    "df['days_employed'] = df['days_employed'].astype('int')\n",
    "df['total_income'] = df['total_income'].astype('int')\n",
    "df['dob_years'] = df['dob_years'].astype('int')\n",
    "df['purpose'] = df['purpose'].astype('str')\n",
    "\n",
    "df['family_status'] = df['family_status'].astype('str')\n",
    "\n",
    "# проверим все ли типы данных заменили\n",
    "df.info()"
   ]
  },
  {
   "cell_type": "markdown",
   "metadata": {},
   "source": [
    "**Вывод**"
   ]
  },
  {
   "cell_type": "markdown",
   "metadata": {},
   "source": [
    "нужные в дальнейшим для принятие решения по выдаче кредита данные обработаны, тип данных изменен"
   ]
  },
  {
   "cell_type": "markdown",
   "metadata": {},
   "source": [
    "### Обработка дубликатов"
   ]
  },
  {
   "cell_type": "code",
   "execution_count": 25,
   "metadata": {},
   "outputs": [
    {
     "data": {
      "text/plain": [
       "среднее                13750\n",
       "высшее                  4718\n",
       "СРЕДНЕЕ                  772\n",
       "Среднее                  711\n",
       "неоконченное высшее      667\n",
       "ВЫСШЕЕ                   274\n",
       "Высшее                   268\n",
       "начальное                250\n",
       "Неоконченное высшее       47\n",
       "НЕОКОНЧЕННОЕ ВЫСШЕЕ       29\n",
       "НАЧАЛЬНОЕ                 17\n",
       "Начальное                 15\n",
       "ученая степень             4\n",
       "УЧЕНАЯ СТЕПЕНЬ             1\n",
       "Ученая степень             1\n",
       "Name: education, dtype: int64"
      ]
     },
     "metadata": {},
     "output_type": "display_data"
    }
   ],
   "source": [
    "#при изучении общей информации о данных видно, что по столбы education есть дубликаты, посмотрим их\n",
    "\n",
    "display(df['education'].value_counts())\n"
   ]
  },
  {
   "cell_type": "code",
   "execution_count": 26,
   "metadata": {
    "scrolled": true
   },
   "outputs": [
    {
     "data": {
      "text/plain": [
       "среднее                15233\n",
       "высшее                  5260\n",
       "неоконченное высшее      743\n",
       "начальное                282\n",
       "ученая степень             6\n",
       "Name: education, dtype: int64"
      ]
     },
     "metadata": {},
     "output_type": "display_data"
    }
   ],
   "source": [
    "#приведем к нижнему регистру данные столбца education тем самы заменим дубликаты\n",
    "\n",
    "df['education'] = df['education'].str.lower()\n",
    "display(df['education'].value_counts())"
   ]
  },
  {
   "cell_type": "code",
   "execution_count": 27,
   "metadata": {},
   "outputs": [
    {
     "data": {
      "text/plain": [
       "71"
      ]
     },
     "execution_count": 27,
     "metadata": {},
     "output_type": "execute_result"
    }
   ],
   "source": [
    "#Теперь установим наличие полных дубликатов (ошибочный ввод опретором одних и тех данных, техническая ошибка при записи данных\n",
    "# в базу данных о вадаче кредита) \n",
    "\n",
    "df.duplicated().sum()"
   ]
  },
  {
   "cell_type": "code",
   "execution_count": 28,
   "metadata": {},
   "outputs": [
    {
     "data": {
      "text/plain": [
       "0"
      ]
     },
     "execution_count": 28,
     "metadata": {},
     "output_type": "execute_result"
    }
   ],
   "source": [
    "#и избавимся от них, чтобы данные по анализы были макимально корректными\n",
    "\n",
    "df = df.drop_duplicates().reset_index(drop=True)\n",
    "df.duplicated().sum()"
   ]
  },
  {
   "cell_type": "markdown",
   "metadata": {},
   "source": [
    "**Вывод**"
   ]
  },
  {
   "cell_type": "markdown",
   "metadata": {},
   "source": [
    "Дубликаты в данных могли появиться в результате сбоев при записи значений в базу данных. Дубликаты в столбце education появилась в результате человеческого фактора (скорее всего у менеджера, который принимал заявку на кредит и заполнял данные клиента не было точных инструкций как заполнять данное поле (с большой буквы, все маленькие, полное/сокращённое). При помощи  value_counts() я получил все значение, а при помощи str.lower привел их к одному регистру, а после удалил полные дубликаты используя метод drop_duplicates(), чтолбы анализ был максимально корректным."
   ]
  },
  {
   "cell_type": "markdown",
   "metadata": {},
   "source": [
    "### Лемматизация"
   ]
  },
  {
   "cell_type": "code",
   "execution_count": 29,
   "metadata": {},
   "outputs": [
    {
     "data": {
      "text/plain": [
       "свадьба                                   791\n",
       "на проведение свадьбы                     768\n",
       "сыграть свадьбу                           765\n",
       "операции с недвижимостью                  675\n",
       "покупка коммерческой недвижимости         661\n",
       "операции с жильем                         652\n",
       "покупка жилья для сдачи                   651\n",
       "операции с коммерческой недвижимостью     650\n",
       "покупка жилья                             646\n",
       "жилье                                     646\n",
       "покупка жилья для семьи                   638\n",
       "строительство собственной недвижимости    635\n",
       "недвижимость                              633\n",
       "операции со своей недвижимостью           627\n",
       "строительство жилой недвижимости          624\n",
       "покупка недвижимости                      620\n",
       "покупка своего жилья                      620\n",
       "строительство недвижимости                619\n",
       "ремонт жилью                              607\n",
       "покупка жилой недвижимости                606\n",
       "на покупку своего автомобиля              505\n",
       "заняться высшим образованием              496\n",
       "автомобиль                                494\n",
       "сделка с подержанным автомобилем          486\n",
       "на покупку подержанного автомобиля        478\n",
       "свой автомобиль                           478\n",
       "автомобили                                478\n",
       "на покупку автомобиля                     471\n",
       "приобретение автомобиля                   461\n",
       "дополнительное образование                460\n",
       "сделка с автомобилем                      455\n",
       "высшее образование                        452\n",
       "образование                               447\n",
       "получение дополнительного образования     446\n",
       "получение образования                     442\n",
       "профильное образование                    436\n",
       "получение высшего образования             426\n",
       "заняться образованием                     408\n",
       "Name: purpose, dtype: int64"
      ]
     },
     "execution_count": 29,
     "metadata": {},
     "output_type": "execute_result"
    }
   ],
   "source": [
    "#посмотрим какие уникльные значения клиенты указывают в качестве причины для выдачи кредита, посчитаем их кол-во\n",
    "\n",
    "df['purpose'].value_counts()"
   ]
  },
  {
   "cell_type": "code",
   "execution_count": 30,
   "metadata": {
    "scrolled": false
   },
   "outputs": [],
   "source": [
    "#Лемматизируем значения столбца purpose с помощью библиотеки pymystem3, \n",
    "#а после добавим новый столбец purpose_category с категориями целей в запросе на кредит\n",
    "\n",
    "from pymystem3 import Mystem\n",
    "m = Mystem()\n",
    "\n",
    "def find_category(row):\n",
    "    lemmas = m.lemmatize(row)\n",
    "    if 'автомобиль' in lemmas:\n",
    "        return 'автомобиль'\n",
    "    elif 'свадьба' in lemmas:\n",
    "        return 'свадьба'\n",
    "    elif 'образование' in lemmas:\n",
    "        return 'образование'\n",
    "    elif ('недвижимость' in lemmas) or ('жилье' in lemmas):\n",
    "        return 'недвижимость'\n",
    "    else:\n",
    "        return 'другая категория'\n",
    "\n"
   ]
  },
  {
   "cell_type": "code",
   "execution_count": 31,
   "metadata": {},
   "outputs": [
    {
     "data": {
      "text/html": [
       "<div>\n",
       "<style scoped>\n",
       "    .dataframe tbody tr th:only-of-type {\n",
       "        vertical-align: middle;\n",
       "    }\n",
       "\n",
       "    .dataframe tbody tr th {\n",
       "        vertical-align: top;\n",
       "    }\n",
       "\n",
       "    .dataframe thead th {\n",
       "        text-align: right;\n",
       "    }\n",
       "</style>\n",
       "<table border=\"1\" class=\"dataframe\">\n",
       "  <thead>\n",
       "    <tr style=\"text-align: right;\">\n",
       "      <th></th>\n",
       "      <th>children</th>\n",
       "      <th>days_employed</th>\n",
       "      <th>dob_years</th>\n",
       "      <th>education</th>\n",
       "      <th>education_id</th>\n",
       "      <th>family_status</th>\n",
       "      <th>family_status_id</th>\n",
       "      <th>gender</th>\n",
       "      <th>income_type</th>\n",
       "      <th>debt</th>\n",
       "      <th>total_income</th>\n",
       "      <th>purpose</th>\n",
       "      <th>purpose_category</th>\n",
       "    </tr>\n",
       "  </thead>\n",
       "  <tbody>\n",
       "    <tr>\n",
       "      <td>0</td>\n",
       "      <td>1</td>\n",
       "      <td>63049</td>\n",
       "      <td>42</td>\n",
       "      <td>высшее</td>\n",
       "      <td>0</td>\n",
       "      <td>женат / замужем</td>\n",
       "      <td>0</td>\n",
       "      <td>F</td>\n",
       "      <td>сотрудник</td>\n",
       "      <td>0</td>\n",
       "      <td>253875</td>\n",
       "      <td>покупка жилья</td>\n",
       "      <td>недвижимость</td>\n",
       "    </tr>\n",
       "    <tr>\n",
       "      <td>1</td>\n",
       "      <td>1</td>\n",
       "      <td>63049</td>\n",
       "      <td>36</td>\n",
       "      <td>среднее</td>\n",
       "      <td>1</td>\n",
       "      <td>женат / замужем</td>\n",
       "      <td>0</td>\n",
       "      <td>F</td>\n",
       "      <td>сотрудник</td>\n",
       "      <td>0</td>\n",
       "      <td>112080</td>\n",
       "      <td>приобретение автомобиля</td>\n",
       "      <td>автомобиль</td>\n",
       "    </tr>\n",
       "    <tr>\n",
       "      <td>2</td>\n",
       "      <td>0</td>\n",
       "      <td>63049</td>\n",
       "      <td>33</td>\n",
       "      <td>среднее</td>\n",
       "      <td>1</td>\n",
       "      <td>женат / замужем</td>\n",
       "      <td>0</td>\n",
       "      <td>M</td>\n",
       "      <td>сотрудник</td>\n",
       "      <td>0</td>\n",
       "      <td>145885</td>\n",
       "      <td>покупка жилья</td>\n",
       "      <td>недвижимость</td>\n",
       "    </tr>\n",
       "    <tr>\n",
       "      <td>3</td>\n",
       "      <td>3</td>\n",
       "      <td>63049</td>\n",
       "      <td>32</td>\n",
       "      <td>среднее</td>\n",
       "      <td>1</td>\n",
       "      <td>женат / замужем</td>\n",
       "      <td>0</td>\n",
       "      <td>M</td>\n",
       "      <td>сотрудник</td>\n",
       "      <td>0</td>\n",
       "      <td>267628</td>\n",
       "      <td>дополнительное образование</td>\n",
       "      <td>образование</td>\n",
       "    </tr>\n",
       "    <tr>\n",
       "      <td>4</td>\n",
       "      <td>0</td>\n",
       "      <td>63049</td>\n",
       "      <td>53</td>\n",
       "      <td>среднее</td>\n",
       "      <td>1</td>\n",
       "      <td>гражданский брак</td>\n",
       "      <td>1</td>\n",
       "      <td>F</td>\n",
       "      <td>пенсионер</td>\n",
       "      <td>0</td>\n",
       "      <td>158616</td>\n",
       "      <td>сыграть свадьбу</td>\n",
       "      <td>свадьба</td>\n",
       "    </tr>\n",
       "    <tr>\n",
       "      <td>5</td>\n",
       "      <td>0</td>\n",
       "      <td>63049</td>\n",
       "      <td>27</td>\n",
       "      <td>высшее</td>\n",
       "      <td>0</td>\n",
       "      <td>гражданский брак</td>\n",
       "      <td>1</td>\n",
       "      <td>M</td>\n",
       "      <td>компаньон</td>\n",
       "      <td>0</td>\n",
       "      <td>255763</td>\n",
       "      <td>покупка жилья</td>\n",
       "      <td>недвижимость</td>\n",
       "    </tr>\n",
       "    <tr>\n",
       "      <td>6</td>\n",
       "      <td>0</td>\n",
       "      <td>63049</td>\n",
       "      <td>43</td>\n",
       "      <td>высшее</td>\n",
       "      <td>0</td>\n",
       "      <td>женат / замужем</td>\n",
       "      <td>0</td>\n",
       "      <td>F</td>\n",
       "      <td>компаньон</td>\n",
       "      <td>0</td>\n",
       "      <td>240525</td>\n",
       "      <td>операции с жильем</td>\n",
       "      <td>недвижимость</td>\n",
       "    </tr>\n",
       "    <tr>\n",
       "      <td>7</td>\n",
       "      <td>0</td>\n",
       "      <td>63049</td>\n",
       "      <td>50</td>\n",
       "      <td>среднее</td>\n",
       "      <td>1</td>\n",
       "      <td>женат / замужем</td>\n",
       "      <td>0</td>\n",
       "      <td>M</td>\n",
       "      <td>сотрудник</td>\n",
       "      <td>0</td>\n",
       "      <td>135823</td>\n",
       "      <td>образование</td>\n",
       "      <td>образование</td>\n",
       "    </tr>\n",
       "    <tr>\n",
       "      <td>8</td>\n",
       "      <td>2</td>\n",
       "      <td>63049</td>\n",
       "      <td>35</td>\n",
       "      <td>высшее</td>\n",
       "      <td>0</td>\n",
       "      <td>гражданский брак</td>\n",
       "      <td>1</td>\n",
       "      <td>F</td>\n",
       "      <td>сотрудник</td>\n",
       "      <td>0</td>\n",
       "      <td>95856</td>\n",
       "      <td>на проведение свадьбы</td>\n",
       "      <td>свадьба</td>\n",
       "    </tr>\n",
       "    <tr>\n",
       "      <td>9</td>\n",
       "      <td>0</td>\n",
       "      <td>63049</td>\n",
       "      <td>41</td>\n",
       "      <td>среднее</td>\n",
       "      <td>1</td>\n",
       "      <td>женат / замужем</td>\n",
       "      <td>0</td>\n",
       "      <td>M</td>\n",
       "      <td>сотрудник</td>\n",
       "      <td>0</td>\n",
       "      <td>144425</td>\n",
       "      <td>покупка жилья для семьи</td>\n",
       "      <td>недвижимость</td>\n",
       "    </tr>\n",
       "  </tbody>\n",
       "</table>\n",
       "</div>"
      ],
      "text/plain": [
       "   children  days_employed  dob_years education  education_id  \\\n",
       "0         1          63049         42    высшее             0   \n",
       "1         1          63049         36   среднее             1   \n",
       "2         0          63049         33   среднее             1   \n",
       "3         3          63049         32   среднее             1   \n",
       "4         0          63049         53   среднее             1   \n",
       "5         0          63049         27    высшее             0   \n",
       "6         0          63049         43    высшее             0   \n",
       "7         0          63049         50   среднее             1   \n",
       "8         2          63049         35    высшее             0   \n",
       "9         0          63049         41   среднее             1   \n",
       "\n",
       "      family_status  family_status_id gender income_type  debt  total_income  \\\n",
       "0   женат / замужем                 0      F   сотрудник     0        253875   \n",
       "1   женат / замужем                 0      F   сотрудник     0        112080   \n",
       "2   женат / замужем                 0      M   сотрудник     0        145885   \n",
       "3   женат / замужем                 0      M   сотрудник     0        267628   \n",
       "4  гражданский брак                 1      F   пенсионер     0        158616   \n",
       "5  гражданский брак                 1      M   компаньон     0        255763   \n",
       "6   женат / замужем                 0      F   компаньон     0        240525   \n",
       "7   женат / замужем                 0      M   сотрудник     0        135823   \n",
       "8  гражданский брак                 1      F   сотрудник     0         95856   \n",
       "9   женат / замужем                 0      M   сотрудник     0        144425   \n",
       "\n",
       "                      purpose purpose_category  \n",
       "0               покупка жилья     недвижимость  \n",
       "1     приобретение автомобиля       автомобиль  \n",
       "2               покупка жилья     недвижимость  \n",
       "3  дополнительное образование      образование  \n",
       "4             сыграть свадьбу          свадьба  \n",
       "5               покупка жилья     недвижимость  \n",
       "6           операции с жильем     недвижимость  \n",
       "7                 образование      образование  \n",
       "8       на проведение свадьбы          свадьба  \n",
       "9     покупка жилья для семьи     недвижимость  "
      ]
     },
     "metadata": {},
     "output_type": "display_data"
    }
   ],
   "source": [
    "#Применяем созданную функцию к колонке loan_purpose и добавляем колонку с леммами - loan_purpose_dict\n",
    "\n",
    "df['purpose_category'] = df['purpose'].apply(find_category)\n",
    "display(df.head(10))"
   ]
  },
  {
   "cell_type": "code",
   "execution_count": 32,
   "metadata": {},
   "outputs": [
    {
     "data": {
      "text/plain": [
       "purpose_category\n",
       "недвижимость    10810\n",
       "автомобиль       4306\n",
       "образование      4013\n",
       "свадьба          2324\n",
       "Name: purpose_category, dtype: int64"
      ]
     },
     "metadata": {},
     "output_type": "display_data"
    }
   ],
   "source": [
    "#поcмoтрим как получилась разделение на категории тв ыводим перечень целей получения кредита, отсортированный по убыванию\n",
    "\n",
    "purpose_category=df.groupby('purpose_category')['purpose_category'].count()\n",
    "display(purpose_category.sort_values(ascending = False))"
   ]
  },
  {
   "cell_type": "markdown",
   "metadata": {},
   "source": [
    "**Вывод**"
   ]
  },
  {
   "cell_type": "markdown",
   "metadata": {},
   "source": [
    "Видно, что в качестве причины к выдачи кредита клиенты  указывают такие основы причины: 1) покупка автомобиля  2) организация свадьбы  3)получение образования 4) деньги на недвижимости(как покупка так и строильство и ремонт) . Для удобства анализа причины к выдаче/отказ к выдаче -  я выделил эти причины в отдельные группу при помощи функции. Метод лемматизации показал,  что более половины клиентов берут кредит на приобретение недвижимости."
   ]
  },
  {
   "cell_type": "markdown",
   "metadata": {},
   "source": [
    "### Категоризация данных"
   ]
  },
  {
   "cell_type": "markdown",
   "metadata": {},
   "source": [
    "Поскольку ранее я уже выделил категорию заёмщиков по цели кредита, сделаю сейчас категории  в зависимости от дохода\n",
    "Для этого напишем функцию, которая выделит клиентов в зависимости от дохода.В начале посмотрим какое есть максимальное и минимальное  значение дохода"
   ]
  },
  {
   "cell_type": "code",
   "execution_count": 33,
   "metadata": {},
   "outputs": [
    {
     "data": {
      "text/html": [
       "<div>\n",
       "<style scoped>\n",
       "    .dataframe tbody tr th:only-of-type {\n",
       "        vertical-align: middle;\n",
       "    }\n",
       "\n",
       "    .dataframe tbody tr th {\n",
       "        vertical-align: top;\n",
       "    }\n",
       "\n",
       "    .dataframe thead th {\n",
       "        text-align: right;\n",
       "    }\n",
       "</style>\n",
       "<table border=\"1\" class=\"dataframe\">\n",
       "  <thead>\n",
       "    <tr style=\"text-align: right;\">\n",
       "      <th></th>\n",
       "      <th>children</th>\n",
       "      <th>days_employed</th>\n",
       "      <th>dob_years</th>\n",
       "      <th>education</th>\n",
       "      <th>education_id</th>\n",
       "      <th>family_status</th>\n",
       "      <th>family_status_id</th>\n",
       "      <th>gender</th>\n",
       "      <th>income_type</th>\n",
       "      <th>debt</th>\n",
       "      <th>total_income</th>\n",
       "      <th>purpose</th>\n",
       "      <th>purpose_category</th>\n",
       "    </tr>\n",
       "  </thead>\n",
       "  <tbody>\n",
       "    <tr>\n",
       "      <td>12389</td>\n",
       "      <td>0</td>\n",
       "      <td>63049</td>\n",
       "      <td>44</td>\n",
       "      <td>высшее</td>\n",
       "      <td>0</td>\n",
       "      <td>женат / замужем</td>\n",
       "      <td>0</td>\n",
       "      <td>M</td>\n",
       "      <td>компаньон</td>\n",
       "      <td>0</td>\n",
       "      <td>2265604</td>\n",
       "      <td>ремонт жилью</td>\n",
       "      <td>недвижимость</td>\n",
       "    </tr>\n",
       "  </tbody>\n",
       "</table>\n",
       "</div>"
      ],
      "text/plain": [
       "       children  days_employed  dob_years education  education_id  \\\n",
       "12389         0          63049         44    высшее             0   \n",
       "\n",
       "         family_status  family_status_id gender income_type  debt  \\\n",
       "12389  женат / замужем                 0      M   компаньон     0   \n",
       "\n",
       "       total_income       purpose purpose_category  \n",
       "12389       2265604  ремонт жилью     недвижимость  "
      ]
     },
     "metadata": {},
     "output_type": "display_data"
    },
    {
     "data": {
      "text/html": [
       "<div>\n",
       "<style scoped>\n",
       "    .dataframe tbody tr th:only-of-type {\n",
       "        vertical-align: middle;\n",
       "    }\n",
       "\n",
       "    .dataframe tbody tr th {\n",
       "        vertical-align: top;\n",
       "    }\n",
       "\n",
       "    .dataframe thead th {\n",
       "        text-align: right;\n",
       "    }\n",
       "</style>\n",
       "<table border=\"1\" class=\"dataframe\">\n",
       "  <thead>\n",
       "    <tr style=\"text-align: right;\">\n",
       "      <th></th>\n",
       "      <th>children</th>\n",
       "      <th>days_employed</th>\n",
       "      <th>dob_years</th>\n",
       "      <th>education</th>\n",
       "      <th>education_id</th>\n",
       "      <th>family_status</th>\n",
       "      <th>family_status_id</th>\n",
       "      <th>gender</th>\n",
       "      <th>income_type</th>\n",
       "      <th>debt</th>\n",
       "      <th>total_income</th>\n",
       "      <th>purpose</th>\n",
       "      <th>purpose_category</th>\n",
       "    </tr>\n",
       "  </thead>\n",
       "  <tbody>\n",
       "    <tr>\n",
       "      <td>14554</td>\n",
       "      <td>0</td>\n",
       "      <td>63049</td>\n",
       "      <td>57</td>\n",
       "      <td>среднее</td>\n",
       "      <td>1</td>\n",
       "      <td>женат / замужем</td>\n",
       "      <td>0</td>\n",
       "      <td>F</td>\n",
       "      <td>пенсионер</td>\n",
       "      <td>1</td>\n",
       "      <td>20667</td>\n",
       "      <td>недвижимость</td>\n",
       "      <td>недвижимость</td>\n",
       "    </tr>\n",
       "  </tbody>\n",
       "</table>\n",
       "</div>"
      ],
      "text/plain": [
       "       children  days_employed  dob_years education  education_id  \\\n",
       "14554         0          63049         57   среднее             1   \n",
       "\n",
       "         family_status  family_status_id gender income_type  debt  \\\n",
       "14554  женат / замужем                 0      F   пенсионер     1   \n",
       "\n",
       "       total_income       purpose purpose_category  \n",
       "14554         20667  недвижимость     недвижимость  "
      ]
     },
     "metadata": {},
     "output_type": "display_data"
    }
   ],
   "source": [
    "#макимальное и минимальное значние в столбце 'total_income\n",
    "\n",
    "display(df[df['total_income'] == df['total_income'].max()]) \n",
    "display(df[df['total_income'] == df['total_income'].min()]) "
   ]
  },
  {
   "cell_type": "code",
   "execution_count": 34,
   "metadata": {},
   "outputs": [
    {
     "data": {
      "text/html": [
       "<div>\n",
       "<style scoped>\n",
       "    .dataframe tbody tr th:only-of-type {\n",
       "        vertical-align: middle;\n",
       "    }\n",
       "\n",
       "    .dataframe tbody tr th {\n",
       "        vertical-align: top;\n",
       "    }\n",
       "\n",
       "    .dataframe thead th {\n",
       "        text-align: right;\n",
       "    }\n",
       "</style>\n",
       "<table border=\"1\" class=\"dataframe\">\n",
       "  <thead>\n",
       "    <tr style=\"text-align: right;\">\n",
       "      <th></th>\n",
       "      <th>children</th>\n",
       "      <th>days_employed</th>\n",
       "      <th>dob_years</th>\n",
       "      <th>education</th>\n",
       "      <th>education_id</th>\n",
       "      <th>family_status</th>\n",
       "      <th>family_status_id</th>\n",
       "      <th>gender</th>\n",
       "      <th>income_type</th>\n",
       "      <th>debt</th>\n",
       "      <th>total_income</th>\n",
       "      <th>purpose</th>\n",
       "      <th>purpose_category</th>\n",
       "      <th>total_income_category</th>\n",
       "    </tr>\n",
       "  </thead>\n",
       "  <tbody>\n",
       "    <tr>\n",
       "      <td>0</td>\n",
       "      <td>1</td>\n",
       "      <td>63049</td>\n",
       "      <td>42</td>\n",
       "      <td>высшее</td>\n",
       "      <td>0</td>\n",
       "      <td>женат / замужем</td>\n",
       "      <td>0</td>\n",
       "      <td>F</td>\n",
       "      <td>сотрудник</td>\n",
       "      <td>0</td>\n",
       "      <td>253875</td>\n",
       "      <td>покупка жилья</td>\n",
       "      <td>недвижимость</td>\n",
       "      <td>высокий доход</td>\n",
       "    </tr>\n",
       "    <tr>\n",
       "      <td>1</td>\n",
       "      <td>1</td>\n",
       "      <td>63049</td>\n",
       "      <td>36</td>\n",
       "      <td>среднее</td>\n",
       "      <td>1</td>\n",
       "      <td>женат / замужем</td>\n",
       "      <td>0</td>\n",
       "      <td>F</td>\n",
       "      <td>сотрудник</td>\n",
       "      <td>0</td>\n",
       "      <td>112080</td>\n",
       "      <td>приобретение автомобиля</td>\n",
       "      <td>автомобиль</td>\n",
       "      <td>низкий доход</td>\n",
       "    </tr>\n",
       "    <tr>\n",
       "      <td>2</td>\n",
       "      <td>0</td>\n",
       "      <td>63049</td>\n",
       "      <td>33</td>\n",
       "      <td>среднее</td>\n",
       "      <td>1</td>\n",
       "      <td>женат / замужем</td>\n",
       "      <td>0</td>\n",
       "      <td>M</td>\n",
       "      <td>сотрудник</td>\n",
       "      <td>0</td>\n",
       "      <td>145885</td>\n",
       "      <td>покупка жилья</td>\n",
       "      <td>недвижимость</td>\n",
       "      <td>средний доход</td>\n",
       "    </tr>\n",
       "    <tr>\n",
       "      <td>3</td>\n",
       "      <td>3</td>\n",
       "      <td>63049</td>\n",
       "      <td>32</td>\n",
       "      <td>среднее</td>\n",
       "      <td>1</td>\n",
       "      <td>женат / замужем</td>\n",
       "      <td>0</td>\n",
       "      <td>M</td>\n",
       "      <td>сотрудник</td>\n",
       "      <td>0</td>\n",
       "      <td>267628</td>\n",
       "      <td>дополнительное образование</td>\n",
       "      <td>образование</td>\n",
       "      <td>высокий доход</td>\n",
       "    </tr>\n",
       "    <tr>\n",
       "      <td>4</td>\n",
       "      <td>0</td>\n",
       "      <td>63049</td>\n",
       "      <td>53</td>\n",
       "      <td>среднее</td>\n",
       "      <td>1</td>\n",
       "      <td>гражданский брак</td>\n",
       "      <td>1</td>\n",
       "      <td>F</td>\n",
       "      <td>пенсионер</td>\n",
       "      <td>0</td>\n",
       "      <td>158616</td>\n",
       "      <td>сыграть свадьбу</td>\n",
       "      <td>свадьба</td>\n",
       "      <td>средний доход</td>\n",
       "    </tr>\n",
       "    <tr>\n",
       "      <td>5</td>\n",
       "      <td>0</td>\n",
       "      <td>63049</td>\n",
       "      <td>27</td>\n",
       "      <td>высшее</td>\n",
       "      <td>0</td>\n",
       "      <td>гражданский брак</td>\n",
       "      <td>1</td>\n",
       "      <td>M</td>\n",
       "      <td>компаньон</td>\n",
       "      <td>0</td>\n",
       "      <td>255763</td>\n",
       "      <td>покупка жилья</td>\n",
       "      <td>недвижимость</td>\n",
       "      <td>высокий доход</td>\n",
       "    </tr>\n",
       "    <tr>\n",
       "      <td>6</td>\n",
       "      <td>0</td>\n",
       "      <td>63049</td>\n",
       "      <td>43</td>\n",
       "      <td>высшее</td>\n",
       "      <td>0</td>\n",
       "      <td>женат / замужем</td>\n",
       "      <td>0</td>\n",
       "      <td>F</td>\n",
       "      <td>компаньон</td>\n",
       "      <td>0</td>\n",
       "      <td>240525</td>\n",
       "      <td>операции с жильем</td>\n",
       "      <td>недвижимость</td>\n",
       "      <td>высокий доход</td>\n",
       "    </tr>\n",
       "    <tr>\n",
       "      <td>7</td>\n",
       "      <td>0</td>\n",
       "      <td>63049</td>\n",
       "      <td>50</td>\n",
       "      <td>среднее</td>\n",
       "      <td>1</td>\n",
       "      <td>женат / замужем</td>\n",
       "      <td>0</td>\n",
       "      <td>M</td>\n",
       "      <td>сотрудник</td>\n",
       "      <td>0</td>\n",
       "      <td>135823</td>\n",
       "      <td>образование</td>\n",
       "      <td>образование</td>\n",
       "      <td>средний доход</td>\n",
       "    </tr>\n",
       "    <tr>\n",
       "      <td>8</td>\n",
       "      <td>2</td>\n",
       "      <td>63049</td>\n",
       "      <td>35</td>\n",
       "      <td>высшее</td>\n",
       "      <td>0</td>\n",
       "      <td>гражданский брак</td>\n",
       "      <td>1</td>\n",
       "      <td>F</td>\n",
       "      <td>сотрудник</td>\n",
       "      <td>0</td>\n",
       "      <td>95856</td>\n",
       "      <td>на проведение свадьбы</td>\n",
       "      <td>свадьба</td>\n",
       "      <td>низкий доход</td>\n",
       "    </tr>\n",
       "    <tr>\n",
       "      <td>9</td>\n",
       "      <td>0</td>\n",
       "      <td>63049</td>\n",
       "      <td>41</td>\n",
       "      <td>среднее</td>\n",
       "      <td>1</td>\n",
       "      <td>женат / замужем</td>\n",
       "      <td>0</td>\n",
       "      <td>M</td>\n",
       "      <td>сотрудник</td>\n",
       "      <td>0</td>\n",
       "      <td>144425</td>\n",
       "      <td>покупка жилья для семьи</td>\n",
       "      <td>недвижимость</td>\n",
       "      <td>средний доход</td>\n",
       "    </tr>\n",
       "  </tbody>\n",
       "</table>\n",
       "</div>"
      ],
      "text/plain": [
       "   children  days_employed  dob_years education  education_id  \\\n",
       "0         1          63049         42    высшее             0   \n",
       "1         1          63049         36   среднее             1   \n",
       "2         0          63049         33   среднее             1   \n",
       "3         3          63049         32   среднее             1   \n",
       "4         0          63049         53   среднее             1   \n",
       "5         0          63049         27    высшее             0   \n",
       "6         0          63049         43    высшее             0   \n",
       "7         0          63049         50   среднее             1   \n",
       "8         2          63049         35    высшее             0   \n",
       "9         0          63049         41   среднее             1   \n",
       "\n",
       "      family_status  family_status_id gender income_type  debt  total_income  \\\n",
       "0   женат / замужем                 0      F   сотрудник     0        253875   \n",
       "1   женат / замужем                 0      F   сотрудник     0        112080   \n",
       "2   женат / замужем                 0      M   сотрудник     0        145885   \n",
       "3   женат / замужем                 0      M   сотрудник     0        267628   \n",
       "4  гражданский брак                 1      F   пенсионер     0        158616   \n",
       "5  гражданский брак                 1      M   компаньон     0        255763   \n",
       "6   женат / замужем                 0      F   компаньон     0        240525   \n",
       "7   женат / замужем                 0      M   сотрудник     0        135823   \n",
       "8  гражданский брак                 1      F   сотрудник     0         95856   \n",
       "9   женат / замужем                 0      M   сотрудник     0        144425   \n",
       "\n",
       "                      purpose purpose_category total_income_category  \n",
       "0               покупка жилья     недвижимость         высокий доход  \n",
       "1     приобретение автомобиля       автомобиль          низкий доход  \n",
       "2               покупка жилья     недвижимость         средний доход  \n",
       "3  дополнительное образование      образование         высокий доход  \n",
       "4             сыграть свадьбу          свадьба         средний доход  \n",
       "5               покупка жилья     недвижимость         высокий доход  \n",
       "6           операции с жильем     недвижимость         высокий доход  \n",
       "7                 образование      образование         средний доход  \n",
       "8       на проведение свадьбы          свадьба          низкий доход  \n",
       "9     покупка жилья для семьи     недвижимость         средний доход  "
      ]
     },
     "metadata": {},
     "output_type": "display_data"
    }
   ],
   "source": [
    "# теперь напишем функцию, которая выделит клинетов в зависимоти от дохода, опредлим 4 категории \n",
    "#низкий как двойная(3*) величина самого минимального дохода, средний как патикратная(6*) величина, выкокий как почти что макимальная но мнешьше       \n",
    "          \n",
    "def total_income_group(income):\n",
    "    if income<120000:\n",
    "        return 'низкий доход'\n",
    "    if 40001<=income<200000:\n",
    "        return 'средний доход'\n",
    "    if 100001<=income<300000:\n",
    "        return 'высокий доход'\n",
    "    return 'очень высокий доход'\n",
    "           \n",
    "\n",
    "\n",
    "df['total_income_category'] = df['total_income'].apply(total_income_group)\n",
    "\n",
    "\n",
    "display(df.head(10))"
   ]
  },
  {
   "cell_type": "code",
   "execution_count": 35,
   "metadata": {},
   "outputs": [
    {
     "data": {
      "text/plain": [
       "средний доход          9156\n",
       "низкий доход           7231\n",
       "высокий доход          3583\n",
       "очень высокий доход    1483\n",
       "Name: total_income_category, dtype: int64"
      ]
     },
     "execution_count": 35,
     "metadata": {},
     "output_type": "execute_result"
    }
   ],
   "source": [
    "\n",
    "\n",
    "df['total_income_category'].value_counts()"
   ]
  },
  {
   "cell_type": "markdown",
   "metadata": {},
   "source": [
    "**Вывод**"
   ]
  },
  {
   "cell_type": "markdown",
   "metadata": {},
   "source": [
    "Выделил категорию заемщиком в зависимости от уровня дохода, эти категории пригодятся  при анализе возврата кредита в зависимости от уровня дохода заемщика"
   ]
  },
  {
   "cell_type": "markdown",
   "metadata": {},
   "source": [
    "## Шаг 3. Ответьте на вопросы"
   ]
  },
  {
   "cell_type": "markdown",
   "metadata": {},
   "source": [
    "- Есть ли зависимость между наличием детей и возвратом кредита в срок?"
   ]
  },
  {
   "cell_type": "code",
   "execution_count": 36,
   "metadata": {},
   "outputs": [
    {
     "data": {
      "text/html": [
       "<div>\n",
       "<style scoped>\n",
       "    .dataframe tbody tr th:only-of-type {\n",
       "        vertical-align: middle;\n",
       "    }\n",
       "\n",
       "    .dataframe tbody tr th {\n",
       "        vertical-align: top;\n",
       "    }\n",
       "\n",
       "    .dataframe thead th {\n",
       "        text-align: right;\n",
       "    }\n",
       "</style>\n",
       "<table border=\"1\" class=\"dataframe\">\n",
       "  <thead>\n",
       "    <tr style=\"text-align: right;\">\n",
       "      <th></th>\n",
       "      <th>count_children</th>\n",
       "      <th>sum_children</th>\n",
       "      <th>result_children</th>\n",
       "    </tr>\n",
       "    <tr>\n",
       "      <th>children</th>\n",
       "      <th></th>\n",
       "      <th></th>\n",
       "      <th></th>\n",
       "    </tr>\n",
       "  </thead>\n",
       "  <tbody>\n",
       "    <tr>\n",
       "      <td>0</td>\n",
       "      <td>14090</td>\n",
       "      <td>1063</td>\n",
       "      <td>7.54</td>\n",
       "    </tr>\n",
       "    <tr>\n",
       "      <td>1</td>\n",
       "      <td>4855</td>\n",
       "      <td>445</td>\n",
       "      <td>9.17</td>\n",
       "    </tr>\n",
       "    <tr>\n",
       "      <td>2</td>\n",
       "      <td>2128</td>\n",
       "      <td>202</td>\n",
       "      <td>9.49</td>\n",
       "    </tr>\n",
       "    <tr>\n",
       "      <td>3</td>\n",
       "      <td>330</td>\n",
       "      <td>27</td>\n",
       "      <td>8.18</td>\n",
       "    </tr>\n",
       "    <tr>\n",
       "      <td>4</td>\n",
       "      <td>41</td>\n",
       "      <td>4</td>\n",
       "      <td>9.76</td>\n",
       "    </tr>\n",
       "    <tr>\n",
       "      <td>5</td>\n",
       "      <td>9</td>\n",
       "      <td>0</td>\n",
       "      <td>0.00</td>\n",
       "    </tr>\n",
       "  </tbody>\n",
       "</table>\n",
       "</div>"
      ],
      "text/plain": [
       "          count_children  sum_children  result_children\n",
       "children                                               \n",
       "0                  14090          1063             7.54\n",
       "1                   4855           445             9.17\n",
       "2                   2128           202             9.49\n",
       "3                    330            27             8.18\n",
       "4                     41             4             9.76\n",
       "5                      9             0             0.00"
      ]
     },
     "metadata": {},
     "output_type": "display_data"
    }
   ],
   "source": [
    "#определим как кол-во детей влияет на возврат кредита в срок, для этого найдем \n",
    "#отношение кол-во заемщиков с детьми к возврату кредита и выведем данные в процентах c округлением\n",
    "\n",
    "debt_from_children = pd.DataFrame()\n",
    "debt_from_children['count_children'] = df.groupby('children')['debt'].count()\n",
    "debt_from_children['sum_children'] = df.groupby('children')['debt'].sum()\n",
    "debt_from_children['result_children'] = round((debt_from_children['sum_children'] / debt_from_children['count_children'])*100,2)\n",
    "\n",
    "#и отсортируем результат по возрастанию кол-во просроченных кредитов\n",
    "display(debt_from_children.sort_values(by = 'sum_children', ascending = False))"
   ]
  },
  {
   "cell_type": "code",
   "execution_count": 37,
   "metadata": {},
   "outputs": [
    {
     "data": {
      "text/html": [
       "<div>\n",
       "<style scoped>\n",
       "    .dataframe tbody tr th:only-of-type {\n",
       "        vertical-align: middle;\n",
       "    }\n",
       "\n",
       "    .dataframe tbody tr th {\n",
       "        vertical-align: top;\n",
       "    }\n",
       "\n",
       "    .dataframe thead th {\n",
       "        text-align: right;\n",
       "    }\n",
       "</style>\n",
       "<table border=\"1\" class=\"dataframe\">\n",
       "  <thead>\n",
       "    <tr style=\"text-align: right;\">\n",
       "      <th></th>\n",
       "      <th>count</th>\n",
       "      <th>sum</th>\n",
       "      <th>mean</th>\n",
       "    </tr>\n",
       "    <tr>\n",
       "      <th>children</th>\n",
       "      <th></th>\n",
       "      <th></th>\n",
       "      <th></th>\n",
       "    </tr>\n",
       "  </thead>\n",
       "  <tbody>\n",
       "    <tr>\n",
       "      <td>0</td>\n",
       "      <td>14090</td>\n",
       "      <td>1063</td>\n",
       "      <td>0.075444</td>\n",
       "    </tr>\n",
       "    <tr>\n",
       "      <td>1</td>\n",
       "      <td>4855</td>\n",
       "      <td>445</td>\n",
       "      <td>0.091658</td>\n",
       "    </tr>\n",
       "    <tr>\n",
       "      <td>2</td>\n",
       "      <td>2128</td>\n",
       "      <td>202</td>\n",
       "      <td>0.094925</td>\n",
       "    </tr>\n",
       "    <tr>\n",
       "      <td>3</td>\n",
       "      <td>330</td>\n",
       "      <td>27</td>\n",
       "      <td>0.081818</td>\n",
       "    </tr>\n",
       "    <tr>\n",
       "      <td>4</td>\n",
       "      <td>41</td>\n",
       "      <td>4</td>\n",
       "      <td>0.097561</td>\n",
       "    </tr>\n",
       "    <tr>\n",
       "      <td>5</td>\n",
       "      <td>9</td>\n",
       "      <td>0</td>\n",
       "      <td>0.000000</td>\n",
       "    </tr>\n",
       "  </tbody>\n",
       "</table>\n",
       "</div>"
      ],
      "text/plain": [
       "          count   sum      mean\n",
       "children                       \n",
       "0         14090  1063  0.075444\n",
       "1          4855   445  0.091658\n",
       "2          2128   202  0.094925\n",
       "3           330    27  0.081818\n",
       "4            41     4  0.097561\n",
       "5             9     0  0.000000"
      ]
     },
     "execution_count": 37,
     "metadata": {},
     "output_type": "execute_result"
    }
   ],
   "source": [
    "# КОД РЕВЬЮЕРА \n",
    "\n",
    "df.groupby('children')['debt'].agg(['count','sum','mean'])"
   ]
  },
  {
   "cell_type": "code",
   "execution_count": 38,
   "metadata": {},
   "outputs": [
    {
     "data": {
      "text/html": [
       "<div>\n",
       "<style scoped>\n",
       "    .dataframe tbody tr th:only-of-type {\n",
       "        vertical-align: middle;\n",
       "    }\n",
       "\n",
       "    .dataframe tbody tr th {\n",
       "        vertical-align: top;\n",
       "    }\n",
       "\n",
       "    .dataframe thead th {\n",
       "        text-align: right;\n",
       "    }\n",
       "</style>\n",
       "<table border=\"1\" class=\"dataframe\">\n",
       "  <thead>\n",
       "    <tr style=\"text-align: right;\">\n",
       "      <th></th>\n",
       "      <th>count</th>\n",
       "      <th>sum</th>\n",
       "      <th>my_mean</th>\n",
       "    </tr>\n",
       "    <tr>\n",
       "      <th>children</th>\n",
       "      <th></th>\n",
       "      <th></th>\n",
       "      <th></th>\n",
       "    </tr>\n",
       "  </thead>\n",
       "  <tbody>\n",
       "    <tr>\n",
       "      <td>0</td>\n",
       "      <td>14090</td>\n",
       "      <td>1063</td>\n",
       "      <td>7.544358</td>\n",
       "    </tr>\n",
       "    <tr>\n",
       "      <td>1</td>\n",
       "      <td>4855</td>\n",
       "      <td>445</td>\n",
       "      <td>9.165808</td>\n",
       "    </tr>\n",
       "    <tr>\n",
       "      <td>2</td>\n",
       "      <td>2128</td>\n",
       "      <td>202</td>\n",
       "      <td>9.492481</td>\n",
       "    </tr>\n",
       "    <tr>\n",
       "      <td>3</td>\n",
       "      <td>330</td>\n",
       "      <td>27</td>\n",
       "      <td>8.181818</td>\n",
       "    </tr>\n",
       "    <tr>\n",
       "      <td>4</td>\n",
       "      <td>41</td>\n",
       "      <td>4</td>\n",
       "      <td>9.756098</td>\n",
       "    </tr>\n",
       "    <tr>\n",
       "      <td>5</td>\n",
       "      <td>9</td>\n",
       "      <td>0</td>\n",
       "      <td>0.000000</td>\n",
       "    </tr>\n",
       "  </tbody>\n",
       "</table>\n",
       "</div>"
      ],
      "text/plain": [
       "          count   sum   my_mean\n",
       "children                       \n",
       "0         14090  1063  7.544358\n",
       "1          4855   445  9.165808\n",
       "2          2128   202  9.492481\n",
       "3           330    27  8.181818\n",
       "4            41     4  9.756098\n",
       "5             9     0  0.000000"
      ]
     },
     "execution_count": 38,
     "metadata": {},
     "output_type": "execute_result"
    }
   ],
   "source": [
    "# КОД РЕВЬЮЕРА\n",
    "\n",
    "def my_mean(x): return x.mean()*100\n",
    "\n",
    "# В кач-ве агрегирования можно любую функцию брать.\n",
    "df.groupby('children')['debt'].agg(['count', 'sum', my_mean])"
   ]
  },
  {
   "cell_type": "code",
   "execution_count": 39,
   "metadata": {},
   "outputs": [
    {
     "data": {
      "text/html": [
       "<div>\n",
       "<style scoped>\n",
       "    .dataframe tbody tr th:only-of-type {\n",
       "        vertical-align: middle;\n",
       "    }\n",
       "\n",
       "    .dataframe tbody tr th {\n",
       "        vertical-align: top;\n",
       "    }\n",
       "\n",
       "    .dataframe thead th {\n",
       "        text-align: right;\n",
       "    }\n",
       "</style>\n",
       "<table border=\"1\" class=\"dataframe\">\n",
       "  <thead>\n",
       "    <tr style=\"text-align: right;\">\n",
       "      <th></th>\n",
       "      <th>count</th>\n",
       "      <th>sum</th>\n",
       "      <th>my_mean</th>\n",
       "    </tr>\n",
       "    <tr>\n",
       "      <th>children</th>\n",
       "      <th></th>\n",
       "      <th></th>\n",
       "      <th></th>\n",
       "    </tr>\n",
       "  </thead>\n",
       "  <tbody>\n",
       "    <tr>\n",
       "      <td>0</td>\n",
       "      <td>14090</td>\n",
       "      <td>1063</td>\n",
       "      <td>7.544358</td>\n",
       "    </tr>\n",
       "    <tr>\n",
       "      <td>1</td>\n",
       "      <td>4855</td>\n",
       "      <td>445</td>\n",
       "      <td>9.165808</td>\n",
       "    </tr>\n",
       "    <tr>\n",
       "      <td>2</td>\n",
       "      <td>2128</td>\n",
       "      <td>202</td>\n",
       "      <td>9.492481</td>\n",
       "    </tr>\n",
       "    <tr>\n",
       "      <td>3</td>\n",
       "      <td>330</td>\n",
       "      <td>27</td>\n",
       "      <td>8.181818</td>\n",
       "    </tr>\n",
       "    <tr>\n",
       "      <td>4</td>\n",
       "      <td>41</td>\n",
       "      <td>4</td>\n",
       "      <td>9.756098</td>\n",
       "    </tr>\n",
       "    <tr>\n",
       "      <td>5</td>\n",
       "      <td>9</td>\n",
       "      <td>0</td>\n",
       "      <td>0.000000</td>\n",
       "    </tr>\n",
       "  </tbody>\n",
       "</table>\n",
       "</div>"
      ],
      "text/plain": [
       "          count   sum   my_mean\n",
       "children                       \n",
       "0         14090  1063  7.544358\n",
       "1          4855   445  9.165808\n",
       "2          2128   202  9.492481\n",
       "3           330    27  8.181818\n",
       "4            41     4  9.756098\n",
       "5             9     0  0.000000"
      ]
     },
     "execution_count": 39,
     "metadata": {},
     "output_type": "execute_result"
    }
   ],
   "source": [
    "# КОД РЕВЬЮЕРА\n",
    "\n",
    "def my_mean(x): return x.mean()*100\n",
    "\n",
    "df.groupby('children')['debt'].agg(['count', 'sum', my_mean])"
   ]
  },
  {
   "cell_type": "code",
   "execution_count": 40,
   "metadata": {},
   "outputs": [
    {
     "data": {
      "text/html": [
       "<div>\n",
       "<style scoped>\n",
       "    .dataframe tbody tr th:only-of-type {\n",
       "        vertical-align: middle;\n",
       "    }\n",
       "\n",
       "    .dataframe tbody tr th {\n",
       "        vertical-align: top;\n",
       "    }\n",
       "\n",
       "    .dataframe thead th {\n",
       "        text-align: right;\n",
       "    }\n",
       "</style>\n",
       "<table border=\"1\" class=\"dataframe\">\n",
       "  <thead>\n",
       "    <tr style=\"text-align: right;\">\n",
       "      <th></th>\n",
       "      <th>count</th>\n",
       "      <th>sum</th>\n",
       "      <th>my_mean</th>\n",
       "    </tr>\n",
       "    <tr>\n",
       "      <th>children</th>\n",
       "      <th></th>\n",
       "      <th></th>\n",
       "      <th></th>\n",
       "    </tr>\n",
       "  </thead>\n",
       "  <tbody>\n",
       "    <tr>\n",
       "      <td>0</td>\n",
       "      <td>14090</td>\n",
       "      <td>1063</td>\n",
       "      <td>7.54%</td>\n",
       "    </tr>\n",
       "    <tr>\n",
       "      <td>1</td>\n",
       "      <td>4855</td>\n",
       "      <td>445</td>\n",
       "      <td>9.17%</td>\n",
       "    </tr>\n",
       "    <tr>\n",
       "      <td>2</td>\n",
       "      <td>2128</td>\n",
       "      <td>202</td>\n",
       "      <td>9.49%</td>\n",
       "    </tr>\n",
       "    <tr>\n",
       "      <td>3</td>\n",
       "      <td>330</td>\n",
       "      <td>27</td>\n",
       "      <td>8.18%</td>\n",
       "    </tr>\n",
       "    <tr>\n",
       "      <td>4</td>\n",
       "      <td>41</td>\n",
       "      <td>4</td>\n",
       "      <td>9.76%</td>\n",
       "    </tr>\n",
       "    <tr>\n",
       "      <td>5</td>\n",
       "      <td>9</td>\n",
       "      <td>0</td>\n",
       "      <td>0.00%</td>\n",
       "    </tr>\n",
       "  </tbody>\n",
       "</table>\n",
       "</div>"
      ],
      "text/plain": [
       "          count   sum my_mean\n",
       "children                     \n",
       "0         14090  1063  7.54% \n",
       "1          4855   445  9.17% \n",
       "2          2128   202  9.49% \n",
       "3           330    27  8.18% \n",
       "4            41     4  9.76% \n",
       "5             9     0  0.00% "
      ]
     },
     "execution_count": 40,
     "metadata": {},
     "output_type": "execute_result"
    }
   ],
   "source": [
    "# КОД РЕВЬЮЕРА\n",
    "\n",
    "\n",
    "def my_mean(x): return '{:.2%} '.format(x.mean())\n",
    "\n",
    "df.groupby('children')['debt'].agg(['count', 'sum', my_mean])"
   ]
  },
  {
   "cell_type": "markdown",
   "metadata": {},
   "source": [
    "**Вывод**"
   ]
  },
  {
   "cell_type": "markdown",
   "metadata": {},
   "source": [
    "Таким образом,  несмотря на максимальное количество клиентов с просроченными кредитами у которых нет детей, доля их в сравнении с иными категориями клиентов меньшая чуть больше 9%,  а доля просроченных кредитов у клиентов имеющих от 1 до 4 детей - составила от 8-10 %  В силу малого количества попавших в выборку клиентов с 5-ю детьми, резульат по ним можно не учитывать."
   ]
  },
  {
   "cell_type": "markdown",
   "metadata": {},
   "source": [
    "- Есть ли зависимость между семейным положением и возвратом кредита в срок?"
   ]
  },
  {
   "cell_type": "code",
   "execution_count": 41,
   "metadata": {},
   "outputs": [
    {
     "data": {
      "text/html": [
       "<div>\n",
       "<style scoped>\n",
       "    .dataframe tbody tr th:only-of-type {\n",
       "        vertical-align: middle;\n",
       "    }\n",
       "\n",
       "    .dataframe tbody tr th {\n",
       "        vertical-align: top;\n",
       "    }\n",
       "\n",
       "    .dataframe thead th {\n",
       "        text-align: right;\n",
       "    }\n",
       "</style>\n",
       "<table border=\"1\" class=\"dataframe\">\n",
       "  <thead>\n",
       "    <tr style=\"text-align: right;\">\n",
       "      <th></th>\n",
       "      <th>count</th>\n",
       "      <th>sum</th>\n",
       "      <th>&lt;lambda_0&gt;</th>\n",
       "    </tr>\n",
       "    <tr>\n",
       "      <th>children</th>\n",
       "      <th></th>\n",
       "      <th></th>\n",
       "      <th></th>\n",
       "    </tr>\n",
       "  </thead>\n",
       "  <tbody>\n",
       "    <tr>\n",
       "      <td>0</td>\n",
       "      <td>14090</td>\n",
       "      <td>1063</td>\n",
       "      <td>7.54%</td>\n",
       "    </tr>\n",
       "    <tr>\n",
       "      <td>1</td>\n",
       "      <td>4855</td>\n",
       "      <td>445</td>\n",
       "      <td>9.17%</td>\n",
       "    </tr>\n",
       "    <tr>\n",
       "      <td>2</td>\n",
       "      <td>2128</td>\n",
       "      <td>202</td>\n",
       "      <td>9.49%</td>\n",
       "    </tr>\n",
       "    <tr>\n",
       "      <td>3</td>\n",
       "      <td>330</td>\n",
       "      <td>27</td>\n",
       "      <td>8.18%</td>\n",
       "    </tr>\n",
       "    <tr>\n",
       "      <td>4</td>\n",
       "      <td>41</td>\n",
       "      <td>4</td>\n",
       "      <td>9.76%</td>\n",
       "    </tr>\n",
       "    <tr>\n",
       "      <td>5</td>\n",
       "      <td>9</td>\n",
       "      <td>0</td>\n",
       "      <td>0.0%</td>\n",
       "    </tr>\n",
       "  </tbody>\n",
       "</table>\n",
       "</div>"
      ],
      "text/plain": [
       "          count   sum <lambda_0>\n",
       "children                        \n",
       "0         14090  1063      7.54%\n",
       "1          4855   445      9.17%\n",
       "2          2128   202      9.49%\n",
       "3           330    27      8.18%\n",
       "4            41     4      9.76%\n",
       "5             9     0       0.0%"
      ]
     },
     "execution_count": 41,
     "metadata": {},
     "output_type": "execute_result"
    }
   ],
   "source": [
    "\n",
    "\n",
    "# str - чтобы добавить %\n",
    "df.groupby('children')['debt'].agg(['count', 'sum', lambda x: str(round(x.mean()*100,2)) +'%' ])"
   ]
  },
  {
   "cell_type": "code",
   "execution_count": 42,
   "metadata": {},
   "outputs": [
    {
     "data": {
      "text/html": [
       "<div>\n",
       "<style scoped>\n",
       "    .dataframe tbody tr th:only-of-type {\n",
       "        vertical-align: middle;\n",
       "    }\n",
       "\n",
       "    .dataframe tbody tr th {\n",
       "        vertical-align: top;\n",
       "    }\n",
       "\n",
       "    .dataframe thead th {\n",
       "        text-align: right;\n",
       "    }\n",
       "</style>\n",
       "<table border=\"1\" class=\"dataframe\">\n",
       "  <thead>\n",
       "    <tr style=\"text-align: right;\">\n",
       "      <th></th>\n",
       "      <th>count</th>\n",
       "      <th>sum</th>\n",
       "      <th>ff_family_status</th>\n",
       "    </tr>\n",
       "    <tr>\n",
       "      <th>family_status</th>\n",
       "      <th></th>\n",
       "      <th></th>\n",
       "      <th></th>\n",
       "    </tr>\n",
       "  </thead>\n",
       "  <tbody>\n",
       "    <tr>\n",
       "      <td>Не женат / не замужем</td>\n",
       "      <td>2810</td>\n",
       "      <td>274</td>\n",
       "      <td>9.75%</td>\n",
       "    </tr>\n",
       "    <tr>\n",
       "      <td>в разводе</td>\n",
       "      <td>1195</td>\n",
       "      <td>85</td>\n",
       "      <td>7.11%</td>\n",
       "    </tr>\n",
       "    <tr>\n",
       "      <td>вдовец / вдова</td>\n",
       "      <td>959</td>\n",
       "      <td>63</td>\n",
       "      <td>6.57%</td>\n",
       "    </tr>\n",
       "    <tr>\n",
       "      <td>гражданский брак</td>\n",
       "      <td>4150</td>\n",
       "      <td>388</td>\n",
       "      <td>9.35%</td>\n",
       "    </tr>\n",
       "    <tr>\n",
       "      <td>женат / замужем</td>\n",
       "      <td>12339</td>\n",
       "      <td>931</td>\n",
       "      <td>7.55%</td>\n",
       "    </tr>\n",
       "  </tbody>\n",
       "</table>\n",
       "</div>"
      ],
      "text/plain": [
       "                       count  sum ff_family_status\n",
       "family_status                                     \n",
       "Не женат / не замужем   2810  274           9.75% \n",
       "в разводе               1195   85           7.11% \n",
       "вдовец / вдова           959   63           6.57% \n",
       "гражданский брак        4150  388           9.35% \n",
       "женат / замужем        12339  931           7.55% "
      ]
     },
     "execution_count": 42,
     "metadata": {},
     "output_type": "execute_result"
    }
   ],
   "source": [
    "#определим зависимость между семейным положением и возвратом кредита в срок при помощи агрегирования \n",
    "\n",
    "def ff_family_status(x): return '{:.2%} '.format(x.mean())\n",
    "\n",
    "df.groupby('family_status')['debt'].agg(['count', 'sum', ff_family_status])\n"
   ]
  },
  {
   "cell_type": "markdown",
   "metadata": {},
   "source": [
    "**Вывод**"
   ]
  },
  {
   "cell_type": "markdown",
   "metadata": {},
   "source": [
    "Есть опредленная зависимость. Люди не в браке и не бывавшие в браке имеют больший процент невозвратов в срок. Но, те кто развелись или овдовели чаще платят в срок, чем люди в браке."
   ]
  },
  {
   "cell_type": "markdown",
   "metadata": {},
   "source": [
    "- Есть ли зависимость между уровнем дохода и возвратом кредита в срок?"
   ]
  },
  {
   "cell_type": "code",
   "execution_count": 43,
   "metadata": {},
   "outputs": [
    {
     "data": {
      "text/html": [
       "<div>\n",
       "<style scoped>\n",
       "    .dataframe tbody tr th:only-of-type {\n",
       "        vertical-align: middle;\n",
       "    }\n",
       "\n",
       "    .dataframe tbody tr th {\n",
       "        vertical-align: top;\n",
       "    }\n",
       "\n",
       "    .dataframe thead th {\n",
       "        text-align: right;\n",
       "    }\n",
       "</style>\n",
       "<table border=\"1\" class=\"dataframe\">\n",
       "  <thead>\n",
       "    <tr style=\"text-align: right;\">\n",
       "      <th></th>\n",
       "      <th>count</th>\n",
       "      <th>sum</th>\n",
       "      <th>%</th>\n",
       "    </tr>\n",
       "    <tr>\n",
       "      <th>income_groups</th>\n",
       "      <th></th>\n",
       "      <th></th>\n",
       "      <th></th>\n",
       "    </tr>\n",
       "  </thead>\n",
       "  <tbody>\n",
       "    <tr>\n",
       "      <td>средний доход</td>\n",
       "      <td>9156</td>\n",
       "      <td>797</td>\n",
       "      <td>8.70</td>\n",
       "    </tr>\n",
       "    <tr>\n",
       "      <td>низкий доход</td>\n",
       "      <td>7231</td>\n",
       "      <td>586</td>\n",
       "      <td>8.10</td>\n",
       "    </tr>\n",
       "    <tr>\n",
       "      <td>очень высокий доход</td>\n",
       "      <td>1483</td>\n",
       "      <td>106</td>\n",
       "      <td>7.15</td>\n",
       "    </tr>\n",
       "    <tr>\n",
       "      <td>высокий доход</td>\n",
       "      <td>3583</td>\n",
       "      <td>252</td>\n",
       "      <td>7.03</td>\n",
       "    </tr>\n",
       "  </tbody>\n",
       "</table>\n",
       "</div>"
      ],
      "text/plain": [
       "                     count  sum     %\n",
       "income_groups                        \n",
       "средний доход         9156  797  8.70\n",
       "низкий доход          7231  586  8.10\n",
       "очень высокий доход   1483  106  7.15\n",
       "высокий доход         3583  252  7.03"
      ]
     },
     "execution_count": 43,
     "metadata": {},
     "output_type": "execute_result"
    }
   ],
   "source": [
    "import numpy as np #импорт библиотеки numpy\n",
    "\n",
    "#С помощью конструктора DataFrame создадим таблицу total_income_debt \n",
    "total_income_debt=pd.DataFrame(df, columns=['total_income', 'debt']) \n",
    "\n",
    "#в качестве диапазона дохода возьмем уровень дохода расчитанный ранее \n",
    "total_income_debt['income_groups'] = (\n",
    "           pd.cut(total_income_debt['total_income'], [0,120000,200000,300000,np.inf],labels=\n",
    "           ['низкий доход', 'средний доход', 'высокий доход', 'очень высокий доход']))\n",
    "total_income_debt=total_income_debt.groupby('income_groups')['debt'].agg(['count','sum'])\n",
    "total_income_debt['%']=round((total_income_debt[('sum')]/total_income_debt[('count')])*100,2)\n",
    "#и отсортируем результат по возрастанию процента кол-во просроченных возрататов\n",
    "total_income_debt.sort_values(['%'], ascending = False)\n",
    "#total_income_debt"
   ]
  },
  {
   "cell_type": "markdown",
   "metadata": {},
   "source": [
    "**Вывод**"
   ]
  },
  {
   "cell_type": "markdown",
   "metadata": {},
   "source": [
    "Зависимости между уровнем дохода и наличием просроченной задолженности не наблюдается так как нет резких колебаний процента невозврата кредита (число заемщиков, которые просрочили возврат кредита лежит  в диапазоне от 7,1 % до 8,6 %, из чего можно сделать вывод, что уровень дохода не влияет на срок возврата кредита"
   ]
  },
  {
   "cell_type": "markdown",
   "metadata": {},
   "source": [
    "- Как разные цели кредита влияют на его возврат в срок?"
   ]
  },
  {
   "cell_type": "code",
   "execution_count": 44,
   "metadata": {},
   "outputs": [
    {
     "data": {
      "text/html": [
       "<div>\n",
       "<style scoped>\n",
       "    .dataframe tbody tr th:only-of-type {\n",
       "        vertical-align: middle;\n",
       "    }\n",
       "\n",
       "    .dataframe tbody tr th {\n",
       "        vertical-align: top;\n",
       "    }\n",
       "\n",
       "    .dataframe thead th {\n",
       "        text-align: right;\n",
       "    }\n",
       "</style>\n",
       "<table border=\"1\" class=\"dataframe\">\n",
       "  <thead>\n",
       "    <tr style=\"text-align: right;\">\n",
       "      <th></th>\n",
       "      <th>sum_purpose_category</th>\n",
       "      <th>count_purpose_category</th>\n",
       "      <th>result_purpose_category</th>\n",
       "    </tr>\n",
       "    <tr>\n",
       "      <th>purpose_category</th>\n",
       "      <th></th>\n",
       "      <th></th>\n",
       "      <th></th>\n",
       "    </tr>\n",
       "  </thead>\n",
       "  <tbody>\n",
       "    <tr>\n",
       "      <td>автомобиль</td>\n",
       "      <td>403</td>\n",
       "      <td>4306</td>\n",
       "      <td>9.36</td>\n",
       "    </tr>\n",
       "    <tr>\n",
       "      <td>образование</td>\n",
       "      <td>370</td>\n",
       "      <td>4013</td>\n",
       "      <td>9.22</td>\n",
       "    </tr>\n",
       "    <tr>\n",
       "      <td>свадьба</td>\n",
       "      <td>186</td>\n",
       "      <td>2324</td>\n",
       "      <td>8.00</td>\n",
       "    </tr>\n",
       "    <tr>\n",
       "      <td>недвижимость</td>\n",
       "      <td>782</td>\n",
       "      <td>10810</td>\n",
       "      <td>7.23</td>\n",
       "    </tr>\n",
       "  </tbody>\n",
       "</table>\n",
       "</div>"
      ],
      "text/plain": [
       "                  sum_purpose_category  count_purpose_category  \\\n",
       "purpose_category                                                 \n",
       "автомобиль                         403                    4306   \n",
       "образование                        370                    4013   \n",
       "свадьба                            186                    2324   \n",
       "недвижимость                       782                   10810   \n",
       "\n",
       "                  result_purpose_category  \n",
       "purpose_category                           \n",
       "автомобиль                           9.36  \n",
       "образование                          9.22  \n",
       "свадьба                              8.00  \n",
       "недвижимость                         7.23  "
      ]
     },
     "execution_count": 44,
     "metadata": {},
     "output_type": "execute_result"
    }
   ],
   "source": [
    "#Как разные цели кредита влияют на его возврат в срок\n",
    "debt_from_purpose_category = pd.DataFrame()\n",
    "debt_from_purpose_category['sum_purpose_category'] = df.groupby('purpose_category')['debt'].sum()\n",
    "debt_from_purpose_category['count_purpose_category'] = df.groupby('purpose_category')['debt'].count()\n",
    "debt_from_purpose_category['result_purpose_category'] = round((debt_from_purpose_category['sum_purpose_category'] / debt_from_purpose_category['count_purpose_category'])*100,2) \n",
    "\n",
    "#и отсортируем результат по возрастанию кол-во просроченных кредитов\n",
    "debt_from_purpose_category.sort_values('result_purpose_category', ascending = False)"
   ]
  },
  {
   "cell_type": "markdown",
   "metadata": {},
   "source": [
    "**Вывод**"
   ]
  },
  {
   "cell_type": "markdown",
   "metadata": {},
   "source": [
    "Среди наших отобранных категорий, чаще всего платят в срок с целью кредита недвижимость, чаще просрочка у тех кому нужен кредит на свадьбу. Риск не воврата кредита на автомобиль или образвание примерно одинаковый "
   ]
  },
  {
   "cell_type": "markdown",
   "metadata": {},
   "source": [
    "## Шаг 4. Общий вывод"
   ]
  },
  {
   "cell_type": "markdown",
   "metadata": {},
   "source": [
    "Семейный статус влияет на вероятность платежей по кредиту в срок - люди, бывший в браке чаще платят в срок чем те, кто не бывали в браке, причем разведенные и овдовевшие платят в срок чаще, чем люди в браке. Чем больше детей, тем чаще платят не в срок, бездетные же реже просрочивают оплату. Уровень дохода при этом не влияет на процент просрочки по кредиту. А  кредит, цель которого  обозначена клиентом как \"недвижимость\" чаще всего выплачивается в срок, при этом при выдачи  кредит \"на свадьбу\"  советую дополнительно  проверять заемщики или использовать обеспечения погашения вторым заемщиком или находящиеся в его собственности недвижимости."
   ]
  },
  {
   "cell_type": "code",
   "execution_count": 45,
   "metadata": {},
   "outputs": [
    {
     "data": {
      "text/html": [
       "<div>\n",
       "<style scoped>\n",
       "    .dataframe tbody tr th:only-of-type {\n",
       "        vertical-align: middle;\n",
       "    }\n",
       "\n",
       "    .dataframe tbody tr th {\n",
       "        vertical-align: top;\n",
       "    }\n",
       "\n",
       "    .dataframe thead th {\n",
       "        text-align: right;\n",
       "    }\n",
       "</style>\n",
       "<table border=\"1\" class=\"dataframe\">\n",
       "  <thead>\n",
       "    <tr style=\"text-align: right;\">\n",
       "      <th>debt</th>\n",
       "      <th>0</th>\n",
       "      <th>1</th>\n",
       "      <th>percent</th>\n",
       "    </tr>\n",
       "    <tr>\n",
       "      <th>purpose_category</th>\n",
       "      <th></th>\n",
       "      <th></th>\n",
       "      <th></th>\n",
       "    </tr>\n",
       "  </thead>\n",
       "  <tbody>\n",
       "    <tr>\n",
       "      <td>автомобиль</td>\n",
       "      <td>3903</td>\n",
       "      <td>403</td>\n",
       "      <td>9.359034</td>\n",
       "    </tr>\n",
       "    <tr>\n",
       "      <td>образование</td>\n",
       "      <td>3643</td>\n",
       "      <td>370</td>\n",
       "      <td>9.220035</td>\n",
       "    </tr>\n",
       "    <tr>\n",
       "      <td>свадьба</td>\n",
       "      <td>2138</td>\n",
       "      <td>186</td>\n",
       "      <td>8.003442</td>\n",
       "    </tr>\n",
       "    <tr>\n",
       "      <td>недвижимость</td>\n",
       "      <td>10028</td>\n",
       "      <td>782</td>\n",
       "      <td>7.234043</td>\n",
       "    </tr>\n",
       "  </tbody>\n",
       "</table>\n",
       "</div>"
      ],
      "text/plain": [
       "debt                  0    1   percent\n",
       "purpose_category                      \n",
       "автомобиль         3903  403  9.359034\n",
       "образование        3643  370  9.220035\n",
       "свадьба            2138  186  8.003442\n",
       "недвижимость      10028  782  7.234043"
      ]
     },
     "execution_count": 45,
     "metadata": {},
     "output_type": "execute_result"
    }
   ],
   "source": [
    "#создаем сводную таблицу и посмотрим какой максимальный процент выплат в зависимости от цели кредита\n",
    "pivot_table_purpose_category = df.pivot_table(index='purpose_category', columns= 'debt', values='days_employed', aggfunc='count')\n",
    "pivot_table_purpose_category['percent'] = (pivot_table_purpose_category[1]/(pivot_table_purpose_category[1] + pivot_table_purpose_category[0])) * 100\n",
    "\n",
    "pivot_table_purpose_category.sort_values(['percent'], ascending = False)"
   ]
  },
  {
   "cell_type": "code",
   "execution_count": 46,
   "metadata": {},
   "outputs": [
    {
     "data": {
      "text/html": [
       "<div>\n",
       "<style scoped>\n",
       "    .dataframe tbody tr th:only-of-type {\n",
       "        vertical-align: middle;\n",
       "    }\n",
       "\n",
       "    .dataframe tbody tr th {\n",
       "        vertical-align: top;\n",
       "    }\n",
       "\n",
       "    .dataframe thead th {\n",
       "        text-align: right;\n",
       "    }\n",
       "</style>\n",
       "<table border=\"1\" class=\"dataframe\">\n",
       "  <thead>\n",
       "    <tr style=\"text-align: right;\">\n",
       "      <th>debt</th>\n",
       "      <th>0</th>\n",
       "      <th>1</th>\n",
       "      <th>percent</th>\n",
       "    </tr>\n",
       "    <tr>\n",
       "      <th>children</th>\n",
       "      <th></th>\n",
       "      <th></th>\n",
       "      <th></th>\n",
       "    </tr>\n",
       "  </thead>\n",
       "  <tbody>\n",
       "    <tr>\n",
       "      <td>4</td>\n",
       "      <td>37.0</td>\n",
       "      <td>4.0</td>\n",
       "      <td>9.756098</td>\n",
       "    </tr>\n",
       "    <tr>\n",
       "      <td>2</td>\n",
       "      <td>1926.0</td>\n",
       "      <td>202.0</td>\n",
       "      <td>9.492481</td>\n",
       "    </tr>\n",
       "    <tr>\n",
       "      <td>1</td>\n",
       "      <td>4410.0</td>\n",
       "      <td>445.0</td>\n",
       "      <td>9.165808</td>\n",
       "    </tr>\n",
       "    <tr>\n",
       "      <td>3</td>\n",
       "      <td>303.0</td>\n",
       "      <td>27.0</td>\n",
       "      <td>8.181818</td>\n",
       "    </tr>\n",
       "    <tr>\n",
       "      <td>0</td>\n",
       "      <td>13027.0</td>\n",
       "      <td>1063.0</td>\n",
       "      <td>7.544358</td>\n",
       "    </tr>\n",
       "    <tr>\n",
       "      <td>5</td>\n",
       "      <td>9.0</td>\n",
       "      <td>NaN</td>\n",
       "      <td>NaN</td>\n",
       "    </tr>\n",
       "  </tbody>\n",
       "</table>\n",
       "</div>"
      ],
      "text/plain": [
       "debt            0       1   percent\n",
       "children                           \n",
       "4            37.0     4.0  9.756098\n",
       "2          1926.0   202.0  9.492481\n",
       "1          4410.0   445.0  9.165808\n",
       "3           303.0    27.0  8.181818\n",
       "0         13027.0  1063.0  7.544358\n",
       "5             9.0     NaN       NaN"
      ]
     },
     "execution_count": 46,
     "metadata": {},
     "output_type": "execute_result"
    }
   ],
   "source": [
    "#создаем сводную таблицу и посмотрим какой максимальный процент выплат в зависимости от кол-во детей\n",
    "pivot_table_children_category = df.pivot_table(index='children', columns= 'debt', values='days_employed', aggfunc='count')\n",
    "pivot_table_children_category['percent'] = (pivot_table_children_category[1]/(pivot_table_children_category[1] + pivot_table_children_category[0]) * 100)\n",
    "\n",
    "pivot_table_children_category.sort_values(['percent'], ascending = False)"
   ]
  }
 ],
 "metadata": {
  "ExecuteTimeLog": [
   {
    "duration": 889,
    "start_time": "2021-12-31T03:42:45.939Z"
   },
   {
    "duration": 499,
    "start_time": "2021-12-31T03:43:08.823Z"
   },
   {
    "duration": 75,
    "start_time": "2021-12-31T03:43:30.270Z"
   },
   {
    "duration": 12,
    "start_time": "2021-12-31T03:47:45.806Z"
   },
   {
    "duration": 28,
    "start_time": "2021-12-31T03:47:59.639Z"
   },
   {
    "duration": 31,
    "start_time": "2021-12-31T03:50:22.007Z"
   },
   {
    "duration": 403,
    "start_time": "2021-12-31T04:02:04.761Z"
   },
   {
    "duration": 10,
    "start_time": "2021-12-31T04:02:23.265Z"
   },
   {
    "duration": 36,
    "start_time": "2021-12-31T04:02:47.941Z"
   },
   {
    "duration": 43,
    "start_time": "2021-12-31T04:07:16.792Z"
   },
   {
    "duration": 43,
    "start_time": "2021-12-31T04:07:48.659Z"
   },
   {
    "duration": 126,
    "start_time": "2021-12-31T04:08:13.590Z"
   },
   {
    "duration": 42,
    "start_time": "2021-12-31T04:08:22.723Z"
   },
   {
    "duration": 40,
    "start_time": "2021-12-31T04:09:33.931Z"
   },
   {
    "duration": 55,
    "start_time": "2021-12-31T04:09:58.203Z"
   },
   {
    "duration": 53,
    "start_time": "2021-12-31T04:10:54.558Z"
   },
   {
    "duration": 6,
    "start_time": "2021-12-31T04:12:41.962Z"
   },
   {
    "duration": 7,
    "start_time": "2021-12-31T04:13:56.610Z"
   },
   {
    "duration": 10,
    "start_time": "2021-12-31T04:14:49.062Z"
   },
   {
    "duration": 10,
    "start_time": "2021-12-31T04:21:54.227Z"
   },
   {
    "duration": 5,
    "start_time": "2021-12-31T04:24:30.894Z"
   },
   {
    "duration": 15,
    "start_time": "2021-12-31T04:24:54.140Z"
   },
   {
    "duration": 18,
    "start_time": "2021-12-31T04:26:13.813Z"
   },
   {
    "duration": 16,
    "start_time": "2021-12-31T04:29:12.533Z"
   },
   {
    "duration": 21,
    "start_time": "2021-12-31T04:34:21.679Z"
   },
   {
    "duration": 19,
    "start_time": "2021-12-31T04:34:31.534Z"
   },
   {
    "duration": 33,
    "start_time": "2021-12-31T04:34:45.708Z"
   },
   {
    "duration": 16,
    "start_time": "2021-12-31T04:35:59.563Z"
   },
   {
    "duration": 9,
    "start_time": "2021-12-31T04:37:17.941Z"
   },
   {
    "duration": 403,
    "start_time": "2021-12-31T04:41:37.523Z"
   },
   {
    "duration": 25,
    "start_time": "2021-12-31T04:42:03.713Z"
   },
   {
    "duration": 34,
    "start_time": "2021-12-31T04:44:18.875Z"
   },
   {
    "duration": 1506,
    "start_time": "2021-12-31T04:45:37.210Z"
   },
   {
    "duration": 20,
    "start_time": "2021-12-31T04:45:49.847Z"
   },
   {
    "duration": 20,
    "start_time": "2021-12-31T04:46:01.275Z"
   },
   {
    "duration": 38,
    "start_time": "2021-12-31T04:46:15.530Z"
   },
   {
    "duration": 12,
    "start_time": "2021-12-31T04:48:02.676Z"
   },
   {
    "duration": 685,
    "start_time": "2021-12-31T08:38:41.435Z"
   },
   {
    "duration": 31,
    "start_time": "2021-12-31T08:38:42.122Z"
   },
   {
    "duration": 26,
    "start_time": "2021-12-31T08:38:42.155Z"
   },
   {
    "duration": 16,
    "start_time": "2021-12-31T08:38:42.183Z"
   },
   {
    "duration": 24,
    "start_time": "2021-12-31T08:38:42.200Z"
   },
   {
    "duration": 35,
    "start_time": "2021-12-31T08:38:42.225Z"
   },
   {
    "duration": 21,
    "start_time": "2021-12-31T09:46:56.535Z"
   },
   {
    "duration": 14,
    "start_time": "2021-12-31T09:47:13.638Z"
   },
   {
    "duration": 14,
    "start_time": "2021-12-31T09:48:20.091Z"
   },
   {
    "duration": 6,
    "start_time": "2021-12-31T09:48:27.754Z"
   },
   {
    "duration": 656,
    "start_time": "2021-12-31T09:48:37.350Z"
   },
   {
    "duration": 33,
    "start_time": "2021-12-31T09:48:38.009Z"
   },
   {
    "duration": 40,
    "start_time": "2021-12-31T09:48:38.045Z"
   },
   {
    "duration": 18,
    "start_time": "2021-12-31T09:48:38.087Z"
   },
   {
    "duration": 24,
    "start_time": "2021-12-31T09:48:38.106Z"
   },
   {
    "duration": 15,
    "start_time": "2021-12-31T09:48:38.160Z"
   },
   {
    "duration": 5,
    "start_time": "2021-12-31T09:48:38.176Z"
   },
   {
    "duration": 28,
    "start_time": "2021-12-31T09:51:57.545Z"
   },
   {
    "duration": 13,
    "start_time": "2021-12-31T09:53:02.536Z"
   },
   {
    "duration": 8,
    "start_time": "2021-12-31T10:02:07.082Z"
   },
   {
    "duration": 84,
    "start_time": "2021-12-31T10:23:19.998Z"
   },
   {
    "duration": 80,
    "start_time": "2021-12-31T10:23:58.644Z"
   },
   {
    "duration": 86,
    "start_time": "2021-12-31T10:24:23.628Z"
   },
   {
    "duration": 81,
    "start_time": "2021-12-31T10:24:36.309Z"
   },
   {
    "duration": 3,
    "start_time": "2021-12-31T10:24:43.788Z"
   },
   {
    "duration": 327,
    "start_time": "2021-12-31T10:26:58.788Z"
   },
   {
    "duration": 377,
    "start_time": "2022-01-01T15:26:11.715Z"
   },
   {
    "duration": 869,
    "start_time": "2022-01-01T15:26:30.846Z"
   },
   {
    "duration": 53,
    "start_time": "2022-01-01T15:26:31.718Z"
   },
   {
    "duration": 71,
    "start_time": "2022-01-01T15:26:31.775Z"
   },
   {
    "duration": 68,
    "start_time": "2022-01-01T15:26:31.849Z"
   },
   {
    "duration": 44,
    "start_time": "2022-01-01T15:26:31.920Z"
   },
   {
    "duration": 19,
    "start_time": "2022-01-01T15:26:31.967Z"
   },
   {
    "duration": 32,
    "start_time": "2022-01-01T15:26:31.989Z"
   },
   {
    "duration": 13,
    "start_time": "2022-01-01T15:26:32.024Z"
   },
   {
    "duration": 377,
    "start_time": "2022-01-01T15:26:32.040Z"
   },
   {
    "duration": -1070,
    "start_time": "2022-01-01T15:26:33.489Z"
   },
   {
    "duration": 318,
    "start_time": "2022-01-01T15:27:17.599Z"
   },
   {
    "duration": 301,
    "start_time": "2022-01-01T15:27:29.754Z"
   },
   {
    "duration": 287,
    "start_time": "2022-01-01T15:29:33.519Z"
   },
   {
    "duration": 297,
    "start_time": "2022-01-01T15:29:49.599Z"
   },
   {
    "duration": 8,
    "start_time": "2022-01-01T15:30:21.046Z"
   },
   {
    "duration": 87,
    "start_time": "2022-01-01T15:34:49.157Z"
   },
   {
    "duration": 106,
    "start_time": "2022-01-01T15:36:23.773Z"
   },
   {
    "duration": 379,
    "start_time": "2022-01-01T15:44:06.098Z"
   },
   {
    "duration": 308,
    "start_time": "2022-01-01T15:44:23.878Z"
   },
   {
    "duration": 36,
    "start_time": "2022-01-01T15:44:48.049Z"
   },
   {
    "duration": 11,
    "start_time": "2022-01-01T15:46:24.628Z"
   },
   {
    "duration": 277,
    "start_time": "2022-01-01T15:55:30.321Z"
   },
   {
    "duration": 11,
    "start_time": "2022-01-01T15:55:39.993Z"
   },
   {
    "duration": 105,
    "start_time": "2022-01-01T16:04:18.150Z"
   },
   {
    "duration": 93,
    "start_time": "2022-01-01T16:04:26.366Z"
   },
   {
    "duration": 318,
    "start_time": "2022-01-01T16:04:56.304Z"
   },
   {
    "duration": 101,
    "start_time": "2022-01-02T14:16:13.286Z"
   },
   {
    "duration": 130,
    "start_time": "2022-01-02T14:16:56.072Z"
   },
   {
    "duration": 83,
    "start_time": "2022-01-02T14:21:46.177Z"
   },
   {
    "duration": 88,
    "start_time": "2022-01-02T14:22:39.871Z"
   },
   {
    "duration": 84,
    "start_time": "2022-01-02T14:23:15.800Z"
   },
   {
    "duration": 90,
    "start_time": "2022-01-02T14:23:44.421Z"
   },
   {
    "duration": 85,
    "start_time": "2022-01-02T14:23:53.215Z"
   },
   {
    "duration": 362,
    "start_time": "2022-01-02T14:24:09.679Z"
   },
   {
    "duration": 83,
    "start_time": "2022-01-02T14:24:22.906Z"
   },
   {
    "duration": 96,
    "start_time": "2022-01-02T14:24:29.557Z"
   },
   {
    "duration": 267,
    "start_time": "2022-01-02T14:31:45.567Z"
   },
   {
    "duration": 865,
    "start_time": "2022-01-02T14:32:05.634Z"
   },
   {
    "duration": 49,
    "start_time": "2022-01-02T14:32:06.502Z"
   },
   {
    "duration": 44,
    "start_time": "2022-01-02T14:32:06.568Z"
   },
   {
    "duration": 22,
    "start_time": "2022-01-02T14:32:06.614Z"
   },
   {
    "duration": 35,
    "start_time": "2022-01-02T14:32:06.638Z"
   },
   {
    "duration": 26,
    "start_time": "2022-01-02T14:32:06.676Z"
   },
   {
    "duration": 13,
    "start_time": "2022-01-02T14:32:06.704Z"
   },
   {
    "duration": 81,
    "start_time": "2022-01-02T14:32:06.720Z"
   },
   {
    "duration": 34,
    "start_time": "2022-01-02T14:32:06.804Z"
   },
   {
    "duration": 46,
    "start_time": "2022-01-02T14:32:06.840Z"
   },
   {
    "duration": 7,
    "start_time": "2022-01-02T14:32:06.888Z"
   },
   {
    "duration": 14,
    "start_time": "2022-01-02T14:32:06.898Z"
   },
   {
    "duration": 9,
    "start_time": "2022-01-02T14:32:06.915Z"
   },
   {
    "duration": 125,
    "start_time": "2022-01-02T14:32:06.927Z"
   },
   {
    "duration": -1888,
    "start_time": "2022-01-02T14:32:08.943Z"
   },
   {
    "duration": 846,
    "start_time": "2022-01-02T14:33:07.922Z"
   },
   {
    "duration": 53,
    "start_time": "2022-01-02T14:33:08.771Z"
   },
   {
    "duration": 66,
    "start_time": "2022-01-02T14:33:08.828Z"
   },
   {
    "duration": 22,
    "start_time": "2022-01-02T14:33:08.897Z"
   },
   {
    "duration": 8,
    "start_time": "2022-01-02T14:33:08.922Z"
   },
   {
    "duration": 57,
    "start_time": "2022-01-02T14:33:08.933Z"
   },
   {
    "duration": 19,
    "start_time": "2022-01-02T14:33:08.993Z"
   },
   {
    "duration": 75,
    "start_time": "2022-01-02T14:33:09.016Z"
   },
   {
    "duration": 37,
    "start_time": "2022-01-02T14:33:09.094Z"
   },
   {
    "duration": 45,
    "start_time": "2022-01-02T14:33:09.133Z"
   },
   {
    "duration": 8,
    "start_time": "2022-01-02T14:33:09.181Z"
   },
   {
    "duration": 11,
    "start_time": "2022-01-02T14:33:09.191Z"
   },
   {
    "duration": 7,
    "start_time": "2022-01-02T14:33:09.204Z"
   },
   {
    "duration": 88,
    "start_time": "2022-01-02T14:33:09.214Z"
   },
   {
    "duration": -1906,
    "start_time": "2022-01-02T14:33:11.211Z"
   },
   {
    "duration": 895,
    "start_time": "2022-01-02T14:34:28.839Z"
   },
   {
    "duration": 60,
    "start_time": "2022-01-02T14:34:29.736Z"
   },
   {
    "duration": 42,
    "start_time": "2022-01-02T14:34:29.799Z"
   },
   {
    "duration": 24,
    "start_time": "2022-01-02T14:34:29.867Z"
   },
   {
    "duration": 9,
    "start_time": "2022-01-02T14:34:29.894Z"
   },
   {
    "duration": 32,
    "start_time": "2022-01-02T14:34:29.905Z"
   },
   {
    "duration": 36,
    "start_time": "2022-01-02T14:34:29.939Z"
   },
   {
    "duration": 45,
    "start_time": "2022-01-02T14:34:29.979Z"
   },
   {
    "duration": 68,
    "start_time": "2022-01-02T14:34:30.026Z"
   },
   {
    "duration": 22,
    "start_time": "2022-01-02T14:34:30.098Z"
   },
   {
    "duration": 8,
    "start_time": "2022-01-02T14:34:30.124Z"
   },
   {
    "duration": 44,
    "start_time": "2022-01-02T14:34:30.135Z"
   },
   {
    "duration": 16,
    "start_time": "2022-01-02T14:34:30.181Z"
   },
   {
    "duration": 90,
    "start_time": "2022-01-02T14:34:30.200Z"
   },
   {
    "duration": -1977,
    "start_time": "2022-01-02T14:34:32.270Z"
   },
   {
    "duration": 27,
    "start_time": "2022-01-02T14:36:11.642Z"
   },
   {
    "duration": 15,
    "start_time": "2022-01-02T14:36:26.852Z"
   },
   {
    "duration": 3567,
    "start_time": "2022-01-02T14:37:13.671Z"
   },
   {
    "duration": 3761,
    "start_time": "2022-01-02T14:37:48.614Z"
   },
   {
    "duration": 3330,
    "start_time": "2022-01-02T14:38:10.954Z"
   },
   {
    "duration": 3626,
    "start_time": "2022-01-02T14:38:18.389Z"
   },
   {
    "duration": 86,
    "start_time": "2022-01-02T14:44:03.807Z"
   },
   {
    "duration": 280,
    "start_time": "2022-01-02T14:45:48.857Z"
   },
   {
    "duration": 274,
    "start_time": "2022-01-02T14:46:14.979Z"
   },
   {
    "duration": 100,
    "start_time": "2022-01-02T14:48:52.225Z"
   },
   {
    "duration": 106,
    "start_time": "2022-01-02T14:49:30.463Z"
   },
   {
    "duration": 370,
    "start_time": "2022-01-02T14:49:53.154Z"
   },
   {
    "duration": 100,
    "start_time": "2022-01-02T14:50:14.754Z"
   },
   {
    "duration": 284,
    "start_time": "2022-01-02T14:50:33.163Z"
   },
   {
    "duration": 99,
    "start_time": "2022-01-02T14:54:03.707Z"
   },
   {
    "duration": 85,
    "start_time": "2022-01-02T14:54:26.619Z"
   },
   {
    "duration": 93,
    "start_time": "2022-01-02T14:54:34.837Z"
   },
   {
    "duration": 79,
    "start_time": "2022-01-02T14:54:40.373Z"
   },
   {
    "duration": 292,
    "start_time": "2022-01-02T14:54:46.608Z"
   },
   {
    "duration": 268,
    "start_time": "2022-01-02T14:55:26.670Z"
   },
   {
    "duration": 330,
    "start_time": "2022-01-02T14:55:43.615Z"
   },
   {
    "duration": 3711,
    "start_time": "2022-01-02T15:00:34.085Z"
   },
   {
    "duration": 973,
    "start_time": "2022-01-02T15:00:55.734Z"
   },
   {
    "duration": 64,
    "start_time": "2022-01-02T15:00:56.710Z"
   },
   {
    "duration": 39,
    "start_time": "2022-01-02T15:00:56.777Z"
   },
   {
    "duration": 57,
    "start_time": "2022-01-02T15:00:56.819Z"
   },
   {
    "duration": 7,
    "start_time": "2022-01-02T15:00:56.879Z"
   },
   {
    "duration": 17,
    "start_time": "2022-01-02T15:00:56.889Z"
   },
   {
    "duration": 16,
    "start_time": "2022-01-02T15:00:56.908Z"
   },
   {
    "duration": 76,
    "start_time": "2022-01-02T15:00:56.926Z"
   },
   {
    "duration": 39,
    "start_time": "2022-01-02T15:00:57.007Z"
   },
   {
    "duration": 38,
    "start_time": "2022-01-02T15:00:57.048Z"
   },
   {
    "duration": 7,
    "start_time": "2022-01-02T15:00:57.088Z"
   },
   {
    "duration": 11,
    "start_time": "2022-01-02T15:00:57.097Z"
   },
   {
    "duration": 8,
    "start_time": "2022-01-02T15:00:57.110Z"
   },
   {
    "duration": 98,
    "start_time": "2022-01-02T15:00:57.121Z"
   },
   {
    "duration": -1891,
    "start_time": "2022-01-02T15:00:59.113Z"
   },
   {
    "duration": 11,
    "start_time": "2022-01-02T15:05:05.703Z"
   },
   {
    "duration": 13,
    "start_time": "2022-01-02T15:05:09.061Z"
   },
   {
    "duration": 10,
    "start_time": "2022-01-02T15:05:18.404Z"
   },
   {
    "duration": 13,
    "start_time": "2022-01-02T15:05:32.292Z"
   },
   {
    "duration": 900,
    "start_time": "2022-01-02T15:05:41.771Z"
   },
   {
    "duration": 50,
    "start_time": "2022-01-02T15:05:42.674Z"
   },
   {
    "duration": 81,
    "start_time": "2022-01-02T15:05:42.727Z"
   },
   {
    "duration": 31,
    "start_time": "2022-01-02T15:05:42.811Z"
   },
   {
    "duration": 30,
    "start_time": "2022-01-02T15:05:42.845Z"
   },
   {
    "duration": 13,
    "start_time": "2022-01-02T15:05:42.878Z"
   },
   {
    "duration": 16,
    "start_time": "2022-01-02T15:05:42.894Z"
   },
   {
    "duration": 84,
    "start_time": "2022-01-02T15:05:42.914Z"
   },
   {
    "duration": 45,
    "start_time": "2022-01-02T15:05:43.001Z"
   },
   {
    "duration": 25,
    "start_time": "2022-01-02T15:05:43.068Z"
   },
   {
    "duration": 7,
    "start_time": "2022-01-02T15:05:43.096Z"
   },
   {
    "duration": 11,
    "start_time": "2022-01-02T15:05:43.106Z"
   },
   {
    "duration": 48,
    "start_time": "2022-01-02T15:05:43.119Z"
   },
   {
    "duration": 111,
    "start_time": "2022-01-02T15:05:43.170Z"
   },
   {
    "duration": -1909,
    "start_time": "2022-01-02T15:05:45.192Z"
   },
   {
    "duration": 40,
    "start_time": "2022-01-02T15:21:30.133Z"
   },
   {
    "duration": 830,
    "start_time": "2022-01-02T15:22:39.463Z"
   },
   {
    "duration": 50,
    "start_time": "2022-01-02T15:22:40.296Z"
   },
   {
    "duration": 41,
    "start_time": "2022-01-02T15:22:40.368Z"
   },
   {
    "duration": 28,
    "start_time": "2022-01-02T15:22:40.412Z"
   },
   {
    "duration": 11,
    "start_time": "2022-01-02T15:22:40.468Z"
   },
   {
    "duration": 12,
    "start_time": "2022-01-02T15:22:40.482Z"
   },
   {
    "duration": 12,
    "start_time": "2022-01-02T15:22:40.496Z"
   },
   {
    "duration": 82,
    "start_time": "2022-01-02T15:22:40.511Z"
   },
   {
    "duration": 24,
    "start_time": "2022-01-02T15:22:40.596Z"
   },
   {
    "duration": 15,
    "start_time": "2022-01-02T15:22:40.622Z"
   },
   {
    "duration": 21,
    "start_time": "2022-01-02T15:22:40.668Z"
   },
   {
    "duration": 8,
    "start_time": "2022-01-02T15:22:40.692Z"
   },
   {
    "duration": 11,
    "start_time": "2022-01-02T15:22:40.702Z"
   },
   {
    "duration": 10,
    "start_time": "2022-01-02T15:22:40.715Z"
   },
   {
    "duration": 145,
    "start_time": "2022-01-02T15:22:40.727Z"
   },
   {
    "duration": -2675,
    "start_time": "2022-01-02T15:22:43.550Z"
   },
   {
    "duration": 16,
    "start_time": "2022-01-02T15:22:49.351Z"
   },
   {
    "duration": 23,
    "start_time": "2022-01-02T15:23:22.307Z"
   },
   {
    "duration": 30,
    "start_time": "2022-01-02T15:23:37.614Z"
   },
   {
    "duration": 902,
    "start_time": "2022-01-02T15:23:59.571Z"
   },
   {
    "duration": 70,
    "start_time": "2022-01-02T15:24:00.476Z"
   },
   {
    "duration": 68,
    "start_time": "2022-01-02T15:24:00.549Z"
   },
   {
    "duration": 61,
    "start_time": "2022-01-02T15:24:00.620Z"
   },
   {
    "duration": 8,
    "start_time": "2022-01-02T15:24:00.684Z"
   },
   {
    "duration": 19,
    "start_time": "2022-01-02T15:24:00.694Z"
   },
   {
    "duration": 19,
    "start_time": "2022-01-02T15:24:00.716Z"
   },
   {
    "duration": 71,
    "start_time": "2022-01-02T15:24:00.740Z"
   },
   {
    "duration": 57,
    "start_time": "2022-01-02T15:24:00.815Z"
   },
   {
    "duration": 25,
    "start_time": "2022-01-02T15:24:00.875Z"
   },
   {
    "duration": 39,
    "start_time": "2022-01-02T15:24:00.904Z"
   },
   {
    "duration": 11,
    "start_time": "2022-01-02T15:24:00.969Z"
   },
   {
    "duration": 18,
    "start_time": "2022-01-02T15:24:00.984Z"
   },
   {
    "duration": 6,
    "start_time": "2022-01-02T15:24:01.005Z"
   },
   {
    "duration": 95,
    "start_time": "2022-01-02T15:24:01.014Z"
   },
   {
    "duration": -1884,
    "start_time": "2022-01-02T15:24:02.996Z"
   },
   {
    "duration": 29,
    "start_time": "2022-01-02T15:31:13.682Z"
   },
   {
    "duration": 32,
    "start_time": "2022-01-02T15:31:22.176Z"
   },
   {
    "duration": 8,
    "start_time": "2022-01-02T15:31:25.450Z"
   },
   {
    "duration": 9,
    "start_time": "2022-01-02T15:31:32.370Z"
   },
   {
    "duration": 1308,
    "start_time": "2022-01-02T15:31:44.237Z"
   },
   {
    "duration": 57,
    "start_time": "2022-01-02T15:31:45.548Z"
   },
   {
    "duration": 62,
    "start_time": "2022-01-02T15:31:45.609Z"
   },
   {
    "duration": 29,
    "start_time": "2022-01-02T15:31:45.674Z"
   },
   {
    "duration": 10,
    "start_time": "2022-01-02T15:31:45.706Z"
   },
   {
    "duration": 58,
    "start_time": "2022-01-02T15:31:45.719Z"
   },
   {
    "duration": 16,
    "start_time": "2022-01-02T15:31:45.780Z"
   },
   {
    "duration": 380,
    "start_time": "2022-01-02T15:31:45.801Z"
   },
   {
    "duration": -1945,
    "start_time": "2022-01-02T15:31:48.129Z"
   },
   {
    "duration": -1953,
    "start_time": "2022-01-02T15:31:48.138Z"
   },
   {
    "duration": -1967,
    "start_time": "2022-01-02T15:31:48.154Z"
   },
   {
    "duration": -1974,
    "start_time": "2022-01-02T15:31:48.162Z"
   },
   {
    "duration": -1977,
    "start_time": "2022-01-02T15:31:48.167Z"
   },
   {
    "duration": -1984,
    "start_time": "2022-01-02T15:31:48.175Z"
   },
   {
    "duration": -1985,
    "start_time": "2022-01-02T15:31:48.178Z"
   },
   {
    "duration": -1989,
    "start_time": "2022-01-02T15:31:48.183Z"
   },
   {
    "duration": 43,
    "start_time": "2022-01-02T15:33:19.395Z"
   },
   {
    "duration": 30,
    "start_time": "2022-01-02T15:33:20.492Z"
   },
   {
    "duration": 267,
    "start_time": "2022-01-02T15:33:40.525Z"
   },
   {
    "duration": 288,
    "start_time": "2022-01-02T15:34:49.980Z"
   },
   {
    "duration": 273,
    "start_time": "2022-01-02T15:35:27.737Z"
   },
   {
    "duration": 256,
    "start_time": "2022-01-02T15:35:41.186Z"
   },
   {
    "duration": 268,
    "start_time": "2022-01-02T15:35:44.362Z"
   },
   {
    "duration": 494,
    "start_time": "2022-01-02T15:36:47.272Z"
   },
   {
    "duration": 245,
    "start_time": "2022-01-02T15:48:42.579Z"
   },
   {
    "duration": 269,
    "start_time": "2022-01-02T15:48:56.158Z"
   },
   {
    "duration": 255,
    "start_time": "2022-01-02T15:52:21.487Z"
   },
   {
    "duration": 831,
    "start_time": "2022-01-02T15:52:36.397Z"
   },
   {
    "duration": 59,
    "start_time": "2022-01-02T15:52:37.231Z"
   },
   {
    "duration": 13,
    "start_time": "2022-01-02T15:52:37.293Z"
   },
   {
    "duration": 661,
    "start_time": "2022-01-02T15:52:37.310Z"
   },
   {
    "duration": 31,
    "start_time": "2022-01-02T15:52:37.973Z"
   },
   {
    "duration": 8,
    "start_time": "2022-01-02T15:52:38.007Z"
   },
   {
    "duration": 18,
    "start_time": "2022-01-02T15:52:38.018Z"
   },
   {
    "duration": 39,
    "start_time": "2022-01-02T15:52:38.038Z"
   },
   {
    "duration": 364,
    "start_time": "2022-01-02T15:52:38.081Z"
   },
   {
    "duration": -1940,
    "start_time": "2022-01-02T15:52:40.388Z"
   },
   {
    "duration": -1943,
    "start_time": "2022-01-02T15:52:40.393Z"
   },
   {
    "duration": -1952,
    "start_time": "2022-01-02T15:52:40.403Z"
   },
   {
    "duration": -1957,
    "start_time": "2022-01-02T15:52:40.410Z"
   },
   {
    "duration": -1963,
    "start_time": "2022-01-02T15:52:40.417Z"
   },
   {
    "duration": -1968,
    "start_time": "2022-01-02T15:52:40.424Z"
   },
   {
    "duration": -1973,
    "start_time": "2022-01-02T15:52:40.431Z"
   },
   {
    "duration": -1978,
    "start_time": "2022-01-02T15:52:40.438Z"
   },
   {
    "duration": 290,
    "start_time": "2022-01-02T15:57:17.948Z"
   },
   {
    "duration": 9,
    "start_time": "2022-01-02T16:05:02.496Z"
   },
   {
    "duration": 277,
    "start_time": "2022-01-02T16:09:39.107Z"
   },
   {
    "duration": 8,
    "start_time": "2022-01-02T16:11:07.556Z"
   },
   {
    "duration": 16,
    "start_time": "2022-01-02T16:11:49.724Z"
   },
   {
    "duration": 282,
    "start_time": "2022-01-02T16:12:47.261Z"
   },
   {
    "duration": 47,
    "start_time": "2022-01-02T16:13:09.301Z"
   },
   {
    "duration": 46,
    "start_time": "2022-01-02T16:13:38.488Z"
   },
   {
    "duration": 47,
    "start_time": "2022-01-02T16:13:51.507Z"
   },
   {
    "duration": 278,
    "start_time": "2022-01-02T16:14:16.594Z"
   },
   {
    "duration": 526,
    "start_time": "2022-01-02T16:15:28.157Z"
   },
   {
    "duration": 502,
    "start_time": "2022-01-02T16:15:36.340Z"
   },
   {
    "duration": 46,
    "start_time": "2022-01-02T16:16:15.411Z"
   },
   {
    "duration": 47,
    "start_time": "2022-01-02T16:17:04.614Z"
   },
   {
    "duration": 47,
    "start_time": "2022-01-02T16:17:39.632Z"
   },
   {
    "duration": 804,
    "start_time": "2022-01-02T16:17:52.720Z"
   },
   {
    "duration": 61,
    "start_time": "2022-01-02T16:17:53.527Z"
   },
   {
    "duration": 13,
    "start_time": "2022-01-02T16:17:53.592Z"
   },
   {
    "duration": 647,
    "start_time": "2022-01-02T16:17:53.607Z"
   },
   {
    "duration": 35,
    "start_time": "2022-01-02T16:17:54.256Z"
   },
   {
    "duration": 9,
    "start_time": "2022-01-02T16:17:54.293Z"
   },
   {
    "duration": 10,
    "start_time": "2022-01-02T16:17:54.304Z"
   },
   {
    "duration": 10,
    "start_time": "2022-01-02T16:17:54.318Z"
   },
   {
    "duration": 12,
    "start_time": "2022-01-02T16:17:54.367Z"
   },
   {
    "duration": 49,
    "start_time": "2022-01-02T16:17:54.382Z"
   },
   {
    "duration": 60,
    "start_time": "2022-01-02T16:17:54.433Z"
   },
   {
    "duration": 25,
    "start_time": "2022-01-02T16:17:54.496Z"
   },
   {
    "duration": 56,
    "start_time": "2022-01-02T16:17:54.524Z"
   },
   {
    "duration": 8,
    "start_time": "2022-01-02T16:17:54.583Z"
   },
   {
    "duration": 11,
    "start_time": "2022-01-02T16:17:54.593Z"
   },
   {
    "duration": 13,
    "start_time": "2022-01-02T16:17:54.607Z"
   },
   {
    "duration": 98,
    "start_time": "2022-01-02T16:17:54.622Z"
   },
   {
    "duration": -1913,
    "start_time": "2022-01-02T16:17:56.636Z"
   },
   {
    "duration": 370,
    "start_time": "2022-01-02T16:18:24.976Z"
   },
   {
    "duration": 267,
    "start_time": "2022-01-02T16:20:07.737Z"
   },
   {
    "duration": 45,
    "start_time": "2022-01-02T16:20:16.233Z"
   },
   {
    "duration": 23,
    "start_time": "2022-01-02T16:21:56.489Z"
   },
   {
    "duration": 46,
    "start_time": "2022-01-02T16:22:42.616Z"
   },
   {
    "duration": 629,
    "start_time": "2022-01-04T07:05:39.122Z"
   },
   {
    "duration": 30,
    "start_time": "2022-01-04T07:05:39.753Z"
   },
   {
    "duration": 10,
    "start_time": "2022-01-04T07:05:39.785Z"
   },
   {
    "duration": 354,
    "start_time": "2022-01-04T07:05:39.797Z"
   },
   {
    "duration": 19,
    "start_time": "2022-01-04T07:05:40.153Z"
   },
   {
    "duration": 6,
    "start_time": "2022-01-04T07:05:40.174Z"
   },
   {
    "duration": 8,
    "start_time": "2022-01-04T07:05:40.182Z"
   },
   {
    "duration": 8,
    "start_time": "2022-01-04T07:05:40.193Z"
   },
   {
    "duration": 44,
    "start_time": "2022-01-04T07:05:40.204Z"
   },
   {
    "duration": 29,
    "start_time": "2022-01-04T07:05:40.251Z"
   },
   {
    "duration": 21,
    "start_time": "2022-01-04T07:05:40.282Z"
   },
   {
    "duration": 51,
    "start_time": "2022-01-04T07:05:40.305Z"
   },
   {
    "duration": 21,
    "start_time": "2022-01-04T07:05:40.358Z"
   },
   {
    "duration": 31,
    "start_time": "2022-01-04T07:05:40.381Z"
   },
   {
    "duration": 31,
    "start_time": "2022-01-04T07:05:40.414Z"
   },
   {
    "duration": 298,
    "start_time": "2022-01-04T07:05:40.447Z"
   },
   {
    "duration": -2226,
    "start_time": "2022-01-04T07:05:42.972Z"
   },
   {
    "duration": -2230,
    "start_time": "2022-01-04T07:05:42.977Z"
   },
   {
    "duration": 10,
    "start_time": "2022-01-04T07:07:03.682Z"
   },
   {
    "duration": 21,
    "start_time": "2022-01-04T07:07:07.242Z"
   },
   {
    "duration": 90,
    "start_time": "2022-01-04T07:17:18.971Z"
   },
   {
    "duration": 82,
    "start_time": "2022-01-04T07:17:24.001Z"
   },
   {
    "duration": 21,
    "start_time": "2022-01-04T07:23:53.496Z"
   },
   {
    "duration": 9,
    "start_time": "2022-01-04T07:24:27.633Z"
   },
   {
    "duration": 13,
    "start_time": "2022-01-04T07:31:26.143Z"
   },
   {
    "duration": 11,
    "start_time": "2022-01-04T07:31:30.322Z"
   },
   {
    "duration": 12,
    "start_time": "2022-01-04T07:33:39.708Z"
   },
   {
    "duration": 28,
    "start_time": "2022-01-04T07:33:58.813Z"
   },
   {
    "duration": 621,
    "start_time": "2022-01-04T07:42:41.027Z"
   },
   {
    "duration": 23,
    "start_time": "2022-01-04T07:42:41.650Z"
   },
   {
    "duration": 20,
    "start_time": "2022-01-04T07:42:41.675Z"
   },
   {
    "duration": 30,
    "start_time": "2022-01-04T07:42:41.697Z"
   },
   {
    "duration": 7,
    "start_time": "2022-01-04T07:42:41.729Z"
   },
   {
    "duration": 332,
    "start_time": "2022-01-04T07:42:41.737Z"
   },
   {
    "duration": 18,
    "start_time": "2022-01-04T07:42:42.071Z"
   },
   {
    "duration": 5,
    "start_time": "2022-01-04T07:42:42.091Z"
   },
   {
    "duration": 19,
    "start_time": "2022-01-04T07:42:42.098Z"
   },
   {
    "duration": 24,
    "start_time": "2022-01-04T07:42:42.119Z"
   },
   {
    "duration": 22,
    "start_time": "2022-01-04T07:42:42.145Z"
   },
   {
    "duration": 26,
    "start_time": "2022-01-04T07:42:42.169Z"
   },
   {
    "duration": 14,
    "start_time": "2022-01-04T07:42:42.197Z"
   },
   {
    "duration": 19,
    "start_time": "2022-01-04T07:42:42.213Z"
   },
   {
    "duration": 19,
    "start_time": "2022-01-04T07:42:42.234Z"
   },
   {
    "duration": 24,
    "start_time": "2022-01-04T07:42:42.254Z"
   },
   {
    "duration": 7,
    "start_time": "2022-01-04T07:42:42.279Z"
   },
   {
    "duration": 286,
    "start_time": "2022-01-04T07:42:42.287Z"
   },
   {
    "duration": -2213,
    "start_time": "2022-01-04T07:42:44.788Z"
   },
   {
    "duration": -2216,
    "start_time": "2022-01-04T07:42:44.792Z"
   },
   {
    "duration": 21,
    "start_time": "2022-01-04T07:45:12.829Z"
   },
   {
    "duration": 41,
    "start_time": "2022-01-04T07:50:19.618Z"
   },
   {
    "duration": 31,
    "start_time": "2022-01-04T07:50:34.964Z"
   },
   {
    "duration": 29,
    "start_time": "2022-01-04T07:51:22.960Z"
   },
   {
    "duration": 8,
    "start_time": "2022-01-04T07:51:27.317Z"
   },
   {
    "duration": 683,
    "start_time": "2022-01-04T07:51:36.286Z"
   },
   {
    "duration": 41,
    "start_time": "2022-01-04T07:51:36.971Z"
   },
   {
    "duration": 15,
    "start_time": "2022-01-04T07:51:37.015Z"
   },
   {
    "duration": 49,
    "start_time": "2022-01-04T07:51:37.032Z"
   },
   {
    "duration": 12,
    "start_time": "2022-01-04T07:51:37.083Z"
   },
   {
    "duration": 588,
    "start_time": "2022-01-04T07:51:37.097Z"
   },
   {
    "duration": 29,
    "start_time": "2022-01-04T07:51:37.687Z"
   },
   {
    "duration": 7,
    "start_time": "2022-01-04T07:51:37.717Z"
   },
   {
    "duration": 20,
    "start_time": "2022-01-04T07:51:37.727Z"
   },
   {
    "duration": 7,
    "start_time": "2022-01-04T07:51:37.749Z"
   },
   {
    "duration": 9,
    "start_time": "2022-01-04T07:51:37.758Z"
   },
   {
    "duration": 27,
    "start_time": "2022-01-04T07:51:37.769Z"
   },
   {
    "duration": 48,
    "start_time": "2022-01-04T07:51:37.797Z"
   },
   {
    "duration": 15,
    "start_time": "2022-01-04T07:51:37.847Z"
   },
   {
    "duration": 18,
    "start_time": "2022-01-04T07:51:37.863Z"
   },
   {
    "duration": 26,
    "start_time": "2022-01-04T07:51:37.882Z"
   },
   {
    "duration": 35,
    "start_time": "2022-01-04T07:51:37.909Z"
   },
   {
    "duration": 323,
    "start_time": "2022-01-04T07:51:37.946Z"
   },
   {
    "duration": -2229,
    "start_time": "2022-01-04T07:51:40.499Z"
   },
   {
    "duration": -2231,
    "start_time": "2022-01-04T07:51:40.502Z"
   },
   {
    "duration": 5,
    "start_time": "2022-01-04T07:57:56.952Z"
   },
   {
    "duration": 234,
    "start_time": "2022-01-04T07:58:34.537Z"
   },
   {
    "duration": 6,
    "start_time": "2022-01-04T08:04:49.038Z"
   },
   {
    "duration": 6,
    "start_time": "2022-01-04T08:04:53.370Z"
   },
   {
    "duration": 6,
    "start_time": "2022-01-04T08:05:08.329Z"
   },
   {
    "duration": 5,
    "start_time": "2022-01-04T08:05:26.473Z"
   },
   {
    "duration": 81,
    "start_time": "2022-01-04T08:13:30.319Z"
   },
   {
    "duration": 78,
    "start_time": "2022-01-04T08:14:37.780Z"
   },
   {
    "duration": 579,
    "start_time": "2022-01-04T08:22:52.376Z"
   },
   {
    "duration": 24,
    "start_time": "2022-01-04T08:22:52.957Z"
   },
   {
    "duration": 8,
    "start_time": "2022-01-04T08:22:52.984Z"
   },
   {
    "duration": 77,
    "start_time": "2022-01-04T08:22:52.993Z"
   },
   {
    "duration": -2352,
    "start_time": "2022-01-04T08:22:55.424Z"
   },
   {
    "duration": -2356,
    "start_time": "2022-01-04T08:22:55.428Z"
   },
   {
    "duration": -2358,
    "start_time": "2022-01-04T08:22:55.431Z"
   },
   {
    "duration": -2361,
    "start_time": "2022-01-04T08:22:55.435Z"
   },
   {
    "duration": -2366,
    "start_time": "2022-01-04T08:22:55.441Z"
   },
   {
    "duration": -2369,
    "start_time": "2022-01-04T08:22:55.444Z"
   },
   {
    "duration": -2371,
    "start_time": "2022-01-04T08:22:55.447Z"
   },
   {
    "duration": -2374,
    "start_time": "2022-01-04T08:22:55.451Z"
   },
   {
    "duration": -2376,
    "start_time": "2022-01-04T08:22:55.453Z"
   },
   {
    "duration": -2378,
    "start_time": "2022-01-04T08:22:55.456Z"
   },
   {
    "duration": -2379,
    "start_time": "2022-01-04T08:22:55.458Z"
   },
   {
    "duration": -2406,
    "start_time": "2022-01-04T08:22:55.485Z"
   },
   {
    "duration": -2409,
    "start_time": "2022-01-04T08:22:55.489Z"
   },
   {
    "duration": -2410,
    "start_time": "2022-01-04T08:22:55.491Z"
   },
   {
    "duration": -2412,
    "start_time": "2022-01-04T08:22:55.493Z"
   },
   {
    "duration": -2413,
    "start_time": "2022-01-04T08:22:55.495Z"
   },
   {
    "duration": -2414,
    "start_time": "2022-01-04T08:22:55.497Z"
   },
   {
    "duration": 84,
    "start_time": "2022-01-04T08:23:51.165Z"
   },
   {
    "duration": 289,
    "start_time": "2022-01-04T08:24:03.568Z"
   },
   {
    "duration": 6,
    "start_time": "2022-01-04T08:24:27.896Z"
   },
   {
    "duration": 241,
    "start_time": "2022-01-04T08:24:58.705Z"
   },
   {
    "duration": 88,
    "start_time": "2022-01-04T08:25:30.175Z"
   },
   {
    "duration": 6,
    "start_time": "2022-01-04T08:25:44.277Z"
   },
   {
    "duration": 6,
    "start_time": "2022-01-04T08:25:57.285Z"
   },
   {
    "duration": 7,
    "start_time": "2022-01-04T08:26:40.372Z"
   },
   {
    "duration": 7,
    "start_time": "2022-01-04T08:26:56.216Z"
   },
   {
    "duration": 251,
    "start_time": "2022-01-04T08:27:12.779Z"
   },
   {
    "duration": 6,
    "start_time": "2022-01-04T08:27:26.886Z"
   },
   {
    "duration": 26,
    "start_time": "2022-01-04T08:29:10.759Z"
   },
   {
    "duration": 23,
    "start_time": "2022-01-04T08:29:24.938Z"
   },
   {
    "duration": 22,
    "start_time": "2022-01-04T08:29:34.218Z"
   },
   {
    "duration": 20,
    "start_time": "2022-01-04T08:29:40.889Z"
   },
   {
    "duration": 18,
    "start_time": "2022-01-04T08:29:55.869Z"
   },
   {
    "duration": 16,
    "start_time": "2022-01-04T08:30:09.448Z"
   },
   {
    "duration": 15,
    "start_time": "2022-01-04T08:30:15.107Z"
   },
   {
    "duration": 14,
    "start_time": "2022-01-04T08:30:21.269Z"
   },
   {
    "duration": 11,
    "start_time": "2022-01-04T08:30:28.008Z"
   },
   {
    "duration": 10,
    "start_time": "2022-01-04T08:30:33.487Z"
   },
   {
    "duration": 9,
    "start_time": "2022-01-04T08:30:38.597Z"
   },
   {
    "duration": 7,
    "start_time": "2022-01-04T08:30:43.399Z"
   },
   {
    "duration": 7,
    "start_time": "2022-01-04T08:33:09.708Z"
   },
   {
    "duration": 6,
    "start_time": "2022-01-04T08:33:47.397Z"
   },
   {
    "duration": 22,
    "start_time": "2022-01-04T08:36:16.714Z"
   },
   {
    "duration": 8,
    "start_time": "2022-01-04T08:36:40.877Z"
   },
   {
    "duration": 6,
    "start_time": "2022-01-04T08:37:07.658Z"
   },
   {
    "duration": 5,
    "start_time": "2022-01-04T08:37:14.361Z"
   },
   {
    "duration": 7,
    "start_time": "2022-01-04T08:37:37.877Z"
   },
   {
    "duration": 9,
    "start_time": "2022-01-04T08:40:48.367Z"
   },
   {
    "duration": 8,
    "start_time": "2022-01-04T08:41:08.888Z"
   },
   {
    "duration": 10,
    "start_time": "2022-01-04T08:41:11.607Z"
   },
   {
    "duration": 575,
    "start_time": "2022-01-04T08:41:18.767Z"
   },
   {
    "duration": 24,
    "start_time": "2022-01-04T08:41:19.343Z"
   },
   {
    "duration": 8,
    "start_time": "2022-01-04T08:41:19.369Z"
   },
   {
    "duration": 13,
    "start_time": "2022-01-04T08:41:19.378Z"
   },
   {
    "duration": 9,
    "start_time": "2022-01-04T08:41:19.392Z"
   },
   {
    "duration": 37,
    "start_time": "2022-01-04T08:41:19.403Z"
   },
   {
    "duration": 337,
    "start_time": "2022-01-04T08:41:19.441Z"
   },
   {
    "duration": 6,
    "start_time": "2022-01-04T08:41:19.780Z"
   },
   {
    "duration": 13,
    "start_time": "2022-01-04T08:41:19.789Z"
   },
   {
    "duration": 8,
    "start_time": "2022-01-04T08:41:19.804Z"
   },
   {
    "duration": 7,
    "start_time": "2022-01-04T08:41:19.814Z"
   },
   {
    "duration": 26,
    "start_time": "2022-01-04T08:41:19.841Z"
   },
   {
    "duration": 17,
    "start_time": "2022-01-04T08:41:19.868Z"
   },
   {
    "duration": 15,
    "start_time": "2022-01-04T08:41:19.886Z"
   },
   {
    "duration": 43,
    "start_time": "2022-01-04T08:41:19.903Z"
   },
   {
    "duration": 25,
    "start_time": "2022-01-04T08:41:19.948Z"
   },
   {
    "duration": 7,
    "start_time": "2022-01-04T08:41:19.975Z"
   },
   {
    "duration": 304,
    "start_time": "2022-01-04T08:41:19.984Z"
   },
   {
    "duration": -2205,
    "start_time": "2022-01-04T08:41:22.495Z"
   },
   {
    "duration": -2223,
    "start_time": "2022-01-04T08:41:22.514Z"
   },
   {
    "duration": 6,
    "start_time": "2022-01-04T08:42:29.265Z"
   },
   {
    "duration": 9,
    "start_time": "2022-01-04T08:42:33.754Z"
   },
   {
    "duration": 26,
    "start_time": "2022-01-04T08:43:22.008Z"
   },
   {
    "duration": 25,
    "start_time": "2022-01-04T08:44:30.730Z"
   },
   {
    "duration": 11,
    "start_time": "2022-01-04T08:44:47.165Z"
   },
   {
    "duration": 7,
    "start_time": "2022-01-04T08:46:36.601Z"
   },
   {
    "duration": 611,
    "start_time": "2022-01-04T08:46:50.345Z"
   },
   {
    "duration": 24,
    "start_time": "2022-01-04T08:46:50.958Z"
   },
   {
    "duration": 8,
    "start_time": "2022-01-04T08:46:50.984Z"
   },
   {
    "duration": 5,
    "start_time": "2022-01-04T08:46:50.994Z"
   },
   {
    "duration": 8,
    "start_time": "2022-01-04T08:46:51.001Z"
   },
   {
    "duration": 34,
    "start_time": "2022-01-04T08:46:51.010Z"
   },
   {
    "duration": 332,
    "start_time": "2022-01-04T08:46:51.046Z"
   },
   {
    "duration": 5,
    "start_time": "2022-01-04T08:46:51.380Z"
   },
   {
    "duration": 6,
    "start_time": "2022-01-04T08:46:51.387Z"
   },
   {
    "duration": 8,
    "start_time": "2022-01-04T08:46:51.395Z"
   },
   {
    "duration": 9,
    "start_time": "2022-01-04T08:46:51.404Z"
   },
   {
    "duration": 31,
    "start_time": "2022-01-04T08:46:51.415Z"
   },
   {
    "duration": 6,
    "start_time": "2022-01-04T08:46:51.448Z"
   },
   {
    "duration": 18,
    "start_time": "2022-01-04T08:46:51.456Z"
   },
   {
    "duration": 16,
    "start_time": "2022-01-04T08:46:51.476Z"
   },
   {
    "duration": 21,
    "start_time": "2022-01-04T08:46:51.494Z"
   },
   {
    "duration": 27,
    "start_time": "2022-01-04T08:46:51.517Z"
   },
   {
    "duration": 340,
    "start_time": "2022-01-04T08:46:51.545Z"
   },
   {
    "duration": -2213,
    "start_time": "2022-01-04T08:46:54.100Z"
   },
   {
    "duration": -2216,
    "start_time": "2022-01-04T08:46:54.104Z"
   },
   {
    "duration": 25,
    "start_time": "2022-01-04T08:51:08.594Z"
   },
   {
    "duration": 276,
    "start_time": "2022-01-04T08:53:19.311Z"
   },
   {
    "duration": 89,
    "start_time": "2022-01-04T08:54:42.478Z"
   },
   {
    "duration": 3100,
    "start_time": "2022-01-04T08:54:48.907Z"
   },
   {
    "duration": 2907,
    "start_time": "2022-01-04T08:58:59.719Z"
   },
   {
    "duration": 92,
    "start_time": "2022-01-04T09:01:08.405Z"
   },
   {
    "duration": 2855,
    "start_time": "2022-01-04T09:01:16.941Z"
   },
   {
    "duration": 3389,
    "start_time": "2022-01-04T09:06:47.343Z"
   },
   {
    "duration": 3184,
    "start_time": "2022-01-04T09:07:00.223Z"
   },
   {
    "duration": 7,
    "start_time": "2022-01-04T09:09:59.337Z"
   },
   {
    "duration": 236,
    "start_time": "2022-01-04T09:11:16.100Z"
   },
   {
    "duration": 16,
    "start_time": "2022-01-04T09:11:22.100Z"
   },
   {
    "duration": 7,
    "start_time": "2022-01-04T09:11:37.629Z"
   },
   {
    "duration": 1604,
    "start_time": "2022-01-04T09:11:56.091Z"
   },
   {
    "duration": 327,
    "start_time": "2022-01-04T09:12:21.354Z"
   },
   {
    "duration": 11,
    "start_time": "2022-01-04T09:15:28.501Z"
   },
   {
    "duration": 13,
    "start_time": "2022-01-04T09:15:34.803Z"
   },
   {
    "duration": 652,
    "start_time": "2022-01-04T09:15:43.047Z"
   },
   {
    "duration": 24,
    "start_time": "2022-01-04T09:15:43.701Z"
   },
   {
    "duration": 16,
    "start_time": "2022-01-04T09:15:43.728Z"
   },
   {
    "duration": 6,
    "start_time": "2022-01-04T09:15:43.746Z"
   },
   {
    "duration": 7,
    "start_time": "2022-01-04T09:15:43.754Z"
   },
   {
    "duration": 10,
    "start_time": "2022-01-04T09:15:43.763Z"
   },
   {
    "duration": 6,
    "start_time": "2022-01-04T09:15:43.774Z"
   },
   {
    "duration": 21,
    "start_time": "2022-01-04T09:15:43.783Z"
   },
   {
    "duration": 371,
    "start_time": "2022-01-04T09:15:43.806Z"
   },
   {
    "duration": 4,
    "start_time": "2022-01-04T09:15:44.179Z"
   },
   {
    "duration": 14,
    "start_time": "2022-01-04T09:15:44.185Z"
   },
   {
    "duration": 7,
    "start_time": "2022-01-04T09:15:44.200Z"
   },
   {
    "duration": 8,
    "start_time": "2022-01-04T09:15:44.209Z"
   },
   {
    "duration": 23,
    "start_time": "2022-01-04T09:15:44.219Z"
   },
   {
    "duration": 6,
    "start_time": "2022-01-04T09:15:44.243Z"
   },
   {
    "duration": 16,
    "start_time": "2022-01-04T09:15:44.251Z"
   },
   {
    "duration": 20,
    "start_time": "2022-01-04T09:15:44.268Z"
   },
   {
    "duration": 23,
    "start_time": "2022-01-04T09:15:44.289Z"
   },
   {
    "duration": 6,
    "start_time": "2022-01-04T09:15:44.314Z"
   },
   {
    "duration": 3243,
    "start_time": "2022-01-04T09:15:44.342Z"
   },
   {
    "duration": -2193,
    "start_time": "2022-01-04T09:15:49.780Z"
   },
   {
    "duration": 7,
    "start_time": "2022-01-04T09:16:19.899Z"
   },
   {
    "duration": 615,
    "start_time": "2022-01-04T09:16:28.958Z"
   },
   {
    "duration": 26,
    "start_time": "2022-01-04T09:16:29.575Z"
   },
   {
    "duration": 10,
    "start_time": "2022-01-04T09:16:29.603Z"
   },
   {
    "duration": 6,
    "start_time": "2022-01-04T09:16:29.614Z"
   },
   {
    "duration": 21,
    "start_time": "2022-01-04T09:16:29.622Z"
   },
   {
    "duration": 6,
    "start_time": "2022-01-04T09:16:29.645Z"
   },
   {
    "duration": 15,
    "start_time": "2022-01-04T09:16:29.653Z"
   },
   {
    "duration": 21,
    "start_time": "2022-01-04T09:16:29.669Z"
   },
   {
    "duration": 374,
    "start_time": "2022-01-04T09:16:29.692Z"
   },
   {
    "duration": 5,
    "start_time": "2022-01-04T09:16:30.069Z"
   },
   {
    "duration": 10,
    "start_time": "2022-01-04T09:16:30.075Z"
   },
   {
    "duration": 11,
    "start_time": "2022-01-04T09:16:30.086Z"
   },
   {
    "duration": 12,
    "start_time": "2022-01-04T09:16:30.098Z"
   },
   {
    "duration": 31,
    "start_time": "2022-01-04T09:16:30.111Z"
   },
   {
    "duration": 8,
    "start_time": "2022-01-04T09:16:30.143Z"
   },
   {
    "duration": 30,
    "start_time": "2022-01-04T09:16:30.153Z"
   },
   {
    "duration": 25,
    "start_time": "2022-01-04T09:16:30.186Z"
   },
   {
    "duration": 41,
    "start_time": "2022-01-04T09:16:30.212Z"
   },
   {
    "duration": 7,
    "start_time": "2022-01-04T09:16:30.255Z"
   },
   {
    "duration": 3275,
    "start_time": "2022-01-04T09:16:30.264Z"
   },
   {
    "duration": -2226,
    "start_time": "2022-01-04T09:16:35.767Z"
   },
   {
    "duration": 8,
    "start_time": "2022-01-04T09:20:07.865Z"
   },
   {
    "duration": 9,
    "start_time": "2022-01-04T09:20:23.960Z"
   },
   {
    "duration": 10,
    "start_time": "2022-01-04T09:21:30.150Z"
   },
   {
    "duration": 6,
    "start_time": "2022-01-04T09:21:37.401Z"
   },
   {
    "duration": 5,
    "start_time": "2022-01-04T09:25:33.588Z"
   },
   {
    "duration": 4,
    "start_time": "2022-01-04T09:25:37.900Z"
   },
   {
    "duration": 7,
    "start_time": "2022-01-04T09:25:49.919Z"
   },
   {
    "duration": 7,
    "start_time": "2022-01-04T09:26:24.041Z"
   },
   {
    "duration": 8,
    "start_time": "2022-01-04T09:26:35.580Z"
   },
   {
    "duration": 6,
    "start_time": "2022-01-04T09:27:06.000Z"
   },
   {
    "duration": 6,
    "start_time": "2022-01-04T09:27:21.970Z"
   },
   {
    "duration": 643,
    "start_time": "2022-01-04T09:27:31.926Z"
   },
   {
    "duration": 26,
    "start_time": "2022-01-04T09:27:32.570Z"
   },
   {
    "duration": 8,
    "start_time": "2022-01-04T09:27:32.598Z"
   },
   {
    "duration": 8,
    "start_time": "2022-01-04T09:27:32.608Z"
   },
   {
    "duration": 24,
    "start_time": "2022-01-04T09:27:32.618Z"
   },
   {
    "duration": 12,
    "start_time": "2022-01-04T09:27:32.644Z"
   },
   {
    "duration": 25,
    "start_time": "2022-01-04T09:27:32.657Z"
   },
   {
    "duration": 20,
    "start_time": "2022-01-04T09:27:32.683Z"
   },
   {
    "duration": 363,
    "start_time": "2022-01-04T09:27:32.706Z"
   },
   {
    "duration": 6,
    "start_time": "2022-01-04T09:27:33.071Z"
   },
   {
    "duration": 26,
    "start_time": "2022-01-04T09:27:33.078Z"
   },
   {
    "duration": 22,
    "start_time": "2022-01-04T09:27:33.106Z"
   },
   {
    "duration": 22,
    "start_time": "2022-01-04T09:27:33.130Z"
   },
   {
    "duration": 16,
    "start_time": "2022-01-04T09:27:33.154Z"
   },
   {
    "duration": 19,
    "start_time": "2022-01-04T09:27:33.171Z"
   },
   {
    "duration": 6,
    "start_time": "2022-01-04T09:27:33.192Z"
   },
   {
    "duration": 17,
    "start_time": "2022-01-04T09:27:33.199Z"
   },
   {
    "duration": 18,
    "start_time": "2022-01-04T09:27:33.217Z"
   },
   {
    "duration": 24,
    "start_time": "2022-01-04T09:27:33.236Z"
   },
   {
    "duration": 7,
    "start_time": "2022-01-04T09:27:33.261Z"
   },
   {
    "duration": 3498,
    "start_time": "2022-01-04T09:27:33.269Z"
   },
   {
    "duration": -2360,
    "start_time": "2022-01-04T09:27:39.128Z"
   },
   {
    "duration": 9,
    "start_time": "2022-01-04T09:30:10.761Z"
   },
   {
    "duration": 655,
    "start_time": "2022-01-04T09:30:33.002Z"
   },
   {
    "duration": 30,
    "start_time": "2022-01-04T09:30:33.659Z"
   },
   {
    "duration": 12,
    "start_time": "2022-01-04T09:30:33.691Z"
   },
   {
    "duration": 9,
    "start_time": "2022-01-04T09:30:33.705Z"
   },
   {
    "duration": 9,
    "start_time": "2022-01-04T09:30:33.715Z"
   },
   {
    "duration": 9,
    "start_time": "2022-01-04T09:30:33.742Z"
   },
   {
    "duration": 13,
    "start_time": "2022-01-04T09:30:33.753Z"
   },
   {
    "duration": 23,
    "start_time": "2022-01-04T09:30:33.769Z"
   },
   {
    "duration": 383,
    "start_time": "2022-01-04T09:30:33.795Z"
   },
   {
    "duration": 5,
    "start_time": "2022-01-04T09:30:34.180Z"
   },
   {
    "duration": 13,
    "start_time": "2022-01-04T09:30:34.187Z"
   },
   {
    "duration": 6,
    "start_time": "2022-01-04T09:30:34.202Z"
   },
   {
    "duration": 32,
    "start_time": "2022-01-04T09:30:34.210Z"
   },
   {
    "duration": 8,
    "start_time": "2022-01-04T09:30:34.244Z"
   },
   {
    "duration": 12,
    "start_time": "2022-01-04T09:30:34.254Z"
   },
   {
    "duration": 5,
    "start_time": "2022-01-04T09:30:34.268Z"
   },
   {
    "duration": 16,
    "start_time": "2022-01-04T09:30:34.275Z"
   },
   {
    "duration": 15,
    "start_time": "2022-01-04T09:30:34.292Z"
   },
   {
    "duration": 55,
    "start_time": "2022-01-04T09:30:34.308Z"
   },
   {
    "duration": 6,
    "start_time": "2022-01-04T09:30:34.365Z"
   },
   {
    "duration": 3326,
    "start_time": "2022-01-04T09:30:34.372Z"
   },
   {
    "duration": -2248,
    "start_time": "2022-01-04T09:30:39.948Z"
   },
   {
    "duration": 7,
    "start_time": "2022-01-04T09:31:40.202Z"
   },
   {
    "duration": 17,
    "start_time": "2022-01-04T09:32:53.863Z"
   },
   {
    "duration": 261,
    "start_time": "2022-01-04T09:35:04.751Z"
   },
   {
    "duration": 618,
    "start_time": "2022-01-04T09:40:17.648Z"
   },
   {
    "duration": 26,
    "start_time": "2022-01-04T09:40:18.268Z"
   },
   {
    "duration": 10,
    "start_time": "2022-01-04T09:40:18.296Z"
   },
   {
    "duration": 5,
    "start_time": "2022-01-04T09:40:18.308Z"
   },
   {
    "duration": 8,
    "start_time": "2022-01-04T09:40:18.314Z"
   },
   {
    "duration": 22,
    "start_time": "2022-01-04T09:40:18.323Z"
   },
   {
    "duration": 11,
    "start_time": "2022-01-04T09:40:18.347Z"
   },
   {
    "duration": 19,
    "start_time": "2022-01-04T09:40:18.360Z"
   },
   {
    "duration": 355,
    "start_time": "2022-01-04T09:40:18.382Z"
   },
   {
    "duration": 5,
    "start_time": "2022-01-04T09:40:18.740Z"
   },
   {
    "duration": 8,
    "start_time": "2022-01-04T09:40:18.747Z"
   },
   {
    "duration": 5,
    "start_time": "2022-01-04T09:40:18.756Z"
   },
   {
    "duration": 9,
    "start_time": "2022-01-04T09:40:18.762Z"
   },
   {
    "duration": 8,
    "start_time": "2022-01-04T09:40:18.772Z"
   },
   {
    "duration": 12,
    "start_time": "2022-01-04T09:40:18.781Z"
   },
   {
    "duration": 6,
    "start_time": "2022-01-04T09:40:18.794Z"
   },
   {
    "duration": 46,
    "start_time": "2022-01-04T09:40:18.801Z"
   },
   {
    "duration": 16,
    "start_time": "2022-01-04T09:40:18.849Z"
   },
   {
    "duration": 26,
    "start_time": "2022-01-04T09:40:18.866Z"
   },
   {
    "duration": 7,
    "start_time": "2022-01-04T09:40:18.893Z"
   },
   {
    "duration": 3232,
    "start_time": "2022-01-04T09:40:18.902Z"
   },
   {
    "duration": -2189,
    "start_time": "2022-01-04T09:40:24.326Z"
   },
   {
    "duration": -2231,
    "start_time": "2022-01-04T09:40:24.369Z"
   },
   {
    "duration": -2233,
    "start_time": "2022-01-04T09:40:24.373Z"
   },
   {
    "duration": 3094,
    "start_time": "2022-01-04T09:41:27.987Z"
   },
   {
    "duration": 20,
    "start_time": "2022-01-04T09:42:33.174Z"
   },
   {
    "duration": 14,
    "start_time": "2022-01-04T09:42:37.735Z"
   },
   {
    "duration": 582,
    "start_time": "2022-01-04T09:42:45.593Z"
   },
   {
    "duration": 26,
    "start_time": "2022-01-04T09:42:46.177Z"
   },
   {
    "duration": 10,
    "start_time": "2022-01-04T09:42:46.205Z"
   },
   {
    "duration": 6,
    "start_time": "2022-01-04T09:42:46.217Z"
   },
   {
    "duration": 7,
    "start_time": "2022-01-04T09:42:46.241Z"
   },
   {
    "duration": 8,
    "start_time": "2022-01-04T09:42:46.250Z"
   },
   {
    "duration": 13,
    "start_time": "2022-01-04T09:42:46.260Z"
   },
   {
    "duration": 19,
    "start_time": "2022-01-04T09:42:46.275Z"
   },
   {
    "duration": 356,
    "start_time": "2022-01-04T09:42:46.297Z"
   },
   {
    "duration": 5,
    "start_time": "2022-01-04T09:42:46.655Z"
   },
   {
    "duration": 11,
    "start_time": "2022-01-04T09:42:46.662Z"
   },
   {
    "duration": 7,
    "start_time": "2022-01-04T09:42:46.675Z"
   },
   {
    "duration": 5,
    "start_time": "2022-01-04T09:42:46.683Z"
   },
   {
    "duration": 8,
    "start_time": "2022-01-04T09:42:46.689Z"
   },
   {
    "duration": 15,
    "start_time": "2022-01-04T09:42:46.699Z"
   },
   {
    "duration": 29,
    "start_time": "2022-01-04T09:42:46.715Z"
   },
   {
    "duration": 17,
    "start_time": "2022-01-04T09:42:46.745Z"
   },
   {
    "duration": 18,
    "start_time": "2022-01-04T09:42:46.764Z"
   },
   {
    "duration": 24,
    "start_time": "2022-01-04T09:42:46.783Z"
   },
   {
    "duration": 6,
    "start_time": "2022-01-04T09:42:46.809Z"
   },
   {
    "duration": 3243,
    "start_time": "2022-01-04T09:42:46.816Z"
   },
   {
    "duration": -2221,
    "start_time": "2022-01-04T09:42:52.282Z"
   },
   {
    "duration": -2262,
    "start_time": "2022-01-04T09:42:52.324Z"
   },
   {
    "duration": -2266,
    "start_time": "2022-01-04T09:42:52.329Z"
   },
   {
    "duration": 3244,
    "start_time": "2022-01-04T09:42:58.083Z"
   },
   {
    "duration": 3241,
    "start_time": "2022-01-04T09:43:22.504Z"
   },
   {
    "duration": 2893,
    "start_time": "2022-01-04T09:43:42.393Z"
   },
   {
    "duration": 3009,
    "start_time": "2022-01-04T09:43:51.933Z"
   },
   {
    "duration": 2963,
    "start_time": "2022-01-04T09:43:58.713Z"
   },
   {
    "duration": 2856,
    "start_time": "2022-01-04T09:45:06.904Z"
   },
   {
    "duration": 2802,
    "start_time": "2022-01-04T09:45:19.964Z"
   },
   {
    "duration": 21,
    "start_time": "2022-01-04T09:49:30.366Z"
   },
   {
    "duration": 14,
    "start_time": "2022-01-04T09:50:05.224Z"
   },
   {
    "duration": 90,
    "start_time": "2022-01-04T09:51:29.766Z"
   },
   {
    "duration": 13,
    "start_time": "2022-01-04T09:51:48.157Z"
   },
   {
    "duration": 3050,
    "start_time": "2022-01-04T10:19:30.365Z"
   },
   {
    "duration": 2903,
    "start_time": "2022-01-04T10:23:58.707Z"
   },
   {
    "duration": 3064,
    "start_time": "2022-01-04T10:25:22.447Z"
   },
   {
    "duration": 3029,
    "start_time": "2022-01-04T10:26:23.947Z"
   },
   {
    "duration": 233,
    "start_time": "2022-01-04T10:30:30.966Z"
   },
   {
    "duration": 79,
    "start_time": "2022-01-04T10:32:28.705Z"
   },
   {
    "duration": 4,
    "start_time": "2022-01-04T10:32:33.724Z"
   },
   {
    "duration": 3,
    "start_time": "2022-01-04T10:32:38.406Z"
   },
   {
    "duration": 6355,
    "start_time": "2022-01-04T10:32:39.689Z"
   },
   {
    "duration": 2822,
    "start_time": "2022-01-04T10:37:19.237Z"
   },
   {
    "duration": 2895,
    "start_time": "2022-01-04T10:38:08.998Z"
   },
   {
    "duration": 2252,
    "start_time": "2022-01-04T10:39:41.127Z"
   },
   {
    "duration": 28,
    "start_time": "2022-01-04T10:39:45.897Z"
   },
   {
    "duration": 8,
    "start_time": "2022-01-04T10:41:30.668Z"
   },
   {
    "duration": 2638,
    "start_time": "2022-01-04T10:41:47.216Z"
   },
   {
    "duration": 2316,
    "start_time": "2022-01-04T10:42:07.407Z"
   },
   {
    "duration": 2373,
    "start_time": "2022-01-04T10:42:19.837Z"
   },
   {
    "duration": 27,
    "start_time": "2022-01-04T10:43:28.118Z"
   },
   {
    "duration": 3162,
    "start_time": "2022-01-04T10:43:34.363Z"
   },
   {
    "duration": 8,
    "start_time": "2022-01-04T10:43:54.507Z"
   },
   {
    "duration": 253,
    "start_time": "2022-01-04T10:45:15.621Z"
   },
   {
    "duration": 239,
    "start_time": "2022-01-04T10:45:22.177Z"
   },
   {
    "duration": 13,
    "start_time": "2022-01-04T10:46:08.858Z"
   },
   {
    "duration": 247,
    "start_time": "2022-01-04T10:46:12.429Z"
   },
   {
    "duration": 260,
    "start_time": "2022-01-04T10:46:35.238Z"
   },
   {
    "duration": 275,
    "start_time": "2022-01-04T10:46:41.117Z"
   },
   {
    "duration": 17,
    "start_time": "2022-01-04T10:47:03.958Z"
   },
   {
    "duration": 19,
    "start_time": "2022-01-04T10:47:15.237Z"
   },
   {
    "duration": 258,
    "start_time": "2022-01-04T10:52:38.293Z"
   },
   {
    "duration": 252,
    "start_time": "2022-01-04T10:53:28.574Z"
   },
   {
    "duration": 263,
    "start_time": "2022-01-04T10:53:36.514Z"
   },
   {
    "duration": 240,
    "start_time": "2022-01-04T10:53:46.854Z"
   },
   {
    "duration": 30,
    "start_time": "2022-01-04T10:54:32.974Z"
   },
   {
    "duration": 17,
    "start_time": "2022-01-04T10:56:51.040Z"
   },
   {
    "duration": 241,
    "start_time": "2022-01-04T10:57:07.645Z"
   },
   {
    "duration": 17,
    "start_time": "2022-01-04T10:58:05.069Z"
   },
   {
    "duration": 15,
    "start_time": "2022-01-04T10:59:30.061Z"
   },
   {
    "duration": 13,
    "start_time": "2022-01-04T11:02:39.059Z"
   },
   {
    "duration": 13,
    "start_time": "2022-01-04T11:10:12.876Z"
   },
   {
    "duration": 13,
    "start_time": "2022-01-04T11:10:27.172Z"
   },
   {
    "duration": 14,
    "start_time": "2022-01-04T11:10:59.168Z"
   },
   {
    "duration": 5831,
    "start_time": "2022-01-04T11:11:37.693Z"
   },
   {
    "duration": 15,
    "start_time": "2022-01-04T11:11:53.671Z"
   },
   {
    "duration": 243,
    "start_time": "2022-01-04T11:12:43.051Z"
   },
   {
    "duration": 243,
    "start_time": "2022-01-04T11:12:46.252Z"
   },
   {
    "duration": 278,
    "start_time": "2022-01-04T11:13:25.107Z"
   },
   {
    "duration": 3707,
    "start_time": "2022-01-04T11:13:50.061Z"
   },
   {
    "duration": 465,
    "start_time": "2022-01-04T11:14:31.452Z"
   },
   {
    "duration": 15,
    "start_time": "2022-01-04T11:16:59.311Z"
   },
   {
    "duration": 147,
    "start_time": "2022-01-04T11:17:20.656Z"
   },
   {
    "duration": 16,
    "start_time": "2022-01-04T11:17:48.218Z"
   },
   {
    "duration": 24,
    "start_time": "2022-01-04T11:24:59.048Z"
   },
   {
    "duration": 14,
    "start_time": "2022-01-04T11:42:10.034Z"
   },
   {
    "duration": 642,
    "start_time": "2022-01-04T11:44:59.475Z"
   },
   {
    "duration": 27,
    "start_time": "2022-01-04T11:45:00.118Z"
   },
   {
    "duration": 32,
    "start_time": "2022-01-04T11:45:00.147Z"
   },
   {
    "duration": 22,
    "start_time": "2022-01-04T11:45:00.181Z"
   },
   {
    "duration": 32,
    "start_time": "2022-01-04T11:45:00.206Z"
   },
   {
    "duration": 29,
    "start_time": "2022-01-04T11:45:00.241Z"
   },
   {
    "duration": 31,
    "start_time": "2022-01-04T11:45:00.273Z"
   },
   {
    "duration": 44,
    "start_time": "2022-01-04T11:45:00.307Z"
   },
   {
    "duration": 583,
    "start_time": "2022-01-04T11:45:00.353Z"
   },
   {
    "duration": 7,
    "start_time": "2022-01-04T11:45:00.941Z"
   },
   {
    "duration": 31,
    "start_time": "2022-01-04T11:45:00.950Z"
   },
   {
    "duration": 18,
    "start_time": "2022-01-04T11:45:00.983Z"
   },
   {
    "duration": 21,
    "start_time": "2022-01-04T11:45:01.003Z"
   },
   {
    "duration": 22,
    "start_time": "2022-01-04T11:45:01.025Z"
   },
   {
    "duration": 31,
    "start_time": "2022-01-04T11:45:01.048Z"
   },
   {
    "duration": 34,
    "start_time": "2022-01-04T11:45:01.081Z"
   },
   {
    "duration": 47,
    "start_time": "2022-01-04T11:45:01.117Z"
   },
   {
    "duration": 43,
    "start_time": "2022-01-04T11:45:01.166Z"
   },
   {
    "duration": 28,
    "start_time": "2022-01-04T11:45:01.211Z"
   },
   {
    "duration": 8,
    "start_time": "2022-01-04T11:45:01.242Z"
   },
   {
    "duration": 55,
    "start_time": "2022-01-04T11:45:01.252Z"
   },
   {
    "duration": 3307,
    "start_time": "2022-01-04T11:45:01.309Z"
   },
   {
    "duration": 24,
    "start_time": "2022-01-04T11:45:04.619Z"
   },
   {
    "duration": 2,
    "start_time": "2022-01-04T11:45:04.645Z"
   },
   {
    "duration": 309,
    "start_time": "2022-01-04T11:45:04.649Z"
   },
   {
    "duration": -127,
    "start_time": "2022-01-04T11:45:05.086Z"
   },
   {
    "duration": -131,
    "start_time": "2022-01-04T11:45:05.092Z"
   },
   {
    "duration": -139,
    "start_time": "2022-01-04T11:45:05.100Z"
   },
   {
    "duration": -144,
    "start_time": "2022-01-04T11:45:05.106Z"
   },
   {
    "duration": -146,
    "start_time": "2022-01-04T11:45:05.109Z"
   },
   {
    "duration": 104,
    "start_time": "2022-01-04T11:45:25.156Z"
   },
   {
    "duration": 83,
    "start_time": "2022-01-04T11:45:29.167Z"
   },
   {
    "duration": 59,
    "start_time": "2022-01-04T11:45:33.640Z"
   },
   {
    "duration": 148,
    "start_time": "2022-01-04T11:45:36.476Z"
   },
   {
    "duration": 13,
    "start_time": "2022-01-04T11:45:43.485Z"
   },
   {
    "duration": 20,
    "start_time": "2022-01-04T11:45:51.816Z"
   },
   {
    "duration": 12,
    "start_time": "2022-01-04T11:45:54.755Z"
   },
   {
    "duration": 11,
    "start_time": "2022-01-04T11:48:50.968Z"
   },
   {
    "duration": 13,
    "start_time": "2022-01-04T11:48:52.339Z"
   },
   {
    "duration": 13,
    "start_time": "2022-01-04T11:48:57.731Z"
   },
   {
    "duration": 2825,
    "start_time": "2022-01-04T11:52:49.996Z"
   },
   {
    "duration": 603,
    "start_time": "2022-01-04T11:54:29.501Z"
   },
   {
    "duration": 17,
    "start_time": "2022-01-04T11:54:30.105Z"
   },
   {
    "duration": 9,
    "start_time": "2022-01-04T11:54:30.124Z"
   },
   {
    "duration": 8,
    "start_time": "2022-01-04T11:54:30.135Z"
   },
   {
    "duration": 7,
    "start_time": "2022-01-04T11:54:30.144Z"
   },
   {
    "duration": 8,
    "start_time": "2022-01-04T11:54:30.152Z"
   },
   {
    "duration": 22,
    "start_time": "2022-01-04T11:54:30.162Z"
   },
   {
    "duration": 16,
    "start_time": "2022-01-04T11:54:30.187Z"
   },
   {
    "duration": 18,
    "start_time": "2022-01-04T11:54:30.205Z"
   },
   {
    "duration": 466,
    "start_time": "2022-01-04T11:54:30.224Z"
   },
   {
    "duration": 6,
    "start_time": "2022-01-04T11:54:30.691Z"
   },
   {
    "duration": 11,
    "start_time": "2022-01-04T11:54:30.698Z"
   },
   {
    "duration": 6,
    "start_time": "2022-01-04T11:54:30.711Z"
   },
   {
    "duration": 7,
    "start_time": "2022-01-04T11:54:30.718Z"
   },
   {
    "duration": 16,
    "start_time": "2022-01-04T11:54:30.726Z"
   },
   {
    "duration": 15,
    "start_time": "2022-01-04T11:54:30.743Z"
   },
   {
    "duration": 6,
    "start_time": "2022-01-04T11:54:30.759Z"
   },
   {
    "duration": 22,
    "start_time": "2022-01-04T11:54:30.767Z"
   },
   {
    "duration": 29,
    "start_time": "2022-01-04T11:54:30.791Z"
   },
   {
    "duration": 36,
    "start_time": "2022-01-04T11:54:30.822Z"
   },
   {
    "duration": 7,
    "start_time": "2022-01-04T11:54:30.859Z"
   },
   {
    "duration": 11,
    "start_time": "2022-01-04T11:54:30.868Z"
   },
   {
    "duration": 2860,
    "start_time": "2022-01-04T11:54:30.882Z"
   },
   {
    "duration": 11,
    "start_time": "2022-01-04T11:54:33.744Z"
   },
   {
    "duration": 2,
    "start_time": "2022-01-04T11:54:33.756Z"
   },
   {
    "duration": 297,
    "start_time": "2022-01-04T11:54:33.760Z"
   },
   {
    "duration": -111,
    "start_time": "2022-01-04T11:54:34.170Z"
   },
   {
    "duration": -114,
    "start_time": "2022-01-04T11:54:34.174Z"
   },
   {
    "duration": -123,
    "start_time": "2022-01-04T11:54:34.184Z"
   },
   {
    "duration": -124,
    "start_time": "2022-01-04T11:54:34.186Z"
   },
   {
    "duration": -125,
    "start_time": "2022-01-04T11:54:34.188Z"
   },
   {
    "duration": 17,
    "start_time": "2022-01-04T11:54:40.322Z"
   },
   {
    "duration": 15,
    "start_time": "2022-01-04T11:54:43.777Z"
   },
   {
    "duration": 15,
    "start_time": "2022-01-04T11:54:46.376Z"
   },
   {
    "duration": 18,
    "start_time": "2022-01-04T11:59:13.202Z"
   },
   {
    "duration": 18,
    "start_time": "2022-01-04T11:59:33.761Z"
   },
   {
    "duration": 17,
    "start_time": "2022-01-04T11:59:49.931Z"
   },
   {
    "duration": 12,
    "start_time": "2022-01-04T12:06:38.802Z"
   },
   {
    "duration": 11,
    "start_time": "2022-01-04T12:06:42.771Z"
   },
   {
    "duration": 16,
    "start_time": "2022-01-04T12:06:59.246Z"
   },
   {
    "duration": 645,
    "start_time": "2022-01-04T12:07:09.720Z"
   },
   {
    "duration": 20,
    "start_time": "2022-01-04T12:07:10.367Z"
   },
   {
    "duration": 9,
    "start_time": "2022-01-04T12:07:10.389Z"
   },
   {
    "duration": 6,
    "start_time": "2022-01-04T12:07:10.400Z"
   },
   {
    "duration": 7,
    "start_time": "2022-01-04T12:07:10.407Z"
   },
   {
    "duration": 6,
    "start_time": "2022-01-04T12:07:10.441Z"
   },
   {
    "duration": 15,
    "start_time": "2022-01-04T12:07:10.448Z"
   },
   {
    "duration": 11,
    "start_time": "2022-01-04T12:07:10.466Z"
   },
   {
    "duration": 12,
    "start_time": "2022-01-04T12:07:10.479Z"
   },
   {
    "duration": 370,
    "start_time": "2022-01-04T12:07:10.493Z"
   },
   {
    "duration": 5,
    "start_time": "2022-01-04T12:07:10.864Z"
   },
   {
    "duration": 9,
    "start_time": "2022-01-04T12:07:10.870Z"
   },
   {
    "duration": 4,
    "start_time": "2022-01-04T12:07:10.881Z"
   },
   {
    "duration": 4,
    "start_time": "2022-01-04T12:07:10.887Z"
   },
   {
    "duration": 7,
    "start_time": "2022-01-04T12:07:10.892Z"
   },
   {
    "duration": 343,
    "start_time": "2022-01-04T12:07:10.900Z"
   },
   {
    "duration": -163,
    "start_time": "2022-01-04T12:07:11.409Z"
   },
   {
    "duration": -165,
    "start_time": "2022-01-04T12:07:11.412Z"
   },
   {
    "duration": -168,
    "start_time": "2022-01-04T12:07:11.416Z"
   },
   {
    "duration": -177,
    "start_time": "2022-01-04T12:07:11.425Z"
   },
   {
    "duration": -179,
    "start_time": "2022-01-04T12:07:11.428Z"
   },
   {
    "duration": -181,
    "start_time": "2022-01-04T12:07:11.431Z"
   },
   {
    "duration": -183,
    "start_time": "2022-01-04T12:07:11.434Z"
   },
   {
    "duration": -184,
    "start_time": "2022-01-04T12:07:11.436Z"
   },
   {
    "duration": -186,
    "start_time": "2022-01-04T12:07:11.439Z"
   },
   {
    "duration": -187,
    "start_time": "2022-01-04T12:07:11.441Z"
   },
   {
    "duration": -188,
    "start_time": "2022-01-04T12:07:11.443Z"
   },
   {
    "duration": -190,
    "start_time": "2022-01-04T12:07:11.445Z"
   },
   {
    "duration": -192,
    "start_time": "2022-01-04T12:07:11.448Z"
   },
   {
    "duration": -193,
    "start_time": "2022-01-04T12:07:11.450Z"
   },
   {
    "duration": 13,
    "start_time": "2022-01-04T12:08:52.492Z"
   },
   {
    "duration": 11,
    "start_time": "2022-01-04T12:09:19.851Z"
   },
   {
    "duration": 11,
    "start_time": "2022-01-04T12:09:29.011Z"
   },
   {
    "duration": 12,
    "start_time": "2022-01-04T12:09:30.601Z"
   },
   {
    "duration": 242,
    "start_time": "2022-01-04T12:09:51.110Z"
   },
   {
    "duration": 15,
    "start_time": "2022-01-04T12:10:06.850Z"
   },
   {
    "duration": 12,
    "start_time": "2022-01-04T12:10:08.206Z"
   },
   {
    "duration": 6,
    "start_time": "2022-01-04T12:11:37.904Z"
   },
   {
    "duration": 19,
    "start_time": "2022-01-04T12:12:15.405Z"
   },
   {
    "duration": 21,
    "start_time": "2022-01-04T12:12:24.584Z"
   },
   {
    "duration": 14,
    "start_time": "2022-01-04T12:12:40.785Z"
   },
   {
    "duration": 15,
    "start_time": "2022-01-04T12:12:54.220Z"
   },
   {
    "duration": 23,
    "start_time": "2022-01-04T12:29:15.838Z"
   },
   {
    "duration": 255,
    "start_time": "2022-01-04T12:29:34.625Z"
   },
   {
    "duration": 242,
    "start_time": "2022-01-04T12:29:50.162Z"
   },
   {
    "duration": 266,
    "start_time": "2022-01-04T12:30:32.934Z"
   },
   {
    "duration": 91,
    "start_time": "2022-01-04T12:37:06.295Z"
   },
   {
    "duration": 297,
    "start_time": "2022-01-04T12:37:20.205Z"
   },
   {
    "duration": 248,
    "start_time": "2022-01-04T12:37:36.865Z"
   },
   {
    "duration": 618,
    "start_time": "2022-01-04T12:41:30.497Z"
   },
   {
    "duration": 244,
    "start_time": "2022-01-04T12:41:38.324Z"
   },
   {
    "duration": 6475,
    "start_time": "2022-01-04T12:46:54.325Z"
   },
   {
    "duration": 6179,
    "start_time": "2022-01-04T12:47:36.109Z"
   },
   {
    "duration": 6685,
    "start_time": "2022-01-04T12:50:31.173Z"
   },
   {
    "duration": 672,
    "start_time": "2022-01-04T12:50:46.945Z"
   },
   {
    "duration": 22,
    "start_time": "2022-01-04T12:50:47.619Z"
   },
   {
    "duration": 9,
    "start_time": "2022-01-04T12:50:47.643Z"
   },
   {
    "duration": 7,
    "start_time": "2022-01-04T12:50:47.654Z"
   },
   {
    "duration": 7,
    "start_time": "2022-01-04T12:50:47.662Z"
   },
   {
    "duration": 13,
    "start_time": "2022-01-04T12:50:47.670Z"
   },
   {
    "duration": 12,
    "start_time": "2022-01-04T12:50:47.685Z"
   },
   {
    "duration": 6,
    "start_time": "2022-01-04T12:50:47.698Z"
   },
   {
    "duration": 6,
    "start_time": "2022-01-04T12:50:47.706Z"
   },
   {
    "duration": 31,
    "start_time": "2022-01-04T12:50:47.713Z"
   },
   {
    "duration": 336,
    "start_time": "2022-01-04T12:50:47.745Z"
   },
   {
    "duration": 5942,
    "start_time": "2022-01-04T12:50:48.082Z"
   },
   {
    "duration": -167,
    "start_time": "2022-01-04T12:50:54.193Z"
   },
   {
    "duration": -169,
    "start_time": "2022-01-04T12:50:54.196Z"
   },
   {
    "duration": -172,
    "start_time": "2022-01-04T12:50:54.200Z"
   },
   {
    "duration": -179,
    "start_time": "2022-01-04T12:50:54.208Z"
   },
   {
    "duration": -181,
    "start_time": "2022-01-04T12:50:54.211Z"
   },
   {
    "duration": -183,
    "start_time": "2022-01-04T12:50:54.214Z"
   },
   {
    "duration": -186,
    "start_time": "2022-01-04T12:50:54.218Z"
   },
   {
    "duration": -194,
    "start_time": "2022-01-04T12:50:54.227Z"
   },
   {
    "duration": -197,
    "start_time": "2022-01-04T12:50:54.231Z"
   },
   {
    "duration": -208,
    "start_time": "2022-01-04T12:50:54.243Z"
   },
   {
    "duration": -210,
    "start_time": "2022-01-04T12:50:54.246Z"
   },
   {
    "duration": -216,
    "start_time": "2022-01-04T12:50:54.253Z"
   },
   {
    "duration": -223,
    "start_time": "2022-01-04T12:50:54.261Z"
   },
   {
    "duration": -456,
    "start_time": "2022-01-04T12:50:54.495Z"
   },
   {
    "duration": -461,
    "start_time": "2022-01-04T12:50:54.500Z"
   },
   {
    "duration": -471,
    "start_time": "2022-01-04T12:50:54.511Z"
   },
   {
    "duration": -476,
    "start_time": "2022-01-04T12:50:54.517Z"
   },
   {
    "duration": -482,
    "start_time": "2022-01-04T12:50:54.524Z"
   },
   {
    "duration": -484,
    "start_time": "2022-01-04T12:50:54.527Z"
   },
   {
    "duration": -485,
    "start_time": "2022-01-04T12:50:54.529Z"
   },
   {
    "duration": -486,
    "start_time": "2022-01-04T12:50:54.531Z"
   },
   {
    "duration": -493,
    "start_time": "2022-01-04T12:50:54.539Z"
   },
   {
    "duration": 12,
    "start_time": "2022-01-04T12:51:37.363Z"
   },
   {
    "duration": 9,
    "start_time": "2022-01-04T12:52:57.553Z"
   },
   {
    "duration": 4,
    "start_time": "2022-01-04T12:54:32.898Z"
   },
   {
    "duration": 4,
    "start_time": "2022-01-04T12:54:54.044Z"
   },
   {
    "duration": 6877,
    "start_time": "2022-01-04T12:56:35.209Z"
   },
   {
    "duration": 7223,
    "start_time": "2022-01-04T12:57:14.929Z"
   },
   {
    "duration": 650,
    "start_time": "2022-01-04T12:57:42.113Z"
   },
   {
    "duration": 19,
    "start_time": "2022-01-04T12:57:42.765Z"
   },
   {
    "duration": 24,
    "start_time": "2022-01-04T12:57:42.786Z"
   },
   {
    "duration": 20,
    "start_time": "2022-01-04T12:57:42.812Z"
   },
   {
    "duration": 25,
    "start_time": "2022-01-04T12:57:42.833Z"
   },
   {
    "duration": 23,
    "start_time": "2022-01-04T12:57:42.859Z"
   },
   {
    "duration": 35,
    "start_time": "2022-01-04T12:57:42.883Z"
   },
   {
    "duration": 7,
    "start_time": "2022-01-04T12:57:42.919Z"
   },
   {
    "duration": 22,
    "start_time": "2022-01-04T12:57:42.928Z"
   },
   {
    "duration": 33,
    "start_time": "2022-01-04T12:57:42.952Z"
   },
   {
    "duration": 22,
    "start_time": "2022-01-04T12:57:42.987Z"
   },
   {
    "duration": 21,
    "start_time": "2022-01-04T12:57:43.010Z"
   },
   {
    "duration": 357,
    "start_time": "2022-01-04T12:57:43.033Z"
   },
   {
    "duration": 6,
    "start_time": "2022-01-04T12:57:43.392Z"
   },
   {
    "duration": 43,
    "start_time": "2022-01-04T12:57:43.399Z"
   },
   {
    "duration": 39,
    "start_time": "2022-01-04T12:57:43.444Z"
   },
   {
    "duration": 18,
    "start_time": "2022-01-04T12:57:43.484Z"
   },
   {
    "duration": 30,
    "start_time": "2022-01-04T12:57:43.504Z"
   },
   {
    "duration": 32,
    "start_time": "2022-01-04T12:57:43.536Z"
   },
   {
    "duration": 19,
    "start_time": "2022-01-04T12:57:43.569Z"
   },
   {
    "duration": 55,
    "start_time": "2022-01-04T12:57:43.590Z"
   },
   {
    "duration": 26,
    "start_time": "2022-01-04T12:57:43.647Z"
   },
   {
    "duration": 57,
    "start_time": "2022-01-04T12:57:43.674Z"
   },
   {
    "duration": 15,
    "start_time": "2022-01-04T12:57:43.732Z"
   },
   {
    "duration": 33,
    "start_time": "2022-01-04T12:57:43.749Z"
   },
   {
    "duration": 3407,
    "start_time": "2022-01-04T12:57:43.784Z"
   },
   {
    "duration": 10,
    "start_time": "2022-01-04T12:57:47.194Z"
   },
   {
    "duration": 88,
    "start_time": "2022-01-04T12:57:47.206Z"
   },
   {
    "duration": -135,
    "start_time": "2022-01-04T12:57:47.431Z"
   },
   {
    "duration": -143,
    "start_time": "2022-01-04T12:57:47.440Z"
   },
   {
    "duration": -147,
    "start_time": "2022-01-04T12:57:47.445Z"
   },
   {
    "duration": -149,
    "start_time": "2022-01-04T12:57:47.448Z"
   },
   {
    "duration": -154,
    "start_time": "2022-01-04T12:57:47.455Z"
   },
   {
    "duration": 464,
    "start_time": "2022-01-04T13:04:25.876Z"
   },
   {
    "duration": 9727,
    "start_time": "2022-01-04T13:04:37.741Z"
   },
   {
    "duration": 20,
    "start_time": "2022-01-04T13:07:24.737Z"
   },
   {
    "duration": 221,
    "start_time": "2022-01-04T13:09:57.811Z"
   },
   {
    "duration": 12,
    "start_time": "2022-01-04T13:11:36.519Z"
   },
   {
    "duration": 12,
    "start_time": "2022-01-04T13:11:57.634Z"
   },
   {
    "duration": 19,
    "start_time": "2022-01-04T13:12:19.903Z"
   },
   {
    "duration": 39,
    "start_time": "2022-01-04T13:12:36.573Z"
   },
   {
    "duration": 21,
    "start_time": "2022-01-04T13:13:34.180Z"
   },
   {
    "duration": 22,
    "start_time": "2022-01-04T13:16:04.444Z"
   },
   {
    "duration": 22,
    "start_time": "2022-01-04T13:17:42.725Z"
   },
   {
    "duration": 563,
    "start_time": "2022-01-04T13:18:55.523Z"
   },
   {
    "duration": 20,
    "start_time": "2022-01-04T13:19:00.281Z"
   },
   {
    "duration": 16,
    "start_time": "2022-01-04T13:19:06.089Z"
   },
   {
    "duration": 245,
    "start_time": "2022-01-04T13:20:41.561Z"
   },
   {
    "duration": 251,
    "start_time": "2022-01-04T13:20:53.317Z"
   },
   {
    "duration": 639,
    "start_time": "2022-01-04T13:21:01.152Z"
   },
   {
    "duration": 16,
    "start_time": "2022-01-04T13:21:01.793Z"
   },
   {
    "duration": 17,
    "start_time": "2022-01-04T13:21:01.811Z"
   },
   {
    "duration": 20,
    "start_time": "2022-01-04T13:21:01.829Z"
   },
   {
    "duration": 14,
    "start_time": "2022-01-04T13:21:01.850Z"
   },
   {
    "duration": 16,
    "start_time": "2022-01-04T13:21:01.865Z"
   },
   {
    "duration": 15,
    "start_time": "2022-01-04T13:21:01.883Z"
   },
   {
    "duration": 9,
    "start_time": "2022-01-04T13:21:01.899Z"
   },
   {
    "duration": 14,
    "start_time": "2022-01-04T13:21:01.910Z"
   },
   {
    "duration": 28,
    "start_time": "2022-01-04T13:21:01.925Z"
   },
   {
    "duration": 28,
    "start_time": "2022-01-04T13:21:01.955Z"
   },
   {
    "duration": 6,
    "start_time": "2022-01-04T13:21:01.985Z"
   },
   {
    "duration": 9,
    "start_time": "2022-01-04T13:21:01.993Z"
   },
   {
    "duration": 7,
    "start_time": "2022-01-04T13:21:02.004Z"
   },
   {
    "duration": 15,
    "start_time": "2022-01-04T13:21:02.012Z"
   },
   {
    "duration": 19,
    "start_time": "2022-01-04T13:21:02.029Z"
   },
   {
    "duration": 15,
    "start_time": "2022-01-04T13:21:02.050Z"
   },
   {
    "duration": 11,
    "start_time": "2022-01-04T13:21:02.067Z"
   },
   {
    "duration": 29,
    "start_time": "2022-01-04T13:21:02.079Z"
   },
   {
    "duration": 33,
    "start_time": "2022-01-04T13:21:02.110Z"
   },
   {
    "duration": 51,
    "start_time": "2022-01-04T13:21:02.145Z"
   },
   {
    "duration": 7,
    "start_time": "2022-01-04T13:21:02.198Z"
   },
   {
    "duration": 43,
    "start_time": "2022-01-04T13:21:02.206Z"
   },
   {
    "duration": 3471,
    "start_time": "2022-01-04T13:21:02.251Z"
   },
   {
    "duration": 20,
    "start_time": "2022-01-04T13:21:05.724Z"
   },
   {
    "duration": 19,
    "start_time": "2022-01-04T13:21:05.746Z"
   },
   {
    "duration": 20,
    "start_time": "2022-01-04T13:21:05.768Z"
   },
   {
    "duration": 21,
    "start_time": "2022-01-04T13:21:05.790Z"
   },
   {
    "duration": 15,
    "start_time": "2022-01-04T13:21:05.841Z"
   },
   {
    "duration": 342,
    "start_time": "2022-01-04T13:21:05.857Z"
   },
   {
    "duration": -137,
    "start_time": "2022-01-04T13:21:06.338Z"
   },
   {
    "duration": 257,
    "start_time": "2022-01-04T13:25:28.008Z"
   },
   {
    "duration": 14,
    "start_time": "2022-01-04T13:26:14.999Z"
   },
   {
    "duration": 16,
    "start_time": "2022-01-04T13:26:55.744Z"
   },
   {
    "duration": 229,
    "start_time": "2022-01-04T14:57:28.972Z"
   },
   {
    "duration": 634,
    "start_time": "2022-01-04T14:57:53.026Z"
   },
   {
    "duration": 17,
    "start_time": "2022-01-04T14:57:53.662Z"
   },
   {
    "duration": 8,
    "start_time": "2022-01-04T14:57:53.681Z"
   },
   {
    "duration": 5,
    "start_time": "2022-01-04T14:57:53.691Z"
   },
   {
    "duration": 9,
    "start_time": "2022-01-04T14:57:53.698Z"
   },
   {
    "duration": 33,
    "start_time": "2022-01-04T14:57:53.708Z"
   },
   {
    "duration": 12,
    "start_time": "2022-01-04T14:57:53.743Z"
   },
   {
    "duration": 3,
    "start_time": "2022-01-04T14:57:53.757Z"
   },
   {
    "duration": 4,
    "start_time": "2022-01-04T14:57:53.764Z"
   },
   {
    "duration": 9,
    "start_time": "2022-01-04T14:57:53.770Z"
   },
   {
    "duration": 18,
    "start_time": "2022-01-04T14:57:53.781Z"
   },
   {
    "duration": 8,
    "start_time": "2022-01-04T14:57:53.801Z"
   },
   {
    "duration": 36,
    "start_time": "2022-01-04T14:57:53.810Z"
   },
   {
    "duration": 6,
    "start_time": "2022-01-04T14:57:53.848Z"
   },
   {
    "duration": 6,
    "start_time": "2022-01-04T14:57:53.856Z"
   },
   {
    "duration": 11,
    "start_time": "2022-01-04T14:57:53.864Z"
   },
   {
    "duration": 17,
    "start_time": "2022-01-04T14:57:53.877Z"
   },
   {
    "duration": 6,
    "start_time": "2022-01-04T14:57:53.895Z"
   },
   {
    "duration": 43,
    "start_time": "2022-01-04T14:57:53.903Z"
   },
   {
    "duration": 19,
    "start_time": "2022-01-04T14:57:53.948Z"
   },
   {
    "duration": 26,
    "start_time": "2022-01-04T14:57:53.968Z"
   },
   {
    "duration": 7,
    "start_time": "2022-01-04T14:57:53.995Z"
   },
   {
    "duration": 6,
    "start_time": "2022-01-04T14:57:54.004Z"
   },
   {
    "duration": 3255,
    "start_time": "2022-01-04T14:57:54.011Z"
   },
   {
    "duration": 10,
    "start_time": "2022-01-04T14:57:57.268Z"
   },
   {
    "duration": 23,
    "start_time": "2022-01-04T14:57:57.280Z"
   },
   {
    "duration": 18,
    "start_time": "2022-01-04T14:57:57.306Z"
   },
   {
    "duration": 19,
    "start_time": "2022-01-04T14:57:57.341Z"
   },
   {
    "duration": 13,
    "start_time": "2022-01-04T14:57:57.362Z"
   },
   {
    "duration": 15,
    "start_time": "2022-01-04T14:57:57.377Z"
   },
   {
    "duration": 289,
    "start_time": "2022-01-04T14:57:57.394Z"
   },
   {
    "duration": -102,
    "start_time": "2022-01-04T14:57:57.787Z"
   },
   {
    "duration": 12,
    "start_time": "2022-01-04T14:58:51.545Z"
   },
   {
    "duration": 22,
    "start_time": "2022-01-04T15:01:48.415Z"
   },
   {
    "duration": 4,
    "start_time": "2022-01-04T15:02:28.595Z"
   },
   {
    "duration": 253,
    "start_time": "2022-01-04T15:02:50.845Z"
   },
   {
    "duration": 300,
    "start_time": "2022-01-04T15:02:55.925Z"
   },
   {
    "duration": 230,
    "start_time": "2022-01-04T15:02:58.535Z"
   },
   {
    "duration": 24,
    "start_time": "2022-01-04T15:03:03.056Z"
   },
   {
    "duration": 76,
    "start_time": "2022-01-04T15:04:36.487Z"
   },
   {
    "duration": 27,
    "start_time": "2022-01-04T15:04:42.310Z"
   },
   {
    "duration": 78,
    "start_time": "2022-01-04T15:11:30.889Z"
   },
   {
    "duration": 78,
    "start_time": "2022-01-04T15:11:51.295Z"
   },
   {
    "duration": 86,
    "start_time": "2022-01-04T15:14:40.165Z"
   },
   {
    "duration": 87,
    "start_time": "2022-01-04T15:14:47.855Z"
   },
   {
    "duration": 98,
    "start_time": "2022-01-04T15:15:47.048Z"
   },
   {
    "duration": 74,
    "start_time": "2022-01-04T15:16:13.585Z"
   },
   {
    "duration": 246,
    "start_time": "2022-01-04T15:16:28.115Z"
   },
   {
    "duration": 271,
    "start_time": "2022-01-04T15:16:48.936Z"
   },
   {
    "duration": 79,
    "start_time": "2022-01-04T15:16:58.385Z"
   },
   {
    "duration": 79,
    "start_time": "2022-01-04T15:17:20.637Z"
   },
   {
    "duration": 254,
    "start_time": "2022-01-04T15:17:25.066Z"
   },
   {
    "duration": 257,
    "start_time": "2022-01-04T15:17:44.416Z"
   },
   {
    "duration": 245,
    "start_time": "2022-01-04T15:22:53.734Z"
   },
   {
    "duration": 236,
    "start_time": "2022-01-04T15:23:15.656Z"
   },
   {
    "duration": 9,
    "start_time": "2022-01-04T15:23:24.167Z"
   },
   {
    "duration": 8,
    "start_time": "2022-01-04T15:23:37.835Z"
   },
   {
    "duration": 250,
    "start_time": "2022-01-04T15:25:44.950Z"
   },
   {
    "duration": 15,
    "start_time": "2022-01-04T15:25:56.206Z"
   },
   {
    "duration": 263,
    "start_time": "2022-01-04T15:32:14.215Z"
   },
   {
    "duration": 228,
    "start_time": "2022-01-04T15:32:47.935Z"
   },
   {
    "duration": 15,
    "start_time": "2022-01-04T15:33:06.440Z"
   },
   {
    "duration": 639,
    "start_time": "2022-01-04T15:34:25.614Z"
   },
   {
    "duration": 17,
    "start_time": "2022-01-04T15:34:26.255Z"
   },
   {
    "duration": 11,
    "start_time": "2022-01-04T15:34:26.273Z"
   },
   {
    "duration": 5,
    "start_time": "2022-01-04T15:34:26.286Z"
   },
   {
    "duration": 6,
    "start_time": "2022-01-04T15:34:26.293Z"
   },
   {
    "duration": 8,
    "start_time": "2022-01-04T15:34:26.300Z"
   },
   {
    "duration": 34,
    "start_time": "2022-01-04T15:34:26.309Z"
   },
   {
    "duration": 3,
    "start_time": "2022-01-04T15:34:26.345Z"
   },
   {
    "duration": 7,
    "start_time": "2022-01-04T15:34:26.350Z"
   },
   {
    "duration": 12,
    "start_time": "2022-01-04T15:34:26.358Z"
   },
   {
    "duration": 15,
    "start_time": "2022-01-04T15:34:26.372Z"
   },
   {
    "duration": 8,
    "start_time": "2022-01-04T15:34:26.388Z"
   },
   {
    "duration": 10,
    "start_time": "2022-01-04T15:34:26.397Z"
   },
   {
    "duration": 11,
    "start_time": "2022-01-04T15:34:26.408Z"
   },
   {
    "duration": 8,
    "start_time": "2022-01-04T15:34:26.420Z"
   },
   {
    "duration": 17,
    "start_time": "2022-01-04T15:34:26.429Z"
   },
   {
    "duration": 21,
    "start_time": "2022-01-04T15:34:26.447Z"
   },
   {
    "duration": 6,
    "start_time": "2022-01-04T15:34:26.469Z"
   },
   {
    "duration": 20,
    "start_time": "2022-01-04T15:34:26.477Z"
   },
   {
    "duration": 21,
    "start_time": "2022-01-04T15:34:26.498Z"
   },
   {
    "duration": 43,
    "start_time": "2022-01-04T15:34:26.520Z"
   },
   {
    "duration": 6,
    "start_time": "2022-01-04T15:34:26.565Z"
   },
   {
    "duration": 10,
    "start_time": "2022-01-04T15:34:26.572Z"
   },
   {
    "duration": 3397,
    "start_time": "2022-01-04T15:34:26.583Z"
   },
   {
    "duration": 11,
    "start_time": "2022-01-04T15:34:29.982Z"
   },
   {
    "duration": 51,
    "start_time": "2022-01-04T15:34:29.995Z"
   },
   {
    "duration": 11,
    "start_time": "2022-01-04T15:34:30.049Z"
   },
   {
    "duration": 24,
    "start_time": "2022-01-04T15:34:30.062Z"
   },
   {
    "duration": 15,
    "start_time": "2022-01-04T15:34:30.088Z"
   },
   {
    "duration": 15,
    "start_time": "2022-01-04T15:34:30.104Z"
   },
   {
    "duration": 337,
    "start_time": "2022-01-04T15:34:30.120Z"
   },
   {
    "duration": -69,
    "start_time": "2022-01-04T15:34:30.528Z"
   },
   {
    "duration": 25,
    "start_time": "2022-01-04T15:36:06.648Z"
   },
   {
    "duration": 9,
    "start_time": "2022-01-04T15:36:49.283Z"
   },
   {
    "duration": 21,
    "start_time": "2022-01-04T15:38:53.303Z"
   },
   {
    "duration": 3,
    "start_time": "2022-01-04T15:39:25.452Z"
   },
   {
    "duration": 3,
    "start_time": "2022-01-04T15:39:38.643Z"
   },
   {
    "duration": 3,
    "start_time": "2022-01-04T15:39:44.614Z"
   },
   {
    "duration": 4,
    "start_time": "2022-01-04T15:39:53.714Z"
   },
   {
    "duration": 38,
    "start_time": "2022-01-04T15:40:10.384Z"
   },
   {
    "duration": 53,
    "start_time": "2022-01-04T15:40:14.113Z"
   },
   {
    "duration": 24,
    "start_time": "2022-01-04T15:40:50.093Z"
   },
   {
    "duration": 45,
    "start_time": "2022-01-04T15:41:30.674Z"
   },
   {
    "duration": 42,
    "start_time": "2022-01-04T15:42:09.287Z"
   },
   {
    "duration": 252,
    "start_time": "2022-01-04T15:43:16.158Z"
   },
   {
    "duration": 29,
    "start_time": "2022-01-04T15:43:33.800Z"
   },
   {
    "duration": 19,
    "start_time": "2022-01-04T15:43:47.906Z"
   },
   {
    "duration": 18,
    "start_time": "2022-01-04T15:44:00.456Z"
   },
   {
    "duration": 20,
    "start_time": "2022-01-04T15:58:25.509Z"
   },
   {
    "duration": 17,
    "start_time": "2022-01-04T15:58:46.555Z"
   },
   {
    "duration": 16,
    "start_time": "2022-01-04T16:04:27.854Z"
   },
   {
    "duration": 97,
    "start_time": "2022-01-04T16:04:57.723Z"
   },
   {
    "duration": 44,
    "start_time": "2022-01-04T16:05:26.783Z"
   },
   {
    "duration": 89,
    "start_time": "2022-01-04T16:15:03.652Z"
   },
   {
    "duration": 242,
    "start_time": "2022-01-04T16:15:10.603Z"
   },
   {
    "duration": 19,
    "start_time": "2022-01-04T16:15:16.733Z"
   },
   {
    "duration": 20,
    "start_time": "2022-01-04T16:15:52.204Z"
   },
   {
    "duration": 19,
    "start_time": "2022-01-04T16:16:12.844Z"
   },
   {
    "duration": 87,
    "start_time": "2022-01-04T16:19:13.172Z"
   },
   {
    "duration": 795,
    "start_time": "2022-01-06T06:59:11.614Z"
   },
   {
    "duration": 29,
    "start_time": "2022-01-06T06:59:12.412Z"
   },
   {
    "duration": 20,
    "start_time": "2022-01-06T06:59:12.443Z"
   },
   {
    "duration": 7,
    "start_time": "2022-01-06T06:59:12.466Z"
   },
   {
    "duration": 9,
    "start_time": "2022-01-06T06:59:12.475Z"
   },
   {
    "duration": 10,
    "start_time": "2022-01-06T06:59:12.486Z"
   },
   {
    "duration": 18,
    "start_time": "2022-01-06T06:59:12.498Z"
   },
   {
    "duration": 4,
    "start_time": "2022-01-06T06:59:12.562Z"
   },
   {
    "duration": 7,
    "start_time": "2022-01-06T06:59:12.570Z"
   },
   {
    "duration": 13,
    "start_time": "2022-01-06T06:59:12.580Z"
   },
   {
    "duration": 21,
    "start_time": "2022-01-06T06:59:12.595Z"
   },
   {
    "duration": 10,
    "start_time": "2022-01-06T06:59:12.660Z"
   },
   {
    "duration": 10,
    "start_time": "2022-01-06T06:59:12.673Z"
   },
   {
    "duration": 7,
    "start_time": "2022-01-06T06:59:12.686Z"
   },
   {
    "duration": 5,
    "start_time": "2022-01-06T06:59:12.696Z"
   },
   {
    "duration": 57,
    "start_time": "2022-01-06T06:59:12.703Z"
   },
   {
    "duration": 25,
    "start_time": "2022-01-06T06:59:12.763Z"
   },
   {
    "duration": 9,
    "start_time": "2022-01-06T06:59:12.790Z"
   },
   {
    "duration": 60,
    "start_time": "2022-01-06T06:59:12.801Z"
   },
   {
    "duration": 23,
    "start_time": "2022-01-06T06:59:12.863Z"
   },
   {
    "duration": 39,
    "start_time": "2022-01-06T06:59:12.888Z"
   },
   {
    "duration": 34,
    "start_time": "2022-01-06T06:59:12.929Z"
   },
   {
    "duration": 11,
    "start_time": "2022-01-06T06:59:12.968Z"
   },
   {
    "duration": 4920,
    "start_time": "2022-01-06T06:59:12.982Z"
   },
   {
    "duration": 15,
    "start_time": "2022-01-06T06:59:17.904Z"
   },
   {
    "duration": 53,
    "start_time": "2022-01-06T06:59:17.922Z"
   },
   {
    "duration": 32,
    "start_time": "2022-01-06T06:59:17.978Z"
   },
   {
    "duration": 55,
    "start_time": "2022-01-06T06:59:18.012Z"
   },
   {
    "duration": 22,
    "start_time": "2022-01-06T06:59:18.069Z"
   },
   {
    "duration": 93,
    "start_time": "2022-01-06T06:59:18.093Z"
   },
   {
    "duration": 77,
    "start_time": "2022-01-06T06:59:18.188Z"
   },
   {
    "duration": 133,
    "start_time": "2022-01-06T06:59:18.268Z"
   },
   {
    "duration": -244,
    "start_time": "2022-01-06T06:59:18.647Z"
   },
   {
    "duration": -253,
    "start_time": "2022-01-06T06:59:18.657Z"
   },
   {
    "duration": 473,
    "start_time": "2022-01-06T06:59:43.654Z"
   },
   {
    "duration": 8,
    "start_time": "2022-01-06T07:03:41.731Z"
   },
   {
    "duration": 8,
    "start_time": "2022-01-06T07:04:20.625Z"
   },
   {
    "duration": 9,
    "start_time": "2022-01-06T07:04:32.444Z"
   },
   {
    "duration": 8,
    "start_time": "2022-01-06T07:04:43.825Z"
   },
   {
    "duration": 869,
    "start_time": "2022-01-06T07:05:13.345Z"
   },
   {
    "duration": 28,
    "start_time": "2022-01-06T07:05:14.217Z"
   },
   {
    "duration": 11,
    "start_time": "2022-01-06T07:05:14.260Z"
   },
   {
    "duration": 7,
    "start_time": "2022-01-06T07:05:14.274Z"
   },
   {
    "duration": 8,
    "start_time": "2022-01-06T07:05:14.284Z"
   },
   {
    "duration": 10,
    "start_time": "2022-01-06T07:05:14.294Z"
   },
   {
    "duration": 59,
    "start_time": "2022-01-06T07:05:14.306Z"
   },
   {
    "duration": 4,
    "start_time": "2022-01-06T07:05:14.368Z"
   },
   {
    "duration": 6,
    "start_time": "2022-01-06T07:05:14.377Z"
   },
   {
    "duration": 11,
    "start_time": "2022-01-06T07:05:14.386Z"
   },
   {
    "duration": 19,
    "start_time": "2022-01-06T07:05:14.399Z"
   },
   {
    "duration": 8,
    "start_time": "2022-01-06T07:05:14.460Z"
   },
   {
    "duration": 14,
    "start_time": "2022-01-06T07:05:14.471Z"
   },
   {
    "duration": 8,
    "start_time": "2022-01-06T07:05:14.487Z"
   },
   {
    "duration": 9,
    "start_time": "2022-01-06T07:05:14.497Z"
   },
   {
    "duration": 9,
    "start_time": "2022-01-06T07:05:14.508Z"
   },
   {
    "duration": 24,
    "start_time": "2022-01-06T07:05:14.559Z"
   },
   {
    "duration": 9,
    "start_time": "2022-01-06T07:05:14.586Z"
   },
   {
    "duration": 26,
    "start_time": "2022-01-06T07:05:14.597Z"
   },
   {
    "duration": 56,
    "start_time": "2022-01-06T07:05:14.625Z"
   },
   {
    "duration": 43,
    "start_time": "2022-01-06T07:05:14.683Z"
   },
   {
    "duration": 37,
    "start_time": "2022-01-06T07:05:14.728Z"
   },
   {
    "duration": 8,
    "start_time": "2022-01-06T07:05:14.767Z"
   },
   {
    "duration": 4854,
    "start_time": "2022-01-06T07:05:14.778Z"
   },
   {
    "duration": 32,
    "start_time": "2022-01-06T07:05:19.635Z"
   },
   {
    "duration": 30,
    "start_time": "2022-01-06T07:05:19.670Z"
   },
   {
    "duration": 61,
    "start_time": "2022-01-06T07:05:19.705Z"
   },
   {
    "duration": 32,
    "start_time": "2022-01-06T07:05:19.769Z"
   },
   {
    "duration": 22,
    "start_time": "2022-01-06T07:05:19.804Z"
   },
   {
    "duration": 108,
    "start_time": "2022-01-06T07:05:19.828Z"
   },
   {
    "duration": 83,
    "start_time": "2022-01-06T07:05:19.938Z"
   },
   {
    "duration": 703,
    "start_time": "2022-01-06T07:05:20.023Z"
   },
   {
    "duration": -256,
    "start_time": "2022-01-06T07:05:20.984Z"
   },
   {
    "duration": -263,
    "start_time": "2022-01-06T07:05:20.993Z"
   },
   {
    "duration": 984,
    "start_time": "2022-01-07T10:52:53.067Z"
   },
   {
    "duration": 29,
    "start_time": "2022-01-07T10:52:54.054Z"
   },
   {
    "duration": 36,
    "start_time": "2022-01-07T10:52:54.086Z"
   },
   {
    "duration": 7,
    "start_time": "2022-01-07T10:52:54.125Z"
   },
   {
    "duration": 15,
    "start_time": "2022-01-07T10:52:54.135Z"
   },
   {
    "duration": 13,
    "start_time": "2022-01-07T10:52:54.152Z"
   },
   {
    "duration": 58,
    "start_time": "2022-01-07T10:52:54.167Z"
   },
   {
    "duration": 5,
    "start_time": "2022-01-07T10:52:54.228Z"
   },
   {
    "duration": 8,
    "start_time": "2022-01-07T10:52:54.237Z"
   },
   {
    "duration": 13,
    "start_time": "2022-01-07T10:52:54.248Z"
   },
   {
    "duration": 44,
    "start_time": "2022-01-07T10:52:54.264Z"
   },
   {
    "duration": 12,
    "start_time": "2022-01-07T10:52:54.311Z"
   },
   {
    "duration": 12,
    "start_time": "2022-01-07T10:52:54.325Z"
   },
   {
    "duration": 9,
    "start_time": "2022-01-07T10:52:54.340Z"
   },
   {
    "duration": 10,
    "start_time": "2022-01-07T10:52:54.352Z"
   },
   {
    "duration": 58,
    "start_time": "2022-01-07T10:52:54.364Z"
   },
   {
    "duration": 26,
    "start_time": "2022-01-07T10:52:54.426Z"
   },
   {
    "duration": 12,
    "start_time": "2022-01-07T10:52:54.455Z"
   },
   {
    "duration": 62,
    "start_time": "2022-01-07T10:52:54.470Z"
   },
   {
    "duration": 27,
    "start_time": "2022-01-07T10:52:54.534Z"
   },
   {
    "duration": 77,
    "start_time": "2022-01-07T10:52:54.564Z"
   },
   {
    "duration": 10,
    "start_time": "2022-01-07T10:52:54.644Z"
   },
   {
    "duration": 13,
    "start_time": "2022-01-07T10:52:54.657Z"
   },
   {
    "duration": 5010,
    "start_time": "2022-01-07T10:52:54.673Z"
   },
   {
    "duration": 32,
    "start_time": "2022-01-07T10:52:59.685Z"
   },
   {
    "duration": 29,
    "start_time": "2022-01-07T10:52:59.719Z"
   },
   {
    "duration": 32,
    "start_time": "2022-01-07T10:52:59.753Z"
   },
   {
    "duration": 57,
    "start_time": "2022-01-07T10:52:59.787Z"
   },
   {
    "duration": 24,
    "start_time": "2022-01-07T10:52:59.847Z"
   },
   {
    "duration": 109,
    "start_time": "2022-01-07T10:52:59.873Z"
   },
   {
    "duration": 79,
    "start_time": "2022-01-07T10:52:59.984Z"
   },
   {
    "duration": 770,
    "start_time": "2022-01-07T10:53:00.066Z"
   },
   {
    "duration": -569,
    "start_time": "2022-01-07T10:53:01.408Z"
   },
   {
    "duration": -579,
    "start_time": "2022-01-07T10:53:01.419Z"
   },
   {
    "duration": 93,
    "start_time": "2022-01-07T10:58:08.736Z"
   },
   {
    "duration": 7431,
    "start_time": "2022-01-07T10:58:30.555Z"
   },
   {
    "duration": 25,
    "start_time": "2022-01-07T10:59:14.296Z"
   },
   {
    "duration": 8711,
    "start_time": "2022-01-07T10:59:50.686Z"
   },
   {
    "duration": 7531,
    "start_time": "2022-01-07T11:00:24.686Z"
   },
   {
    "duration": 292,
    "start_time": "2022-01-07T11:01:11.397Z"
   },
   {
    "duration": 7521,
    "start_time": "2022-01-07T11:01:16.736Z"
   },
   {
    "duration": 24,
    "start_time": "2022-01-07T11:04:00.246Z"
   },
   {
    "duration": 315,
    "start_time": "2022-01-07T11:08:40.084Z"
   },
   {
    "duration": 16,
    "start_time": "2022-01-07T11:09:01.778Z"
   },
   {
    "duration": 26,
    "start_time": "2022-01-07T11:13:09.908Z"
   },
   {
    "duration": 333,
    "start_time": "2022-01-07T11:13:41.571Z"
   },
   {
    "duration": 25,
    "start_time": "2022-01-07T11:13:51.275Z"
   },
   {
    "duration": 201,
    "start_time": "2022-01-07T11:13:58.086Z"
   },
   {
    "duration": 26,
    "start_time": "2022-01-07T11:14:04.058Z"
   },
   {
    "duration": 850,
    "start_time": "2022-01-07T11:20:54.434Z"
   },
   {
    "duration": 32,
    "start_time": "2022-01-07T11:20:55.287Z"
   },
   {
    "duration": 14,
    "start_time": "2022-01-07T11:20:55.322Z"
   },
   {
    "duration": 14,
    "start_time": "2022-01-07T11:20:55.338Z"
   },
   {
    "duration": 10,
    "start_time": "2022-01-07T11:20:55.354Z"
   },
   {
    "duration": 17,
    "start_time": "2022-01-07T11:20:55.366Z"
   },
   {
    "duration": 20,
    "start_time": "2022-01-07T11:20:55.417Z"
   },
   {
    "duration": 5,
    "start_time": "2022-01-07T11:20:55.441Z"
   },
   {
    "duration": 9,
    "start_time": "2022-01-07T11:20:55.450Z"
   },
   {
    "duration": 34,
    "start_time": "2022-01-07T11:20:55.462Z"
   },
   {
    "duration": 36,
    "start_time": "2022-01-07T11:20:55.499Z"
   },
   {
    "duration": 24,
    "start_time": "2022-01-07T11:20:55.538Z"
   },
   {
    "duration": 19,
    "start_time": "2022-01-07T11:20:55.565Z"
   },
   {
    "duration": 17,
    "start_time": "2022-01-07T11:20:55.586Z"
   },
   {
    "duration": 13,
    "start_time": "2022-01-07T11:20:55.605Z"
   },
   {
    "duration": 27,
    "start_time": "2022-01-07T11:20:55.621Z"
   },
   {
    "duration": 37,
    "start_time": "2022-01-07T11:20:55.650Z"
   },
   {
    "duration": 10,
    "start_time": "2022-01-07T11:20:55.689Z"
   },
   {
    "duration": 39,
    "start_time": "2022-01-07T11:20:55.701Z"
   },
   {
    "duration": 35,
    "start_time": "2022-01-07T11:20:55.742Z"
   },
   {
    "duration": 49,
    "start_time": "2022-01-07T11:20:55.780Z"
   },
   {
    "duration": 10,
    "start_time": "2022-01-07T11:20:55.832Z"
   },
   {
    "duration": 9,
    "start_time": "2022-01-07T11:20:55.847Z"
   },
   {
    "duration": 4892,
    "start_time": "2022-01-07T11:20:55.858Z"
   },
   {
    "duration": 16,
    "start_time": "2022-01-07T11:21:00.752Z"
   },
   {
    "duration": 53,
    "start_time": "2022-01-07T11:21:00.770Z"
   },
   {
    "duration": 32,
    "start_time": "2022-01-07T11:21:00.826Z"
   },
   {
    "duration": 60,
    "start_time": "2022-01-07T11:21:00.860Z"
   },
   {
    "duration": 25,
    "start_time": "2022-01-07T11:21:00.923Z"
   },
   {
    "duration": 28,
    "start_time": "2022-01-07T11:21:00.951Z"
   },
   {
    "duration": 54,
    "start_time": "2022-01-07T11:21:00.981Z"
   },
   {
    "duration": 877,
    "start_time": "2022-01-07T11:25:02.326Z"
   },
   {
    "duration": 29,
    "start_time": "2022-01-07T11:25:03.205Z"
   },
   {
    "duration": 11,
    "start_time": "2022-01-07T11:25:03.237Z"
   },
   {
    "duration": 8,
    "start_time": "2022-01-07T11:25:03.250Z"
   },
   {
    "duration": 9,
    "start_time": "2022-01-07T11:25:03.261Z"
   },
   {
    "duration": 47,
    "start_time": "2022-01-07T11:25:03.272Z"
   },
   {
    "duration": 18,
    "start_time": "2022-01-07T11:25:03.322Z"
   },
   {
    "duration": 4,
    "start_time": "2022-01-07T11:25:03.343Z"
   },
   {
    "duration": 8,
    "start_time": "2022-01-07T11:25:03.351Z"
   },
   {
    "duration": 14,
    "start_time": "2022-01-07T11:25:03.362Z"
   },
   {
    "duration": 56,
    "start_time": "2022-01-07T11:25:03.378Z"
   },
   {
    "duration": 9,
    "start_time": "2022-01-07T11:25:03.436Z"
   },
   {
    "duration": 10,
    "start_time": "2022-01-07T11:25:03.447Z"
   },
   {
    "duration": 8,
    "start_time": "2022-01-07T11:25:03.460Z"
   },
   {
    "duration": 47,
    "start_time": "2022-01-07T11:25:03.470Z"
   },
   {
    "duration": 13,
    "start_time": "2022-01-07T11:25:03.519Z"
   },
   {
    "duration": 23,
    "start_time": "2022-01-07T11:25:03.534Z"
   },
   {
    "duration": 10,
    "start_time": "2022-01-07T11:25:03.560Z"
   },
   {
    "duration": 63,
    "start_time": "2022-01-07T11:25:03.572Z"
   },
   {
    "duration": 26,
    "start_time": "2022-01-07T11:25:03.638Z"
   },
   {
    "duration": 68,
    "start_time": "2022-01-07T11:25:03.667Z"
   },
   {
    "duration": 12,
    "start_time": "2022-01-07T11:25:03.738Z"
   },
   {
    "duration": 9,
    "start_time": "2022-01-07T11:25:03.753Z"
   },
   {
    "duration": 4455,
    "start_time": "2022-01-07T11:25:03.764Z"
   },
   {
    "duration": 15,
    "start_time": "2022-01-07T11:25:08.221Z"
   },
   {
    "duration": 30,
    "start_time": "2022-01-07T11:25:08.238Z"
   },
   {
    "duration": 67,
    "start_time": "2022-01-07T11:25:08.272Z"
   },
   {
    "duration": 32,
    "start_time": "2022-01-07T11:25:08.341Z"
   },
   {
    "duration": 47,
    "start_time": "2022-01-07T11:25:08.376Z"
   },
   {
    "duration": 26,
    "start_time": "2022-01-07T11:25:08.426Z"
   },
   {
    "duration": 21,
    "start_time": "2022-01-07T11:25:08.454Z"
   },
   {
    "duration": 14,
    "start_time": "2022-01-07T11:26:46.396Z"
   },
   {
    "duration": 10,
    "start_time": "2022-01-07T11:28:48.925Z"
   },
   {
    "duration": 897,
    "start_time": "2022-01-07T11:29:13.585Z"
   },
   {
    "duration": 31,
    "start_time": "2022-01-07T11:29:14.485Z"
   },
   {
    "duration": 12,
    "start_time": "2022-01-07T11:29:14.519Z"
   },
   {
    "duration": 7,
    "start_time": "2022-01-07T11:29:14.533Z"
   },
   {
    "duration": 9,
    "start_time": "2022-01-07T11:29:14.543Z"
   },
   {
    "duration": 11,
    "start_time": "2022-01-07T11:29:14.554Z"
   },
   {
    "duration": 57,
    "start_time": "2022-01-07T11:29:14.567Z"
   },
   {
    "duration": 4,
    "start_time": "2022-01-07T11:29:14.626Z"
   },
   {
    "duration": 6,
    "start_time": "2022-01-07T11:29:14.633Z"
   },
   {
    "duration": 11,
    "start_time": "2022-01-07T11:29:14.643Z"
   },
   {
    "duration": 60,
    "start_time": "2022-01-07T11:29:14.657Z"
   },
   {
    "duration": 10,
    "start_time": "2022-01-07T11:29:14.719Z"
   },
   {
    "duration": 11,
    "start_time": "2022-01-07T11:29:14.731Z"
   },
   {
    "duration": 8,
    "start_time": "2022-01-07T11:29:14.744Z"
   },
   {
    "duration": 12,
    "start_time": "2022-01-07T11:29:14.754Z"
   },
   {
    "duration": 50,
    "start_time": "2022-01-07T11:29:14.768Z"
   },
   {
    "duration": 24,
    "start_time": "2022-01-07T11:29:14.821Z"
   },
   {
    "duration": 10,
    "start_time": "2022-01-07T11:29:14.848Z"
   },
   {
    "duration": 57,
    "start_time": "2022-01-07T11:29:14.861Z"
   },
   {
    "duration": 26,
    "start_time": "2022-01-07T11:29:14.921Z"
   },
   {
    "duration": 68,
    "start_time": "2022-01-07T11:29:14.950Z"
   },
   {
    "duration": 11,
    "start_time": "2022-01-07T11:29:15.021Z"
   },
   {
    "duration": 29,
    "start_time": "2022-01-07T11:29:15.035Z"
   },
   {
    "duration": 4415,
    "start_time": "2022-01-07T11:29:15.066Z"
   },
   {
    "duration": 33,
    "start_time": "2022-01-07T11:29:19.484Z"
   },
   {
    "duration": 29,
    "start_time": "2022-01-07T11:29:19.520Z"
   },
   {
    "duration": 31,
    "start_time": "2022-01-07T11:29:19.553Z"
   },
   {
    "duration": 56,
    "start_time": "2022-01-07T11:29:19.587Z"
   },
   {
    "duration": 22,
    "start_time": "2022-01-07T11:29:19.645Z"
   },
   {
    "duration": 49,
    "start_time": "2022-01-07T11:29:19.669Z"
   },
   {
    "duration": 22,
    "start_time": "2022-01-07T11:29:19.720Z"
   },
   {
    "duration": 622,
    "start_time": "2022-01-08T10:54:13.491Z"
   },
   {
    "duration": 22,
    "start_time": "2022-01-08T10:54:14.115Z"
   },
   {
    "duration": 13,
    "start_time": "2022-01-08T10:54:14.139Z"
   },
   {
    "duration": 7,
    "start_time": "2022-01-08T10:54:14.154Z"
   },
   {
    "duration": 7,
    "start_time": "2022-01-08T10:54:14.162Z"
   },
   {
    "duration": 10,
    "start_time": "2022-01-08T10:54:14.171Z"
   },
   {
    "duration": 45,
    "start_time": "2022-01-08T10:54:14.183Z"
   },
   {
    "duration": 4,
    "start_time": "2022-01-08T10:54:14.231Z"
   },
   {
    "duration": 10,
    "start_time": "2022-01-08T10:54:14.237Z"
   },
   {
    "duration": 10,
    "start_time": "2022-01-08T10:54:14.248Z"
   },
   {
    "duration": 15,
    "start_time": "2022-01-08T10:54:14.259Z"
   },
   {
    "duration": 14,
    "start_time": "2022-01-08T10:54:14.275Z"
   },
   {
    "duration": 10,
    "start_time": "2022-01-08T10:54:14.291Z"
   },
   {
    "duration": 20,
    "start_time": "2022-01-08T10:54:14.302Z"
   },
   {
    "duration": 13,
    "start_time": "2022-01-08T10:54:14.323Z"
   },
   {
    "duration": 9,
    "start_time": "2022-01-08T10:54:14.338Z"
   },
   {
    "duration": 26,
    "start_time": "2022-01-08T10:54:14.348Z"
   },
   {
    "duration": 6,
    "start_time": "2022-01-08T10:54:14.375Z"
   },
   {
    "duration": 17,
    "start_time": "2022-01-08T10:54:14.382Z"
   },
   {
    "duration": 26,
    "start_time": "2022-01-08T10:54:14.401Z"
   },
   {
    "duration": 35,
    "start_time": "2022-01-08T10:54:14.429Z"
   },
   {
    "duration": 9,
    "start_time": "2022-01-08T10:54:14.466Z"
   },
   {
    "duration": 7,
    "start_time": "2022-01-08T10:54:14.479Z"
   },
   {
    "duration": 3796,
    "start_time": "2022-01-08T10:54:14.488Z"
   },
   {
    "duration": 10,
    "start_time": "2022-01-08T10:54:18.286Z"
   },
   {
    "duration": 42,
    "start_time": "2022-01-08T10:54:18.297Z"
   },
   {
    "duration": 27,
    "start_time": "2022-01-08T10:54:18.341Z"
   },
   {
    "duration": 18,
    "start_time": "2022-01-08T10:54:18.370Z"
   },
   {
    "duration": 12,
    "start_time": "2022-01-08T10:54:18.390Z"
   },
   {
    "duration": 35,
    "start_time": "2022-01-08T10:54:18.404Z"
   },
   {
    "duration": 27,
    "start_time": "2022-01-08T10:54:18.441Z"
   },
   {
    "duration": 6,
    "start_time": "2022-01-08T10:58:52.781Z"
   },
   {
    "duration": 338,
    "start_time": "2022-01-08T11:04:37.418Z"
   },
   {
    "duration": 14,
    "start_time": "2022-01-08T11:05:04.197Z"
   },
   {
    "duration": 14,
    "start_time": "2022-01-08T11:05:15.456Z"
   },
   {
    "duration": 12,
    "start_time": "2022-01-08T11:05:38.108Z"
   },
   {
    "duration": 11,
    "start_time": "2022-01-08T11:05:55.009Z"
   },
   {
    "duration": 349,
    "start_time": "2022-01-08T13:32:27.549Z"
   },
   {
    "duration": 667,
    "start_time": "2022-01-08T13:32:41.208Z"
   },
   {
    "duration": 284,
    "start_time": "2022-01-08T13:33:26.219Z"
   },
   {
    "duration": 24,
    "start_time": "2022-01-08T13:33:40.904Z"
   },
   {
    "duration": 818,
    "start_time": "2022-01-08T13:47:19.192Z"
   },
   {
    "duration": 307,
    "start_time": "2022-01-08T13:47:28.983Z"
   },
   {
    "duration": 653,
    "start_time": "2022-01-08T13:47:39.288Z"
   },
   {
    "duration": 19,
    "start_time": "2022-01-08T13:47:39.943Z"
   },
   {
    "duration": 19,
    "start_time": "2022-01-08T13:47:39.964Z"
   },
   {
    "duration": 7,
    "start_time": "2022-01-08T13:47:39.985Z"
   },
   {
    "duration": 10,
    "start_time": "2022-01-08T13:47:39.994Z"
   },
   {
    "duration": 16,
    "start_time": "2022-01-08T13:47:40.006Z"
   },
   {
    "duration": 38,
    "start_time": "2022-01-08T13:47:40.025Z"
   },
   {
    "duration": 4,
    "start_time": "2022-01-08T13:47:40.067Z"
   },
   {
    "duration": 6,
    "start_time": "2022-01-08T13:47:40.073Z"
   },
   {
    "duration": 83,
    "start_time": "2022-01-08T13:47:40.081Z"
   },
   {
    "duration": -970,
    "start_time": "2022-01-08T13:47:41.136Z"
   },
   {
    "duration": -971,
    "start_time": "2022-01-08T13:47:41.138Z"
   },
   {
    "duration": -973,
    "start_time": "2022-01-08T13:47:41.141Z"
   },
   {
    "duration": -974,
    "start_time": "2022-01-08T13:47:41.143Z"
   },
   {
    "duration": -1013,
    "start_time": "2022-01-08T13:47:41.182Z"
   },
   {
    "duration": -1015,
    "start_time": "2022-01-08T13:47:41.185Z"
   },
   {
    "duration": -1017,
    "start_time": "2022-01-08T13:47:41.188Z"
   },
   {
    "duration": -1019,
    "start_time": "2022-01-08T13:47:41.191Z"
   },
   {
    "duration": -1021,
    "start_time": "2022-01-08T13:47:41.194Z"
   },
   {
    "duration": -1043,
    "start_time": "2022-01-08T13:47:41.217Z"
   },
   {
    "duration": -1046,
    "start_time": "2022-01-08T13:47:41.220Z"
   },
   {
    "duration": -1048,
    "start_time": "2022-01-08T13:47:41.223Z"
   },
   {
    "duration": -1050,
    "start_time": "2022-01-08T13:47:41.226Z"
   },
   {
    "duration": -1052,
    "start_time": "2022-01-08T13:47:41.229Z"
   },
   {
    "duration": -1054,
    "start_time": "2022-01-08T13:47:41.232Z"
   },
   {
    "duration": -1063,
    "start_time": "2022-01-08T13:47:41.242Z"
   },
   {
    "duration": -1067,
    "start_time": "2022-01-08T13:47:41.247Z"
   },
   {
    "duration": -1071,
    "start_time": "2022-01-08T13:47:41.252Z"
   },
   {
    "duration": -1073,
    "start_time": "2022-01-08T13:47:41.255Z"
   },
   {
    "duration": -1075,
    "start_time": "2022-01-08T13:47:41.258Z"
   },
   {
    "duration": -1078,
    "start_time": "2022-01-08T13:47:41.262Z"
   },
   {
    "duration": -1079,
    "start_time": "2022-01-08T13:47:41.264Z"
   },
   {
    "duration": -1082,
    "start_time": "2022-01-08T13:47:41.268Z"
   },
   {
    "duration": -1084,
    "start_time": "2022-01-08T13:47:41.271Z"
   },
   {
    "duration": -1098,
    "start_time": "2022-01-08T13:47:41.285Z"
   },
   {
    "duration": -1100,
    "start_time": "2022-01-08T13:47:41.288Z"
   },
   {
    "duration": -1103,
    "start_time": "2022-01-08T13:47:41.292Z"
   },
   {
    "duration": -1105,
    "start_time": "2022-01-08T13:47:41.295Z"
   },
   {
    "duration": 863,
    "start_time": "2022-01-08T13:47:48.568Z"
   },
   {
    "duration": 23,
    "start_time": "2022-01-08T13:47:54.522Z"
   },
   {
    "duration": 250,
    "start_time": "2022-01-08T13:47:59.276Z"
   },
   {
    "duration": 719,
    "start_time": "2022-01-08T13:48:17.742Z"
   },
   {
    "duration": 22,
    "start_time": "2022-01-08T13:48:18.463Z"
   },
   {
    "duration": 15,
    "start_time": "2022-01-08T13:48:18.488Z"
   },
   {
    "duration": 7,
    "start_time": "2022-01-08T13:48:18.506Z"
   },
   {
    "duration": 16,
    "start_time": "2022-01-08T13:48:18.514Z"
   },
   {
    "duration": 29,
    "start_time": "2022-01-08T13:48:18.532Z"
   },
   {
    "duration": 25,
    "start_time": "2022-01-08T13:48:18.563Z"
   },
   {
    "duration": 4,
    "start_time": "2022-01-08T13:48:18.590Z"
   },
   {
    "duration": 18,
    "start_time": "2022-01-08T13:48:18.597Z"
   },
   {
    "duration": 136,
    "start_time": "2022-01-08T13:48:18.618Z"
   },
   {
    "duration": -987,
    "start_time": "2022-01-08T13:48:19.744Z"
   },
   {
    "duration": -988,
    "start_time": "2022-01-08T13:48:19.746Z"
   },
   {
    "duration": -990,
    "start_time": "2022-01-08T13:48:19.750Z"
   },
   {
    "duration": -991,
    "start_time": "2022-01-08T13:48:19.752Z"
   },
   {
    "duration": -995,
    "start_time": "2022-01-08T13:48:19.757Z"
   },
   {
    "duration": -996,
    "start_time": "2022-01-08T13:48:19.760Z"
   },
   {
    "duration": -998,
    "start_time": "2022-01-08T13:48:19.763Z"
   },
   {
    "duration": -999,
    "start_time": "2022-01-08T13:48:19.766Z"
   },
   {
    "duration": -1000,
    "start_time": "2022-01-08T13:48:19.768Z"
   },
   {
    "duration": -1002,
    "start_time": "2022-01-08T13:48:19.771Z"
   },
   {
    "duration": -1003,
    "start_time": "2022-01-08T13:48:19.774Z"
   },
   {
    "duration": -1006,
    "start_time": "2022-01-08T13:48:19.778Z"
   },
   {
    "duration": -1010,
    "start_time": "2022-01-08T13:48:19.784Z"
   },
   {
    "duration": -1012,
    "start_time": "2022-01-08T13:48:19.787Z"
   },
   {
    "duration": -1013,
    "start_time": "2022-01-08T13:48:19.789Z"
   },
   {
    "duration": -1016,
    "start_time": "2022-01-08T13:48:19.793Z"
   },
   {
    "duration": -1017,
    "start_time": "2022-01-08T13:48:19.795Z"
   },
   {
    "duration": -1019,
    "start_time": "2022-01-08T13:48:19.798Z"
   },
   {
    "duration": -1020,
    "start_time": "2022-01-08T13:48:19.800Z"
   },
   {
    "duration": -1022,
    "start_time": "2022-01-08T13:48:19.803Z"
   },
   {
    "duration": -1028,
    "start_time": "2022-01-08T13:48:19.810Z"
   },
   {
    "duration": -1031,
    "start_time": "2022-01-08T13:48:19.814Z"
   },
   {
    "duration": -1032,
    "start_time": "2022-01-08T13:48:19.817Z"
   },
   {
    "duration": -1035,
    "start_time": "2022-01-08T13:48:19.821Z"
   },
   {
    "duration": -1037,
    "start_time": "2022-01-08T13:48:19.824Z"
   },
   {
    "duration": -1040,
    "start_time": "2022-01-08T13:48:19.828Z"
   },
   {
    "duration": -1041,
    "start_time": "2022-01-08T13:48:19.830Z"
   },
   {
    "duration": -1043,
    "start_time": "2022-01-08T13:48:19.833Z"
   },
   {
    "duration": 1897,
    "start_time": "2022-01-08T13:48:46.693Z"
   },
   {
    "duration": 18,
    "start_time": "2022-01-08T13:48:48.592Z"
   },
   {
    "duration": 13,
    "start_time": "2022-01-08T13:48:48.612Z"
   },
   {
    "duration": 7,
    "start_time": "2022-01-08T13:48:48.627Z"
   },
   {
    "duration": 27,
    "start_time": "2022-01-08T13:48:48.636Z"
   },
   {
    "duration": 9,
    "start_time": "2022-01-08T13:48:48.664Z"
   },
   {
    "duration": 17,
    "start_time": "2022-01-08T13:48:48.674Z"
   },
   {
    "duration": 3,
    "start_time": "2022-01-08T13:48:48.694Z"
   },
   {
    "duration": 8,
    "start_time": "2022-01-08T13:48:48.699Z"
   },
   {
    "duration": 4,
    "start_time": "2022-01-08T13:48:48.709Z"
   },
   {
    "duration": 12,
    "start_time": "2022-01-08T13:48:48.714Z"
   },
   {
    "duration": 39,
    "start_time": "2022-01-08T13:48:48.728Z"
   },
   {
    "duration": 8,
    "start_time": "2022-01-08T13:48:48.770Z"
   },
   {
    "duration": 9,
    "start_time": "2022-01-08T13:48:48.780Z"
   },
   {
    "duration": 13,
    "start_time": "2022-01-08T13:48:48.790Z"
   },
   {
    "duration": 5,
    "start_time": "2022-01-08T13:48:48.804Z"
   },
   {
    "duration": 10,
    "start_time": "2022-01-08T13:48:48.810Z"
   },
   {
    "duration": 45,
    "start_time": "2022-01-08T13:48:48.821Z"
   },
   {
    "duration": 6,
    "start_time": "2022-01-08T13:48:48.868Z"
   },
   {
    "duration": 18,
    "start_time": "2022-01-08T13:48:48.876Z"
   },
   {
    "duration": 15,
    "start_time": "2022-01-08T13:48:48.895Z"
   },
   {
    "duration": 50,
    "start_time": "2022-01-08T13:48:48.911Z"
   },
   {
    "duration": 7,
    "start_time": "2022-01-08T13:48:48.964Z"
   },
   {
    "duration": 9,
    "start_time": "2022-01-08T13:48:48.973Z"
   },
   {
    "duration": 3733,
    "start_time": "2022-01-08T13:48:48.983Z"
   },
   {
    "duration": 12,
    "start_time": "2022-01-08T13:48:52.718Z"
   },
   {
    "duration": 38,
    "start_time": "2022-01-08T13:48:52.731Z"
   },
   {
    "duration": 20,
    "start_time": "2022-01-08T13:48:52.771Z"
   },
   {
    "duration": 9,
    "start_time": "2022-01-08T13:48:52.793Z"
   },
   {
    "duration": 21,
    "start_time": "2022-01-08T13:48:52.804Z"
   },
   {
    "duration": 39,
    "start_time": "2022-01-08T13:48:52.827Z"
   },
   {
    "duration": 12,
    "start_time": "2022-01-08T13:48:52.867Z"
   },
   {
    "duration": 10,
    "start_time": "2022-01-08T13:48:52.881Z"
   },
   {
    "duration": 11,
    "start_time": "2022-01-08T13:48:52.893Z"
   },
   {
    "duration": 15,
    "start_time": "2022-01-08T13:48:52.905Z"
   },
   {
    "duration": 54,
    "start_time": "2022-01-08T13:48:52.921Z"
   },
   {
    "duration": 15,
    "start_time": "2022-01-08T13:48:52.976Z"
   },
   {
    "duration": 894,
    "start_time": "2022-01-08T13:48:52.993Z"
   },
   {
    "duration": 240,
    "start_time": "2022-01-08T13:50:47.143Z"
   },
   {
    "duration": 324,
    "start_time": "2022-01-08T13:51:06.719Z"
   },
   {
    "duration": 7,
    "start_time": "2022-01-08T13:54:54.750Z"
   },
   {
    "duration": 284,
    "start_time": "2022-01-08T13:55:38.146Z"
   },
   {
    "duration": 232,
    "start_time": "2022-01-08T13:55:50.392Z"
   },
   {
    "duration": 8,
    "start_time": "2022-01-08T13:57:10.018Z"
   },
   {
    "duration": 255,
    "start_time": "2022-01-08T13:57:21.807Z"
   },
   {
    "duration": 361,
    "start_time": "2022-01-08T13:58:11.532Z"
   },
   {
    "duration": 164,
    "start_time": "2022-01-08T14:00:10.570Z"
   },
   {
    "duration": 310,
    "start_time": "2022-01-08T14:00:29.852Z"
   },
   {
    "duration": 170,
    "start_time": "2022-01-08T14:00:45.549Z"
   },
   {
    "duration": 8,
    "start_time": "2022-01-08T14:01:10.749Z"
   },
   {
    "duration": 149,
    "start_time": "2022-01-08T14:01:16.273Z"
   },
   {
    "duration": 248,
    "start_time": "2022-01-08T14:06:48.376Z"
   },
   {
    "duration": 121,
    "start_time": "2022-01-08T14:07:02.917Z"
   },
   {
    "duration": 10,
    "start_time": "2022-01-08T14:07:26.796Z"
   },
   {
    "duration": 8,
    "start_time": "2022-01-08T14:07:37.035Z"
   },
   {
    "duration": 15,
    "start_time": "2022-01-08T14:08:08.939Z"
   },
   {
    "duration": 85,
    "start_time": "2022-01-08T14:08:30.886Z"
   },
   {
    "duration": 251,
    "start_time": "2022-01-08T14:08:45.117Z"
   },
   {
    "duration": 295,
    "start_time": "2022-01-08T14:09:42.997Z"
   },
   {
    "duration": 146,
    "start_time": "2022-01-08T14:09:59.215Z"
   },
   {
    "duration": 141,
    "start_time": "2022-01-08T14:10:38.080Z"
   },
   {
    "duration": 118,
    "start_time": "2022-01-08T14:10:58.656Z"
   },
   {
    "duration": 97,
    "start_time": "2022-01-08T14:11:16.037Z"
   },
   {
    "duration": 82,
    "start_time": "2022-01-08T14:11:39.945Z"
   },
   {
    "duration": 81,
    "start_time": "2022-01-08T14:11:59.307Z"
   },
   {
    "duration": 10,
    "start_time": "2022-01-08T14:12:03.567Z"
   },
   {
    "duration": 280,
    "start_time": "2022-01-08T14:12:46.766Z"
   },
   {
    "duration": 257,
    "start_time": "2022-01-08T14:13:00.072Z"
   },
   {
    "duration": 255,
    "start_time": "2022-01-08T14:13:49.648Z"
   },
   {
    "duration": 7195,
    "start_time": "2022-01-08T14:14:57.063Z"
   },
   {
    "duration": 257,
    "start_time": "2022-01-08T14:15:15.547Z"
   },
   {
    "duration": 12,
    "start_time": "2022-01-08T14:15:24.931Z"
   },
   {
    "duration": 84,
    "start_time": "2022-01-08T14:15:31.062Z"
   },
   {
    "duration": 19,
    "start_time": "2022-01-08T14:15:36.900Z"
   },
   {
    "duration": 257,
    "start_time": "2022-01-08T14:17:34.870Z"
   },
   {
    "duration": 256,
    "start_time": "2022-01-08T14:17:56.472Z"
   },
   {
    "duration": 756,
    "start_time": "2022-01-08T14:20:15.235Z"
   },
   {
    "duration": 237,
    "start_time": "2022-01-08T14:20:57.786Z"
   },
   {
    "duration": 257,
    "start_time": "2022-01-08T14:21:04.974Z"
   },
   {
    "duration": 280,
    "start_time": "2022-01-08T14:21:40.654Z"
   },
   {
    "duration": 155,
    "start_time": "2022-01-08T14:22:18.117Z"
   },
   {
    "duration": 150,
    "start_time": "2022-01-08T14:22:28.608Z"
   },
   {
    "duration": 156,
    "start_time": "2022-01-08T14:22:35.937Z"
   },
   {
    "duration": 153,
    "start_time": "2022-01-08T14:22:46.414Z"
   },
   {
    "duration": 148,
    "start_time": "2022-01-08T14:23:05.575Z"
   },
   {
    "duration": 503,
    "start_time": "2022-01-08T14:26:08.104Z"
   },
   {
    "duration": 178,
    "start_time": "2022-01-08T14:27:19.894Z"
   },
   {
    "duration": 148,
    "start_time": "2022-01-08T14:27:31.907Z"
   },
   {
    "duration": 716,
    "start_time": "2022-01-08T14:30:15.152Z"
   },
   {
    "duration": 384,
    "start_time": "2022-01-08T14:34:20.904Z"
   },
   {
    "duration": 298,
    "start_time": "2022-01-08T14:35:14.936Z"
   },
   {
    "duration": 283,
    "start_time": "2022-01-08T14:41:00.753Z"
   },
   {
    "duration": 248,
    "start_time": "2022-01-08T14:41:11.322Z"
   },
   {
    "duration": 40,
    "start_time": "2022-01-08T14:41:17.634Z"
   },
   {
    "duration": 306,
    "start_time": "2022-01-08T14:41:48.515Z"
   },
   {
    "duration": 242,
    "start_time": "2022-01-08T14:41:57.648Z"
   },
   {
    "duration": 45,
    "start_time": "2022-01-08T14:42:16.629Z"
   },
   {
    "duration": 137,
    "start_time": "2022-01-08T14:42:26.702Z"
   },
   {
    "duration": 6000,
    "start_time": "2022-01-08T14:44:51.927Z"
   },
   {
    "duration": 241,
    "start_time": "2022-01-08T14:48:40.207Z"
   },
   {
    "duration": 249,
    "start_time": "2022-01-08T14:49:44.097Z"
   },
   {
    "duration": 242,
    "start_time": "2022-01-08T14:49:55.539Z"
   },
   {
    "duration": 31,
    "start_time": "2022-01-08T14:50:22.168Z"
   },
   {
    "duration": 287,
    "start_time": "2022-01-08T14:51:08.600Z"
   },
   {
    "duration": 337,
    "start_time": "2022-01-09T09:04:34.681Z"
   },
   {
    "duration": 267,
    "start_time": "2022-01-09T09:05:14.380Z"
   },
   {
    "duration": 336,
    "start_time": "2022-01-09T09:05:39.610Z"
   },
   {
    "duration": 871,
    "start_time": "2022-01-09T09:05:53.927Z"
   },
   {
    "duration": 30,
    "start_time": "2022-01-09T09:05:54.800Z"
   },
   {
    "duration": 27,
    "start_time": "2022-01-09T09:05:54.833Z"
   },
   {
    "duration": 9,
    "start_time": "2022-01-09T09:05:54.863Z"
   },
   {
    "duration": 11,
    "start_time": "2022-01-09T09:05:54.875Z"
   },
   {
    "duration": 44,
    "start_time": "2022-01-09T09:05:54.889Z"
   },
   {
    "duration": 17,
    "start_time": "2022-01-09T09:05:54.935Z"
   },
   {
    "duration": 4,
    "start_time": "2022-01-09T09:05:54.956Z"
   },
   {
    "duration": 8,
    "start_time": "2022-01-09T09:05:54.963Z"
   },
   {
    "duration": 417,
    "start_time": "2022-01-09T09:05:54.974Z"
   },
   {
    "duration": -70,
    "start_time": "2022-01-09T09:05:55.464Z"
   },
   {
    "duration": -77,
    "start_time": "2022-01-09T09:05:55.473Z"
   },
   {
    "duration": -80,
    "start_time": "2022-01-09T09:05:55.477Z"
   },
   {
    "duration": -81,
    "start_time": "2022-01-09T09:05:55.480Z"
   },
   {
    "duration": -84,
    "start_time": "2022-01-09T09:05:55.485Z"
   },
   {
    "duration": -88,
    "start_time": "2022-01-09T09:05:55.491Z"
   },
   {
    "duration": -90,
    "start_time": "2022-01-09T09:05:55.494Z"
   },
   {
    "duration": -409,
    "start_time": "2022-01-09T09:05:55.814Z"
   },
   {
    "duration": -419,
    "start_time": "2022-01-09T09:05:55.826Z"
   },
   {
    "duration": -423,
    "start_time": "2022-01-09T09:05:55.831Z"
   },
   {
    "duration": -429,
    "start_time": "2022-01-09T09:05:55.838Z"
   },
   {
    "duration": -432,
    "start_time": "2022-01-09T09:05:55.843Z"
   },
   {
    "duration": -436,
    "start_time": "2022-01-09T09:05:55.848Z"
   },
   {
    "duration": -441,
    "start_time": "2022-01-09T09:05:55.854Z"
   },
   {
    "duration": -444,
    "start_time": "2022-01-09T09:05:55.859Z"
   },
   {
    "duration": -448,
    "start_time": "2022-01-09T09:05:55.864Z"
   },
   {
    "duration": -453,
    "start_time": "2022-01-09T09:05:55.870Z"
   },
   {
    "duration": -456,
    "start_time": "2022-01-09T09:05:55.875Z"
   },
   {
    "duration": -461,
    "start_time": "2022-01-09T09:05:55.881Z"
   },
   {
    "duration": -463,
    "start_time": "2022-01-09T09:05:55.885Z"
   },
   {
    "duration": -468,
    "start_time": "2022-01-09T09:05:55.891Z"
   },
   {
    "duration": -471,
    "start_time": "2022-01-09T09:05:55.895Z"
   },
   {
    "duration": -478,
    "start_time": "2022-01-09T09:05:55.904Z"
   },
   {
    "duration": -483,
    "start_time": "2022-01-09T09:05:55.910Z"
   },
   {
    "duration": -487,
    "start_time": "2022-01-09T09:05:55.916Z"
   },
   {
    "duration": -497,
    "start_time": "2022-01-09T09:05:55.927Z"
   },
   {
    "duration": -508,
    "start_time": "2022-01-09T09:05:55.939Z"
   },
   {
    "duration": -510,
    "start_time": "2022-01-09T09:05:55.943Z"
   },
   {
    "duration": 90,
    "start_time": "2022-01-09T09:06:18.576Z"
   },
   {
    "duration": 332,
    "start_time": "2022-01-09T09:06:24.246Z"
   },
   {
    "duration": 11174,
    "start_time": "2022-01-09T09:06:43.956Z"
   },
   {
    "duration": 8535,
    "start_time": "2022-01-09T09:11:02.145Z"
   },
   {
    "duration": 93,
    "start_time": "2022-01-09T09:12:59.037Z"
   },
   {
    "duration": 9886,
    "start_time": "2022-01-09T09:13:22.614Z"
   },
   {
    "duration": 8789,
    "start_time": "2022-01-09T09:14:24.605Z"
   },
   {
    "duration": 19,
    "start_time": "2022-01-09T09:17:51.976Z"
   },
   {
    "duration": 21,
    "start_time": "2022-01-09T09:18:25.192Z"
   },
   {
    "duration": 24,
    "start_time": "2022-01-09T09:18:40.806Z"
   },
   {
    "duration": 19,
    "start_time": "2022-01-09T09:18:51.585Z"
   },
   {
    "duration": 8967,
    "start_time": "2022-01-09T09:25:42.276Z"
   },
   {
    "duration": 98,
    "start_time": "2022-01-09T09:26:53.003Z"
   },
   {
    "duration": 9459,
    "start_time": "2022-01-09T09:27:02.295Z"
   },
   {
    "duration": 8622,
    "start_time": "2022-01-09T09:28:55.068Z"
   },
   {
    "duration": 284,
    "start_time": "2022-01-09T09:29:34.175Z"
   },
   {
    "duration": 6937,
    "start_time": "2022-01-09T09:29:50.021Z"
   },
   {
    "duration": 344,
    "start_time": "2022-01-09T09:30:48.404Z"
   },
   {
    "duration": 295,
    "start_time": "2022-01-09T09:31:45.215Z"
   },
   {
    "duration": 10,
    "start_time": "2022-01-09T09:32:08.576Z"
   },
   {
    "duration": 18,
    "start_time": "2022-01-09T09:32:12.827Z"
   },
   {
    "duration": 33,
    "start_time": "2022-01-09T09:32:43.131Z"
   },
   {
    "duration": 26,
    "start_time": "2022-01-09T09:32:50.131Z"
   },
   {
    "duration": 47,
    "start_time": "2022-01-09T09:33:18.657Z"
   },
   {
    "duration": 103,
    "start_time": "2022-01-09T09:35:28.796Z"
   },
   {
    "duration": 19,
    "start_time": "2022-01-09T09:35:33.787Z"
   },
   {
    "duration": 24,
    "start_time": "2022-01-09T09:35:44.346Z"
   },
   {
    "duration": 34,
    "start_time": "2022-01-09T09:35:55.836Z"
   },
   {
    "duration": 22,
    "start_time": "2022-01-09T09:36:08.092Z"
   },
   {
    "duration": 23,
    "start_time": "2022-01-09T09:36:22.696Z"
   },
   {
    "duration": 10,
    "start_time": "2022-01-09T09:36:37.016Z"
   },
   {
    "duration": 22,
    "start_time": "2022-01-09T09:36:44.978Z"
   },
   {
    "duration": 23,
    "start_time": "2022-01-09T09:37:27.146Z"
   },
   {
    "duration": 23,
    "start_time": "2022-01-09T09:37:36.226Z"
   },
   {
    "duration": 29,
    "start_time": "2022-01-09T09:37:57.636Z"
   },
   {
    "duration": 31,
    "start_time": "2022-01-09T09:38:35.282Z"
   },
   {
    "duration": 41,
    "start_time": "2022-01-09T09:39:08.796Z"
   },
   {
    "duration": 747,
    "start_time": "2022-01-09T09:39:40.270Z"
   },
   {
    "duration": 28,
    "start_time": "2022-01-09T09:39:41.020Z"
   },
   {
    "duration": 16,
    "start_time": "2022-01-09T09:39:41.051Z"
   },
   {
    "duration": 9,
    "start_time": "2022-01-09T09:39:41.071Z"
   },
   {
    "duration": 42,
    "start_time": "2022-01-09T09:39:41.083Z"
   },
   {
    "duration": 11,
    "start_time": "2022-01-09T09:39:41.128Z"
   },
   {
    "duration": 17,
    "start_time": "2022-01-09T09:39:41.142Z"
   },
   {
    "duration": 20,
    "start_time": "2022-01-09T09:39:41.161Z"
   },
   {
    "duration": 40,
    "start_time": "2022-01-09T09:39:41.185Z"
   },
   {
    "duration": 26,
    "start_time": "2022-01-09T09:39:41.228Z"
   },
   {
    "duration": 67,
    "start_time": "2022-01-09T09:39:41.257Z"
   },
   {
    "duration": 10,
    "start_time": "2022-01-09T09:39:41.327Z"
   },
   {
    "duration": 18,
    "start_time": "2022-01-09T09:39:41.340Z"
   },
   {
    "duration": 10,
    "start_time": "2022-01-09T09:39:41.361Z"
   },
   {
    "duration": 16,
    "start_time": "2022-01-09T09:39:41.373Z"
   },
   {
    "duration": 38,
    "start_time": "2022-01-09T09:39:41.391Z"
   },
   {
    "duration": 9,
    "start_time": "2022-01-09T09:39:41.432Z"
   },
   {
    "duration": 8,
    "start_time": "2022-01-09T09:39:41.444Z"
   },
   {
    "duration": 387,
    "start_time": "2022-01-09T09:39:41.454Z"
   },
   {
    "duration": -590,
    "start_time": "2022-01-09T09:39:42.436Z"
   },
   {
    "duration": -591,
    "start_time": "2022-01-09T09:39:42.438Z"
   },
   {
    "duration": -591,
    "start_time": "2022-01-09T09:39:42.440Z"
   },
   {
    "duration": -591,
    "start_time": "2022-01-09T09:39:42.443Z"
   },
   {
    "duration": -593,
    "start_time": "2022-01-09T09:39:42.447Z"
   },
   {
    "duration": -595,
    "start_time": "2022-01-09T09:39:42.451Z"
   },
   {
    "duration": -597,
    "start_time": "2022-01-09T09:39:42.455Z"
   },
   {
    "duration": -604,
    "start_time": "2022-01-09T09:39:42.464Z"
   },
   {
    "duration": -606,
    "start_time": "2022-01-09T09:39:42.468Z"
   },
   {
    "duration": -612,
    "start_time": "2022-01-09T09:39:42.476Z"
   },
   {
    "duration": -627,
    "start_time": "2022-01-09T09:39:42.493Z"
   },
   {
    "duration": -630,
    "start_time": "2022-01-09T09:39:42.498Z"
   },
   {
    "duration": -648,
    "start_time": "2022-01-09T09:39:42.517Z"
   },
   {
    "duration": -650,
    "start_time": "2022-01-09T09:39:42.521Z"
   },
   {
    "duration": -651,
    "start_time": "2022-01-09T09:39:42.524Z"
   },
   {
    "duration": -652,
    "start_time": "2022-01-09T09:39:42.527Z"
   },
   {
    "duration": -667,
    "start_time": "2022-01-09T09:39:42.544Z"
   },
   {
    "duration": -670,
    "start_time": "2022-01-09T09:39:42.549Z"
   },
   {
    "duration": -672,
    "start_time": "2022-01-09T09:39:42.554Z"
   },
   {
    "duration": -635,
    "start_time": "2022-01-09T09:39:42.558Z"
   },
   {
    "duration": 40,
    "start_time": "2022-01-09T09:40:17.411Z"
   },
   {
    "duration": 39,
    "start_time": "2022-01-09T09:40:47.989Z"
   },
   {
    "duration": 63,
    "start_time": "2022-01-09T09:42:58.298Z"
   },
   {
    "duration": 33,
    "start_time": "2022-01-09T09:45:09.293Z"
   },
   {
    "duration": 5,
    "start_time": "2022-01-09T10:02:20.438Z"
   },
   {
    "duration": 92,
    "start_time": "2022-01-09T10:09:29.333Z"
   },
   {
    "duration": 27,
    "start_time": "2022-01-09T10:34:06.264Z"
   },
   {
    "duration": 10,
    "start_time": "2022-01-09T10:34:15.272Z"
   },
   {
    "duration": 10,
    "start_time": "2022-01-09T10:37:42.492Z"
   },
   {
    "duration": 8,
    "start_time": "2022-01-09T10:37:52.787Z"
   },
   {
    "duration": 8,
    "start_time": "2022-01-09T10:38:08.203Z"
   },
   {
    "duration": 8,
    "start_time": "2022-01-09T10:46:59.613Z"
   },
   {
    "duration": 8,
    "start_time": "2022-01-09T10:49:14.024Z"
   },
   {
    "duration": 106,
    "start_time": "2022-01-09T10:50:20.407Z"
   },
   {
    "duration": 104,
    "start_time": "2022-01-09T10:51:01.796Z"
   },
   {
    "duration": 96,
    "start_time": "2022-01-09T10:51:14.466Z"
   },
   {
    "duration": 121,
    "start_time": "2022-01-09T10:51:26.189Z"
   },
   {
    "duration": 298,
    "start_time": "2022-01-09T10:51:43.936Z"
   },
   {
    "duration": 303,
    "start_time": "2022-01-09T10:52:18.366Z"
   },
   {
    "duration": 275,
    "start_time": "2022-01-09T10:52:26.465Z"
   },
   {
    "duration": 315,
    "start_time": "2022-01-09T10:53:12.735Z"
   },
   {
    "duration": 294,
    "start_time": "2022-01-09T10:53:53.386Z"
   },
   {
    "duration": 323,
    "start_time": "2022-01-09T10:54:31.458Z"
   },
   {
    "duration": 612,
    "start_time": "2022-01-09T10:54:44.843Z"
   },
   {
    "duration": 140,
    "start_time": "2022-01-09T11:06:50.511Z"
   },
   {
    "duration": 37,
    "start_time": "2022-01-09T11:06:58.411Z"
   },
   {
    "duration": 100,
    "start_time": "2022-01-09T11:07:33.450Z"
   },
   {
    "duration": 275,
    "start_time": "2022-01-09T11:07:38.371Z"
   },
   {
    "duration": 165,
    "start_time": "2022-01-09T11:07:53.672Z"
   },
   {
    "duration": 329,
    "start_time": "2022-01-09T11:08:07.961Z"
   },
   {
    "duration": 291,
    "start_time": "2022-01-09T11:08:21.882Z"
   },
   {
    "duration": 94,
    "start_time": "2022-01-09T11:08:32.571Z"
   },
   {
    "duration": 110,
    "start_time": "2022-01-09T11:08:55.673Z"
   },
   {
    "duration": 349,
    "start_time": "2022-01-09T11:09:00.345Z"
   },
   {
    "duration": 89,
    "start_time": "2022-01-09T11:09:26.490Z"
   },
   {
    "duration": 1340,
    "start_time": "2022-01-09T11:09:37.724Z"
   },
   {
    "duration": 10748,
    "start_time": "2022-01-09T11:17:48.260Z"
   },
   {
    "duration": 38,
    "start_time": "2022-01-09T11:18:14.042Z"
   },
   {
    "duration": 10,
    "start_time": "2022-01-09T11:18:16.980Z"
   },
   {
    "duration": 1113,
    "start_time": "2022-01-09T11:20:00.182Z"
   },
   {
    "duration": 128,
    "start_time": "2022-01-09T11:22:19.250Z"
   },
   {
    "duration": 41,
    "start_time": "2022-01-09T11:22:59.304Z"
   },
   {
    "duration": 10,
    "start_time": "2022-01-09T11:23:02.480Z"
   },
   {
    "duration": 41,
    "start_time": "2022-01-09T11:23:21.322Z"
   },
   {
    "duration": 36,
    "start_time": "2022-01-09T11:23:28.353Z"
   },
   {
    "duration": 42,
    "start_time": "2022-01-09T11:23:35.901Z"
   },
   {
    "duration": 34,
    "start_time": "2022-01-09T11:24:21.252Z"
   },
   {
    "duration": 36,
    "start_time": "2022-01-09T11:24:29.752Z"
   },
   {
    "duration": 34,
    "start_time": "2022-01-09T11:25:34.400Z"
   },
   {
    "duration": 15,
    "start_time": "2022-01-09T11:25:37.679Z"
   },
   {
    "duration": 288,
    "start_time": "2022-01-09T11:27:41.705Z"
   },
   {
    "duration": 53,
    "start_time": "2022-01-09T11:28:10.169Z"
   },
   {
    "duration": 380,
    "start_time": "2022-01-09T11:28:14.158Z"
   },
   {
    "duration": 335,
    "start_time": "2022-01-09T11:28:26.838Z"
   },
   {
    "duration": 24,
    "start_time": "2022-01-09T11:28:38.709Z"
   },
   {
    "duration": 312,
    "start_time": "2022-01-09T11:28:42.944Z"
   },
   {
    "duration": 1182,
    "start_time": "2022-01-09T11:29:03.668Z"
   },
   {
    "duration": 49,
    "start_time": "2022-01-09T11:29:04.854Z"
   },
   {
    "duration": 26,
    "start_time": "2022-01-09T11:29:04.907Z"
   },
   {
    "duration": 10,
    "start_time": "2022-01-09T11:29:04.937Z"
   },
   {
    "duration": 10,
    "start_time": "2022-01-09T11:29:04.949Z"
   },
   {
    "duration": 11,
    "start_time": "2022-01-09T11:29:04.962Z"
   },
   {
    "duration": 60,
    "start_time": "2022-01-09T11:29:04.975Z"
   },
   {
    "duration": 26,
    "start_time": "2022-01-09T11:29:05.038Z"
   },
   {
    "duration": 4,
    "start_time": "2022-01-09T11:29:05.071Z"
   },
   {
    "duration": 58,
    "start_time": "2022-01-09T11:29:05.080Z"
   },
   {
    "duration": 782,
    "start_time": "2022-01-09T11:29:05.142Z"
   },
   {
    "duration": -68,
    "start_time": "2022-01-09T11:29:05.997Z"
   },
   {
    "duration": -70,
    "start_time": "2022-01-09T11:29:06.001Z"
   },
   {
    "duration": -71,
    "start_time": "2022-01-09T11:29:06.005Z"
   },
   {
    "duration": -74,
    "start_time": "2022-01-09T11:29:06.010Z"
   },
   {
    "duration": -85,
    "start_time": "2022-01-09T11:29:06.022Z"
   },
   {
    "duration": -88,
    "start_time": "2022-01-09T11:29:06.027Z"
   },
   {
    "duration": -90,
    "start_time": "2022-01-09T11:29:06.031Z"
   },
   {
    "duration": -91,
    "start_time": "2022-01-09T11:29:06.034Z"
   },
   {
    "duration": -91,
    "start_time": "2022-01-09T11:29:06.037Z"
   },
   {
    "duration": -93,
    "start_time": "2022-01-09T11:29:06.041Z"
   },
   {
    "duration": -94,
    "start_time": "2022-01-09T11:29:06.044Z"
   },
   {
    "duration": -94,
    "start_time": "2022-01-09T11:29:06.047Z"
   },
   {
    "duration": -94,
    "start_time": "2022-01-09T11:29:06.050Z"
   },
   {
    "duration": -100,
    "start_time": "2022-01-09T11:29:06.057Z"
   },
   {
    "duration": -101,
    "start_time": "2022-01-09T11:29:06.061Z"
   },
   {
    "duration": -102,
    "start_time": "2022-01-09T11:29:06.064Z"
   },
   {
    "duration": -107,
    "start_time": "2022-01-09T11:29:06.071Z"
   },
   {
    "duration": -107,
    "start_time": "2022-01-09T11:29:06.074Z"
   },
   {
    "duration": -53,
    "start_time": "2022-01-09T11:29:06.077Z"
   },
   {
    "duration": -56,
    "start_time": "2022-01-09T11:29:06.081Z"
   },
   {
    "duration": -57,
    "start_time": "2022-01-09T11:29:06.084Z"
   },
   {
    "duration": -58,
    "start_time": "2022-01-09T11:29:06.087Z"
   },
   {
    "duration": -59,
    "start_time": "2022-01-09T11:29:06.089Z"
   },
   {
    "duration": -65,
    "start_time": "2022-01-09T11:29:06.097Z"
   },
   {
    "duration": -67,
    "start_time": "2022-01-09T11:29:06.100Z"
   },
   {
    "duration": -77,
    "start_time": "2022-01-09T11:29:06.112Z"
   },
   {
    "duration": -78,
    "start_time": "2022-01-09T11:29:06.114Z"
   },
   {
    "duration": -80,
    "start_time": "2022-01-09T11:29:06.118Z"
   },
   {
    "duration": -81,
    "start_time": "2022-01-09T11:29:06.121Z"
   },
   {
    "duration": 903,
    "start_time": "2022-01-09T11:29:27.742Z"
   },
   {
    "duration": 31,
    "start_time": "2022-01-09T11:29:28.648Z"
   },
   {
    "duration": 12,
    "start_time": "2022-01-09T11:29:28.682Z"
   },
   {
    "duration": 8,
    "start_time": "2022-01-09T11:29:28.724Z"
   },
   {
    "duration": 13,
    "start_time": "2022-01-09T11:29:28.734Z"
   },
   {
    "duration": 9,
    "start_time": "2022-01-09T11:29:28.749Z"
   },
   {
    "duration": 17,
    "start_time": "2022-01-09T11:29:28.760Z"
   },
   {
    "duration": 68,
    "start_time": "2022-01-09T11:29:28.782Z"
   },
   {
    "duration": 3,
    "start_time": "2022-01-09T11:29:28.855Z"
   },
   {
    "duration": 12,
    "start_time": "2022-01-09T11:29:28.861Z"
   },
   {
    "duration": 1349,
    "start_time": "2022-01-09T11:29:28.876Z"
   },
   {
    "duration": -88,
    "start_time": "2022-01-09T11:29:30.317Z"
   },
   {
    "duration": -98,
    "start_time": "2022-01-09T11:29:30.329Z"
   },
   {
    "duration": -105,
    "start_time": "2022-01-09T11:29:30.339Z"
   },
   {
    "duration": -117,
    "start_time": "2022-01-09T11:29:30.353Z"
   },
   {
    "duration": -119,
    "start_time": "2022-01-09T11:29:30.357Z"
   },
   {
    "duration": -131,
    "start_time": "2022-01-09T11:29:30.371Z"
   },
   {
    "duration": -133,
    "start_time": "2022-01-09T11:29:30.375Z"
   },
   {
    "duration": -134,
    "start_time": "2022-01-09T11:29:30.379Z"
   },
   {
    "duration": -133,
    "start_time": "2022-01-09T11:29:30.381Z"
   },
   {
    "duration": -134,
    "start_time": "2022-01-09T11:29:30.384Z"
   },
   {
    "duration": -135,
    "start_time": "2022-01-09T11:29:30.387Z"
   },
   {
    "duration": -135,
    "start_time": "2022-01-09T11:29:30.389Z"
   },
   {
    "duration": -137,
    "start_time": "2022-01-09T11:29:30.393Z"
   },
   {
    "duration": -142,
    "start_time": "2022-01-09T11:29:30.401Z"
   },
   {
    "duration": -143,
    "start_time": "2022-01-09T11:29:30.404Z"
   },
   {
    "duration": -143,
    "start_time": "2022-01-09T11:29:30.406Z"
   },
   {
    "duration": -144,
    "start_time": "2022-01-09T11:29:30.409Z"
   },
   {
    "duration": -155,
    "start_time": "2022-01-09T11:29:30.422Z"
   },
   {
    "duration": -115,
    "start_time": "2022-01-09T11:29:30.440Z"
   },
   {
    "duration": -120,
    "start_time": "2022-01-09T11:29:30.447Z"
   },
   {
    "duration": -121,
    "start_time": "2022-01-09T11:29:30.450Z"
   },
   {
    "duration": -122,
    "start_time": "2022-01-09T11:29:30.453Z"
   },
   {
    "duration": -128,
    "start_time": "2022-01-09T11:29:30.460Z"
   },
   {
    "duration": -144,
    "start_time": "2022-01-09T11:29:30.478Z"
   },
   {
    "duration": -145,
    "start_time": "2022-01-09T11:29:30.481Z"
   },
   {
    "duration": -146,
    "start_time": "2022-01-09T11:29:30.483Z"
   },
   {
    "duration": -161,
    "start_time": "2022-01-09T11:29:30.500Z"
   },
   {
    "duration": -167,
    "start_time": "2022-01-09T11:29:30.509Z"
   },
   {
    "duration": 1029,
    "start_time": "2022-01-09T11:29:59.132Z"
   },
   {
    "duration": 30,
    "start_time": "2022-01-09T11:30:00.163Z"
   },
   {
    "duration": 34,
    "start_time": "2022-01-09T11:30:00.196Z"
   },
   {
    "duration": 13,
    "start_time": "2022-01-09T11:30:00.234Z"
   },
   {
    "duration": 22,
    "start_time": "2022-01-09T11:30:00.250Z"
   },
   {
    "duration": 19,
    "start_time": "2022-01-09T11:30:00.276Z"
   },
   {
    "duration": 27,
    "start_time": "2022-01-09T11:30:00.323Z"
   },
   {
    "duration": 31,
    "start_time": "2022-01-09T11:30:00.353Z"
   },
   {
    "duration": 36,
    "start_time": "2022-01-09T11:30:00.388Z"
   },
   {
    "duration": 21,
    "start_time": "2022-01-09T11:30:00.428Z"
   },
   {
    "duration": 25,
    "start_time": "2022-01-09T11:30:00.452Z"
   },
   {
    "duration": 29,
    "start_time": "2022-01-09T11:30:00.479Z"
   },
   {
    "duration": 32,
    "start_time": "2022-01-09T11:30:00.511Z"
   },
   {
    "duration": 17,
    "start_time": "2022-01-09T11:30:00.545Z"
   },
   {
    "duration": 14,
    "start_time": "2022-01-09T11:30:00.565Z"
   },
   {
    "duration": 18,
    "start_time": "2022-01-09T11:30:00.582Z"
   },
   {
    "duration": 26,
    "start_time": "2022-01-09T11:30:00.603Z"
   },
   {
    "duration": 411,
    "start_time": "2022-01-09T11:30:00.631Z"
   },
   {
    "duration": -65,
    "start_time": "2022-01-09T11:30:01.110Z"
   },
   {
    "duration": -66,
    "start_time": "2022-01-09T11:30:01.113Z"
   },
   {
    "duration": -67,
    "start_time": "2022-01-09T11:30:01.116Z"
   },
   {
    "duration": -74,
    "start_time": "2022-01-09T11:30:01.125Z"
   },
   {
    "duration": -81,
    "start_time": "2022-01-09T11:30:01.133Z"
   },
   {
    "duration": -81,
    "start_time": "2022-01-09T11:30:01.135Z"
   },
   {
    "duration": -83,
    "start_time": "2022-01-09T11:30:01.139Z"
   },
   {
    "duration": -85,
    "start_time": "2022-01-09T11:30:01.142Z"
   },
   {
    "duration": -86,
    "start_time": "2022-01-09T11:30:01.145Z"
   },
   {
    "duration": -88,
    "start_time": "2022-01-09T11:30:01.148Z"
   },
   {
    "duration": -90,
    "start_time": "2022-01-09T11:30:01.151Z"
   },
   {
    "duration": -96,
    "start_time": "2022-01-09T11:30:01.159Z"
   },
   {
    "duration": -99,
    "start_time": "2022-01-09T11:30:01.163Z"
   },
   {
    "duration": -100,
    "start_time": "2022-01-09T11:30:01.166Z"
   },
   {
    "duration": -103,
    "start_time": "2022-01-09T11:30:01.170Z"
   },
   {
    "duration": -104,
    "start_time": "2022-01-09T11:30:01.173Z"
   },
   {
    "duration": -105,
    "start_time": "2022-01-09T11:30:01.175Z"
   },
   {
    "duration": -108,
    "start_time": "2022-01-09T11:30:01.180Z"
   },
   {
    "duration": -120,
    "start_time": "2022-01-09T11:30:01.193Z"
   },
   {
    "duration": -121,
    "start_time": "2022-01-09T11:30:01.196Z"
   },
   {
    "duration": 14,
    "start_time": "2022-01-09T11:30:48.429Z"
   },
   {
    "duration": 919,
    "start_time": "2022-01-09T11:30:55.959Z"
   },
   {
    "duration": 58,
    "start_time": "2022-01-09T11:30:56.882Z"
   },
   {
    "duration": 19,
    "start_time": "2022-01-09T11:30:56.945Z"
   },
   {
    "duration": 11,
    "start_time": "2022-01-09T11:30:56.968Z"
   },
   {
    "duration": 47,
    "start_time": "2022-01-09T11:30:56.983Z"
   },
   {
    "duration": 16,
    "start_time": "2022-01-09T11:30:57.033Z"
   },
   {
    "duration": 19,
    "start_time": "2022-01-09T11:30:57.051Z"
   },
   {
    "duration": 50,
    "start_time": "2022-01-09T11:30:57.073Z"
   },
   {
    "duration": 3,
    "start_time": "2022-01-09T11:30:57.128Z"
   },
   {
    "duration": 17,
    "start_time": "2022-01-09T11:30:57.134Z"
   },
   {
    "duration": 14,
    "start_time": "2022-01-09T11:30:57.154Z"
   },
   {
    "duration": 53,
    "start_time": "2022-01-09T11:30:57.171Z"
   },
   {
    "duration": 9,
    "start_time": "2022-01-09T11:30:57.226Z"
   },
   {
    "duration": 11,
    "start_time": "2022-01-09T11:30:57.238Z"
   },
   {
    "duration": 9,
    "start_time": "2022-01-09T11:30:57.252Z"
   },
   {
    "duration": 11,
    "start_time": "2022-01-09T11:30:57.263Z"
   },
   {
    "duration": 56,
    "start_time": "2022-01-09T11:30:57.276Z"
   },
   {
    "duration": 498,
    "start_time": "2022-01-09T11:30:57.335Z"
   },
   {
    "duration": -541,
    "start_time": "2022-01-09T11:30:58.379Z"
   },
   {
    "duration": -543,
    "start_time": "2022-01-09T11:30:58.383Z"
   },
   {
    "duration": -544,
    "start_time": "2022-01-09T11:30:58.386Z"
   },
   {
    "duration": -545,
    "start_time": "2022-01-09T11:30:58.389Z"
   },
   {
    "duration": -548,
    "start_time": "2022-01-09T11:30:58.393Z"
   },
   {
    "duration": -549,
    "start_time": "2022-01-09T11:30:58.396Z"
   },
   {
    "duration": -548,
    "start_time": "2022-01-09T11:30:58.398Z"
   },
   {
    "duration": -549,
    "start_time": "2022-01-09T11:30:58.401Z"
   },
   {
    "duration": -551,
    "start_time": "2022-01-09T11:30:58.404Z"
   },
   {
    "duration": -552,
    "start_time": "2022-01-09T11:30:58.407Z"
   },
   {
    "duration": -553,
    "start_time": "2022-01-09T11:30:58.410Z"
   },
   {
    "duration": -554,
    "start_time": "2022-01-09T11:30:58.412Z"
   },
   {
    "duration": -555,
    "start_time": "2022-01-09T11:30:58.415Z"
   },
   {
    "duration": -556,
    "start_time": "2022-01-09T11:30:58.418Z"
   },
   {
    "duration": -557,
    "start_time": "2022-01-09T11:30:58.420Z"
   },
   {
    "duration": -558,
    "start_time": "2022-01-09T11:30:58.423Z"
   },
   {
    "duration": -690,
    "start_time": "2022-01-09T11:30:58.556Z"
   },
   {
    "duration": -701,
    "start_time": "2022-01-09T11:30:58.569Z"
   },
   {
    "duration": -702,
    "start_time": "2022-01-09T11:30:58.571Z"
   },
   {
    "duration": -704,
    "start_time": "2022-01-09T11:30:58.574Z"
   },
   {
    "duration": 20,
    "start_time": "2022-01-09T11:31:24.409Z"
   },
   {
    "duration": 20,
    "start_time": "2022-01-09T11:32:06.550Z"
   },
   {
    "duration": 19,
    "start_time": "2022-01-09T11:32:09.785Z"
   },
   {
    "duration": 6,
    "start_time": "2022-01-09T11:32:40.253Z"
   },
   {
    "duration": 18,
    "start_time": "2022-01-09T11:32:41.342Z"
   },
   {
    "duration": 888,
    "start_time": "2022-01-09T11:32:47.163Z"
   },
   {
    "duration": 28,
    "start_time": "2022-01-09T11:32:48.054Z"
   },
   {
    "duration": 45,
    "start_time": "2022-01-09T11:32:48.085Z"
   },
   {
    "duration": 12,
    "start_time": "2022-01-09T11:32:48.133Z"
   },
   {
    "duration": 17,
    "start_time": "2022-01-09T11:32:48.148Z"
   },
   {
    "duration": 20,
    "start_time": "2022-01-09T11:32:48.168Z"
   },
   {
    "duration": 46,
    "start_time": "2022-01-09T11:32:48.191Z"
   },
   {
    "duration": 24,
    "start_time": "2022-01-09T11:32:48.241Z"
   },
   {
    "duration": 6,
    "start_time": "2022-01-09T11:32:48.271Z"
   },
   {
    "duration": 50,
    "start_time": "2022-01-09T11:32:48.281Z"
   },
   {
    "duration": 15,
    "start_time": "2022-01-09T11:32:48.333Z"
   },
   {
    "duration": 20,
    "start_time": "2022-01-09T11:32:48.351Z"
   },
   {
    "duration": 10,
    "start_time": "2022-01-09T11:32:48.373Z"
   },
   {
    "duration": 45,
    "start_time": "2022-01-09T11:32:48.386Z"
   },
   {
    "duration": 10,
    "start_time": "2022-01-09T11:32:48.434Z"
   },
   {
    "duration": 7,
    "start_time": "2022-01-09T11:32:48.446Z"
   },
   {
    "duration": 13,
    "start_time": "2022-01-09T11:32:48.455Z"
   },
   {
    "duration": 60,
    "start_time": "2022-01-09T11:32:48.471Z"
   },
   {
    "duration": 12,
    "start_time": "2022-01-09T11:32:48.534Z"
   },
   {
    "duration": 23,
    "start_time": "2022-01-09T11:32:48.548Z"
   },
   {
    "duration": 60,
    "start_time": "2022-01-09T11:32:48.573Z"
   },
   {
    "duration": 40,
    "start_time": "2022-01-09T11:32:48.635Z"
   },
   {
    "duration": 10,
    "start_time": "2022-01-09T11:32:48.677Z"
   },
   {
    "duration": 43,
    "start_time": "2022-01-09T11:32:48.689Z"
   },
   {
    "duration": 5718,
    "start_time": "2022-01-09T11:32:48.735Z"
   },
   {
    "duration": 23,
    "start_time": "2022-01-09T11:32:54.457Z"
   },
   {
    "duration": 61,
    "start_time": "2022-01-09T11:32:54.487Z"
   },
   {
    "duration": 49,
    "start_time": "2022-01-09T11:32:54.552Z"
   },
   {
    "duration": 14,
    "start_time": "2022-01-09T11:32:54.628Z"
   },
   {
    "duration": 42,
    "start_time": "2022-01-09T11:32:54.645Z"
   },
   {
    "duration": 44,
    "start_time": "2022-01-09T11:32:54.690Z"
   },
   {
    "duration": 22,
    "start_time": "2022-01-09T11:32:54.740Z"
   },
   {
    "duration": 19,
    "start_time": "2022-01-09T11:32:54.764Z"
   },
   {
    "duration": 67,
    "start_time": "2022-01-09T11:32:54.786Z"
   },
   {
    "duration": 444,
    "start_time": "2022-01-09T11:32:54.856Z"
   },
   {
    "duration": -42,
    "start_time": "2022-01-09T11:32:55.344Z"
   },
   {
    "duration": -46,
    "start_time": "2022-01-09T11:32:55.349Z"
   },
   {
    "duration": -49,
    "start_time": "2022-01-09T11:32:55.354Z"
   },
   {
    "duration": 319,
    "start_time": "2022-01-09T11:33:35.873Z"
   },
   {
    "duration": 24,
    "start_time": "2022-01-09T11:34:20.993Z"
   },
   {
    "duration": 1756,
    "start_time": "2022-01-09T11:35:53.385Z"
   },
   {
    "duration": 30,
    "start_time": "2022-01-09T11:36:06.336Z"
   },
   {
    "duration": 30,
    "start_time": "2022-01-09T11:36:14.504Z"
   },
   {
    "duration": 845,
    "start_time": "2022-01-09T11:36:20.536Z"
   },
   {
    "duration": 29,
    "start_time": "2022-01-09T11:36:21.384Z"
   },
   {
    "duration": 20,
    "start_time": "2022-01-09T11:36:21.424Z"
   },
   {
    "duration": 8,
    "start_time": "2022-01-09T11:36:21.447Z"
   },
   {
    "duration": 10,
    "start_time": "2022-01-09T11:36:21.458Z"
   },
   {
    "duration": 63,
    "start_time": "2022-01-09T11:36:21.470Z"
   },
   {
    "duration": 24,
    "start_time": "2022-01-09T11:36:21.536Z"
   },
   {
    "duration": 23,
    "start_time": "2022-01-09T11:36:21.563Z"
   },
   {
    "duration": 37,
    "start_time": "2022-01-09T11:36:21.590Z"
   },
   {
    "duration": 21,
    "start_time": "2022-01-09T11:36:21.629Z"
   },
   {
    "duration": 11,
    "start_time": "2022-01-09T11:36:21.653Z"
   },
   {
    "duration": 19,
    "start_time": "2022-01-09T11:36:21.666Z"
   },
   {
    "duration": 47,
    "start_time": "2022-01-09T11:36:21.687Z"
   },
   {
    "duration": 20,
    "start_time": "2022-01-09T11:36:21.736Z"
   },
   {
    "duration": 11,
    "start_time": "2022-01-09T11:36:21.759Z"
   },
   {
    "duration": 6,
    "start_time": "2022-01-09T11:36:21.773Z"
   },
   {
    "duration": 45,
    "start_time": "2022-01-09T11:36:21.781Z"
   },
   {
    "duration": 29,
    "start_time": "2022-01-09T11:36:21.834Z"
   },
   {
    "duration": 9,
    "start_time": "2022-01-09T11:36:21.866Z"
   },
   {
    "duration": 54,
    "start_time": "2022-01-09T11:36:21.877Z"
   },
   {
    "duration": 26,
    "start_time": "2022-01-09T11:36:21.934Z"
   },
   {
    "duration": 40,
    "start_time": "2022-01-09T11:36:21.963Z"
   },
   {
    "duration": 13,
    "start_time": "2022-01-09T11:36:22.026Z"
   },
   {
    "duration": 16,
    "start_time": "2022-01-09T11:36:22.042Z"
   },
   {
    "duration": 5798,
    "start_time": "2022-01-09T11:36:22.060Z"
   },
   {
    "duration": 15,
    "start_time": "2022-01-09T11:36:27.861Z"
   },
   {
    "duration": 56,
    "start_time": "2022-01-09T11:36:27.878Z"
   },
   {
    "duration": 30,
    "start_time": "2022-01-09T11:36:27.941Z"
   },
   {
    "duration": 12,
    "start_time": "2022-01-09T11:36:27.973Z"
   },
   {
    "duration": 54,
    "start_time": "2022-01-09T11:36:27.987Z"
   },
   {
    "duration": 16,
    "start_time": "2022-01-09T11:36:28.043Z"
   },
   {
    "duration": 18,
    "start_time": "2022-01-09T11:36:28.061Z"
   },
   {
    "duration": 51,
    "start_time": "2022-01-09T11:36:28.081Z"
   },
   {
    "duration": 23,
    "start_time": "2022-01-09T11:36:28.137Z"
   },
   {
    "duration": 490,
    "start_time": "2022-01-09T11:36:28.163Z"
   },
   {
    "duration": -43,
    "start_time": "2022-01-09T11:36:28.700Z"
   },
   {
    "duration": -45,
    "start_time": "2022-01-09T11:36:28.704Z"
   },
   {
    "duration": -49,
    "start_time": "2022-01-09T11:36:28.710Z"
   },
   {
    "duration": 54,
    "start_time": "2022-01-09T11:37:16.187Z"
   },
   {
    "duration": 30,
    "start_time": "2022-01-09T11:37:21.735Z"
   },
   {
    "duration": 1209,
    "start_time": "2022-01-09T11:37:29.517Z"
   },
   {
    "duration": 379,
    "start_time": "2022-01-09T11:37:51.207Z"
   },
   {
    "duration": 106,
    "start_time": "2022-01-09T12:34:21.382Z"
   },
   {
    "duration": 95,
    "start_time": "2022-01-09T12:34:37.172Z"
   },
   {
    "duration": 138,
    "start_time": "2022-01-09T12:35:30.784Z"
   },
   {
    "duration": 652,
    "start_time": "2022-01-09T12:35:38.963Z"
   },
   {
    "duration": 553,
    "start_time": "2022-01-09T12:35:55.693Z"
   },
   {
    "duration": 11,
    "start_time": "2022-01-09T12:36:19.083Z"
   },
   {
    "duration": 11,
    "start_time": "2022-01-09T12:36:25.761Z"
   },
   {
    "duration": 31,
    "start_time": "2022-01-09T12:36:55.364Z"
   },
   {
    "duration": 786,
    "start_time": "2022-01-09T12:42:28.524Z"
   },
   {
    "duration": 26,
    "start_time": "2022-01-09T12:42:29.313Z"
   },
   {
    "duration": 12,
    "start_time": "2022-01-09T12:42:29.342Z"
   },
   {
    "duration": 7,
    "start_time": "2022-01-09T12:42:29.357Z"
   },
   {
    "duration": 9,
    "start_time": "2022-01-09T12:42:29.366Z"
   },
   {
    "duration": 47,
    "start_time": "2022-01-09T12:42:29.377Z"
   },
   {
    "duration": 16,
    "start_time": "2022-01-09T12:42:29.426Z"
   },
   {
    "duration": 20,
    "start_time": "2022-01-09T12:42:29.444Z"
   },
   {
    "duration": 3,
    "start_time": "2022-01-09T12:42:29.468Z"
   },
   {
    "duration": 54,
    "start_time": "2022-01-09T12:42:29.474Z"
   },
   {
    "duration": 31,
    "start_time": "2022-01-09T12:42:29.530Z"
   },
   {
    "duration": 634,
    "start_time": "2022-01-09T12:42:29.564Z"
   },
   {
    "duration": -170,
    "start_time": "2022-01-09T12:42:30.372Z"
   },
   {
    "duration": -171,
    "start_time": "2022-01-09T12:42:30.375Z"
   },
   {
    "duration": -174,
    "start_time": "2022-01-09T12:42:30.379Z"
   },
   {
    "duration": -174,
    "start_time": "2022-01-09T12:42:30.381Z"
   },
   {
    "duration": -176,
    "start_time": "2022-01-09T12:42:30.385Z"
   },
   {
    "duration": -177,
    "start_time": "2022-01-09T12:42:30.387Z"
   },
   {
    "duration": -178,
    "start_time": "2022-01-09T12:42:30.390Z"
   },
   {
    "duration": -180,
    "start_time": "2022-01-09T12:42:30.393Z"
   },
   {
    "duration": -181,
    "start_time": "2022-01-09T12:42:30.396Z"
   },
   {
    "duration": -182,
    "start_time": "2022-01-09T12:42:30.399Z"
   },
   {
    "duration": -185,
    "start_time": "2022-01-09T12:42:30.403Z"
   },
   {
    "duration": -185,
    "start_time": "2022-01-09T12:42:30.405Z"
   },
   {
    "duration": -188,
    "start_time": "2022-01-09T12:42:30.409Z"
   },
   {
    "duration": -189,
    "start_time": "2022-01-09T12:42:30.412Z"
   },
   {
    "duration": -190,
    "start_time": "2022-01-09T12:42:30.415Z"
   },
   {
    "duration": -191,
    "start_time": "2022-01-09T12:42:30.418Z"
   },
   {
    "duration": -194,
    "start_time": "2022-01-09T12:42:30.422Z"
   },
   {
    "duration": -194,
    "start_time": "2022-01-09T12:42:30.424Z"
   },
   {
    "duration": -201,
    "start_time": "2022-01-09T12:42:30.432Z"
   },
   {
    "duration": -202,
    "start_time": "2022-01-09T12:42:30.435Z"
   },
   {
    "duration": -204,
    "start_time": "2022-01-09T12:42:30.438Z"
   },
   {
    "duration": -205,
    "start_time": "2022-01-09T12:42:30.441Z"
   },
   {
    "duration": -207,
    "start_time": "2022-01-09T12:42:30.444Z"
   },
   {
    "duration": -209,
    "start_time": "2022-01-09T12:42:30.447Z"
   },
   {
    "duration": -211,
    "start_time": "2022-01-09T12:42:30.450Z"
   },
   {
    "duration": -213,
    "start_time": "2022-01-09T12:42:30.454Z"
   },
   {
    "duration": -215,
    "start_time": "2022-01-09T12:42:30.457Z"
   },
   {
    "duration": -216,
    "start_time": "2022-01-09T12:42:30.459Z"
   },
   {
    "duration": 11,
    "start_time": "2022-01-09T12:50:46.612Z"
   },
   {
    "duration": 12,
    "start_time": "2022-01-09T12:50:52.836Z"
   },
   {
    "duration": 478,
    "start_time": "2022-01-09T12:51:09.455Z"
   },
   {
    "duration": 43,
    "start_time": "2022-01-09T12:51:38.105Z"
   },
   {
    "duration": 89,
    "start_time": "2022-01-09T12:54:17.993Z"
   },
   {
    "duration": 111,
    "start_time": "2022-01-09T12:54:35.224Z"
   },
   {
    "duration": 97,
    "start_time": "2022-01-09T12:59:56.053Z"
   },
   {
    "duration": 106,
    "start_time": "2022-01-09T13:00:21.523Z"
   },
   {
    "duration": 108,
    "start_time": "2022-01-09T13:00:52.614Z"
   },
   {
    "duration": 284,
    "start_time": "2022-01-09T13:01:02.353Z"
   },
   {
    "duration": 310,
    "start_time": "2022-01-09T13:03:38.164Z"
   },
   {
    "duration": 10,
    "start_time": "2022-01-09T13:04:02.903Z"
   },
   {
    "duration": 30,
    "start_time": "2022-01-09T13:04:17.052Z"
   },
   {
    "duration": 25,
    "start_time": "2022-01-09T13:04:43.113Z"
   },
   {
    "duration": 16,
    "start_time": "2022-01-09T13:04:56.713Z"
   },
   {
    "duration": 794,
    "start_time": "2022-01-09T13:05:09.960Z"
   },
   {
    "duration": 26,
    "start_time": "2022-01-09T13:05:10.757Z"
   },
   {
    "duration": 37,
    "start_time": "2022-01-09T13:05:10.786Z"
   },
   {
    "duration": 7,
    "start_time": "2022-01-09T13:05:10.826Z"
   },
   {
    "duration": 10,
    "start_time": "2022-01-09T13:05:10.835Z"
   },
   {
    "duration": 10,
    "start_time": "2022-01-09T13:05:10.847Z"
   },
   {
    "duration": 16,
    "start_time": "2022-01-09T13:05:10.859Z"
   },
   {
    "duration": 57,
    "start_time": "2022-01-09T13:05:10.879Z"
   },
   {
    "duration": 3,
    "start_time": "2022-01-09T13:05:10.939Z"
   },
   {
    "duration": 18,
    "start_time": "2022-01-09T13:05:10.944Z"
   },
   {
    "duration": 16,
    "start_time": "2022-01-09T13:05:10.964Z"
   },
   {
    "duration": 58,
    "start_time": "2022-01-09T13:05:10.982Z"
   },
   {
    "duration": 376,
    "start_time": "2022-01-09T13:05:11.043Z"
   },
   {
    "duration": -1063,
    "start_time": "2022-01-09T13:05:12.486Z"
   },
   {
    "duration": -1066,
    "start_time": "2022-01-09T13:05:12.491Z"
   },
   {
    "duration": -1069,
    "start_time": "2022-01-09T13:05:12.495Z"
   },
   {
    "duration": -1072,
    "start_time": "2022-01-09T13:05:12.500Z"
   },
   {
    "duration": -1074,
    "start_time": "2022-01-09T13:05:12.504Z"
   },
   {
    "duration": -1078,
    "start_time": "2022-01-09T13:05:12.509Z"
   },
   {
    "duration": -1080,
    "start_time": "2022-01-09T13:05:12.513Z"
   },
   {
    "duration": -1084,
    "start_time": "2022-01-09T13:05:12.519Z"
   },
   {
    "duration": -1088,
    "start_time": "2022-01-09T13:05:12.524Z"
   },
   {
    "duration": -1089,
    "start_time": "2022-01-09T13:05:12.528Z"
   },
   {
    "duration": -1093,
    "start_time": "2022-01-09T13:05:12.533Z"
   },
   {
    "duration": -1096,
    "start_time": "2022-01-09T13:05:12.538Z"
   },
   {
    "duration": -1100,
    "start_time": "2022-01-09T13:05:12.543Z"
   },
   {
    "duration": -1103,
    "start_time": "2022-01-09T13:05:12.548Z"
   },
   {
    "duration": -1107,
    "start_time": "2022-01-09T13:05:12.553Z"
   },
   {
    "duration": -1111,
    "start_time": "2022-01-09T13:05:12.558Z"
   },
   {
    "duration": -1113,
    "start_time": "2022-01-09T13:05:12.562Z"
   },
   {
    "duration": -1132,
    "start_time": "2022-01-09T13:05:12.582Z"
   },
   {
    "duration": -1135,
    "start_time": "2022-01-09T13:05:12.587Z"
   },
   {
    "duration": -1137,
    "start_time": "2022-01-09T13:05:12.591Z"
   },
   {
    "duration": -1139,
    "start_time": "2022-01-09T13:05:12.594Z"
   },
   {
    "duration": -1140,
    "start_time": "2022-01-09T13:05:12.597Z"
   },
   {
    "duration": -1144,
    "start_time": "2022-01-09T13:05:12.602Z"
   },
   {
    "duration": -1146,
    "start_time": "2022-01-09T13:05:12.605Z"
   },
   {
    "duration": -1147,
    "start_time": "2022-01-09T13:05:12.608Z"
   },
   {
    "duration": -1149,
    "start_time": "2022-01-09T13:05:12.611Z"
   },
   {
    "duration": -1149,
    "start_time": "2022-01-09T13:05:12.613Z"
   },
   {
    "duration": -1095,
    "start_time": "2022-01-09T13:05:12.617Z"
   },
   {
    "duration": -1096,
    "start_time": "2022-01-09T13:05:12.620Z"
   },
   {
    "duration": -1096,
    "start_time": "2022-01-09T13:05:12.622Z"
   },
   {
    "duration": -1098,
    "start_time": "2022-01-09T13:05:12.625Z"
   },
   {
    "duration": 12,
    "start_time": "2022-01-09T13:14:57.721Z"
   },
   {
    "duration": 868,
    "start_time": "2022-01-09T13:15:09.324Z"
   },
   {
    "duration": 30,
    "start_time": "2022-01-09T13:15:10.195Z"
   },
   {
    "duration": 11,
    "start_time": "2022-01-09T13:15:10.228Z"
   },
   {
    "duration": 7,
    "start_time": "2022-01-09T13:15:10.242Z"
   },
   {
    "duration": 10,
    "start_time": "2022-01-09T13:15:10.251Z"
   },
   {
    "duration": 60,
    "start_time": "2022-01-09T13:15:10.264Z"
   },
   {
    "duration": 21,
    "start_time": "2022-01-09T13:15:10.327Z"
   },
   {
    "duration": 31,
    "start_time": "2022-01-09T13:15:10.353Z"
   },
   {
    "duration": 36,
    "start_time": "2022-01-09T13:15:10.388Z"
   },
   {
    "duration": 21,
    "start_time": "2022-01-09T13:15:10.427Z"
   },
   {
    "duration": 22,
    "start_time": "2022-01-09T13:15:10.451Z"
   },
   {
    "duration": 64,
    "start_time": "2022-01-09T13:15:10.477Z"
   },
   {
    "duration": 4,
    "start_time": "2022-01-09T13:15:10.544Z"
   },
   {
    "duration": 16,
    "start_time": "2022-01-09T13:15:10.551Z"
   },
   {
    "duration": 27,
    "start_time": "2022-01-09T13:15:10.570Z"
   },
   {
    "duration": 10,
    "start_time": "2022-01-09T13:15:10.624Z"
   },
   {
    "duration": 14,
    "start_time": "2022-01-09T13:15:10.637Z"
   },
   {
    "duration": 10,
    "start_time": "2022-01-09T13:15:10.654Z"
   },
   {
    "duration": 9,
    "start_time": "2022-01-09T13:15:10.667Z"
   },
   {
    "duration": 50,
    "start_time": "2022-01-09T13:15:10.679Z"
   },
   {
    "duration": 27,
    "start_time": "2022-01-09T13:15:10.732Z"
   },
   {
    "duration": 10,
    "start_time": "2022-01-09T13:15:10.761Z"
   },
   {
    "duration": 60,
    "start_time": "2022-01-09T13:15:10.776Z"
   },
   {
    "duration": 23,
    "start_time": "2022-01-09T13:15:10.839Z"
   },
   {
    "duration": 60,
    "start_time": "2022-01-09T13:15:10.864Z"
   },
   {
    "duration": 10,
    "start_time": "2022-01-09T13:15:10.927Z"
   },
   {
    "duration": 13,
    "start_time": "2022-01-09T13:15:10.939Z"
   },
   {
    "duration": 5311,
    "start_time": "2022-01-09T13:15:10.954Z"
   },
   {
    "duration": 21,
    "start_time": "2022-01-09T13:15:16.269Z"
   },
   {
    "duration": 55,
    "start_time": "2022-01-09T13:15:16.293Z"
   },
   {
    "duration": 31,
    "start_time": "2022-01-09T13:15:16.351Z"
   },
   {
    "duration": 41,
    "start_time": "2022-01-09T13:15:16.385Z"
   },
   {
    "duration": 37,
    "start_time": "2022-01-09T13:15:16.428Z"
   },
   {
    "duration": 15,
    "start_time": "2022-01-09T13:15:16.467Z"
   },
   {
    "duration": 18,
    "start_time": "2022-01-09T13:15:16.485Z"
   },
   {
    "duration": 21,
    "start_time": "2022-01-09T13:15:16.524Z"
   },
   {
    "duration": 20,
    "start_time": "2022-01-09T13:15:16.548Z"
   },
   {
    "duration": 645,
    "start_time": "2022-01-09T13:15:16.571Z"
   },
   {
    "duration": -77,
    "start_time": "2022-01-09T13:15:17.296Z"
   },
   {
    "duration": -79,
    "start_time": "2022-01-09T13:15:17.300Z"
   },
   {
    "duration": -81,
    "start_time": "2022-01-09T13:15:17.304Z"
   },
   {
    "duration": 27,
    "start_time": "2022-01-09T13:15:22.008Z"
   },
   {
    "duration": 498,
    "start_time": "2022-01-09T13:17:20.347Z"
   },
   {
    "duration": 21,
    "start_time": "2022-01-09T13:17:40.616Z"
   },
   {
    "duration": 108,
    "start_time": "2022-01-09T13:21:57.113Z"
   },
   {
    "duration": 90,
    "start_time": "2022-01-09T13:22:20.361Z"
   },
   {
    "duration": 310,
    "start_time": "2022-01-09T13:22:48.991Z"
   },
   {
    "duration": 16,
    "start_time": "2022-01-09T13:24:49.487Z"
   },
   {
    "duration": 28,
    "start_time": "2022-01-09T13:25:05.737Z"
   },
   {
    "duration": 325,
    "start_time": "2022-01-09T13:25:13.057Z"
   },
   {
    "duration": 2654,
    "start_time": "2022-01-09T13:26:09.343Z"
   },
   {
    "duration": 21,
    "start_time": "2022-01-09T13:26:43.257Z"
   },
   {
    "duration": 317,
    "start_time": "2022-01-09T13:28:04.516Z"
   },
   {
    "duration": 25,
    "start_time": "2022-01-09T13:28:23.696Z"
   },
   {
    "duration": 114,
    "start_time": "2022-01-09T13:32:25.942Z"
   },
   {
    "duration": 107,
    "start_time": "2022-01-09T13:32:35.305Z"
   },
   {
    "duration": 442,
    "start_time": "2022-01-09T13:32:42.996Z"
   },
   {
    "duration": 114,
    "start_time": "2022-01-09T13:33:08.776Z"
   },
   {
    "duration": 303,
    "start_time": "2022-01-09T13:33:13.596Z"
   },
   {
    "duration": 315,
    "start_time": "2022-01-09T13:36:09.239Z"
   },
   {
    "duration": 94,
    "start_time": "2022-01-09T13:37:41.546Z"
   },
   {
    "duration": 209,
    "start_time": "2022-01-09T13:38:37.117Z"
   },
   {
    "duration": 18,
    "start_time": "2022-01-09T13:42:25.729Z"
   },
   {
    "duration": 22,
    "start_time": "2022-01-09T13:42:35.706Z"
   },
   {
    "duration": 1068,
    "start_time": "2022-01-09T13:48:30.297Z"
   },
   {
    "duration": 297,
    "start_time": "2022-01-09T13:48:40.057Z"
   },
   {
    "duration": 103,
    "start_time": "2022-01-09T13:49:14.072Z"
   },
   {
    "duration": 92,
    "start_time": "2022-01-09T13:49:24.888Z"
   },
   {
    "duration": 375,
    "start_time": "2022-01-09T13:51:11.265Z"
   },
   {
    "duration": 300,
    "start_time": "2022-01-09T13:51:39.186Z"
   },
   {
    "duration": 9368,
    "start_time": "2022-01-09T13:51:53.096Z"
   },
   {
    "duration": 643,
    "start_time": "2022-01-09T15:33:16.070Z"
   },
   {
    "duration": 820,
    "start_time": "2022-01-09T15:33:53.904Z"
   },
   {
    "duration": 30,
    "start_time": "2022-01-09T15:33:54.728Z"
   },
   {
    "duration": 13,
    "start_time": "2022-01-09T15:33:54.762Z"
   },
   {
    "duration": 50,
    "start_time": "2022-01-09T15:33:54.779Z"
   },
   {
    "duration": 13,
    "start_time": "2022-01-09T15:33:54.832Z"
   },
   {
    "duration": 15,
    "start_time": "2022-01-09T15:33:54.847Z"
   },
   {
    "duration": 17,
    "start_time": "2022-01-09T15:33:54.864Z"
   },
   {
    "duration": 51,
    "start_time": "2022-01-09T15:33:54.883Z"
   },
   {
    "duration": 3,
    "start_time": "2022-01-09T15:33:54.938Z"
   },
   {
    "duration": 12,
    "start_time": "2022-01-09T15:33:54.944Z"
   },
   {
    "duration": 15,
    "start_time": "2022-01-09T15:33:54.959Z"
   },
   {
    "duration": 72,
    "start_time": "2022-01-09T15:33:54.977Z"
   },
   {
    "duration": 3,
    "start_time": "2022-01-09T15:33:55.052Z"
   },
   {
    "duration": 22,
    "start_time": "2022-01-09T15:33:55.058Z"
   },
   {
    "duration": 24,
    "start_time": "2022-01-09T15:33:55.083Z"
   },
   {
    "duration": 21,
    "start_time": "2022-01-09T15:33:55.109Z"
   },
   {
    "duration": 17,
    "start_time": "2022-01-09T15:33:55.133Z"
   },
   {
    "duration": 7,
    "start_time": "2022-01-09T15:33:55.153Z"
   },
   {
    "duration": 6,
    "start_time": "2022-01-09T15:33:55.163Z"
   },
   {
    "duration": 52,
    "start_time": "2022-01-09T15:33:55.171Z"
   },
   {
    "duration": 27,
    "start_time": "2022-01-09T15:33:55.226Z"
   },
   {
    "duration": 9,
    "start_time": "2022-01-09T15:33:55.256Z"
   },
   {
    "duration": 66,
    "start_time": "2022-01-09T15:33:55.267Z"
   },
   {
    "duration": 24,
    "start_time": "2022-01-09T15:33:55.336Z"
   },
   {
    "duration": 63,
    "start_time": "2022-01-09T15:33:55.362Z"
   },
   {
    "duration": 9,
    "start_time": "2022-01-09T15:33:55.428Z"
   },
   {
    "duration": 7,
    "start_time": "2022-01-09T15:33:55.442Z"
   },
   {
    "duration": 5624,
    "start_time": "2022-01-09T15:33:55.452Z"
   },
   {
    "duration": 16,
    "start_time": "2022-01-09T15:34:01.079Z"
   },
   {
    "duration": 52,
    "start_time": "2022-01-09T15:34:01.097Z"
   },
   {
    "duration": 31,
    "start_time": "2022-01-09T15:34:01.152Z"
   },
   {
    "duration": 40,
    "start_time": "2022-01-09T15:34:01.185Z"
   },
   {
    "duration": 52,
    "start_time": "2022-01-09T15:34:01.228Z"
   },
   {
    "duration": 16,
    "start_time": "2022-01-09T15:34:01.283Z"
   },
   {
    "duration": 30,
    "start_time": "2022-01-09T15:34:01.301Z"
   },
   {
    "duration": 25,
    "start_time": "2022-01-09T15:34:01.333Z"
   },
   {
    "duration": 21,
    "start_time": "2022-01-09T15:34:01.360Z"
   },
   {
    "duration": 41,
    "start_time": "2022-01-09T15:34:01.383Z"
   },
   {
    "duration": 25,
    "start_time": "2022-01-09T15:34:01.427Z"
   },
   {
    "duration": 21,
    "start_time": "2022-01-09T15:34:01.455Z"
   },
   {
    "duration": 1129,
    "start_time": "2022-01-09T15:34:01.479Z"
   },
   {
    "duration": 27,
    "start_time": "2022-01-09T15:35:38.889Z"
   },
   {
    "duration": 297,
    "start_time": "2022-01-09T15:37:10.691Z"
   },
   {
    "duration": 93,
    "start_time": "2022-01-09T15:38:24.666Z"
   },
   {
    "duration": 867,
    "start_time": "2022-01-10T04:36:46.344Z"
   },
   {
    "duration": 29,
    "start_time": "2022-01-10T04:36:47.214Z"
   },
   {
    "duration": 25,
    "start_time": "2022-01-10T04:36:47.246Z"
   },
   {
    "duration": 9,
    "start_time": "2022-01-10T04:36:47.273Z"
   },
   {
    "duration": 10,
    "start_time": "2022-01-10T04:36:47.284Z"
   },
   {
    "duration": 10,
    "start_time": "2022-01-10T04:36:47.296Z"
   },
   {
    "duration": 62,
    "start_time": "2022-01-10T04:36:47.309Z"
   },
   {
    "duration": 21,
    "start_time": "2022-01-10T04:36:47.375Z"
   },
   {
    "duration": 3,
    "start_time": "2022-01-10T04:36:47.399Z"
   },
   {
    "duration": 13,
    "start_time": "2022-01-10T04:36:47.405Z"
   },
   {
    "duration": 57,
    "start_time": "2022-01-10T04:36:47.420Z"
   },
   {
    "duration": 23,
    "start_time": "2022-01-10T04:36:47.480Z"
   },
   {
    "duration": 3,
    "start_time": "2022-01-10T04:36:47.506Z"
   },
   {
    "duration": 14,
    "start_time": "2022-01-10T04:36:47.511Z"
   },
   {
    "duration": 20,
    "start_time": "2022-01-10T04:36:47.564Z"
   },
   {
    "duration": 9,
    "start_time": "2022-01-10T04:36:47.587Z"
   },
   {
    "duration": 11,
    "start_time": "2022-01-10T04:36:47.598Z"
   },
   {
    "duration": 7,
    "start_time": "2022-01-10T04:36:47.612Z"
   },
   {
    "duration": 47,
    "start_time": "2022-01-10T04:36:47.621Z"
   },
   {
    "duration": 15,
    "start_time": "2022-01-10T04:36:47.670Z"
   },
   {
    "duration": 29,
    "start_time": "2022-01-10T04:36:47.688Z"
   },
   {
    "duration": 10,
    "start_time": "2022-01-10T04:36:47.719Z"
   },
   {
    "duration": 25,
    "start_time": "2022-01-10T04:36:47.767Z"
   },
   {
    "duration": 23,
    "start_time": "2022-01-10T04:36:47.795Z"
   },
   {
    "duration": 81,
    "start_time": "2022-01-10T04:36:47.820Z"
   },
   {
    "duration": 12,
    "start_time": "2022-01-10T04:36:47.904Z"
   },
   {
    "duration": 13,
    "start_time": "2022-01-10T04:36:47.919Z"
   },
   {
    "duration": 4714,
    "start_time": "2022-01-10T04:36:47.934Z"
   },
   {
    "duration": 24,
    "start_time": "2022-01-10T04:36:52.650Z"
   },
   {
    "duration": 30,
    "start_time": "2022-01-10T04:36:52.676Z"
   },
   {
    "duration": 60,
    "start_time": "2022-01-10T04:36:52.708Z"
   },
   {
    "duration": 15,
    "start_time": "2022-01-10T04:36:52.770Z"
   },
   {
    "duration": 33,
    "start_time": "2022-01-10T04:36:52.787Z"
   },
   {
    "duration": 42,
    "start_time": "2022-01-10T04:36:52.822Z"
   },
   {
    "duration": 20,
    "start_time": "2022-01-10T04:36:52.866Z"
   },
   {
    "duration": 18,
    "start_time": "2022-01-10T04:36:52.888Z"
   },
   {
    "duration": 19,
    "start_time": "2022-01-10T04:36:52.908Z"
   },
   {
    "duration": 53,
    "start_time": "2022-01-10T04:36:52.929Z"
   },
   {
    "duration": 26,
    "start_time": "2022-01-10T04:36:52.984Z"
   },
   {
    "duration": 52,
    "start_time": "2022-01-10T04:36:53.012Z"
   },
   {
    "duration": 115,
    "start_time": "2022-01-10T04:36:53.067Z"
   },
   {
    "duration": 167,
    "start_time": "2022-01-10T04:36:53.017Z"
   },
   {
    "duration": 1279,
    "start_time": "2022-01-10T04:48:11.632Z"
   },
   {
    "duration": 159,
    "start_time": "2022-01-10T04:48:22.727Z"
   },
   {
    "duration": 1040,
    "start_time": "2022-01-10T04:48:29.629Z"
   },
   {
    "duration": 28,
    "start_time": "2022-01-10T04:48:30.671Z"
   },
   {
    "duration": 19,
    "start_time": "2022-01-10T04:48:30.702Z"
   },
   {
    "duration": 10,
    "start_time": "2022-01-10T04:48:30.724Z"
   },
   {
    "duration": 10,
    "start_time": "2022-01-10T04:48:30.764Z"
   },
   {
    "duration": 20,
    "start_time": "2022-01-10T04:48:30.777Z"
   },
   {
    "duration": 24,
    "start_time": "2022-01-10T04:48:30.800Z"
   },
   {
    "duration": 43,
    "start_time": "2022-01-10T04:48:30.828Z"
   },
   {
    "duration": 11,
    "start_time": "2022-01-10T04:48:30.875Z"
   },
   {
    "duration": 16,
    "start_time": "2022-01-10T04:48:30.889Z"
   },
   {
    "duration": 18,
    "start_time": "2022-01-10T04:48:30.907Z"
   },
   {
    "duration": 56,
    "start_time": "2022-01-10T04:48:30.927Z"
   },
   {
    "duration": 3,
    "start_time": "2022-01-10T04:48:30.986Z"
   },
   {
    "duration": 55,
    "start_time": "2022-01-10T04:48:30.991Z"
   },
   {
    "duration": 43,
    "start_time": "2022-01-10T04:48:31.049Z"
   },
   {
    "duration": 25,
    "start_time": "2022-01-10T04:48:31.094Z"
   },
   {
    "duration": 19,
    "start_time": "2022-01-10T04:48:31.122Z"
   },
   {
    "duration": 13,
    "start_time": "2022-01-10T04:48:31.143Z"
   },
   {
    "duration": 16,
    "start_time": "2022-01-10T04:48:31.158Z"
   },
   {
    "duration": 25,
    "start_time": "2022-01-10T04:48:31.176Z"
   },
   {
    "duration": 37,
    "start_time": "2022-01-10T04:48:31.204Z"
   },
   {
    "duration": 10,
    "start_time": "2022-01-10T04:48:31.243Z"
   },
   {
    "duration": 25,
    "start_time": "2022-01-10T04:48:31.266Z"
   },
   {
    "duration": 31,
    "start_time": "2022-01-10T04:48:31.295Z"
   },
   {
    "duration": 72,
    "start_time": "2022-01-10T04:48:31.328Z"
   },
   {
    "duration": 11,
    "start_time": "2022-01-10T04:48:31.402Z"
   },
   {
    "duration": 13,
    "start_time": "2022-01-10T04:48:31.416Z"
   },
   {
    "duration": 4483,
    "start_time": "2022-01-10T04:48:31.432Z"
   },
   {
    "duration": 17,
    "start_time": "2022-01-10T04:48:35.919Z"
   },
   {
    "duration": 50,
    "start_time": "2022-01-10T04:48:35.939Z"
   },
   {
    "duration": 31,
    "start_time": "2022-01-10T04:48:35.992Z"
   },
   {
    "duration": 39,
    "start_time": "2022-01-10T04:48:36.025Z"
   },
   {
    "duration": 33,
    "start_time": "2022-01-10T04:48:36.067Z"
   },
   {
    "duration": 18,
    "start_time": "2022-01-10T04:48:36.103Z"
   },
   {
    "duration": 50,
    "start_time": "2022-01-10T04:48:36.124Z"
   },
   {
    "duration": 21,
    "start_time": "2022-01-10T04:48:36.178Z"
   },
   {
    "duration": 62,
    "start_time": "2022-01-10T04:48:36.202Z"
   },
   {
    "duration": 23,
    "start_time": "2022-01-10T04:48:36.267Z"
   },
   {
    "duration": 28,
    "start_time": "2022-01-10T04:48:36.293Z"
   },
   {
    "duration": 58,
    "start_time": "2022-01-10T04:48:36.325Z"
   },
   {
    "duration": 90,
    "start_time": "2022-01-10T04:48:36.386Z"
   },
   {
    "duration": 303,
    "start_time": "2022-01-10T04:48:36.176Z"
   },
   {
    "duration": 297,
    "start_time": "2022-01-10T04:48:36.183Z"
   },
   {
    "duration": 374,
    "start_time": "2022-01-10T04:48:48.723Z"
   },
   {
    "duration": 26,
    "start_time": "2022-01-10T04:49:07.452Z"
   },
   {
    "duration": 94,
    "start_time": "2022-01-10T04:50:06.908Z"
   },
   {
    "duration": 116,
    "start_time": "2022-01-10T04:50:23.335Z"
   },
   {
    "duration": 37,
    "start_time": "2022-01-10T04:50:54.700Z"
   },
   {
    "duration": 30,
    "start_time": "2022-01-10T04:51:10.788Z"
   },
   {
    "duration": 97,
    "start_time": "2022-01-10T04:51:36.205Z"
   },
   {
    "duration": 30,
    "start_time": "2022-01-10T04:51:51.076Z"
   },
   {
    "duration": 299,
    "start_time": "2022-01-10T04:54:06.632Z"
   },
   {
    "duration": 31,
    "start_time": "2022-01-10T04:54:41.493Z"
   },
   {
    "duration": 31,
    "start_time": "2022-01-10T04:55:13.703Z"
   },
   {
    "duration": 312,
    "start_time": "2022-01-10T04:55:18.029Z"
   },
   {
    "duration": 32,
    "start_time": "2022-01-10T04:55:25.676Z"
   },
   {
    "duration": 30,
    "start_time": "2022-01-10T04:55:49.765Z"
   },
   {
    "duration": 30,
    "start_time": "2022-01-10T04:56:04.228Z"
   },
   {
    "duration": 29,
    "start_time": "2022-01-10T04:56:20.895Z"
   },
   {
    "duration": 94,
    "start_time": "2022-01-10T04:56:52.574Z"
   },
   {
    "duration": 99,
    "start_time": "2022-01-10T04:56:57.206Z"
   },
   {
    "duration": 327,
    "start_time": "2022-01-10T04:57:03.893Z"
   },
   {
    "duration": 30,
    "start_time": "2022-01-10T04:57:12.628Z"
   },
   {
    "duration": 100,
    "start_time": "2022-01-10T04:57:24.405Z"
   },
   {
    "duration": 29,
    "start_time": "2022-01-10T04:57:39.878Z"
   },
   {
    "duration": 311,
    "start_time": "2022-01-10T04:58:33.966Z"
   },
   {
    "duration": 37,
    "start_time": "2022-01-10T04:58:55.807Z"
   },
   {
    "duration": 32,
    "start_time": "2022-01-10T04:59:06.565Z"
   },
   {
    "duration": 325,
    "start_time": "2022-01-10T05:00:00.974Z"
   },
   {
    "duration": 31,
    "start_time": "2022-01-10T05:01:18.989Z"
   },
   {
    "duration": 895,
    "start_time": "2022-01-10T05:17:13.842Z"
   },
   {
    "duration": 30,
    "start_time": "2022-01-10T05:17:14.743Z"
   },
   {
    "duration": 14,
    "start_time": "2022-01-10T05:17:14.776Z"
   },
   {
    "duration": 7,
    "start_time": "2022-01-10T05:17:14.792Z"
   },
   {
    "duration": 9,
    "start_time": "2022-01-10T05:17:14.801Z"
   },
   {
    "duration": 56,
    "start_time": "2022-01-10T05:17:14.813Z"
   },
   {
    "duration": 16,
    "start_time": "2022-01-10T05:17:14.873Z"
   },
   {
    "duration": 21,
    "start_time": "2022-01-10T05:17:14.892Z"
   },
   {
    "duration": 7,
    "start_time": "2022-01-10T05:17:14.916Z"
   },
   {
    "duration": 45,
    "start_time": "2022-01-10T05:17:14.925Z"
   },
   {
    "duration": 17,
    "start_time": "2022-01-10T05:17:14.973Z"
   },
   {
    "duration": 26,
    "start_time": "2022-01-10T05:17:14.993Z"
   },
   {
    "duration": 45,
    "start_time": "2022-01-10T05:17:15.021Z"
   },
   {
    "duration": 16,
    "start_time": "2022-01-10T05:17:15.068Z"
   },
   {
    "duration": 20,
    "start_time": "2022-01-10T05:17:15.087Z"
   },
   {
    "duration": 14,
    "start_time": "2022-01-10T05:17:15.109Z"
   },
   {
    "duration": 46,
    "start_time": "2022-01-10T05:17:15.125Z"
   },
   {
    "duration": 8,
    "start_time": "2022-01-10T05:17:15.174Z"
   },
   {
    "duration": 6,
    "start_time": "2022-01-10T05:17:15.184Z"
   },
   {
    "duration": 8,
    "start_time": "2022-01-10T05:17:15.193Z"
   },
   {
    "duration": 69,
    "start_time": "2022-01-10T05:17:15.203Z"
   },
   {
    "duration": 9,
    "start_time": "2022-01-10T05:17:15.276Z"
   },
   {
    "duration": 26,
    "start_time": "2022-01-10T05:17:15.288Z"
   },
   {
    "duration": 53,
    "start_time": "2022-01-10T05:17:15.316Z"
   },
   {
    "duration": 41,
    "start_time": "2022-01-10T05:17:15.371Z"
   },
   {
    "duration": 10,
    "start_time": "2022-01-10T05:17:15.414Z"
   },
   {
    "duration": 36,
    "start_time": "2022-01-10T05:17:15.427Z"
   },
   {
    "duration": 4449,
    "start_time": "2022-01-10T05:17:15.465Z"
   },
   {
    "duration": 19,
    "start_time": "2022-01-10T05:17:19.916Z"
   },
   {
    "duration": 48,
    "start_time": "2022-01-10T05:17:19.937Z"
   },
   {
    "duration": 32,
    "start_time": "2022-01-10T05:17:19.987Z"
   },
   {
    "duration": 43,
    "start_time": "2022-01-10T05:17:20.021Z"
   },
   {
    "duration": 32,
    "start_time": "2022-01-10T05:17:20.067Z"
   },
   {
    "duration": 15,
    "start_time": "2022-01-10T05:17:20.102Z"
   },
   {
    "duration": 47,
    "start_time": "2022-01-10T05:17:20.119Z"
   },
   {
    "duration": 18,
    "start_time": "2022-01-10T05:17:20.169Z"
   },
   {
    "duration": 18,
    "start_time": "2022-01-10T05:17:20.189Z"
   },
   {
    "duration": 54,
    "start_time": "2022-01-10T05:17:20.209Z"
   },
   {
    "duration": 27,
    "start_time": "2022-01-10T05:17:20.266Z"
   },
   {
    "duration": 25,
    "start_time": "2022-01-10T05:17:20.296Z"
   },
   {
    "duration": 61,
    "start_time": "2022-01-10T05:17:20.323Z"
   },
   {
    "duration": 30,
    "start_time": "2022-01-10T05:17:20.387Z"
   },
   {
    "duration": 369,
    "start_time": "2022-01-10T05:20:50.497Z"
   },
   {
    "duration": 17,
    "start_time": "2022-01-10T05:22:43.027Z"
   },
   {
    "duration": 11,
    "start_time": "2022-01-10T05:23:18.730Z"
   },
   {
    "duration": 1062,
    "start_time": "2022-01-10T16:38:21.338Z"
   },
   {
    "duration": 36,
    "start_time": "2022-01-10T16:38:22.402Z"
   },
   {
    "duration": 32,
    "start_time": "2022-01-10T16:38:22.442Z"
   },
   {
    "duration": 10,
    "start_time": "2022-01-10T16:38:22.478Z"
   },
   {
    "duration": 13,
    "start_time": "2022-01-10T16:38:22.491Z"
   },
   {
    "duration": 65,
    "start_time": "2022-01-10T16:38:22.507Z"
   },
   {
    "duration": 23,
    "start_time": "2022-01-10T16:38:22.575Z"
   },
   {
    "duration": 73,
    "start_time": "2022-01-10T16:38:22.603Z"
   },
   {
    "duration": 2,
    "start_time": "2022-01-10T16:38:22.679Z"
   },
   {
    "duration": 14,
    "start_time": "2022-01-10T16:38:22.684Z"
   },
   {
    "duration": 81,
    "start_time": "2022-01-10T16:38:22.702Z"
   },
   {
    "duration": 16,
    "start_time": "2022-01-10T16:38:22.786Z"
   },
   {
    "duration": 76,
    "start_time": "2022-01-10T16:38:22.805Z"
   },
   {
    "duration": 11,
    "start_time": "2022-01-10T16:38:22.884Z"
   },
   {
    "duration": 69,
    "start_time": "2022-01-10T16:38:22.897Z"
   },
   {
    "duration": 9,
    "start_time": "2022-01-10T16:38:22.968Z"
   },
   {
    "duration": 11,
    "start_time": "2022-01-10T16:38:22.980Z"
   },
   {
    "duration": 8,
    "start_time": "2022-01-10T16:38:22.993Z"
   },
   {
    "duration": 59,
    "start_time": "2022-01-10T16:38:23.003Z"
   },
   {
    "duration": 9,
    "start_time": "2022-01-10T16:38:23.065Z"
   },
   {
    "duration": 93,
    "start_time": "2022-01-10T16:38:23.076Z"
   },
   {
    "duration": 12,
    "start_time": "2022-01-10T16:38:23.172Z"
   },
   {
    "duration": 74,
    "start_time": "2022-01-10T16:38:23.190Z"
   },
   {
    "duration": 34,
    "start_time": "2022-01-10T16:38:23.269Z"
   },
   {
    "duration": 119,
    "start_time": "2022-01-10T16:38:23.361Z"
   },
   {
    "duration": 15,
    "start_time": "2022-01-10T16:38:23.484Z"
   },
   {
    "duration": 66,
    "start_time": "2022-01-10T16:38:23.502Z"
   },
   {
    "duration": 5746,
    "start_time": "2022-01-10T16:38:23.571Z"
   },
   {
    "duration": 15,
    "start_time": "2022-01-10T16:38:29.320Z"
   },
   {
    "duration": 48,
    "start_time": "2022-01-10T16:38:29.337Z"
   },
   {
    "duration": 71,
    "start_time": "2022-01-10T16:38:29.388Z"
   },
   {
    "duration": 14,
    "start_time": "2022-01-10T16:38:29.463Z"
   },
   {
    "duration": 32,
    "start_time": "2022-01-10T16:38:29.480Z"
   },
   {
    "duration": 55,
    "start_time": "2022-01-10T16:38:29.514Z"
   },
   {
    "duration": 22,
    "start_time": "2022-01-10T16:38:29.571Z"
   },
   {
    "duration": 19,
    "start_time": "2022-01-10T16:38:29.596Z"
   },
   {
    "duration": 56,
    "start_time": "2022-01-10T16:38:29.617Z"
   },
   {
    "duration": 18,
    "start_time": "2022-01-10T16:38:29.675Z"
   },
   {
    "duration": 17,
    "start_time": "2022-01-10T16:38:29.695Z"
   },
   {
    "duration": 53,
    "start_time": "2022-01-10T16:38:29.714Z"
   },
   {
    "duration": 27,
    "start_time": "2022-01-10T16:38:29.769Z"
   },
   {
    "duration": 22,
    "start_time": "2022-01-10T16:38:29.798Z"
   },
   {
    "duration": 59,
    "start_time": "2022-01-10T16:38:29.822Z"
   },
   {
    "duration": 49,
    "start_time": "2022-01-10T16:38:29.884Z"
   },
   {
    "duration": 11,
    "start_time": "2022-01-10T16:39:12.039Z"
   },
   {
    "duration": 17,
    "start_time": "2022-01-10T16:39:17.213Z"
   },
   {
    "duration": 9,
    "start_time": "2022-01-10T16:39:24.923Z"
   },
   {
    "duration": 13,
    "start_time": "2022-01-10T16:39:29.552Z"
   },
   {
    "duration": 8,
    "start_time": "2022-01-10T16:39:34.672Z"
   },
   {
    "duration": 14,
    "start_time": "2022-01-10T16:39:39.042Z"
   },
   {
    "duration": 13,
    "start_time": "2022-01-10T16:40:03.201Z"
   },
   {
    "duration": 16,
    "start_time": "2022-01-10T16:40:09.473Z"
   },
   {
    "duration": 120,
    "start_time": "2022-01-10T16:40:21.545Z"
   },
   {
    "duration": 19,
    "start_time": "2022-01-10T16:40:31.173Z"
   },
   {
    "duration": 5,
    "start_time": "2022-01-10T16:40:57.043Z"
   },
   {
    "duration": 41,
    "start_time": "2022-01-10T16:41:20.087Z"
   },
   {
    "duration": 26,
    "start_time": "2022-01-10T16:41:25.494Z"
   },
   {
    "duration": 32,
    "start_time": "2022-01-10T16:41:49.056Z"
   },
   {
    "duration": 7,
    "start_time": "2022-01-10T16:41:55.265Z"
   },
   {
    "duration": 5,
    "start_time": "2022-01-10T16:42:00.664Z"
   },
   {
    "duration": 8580,
    "start_time": "2022-01-10T16:42:07.694Z"
   },
   {
    "duration": 18,
    "start_time": "2022-01-10T16:47:49.958Z"
   },
   {
    "duration": 659,
    "start_time": "2022-01-21T03:25:53.166Z"
   },
   {
    "duration": 17,
    "start_time": "2022-01-21T03:25:53.828Z"
   },
   {
    "duration": 10,
    "start_time": "2022-01-21T03:25:53.847Z"
   },
   {
    "duration": 6,
    "start_time": "2022-01-21T03:25:53.859Z"
   },
   {
    "duration": 8,
    "start_time": "2022-01-21T03:25:53.866Z"
   },
   {
    "duration": 15,
    "start_time": "2022-01-21T03:25:53.875Z"
   },
   {
    "duration": 12,
    "start_time": "2022-01-21T03:25:53.892Z"
   },
   {
    "duration": 41,
    "start_time": "2022-01-21T03:25:53.907Z"
   },
   {
    "duration": 3,
    "start_time": "2022-01-21T03:25:53.950Z"
   },
   {
    "duration": 11,
    "start_time": "2022-01-21T03:25:53.954Z"
   },
   {
    "duration": 8,
    "start_time": "2022-01-21T03:25:53.966Z"
   },
   {
    "duration": 11,
    "start_time": "2022-01-21T03:25:53.975Z"
   },
   {
    "duration": 6,
    "start_time": "2022-01-21T03:25:53.988Z"
   },
   {
    "duration": 11,
    "start_time": "2022-01-21T03:25:53.996Z"
   },
   {
    "duration": 33,
    "start_time": "2022-01-21T03:25:54.009Z"
   },
   {
    "duration": 10,
    "start_time": "2022-01-21T03:25:54.043Z"
   },
   {
    "duration": 8,
    "start_time": "2022-01-21T03:25:54.054Z"
   },
   {
    "duration": 11,
    "start_time": "2022-01-21T03:25:54.063Z"
   },
   {
    "duration": 295,
    "start_time": "2022-01-21T03:25:54.076Z"
   },
   {
    "duration": -30,
    "start_time": "2022-01-21T03:25:54.405Z"
   },
   {
    "duration": -32,
    "start_time": "2022-01-21T03:25:54.409Z"
   },
   {
    "duration": -37,
    "start_time": "2022-01-21T03:25:54.415Z"
   },
   {
    "duration": -40,
    "start_time": "2022-01-21T03:25:54.419Z"
   },
   {
    "duration": -42,
    "start_time": "2022-01-21T03:25:54.423Z"
   },
   {
    "duration": -44,
    "start_time": "2022-01-21T03:25:54.426Z"
   },
   {
    "duration": -48,
    "start_time": "2022-01-21T03:25:54.431Z"
   },
   {
    "duration": -49,
    "start_time": "2022-01-21T03:25:54.434Z"
   },
   {
    "duration": -52,
    "start_time": "2022-01-21T03:25:54.438Z"
   },
   {
    "duration": -54,
    "start_time": "2022-01-21T03:25:54.442Z"
   },
   {
    "duration": -57,
    "start_time": "2022-01-21T03:25:54.446Z"
   },
   {
    "duration": -61,
    "start_time": "2022-01-21T03:25:54.451Z"
   },
   {
    "duration": -62,
    "start_time": "2022-01-21T03:25:54.454Z"
   },
   {
    "duration": -65,
    "start_time": "2022-01-21T03:25:54.458Z"
   },
   {
    "duration": -68,
    "start_time": "2022-01-21T03:25:54.462Z"
   },
   {
    "duration": -70,
    "start_time": "2022-01-21T03:25:54.466Z"
   },
   {
    "duration": -73,
    "start_time": "2022-01-21T03:25:54.470Z"
   },
   {
    "duration": -77,
    "start_time": "2022-01-21T03:25:54.475Z"
   },
   {
    "duration": -79,
    "start_time": "2022-01-21T03:25:54.478Z"
   },
   {
    "duration": -82,
    "start_time": "2022-01-21T03:25:54.482Z"
   },
   {
    "duration": -85,
    "start_time": "2022-01-21T03:25:54.486Z"
   },
   {
    "duration": -88,
    "start_time": "2022-01-21T03:25:54.490Z"
   },
   {
    "duration": -91,
    "start_time": "2022-01-21T03:25:54.494Z"
   },
   {
    "duration": -103,
    "start_time": "2022-01-21T03:25:54.507Z"
   },
   {
    "duration": -106,
    "start_time": "2022-01-21T03:25:54.511Z"
   },
   {
    "duration": -110,
    "start_time": "2022-01-21T03:25:54.516Z"
   },
   {
    "duration": -114,
    "start_time": "2022-01-21T03:25:54.520Z"
   },
   {
    "duration": -117,
    "start_time": "2022-01-21T03:25:54.524Z"
   },
   {
    "duration": -119,
    "start_time": "2022-01-21T03:25:54.527Z"
   },
   {
    "duration": -123,
    "start_time": "2022-01-21T03:25:54.531Z"
   },
   {
    "duration": -126,
    "start_time": "2022-01-21T03:25:54.535Z"
   },
   {
    "duration": -129,
    "start_time": "2022-01-21T03:25:54.539Z"
   },
   {
    "duration": -131,
    "start_time": "2022-01-21T03:25:54.542Z"
   },
   {
    "duration": -136,
    "start_time": "2022-01-21T03:25:54.547Z"
   },
   {
    "duration": -138,
    "start_time": "2022-01-21T03:25:54.550Z"
   },
   {
    "duration": -141,
    "start_time": "2022-01-21T03:25:54.554Z"
   },
   {
    "duration": -145,
    "start_time": "2022-01-21T03:25:54.558Z"
   },
   {
    "duration": -150,
    "start_time": "2022-01-21T03:25:54.564Z"
   },
   {
    "duration": -153,
    "start_time": "2022-01-21T03:25:54.568Z"
   },
   {
    "duration": -157,
    "start_time": "2022-01-21T03:25:54.572Z"
   },
   {
    "duration": -134,
    "start_time": "2022-01-21T03:25:54.575Z"
   },
   {
    "duration": -138,
    "start_time": "2022-01-21T03:25:54.579Z"
   },
   {
    "duration": -141,
    "start_time": "2022-01-21T03:25:54.583Z"
   },
   {
    "duration": -145,
    "start_time": "2022-01-21T03:25:54.588Z"
   },
   {
    "duration": -148,
    "start_time": "2022-01-21T03:25:54.592Z"
   },
   {
    "duration": 609,
    "start_time": "2022-01-21T04:02:56.085Z"
   },
   {
    "duration": 17,
    "start_time": "2022-01-21T04:02:56.696Z"
   },
   {
    "duration": 10,
    "start_time": "2022-01-21T04:02:56.717Z"
   },
   {
    "duration": 15,
    "start_time": "2022-01-21T04:02:56.728Z"
   },
   {
    "duration": 7,
    "start_time": "2022-01-21T04:02:56.744Z"
   },
   {
    "duration": 8,
    "start_time": "2022-01-21T04:02:56.752Z"
   },
   {
    "duration": 15,
    "start_time": "2022-01-21T04:02:56.763Z"
   },
   {
    "duration": 11,
    "start_time": "2022-01-21T04:02:56.780Z"
   },
   {
    "duration": 2,
    "start_time": "2022-01-21T04:02:56.793Z"
   },
   {
    "duration": 13,
    "start_time": "2022-01-21T04:02:56.796Z"
   },
   {
    "duration": 51,
    "start_time": "2022-01-21T04:02:56.810Z"
   },
   {
    "duration": 13,
    "start_time": "2022-01-21T04:02:56.863Z"
   },
   {
    "duration": 17,
    "start_time": "2022-01-21T04:02:56.878Z"
   },
   {
    "duration": 10,
    "start_time": "2022-01-21T04:02:56.896Z"
   },
   {
    "duration": 35,
    "start_time": "2022-01-21T04:02:56.907Z"
   },
   {
    "duration": 27,
    "start_time": "2022-01-21T04:02:56.944Z"
   },
   {
    "duration": 20,
    "start_time": "2022-01-21T04:02:56.972Z"
   },
   {
    "duration": 28,
    "start_time": "2022-01-21T04:02:56.994Z"
   },
   {
    "duration": 20,
    "start_time": "2022-01-21T04:02:57.023Z"
   },
   {
    "duration": 12,
    "start_time": "2022-01-21T04:02:57.044Z"
   },
   {
    "duration": 20,
    "start_time": "2022-01-21T04:02:57.058Z"
   },
   {
    "duration": 16,
    "start_time": "2022-01-21T04:02:57.081Z"
   },
   {
    "duration": 26,
    "start_time": "2022-01-21T04:02:57.099Z"
   },
   {
    "duration": 26,
    "start_time": "2022-01-21T04:02:57.128Z"
   },
   {
    "duration": 21,
    "start_time": "2022-01-21T04:02:57.156Z"
   },
   {
    "duration": 25,
    "start_time": "2022-01-21T04:02:57.180Z"
   },
   {
    "duration": 21,
    "start_time": "2022-01-21T04:02:57.207Z"
   },
   {
    "duration": 33,
    "start_time": "2022-01-21T04:02:57.230Z"
   },
   {
    "duration": 8,
    "start_time": "2022-01-21T04:02:57.266Z"
   },
   {
    "duration": 8,
    "start_time": "2022-01-21T04:02:57.276Z"
   },
   {
    "duration": 3371,
    "start_time": "2022-01-21T04:02:57.286Z"
   },
   {
    "duration": 11,
    "start_time": "2022-01-21T04:03:00.659Z"
   },
   {
    "duration": 18,
    "start_time": "2022-01-21T04:03:00.671Z"
   },
   {
    "duration": 19,
    "start_time": "2022-01-21T04:03:00.691Z"
   },
   {
    "duration": 33,
    "start_time": "2022-01-21T04:03:00.712Z"
   },
   {
    "duration": 24,
    "start_time": "2022-01-21T04:03:00.747Z"
   },
   {
    "duration": 11,
    "start_time": "2022-01-21T04:03:00.773Z"
   },
   {
    "duration": 14,
    "start_time": "2022-01-21T04:03:00.785Z"
   },
   {
    "duration": 39,
    "start_time": "2022-01-21T04:03:00.801Z"
   },
   {
    "duration": 24,
    "start_time": "2022-01-21T04:03:00.842Z"
   },
   {
    "duration": 42,
    "start_time": "2022-01-21T04:03:00.868Z"
   },
   {
    "duration": 13,
    "start_time": "2022-01-21T04:03:00.912Z"
   },
   {
    "duration": 23,
    "start_time": "2022-01-21T04:03:00.926Z"
   },
   {
    "duration": 15,
    "start_time": "2022-01-21T04:03:00.951Z"
   },
   {
    "duration": 20,
    "start_time": "2022-01-21T04:03:00.968Z"
   },
   {
    "duration": 19,
    "start_time": "2022-01-21T04:03:00.990Z"
   }
  ],
  "kernelspec": {
   "display_name": "Python 3",
   "language": "python",
   "name": "python3"
  },
  "language_info": {
   "codemirror_mode": {
    "name": "ipython",
    "version": 3
   },
   "file_extension": ".py",
   "mimetype": "text/x-python",
   "name": "python",
   "nbconvert_exporter": "python",
   "pygments_lexer": "ipython3",
   "version": "3.7.8"
  },
  "toc": {
   "base_numbering": 1,
   "nav_menu": {},
   "number_sections": true,
   "sideBar": true,
   "skip_h1_title": true,
   "title_cell": "Table of Contents",
   "title_sidebar": "Contents",
   "toc_cell": false,
   "toc_position": {
    "height": "calc(100% - 180px)",
    "left": "10px",
    "top": "150px",
    "width": "291.81px"
   },
   "toc_section_display": true,
   "toc_window_display": true
  }
 },
 "nbformat": 4,
 "nbformat_minor": 2
}
